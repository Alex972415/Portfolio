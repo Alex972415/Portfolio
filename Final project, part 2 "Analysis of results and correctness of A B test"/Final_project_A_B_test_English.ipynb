{
 "cells": [
  {
   "cell_type": "markdown",
   "id": "5fecb438",
   "metadata": {},
   "source": [
    "# Final project, part 2 \"Analysis of results and correctness of A/B test\""
   ]
  },
  {
   "cell_type": "markdown",
   "id": "2391fb8d",
   "metadata": {},
   "source": [
    "## Description and objectives of the project\n",
    "Our task is to evaluate the results of the A/B test. We have a dataset with user actions, a technical task and several auxiliary datasets at our disposal.\n",
    "We need to evaluate the correctness of the test and analyze its results.\n",
    "The most important stages of verification:\n",
    "- make sure that there are no intersections with a competing test and there are no users participating in two test groups at the same time;\n",
    "- check the uniformity of the distribution of users in test groups and the correctness of their formation;\n",
    "- determine the users participating in the test;\n",
    "\n",
    "To determine which users participate in the test, you need to:\n",
    "- check who is participating in the test according to the task;\n",
    "- next, from the user data, leave only those who came from the target region;\n",
    "- next, it is necessary to leave out of the received users those who did not get into both groups of the test and those who did not get into group B of the competing test;\n",
    "- finally, the remaining users need to check whether they have committed events or not. It is necessary to leave only those users who committed the events;"
   ]
  },
  {
   "cell_type": "markdown",
   "id": "8b9a327f",
   "metadata": {},
   "source": [
    "## Technical specification\n",
    "- Name of the test: recommender_system_test ;\n",
    "- Groups: A (control), B (new payment funnel);\n",
    "- Launch Date: 2020-12-07;\n",
    "- Date of stopping the recruitment of new users: 2020-12-21;\n",
    "- Stop date: 2021-01-04;\n",
    "- Expected number of test participants: 15% of new users from the EU region;\n",
    "- Purpose of the test: testing of changes related to the implementation of an improved recommendation system;\n",
    "- Expected effect: in 14 days from the moment of registration in the system, users will show an improvement in each metric by at least 5 percentage points:\n",
    "  - conversions to product card views — product_page event\n",
    "  - cart views — product_cart\n",
    "  - purchases — purchase"
   ]
  },
  {
   "cell_type": "markdown",
   "id": "b2b8856b",
   "metadata": {},
   "source": [
    "## Work plan:\n",
    "1. Open the data file and study the general information\n",
    "2. We will perform data preprocessing, try to fill in the gaps, check the data for the presence of explicit and implicit duplicates, change the data type if necessary.\n",
    "3. Let's evaluate the correctness of the test.\n",
    "4. We will conduct a research analysis of the data.\n",
    "5. We will evaluate the results of A/B testing.\n",
    "6. We will write a conclusion about the information received during the study."
   ]
  },
  {
   "cell_type": "markdown",
   "id": "b72d93ea",
   "metadata": {},
   "source": [
    "## 1. Loading data"
   ]
  },
  {
   "cell_type": "code",
   "execution_count": 1,
   "id": "db93ab23",
   "metadata": {},
   "outputs": [],
   "source": [
    "# Importing the libraries that we will need in this project\n",
    "import pandas as pd\n",
    "import datetime as dt\n",
    "import numpy as np\n",
    "import matplotlib.pyplot as plt\n",
    "import scipy.stats as stats\n",
    "import warnings\n",
    "import math as mth\n",
    "from scipy import stats as st\n",
    "import seaborn as sns\n",
    "from plotly import graph_objects as go\n",
    "import plotly.express as px\n",
    "from statsmodels.stats.proportion import proportions_ztest\n",
    "from datetime import datetime, timedelta\n",
    "warnings.simplefilter(\"ignore\")\n",
    "pd.set_option('display.max_columns', None)\n",
    "pd.set_option('display.max_rows', None)\n",
    "pd.options.display.max_colwidth = 400"
   ]
  },
  {
   "cell_type": "code",
   "execution_count": 2,
   "id": "1da6973f",
   "metadata": {},
   "outputs": [],
   "source": [
    "# Let's read the data from the csv file into a dataframe, save it to a variable, \n",
    "# and study the general information about the table\n",
    "try:\n",
    "    marketing_events = pd.read_csv('ab_project_marketing_events.csv')\n",
    "except:\n",
    "    marketing_events = pd.read_csv('https://code.s3.yandex.net/datasets/ab_project_marketing_events.csv')"
   ]
  },
  {
   "cell_type": "code",
   "execution_count": 3,
   "id": "316f3da9",
   "metadata": {},
   "outputs": [
    {
     "data": {
      "text/html": [
       "<div>\n",
       "<style scoped>\n",
       "    .dataframe tbody tr th:only-of-type {\n",
       "        vertical-align: middle;\n",
       "    }\n",
       "\n",
       "    .dataframe tbody tr th {\n",
       "        vertical-align: top;\n",
       "    }\n",
       "\n",
       "    .dataframe thead th {\n",
       "        text-align: right;\n",
       "    }\n",
       "</style>\n",
       "<table border=\"1\" class=\"dataframe\">\n",
       "  <thead>\n",
       "    <tr style=\"text-align: right;\">\n",
       "      <th></th>\n",
       "      <th>name</th>\n",
       "      <th>regions</th>\n",
       "      <th>start_dt</th>\n",
       "      <th>finish_dt</th>\n",
       "    </tr>\n",
       "  </thead>\n",
       "  <tbody>\n",
       "    <tr>\n",
       "      <th>0</th>\n",
       "      <td>Christmas&amp;New Year Promo</td>\n",
       "      <td>EU, N.America</td>\n",
       "      <td>2020-12-25</td>\n",
       "      <td>2021-01-03</td>\n",
       "    </tr>\n",
       "    <tr>\n",
       "      <th>1</th>\n",
       "      <td>St. Valentine's Day Giveaway</td>\n",
       "      <td>EU, CIS, APAC, N.America</td>\n",
       "      <td>2020-02-14</td>\n",
       "      <td>2020-02-16</td>\n",
       "    </tr>\n",
       "    <tr>\n",
       "      <th>2</th>\n",
       "      <td>St. Patric's Day Promo</td>\n",
       "      <td>EU, N.America</td>\n",
       "      <td>2020-03-17</td>\n",
       "      <td>2020-03-19</td>\n",
       "    </tr>\n",
       "    <tr>\n",
       "      <th>3</th>\n",
       "      <td>Easter Promo</td>\n",
       "      <td>EU, CIS, APAC, N.America</td>\n",
       "      <td>2020-04-12</td>\n",
       "      <td>2020-04-19</td>\n",
       "    </tr>\n",
       "    <tr>\n",
       "      <th>4</th>\n",
       "      <td>4th of July Promo</td>\n",
       "      <td>N.America</td>\n",
       "      <td>2020-07-04</td>\n",
       "      <td>2020-07-11</td>\n",
       "    </tr>\n",
       "    <tr>\n",
       "      <th>5</th>\n",
       "      <td>Black Friday Ads Campaign</td>\n",
       "      <td>EU, CIS, APAC, N.America</td>\n",
       "      <td>2020-11-26</td>\n",
       "      <td>2020-12-01</td>\n",
       "    </tr>\n",
       "    <tr>\n",
       "      <th>6</th>\n",
       "      <td>Chinese New Year Promo</td>\n",
       "      <td>APAC</td>\n",
       "      <td>2020-01-25</td>\n",
       "      <td>2020-02-07</td>\n",
       "    </tr>\n",
       "    <tr>\n",
       "      <th>7</th>\n",
       "      <td>Labor day (May 1st) Ads Campaign</td>\n",
       "      <td>EU, CIS, APAC</td>\n",
       "      <td>2020-05-01</td>\n",
       "      <td>2020-05-03</td>\n",
       "    </tr>\n",
       "    <tr>\n",
       "      <th>8</th>\n",
       "      <td>International Women's Day Promo</td>\n",
       "      <td>EU, CIS, APAC</td>\n",
       "      <td>2020-03-08</td>\n",
       "      <td>2020-03-10</td>\n",
       "    </tr>\n",
       "    <tr>\n",
       "      <th>9</th>\n",
       "      <td>Victory Day CIS (May 9th) Event</td>\n",
       "      <td>CIS</td>\n",
       "      <td>2020-05-09</td>\n",
       "      <td>2020-05-11</td>\n",
       "    </tr>\n",
       "  </tbody>\n",
       "</table>\n",
       "</div>"
      ],
      "text/plain": [
       "                               name                   regions    start_dt  \\\n",
       "0          Christmas&New Year Promo             EU, N.America  2020-12-25   \n",
       "1      St. Valentine's Day Giveaway  EU, CIS, APAC, N.America  2020-02-14   \n",
       "2            St. Patric's Day Promo             EU, N.America  2020-03-17   \n",
       "3                      Easter Promo  EU, CIS, APAC, N.America  2020-04-12   \n",
       "4                 4th of July Promo                 N.America  2020-07-04   \n",
       "5         Black Friday Ads Campaign  EU, CIS, APAC, N.America  2020-11-26   \n",
       "6            Chinese New Year Promo                      APAC  2020-01-25   \n",
       "7  Labor day (May 1st) Ads Campaign             EU, CIS, APAC  2020-05-01   \n",
       "8   International Women's Day Promo             EU, CIS, APAC  2020-03-08   \n",
       "9   Victory Day CIS (May 9th) Event                       CIS  2020-05-09   \n",
       "\n",
       "    finish_dt  \n",
       "0  2021-01-03  \n",
       "1  2020-02-16  \n",
       "2  2020-03-19  \n",
       "3  2020-04-19  \n",
       "4  2020-07-11  \n",
       "5  2020-12-01  \n",
       "6  2020-02-07  \n",
       "7  2020-05-03  \n",
       "8  2020-03-10  \n",
       "9  2020-05-11  "
      ]
     },
     "execution_count": 3,
     "metadata": {},
     "output_type": "execute_result"
    }
   ],
   "source": [
    "marketing_events.head(10)"
   ]
  },
  {
   "cell_type": "code",
   "execution_count": 4,
   "id": "4b21749f",
   "metadata": {},
   "outputs": [
    {
     "name": "stdout",
     "output_type": "stream",
     "text": [
      "<class 'pandas.core.frame.DataFrame'>\n",
      "RangeIndex: 14 entries, 0 to 13\n",
      "Data columns (total 4 columns):\n",
      " #   Column     Non-Null Count  Dtype \n",
      "---  ------     --------------  ----- \n",
      " 0   name       14 non-null     object\n",
      " 1   regions    14 non-null     object\n",
      " 2   start_dt   14 non-null     object\n",
      " 3   finish_dt  14 non-null     object\n",
      "dtypes: object(4)\n",
      "memory usage: 576.0+ bytes\n"
     ]
    }
   ],
   "source": [
    "marketing_events.info()"
   ]
  },
  {
   "cell_type": "code",
   "execution_count": 5,
   "id": "81dbc008",
   "metadata": {},
   "outputs": [],
   "source": [
    "# Let's read the data from the csv file into a dataframe, save it to a variable, \n",
    "# and study the general information about the table\n",
    "try:\n",
    "    new_users = pd.read_csv('final_ab_new_users.csv')\n",
    "except:\n",
    "    new_users = pd.read_csv('https://code.s3.yandex.net/datasets/final_ab_new_users.csv')"
   ]
  },
  {
   "cell_type": "code",
   "execution_count": 6,
   "id": "f9043cbd",
   "metadata": {},
   "outputs": [
    {
     "data": {
      "text/html": [
       "<div>\n",
       "<style scoped>\n",
       "    .dataframe tbody tr th:only-of-type {\n",
       "        vertical-align: middle;\n",
       "    }\n",
       "\n",
       "    .dataframe tbody tr th {\n",
       "        vertical-align: top;\n",
       "    }\n",
       "\n",
       "    .dataframe thead th {\n",
       "        text-align: right;\n",
       "    }\n",
       "</style>\n",
       "<table border=\"1\" class=\"dataframe\">\n",
       "  <thead>\n",
       "    <tr style=\"text-align: right;\">\n",
       "      <th></th>\n",
       "      <th>user_id</th>\n",
       "      <th>first_date</th>\n",
       "      <th>region</th>\n",
       "      <th>device</th>\n",
       "    </tr>\n",
       "  </thead>\n",
       "  <tbody>\n",
       "    <tr>\n",
       "      <th>0</th>\n",
       "      <td>D72A72121175D8BE</td>\n",
       "      <td>2020-12-07</td>\n",
       "      <td>EU</td>\n",
       "      <td>PC</td>\n",
       "    </tr>\n",
       "    <tr>\n",
       "      <th>1</th>\n",
       "      <td>F1C668619DFE6E65</td>\n",
       "      <td>2020-12-07</td>\n",
       "      <td>N.America</td>\n",
       "      <td>Android</td>\n",
       "    </tr>\n",
       "    <tr>\n",
       "      <th>2</th>\n",
       "      <td>2E1BF1D4C37EA01F</td>\n",
       "      <td>2020-12-07</td>\n",
       "      <td>EU</td>\n",
       "      <td>PC</td>\n",
       "    </tr>\n",
       "    <tr>\n",
       "      <th>3</th>\n",
       "      <td>50734A22C0C63768</td>\n",
       "      <td>2020-12-07</td>\n",
       "      <td>EU</td>\n",
       "      <td>iPhone</td>\n",
       "    </tr>\n",
       "    <tr>\n",
       "      <th>4</th>\n",
       "      <td>E1BDDCE0DAFA2679</td>\n",
       "      <td>2020-12-07</td>\n",
       "      <td>N.America</td>\n",
       "      <td>iPhone</td>\n",
       "    </tr>\n",
       "    <tr>\n",
       "      <th>5</th>\n",
       "      <td>137119F5A9E69421</td>\n",
       "      <td>2020-12-07</td>\n",
       "      <td>N.America</td>\n",
       "      <td>iPhone</td>\n",
       "    </tr>\n",
       "    <tr>\n",
       "      <th>6</th>\n",
       "      <td>62F0C741CC42D0CC</td>\n",
       "      <td>2020-12-07</td>\n",
       "      <td>APAC</td>\n",
       "      <td>iPhone</td>\n",
       "    </tr>\n",
       "    <tr>\n",
       "      <th>7</th>\n",
       "      <td>8942E64218C9A1ED</td>\n",
       "      <td>2020-12-07</td>\n",
       "      <td>EU</td>\n",
       "      <td>PC</td>\n",
       "    </tr>\n",
       "    <tr>\n",
       "      <th>8</th>\n",
       "      <td>499AFACF904BBAE3</td>\n",
       "      <td>2020-12-07</td>\n",
       "      <td>N.America</td>\n",
       "      <td>iPhone</td>\n",
       "    </tr>\n",
       "    <tr>\n",
       "      <th>9</th>\n",
       "      <td>FFCEA1179C253104</td>\n",
       "      <td>2020-12-07</td>\n",
       "      <td>EU</td>\n",
       "      <td>Android</td>\n",
       "    </tr>\n",
       "  </tbody>\n",
       "</table>\n",
       "</div>"
      ],
      "text/plain": [
       "            user_id  first_date     region   device\n",
       "0  D72A72121175D8BE  2020-12-07         EU       PC\n",
       "1  F1C668619DFE6E65  2020-12-07  N.America  Android\n",
       "2  2E1BF1D4C37EA01F  2020-12-07         EU       PC\n",
       "3  50734A22C0C63768  2020-12-07         EU   iPhone\n",
       "4  E1BDDCE0DAFA2679  2020-12-07  N.America   iPhone\n",
       "5  137119F5A9E69421  2020-12-07  N.America   iPhone\n",
       "6  62F0C741CC42D0CC  2020-12-07       APAC   iPhone\n",
       "7  8942E64218C9A1ED  2020-12-07         EU       PC\n",
       "8  499AFACF904BBAE3  2020-12-07  N.America   iPhone\n",
       "9  FFCEA1179C253104  2020-12-07         EU  Android"
      ]
     },
     "execution_count": 6,
     "metadata": {},
     "output_type": "execute_result"
    }
   ],
   "source": [
    "new_users.head(10)"
   ]
  },
  {
   "cell_type": "code",
   "execution_count": 7,
   "id": "46352f5d",
   "metadata": {},
   "outputs": [
    {
     "name": "stdout",
     "output_type": "stream",
     "text": [
      "<class 'pandas.core.frame.DataFrame'>\n",
      "RangeIndex: 61733 entries, 0 to 61732\n",
      "Data columns (total 4 columns):\n",
      " #   Column      Non-Null Count  Dtype \n",
      "---  ------      --------------  ----- \n",
      " 0   user_id     61733 non-null  object\n",
      " 1   first_date  61733 non-null  object\n",
      " 2   region      61733 non-null  object\n",
      " 3   device      61733 non-null  object\n",
      "dtypes: object(4)\n",
      "memory usage: 1.9+ MB\n"
     ]
    }
   ],
   "source": [
    "new_users.info()"
   ]
  },
  {
   "cell_type": "code",
   "execution_count": 8,
   "id": "ddd7ca0d",
   "metadata": {},
   "outputs": [],
   "source": [
    "# Let's read the data from the csv file into a dataframe, save it to a variable, \n",
    "# and study the general information about the table\n",
    "try:\n",
    "    events = pd.read_csv('final_ab_events.csv')\n",
    "except:\n",
    "    events = pd.read_csv('https://code.s3.yandex.net/datasets/final_ab_events.csv')"
   ]
  },
  {
   "cell_type": "code",
   "execution_count": 9,
   "id": "0ae8be09",
   "metadata": {},
   "outputs": [
    {
     "data": {
      "text/html": [
       "<div>\n",
       "<style scoped>\n",
       "    .dataframe tbody tr th:only-of-type {\n",
       "        vertical-align: middle;\n",
       "    }\n",
       "\n",
       "    .dataframe tbody tr th {\n",
       "        vertical-align: top;\n",
       "    }\n",
       "\n",
       "    .dataframe thead th {\n",
       "        text-align: right;\n",
       "    }\n",
       "</style>\n",
       "<table border=\"1\" class=\"dataframe\">\n",
       "  <thead>\n",
       "    <tr style=\"text-align: right;\">\n",
       "      <th></th>\n",
       "      <th>user_id</th>\n",
       "      <th>event_dt</th>\n",
       "      <th>event_name</th>\n",
       "      <th>details</th>\n",
       "    </tr>\n",
       "  </thead>\n",
       "  <tbody>\n",
       "    <tr>\n",
       "      <th>0</th>\n",
       "      <td>E1BDDCE0DAFA2679</td>\n",
       "      <td>2020-12-07 20:22:03</td>\n",
       "      <td>purchase</td>\n",
       "      <td>99.99</td>\n",
       "    </tr>\n",
       "    <tr>\n",
       "      <th>1</th>\n",
       "      <td>7B6452F081F49504</td>\n",
       "      <td>2020-12-07 09:22:53</td>\n",
       "      <td>purchase</td>\n",
       "      <td>9.99</td>\n",
       "    </tr>\n",
       "    <tr>\n",
       "      <th>2</th>\n",
       "      <td>9CD9F34546DF254C</td>\n",
       "      <td>2020-12-07 12:59:29</td>\n",
       "      <td>purchase</td>\n",
       "      <td>4.99</td>\n",
       "    </tr>\n",
       "    <tr>\n",
       "      <th>3</th>\n",
       "      <td>96F27A054B191457</td>\n",
       "      <td>2020-12-07 04:02:40</td>\n",
       "      <td>purchase</td>\n",
       "      <td>4.99</td>\n",
       "    </tr>\n",
       "    <tr>\n",
       "      <th>4</th>\n",
       "      <td>1FD7660FDF94CA1F</td>\n",
       "      <td>2020-12-07 10:15:09</td>\n",
       "      <td>purchase</td>\n",
       "      <td>4.99</td>\n",
       "    </tr>\n",
       "    <tr>\n",
       "      <th>5</th>\n",
       "      <td>831887FE7F2D6CBA</td>\n",
       "      <td>2020-12-07 06:50:29</td>\n",
       "      <td>purchase</td>\n",
       "      <td>4.99</td>\n",
       "    </tr>\n",
       "    <tr>\n",
       "      <th>6</th>\n",
       "      <td>6B2F726BFD5F8220</td>\n",
       "      <td>2020-12-07 11:27:42</td>\n",
       "      <td>purchase</td>\n",
       "      <td>4.99</td>\n",
       "    </tr>\n",
       "    <tr>\n",
       "      <th>7</th>\n",
       "      <td>BEB37715AACF53B0</td>\n",
       "      <td>2020-12-07 04:26:15</td>\n",
       "      <td>purchase</td>\n",
       "      <td>4.99</td>\n",
       "    </tr>\n",
       "    <tr>\n",
       "      <th>8</th>\n",
       "      <td>B5FA27F582227197</td>\n",
       "      <td>2020-12-07 01:46:37</td>\n",
       "      <td>purchase</td>\n",
       "      <td>4.99</td>\n",
       "    </tr>\n",
       "    <tr>\n",
       "      <th>9</th>\n",
       "      <td>A92195E3CFB83DBD</td>\n",
       "      <td>2020-12-07 00:32:07</td>\n",
       "      <td>purchase</td>\n",
       "      <td>4.99</td>\n",
       "    </tr>\n",
       "  </tbody>\n",
       "</table>\n",
       "</div>"
      ],
      "text/plain": [
       "            user_id             event_dt event_name  details\n",
       "0  E1BDDCE0DAFA2679  2020-12-07 20:22:03   purchase    99.99\n",
       "1  7B6452F081F49504  2020-12-07 09:22:53   purchase     9.99\n",
       "2  9CD9F34546DF254C  2020-12-07 12:59:29   purchase     4.99\n",
       "3  96F27A054B191457  2020-12-07 04:02:40   purchase     4.99\n",
       "4  1FD7660FDF94CA1F  2020-12-07 10:15:09   purchase     4.99\n",
       "5  831887FE7F2D6CBA  2020-12-07 06:50:29   purchase     4.99\n",
       "6  6B2F726BFD5F8220  2020-12-07 11:27:42   purchase     4.99\n",
       "7  BEB37715AACF53B0  2020-12-07 04:26:15   purchase     4.99\n",
       "8  B5FA27F582227197  2020-12-07 01:46:37   purchase     4.99\n",
       "9  A92195E3CFB83DBD  2020-12-07 00:32:07   purchase     4.99"
      ]
     },
     "execution_count": 9,
     "metadata": {},
     "output_type": "execute_result"
    }
   ],
   "source": [
    "events.head(10)"
   ]
  },
  {
   "cell_type": "code",
   "execution_count": 10,
   "id": "52a9a413",
   "metadata": {},
   "outputs": [
    {
     "name": "stdout",
     "output_type": "stream",
     "text": [
      "<class 'pandas.core.frame.DataFrame'>\n",
      "RangeIndex: 440317 entries, 0 to 440316\n",
      "Data columns (total 4 columns):\n",
      " #   Column      Non-Null Count   Dtype  \n",
      "---  ------      --------------   -----  \n",
      " 0   user_id     440317 non-null  object \n",
      " 1   event_dt    440317 non-null  object \n",
      " 2   event_name  440317 non-null  object \n",
      " 3   details     62740 non-null   float64\n",
      "dtypes: float64(1), object(3)\n",
      "memory usage: 13.4+ MB\n"
     ]
    }
   ],
   "source": [
    "events.info()"
   ]
  },
  {
   "cell_type": "code",
   "execution_count": 11,
   "id": "281af437",
   "metadata": {},
   "outputs": [],
   "source": [
    "# Let's read the data from the csv file into a dataframe, save it to a variable, \n",
    "# and study the general information about the table\n",
    "try:\n",
    "    participants = pd.read_csv('final_ab_participants.csv')\n",
    "except:\n",
    "    participants = pd.read_csv('https://code.s3.yandex.net/datasets/final_ab_participants.csv')"
   ]
  },
  {
   "cell_type": "code",
   "execution_count": 12,
   "id": "1fe68c06",
   "metadata": {},
   "outputs": [
    {
     "data": {
      "text/html": [
       "<div>\n",
       "<style scoped>\n",
       "    .dataframe tbody tr th:only-of-type {\n",
       "        vertical-align: middle;\n",
       "    }\n",
       "\n",
       "    .dataframe tbody tr th {\n",
       "        vertical-align: top;\n",
       "    }\n",
       "\n",
       "    .dataframe thead th {\n",
       "        text-align: right;\n",
       "    }\n",
       "</style>\n",
       "<table border=\"1\" class=\"dataframe\">\n",
       "  <thead>\n",
       "    <tr style=\"text-align: right;\">\n",
       "      <th></th>\n",
       "      <th>user_id</th>\n",
       "      <th>group</th>\n",
       "      <th>ab_test</th>\n",
       "    </tr>\n",
       "  </thead>\n",
       "  <tbody>\n",
       "    <tr>\n",
       "      <th>0</th>\n",
       "      <td>D1ABA3E2887B6A73</td>\n",
       "      <td>A</td>\n",
       "      <td>recommender_system_test</td>\n",
       "    </tr>\n",
       "    <tr>\n",
       "      <th>1</th>\n",
       "      <td>A7A3664BD6242119</td>\n",
       "      <td>A</td>\n",
       "      <td>recommender_system_test</td>\n",
       "    </tr>\n",
       "    <tr>\n",
       "      <th>2</th>\n",
       "      <td>DABC14FDDFADD29E</td>\n",
       "      <td>A</td>\n",
       "      <td>recommender_system_test</td>\n",
       "    </tr>\n",
       "    <tr>\n",
       "      <th>3</th>\n",
       "      <td>04988C5DF189632E</td>\n",
       "      <td>A</td>\n",
       "      <td>recommender_system_test</td>\n",
       "    </tr>\n",
       "    <tr>\n",
       "      <th>4</th>\n",
       "      <td>482F14783456D21B</td>\n",
       "      <td>B</td>\n",
       "      <td>recommender_system_test</td>\n",
       "    </tr>\n",
       "    <tr>\n",
       "      <th>5</th>\n",
       "      <td>4FF2998A348C484F</td>\n",
       "      <td>A</td>\n",
       "      <td>recommender_system_test</td>\n",
       "    </tr>\n",
       "    <tr>\n",
       "      <th>6</th>\n",
       "      <td>7473E0943673C09E</td>\n",
       "      <td>A</td>\n",
       "      <td>recommender_system_test</td>\n",
       "    </tr>\n",
       "    <tr>\n",
       "      <th>7</th>\n",
       "      <td>C46FE336D240A054</td>\n",
       "      <td>A</td>\n",
       "      <td>recommender_system_test</td>\n",
       "    </tr>\n",
       "    <tr>\n",
       "      <th>8</th>\n",
       "      <td>92CB588012C10D3D</td>\n",
       "      <td>A</td>\n",
       "      <td>recommender_system_test</td>\n",
       "    </tr>\n",
       "    <tr>\n",
       "      <th>9</th>\n",
       "      <td>057AB296296C7FC0</td>\n",
       "      <td>B</td>\n",
       "      <td>recommender_system_test</td>\n",
       "    </tr>\n",
       "  </tbody>\n",
       "</table>\n",
       "</div>"
      ],
      "text/plain": [
       "            user_id group                  ab_test\n",
       "0  D1ABA3E2887B6A73     A  recommender_system_test\n",
       "1  A7A3664BD6242119     A  recommender_system_test\n",
       "2  DABC14FDDFADD29E     A  recommender_system_test\n",
       "3  04988C5DF189632E     A  recommender_system_test\n",
       "4  482F14783456D21B     B  recommender_system_test\n",
       "5  4FF2998A348C484F     A  recommender_system_test\n",
       "6  7473E0943673C09E     A  recommender_system_test\n",
       "7  C46FE336D240A054     A  recommender_system_test\n",
       "8  92CB588012C10D3D     A  recommender_system_test\n",
       "9  057AB296296C7FC0     B  recommender_system_test"
      ]
     },
     "execution_count": 12,
     "metadata": {},
     "output_type": "execute_result"
    }
   ],
   "source": [
    "participants.head(10)"
   ]
  },
  {
   "cell_type": "code",
   "execution_count": 13,
   "id": "06a23a28",
   "metadata": {},
   "outputs": [
    {
     "name": "stdout",
     "output_type": "stream",
     "text": [
      "<class 'pandas.core.frame.DataFrame'>\n",
      "RangeIndex: 18268 entries, 0 to 18267\n",
      "Data columns (total 3 columns):\n",
      " #   Column   Non-Null Count  Dtype \n",
      "---  ------   --------------  ----- \n",
      " 0   user_id  18268 non-null  object\n",
      " 1   group    18268 non-null  object\n",
      " 2   ab_test  18268 non-null  object\n",
      "dtypes: object(3)\n",
      "memory usage: 428.3+ KB\n"
     ]
    }
   ],
   "source": [
    "participants.info()"
   ]
  },
  {
   "cell_type": "markdown",
   "id": "bf431dad",
   "metadata": {},
   "source": [
    "### Conclusion: at this stage, we have opened the dataset and studied the general information about the source data"
   ]
  },
  {
   "cell_type": "markdown",
   "id": "4146529d",
   "metadata": {},
   "source": [
    "## 2. Data preprocessing"
   ]
  },
  {
   "cell_type": "markdown",
   "id": "528128b1",
   "metadata": {},
   "source": [
    "**Let's start with the marketing_events table**"
   ]
  },
  {
   "cell_type": "markdown",
   "id": "007b89f3",
   "metadata": {},
   "source": [
    "#### Let's check how many gaps there are in our table"
   ]
  },
  {
   "cell_type": "code",
   "execution_count": 14,
   "id": "337a47c1",
   "metadata": {},
   "outputs": [
    {
     "data": {
      "text/plain": [
       "name         0\n",
       "regions      0\n",
       "start_dt     0\n",
       "finish_dt    0\n",
       "dtype: int64"
      ]
     },
     "execution_count": 14,
     "metadata": {},
     "output_type": "execute_result"
    }
   ],
   "source": [
    "marketing_events.isna().sum()"
   ]
  },
  {
   "cell_type": "markdown",
   "id": "656fb026",
   "metadata": {},
   "source": [
    "**Conclusion: no gaps were detected.**"
   ]
  },
  {
   "cell_type": "markdown",
   "id": "a933bd9c",
   "metadata": {},
   "source": [
    "#### Let's check how many explicit duplicates there are in our table"
   ]
  },
  {
   "cell_type": "code",
   "execution_count": 15,
   "id": "fa191d88",
   "metadata": {},
   "outputs": [
    {
     "data": {
      "text/plain": [
       "0"
      ]
     },
     "execution_count": 15,
     "metadata": {},
     "output_type": "execute_result"
    }
   ],
   "source": [
    "marketing_events.duplicated().sum()"
   ]
  },
  {
   "cell_type": "markdown",
   "id": "3b12c2cb",
   "metadata": {},
   "source": [
    "**Conclusion: no obvious duplicates were found.**"
   ]
  },
  {
   "cell_type": "markdown",
   "id": "6b5c0260",
   "metadata": {},
   "source": [
    "#### Let's check how many implicit duplicates there are in our table"
   ]
  },
  {
   "cell_type": "code",
   "execution_count": 16,
   "id": "2e62b7a2",
   "metadata": {},
   "outputs": [
    {
     "data": {
      "text/plain": [
       "Easter Promo                        1\n",
       "St. Patric's Day Promo              1\n",
       "Single's Day Gift Promo             1\n",
       "Black Friday Ads Campaign           1\n",
       "International Women's Day Promo     1\n",
       "St. Valentine's Day Giveaway        1\n",
       "Chinese New Year Promo              1\n",
       "Victory Day CIS (May 9th) Event     1\n",
       "Chinese Moon Festival               1\n",
       "Dragon Boat Festival Giveaway       1\n",
       "Labor day (May 1st) Ads Campaign    1\n",
       "4th of July Promo                   1\n",
       "Christmas&New Year Promo            1\n",
       "CIS New Year Gift Lottery           1\n",
       "Name: name, dtype: int64"
      ]
     },
     "execution_count": 16,
     "metadata": {},
     "output_type": "execute_result"
    }
   ],
   "source": [
    "# Let's check for implicit duplicates in the name column\n",
    "marketing_events['name'].value_counts()"
   ]
  },
  {
   "cell_type": "markdown",
   "id": "905f48e8",
   "metadata": {},
   "source": [
    "**Conclusion: there are no implicit duplicates in the name column.**"
   ]
  },
  {
   "cell_type": "code",
   "execution_count": 17,
   "id": "dad018b4",
   "metadata": {},
   "outputs": [
    {
     "data": {
      "text/html": [
       "<div>\n",
       "<style scoped>\n",
       "    .dataframe tbody tr th:only-of-type {\n",
       "        vertical-align: middle;\n",
       "    }\n",
       "\n",
       "    .dataframe tbody tr th {\n",
       "        vertical-align: top;\n",
       "    }\n",
       "\n",
       "    .dataframe thead th {\n",
       "        text-align: right;\n",
       "    }\n",
       "</style>\n",
       "<table border=\"1\" class=\"dataframe\">\n",
       "  <thead>\n",
       "    <tr style=\"text-align: right;\">\n",
       "      <th></th>\n",
       "      <th>name</th>\n",
       "      <th>regions</th>\n",
       "      <th>start_dt</th>\n",
       "      <th>finish_dt</th>\n",
       "      <th>start_dt_year</th>\n",
       "      <th>finish_dt_year</th>\n",
       "    </tr>\n",
       "  </thead>\n",
       "  <tbody>\n",
       "    <tr>\n",
       "      <th>0</th>\n",
       "      <td>Christmas&amp;New Year Promo</td>\n",
       "      <td>EU, N.America</td>\n",
       "      <td>2020-12-25</td>\n",
       "      <td>2021-01-03</td>\n",
       "      <td>2020</td>\n",
       "      <td>2021</td>\n",
       "    </tr>\n",
       "    <tr>\n",
       "      <th>1</th>\n",
       "      <td>St. Valentine's Day Giveaway</td>\n",
       "      <td>EU, CIS, APAC, N.America</td>\n",
       "      <td>2020-02-14</td>\n",
       "      <td>2020-02-16</td>\n",
       "      <td>2020</td>\n",
       "      <td>2020</td>\n",
       "    </tr>\n",
       "    <tr>\n",
       "      <th>2</th>\n",
       "      <td>St. Patric's Day Promo</td>\n",
       "      <td>EU, N.America</td>\n",
       "      <td>2020-03-17</td>\n",
       "      <td>2020-03-19</td>\n",
       "      <td>2020</td>\n",
       "      <td>2020</td>\n",
       "    </tr>\n",
       "    <tr>\n",
       "      <th>3</th>\n",
       "      <td>Easter Promo</td>\n",
       "      <td>EU, CIS, APAC, N.America</td>\n",
       "      <td>2020-04-12</td>\n",
       "      <td>2020-04-19</td>\n",
       "      <td>2020</td>\n",
       "      <td>2020</td>\n",
       "    </tr>\n",
       "    <tr>\n",
       "      <th>4</th>\n",
       "      <td>4th of July Promo</td>\n",
       "      <td>N.America</td>\n",
       "      <td>2020-07-04</td>\n",
       "      <td>2020-07-11</td>\n",
       "      <td>2020</td>\n",
       "      <td>2020</td>\n",
       "    </tr>\n",
       "    <tr>\n",
       "      <th>5</th>\n",
       "      <td>Black Friday Ads Campaign</td>\n",
       "      <td>EU, CIS, APAC, N.America</td>\n",
       "      <td>2020-11-26</td>\n",
       "      <td>2020-12-01</td>\n",
       "      <td>2020</td>\n",
       "      <td>2020</td>\n",
       "    </tr>\n",
       "    <tr>\n",
       "      <th>6</th>\n",
       "      <td>Chinese New Year Promo</td>\n",
       "      <td>APAC</td>\n",
       "      <td>2020-01-25</td>\n",
       "      <td>2020-02-07</td>\n",
       "      <td>2020</td>\n",
       "      <td>2020</td>\n",
       "    </tr>\n",
       "    <tr>\n",
       "      <th>7</th>\n",
       "      <td>Labor day (May 1st) Ads Campaign</td>\n",
       "      <td>EU, CIS, APAC</td>\n",
       "      <td>2020-05-01</td>\n",
       "      <td>2020-05-03</td>\n",
       "      <td>2020</td>\n",
       "      <td>2020</td>\n",
       "    </tr>\n",
       "    <tr>\n",
       "      <th>8</th>\n",
       "      <td>International Women's Day Promo</td>\n",
       "      <td>EU, CIS, APAC</td>\n",
       "      <td>2020-03-08</td>\n",
       "      <td>2020-03-10</td>\n",
       "      <td>2020</td>\n",
       "      <td>2020</td>\n",
       "    </tr>\n",
       "    <tr>\n",
       "      <th>9</th>\n",
       "      <td>Victory Day CIS (May 9th) Event</td>\n",
       "      <td>CIS</td>\n",
       "      <td>2020-05-09</td>\n",
       "      <td>2020-05-11</td>\n",
       "      <td>2020</td>\n",
       "      <td>2020</td>\n",
       "    </tr>\n",
       "    <tr>\n",
       "      <th>10</th>\n",
       "      <td>CIS New Year Gift Lottery</td>\n",
       "      <td>CIS</td>\n",
       "      <td>2020-12-30</td>\n",
       "      <td>2021-01-07</td>\n",
       "      <td>2020</td>\n",
       "      <td>2021</td>\n",
       "    </tr>\n",
       "    <tr>\n",
       "      <th>11</th>\n",
       "      <td>Dragon Boat Festival Giveaway</td>\n",
       "      <td>APAC</td>\n",
       "      <td>2020-06-25</td>\n",
       "      <td>2020-07-01</td>\n",
       "      <td>2020</td>\n",
       "      <td>2020</td>\n",
       "    </tr>\n",
       "    <tr>\n",
       "      <th>12</th>\n",
       "      <td>Single's Day Gift Promo</td>\n",
       "      <td>APAC</td>\n",
       "      <td>2020-11-11</td>\n",
       "      <td>2020-11-12</td>\n",
       "      <td>2020</td>\n",
       "      <td>2020</td>\n",
       "    </tr>\n",
       "    <tr>\n",
       "      <th>13</th>\n",
       "      <td>Chinese Moon Festival</td>\n",
       "      <td>APAC</td>\n",
       "      <td>2020-10-01</td>\n",
       "      <td>2020-10-07</td>\n",
       "      <td>2020</td>\n",
       "      <td>2020</td>\n",
       "    </tr>\n",
       "  </tbody>\n",
       "</table>\n",
       "</div>"
      ],
      "text/plain": [
       "                                name                   regions   start_dt  \\\n",
       "0           Christmas&New Year Promo             EU, N.America 2020-12-25   \n",
       "1       St. Valentine's Day Giveaway  EU, CIS, APAC, N.America 2020-02-14   \n",
       "2             St. Patric's Day Promo             EU, N.America 2020-03-17   \n",
       "3                       Easter Promo  EU, CIS, APAC, N.America 2020-04-12   \n",
       "4                  4th of July Promo                 N.America 2020-07-04   \n",
       "5          Black Friday Ads Campaign  EU, CIS, APAC, N.America 2020-11-26   \n",
       "6             Chinese New Year Promo                      APAC 2020-01-25   \n",
       "7   Labor day (May 1st) Ads Campaign             EU, CIS, APAC 2020-05-01   \n",
       "8    International Women's Day Promo             EU, CIS, APAC 2020-03-08   \n",
       "9    Victory Day CIS (May 9th) Event                       CIS 2020-05-09   \n",
       "10         CIS New Year Gift Lottery                       CIS 2020-12-30   \n",
       "11     Dragon Boat Festival Giveaway                      APAC 2020-06-25   \n",
       "12           Single's Day Gift Promo                      APAC 2020-11-11   \n",
       "13             Chinese Moon Festival                      APAC 2020-10-01   \n",
       "\n",
       "    finish_dt  start_dt_year  finish_dt_year  \n",
       "0  2021-01-03           2020            2021  \n",
       "1  2020-02-16           2020            2020  \n",
       "2  2020-03-19           2020            2020  \n",
       "3  2020-04-19           2020            2020  \n",
       "4  2020-07-11           2020            2020  \n",
       "5  2020-12-01           2020            2020  \n",
       "6  2020-02-07           2020            2020  \n",
       "7  2020-05-03           2020            2020  \n",
       "8  2020-03-10           2020            2020  \n",
       "9  2020-05-11           2020            2020  \n",
       "10 2021-01-07           2020            2021  \n",
       "11 2020-07-01           2020            2020  \n",
       "12 2020-11-12           2020            2020  \n",
       "13 2020-10-07           2020            2020  "
      ]
     },
     "execution_count": 17,
     "metadata": {},
     "output_type": "execute_result"
    }
   ],
   "source": [
    "# Let's check for implicit duplicates in the start_dt and finish_dt columns\n",
    "marketing_events['start_dt'] = pd.to_datetime(marketing_events['start_dt'], format='%Y-%m-%d')\n",
    "marketing_events['finish_dt'] = pd.to_datetime(marketing_events['finish_dt'], format='%Y-%m-%d')\n",
    "marketing_events['start_dt_year'] = pd.DatetimeIndex(marketing_events['start_dt']).year\n",
    "marketing_events['finish_dt_year'] = pd.DatetimeIndex(marketing_events['finish_dt']).year\n",
    "marketing_events"
   ]
  },
  {
   "cell_type": "markdown",
   "id": "042b9017",
   "metadata": {},
   "source": [
    "**Conclusion: there are no implicit duplicates in the start_dt and finish_dt columns, all values correspond to the task.**"
   ]
  },
  {
   "cell_type": "markdown",
   "id": "747579f8",
   "metadata": {},
   "source": [
    "**Let's move on to the new_users table**"
   ]
  },
  {
   "cell_type": "markdown",
   "id": "9481fcde",
   "metadata": {},
   "source": [
    "#### Let's check how many gaps there are in our table"
   ]
  },
  {
   "cell_type": "code",
   "execution_count": 18,
   "id": "0890e720",
   "metadata": {},
   "outputs": [
    {
     "data": {
      "text/plain": [
       "user_id       0\n",
       "first_date    0\n",
       "region        0\n",
       "device        0\n",
       "dtype: int64"
      ]
     },
     "execution_count": 18,
     "metadata": {},
     "output_type": "execute_result"
    }
   ],
   "source": [
    "new_users.isna().sum()"
   ]
  },
  {
   "cell_type": "markdown",
   "id": "21a26757",
   "metadata": {},
   "source": [
    "**Conclusion: no omissions were detected.**"
   ]
  },
  {
   "cell_type": "markdown",
   "id": "45218038",
   "metadata": {},
   "source": [
    "#### Let's check how many explicit duplicates there are in our table"
   ]
  },
  {
   "cell_type": "code",
   "execution_count": 19,
   "id": "bc229269",
   "metadata": {},
   "outputs": [
    {
     "data": {
      "text/plain": [
       "0"
      ]
     },
     "execution_count": 19,
     "metadata": {},
     "output_type": "execute_result"
    }
   ],
   "source": [
    "new_users.duplicated().sum()"
   ]
  },
  {
   "cell_type": "markdown",
   "id": "929188e4",
   "metadata": {},
   "source": [
    "**Conclusion: no obvious duplicates were found.**"
   ]
  },
  {
   "cell_type": "markdown",
   "id": "fc390831",
   "metadata": {},
   "source": [
    "#### Let's check how many implicit duplicates there are in our table"
   ]
  },
  {
   "cell_type": "code",
   "execution_count": 20,
   "id": "015ac32c",
   "metadata": {},
   "outputs": [
    {
     "data": {
      "text/html": [
       "<div>\n",
       "<style scoped>\n",
       "    .dataframe tbody tr th:only-of-type {\n",
       "        vertical-align: middle;\n",
       "    }\n",
       "\n",
       "    .dataframe tbody tr th {\n",
       "        vertical-align: top;\n",
       "    }\n",
       "\n",
       "    .dataframe thead th {\n",
       "        text-align: right;\n",
       "    }\n",
       "</style>\n",
       "<table border=\"1\" class=\"dataframe\">\n",
       "  <thead>\n",
       "    <tr style=\"text-align: right;\">\n",
       "      <th></th>\n",
       "      <th>user_id</th>\n",
       "      <th>first_date</th>\n",
       "      <th>region</th>\n",
       "      <th>device</th>\n",
       "    </tr>\n",
       "  </thead>\n",
       "  <tbody>\n",
       "    <tr>\n",
       "      <th>0</th>\n",
       "      <td>D72A72121175D8BE</td>\n",
       "      <td>2020-12-07</td>\n",
       "      <td>EU</td>\n",
       "      <td>PC</td>\n",
       "    </tr>\n",
       "    <tr>\n",
       "      <th>1</th>\n",
       "      <td>F1C668619DFE6E65</td>\n",
       "      <td>2020-12-07</td>\n",
       "      <td>N.America</td>\n",
       "      <td>Android</td>\n",
       "    </tr>\n",
       "    <tr>\n",
       "      <th>2</th>\n",
       "      <td>2E1BF1D4C37EA01F</td>\n",
       "      <td>2020-12-07</td>\n",
       "      <td>EU</td>\n",
       "      <td>PC</td>\n",
       "    </tr>\n",
       "    <tr>\n",
       "      <th>3</th>\n",
       "      <td>50734A22C0C63768</td>\n",
       "      <td>2020-12-07</td>\n",
       "      <td>EU</td>\n",
       "      <td>iPhone</td>\n",
       "    </tr>\n",
       "    <tr>\n",
       "      <th>4</th>\n",
       "      <td>E1BDDCE0DAFA2679</td>\n",
       "      <td>2020-12-07</td>\n",
       "      <td>N.America</td>\n",
       "      <td>iPhone</td>\n",
       "    </tr>\n",
       "  </tbody>\n",
       "</table>\n",
       "</div>"
      ],
      "text/plain": [
       "            user_id  first_date     region   device\n",
       "0  D72A72121175D8BE  2020-12-07         EU       PC\n",
       "1  F1C668619DFE6E65  2020-12-07  N.America  Android\n",
       "2  2E1BF1D4C37EA01F  2020-12-07         EU       PC\n",
       "3  50734A22C0C63768  2020-12-07         EU   iPhone\n",
       "4  E1BDDCE0DAFA2679  2020-12-07  N.America   iPhone"
      ]
     },
     "execution_count": 20,
     "metadata": {},
     "output_type": "execute_result"
    }
   ],
   "source": [
    "new_users.head()"
   ]
  },
  {
   "cell_type": "code",
   "execution_count": 21,
   "id": "cc3993d5",
   "metadata": {},
   "outputs": [
    {
     "data": {
      "text/plain": [
       "first_date\n",
       "2020-12-07    5595\n",
       "2020-12-08    3239\n",
       "2020-12-09    2101\n",
       "2020-12-10    3076\n",
       "2020-12-11    2390\n",
       "2020-12-12    3963\n",
       "2020-12-13    4691\n",
       "2020-12-14    5654\n",
       "2020-12-15    3043\n",
       "2020-12-16    2110\n",
       "2020-12-17    3048\n",
       "2020-12-18    3365\n",
       "2020-12-19    3617\n",
       "2020-12-20    4288\n",
       "2020-12-21    6290\n",
       "2020-12-22    3083\n",
       "2020-12-23    2180\n",
       "Name: user_id, dtype: int64"
      ]
     },
     "execution_count": 21,
     "metadata": {},
     "output_type": "execute_result"
    }
   ],
   "source": [
    "# Let's check for which days we have data in the table\n",
    "new_users.groupby('first_date')['user_id'].nunique()"
   ]
  },
  {
   "cell_type": "markdown",
   "id": "7a6cff11",
   "metadata": {},
   "source": [
    "**Conclusion: found users who registered later than December 21, 2020, which does not meet the condition of the task. Since there are many such users, in my opinion it is impossible to delete them. So let's leave them for now.**"
   ]
  },
  {
   "cell_type": "code",
   "execution_count": 22,
   "id": "d9f3d3b1",
   "metadata": {},
   "outputs": [
    {
     "data": {
      "text/plain": [
       "array(['EU', 'N.America', 'APAC', 'CIS'], dtype=object)"
      ]
     },
     "execution_count": 22,
     "metadata": {},
     "output_type": "execute_result"
    }
   ],
   "source": [
    "# Let's check for implicit duplicates in the region column\n",
    "new_users['region'].unique()"
   ]
  },
  {
   "cell_type": "markdown",
   "id": "37d922f8",
   "metadata": {},
   "source": [
    "**Conclusion: no implicit duplicates were found.**"
   ]
  },
  {
   "cell_type": "code",
   "execution_count": 23,
   "id": "153b8c22",
   "metadata": {},
   "outputs": [
    {
     "data": {
      "text/plain": [
       "array(['PC', 'Android', 'iPhone', 'Mac'], dtype=object)"
      ]
     },
     "execution_count": 23,
     "metadata": {},
     "output_type": "execute_result"
    }
   ],
   "source": [
    "# Let's check for implicit duplicates in the device column\n",
    "new_users['device'].unique()"
   ]
  },
  {
   "cell_type": "markdown",
   "id": "ecd81f42",
   "metadata": {},
   "source": [
    "**Conclusion: no implicit duplicates were found.**"
   ]
  },
  {
   "cell_type": "markdown",
   "id": "0c02c8a3",
   "metadata": {},
   "source": [
    "**Let's move on to the events table**"
   ]
  },
  {
   "cell_type": "markdown",
   "id": "7759d2e8",
   "metadata": {},
   "source": [
    "#### Let's check how many gaps there are in our table"
   ]
  },
  {
   "cell_type": "code",
   "execution_count": 24,
   "id": "142c9469",
   "metadata": {},
   "outputs": [
    {
     "data": {
      "text/plain": [
       "user_id            0\n",
       "event_dt           0\n",
       "event_name         0\n",
       "details       377577\n",
       "dtype: int64"
      ]
     },
     "execution_count": 24,
     "metadata": {},
     "output_type": "execute_result"
    }
   ],
   "source": [
    "events.isna().sum()"
   ]
  },
  {
   "cell_type": "code",
   "execution_count": 25,
   "id": "07f2b94f",
   "metadata": {},
   "outputs": [
    {
     "data": {
      "text/html": [
       "<style  type=\"text/css\" >\n",
       "#T_2bfa7_row0_col0,#T_2bfa7_row1_col0,#T_2bfa7_row2_col0{\n",
       "            background-color:  #3b4cc0;\n",
       "            color:  #f1f1f1;\n",
       "        }#T_2bfa7_row3_col0{\n",
       "            background-color:  #b40426;\n",
       "            color:  #f1f1f1;\n",
       "        }</style><table id=\"T_2bfa7_\" ><thead>    <tr>        <th class=\"blank level0\" ></th>        <th class=\"col_heading level0 col0\" >0</th>    </tr></thead><tbody>\n",
       "                <tr>\n",
       "                        <th id=\"T_2bfa7_level0_row0\" class=\"row_heading level0 row0\" >user_id</th>\n",
       "                        <td id=\"T_2bfa7_row0_col0\" class=\"data row0 col0\" >0.0</td>\n",
       "            </tr>\n",
       "            <tr>\n",
       "                        <th id=\"T_2bfa7_level0_row1\" class=\"row_heading level0 row1\" >event_dt</th>\n",
       "                        <td id=\"T_2bfa7_row1_col0\" class=\"data row1 col0\" >0.0</td>\n",
       "            </tr>\n",
       "            <tr>\n",
       "                        <th id=\"T_2bfa7_level0_row2\" class=\"row_heading level0 row2\" >event_name</th>\n",
       "                        <td id=\"T_2bfa7_row2_col0\" class=\"data row2 col0\" >0.0</td>\n",
       "            </tr>\n",
       "            <tr>\n",
       "                        <th id=\"T_2bfa7_level0_row3\" class=\"row_heading level0 row3\" >details</th>\n",
       "                        <td id=\"T_2bfa7_row3_col0\" class=\"data row3 col0\" >85.8</td>\n",
       "            </tr>\n",
       "    </tbody></table>"
      ],
      "text/plain": [
       "<pandas.io.formats.style.Styler at 0x1ede1e390d0>"
      ]
     },
     "execution_count": 25,
     "metadata": {},
     "output_type": "execute_result"
    }
   ],
   "source": [
    "# Let's calculate the share of passes\n",
    "pd.DataFrame(events.isna().mean()*100).style.set_precision(1).background_gradient('coolwarm')"
   ]
  },
  {
   "cell_type": "code",
   "execution_count": 26,
   "id": "54385df4",
   "metadata": {},
   "outputs": [
    {
     "data": {
      "text/html": [
       "<div>\n",
       "<style scoped>\n",
       "    .dataframe tbody tr th:only-of-type {\n",
       "        vertical-align: middle;\n",
       "    }\n",
       "\n",
       "    .dataframe tbody tr th {\n",
       "        vertical-align: top;\n",
       "    }\n",
       "\n",
       "    .dataframe thead th {\n",
       "        text-align: right;\n",
       "    }\n",
       "</style>\n",
       "<table border=\"1\" class=\"dataframe\">\n",
       "  <thead>\n",
       "    <tr style=\"text-align: right;\">\n",
       "      <th></th>\n",
       "      <th>user_id</th>\n",
       "      <th>event_dt</th>\n",
       "      <th>event_name</th>\n",
       "      <th>details</th>\n",
       "    </tr>\n",
       "    <tr>\n",
       "      <th>event_name</th>\n",
       "      <th></th>\n",
       "      <th></th>\n",
       "      <th></th>\n",
       "      <th></th>\n",
       "    </tr>\n",
       "  </thead>\n",
       "  <tbody>\n",
       "    <tr>\n",
       "      <th>login</th>\n",
       "      <td>0</td>\n",
       "      <td>0</td>\n",
       "      <td>0</td>\n",
       "      <td>189552</td>\n",
       "    </tr>\n",
       "    <tr>\n",
       "      <th>product_cart</th>\n",
       "      <td>0</td>\n",
       "      <td>0</td>\n",
       "      <td>0</td>\n",
       "      <td>62462</td>\n",
       "    </tr>\n",
       "    <tr>\n",
       "      <th>product_page</th>\n",
       "      <td>0</td>\n",
       "      <td>0</td>\n",
       "      <td>0</td>\n",
       "      <td>125563</td>\n",
       "    </tr>\n",
       "    <tr>\n",
       "      <th>purchase</th>\n",
       "      <td>0</td>\n",
       "      <td>0</td>\n",
       "      <td>0</td>\n",
       "      <td>0</td>\n",
       "    </tr>\n",
       "  </tbody>\n",
       "</table>\n",
       "</div>"
      ],
      "text/plain": [
       "              user_id  event_dt  event_name  details\n",
       "event_name                                          \n",
       "login               0         0           0   189552\n",
       "product_cart        0         0           0    62462\n",
       "product_page        0         0           0   125563\n",
       "purchase            0         0           0        0"
      ]
     },
     "execution_count": 26,
     "metadata": {},
     "output_type": "execute_result"
    }
   ],
   "source": [
    "# Let's build a hitmap that will show the number of passes depending on the values of the event_name column\n",
    "missing_values = events.groupby('event_name').apply(lambda x: x.isna().sum())\n",
    "missing_values"
   ]
  },
  {
   "cell_type": "code",
   "execution_count": 121,
   "id": "ec47d568",
   "metadata": {},
   "outputs": [
    {
     "data": {
      "image/png": "[encoded data removed]",
      "text/plain": [
       "<Figure size 1000x500 with 2 Axes>"
      ]
     },
     "metadata": {},
     "output_type": "display_data"
    }
   ],
   "source": [
    "plt.figure(figsize=(10, 5)) # setting the size of the graph\n",
    "sns.heatmap(missing_values, \n",
    "            annot=True, \n",
    "            fmt='') # setting the source format\n",
    "plt.title('Heat map of the distribution of passes') # chart name\n",
    "plt.show() "
   ]
  },
  {
   "cell_type": "code",
   "execution_count": 28,
   "id": "ac4ed8cd",
   "metadata": {},
   "outputs": [
    {
     "data": {
      "text/plain": [
       "login           189552\n",
       "product_page    125563\n",
       "purchase         62740\n",
       "product_cart     62462\n",
       "Name: event_name, dtype: int64"
      ]
     },
     "execution_count": 28,
     "metadata": {},
     "output_type": "execute_result"
    }
   ],
   "source": [
    "# Now let's count how many times each event occurs in the table\n",
    "events['event_name'].value_counts()"
   ]
  },
  {
   "cell_type": "markdown",
   "id": "2f61f35c",
   "metadata": {},
   "source": [
    "**Conclusion: a large number of omissions were detected in the details column. We see that the number of login, product_page, product_cart events completely coincides with the corresponding number of omissions in the details column. In my opinion, we can conclude that the granularity is configured only for the purchase event and this is due to such a large number of omissions in the details column. Accordingly, there is no way to fill in the gaps for the login, product_page, product_cart events and you will have to leave them unchanged.**"
   ]
  },
  {
   "cell_type": "markdown",
   "id": "c3459fb7",
   "metadata": {},
   "source": [
    "#### Let's check how many explicit duplicates there are in our table"
   ]
  },
  {
   "cell_type": "code",
   "execution_count": 29,
   "id": "253d72fb",
   "metadata": {},
   "outputs": [
    {
     "data": {
      "text/plain": [
       "0"
      ]
     },
     "execution_count": 29,
     "metadata": {},
     "output_type": "execute_result"
    }
   ],
   "source": [
    "events.duplicated().sum()"
   ]
  },
  {
   "cell_type": "markdown",
   "id": "04cce5fe",
   "metadata": {},
   "source": [
    "**Conclusion: no obvious duplicates were found.**"
   ]
  },
  {
   "cell_type": "markdown",
   "id": "0dceb68b",
   "metadata": {},
   "source": [
    "#### Let's check how many implicit duplicates there are in our table"
   ]
  },
  {
   "cell_type": "code",
   "execution_count": 30,
   "id": "104dd302",
   "metadata": {},
   "outputs": [
    {
     "data": {
      "text/html": [
       "<div>\n",
       "<style scoped>\n",
       "    .dataframe tbody tr th:only-of-type {\n",
       "        vertical-align: middle;\n",
       "    }\n",
       "\n",
       "    .dataframe tbody tr th {\n",
       "        vertical-align: top;\n",
       "    }\n",
       "\n",
       "    .dataframe thead th {\n",
       "        text-align: right;\n",
       "    }\n",
       "</style>\n",
       "<table border=\"1\" class=\"dataframe\">\n",
       "  <thead>\n",
       "    <tr style=\"text-align: right;\">\n",
       "      <th></th>\n",
       "      <th>user_id</th>\n",
       "      <th>event_dt</th>\n",
       "      <th>event_name</th>\n",
       "      <th>details</th>\n",
       "    </tr>\n",
       "  </thead>\n",
       "  <tbody>\n",
       "    <tr>\n",
       "      <th>0</th>\n",
       "      <td>E1BDDCE0DAFA2679</td>\n",
       "      <td>2020-12-07</td>\n",
       "      <td>purchase</td>\n",
       "      <td>99.99</td>\n",
       "    </tr>\n",
       "    <tr>\n",
       "      <th>1</th>\n",
       "      <td>7B6452F081F49504</td>\n",
       "      <td>2020-12-07</td>\n",
       "      <td>purchase</td>\n",
       "      <td>9.99</td>\n",
       "    </tr>\n",
       "    <tr>\n",
       "      <th>2</th>\n",
       "      <td>9CD9F34546DF254C</td>\n",
       "      <td>2020-12-07</td>\n",
       "      <td>purchase</td>\n",
       "      <td>4.99</td>\n",
       "    </tr>\n",
       "    <tr>\n",
       "      <th>3</th>\n",
       "      <td>96F27A054B191457</td>\n",
       "      <td>2020-12-07</td>\n",
       "      <td>purchase</td>\n",
       "      <td>4.99</td>\n",
       "    </tr>\n",
       "    <tr>\n",
       "      <th>4</th>\n",
       "      <td>1FD7660FDF94CA1F</td>\n",
       "      <td>2020-12-07</td>\n",
       "      <td>purchase</td>\n",
       "      <td>4.99</td>\n",
       "    </tr>\n",
       "  </tbody>\n",
       "</table>\n",
       "</div>"
      ],
      "text/plain": [
       "            user_id    event_dt event_name  details\n",
       "0  E1BDDCE0DAFA2679  2020-12-07   purchase    99.99\n",
       "1  7B6452F081F49504  2020-12-07   purchase     9.99\n",
       "2  9CD9F34546DF254C  2020-12-07   purchase     4.99\n",
       "3  96F27A054B191457  2020-12-07   purchase     4.99\n",
       "4  1FD7660FDF94CA1F  2020-12-07   purchase     4.99"
      ]
     },
     "execution_count": 30,
     "metadata": {},
     "output_type": "execute_result"
    }
   ],
   "source": [
    "# Let's check for implicit duplicates in the event_dt column\n",
    "events['event_dt'] = pd.to_datetime(events['event_dt'], format='%Y-%m-%d').dt.date\n",
    "events.head()"
   ]
  },
  {
   "cell_type": "code",
   "execution_count": 31,
   "id": "a200ac82",
   "metadata": {},
   "outputs": [
    {
     "data": {
      "text/plain": [
       "event_dt\n",
       "2020-12-07     5031\n",
       "2020-12-08     5496\n",
       "2020-12-09     5227\n",
       "2020-12-10     6045\n",
       "2020-12-11     6000\n",
       "2020-12-12     7562\n",
       "2020-12-13     9020\n",
       "2020-12-14    11254\n",
       "2020-12-15    10083\n",
       "2020-12-16     9004\n",
       "2020-12-17     9360\n",
       "2020-12-18     9883\n",
       "2020-12-19    10427\n",
       "2020-12-20    11366\n",
       "2020-12-21    14044\n",
       "2020-12-22    12672\n",
       "2020-12-23    11221\n",
       "2020-12-24     8361\n",
       "2020-12-25     7087\n",
       "2020-12-26     6071\n",
       "2020-12-27     5334\n",
       "2020-12-28     4748\n",
       "2020-12-29     4387\n",
       "2020-12-30       36\n",
       "Name: user_id, dtype: int64"
      ]
     },
     "execution_count": 31,
     "metadata": {},
     "output_type": "execute_result"
    }
   ],
   "source": [
    "# Let's check for which days we have data in the table\n",
    "events.groupby('event_dt')['user_id'].nunique()"
   ]
  },
  {
   "cell_type": "markdown",
   "id": "3d12bba3",
   "metadata": {},
   "source": [
    "**Conclusion: the events from December 7, 2020 to December 30, 2020 are presented, and not until January 4, 2021, as indicated in the task.**"
   ]
  },
  {
   "cell_type": "code",
   "execution_count": 32,
   "id": "397fb42a",
   "metadata": {},
   "outputs": [
    {
     "data": {
      "text/plain": [
       "array(['purchase', 'product_cart', 'product_page', 'login'], dtype=object)"
      ]
     },
     "execution_count": 32,
     "metadata": {},
     "output_type": "execute_result"
    }
   ],
   "source": [
    "# Let's check for implicit duplicates in the event_name column\n",
    "events['event_name'].unique()"
   ]
  },
  {
   "cell_type": "markdown",
   "id": "20793bd6",
   "metadata": {},
   "source": [
    "**Conclusion: no implicit duplicates were found.**"
   ]
  },
  {
   "cell_type": "markdown",
   "id": "7341cb38",
   "metadata": {},
   "source": [
    "**Let's move on to the participants table**"
   ]
  },
  {
   "cell_type": "markdown",
   "id": "bf90b79b",
   "metadata": {},
   "source": [
    "#### Let's check how many gaps there are in our table"
   ]
  },
  {
   "cell_type": "code",
   "execution_count": 33,
   "id": "0c2573d1",
   "metadata": {},
   "outputs": [
    {
     "data": {
      "text/plain": [
       "user_id    0\n",
       "group      0\n",
       "ab_test    0\n",
       "dtype: int64"
      ]
     },
     "execution_count": 33,
     "metadata": {},
     "output_type": "execute_result"
    }
   ],
   "source": [
    "participants.isna().sum()"
   ]
  },
  {
   "cell_type": "markdown",
   "id": "0a09e8cf",
   "metadata": {},
   "source": [
    "**Conclusion: no omissions were detected.**"
   ]
  },
  {
   "cell_type": "markdown",
   "id": "368a66c3",
   "metadata": {},
   "source": [
    "#### Let's check how many explicit duplicates there are in our table"
   ]
  },
  {
   "cell_type": "code",
   "execution_count": 34,
   "id": "15677abe",
   "metadata": {},
   "outputs": [
    {
     "data": {
      "text/plain": [
       "0"
      ]
     },
     "execution_count": 34,
     "metadata": {},
     "output_type": "execute_result"
    }
   ],
   "source": [
    "participants.duplicated().sum()"
   ]
  },
  {
   "cell_type": "markdown",
   "id": "ab0d6cdf",
   "metadata": {},
   "source": [
    "**Conclusion: no obvious duplicates were found.**"
   ]
  },
  {
   "cell_type": "markdown",
   "id": "cb6b48b4",
   "metadata": {},
   "source": [
    "#### Let's check how many implicit duplicates there are in our table"
   ]
  },
  {
   "cell_type": "code",
   "execution_count": 35,
   "id": "c7206de1",
   "metadata": {},
   "outputs": [
    {
     "data": {
      "text/plain": [
       "interface_eu_test          11567\n",
       "recommender_system_test     6701\n",
       "Name: ab_test, dtype: int64"
      ]
     },
     "execution_count": 35,
     "metadata": {},
     "output_type": "execute_result"
    }
   ],
   "source": [
    "# Let's check for implicit duplicates in the ab_test column\n",
    "participants['ab_test'].value_counts()"
   ]
  },
  {
   "cell_type": "markdown",
   "id": "4ab83cfc",
   "metadata": {},
   "source": [
    "**Conclusion: it was found that in addition to the recommender_system_test working test, there is another one in the data - interface_eu_test.**"
   ]
  },
  {
   "cell_type": "code",
   "execution_count": 36,
   "id": "cf4a02c4",
   "metadata": {},
   "outputs": [
    {
     "data": {
      "text/plain": [
       "A    9655\n",
       "B    8613\n",
       "Name: group, dtype: int64"
      ]
     },
     "execution_count": 36,
     "metadata": {},
     "output_type": "execute_result"
    }
   ],
   "source": [
    "# Let's check for implicit duplicates in the group column\n",
    "participants['group'].value_counts()"
   ]
  },
  {
   "cell_type": "markdown",
   "id": "740d8d8f",
   "metadata": {},
   "source": [
    "**Conclusion: no implicit duplicates were found, the values correspond to the task.**"
   ]
  },
  {
   "cell_type": "markdown",
   "id": "34ca65df",
   "metadata": {},
   "source": [
    "### Conclusion: at this stage, we checked for gaps in the tables, checked the data for duplicates. The following were found:\n",
    "1. In the new_users table, users were found who registered later than 12/21/2020, which does not meet the condition of the task.\n",
    "2. a large number of omissions were detected in the events table in the details column, this is due to the fact that the details are configured only for the purchase event. Accordingly, there is no way to fill in the gaps for the login, product_page, product_cart events and it was decided to leave them unchanged.\n",
    "3. the events table shows events from 7.12.2020 to 30.12.2020, and not until 4.01.2021, as specified in the task.\n",
    "4. in the participants table, it was found that in addition to the recommender_system_test working test, there is another one in the data - interface_eu_test."
   ]
  },
  {
   "cell_type": "markdown",
   "id": "29cd41a6",
   "metadata": {},
   "source": [
    "## 3. Assessment of the correctness of the test"
   ]
  },
  {
   "cell_type": "markdown",
   "id": "16bc7e41",
   "metadata": {},
   "source": [
    "#### Checking users participating in the test"
   ]
  },
  {
   "cell_type": "markdown",
   "id": "037273c4",
   "metadata": {},
   "source": [
    "##### Let's check the period of user recruitment in the test"
   ]
  },
  {
   "cell_type": "code",
   "execution_count": 37,
   "id": "4fe37119",
   "metadata": {},
   "outputs": [
    {
     "data": {
      "text/plain": [
       "0    D1ABA3E2887B6A73\n",
       "1    A7A3664BD6242119\n",
       "2    DABC14FDDFADD29E\n",
       "3    04988C5DF189632E\n",
       "4    482F14783456D21B\n",
       "Name: user_id, dtype: object"
      ]
     },
     "execution_count": 37,
     "metadata": {},
     "output_type": "execute_result"
    }
   ],
   "source": [
    "# Find the user IDs that participate in the recommender_system_test test\n",
    "participants_test = participants.query('ab_test == \"recommender_system_test\"')['user_id']\n",
    "participants_test.head()"
   ]
  },
  {
   "cell_type": "code",
   "execution_count": 38,
   "id": "56a035fb",
   "metadata": {},
   "outputs": [
    {
     "data": {
      "text/html": [
       "<div>\n",
       "<style scoped>\n",
       "    .dataframe tbody tr th:only-of-type {\n",
       "        vertical-align: middle;\n",
       "    }\n",
       "\n",
       "    .dataframe tbody tr th {\n",
       "        vertical-align: top;\n",
       "    }\n",
       "\n",
       "    .dataframe thead th {\n",
       "        text-align: right;\n",
       "    }\n",
       "</style>\n",
       "<table border=\"1\" class=\"dataframe\">\n",
       "  <thead>\n",
       "    <tr style=\"text-align: right;\">\n",
       "      <th></th>\n",
       "      <th>first_date</th>\n",
       "      <th>user_id</th>\n",
       "    </tr>\n",
       "  </thead>\n",
       "  <tbody>\n",
       "    <tr>\n",
       "      <th>0</th>\n",
       "      <td>2020-12-07</td>\n",
       "      <td>645</td>\n",
       "    </tr>\n",
       "    <tr>\n",
       "      <th>1</th>\n",
       "      <td>2020-12-08</td>\n",
       "      <td>364</td>\n",
       "    </tr>\n",
       "    <tr>\n",
       "      <th>2</th>\n",
       "      <td>2020-12-09</td>\n",
       "      <td>258</td>\n",
       "    </tr>\n",
       "    <tr>\n",
       "      <th>3</th>\n",
       "      <td>2020-12-10</td>\n",
       "      <td>391</td>\n",
       "    </tr>\n",
       "    <tr>\n",
       "      <th>4</th>\n",
       "      <td>2020-12-11</td>\n",
       "      <td>277</td>\n",
       "    </tr>\n",
       "    <tr>\n",
       "      <th>5</th>\n",
       "      <td>2020-12-12</td>\n",
       "      <td>489</td>\n",
       "    </tr>\n",
       "    <tr>\n",
       "      <th>6</th>\n",
       "      <td>2020-12-13</td>\n",
       "      <td>581</td>\n",
       "    </tr>\n",
       "    <tr>\n",
       "      <th>7</th>\n",
       "      <td>2020-12-14</td>\n",
       "      <td>665</td>\n",
       "    </tr>\n",
       "    <tr>\n",
       "      <th>8</th>\n",
       "      <td>2020-12-15</td>\n",
       "      <td>359</td>\n",
       "    </tr>\n",
       "    <tr>\n",
       "      <th>9</th>\n",
       "      <td>2020-12-16</td>\n",
       "      <td>285</td>\n",
       "    </tr>\n",
       "    <tr>\n",
       "      <th>10</th>\n",
       "      <td>2020-12-17</td>\n",
       "      <td>359</td>\n",
       "    </tr>\n",
       "    <tr>\n",
       "      <th>11</th>\n",
       "      <td>2020-12-18</td>\n",
       "      <td>397</td>\n",
       "    </tr>\n",
       "    <tr>\n",
       "      <th>12</th>\n",
       "      <td>2020-12-19</td>\n",
       "      <td>423</td>\n",
       "    </tr>\n",
       "    <tr>\n",
       "      <th>13</th>\n",
       "      <td>2020-12-20</td>\n",
       "      <td>485</td>\n",
       "    </tr>\n",
       "    <tr>\n",
       "      <th>14</th>\n",
       "      <td>2020-12-21</td>\n",
       "      <td>723</td>\n",
       "    </tr>\n",
       "  </tbody>\n",
       "</table>\n",
       "</div>"
      ],
      "text/plain": [
       "    first_date  user_id\n",
       "0   2020-12-07      645\n",
       "1   2020-12-08      364\n",
       "2   2020-12-09      258\n",
       "3   2020-12-10      391\n",
       "4   2020-12-11      277\n",
       "5   2020-12-12      489\n",
       "6   2020-12-13      581\n",
       "7   2020-12-14      665\n",
       "8   2020-12-15      359\n",
       "9   2020-12-16      285\n",
       "10  2020-12-17      359\n",
       "11  2020-12-18      397\n",
       "12  2020-12-19      423\n",
       "13  2020-12-20      485\n",
       "14  2020-12-21      723"
      ]
     },
     "execution_count": 38,
     "metadata": {},
     "output_type": "execute_result"
    }
   ],
   "source": [
    "# In the new_users table, we leave only users who participate in the recommender_system_test test\n",
    "# and we build a table by the days of attracting users\n",
    "period = new_users.loc[new_users['user_id'].isin(participants_test)].\\\n",
    "pivot_table(index='first_date', values='user_id', aggfunc='nunique').reset_index()\n",
    "period"
   ]
  },
  {
   "cell_type": "markdown",
   "id": "bbc4f94a",
   "metadata": {},
   "source": [
    "**Conclusion: the user recruitment period corresponds to the task.**"
   ]
  },
  {
   "cell_type": "markdown",
   "id": "2bb68f3a",
   "metadata": {},
   "source": [
    "##### Let's check the user registration region"
   ]
  },
  {
   "cell_type": "code",
   "execution_count": 39,
   "id": "a2257a26",
   "metadata": {},
   "outputs": [
    {
     "data": {
      "text/html": [
       "<div>\n",
       "<style scoped>\n",
       "    .dataframe tbody tr th:only-of-type {\n",
       "        vertical-align: middle;\n",
       "    }\n",
       "\n",
       "    .dataframe tbody tr th {\n",
       "        vertical-align: top;\n",
       "    }\n",
       "\n",
       "    .dataframe thead th {\n",
       "        text-align: right;\n",
       "    }\n",
       "</style>\n",
       "<table border=\"1\" class=\"dataframe\">\n",
       "  <thead>\n",
       "    <tr style=\"text-align: right;\">\n",
       "      <th></th>\n",
       "      <th>user_id</th>\n",
       "      <th>first_date</th>\n",
       "      <th>region</th>\n",
       "      <th>device</th>\n",
       "      <th>group</th>\n",
       "      <th>ab_test</th>\n",
       "    </tr>\n",
       "  </thead>\n",
       "  <tbody>\n",
       "    <tr>\n",
       "      <th>0</th>\n",
       "      <td>D72A72121175D8BE</td>\n",
       "      <td>2020-12-07</td>\n",
       "      <td>EU</td>\n",
       "      <td>PC</td>\n",
       "      <td>A</td>\n",
       "      <td>recommender_system_test</td>\n",
       "    </tr>\n",
       "    <tr>\n",
       "      <th>1</th>\n",
       "      <td>F1C668619DFE6E65</td>\n",
       "      <td>2020-12-07</td>\n",
       "      <td>N.America</td>\n",
       "      <td>Android</td>\n",
       "      <td>NaN</td>\n",
       "      <td>NaN</td>\n",
       "    </tr>\n",
       "    <tr>\n",
       "      <th>2</th>\n",
       "      <td>2E1BF1D4C37EA01F</td>\n",
       "      <td>2020-12-07</td>\n",
       "      <td>EU</td>\n",
       "      <td>PC</td>\n",
       "      <td>A</td>\n",
       "      <td>interface_eu_test</td>\n",
       "    </tr>\n",
       "    <tr>\n",
       "      <th>3</th>\n",
       "      <td>50734A22C0C63768</td>\n",
       "      <td>2020-12-07</td>\n",
       "      <td>EU</td>\n",
       "      <td>iPhone</td>\n",
       "      <td>B</td>\n",
       "      <td>interface_eu_test</td>\n",
       "    </tr>\n",
       "    <tr>\n",
       "      <th>4</th>\n",
       "      <td>E1BDDCE0DAFA2679</td>\n",
       "      <td>2020-12-07</td>\n",
       "      <td>N.America</td>\n",
       "      <td>iPhone</td>\n",
       "      <td>NaN</td>\n",
       "      <td>NaN</td>\n",
       "    </tr>\n",
       "  </tbody>\n",
       "</table>\n",
       "</div>"
      ],
      "text/plain": [
       "            user_id  first_date     region   device group  \\\n",
       "0  D72A72121175D8BE  2020-12-07         EU       PC     A   \n",
       "1  F1C668619DFE6E65  2020-12-07  N.America  Android   NaN   \n",
       "2  2E1BF1D4C37EA01F  2020-12-07         EU       PC     A   \n",
       "3  50734A22C0C63768  2020-12-07         EU   iPhone     B   \n",
       "4  E1BDDCE0DAFA2679  2020-12-07  N.America   iPhone   NaN   \n",
       "\n",
       "                   ab_test  \n",
       "0  recommender_system_test  \n",
       "1                      NaN  \n",
       "2        interface_eu_test  \n",
       "3        interface_eu_test  \n",
       "4                      NaN  "
      ]
     },
     "execution_count": 39,
     "metadata": {},
     "output_type": "execute_result"
    }
   ],
   "source": [
    "# Let's connect the new_users and participants tables\n",
    "merged = new_users.merge(participants, on='user_id', how='left')\n",
    "merged.head()"
   ]
  },
  {
   "cell_type": "code",
   "execution_count": 40,
   "id": "d14d1ec2",
   "metadata": {},
   "outputs": [
    {
     "data": {
      "text/html": [
       "<div>\n",
       "<style scoped>\n",
       "    .dataframe tbody tr th:only-of-type {\n",
       "        vertical-align: middle;\n",
       "    }\n",
       "\n",
       "    .dataframe tbody tr th {\n",
       "        vertical-align: top;\n",
       "    }\n",
       "\n",
       "    .dataframe thead th {\n",
       "        text-align: right;\n",
       "    }\n",
       "</style>\n",
       "<table border=\"1\" class=\"dataframe\">\n",
       "  <thead>\n",
       "    <tr style=\"text-align: right;\">\n",
       "      <th></th>\n",
       "      <th>user_id</th>\n",
       "      <th>first_date</th>\n",
       "      <th>region</th>\n",
       "      <th>device</th>\n",
       "      <th>group</th>\n",
       "      <th>ab_test</th>\n",
       "    </tr>\n",
       "  </thead>\n",
       "  <tbody>\n",
       "    <tr>\n",
       "      <th>0</th>\n",
       "      <td>D72A72121175D8BE</td>\n",
       "      <td>2020-12-07</td>\n",
       "      <td>EU</td>\n",
       "      <td>PC</td>\n",
       "      <td>A</td>\n",
       "      <td>recommender_system_test</td>\n",
       "    </tr>\n",
       "    <tr>\n",
       "      <th>1</th>\n",
       "      <td>F1C668619DFE6E65</td>\n",
       "      <td>2020-12-07</td>\n",
       "      <td>N.America</td>\n",
       "      <td>Android</td>\n",
       "      <td>NaN</td>\n",
       "      <td>NaN</td>\n",
       "    </tr>\n",
       "    <tr>\n",
       "      <th>2</th>\n",
       "      <td>2E1BF1D4C37EA01F</td>\n",
       "      <td>2020-12-07</td>\n",
       "      <td>EU</td>\n",
       "      <td>PC</td>\n",
       "      <td>A</td>\n",
       "      <td>interface_eu_test</td>\n",
       "    </tr>\n",
       "    <tr>\n",
       "      <th>3</th>\n",
       "      <td>50734A22C0C63768</td>\n",
       "      <td>2020-12-07</td>\n",
       "      <td>EU</td>\n",
       "      <td>iPhone</td>\n",
       "      <td>B</td>\n",
       "      <td>interface_eu_test</td>\n",
       "    </tr>\n",
       "    <tr>\n",
       "      <th>4</th>\n",
       "      <td>E1BDDCE0DAFA2679</td>\n",
       "      <td>2020-12-07</td>\n",
       "      <td>N.America</td>\n",
       "      <td>iPhone</td>\n",
       "      <td>NaN</td>\n",
       "      <td>NaN</td>\n",
       "    </tr>\n",
       "  </tbody>\n",
       "</table>\n",
       "</div>"
      ],
      "text/plain": [
       "            user_id  first_date     region   device group  \\\n",
       "0  D72A72121175D8BE  2020-12-07         EU       PC     A   \n",
       "1  F1C668619DFE6E65  2020-12-07  N.America  Android   NaN   \n",
       "2  2E1BF1D4C37EA01F  2020-12-07         EU       PC     A   \n",
       "3  50734A22C0C63768  2020-12-07         EU   iPhone     B   \n",
       "4  E1BDDCE0DAFA2679  2020-12-07  N.America   iPhone   NaN   \n",
       "\n",
       "                   ab_test  \n",
       "0  recommender_system_test  \n",
       "1                      NaN  \n",
       "2        interface_eu_test  \n",
       "3        interface_eu_test  \n",
       "4                      NaN  "
      ]
     },
     "execution_count": 40,
     "metadata": {},
     "output_type": "execute_result"
    }
   ],
   "source": [
    "# We will leave only the dates of recruitment of new users in the table\n",
    "merged = merged.query('first_date <= \"2020-12-21\"')\n",
    "merged.head()"
   ]
  },
  {
   "cell_type": "code",
   "execution_count": 41,
   "id": "a2e2e52d",
   "metadata": {},
   "outputs": [],
   "source": [
    "# Let's count how many users from Europe participate in the recommender_system_test test\n",
    "test_from_eu = merged.query('ab_test == \"recommender_system_test\" and region == \"EU\"')['user_id'].nunique()"
   ]
  },
  {
   "cell_type": "code",
   "execution_count": 42,
   "id": "dbeedfd5",
   "metadata": {},
   "outputs": [],
   "source": [
    "# Let's count the total number of users from Europe\n",
    "all_from_eu = merged.query('region == \"EU\"')['user_id'].nunique()"
   ]
  },
  {
   "cell_type": "code",
   "execution_count": 43,
   "id": "bc65ac21",
   "metadata": {},
   "outputs": [
    {
     "data": {
      "text/plain": [
       "0.15"
      ]
     },
     "execution_count": 43,
     "metadata": {},
     "output_type": "execute_result"
    }
   ],
   "source": [
    "test_from_eu / all_from_eu"
   ]
  },
  {
   "cell_type": "code",
   "execution_count": 44,
   "id": "a9d74125",
   "metadata": {},
   "outputs": [
    {
     "data": {
      "text/html": [
       "<div>\n",
       "<style scoped>\n",
       "    .dataframe tbody tr th:only-of-type {\n",
       "        vertical-align: middle;\n",
       "    }\n",
       "\n",
       "    .dataframe tbody tr th {\n",
       "        vertical-align: top;\n",
       "    }\n",
       "\n",
       "    .dataframe thead th {\n",
       "        text-align: right;\n",
       "    }\n",
       "</style>\n",
       "<table border=\"1\" class=\"dataframe\">\n",
       "  <thead>\n",
       "    <tr style=\"text-align: right;\">\n",
       "      <th></th>\n",
       "      <th>region</th>\n",
       "      <th>user_id</th>\n",
       "    </tr>\n",
       "  </thead>\n",
       "  <tbody>\n",
       "    <tr>\n",
       "      <th>0</th>\n",
       "      <td>APAC</td>\n",
       "      <td>72</td>\n",
       "    </tr>\n",
       "    <tr>\n",
       "      <th>1</th>\n",
       "      <td>CIS</td>\n",
       "      <td>55</td>\n",
       "    </tr>\n",
       "    <tr>\n",
       "      <th>2</th>\n",
       "      <td>EU</td>\n",
       "      <td>6351</td>\n",
       "    </tr>\n",
       "    <tr>\n",
       "      <th>3</th>\n",
       "      <td>N.America</td>\n",
       "      <td>223</td>\n",
       "    </tr>\n",
       "  </tbody>\n",
       "</table>\n",
       "</div>"
      ],
      "text/plain": [
       "      region  user_id\n",
       "0       APAC       72\n",
       "1        CIS       55\n",
       "2         EU     6351\n",
       "3  N.America      223"
      ]
     },
     "execution_count": 44,
     "metadata": {},
     "output_type": "execute_result"
    }
   ],
   "source": [
    "# Let's check which regions the users participating in the test came from\n",
    "region = merged.query('ab_test == \"recommender_system_test\"').\\\n",
    "pivot_table(index='region', values='user_id', aggfunc='nunique').reset_index()\n",
    "region"
   ]
  },
  {
   "cell_type": "code",
   "execution_count": 122,
   "id": "d00f1b66",
   "metadata": {},
   "outputs": [
    {
     "data": {
      "image/png": "[encoded data removed]",
      "text/plain": [
       "<Figure size 1500x1000 with 1 Axes>"
      ]
     },
     "metadata": {},
     "output_type": "display_data"
    }
   ],
   "source": [
    "# Visualize the received data\n",
    "region.plot(x='region', y='user_id', grid=False, \n",
    "            figsize=(15, 10), kind='pie', autopct='%.2f%%', \n",
    "            title='Distribution of users by region',\n",
    "           labels=region['region'])\n",
    "plt.xlabel(\"Percentage of users from each region\")\n",
    "plt.legend(bbox_to_anchor=(1.4, 1))\n",
    "plt.show()"
   ]
  },
  {
   "cell_type": "markdown",
   "id": "6dedc107",
   "metadata": {},
   "source": [
    "**Conclusion: almost all new users participating in the recommender_system_test test came from the target region, their share is 94.8%.\n",
    "The condition that users from Europe participating in the test must make up 15% of all users from Europe who came from December 7, 2020 to December 21, 2020 is fulfilled.**"
   ]
  },
  {
   "cell_type": "markdown",
   "id": "7be4d696",
   "metadata": {},
   "source": [
    "##### Let's check the dynamics of the recruitment of users into test groups and the uniformity of the distribution of users into test groups and the correctness of their formation"
   ]
  },
  {
   "cell_type": "markdown",
   "id": "6aeb69b8",
   "metadata": {},
   "source": [
    "**As far as I understand, by users participating in the test, here and further it is necessary to understand users with the recommender_system_test attribute, who at the same time came from Europe.**"
   ]
  },
  {
   "cell_type": "code",
   "execution_count": 46,
   "id": "45abd0bd",
   "metadata": {},
   "outputs": [
    {
     "data": {
      "text/html": [
       "<div>\n",
       "<style scoped>\n",
       "    .dataframe tbody tr th:only-of-type {\n",
       "        vertical-align: middle;\n",
       "    }\n",
       "\n",
       "    .dataframe tbody tr th {\n",
       "        vertical-align: top;\n",
       "    }\n",
       "\n",
       "    .dataframe thead th {\n",
       "        text-align: right;\n",
       "    }\n",
       "</style>\n",
       "<table border=\"1\" class=\"dataframe\">\n",
       "  <thead>\n",
       "    <tr style=\"text-align: right;\">\n",
       "      <th></th>\n",
       "      <th>user_id</th>\n",
       "      <th>first_date</th>\n",
       "      <th>region</th>\n",
       "      <th>device</th>\n",
       "      <th>group</th>\n",
       "      <th>ab_test</th>\n",
       "    </tr>\n",
       "  </thead>\n",
       "  <tbody>\n",
       "    <tr>\n",
       "      <th>0</th>\n",
       "      <td>D72A72121175D8BE</td>\n",
       "      <td>2020-12-07</td>\n",
       "      <td>EU</td>\n",
       "      <td>PC</td>\n",
       "      <td>A</td>\n",
       "      <td>recommender_system_test</td>\n",
       "    </tr>\n",
       "    <tr>\n",
       "      <th>13</th>\n",
       "      <td>E6DE857AFBDC6102</td>\n",
       "      <td>2020-12-07</td>\n",
       "      <td>EU</td>\n",
       "      <td>PC</td>\n",
       "      <td>B</td>\n",
       "      <td>recommender_system_test</td>\n",
       "    </tr>\n",
       "    <tr>\n",
       "      <th>21</th>\n",
       "      <td>DD4352CDCF8C3D57</td>\n",
       "      <td>2020-12-07</td>\n",
       "      <td>EU</td>\n",
       "      <td>Android</td>\n",
       "      <td>B</td>\n",
       "      <td>recommender_system_test</td>\n",
       "    </tr>\n",
       "    <tr>\n",
       "      <th>25</th>\n",
       "      <td>831887FE7F2D6CBA</td>\n",
       "      <td>2020-12-07</td>\n",
       "      <td>EU</td>\n",
       "      <td>Android</td>\n",
       "      <td>A</td>\n",
       "      <td>recommender_system_test</td>\n",
       "    </tr>\n",
       "    <tr>\n",
       "      <th>41</th>\n",
       "      <td>4CB179C7F847320B</td>\n",
       "      <td>2020-12-07</td>\n",
       "      <td>EU</td>\n",
       "      <td>iPhone</td>\n",
       "      <td>B</td>\n",
       "      <td>recommender_system_test</td>\n",
       "    </tr>\n",
       "  </tbody>\n",
       "</table>\n",
       "</div>"
      ],
      "text/plain": [
       "             user_id  first_date region   device group  \\\n",
       "0   D72A72121175D8BE  2020-12-07     EU       PC     A   \n",
       "13  E6DE857AFBDC6102  2020-12-07     EU       PC     B   \n",
       "21  DD4352CDCF8C3D57  2020-12-07     EU  Android     B   \n",
       "25  831887FE7F2D6CBA  2020-12-07     EU  Android     A   \n",
       "41  4CB179C7F847320B  2020-12-07     EU   iPhone     B   \n",
       "\n",
       "                    ab_test  \n",
       "0   recommender_system_test  \n",
       "13  recommender_system_test  \n",
       "21  recommender_system_test  \n",
       "25  recommender_system_test  \n",
       "41  recommender_system_test  "
      ]
     },
     "execution_count": 46,
     "metadata": {},
     "output_type": "execute_result"
    }
   ],
   "source": [
    "# In the merged table, we will leave only the data corresponding to the desired test and region\n",
    "merged_new = merged.query('ab_test == \"recommender_system_test\" and region == \"EU\"')\n",
    "merged_new.head()"
   ]
  },
  {
   "cell_type": "code",
   "execution_count": 47,
   "id": "148d5c00",
   "metadata": {},
   "outputs": [
    {
     "data": {
      "text/html": [
       "<div>\n",
       "<style scoped>\n",
       "    .dataframe tbody tr th:only-of-type {\n",
       "        vertical-align: middle;\n",
       "    }\n",
       "\n",
       "    .dataframe tbody tr th {\n",
       "        vertical-align: top;\n",
       "    }\n",
       "\n",
       "    .dataframe thead th {\n",
       "        text-align: right;\n",
       "    }\n",
       "</style>\n",
       "<table border=\"1\" class=\"dataframe\">\n",
       "  <thead>\n",
       "    <tr style=\"text-align: right;\">\n",
       "      <th></th>\n",
       "      <th>first_date</th>\n",
       "      <th>group</th>\n",
       "    </tr>\n",
       "  </thead>\n",
       "  <tbody>\n",
       "    <tr>\n",
       "      <th>0</th>\n",
       "      <td>2020-12-07</td>\n",
       "      <td>A</td>\n",
       "    </tr>\n",
       "    <tr>\n",
       "      <th>13</th>\n",
       "      <td>2020-12-07</td>\n",
       "      <td>B</td>\n",
       "    </tr>\n",
       "    <tr>\n",
       "      <th>18044</th>\n",
       "      <td>2020-12-08</td>\n",
       "      <td>A</td>\n",
       "    </tr>\n",
       "    <tr>\n",
       "      <th>18040</th>\n",
       "      <td>2020-12-08</td>\n",
       "      <td>B</td>\n",
       "    </tr>\n",
       "    <tr>\n",
       "      <th>27605</th>\n",
       "      <td>2020-12-09</td>\n",
       "      <td>A</td>\n",
       "    </tr>\n",
       "    <tr>\n",
       "      <th>27616</th>\n",
       "      <td>2020-12-09</td>\n",
       "      <td>B</td>\n",
       "    </tr>\n",
       "    <tr>\n",
       "      <th>34143</th>\n",
       "      <td>2020-12-10</td>\n",
       "      <td>A</td>\n",
       "    </tr>\n",
       "    <tr>\n",
       "      <th>34135</th>\n",
       "      <td>2020-12-10</td>\n",
       "      <td>B</td>\n",
       "    </tr>\n",
       "    <tr>\n",
       "      <th>40446</th>\n",
       "      <td>2020-12-11</td>\n",
       "      <td>A</td>\n",
       "    </tr>\n",
       "    <tr>\n",
       "      <th>40443</th>\n",
       "      <td>2020-12-11</td>\n",
       "      <td>B</td>\n",
       "    </tr>\n",
       "    <tr>\n",
       "      <th>46362</th>\n",
       "      <td>2020-12-12</td>\n",
       "      <td>A</td>\n",
       "    </tr>\n",
       "    <tr>\n",
       "      <th>46354</th>\n",
       "      <td>2020-12-12</td>\n",
       "      <td>B</td>\n",
       "    </tr>\n",
       "    <tr>\n",
       "      <th>54147</th>\n",
       "      <td>2020-12-13</td>\n",
       "      <td>A</td>\n",
       "    </tr>\n",
       "    <tr>\n",
       "      <th>54120</th>\n",
       "      <td>2020-12-13</td>\n",
       "      <td>B</td>\n",
       "    </tr>\n",
       "    <tr>\n",
       "      <th>5772</th>\n",
       "      <td>2020-12-14</td>\n",
       "      <td>A</td>\n",
       "    </tr>\n",
       "    <tr>\n",
       "      <th>5778</th>\n",
       "      <td>2020-12-14</td>\n",
       "      <td>B</td>\n",
       "    </tr>\n",
       "    <tr>\n",
       "      <th>21377</th>\n",
       "      <td>2020-12-15</td>\n",
       "      <td>A</td>\n",
       "    </tr>\n",
       "    <tr>\n",
       "      <th>21376</th>\n",
       "      <td>2020-12-15</td>\n",
       "      <td>B</td>\n",
       "    </tr>\n",
       "    <tr>\n",
       "      <th>29782</th>\n",
       "      <td>2020-12-16</td>\n",
       "      <td>A</td>\n",
       "    </tr>\n",
       "    <tr>\n",
       "      <th>29785</th>\n",
       "      <td>2020-12-16</td>\n",
       "      <td>B</td>\n",
       "    </tr>\n",
       "    <tr>\n",
       "      <th>37307</th>\n",
       "      <td>2020-12-17</td>\n",
       "      <td>A</td>\n",
       "    </tr>\n",
       "    <tr>\n",
       "      <th>37309</th>\n",
       "      <td>2020-12-17</td>\n",
       "      <td>B</td>\n",
       "    </tr>\n",
       "    <tr>\n",
       "      <th>42901</th>\n",
       "      <td>2020-12-18</td>\n",
       "      <td>A</td>\n",
       "    </tr>\n",
       "    <tr>\n",
       "      <th>42895</th>\n",
       "      <td>2020-12-18</td>\n",
       "      <td>B</td>\n",
       "    </tr>\n",
       "    <tr>\n",
       "      <th>50452</th>\n",
       "      <td>2020-12-19</td>\n",
       "      <td>A</td>\n",
       "    </tr>\n",
       "    <tr>\n",
       "      <th>50445</th>\n",
       "      <td>2020-12-19</td>\n",
       "      <td>B</td>\n",
       "    </tr>\n",
       "    <tr>\n",
       "      <th>58955</th>\n",
       "      <td>2020-12-20</td>\n",
       "      <td>A</td>\n",
       "    </tr>\n",
       "    <tr>\n",
       "      <th>58949</th>\n",
       "      <td>2020-12-20</td>\n",
       "      <td>B</td>\n",
       "    </tr>\n",
       "    <tr>\n",
       "      <th>11593</th>\n",
       "      <td>2020-12-21</td>\n",
       "      <td>A</td>\n",
       "    </tr>\n",
       "    <tr>\n",
       "      <th>11595</th>\n",
       "      <td>2020-12-21</td>\n",
       "      <td>B</td>\n",
       "    </tr>\n",
       "  </tbody>\n",
       "</table>\n",
       "</div>"
      ],
      "text/plain": [
       "       first_date group\n",
       "0      2020-12-07     A\n",
       "13     2020-12-07     B\n",
       "18044  2020-12-08     A\n",
       "18040  2020-12-08     B\n",
       "27605  2020-12-09     A\n",
       "27616  2020-12-09     B\n",
       "34143  2020-12-10     A\n",
       "34135  2020-12-10     B\n",
       "40446  2020-12-11     A\n",
       "40443  2020-12-11     B\n",
       "46362  2020-12-12     A\n",
       "46354  2020-12-12     B\n",
       "54147  2020-12-13     A\n",
       "54120  2020-12-13     B\n",
       "5772   2020-12-14     A\n",
       "5778   2020-12-14     B\n",
       "21377  2020-12-15     A\n",
       "21376  2020-12-15     B\n",
       "29782  2020-12-16     A\n",
       "29785  2020-12-16     B\n",
       "37307  2020-12-17     A\n",
       "37309  2020-12-17     B\n",
       "42901  2020-12-18     A\n",
       "42895  2020-12-18     B\n",
       "50452  2020-12-19     A\n",
       "50445  2020-12-19     B\n",
       "58955  2020-12-20     A\n",
       "58949  2020-12-20     B\n",
       "11593  2020-12-21     A\n",
       "11595  2020-12-21     B"
      ]
     },
     "execution_count": 47,
     "metadata": {},
     "output_type": "execute_result"
    }
   ],
   "source": [
    "# Creating an array of unique pairs of date values and test groups\n",
    "dates_groups = merged_new[['first_date','group']].drop_duplicates()\n",
    "dates_groups = dates_groups.sort_values(by=['first_date','group'])\n",
    "dates_groups"
   ]
  },
  {
   "cell_type": "code",
   "execution_count": 48,
   "id": "553f9cde",
   "metadata": {},
   "outputs": [
    {
     "data": {
      "text/html": [
       "<div>\n",
       "<style scoped>\n",
       "    .dataframe tbody tr th:only-of-type {\n",
       "        vertical-align: middle;\n",
       "    }\n",
       "\n",
       "    .dataframe tbody tr th {\n",
       "        vertical-align: top;\n",
       "    }\n",
       "\n",
       "    .dataframe thead th {\n",
       "        text-align: right;\n",
       "    }\n",
       "</style>\n",
       "<table border=\"1\" class=\"dataframe\">\n",
       "  <thead>\n",
       "    <tr style=\"text-align: right;\">\n",
       "      <th></th>\n",
       "      <th>first_date</th>\n",
       "      <th>group</th>\n",
       "      <th>user_id</th>\n",
       "    </tr>\n",
       "  </thead>\n",
       "  <tbody>\n",
       "    <tr>\n",
       "      <th>0</th>\n",
       "      <td>2020-12-07</td>\n",
       "      <td>A</td>\n",
       "      <td>349</td>\n",
       "    </tr>\n",
       "    <tr>\n",
       "      <th>13</th>\n",
       "      <td>2020-12-07</td>\n",
       "      <td>B</td>\n",
       "      <td>259</td>\n",
       "    </tr>\n",
       "    <tr>\n",
       "      <th>18044</th>\n",
       "      <td>2020-12-08</td>\n",
       "      <td>A</td>\n",
       "      <td>535</td>\n",
       "    </tr>\n",
       "    <tr>\n",
       "      <th>18040</th>\n",
       "      <td>2020-12-08</td>\n",
       "      <td>B</td>\n",
       "      <td>408</td>\n",
       "    </tr>\n",
       "    <tr>\n",
       "      <th>27605</th>\n",
       "      <td>2020-12-09</td>\n",
       "      <td>A</td>\n",
       "      <td>678</td>\n",
       "    </tr>\n",
       "    <tr>\n",
       "      <th>27616</th>\n",
       "      <td>2020-12-09</td>\n",
       "      <td>B</td>\n",
       "      <td>513</td>\n",
       "    </tr>\n",
       "    <tr>\n",
       "      <th>34143</th>\n",
       "      <td>2020-12-10</td>\n",
       "      <td>A</td>\n",
       "      <td>867</td>\n",
       "    </tr>\n",
       "    <tr>\n",
       "      <th>34135</th>\n",
       "      <td>2020-12-10</td>\n",
       "      <td>B</td>\n",
       "      <td>694</td>\n",
       "    </tr>\n",
       "    <tr>\n",
       "      <th>40446</th>\n",
       "      <td>2020-12-11</td>\n",
       "      <td>A</td>\n",
       "      <td>1024</td>\n",
       "    </tr>\n",
       "    <tr>\n",
       "      <th>40443</th>\n",
       "      <td>2020-12-11</td>\n",
       "      <td>B</td>\n",
       "      <td>800</td>\n",
       "    </tr>\n",
       "    <tr>\n",
       "      <th>46362</th>\n",
       "      <td>2020-12-12</td>\n",
       "      <td>A</td>\n",
       "      <td>1292</td>\n",
       "    </tr>\n",
       "    <tr>\n",
       "      <th>46354</th>\n",
       "      <td>2020-12-12</td>\n",
       "      <td>B</td>\n",
       "      <td>998</td>\n",
       "    </tr>\n",
       "    <tr>\n",
       "      <th>54147</th>\n",
       "      <td>2020-12-13</td>\n",
       "      <td>A</td>\n",
       "      <td>1615</td>\n",
       "    </tr>\n",
       "    <tr>\n",
       "      <th>54120</th>\n",
       "      <td>2020-12-13</td>\n",
       "      <td>B</td>\n",
       "      <td>1226</td>\n",
       "    </tr>\n",
       "    <tr>\n",
       "      <th>5772</th>\n",
       "      <td>2020-12-14</td>\n",
       "      <td>A</td>\n",
       "      <td>1981</td>\n",
       "    </tr>\n",
       "    <tr>\n",
       "      <th>5778</th>\n",
       "      <td>2020-12-14</td>\n",
       "      <td>B</td>\n",
       "      <td>1488</td>\n",
       "    </tr>\n",
       "    <tr>\n",
       "      <th>21377</th>\n",
       "      <td>2020-12-15</td>\n",
       "      <td>A</td>\n",
       "      <td>2183</td>\n",
       "    </tr>\n",
       "    <tr>\n",
       "      <th>21376</th>\n",
       "      <td>2020-12-15</td>\n",
       "      <td>B</td>\n",
       "      <td>1629</td>\n",
       "    </tr>\n",
       "    <tr>\n",
       "      <th>29782</th>\n",
       "      <td>2020-12-16</td>\n",
       "      <td>A</td>\n",
       "      <td>2343</td>\n",
       "    </tr>\n",
       "    <tr>\n",
       "      <th>29785</th>\n",
       "      <td>2020-12-16</td>\n",
       "      <td>B</td>\n",
       "      <td>1743</td>\n",
       "    </tr>\n",
       "    <tr>\n",
       "      <th>37307</th>\n",
       "      <td>2020-12-17</td>\n",
       "      <td>A</td>\n",
       "      <td>2545</td>\n",
       "    </tr>\n",
       "    <tr>\n",
       "      <th>37309</th>\n",
       "      <td>2020-12-17</td>\n",
       "      <td>B</td>\n",
       "      <td>1881</td>\n",
       "    </tr>\n",
       "    <tr>\n",
       "      <th>42901</th>\n",
       "      <td>2020-12-18</td>\n",
       "      <td>A</td>\n",
       "      <td>2755</td>\n",
       "    </tr>\n",
       "    <tr>\n",
       "      <th>42895</th>\n",
       "      <td>2020-12-18</td>\n",
       "      <td>B</td>\n",
       "      <td>2053</td>\n",
       "    </tr>\n",
       "    <tr>\n",
       "      <th>50452</th>\n",
       "      <td>2020-12-19</td>\n",
       "      <td>A</td>\n",
       "      <td>2981</td>\n",
       "    </tr>\n",
       "    <tr>\n",
       "      <th>50445</th>\n",
       "      <td>2020-12-19</td>\n",
       "      <td>B</td>\n",
       "      <td>2226</td>\n",
       "    </tr>\n",
       "    <tr>\n",
       "      <th>58955</th>\n",
       "      <td>2020-12-20</td>\n",
       "      <td>A</td>\n",
       "      <td>3236</td>\n",
       "    </tr>\n",
       "    <tr>\n",
       "      <th>58949</th>\n",
       "      <td>2020-12-20</td>\n",
       "      <td>B</td>\n",
       "      <td>2432</td>\n",
       "    </tr>\n",
       "    <tr>\n",
       "      <th>11593</th>\n",
       "      <td>2020-12-21</td>\n",
       "      <td>A</td>\n",
       "      <td>3634</td>\n",
       "    </tr>\n",
       "    <tr>\n",
       "      <th>11595</th>\n",
       "      <td>2020-12-21</td>\n",
       "      <td>B</td>\n",
       "      <td>2717</td>\n",
       "    </tr>\n",
       "  </tbody>\n",
       "</table>\n",
       "</div>"
      ],
      "text/plain": [
       "       first_date group  user_id\n",
       "0      2020-12-07     A      349\n",
       "13     2020-12-07     B      259\n",
       "18044  2020-12-08     A      535\n",
       "18040  2020-12-08     B      408\n",
       "27605  2020-12-09     A      678\n",
       "27616  2020-12-09     B      513\n",
       "34143  2020-12-10     A      867\n",
       "34135  2020-12-10     B      694\n",
       "40446  2020-12-11     A     1024\n",
       "40443  2020-12-11     B      800\n",
       "46362  2020-12-12     A     1292\n",
       "46354  2020-12-12     B      998\n",
       "54147  2020-12-13     A     1615\n",
       "54120  2020-12-13     B     1226\n",
       "5772   2020-12-14     A     1981\n",
       "5778   2020-12-14     B     1488\n",
       "21377  2020-12-15     A     2183\n",
       "21376  2020-12-15     B     1629\n",
       "29782  2020-12-16     A     2343\n",
       "29785  2020-12-16     B     1743\n",
       "37307  2020-12-17     A     2545\n",
       "37309  2020-12-17     B     1881\n",
       "42901  2020-12-18     A     2755\n",
       "42895  2020-12-18     B     2053\n",
       "50452  2020-12-19     A     2981\n",
       "50445  2020-12-19     B     2226\n",
       "58955  2020-12-20     A     3236\n",
       "58949  2020-12-20     B     2432\n",
       "11593  2020-12-21     A     3634\n",
       "11595  2020-12-21     B     2717"
      ]
     },
     "execution_count": 48,
     "metadata": {},
     "output_type": "execute_result"
    }
   ],
   "source": [
    "# We get aggregated cumulative data by days\n",
    "dynamic_participation = dates_groups.apply\\\n",
    "(lambda x: merged_new[np.logical_and(merged_new['first_date'] <= x['first_date'], merged_new['group'] == x['group'])]\\\n",
    " .agg({'first_date' : 'max', 'group' : 'max', 'user_id' : 'nunique'}), axis=1)\\\n",
    ".sort_values(by=['first_date','group'])\n",
    "dynamic_participation"
   ]
  },
  {
   "cell_type": "code",
   "execution_count": 49,
   "id": "6c73ced5",
   "metadata": {},
   "outputs": [],
   "source": [
    "# Let's create a dataframe by days in group A\n",
    "cumulative_A = dynamic_participation[dynamic_participation['group']=='A']"
   ]
  },
  {
   "cell_type": "code",
   "execution_count": 50,
   "id": "fdcb6a7d",
   "metadata": {},
   "outputs": [],
   "source": [
    "# Let's create a dataframe by days in group B\n",
    "cumulative_B = dynamic_participation[dynamic_participation['group']=='B']"
   ]
  },
  {
   "cell_type": "code",
   "execution_count": 123,
   "id": "e8afcf5f",
   "metadata": {},
   "outputs": [
    {
     "data": {
      "image/png": "[encoded data removed]",
      "text/plain": [
       "<Figure size 1000x600 with 1 Axes>"
      ]
     },
     "metadata": {},
     "output_type": "display_data"
    }
   ],
   "source": [
    "# Let's build a graph that will show the dynamics of attracting users\n",
    "plt.figure(figsize=(10, 6))\n",
    "plt.plot(cumulative_A['first_date'], cumulative_A['user_id'], label='group_A')\n",
    "plt.plot(cumulative_B['first_date'], cumulative_B['user_id'], label='group_A')\n",
    "plt.legend()\n",
    "plt.xlabel('Testing date')\n",
    "plt.ylabel('Number of new users')\n",
    "plt.title('Dynamics of user engagement by day and group')\n",
    "plt.xticks(rotation='45')\n",
    "plt.show()"
   ]
  },
  {
   "cell_type": "code",
   "execution_count": 52,
   "id": "cd218402",
   "metadata": {},
   "outputs": [
    {
     "data": {
      "text/plain": [
       "3634"
      ]
     },
     "metadata": {},
     "output_type": "display_data"
    },
    {
     "data": {
      "text/plain": [
       "2717"
      ]
     },
     "execution_count": 52,
     "metadata": {},
     "output_type": "execute_result"
    }
   ],
   "source": [
    "# Let's calculate the sizes of groups A and B\n",
    "display(merged_new.query('group == \"A\"')['user_id'].nunique())\n",
    "merged_new.query('group == \"B\"')['user_id'].nunique()"
   ]
  },
  {
   "cell_type": "markdown",
   "id": "4322c37a",
   "metadata": {},
   "source": [
    "**Conclusion: it can be concluded that the attraction of new users occurred fairly evenly, without a sharp increase in one of the groups.\n",
    "Nevertheless, group A turned out to be larger, and significantly, respectively, in my opinion, it is impossible to say that the groups were formed correctly.**"
   ]
  },
  {
   "cell_type": "markdown",
   "id": "b2e2f37a",
   "metadata": {},
   "source": [
    "#### Let's make sure that there are no intersections of users with a competing test and there are no intersections of users participating in two test groups at the same time."
   ]
  },
  {
   "cell_type": "markdown",
   "id": "e509e6f3",
   "metadata": {},
   "source": [
    "##### Let's check the correctness of splitting users into groups"
   ]
  },
  {
   "cell_type": "code",
   "execution_count": 53,
   "id": "a5b1d86e",
   "metadata": {},
   "outputs": [],
   "source": [
    "# We will get the user IDs that occur in both groups of the test\n",
    "users_A = merged_new.query('group == \"A\"')\n",
    "users_B = merged_new.query('group == \"B\"')\n",
    "first_in_second = users_A.loc[users_A['user_id'].isin(users_B['user_id'])]['user_id']\n",
    "second_in_first = users_B.loc[users_B['user_id'].isin(users_A['user_id'])]['user_id']"
   ]
  },
  {
   "cell_type": "code",
   "execution_count": 54,
   "id": "dd55bf62",
   "metadata": {},
   "outputs": [
    {
     "data": {
      "text/plain": [
       "0"
      ]
     },
     "execution_count": 54,
     "metadata": {},
     "output_type": "execute_result"
    }
   ],
   "source": [
    "# Combine users and remove duplicate values\n",
    "repeating_users = pd.concat([first_in_second, second_in_first], axis=0).drop_duplicates()\n",
    "\n",
    "# Let's count the number of users in both groups\n",
    "repeating_users.shape[0]"
   ]
  },
  {
   "cell_type": "markdown",
   "id": "dc253968",
   "metadata": {},
   "source": [
    "##### Let's check if there are intersections of users between tests"
   ]
  },
  {
   "cell_type": "code",
   "execution_count": 55,
   "id": "2a2cdcb5",
   "metadata": {},
   "outputs": [
    {
     "data": {
      "text/plain": [
       "array(['recommender_system_test', 'interface_eu_test'], dtype=object)"
      ]
     },
     "execution_count": 55,
     "metadata": {},
     "output_type": "execute_result"
    }
   ],
   "source": [
    "participants['ab_test'].unique()"
   ]
  },
  {
   "cell_type": "code",
   "execution_count": 56,
   "id": "84c8e721",
   "metadata": {},
   "outputs": [],
   "source": [
    "# Select the data for the interface_eu_test test\n",
    "participants_interface = participants.query('ab_test == \"interface_eu_test\"')"
   ]
  },
  {
   "cell_type": "code",
   "execution_count": 57,
   "id": "b9d99772",
   "metadata": {},
   "outputs": [],
   "source": [
    "# Get the user IDs that occur in both tables (participants_interface and merged_new)\n",
    "recommender_in_interface = \\\n",
    "merged_new.loc[merged_new['user_id'].isin(participants_interface['user_id'])]['user_id']\n",
    "\n",
    "interface_in_recommender = \\\n",
    "participants_interface.loc[participants_interface['user_id'].isin(merged_new['user_id'])]['user_id']\n"
   ]
  },
  {
   "cell_type": "code",
   "execution_count": 58,
   "id": "9133b761",
   "metadata": {},
   "outputs": [],
   "source": [
    "# Combine users and remove duplicate values\n",
    "repeating_users_2 = pd.concat([recommender_in_interface, interface_in_recommender], axis=0).drop_duplicates()"
   ]
  },
  {
   "cell_type": "code",
   "execution_count": 59,
   "id": "d42bc1bd",
   "metadata": {},
   "outputs": [
    {
     "data": {
      "text/plain": [
       "1602"
      ]
     },
     "execution_count": 59,
     "metadata": {},
     "output_type": "execute_result"
    }
   ],
   "source": [
    "# Let's count the number of users in both groups\n",
    "repeating_users_2.shape[0]"
   ]
  },
  {
   "cell_type": "markdown",
   "id": "c9f460d6",
   "metadata": {},
   "source": [
    "**If a user participates in the recommender_system_test test and at the same time is in group A of the interface_eu_test test, then such a user can be left, since his participation in the interface_eu_test test will not affect the recommender_system_test test.** \n",
    "\n",
    "**If a user participates in the recommender_system_test test and at the same time is in group B of the interface_eu_test test, then such a user should be deleted, since his participation in the interface_eu_test test will affect the recommender_system_test test.** "
   ]
  },
  {
   "cell_type": "code",
   "execution_count": 60,
   "id": "147797aa",
   "metadata": {},
   "outputs": [
    {
     "data": {
      "text/plain": [
       "783"
      ]
     },
     "execution_count": 60,
     "metadata": {},
     "output_type": "execute_result"
    }
   ],
   "source": [
    "# Get the list of users from the group in the interface_eu_test test, \n",
    "# which are in the repeating_users_2 list at the same time\n",
    "incorrect_users = participants_interface[np.logical_and(participants_interface['user_id'].isin(repeating_users_2),\\\n",
    "participants_interface['group'] == 'B')]['user_id']\n",
    "\n",
    "# Let's count the number of such users\n",
    "len(incorrect_users)"
   ]
  },
  {
   "cell_type": "code",
   "execution_count": 61,
   "id": "8f4f9e55",
   "metadata": {},
   "outputs": [
    {
     "data": {
      "text/plain": [
       "0.1232876712328767"
      ]
     },
     "execution_count": 61,
     "metadata": {},
     "output_type": "execute_result"
    }
   ],
   "source": [
    "# Let's calculate the percentage that incorrect users make up of the total number of users participating in the test\n",
    "len(incorrect_users) / (merged_new['user_id'].nunique())"
   ]
  },
  {
   "cell_type": "markdown",
   "id": "bd27587a",
   "metadata": {},
   "source": [
    "**Conclusion: in my opinion, such users should be removed from consideration.**"
   ]
  },
  {
   "cell_type": "code",
   "execution_count": 62,
   "id": "3665ae7c",
   "metadata": {},
   "outputs": [],
   "source": [
    "# We will remove such users from the orders table\n",
    "merged_new = merged_new.loc[~merged_new['user_id'].isin(incorrect_users)]"
   ]
  },
  {
   "cell_type": "markdown",
   "id": "791003a0",
   "metadata": {},
   "source": [
    "#### Let's study the data on user activity"
   ]
  },
  {
   "cell_type": "markdown",
   "id": "1f5102c6",
   "metadata": {},
   "source": [
    "##### Let's check whether the dates of the events by the test participants coincide with the dates of the test, according to the terms of reference"
   ]
  },
  {
   "cell_type": "code",
   "execution_count": 63,
   "id": "b04e287e",
   "metadata": {},
   "outputs": [],
   "source": [
    "# We leave only the events that the test participants committed\n",
    "correct_events = events.loc[events['user_id'].isin(merged_new['user_id'])]"
   ]
  },
  {
   "cell_type": "code",
   "execution_count": 64,
   "id": "3e4f1f70",
   "metadata": {},
   "outputs": [
    {
     "data": {
      "text/plain": [
       "event_dt\n",
       "2020-12-07    264\n",
       "2020-12-08    232\n",
       "2020-12-09    288\n",
       "2020-12-10    245\n",
       "2020-12-11    223\n",
       "2020-12-12    238\n",
       "2020-12-13    200\n",
       "2020-12-14    508\n",
       "2020-12-15    492\n",
       "2020-12-16    529\n",
       "2020-12-17    558\n",
       "2020-12-18    585\n",
       "2020-12-19    658\n",
       "2020-12-20    702\n",
       "2020-12-21    915\n",
       "2020-12-22    580\n",
       "2020-12-23    461\n",
       "2020-12-24    384\n",
       "2020-12-25    298\n",
       "2020-12-26    264\n",
       "2020-12-27    262\n",
       "2020-12-28    224\n",
       "2020-12-29    202\n",
       "2020-12-30      2\n",
       "Name: user_id, dtype: int64"
      ]
     },
     "execution_count": 64,
     "metadata": {},
     "output_type": "execute_result"
    }
   ],
   "source": [
    "# Let's check for which days we have data in the table\n",
    "correct_events.groupby('event_dt')['user_id'].nunique()"
   ]
  },
  {
   "cell_type": "markdown",
   "id": "6422c60b",
   "metadata": {},
   "source": [
    "**Conclusion: the test participants committed events from December 7, 2020 to December 30, 2020, and not until January 4, 2021, as indicated in the task. Apparently, January 4, 2021 is the date of stopping the competing test, and not the one under consideration, or users have stopped using the system due to the upcoming New Year holidays.**"
   ]
  },
  {
   "cell_type": "markdown",
   "id": "ee2699d1",
   "metadata": {},
   "source": [
    "##### Let's study user activity"
   ]
  },
  {
   "cell_type": "code",
   "execution_count": 65,
   "id": "62f45803",
   "metadata": {},
   "outputs": [
    {
     "data": {
      "text/plain": [
       "5568"
      ]
     },
     "execution_count": 65,
     "metadata": {},
     "output_type": "execute_result"
    }
   ],
   "source": [
    "# Let's count the number of users participating in the test\n",
    "merged_new['user_id'].nunique()"
   ]
  },
  {
   "cell_type": "code",
   "execution_count": 66,
   "id": "11966cba",
   "metadata": {},
   "outputs": [
    {
     "data": {
      "text/plain": [
       "3050"
      ]
     },
     "execution_count": 66,
     "metadata": {},
     "output_type": "execute_result"
    }
   ],
   "source": [
    "# Let's count the number of users participating in the test and who committed the events\n",
    "correct_events['user_id'].nunique()"
   ]
  },
  {
   "cell_type": "code",
   "execution_count": 67,
   "id": "df40387c",
   "metadata": {},
   "outputs": [
    {
     "data": {
      "text/html": [
       "<div>\n",
       "<style scoped>\n",
       "    .dataframe tbody tr th:only-of-type {\n",
       "        vertical-align: middle;\n",
       "    }\n",
       "\n",
       "    .dataframe tbody tr th {\n",
       "        vertical-align: top;\n",
       "    }\n",
       "\n",
       "    .dataframe thead th {\n",
       "        text-align: right;\n",
       "    }\n",
       "</style>\n",
       "<table border=\"1\" class=\"dataframe\">\n",
       "  <thead>\n",
       "    <tr style=\"text-align: right;\">\n",
       "      <th></th>\n",
       "      <th>user_id</th>\n",
       "      <th>event_dt</th>\n",
       "      <th>event_name</th>\n",
       "      <th>details</th>\n",
       "    </tr>\n",
       "  </thead>\n",
       "  <tbody>\n",
       "    <tr>\n",
       "      <th>5</th>\n",
       "      <td>831887FE7F2D6CBA</td>\n",
       "      <td>2020-12-07</td>\n",
       "      <td>purchase</td>\n",
       "      <td>4.99</td>\n",
       "    </tr>\n",
       "    <tr>\n",
       "      <th>17</th>\n",
       "      <td>3C5DD0288AC4FE23</td>\n",
       "      <td>2020-12-07</td>\n",
       "      <td>purchase</td>\n",
       "      <td>4.99</td>\n",
       "    </tr>\n",
       "    <tr>\n",
       "      <th>58</th>\n",
       "      <td>49EA242586C87836</td>\n",
       "      <td>2020-12-07</td>\n",
       "      <td>purchase</td>\n",
       "      <td>99.99</td>\n",
       "    </tr>\n",
       "    <tr>\n",
       "      <th>71</th>\n",
       "      <td>2B06EB547B7AAD08</td>\n",
       "      <td>2020-12-07</td>\n",
       "      <td>purchase</td>\n",
       "      <td>4.99</td>\n",
       "    </tr>\n",
       "    <tr>\n",
       "      <th>74</th>\n",
       "      <td>A640F31CAC7823A6</td>\n",
       "      <td>2020-12-07</td>\n",
       "      <td>purchase</td>\n",
       "      <td>4.99</td>\n",
       "    </tr>\n",
       "  </tbody>\n",
       "</table>\n",
       "</div>"
      ],
      "text/plain": [
       "             user_id    event_dt event_name  details\n",
       "5   831887FE7F2D6CBA  2020-12-07   purchase     4.99\n",
       "17  3C5DD0288AC4FE23  2020-12-07   purchase     4.99\n",
       "58  49EA242586C87836  2020-12-07   purchase    99.99\n",
       "71  2B06EB547B7AAD08  2020-12-07   purchase     4.99\n",
       "74  A640F31CAC7823A6  2020-12-07   purchase     4.99"
      ]
     },
     "execution_count": 67,
     "metadata": {},
     "output_type": "execute_result"
    }
   ],
   "source": [
    "correct_events.head()"
   ]
  },
  {
   "cell_type": "code",
   "execution_count": 68,
   "id": "3d4d5522",
   "metadata": {},
   "outputs": [
    {
     "data": {
      "text/plain": [
       "login           9306\n",
       "product_page    5740\n",
       "purchase        2804\n",
       "product_cart    2714\n",
       "Name: event_name, dtype: int64"
      ]
     },
     "execution_count": 68,
     "metadata": {},
     "output_type": "execute_result"
    }
   ],
   "source": [
    "# Let's check what events are in the logs, how often they occur\n",
    "correct_events['event_name'].value_counts()"
   ]
  },
  {
   "cell_type": "code",
   "execution_count": 69,
   "id": "9812bb92",
   "metadata": {},
   "outputs": [
    {
     "data": {
      "text/html": [
       "<div>\n",
       "<style scoped>\n",
       "    .dataframe tbody tr th:only-of-type {\n",
       "        vertical-align: middle;\n",
       "    }\n",
       "\n",
       "    .dataframe tbody tr th {\n",
       "        vertical-align: top;\n",
       "    }\n",
       "\n",
       "    .dataframe thead th {\n",
       "        text-align: right;\n",
       "    }\n",
       "</style>\n",
       "<table border=\"1\" class=\"dataframe\">\n",
       "  <thead>\n",
       "    <tr style=\"text-align: right;\">\n",
       "      <th></th>\n",
       "      <th>user_id</th>\n",
       "    </tr>\n",
       "    <tr>\n",
       "      <th>event_name</th>\n",
       "      <th></th>\n",
       "    </tr>\n",
       "  </thead>\n",
       "  <tbody>\n",
       "    <tr>\n",
       "      <th>login</th>\n",
       "      <td>3050</td>\n",
       "    </tr>\n",
       "    <tr>\n",
       "      <th>product_page</th>\n",
       "      <td>1905</td>\n",
       "    </tr>\n",
       "    <tr>\n",
       "      <th>purchase</th>\n",
       "      <td>953</td>\n",
       "    </tr>\n",
       "    <tr>\n",
       "      <th>product_cart</th>\n",
       "      <td>900</td>\n",
       "    </tr>\n",
       "  </tbody>\n",
       "</table>\n",
       "</div>"
      ],
      "text/plain": [
       "              user_id\n",
       "event_name           \n",
       "login            3050\n",
       "product_page     1905\n",
       "purchase          953\n",
       "product_cart      900"
      ]
     },
     "execution_count": 69,
     "metadata": {},
     "output_type": "execute_result"
    }
   ],
   "source": [
    "# Let's count how many users participating in the test committed each of these events\n",
    "users_with_actions = correct_events.pivot_table(index='event_name', values='user_id', aggfunc='nunique')\n",
    "users_with_actions.sort_values(by='user_id', ascending=False)"
   ]
  },
  {
   "cell_type": "code",
   "execution_count": 70,
   "id": "e033bf02",
   "metadata": {},
   "outputs": [
    {
     "data": {
      "text/html": [
       "<div>\n",
       "<style scoped>\n",
       "    .dataframe tbody tr th:only-of-type {\n",
       "        vertical-align: middle;\n",
       "    }\n",
       "\n",
       "    .dataframe tbody tr th {\n",
       "        vertical-align: top;\n",
       "    }\n",
       "\n",
       "    .dataframe thead th {\n",
       "        text-align: right;\n",
       "    }\n",
       "</style>\n",
       "<table border=\"1\" class=\"dataframe\">\n",
       "  <thead>\n",
       "    <tr style=\"text-align: right;\">\n",
       "      <th></th>\n",
       "      <th>user_id</th>\n",
       "      <th>percentage</th>\n",
       "    </tr>\n",
       "    <tr>\n",
       "      <th>event_name</th>\n",
       "      <th></th>\n",
       "      <th></th>\n",
       "    </tr>\n",
       "  </thead>\n",
       "  <tbody>\n",
       "    <tr>\n",
       "      <th>login</th>\n",
       "      <td>3050</td>\n",
       "      <td>100.00</td>\n",
       "    </tr>\n",
       "    <tr>\n",
       "      <th>product_page</th>\n",
       "      <td>1905</td>\n",
       "      <td>62.46</td>\n",
       "    </tr>\n",
       "    <tr>\n",
       "      <th>purchase</th>\n",
       "      <td>953</td>\n",
       "      <td>31.25</td>\n",
       "    </tr>\n",
       "    <tr>\n",
       "      <th>product_cart</th>\n",
       "      <td>900</td>\n",
       "      <td>29.51</td>\n",
       "    </tr>\n",
       "  </tbody>\n",
       "</table>\n",
       "</div>"
      ],
      "text/plain": [
       "              user_id  percentage\n",
       "event_name                       \n",
       "login            3050      100.00\n",
       "product_page     1905       62.46\n",
       "purchase          953       31.25\n",
       "product_cart      900       29.51"
      ]
     },
     "execution_count": 70,
     "metadata": {},
     "output_type": "execute_result"
    }
   ],
   "source": [
    "# Let's calculate the proportion of users who have ever committed an event\n",
    "users_with_actions['percentage'] = round(100 * (users_with_actions['user_id'] / correct_events['user_id'].nunique()), 2)\n",
    "users_with_actions.sort_values(by='percentage', ascending=False)"
   ]
  },
  {
   "cell_type": "markdown",
   "id": "6545ef29",
   "metadata": {},
   "source": [
    "**Conclusion: it turns out that 2,518 users participating in the test did not commit the event.**"
   ]
  },
  {
   "cell_type": "code",
   "execution_count": 71,
   "id": "853b51cf",
   "metadata": {},
   "outputs": [],
   "source": [
    "# We will leave the data only for those users who participated in the test, but did not commit events\n",
    "merged_no_actions = merged_new.loc[~merged_new['user_id'].isin(correct_events['user_id'])]"
   ]
  },
  {
   "cell_type": "code",
   "execution_count": 72,
   "id": "825534c8",
   "metadata": {},
   "outputs": [
    {
     "data": {
      "text/html": [
       "<div>\n",
       "<style scoped>\n",
       "    .dataframe tbody tr th:only-of-type {\n",
       "        vertical-align: middle;\n",
       "    }\n",
       "\n",
       "    .dataframe tbody tr th {\n",
       "        vertical-align: top;\n",
       "    }\n",
       "\n",
       "    .dataframe thead th {\n",
       "        text-align: right;\n",
       "    }\n",
       "</style>\n",
       "<table border=\"1\" class=\"dataframe\">\n",
       "  <thead>\n",
       "    <tr style=\"text-align: right;\">\n",
       "      <th></th>\n",
       "      <th>user_id</th>\n",
       "      <th>first_date</th>\n",
       "      <th>region</th>\n",
       "      <th>device</th>\n",
       "      <th>group</th>\n",
       "      <th>ab_test</th>\n",
       "    </tr>\n",
       "  </thead>\n",
       "  <tbody>\n",
       "    <tr>\n",
       "      <th>67</th>\n",
       "      <td>16C69ED14DA9F4A8</td>\n",
       "      <td>2020-12-07</td>\n",
       "      <td>EU</td>\n",
       "      <td>PC</td>\n",
       "      <td>B</td>\n",
       "      <td>recommender_system_test</td>\n",
       "    </tr>\n",
       "    <tr>\n",
       "      <th>82</th>\n",
       "      <td>2420EA89BB4BB0EA</td>\n",
       "      <td>2020-12-07</td>\n",
       "      <td>EU</td>\n",
       "      <td>iPhone</td>\n",
       "      <td>A</td>\n",
       "      <td>recommender_system_test</td>\n",
       "    </tr>\n",
       "    <tr>\n",
       "      <th>88</th>\n",
       "      <td>4D851A41ECF4440F</td>\n",
       "      <td>2020-12-07</td>\n",
       "      <td>EU</td>\n",
       "      <td>Android</td>\n",
       "      <td>B</td>\n",
       "      <td>recommender_system_test</td>\n",
       "    </tr>\n",
       "    <tr>\n",
       "      <th>147</th>\n",
       "      <td>8EB0C7622C73BBA3</td>\n",
       "      <td>2020-12-07</td>\n",
       "      <td>EU</td>\n",
       "      <td>Android</td>\n",
       "      <td>A</td>\n",
       "      <td>recommender_system_test</td>\n",
       "    </tr>\n",
       "    <tr>\n",
       "      <th>170</th>\n",
       "      <td>CC4AB3D82E6B0C22</td>\n",
       "      <td>2020-12-07</td>\n",
       "      <td>EU</td>\n",
       "      <td>PC</td>\n",
       "      <td>A</td>\n",
       "      <td>recommender_system_test</td>\n",
       "    </tr>\n",
       "  </tbody>\n",
       "</table>\n",
       "</div>"
      ],
      "text/plain": [
       "              user_id  first_date region   device group  \\\n",
       "67   16C69ED14DA9F4A8  2020-12-07     EU       PC     B   \n",
       "82   2420EA89BB4BB0EA  2020-12-07     EU   iPhone     A   \n",
       "88   4D851A41ECF4440F  2020-12-07     EU  Android     B   \n",
       "147  8EB0C7622C73BBA3  2020-12-07     EU  Android     A   \n",
       "170  CC4AB3D82E6B0C22  2020-12-07     EU       PC     A   \n",
       "\n",
       "                     ab_test  \n",
       "67   recommender_system_test  \n",
       "82   recommender_system_test  \n",
       "88   recommender_system_test  \n",
       "147  recommender_system_test  \n",
       "170  recommender_system_test  "
      ]
     },
     "execution_count": 72,
     "metadata": {},
     "output_type": "execute_result"
    }
   ],
   "source": [
    "merged_no_actions.head()"
   ]
  },
  {
   "cell_type": "code",
   "execution_count": 73,
   "id": "a3e94145",
   "metadata": {},
   "outputs": [
    {
     "data": {
      "text/plain": [
       "916"
      ]
     },
     "metadata": {},
     "output_type": "display_data"
    },
    {
     "data": {
      "text/plain": [
       "1602"
      ]
     },
     "execution_count": 73,
     "metadata": {},
     "output_type": "execute_result"
    }
   ],
   "source": [
    "# Let's count how many of these users got into groups A and B\n",
    "merged_no_actions_A = merged_no_actions.query('group == \"A\"')['user_id'].nunique()\n",
    "merged_no_actions_B = merged_no_actions.query('group == \"B\"')['user_id'].nunique()\n",
    "\n",
    "display(merged_no_actions_A)\n",
    "merged_no_actions_B"
   ]
  },
  {
   "cell_type": "markdown",
   "id": "f47af74e",
   "metadata": {},
   "source": [
    "**Let's try to assess the dynamics of the appearance of users without events**"
   ]
  },
  {
   "cell_type": "code",
   "execution_count": 74,
   "id": "0ee77784",
   "metadata": {},
   "outputs": [
    {
     "data": {
      "text/html": [
       "<div>\n",
       "<style scoped>\n",
       "    .dataframe tbody tr th:only-of-type {\n",
       "        vertical-align: middle;\n",
       "    }\n",
       "\n",
       "    .dataframe tbody tr th {\n",
       "        vertical-align: top;\n",
       "    }\n",
       "\n",
       "    .dataframe thead th {\n",
       "        text-align: right;\n",
       "    }\n",
       "</style>\n",
       "<table border=\"1\" class=\"dataframe\">\n",
       "  <thead>\n",
       "    <tr style=\"text-align: right;\">\n",
       "      <th></th>\n",
       "      <th>first_date</th>\n",
       "      <th>group</th>\n",
       "    </tr>\n",
       "  </thead>\n",
       "  <tbody>\n",
       "    <tr>\n",
       "      <th>82</th>\n",
       "      <td>2020-12-07</td>\n",
       "      <td>A</td>\n",
       "    </tr>\n",
       "    <tr>\n",
       "      <th>67</th>\n",
       "      <td>2020-12-07</td>\n",
       "      <td>B</td>\n",
       "    </tr>\n",
       "    <tr>\n",
       "      <th>18044</th>\n",
       "      <td>2020-12-08</td>\n",
       "      <td>A</td>\n",
       "    </tr>\n",
       "    <tr>\n",
       "      <th>18040</th>\n",
       "      <td>2020-12-08</td>\n",
       "      <td>B</td>\n",
       "    </tr>\n",
       "    <tr>\n",
       "      <th>27630</th>\n",
       "      <td>2020-12-09</td>\n",
       "      <td>A</td>\n",
       "    </tr>\n",
       "    <tr>\n",
       "      <th>27621</th>\n",
       "      <td>2020-12-09</td>\n",
       "      <td>B</td>\n",
       "    </tr>\n",
       "    <tr>\n",
       "      <th>34143</th>\n",
       "      <td>2020-12-10</td>\n",
       "      <td>A</td>\n",
       "    </tr>\n",
       "    <tr>\n",
       "      <th>34135</th>\n",
       "      <td>2020-12-10</td>\n",
       "      <td>B</td>\n",
       "    </tr>\n",
       "    <tr>\n",
       "      <th>40446</th>\n",
       "      <td>2020-12-11</td>\n",
       "      <td>A</td>\n",
       "    </tr>\n",
       "    <tr>\n",
       "      <th>40443</th>\n",
       "      <td>2020-12-11</td>\n",
       "      <td>B</td>\n",
       "    </tr>\n",
       "    <tr>\n",
       "      <th>46362</th>\n",
       "      <td>2020-12-12</td>\n",
       "      <td>A</td>\n",
       "    </tr>\n",
       "    <tr>\n",
       "      <th>46354</th>\n",
       "      <td>2020-12-12</td>\n",
       "      <td>B</td>\n",
       "    </tr>\n",
       "    <tr>\n",
       "      <th>54147</th>\n",
       "      <td>2020-12-13</td>\n",
       "      <td>A</td>\n",
       "    </tr>\n",
       "    <tr>\n",
       "      <th>54120</th>\n",
       "      <td>2020-12-13</td>\n",
       "      <td>B</td>\n",
       "    </tr>\n",
       "    <tr>\n",
       "      <th>5778</th>\n",
       "      <td>2020-12-14</td>\n",
       "      <td>B</td>\n",
       "    </tr>\n",
       "    <tr>\n",
       "      <th>21376</th>\n",
       "      <td>2020-12-15</td>\n",
       "      <td>B</td>\n",
       "    </tr>\n",
       "    <tr>\n",
       "      <th>30109</th>\n",
       "      <td>2020-12-16</td>\n",
       "      <td>B</td>\n",
       "    </tr>\n",
       "    <tr>\n",
       "      <th>37312</th>\n",
       "      <td>2020-12-17</td>\n",
       "      <td>B</td>\n",
       "    </tr>\n",
       "    <tr>\n",
       "      <th>43004</th>\n",
       "      <td>2020-12-18</td>\n",
       "      <td>B</td>\n",
       "    </tr>\n",
       "    <tr>\n",
       "      <th>50445</th>\n",
       "      <td>2020-12-19</td>\n",
       "      <td>B</td>\n",
       "    </tr>\n",
       "    <tr>\n",
       "      <th>58949</th>\n",
       "      <td>2020-12-20</td>\n",
       "      <td>B</td>\n",
       "    </tr>\n",
       "    <tr>\n",
       "      <th>11595</th>\n",
       "      <td>2020-12-21</td>\n",
       "      <td>B</td>\n",
       "    </tr>\n",
       "  </tbody>\n",
       "</table>\n",
       "</div>"
      ],
      "text/plain": [
       "       first_date group\n",
       "82     2020-12-07     A\n",
       "67     2020-12-07     B\n",
       "18044  2020-12-08     A\n",
       "18040  2020-12-08     B\n",
       "27630  2020-12-09     A\n",
       "27621  2020-12-09     B\n",
       "34143  2020-12-10     A\n",
       "34135  2020-12-10     B\n",
       "40446  2020-12-11     A\n",
       "40443  2020-12-11     B\n",
       "46362  2020-12-12     A\n",
       "46354  2020-12-12     B\n",
       "54147  2020-12-13     A\n",
       "54120  2020-12-13     B\n",
       "5778   2020-12-14     B\n",
       "21376  2020-12-15     B\n",
       "30109  2020-12-16     B\n",
       "37312  2020-12-17     B\n",
       "43004  2020-12-18     B\n",
       "50445  2020-12-19     B\n",
       "58949  2020-12-20     B\n",
       "11595  2020-12-21     B"
      ]
     },
     "execution_count": 74,
     "metadata": {},
     "output_type": "execute_result"
    }
   ],
   "source": [
    "# Creating an array of unique pairs of event date values and test groups, \n",
    "# to then plot the dynamics of the appearance of users without events\n",
    "no_actions_dates_groups = merged_no_actions[['first_date','group']].drop_duplicates()\n",
    "no_actions_dates_groups = no_actions_dates_groups.sort_values(by=['first_date','group'])\n",
    "no_actions_dates_groups"
   ]
  },
  {
   "cell_type": "code",
   "execution_count": 75,
   "id": "3eb5e5c6",
   "metadata": {},
   "outputs": [
    {
     "data": {
      "text/html": [
       "<div>\n",
       "<style scoped>\n",
       "    .dataframe tbody tr th:only-of-type {\n",
       "        vertical-align: middle;\n",
       "    }\n",
       "\n",
       "    .dataframe tbody tr th {\n",
       "        vertical-align: top;\n",
       "    }\n",
       "\n",
       "    .dataframe thead th {\n",
       "        text-align: right;\n",
       "    }\n",
       "</style>\n",
       "<table border=\"1\" class=\"dataframe\">\n",
       "  <thead>\n",
       "    <tr style=\"text-align: right;\">\n",
       "      <th></th>\n",
       "      <th>first_date</th>\n",
       "      <th>group</th>\n",
       "      <th>user_id</th>\n",
       "    </tr>\n",
       "  </thead>\n",
       "  <tbody>\n",
       "    <tr>\n",
       "      <th>82</th>\n",
       "      <td>2020-12-07</td>\n",
       "      <td>A</td>\n",
       "      <td>175</td>\n",
       "    </tr>\n",
       "    <tr>\n",
       "      <th>67</th>\n",
       "      <td>2020-12-07</td>\n",
       "      <td>B</td>\n",
       "      <td>70</td>\n",
       "    </tr>\n",
       "    <tr>\n",
       "      <th>18044</th>\n",
       "      <td>2020-12-08</td>\n",
       "      <td>A</td>\n",
       "      <td>258</td>\n",
       "    </tr>\n",
       "    <tr>\n",
       "      <th>18040</th>\n",
       "      <td>2020-12-08</td>\n",
       "      <td>B</td>\n",
       "      <td>158</td>\n",
       "    </tr>\n",
       "    <tr>\n",
       "      <th>27630</th>\n",
       "      <td>2020-12-09</td>\n",
       "      <td>A</td>\n",
       "      <td>311</td>\n",
       "    </tr>\n",
       "    <tr>\n",
       "      <th>27621</th>\n",
       "      <td>2020-12-09</td>\n",
       "      <td>B</td>\n",
       "      <td>180</td>\n",
       "    </tr>\n",
       "    <tr>\n",
       "      <th>34143</th>\n",
       "      <td>2020-12-10</td>\n",
       "      <td>A</td>\n",
       "      <td>421</td>\n",
       "    </tr>\n",
       "    <tr>\n",
       "      <th>34135</th>\n",
       "      <td>2020-12-10</td>\n",
       "      <td>B</td>\n",
       "      <td>312</td>\n",
       "    </tr>\n",
       "    <tr>\n",
       "      <th>40446</th>\n",
       "      <td>2020-12-11</td>\n",
       "      <td>A</td>\n",
       "      <td>481</td>\n",
       "    </tr>\n",
       "    <tr>\n",
       "      <th>40443</th>\n",
       "      <td>2020-12-11</td>\n",
       "      <td>B</td>\n",
       "      <td>391</td>\n",
       "    </tr>\n",
       "    <tr>\n",
       "      <th>46362</th>\n",
       "      <td>2020-12-12</td>\n",
       "      <td>A</td>\n",
       "      <td>668</td>\n",
       "    </tr>\n",
       "    <tr>\n",
       "      <th>46354</th>\n",
       "      <td>2020-12-12</td>\n",
       "      <td>B</td>\n",
       "      <td>518</td>\n",
       "    </tr>\n",
       "    <tr>\n",
       "      <th>54147</th>\n",
       "      <td>2020-12-13</td>\n",
       "      <td>A</td>\n",
       "      <td>916</td>\n",
       "    </tr>\n",
       "    <tr>\n",
       "      <th>54120</th>\n",
       "      <td>2020-12-13</td>\n",
       "      <td>B</td>\n",
       "      <td>704</td>\n",
       "    </tr>\n",
       "    <tr>\n",
       "      <th>5778</th>\n",
       "      <td>2020-12-14</td>\n",
       "      <td>B</td>\n",
       "      <td>873</td>\n",
       "    </tr>\n",
       "    <tr>\n",
       "      <th>21376</th>\n",
       "      <td>2020-12-15</td>\n",
       "      <td>B</td>\n",
       "      <td>968</td>\n",
       "    </tr>\n",
       "    <tr>\n",
       "      <th>30109</th>\n",
       "      <td>2020-12-16</td>\n",
       "      <td>B</td>\n",
       "      <td>984</td>\n",
       "    </tr>\n",
       "    <tr>\n",
       "      <th>37312</th>\n",
       "      <td>2020-12-17</td>\n",
       "      <td>B</td>\n",
       "      <td>1073</td>\n",
       "    </tr>\n",
       "    <tr>\n",
       "      <th>43004</th>\n",
       "      <td>2020-12-18</td>\n",
       "      <td>B</td>\n",
       "      <td>1178</td>\n",
       "    </tr>\n",
       "    <tr>\n",
       "      <th>50445</th>\n",
       "      <td>2020-12-19</td>\n",
       "      <td>B</td>\n",
       "      <td>1298</td>\n",
       "    </tr>\n",
       "    <tr>\n",
       "      <th>58949</th>\n",
       "      <td>2020-12-20</td>\n",
       "      <td>B</td>\n",
       "      <td>1427</td>\n",
       "    </tr>\n",
       "    <tr>\n",
       "      <th>11595</th>\n",
       "      <td>2020-12-21</td>\n",
       "      <td>B</td>\n",
       "      <td>1602</td>\n",
       "    </tr>\n",
       "  </tbody>\n",
       "</table>\n",
       "</div>"
      ],
      "text/plain": [
       "       first_date group  user_id\n",
       "82     2020-12-07     A      175\n",
       "67     2020-12-07     B       70\n",
       "18044  2020-12-08     A      258\n",
       "18040  2020-12-08     B      158\n",
       "27630  2020-12-09     A      311\n",
       "27621  2020-12-09     B      180\n",
       "34143  2020-12-10     A      421\n",
       "34135  2020-12-10     B      312\n",
       "40446  2020-12-11     A      481\n",
       "40443  2020-12-11     B      391\n",
       "46362  2020-12-12     A      668\n",
       "46354  2020-12-12     B      518\n",
       "54147  2020-12-13     A      916\n",
       "54120  2020-12-13     B      704\n",
       "5778   2020-12-14     B      873\n",
       "21376  2020-12-15     B      968\n",
       "30109  2020-12-16     B      984\n",
       "37312  2020-12-17     B     1073\n",
       "43004  2020-12-18     B     1178\n",
       "50445  2020-12-19     B     1298\n",
       "58949  2020-12-20     B     1427\n",
       "11595  2020-12-21     B     1602"
      ]
     },
     "execution_count": 75,
     "metadata": {},
     "output_type": "execute_result"
    }
   ],
   "source": [
    "# We get aggregated cumulative data by days\n",
    "no_actions_dynamic_participation = no_actions_dates_groups.apply\\\n",
    "(lambda x: merged_no_actions[np.logical_and(merged_no_actions['first_date'] <= x['first_date'], \n",
    "                                            merged_no_actions['group'] == x['group'])]\\\n",
    " .agg({'first_date' : 'max', 'group' : 'max', 'user_id' : 'nunique'}), axis=1)\\\n",
    ".sort_values(by=['first_date','group'])\n",
    "no_actions_dynamic_participation"
   ]
  },
  {
   "cell_type": "code",
   "execution_count": 76,
   "id": "58e22aee",
   "metadata": {},
   "outputs": [],
   "source": [
    "# Let's create a dataframe by days in group A\n",
    "no_actions_cumulative_A = no_actions_dynamic_participation[no_actions_dynamic_participation['group']=='A']"
   ]
  },
  {
   "cell_type": "code",
   "execution_count": 77,
   "id": "ad133961",
   "metadata": {},
   "outputs": [],
   "source": [
    "# Let's create a dataframe by days in group B\n",
    "no_actions_cumulative_B = no_actions_dynamic_participation[no_actions_dynamic_participation['group']=='B']"
   ]
  },
  {
   "cell_type": "code",
   "execution_count": 124,
   "id": "c32d979a",
   "metadata": {},
   "outputs": [
    {
     "data": {
      "image/png": "[encoded data removed]",
      "text/plain": [
       "<Figure size 1000x600 with 1 Axes>"
      ]
     },
     "metadata": {},
     "output_type": "display_data"
    }
   ],
   "source": [
    "# Let's build a graph that will show the dynamics of attracting users without an event\n",
    "plt.figure(figsize=(10, 6))\n",
    "plt.plot(no_actions_cumulative_A['first_date'], no_actions_cumulative_A['user_id'], label='group_A')\n",
    "plt.plot(no_actions_cumulative_B['first_date'], no_actions_cumulative_B['user_id'], label='group_B')\n",
    "plt.legend()\n",
    "plt.xlabel('Testing date')\n",
    "plt.ylabel('Number of new users without events')\n",
    "plt.title('Dynamics of attracting users without events by days and groups')\n",
    "plt.xticks(rotation='45')\n",
    "plt.show()"
   ]
  },
  {
   "cell_type": "markdown",
   "id": "fcfb8038",
   "metadata": {},
   "source": [
    "**Conclusion: there are 1.75 times more users who did not commit events in group B than similar users from group A. It was also found that the dynamics of the appearance of users without events is completely different - in group A, such users stopped appearing after 13.12.2020, while in group B they appeared during the entire period of recruitment of new users.\n",
    "In my opinion, this suggests that the distribution of users into groups did not work correctly.** \n",
    "\n",
    "**In my opinion, when analyzing the test result, it is necessary to remove users from consideration without events.**"
   ]
  },
  {
   "cell_type": "code",
   "execution_count": 79,
   "id": "8256a977",
   "metadata": {},
   "outputs": [],
   "source": [
    "# We will leave the data only for users who participated in the tests and at the same time committed events\n",
    "merged_correct = merged_new.loc[merged_new['user_id'].isin(correct_events['user_id'])]"
   ]
  },
  {
   "cell_type": "markdown",
   "id": "bf5db5e1",
   "metadata": {},
   "source": [
    "##### Calculate the analysis horizon"
   ]
  },
  {
   "cell_type": "code",
   "execution_count": 80,
   "id": "cd593ccb",
   "metadata": {},
   "outputs": [
    {
     "data": {
      "text/html": [
       "<div>\n",
       "<style scoped>\n",
       "    .dataframe tbody tr th:only-of-type {\n",
       "        vertical-align: middle;\n",
       "    }\n",
       "\n",
       "    .dataframe tbody tr th {\n",
       "        vertical-align: top;\n",
       "    }\n",
       "\n",
       "    .dataframe thead th {\n",
       "        text-align: right;\n",
       "    }\n",
       "</style>\n",
       "<table border=\"1\" class=\"dataframe\">\n",
       "  <thead>\n",
       "    <tr style=\"text-align: right;\">\n",
       "      <th></th>\n",
       "      <th>user_id</th>\n",
       "      <th>first_date</th>\n",
       "      <th>region</th>\n",
       "      <th>device</th>\n",
       "      <th>group</th>\n",
       "      <th>ab_test</th>\n",
       "      <th>event_dt</th>\n",
       "      <th>event_name</th>\n",
       "      <th>details</th>\n",
       "    </tr>\n",
       "  </thead>\n",
       "  <tbody>\n",
       "    <tr>\n",
       "      <th>0</th>\n",
       "      <td>D72A72121175D8BE</td>\n",
       "      <td>2020-12-07</td>\n",
       "      <td>EU</td>\n",
       "      <td>PC</td>\n",
       "      <td>A</td>\n",
       "      <td>recommender_system_test</td>\n",
       "      <td>2020-12-07</td>\n",
       "      <td>product_page</td>\n",
       "      <td>NaN</td>\n",
       "    </tr>\n",
       "    <tr>\n",
       "      <th>1</th>\n",
       "      <td>D72A72121175D8BE</td>\n",
       "      <td>2020-12-07</td>\n",
       "      <td>EU</td>\n",
       "      <td>PC</td>\n",
       "      <td>A</td>\n",
       "      <td>recommender_system_test</td>\n",
       "      <td>2020-12-07</td>\n",
       "      <td>login</td>\n",
       "      <td>NaN</td>\n",
       "    </tr>\n",
       "    <tr>\n",
       "      <th>2</th>\n",
       "      <td>DD4352CDCF8C3D57</td>\n",
       "      <td>2020-12-07</td>\n",
       "      <td>EU</td>\n",
       "      <td>Android</td>\n",
       "      <td>B</td>\n",
       "      <td>recommender_system_test</td>\n",
       "      <td>2020-12-07</td>\n",
       "      <td>product_page</td>\n",
       "      <td>NaN</td>\n",
       "    </tr>\n",
       "    <tr>\n",
       "      <th>3</th>\n",
       "      <td>DD4352CDCF8C3D57</td>\n",
       "      <td>2020-12-07</td>\n",
       "      <td>EU</td>\n",
       "      <td>Android</td>\n",
       "      <td>B</td>\n",
       "      <td>recommender_system_test</td>\n",
       "      <td>2020-12-08</td>\n",
       "      <td>product_page</td>\n",
       "      <td>NaN</td>\n",
       "    </tr>\n",
       "    <tr>\n",
       "      <th>4</th>\n",
       "      <td>DD4352CDCF8C3D57</td>\n",
       "      <td>2020-12-07</td>\n",
       "      <td>EU</td>\n",
       "      <td>Android</td>\n",
       "      <td>B</td>\n",
       "      <td>recommender_system_test</td>\n",
       "      <td>2020-12-10</td>\n",
       "      <td>product_page</td>\n",
       "      <td>NaN</td>\n",
       "    </tr>\n",
       "  </tbody>\n",
       "</table>\n",
       "</div>"
      ],
      "text/plain": [
       "            user_id  first_date region   device group  \\\n",
       "0  D72A72121175D8BE  2020-12-07     EU       PC     A   \n",
       "1  D72A72121175D8BE  2020-12-07     EU       PC     A   \n",
       "2  DD4352CDCF8C3D57  2020-12-07     EU  Android     B   \n",
       "3  DD4352CDCF8C3D57  2020-12-07     EU  Android     B   \n",
       "4  DD4352CDCF8C3D57  2020-12-07     EU  Android     B   \n",
       "\n",
       "                   ab_test    event_dt    event_name  details  \n",
       "0  recommender_system_test  2020-12-07  product_page      NaN  \n",
       "1  recommender_system_test  2020-12-07         login      NaN  \n",
       "2  recommender_system_test  2020-12-07  product_page      NaN  \n",
       "3  recommender_system_test  2020-12-08  product_page      NaN  \n",
       "4  recommender_system_test  2020-12-10  product_page      NaN  "
      ]
     },
     "execution_count": 80,
     "metadata": {},
     "output_type": "execute_result"
    }
   ],
   "source": [
    "# Let's connect the merged_correct and correct_events tables\n",
    "correct_data = merged_correct.merge(correct_events, on='user_id', how='left')\n",
    "correct_data.head()"
   ]
  },
  {
   "cell_type": "code",
   "execution_count": 81,
   "id": "c6808505",
   "metadata": {},
   "outputs": [
    {
     "data": {
      "text/html": [
       "<div>\n",
       "<style scoped>\n",
       "    .dataframe tbody tr th:only-of-type {\n",
       "        vertical-align: middle;\n",
       "    }\n",
       "\n",
       "    .dataframe tbody tr th {\n",
       "        vertical-align: top;\n",
       "    }\n",
       "\n",
       "    .dataframe thead th {\n",
       "        text-align: right;\n",
       "    }\n",
       "</style>\n",
       "<table border=\"1\" class=\"dataframe\">\n",
       "  <thead>\n",
       "    <tr style=\"text-align: right;\">\n",
       "      <th></th>\n",
       "      <th>user_id</th>\n",
       "      <th>event_name</th>\n",
       "      <th>event_dt</th>\n",
       "      <th>first_date</th>\n",
       "    </tr>\n",
       "  </thead>\n",
       "  <tbody>\n",
       "    <tr>\n",
       "      <th>0</th>\n",
       "      <td>0010A1C096941592</td>\n",
       "      <td>login</td>\n",
       "      <td>2020-12-17</td>\n",
       "      <td>2020-12-17</td>\n",
       "    </tr>\n",
       "    <tr>\n",
       "      <th>1</th>\n",
       "      <td>0010A1C096941592</td>\n",
       "      <td>product_page</td>\n",
       "      <td>2020-12-17</td>\n",
       "      <td>2020-12-17</td>\n",
       "    </tr>\n",
       "    <tr>\n",
       "      <th>2</th>\n",
       "      <td>0010A1C096941592</td>\n",
       "      <td>purchase</td>\n",
       "      <td>2020-12-17</td>\n",
       "      <td>2020-12-17</td>\n",
       "    </tr>\n",
       "    <tr>\n",
       "      <th>3</th>\n",
       "      <td>00341D8401F0F665</td>\n",
       "      <td>login</td>\n",
       "      <td>2020-12-21</td>\n",
       "      <td>2020-12-21</td>\n",
       "    </tr>\n",
       "    <tr>\n",
       "      <th>4</th>\n",
       "      <td>003DF44D7589BBD4</td>\n",
       "      <td>login</td>\n",
       "      <td>2020-12-17</td>\n",
       "      <td>2020-12-17</td>\n",
       "    </tr>\n",
       "  </tbody>\n",
       "</table>\n",
       "</div>"
      ],
      "text/plain": [
       "            user_id    event_name    event_dt  first_date\n",
       "0  0010A1C096941592         login  2020-12-17  2020-12-17\n",
       "1  0010A1C096941592  product_page  2020-12-17  2020-12-17\n",
       "2  0010A1C096941592      purchase  2020-12-17  2020-12-17\n",
       "3  00341D8401F0F665         login  2020-12-21  2020-12-21\n",
       "4  003DF44D7589BBD4         login  2020-12-17  2020-12-17"
      ]
     },
     "execution_count": 81,
     "metadata": {},
     "output_type": "execute_result"
    }
   ],
   "source": [
    "# For each user, we will find the registration date, the events that he committed, the first date for each event\n",
    "user_lifetime = correct_data.pivot_table(index=['user_id', 'event_name'], \n",
    "                                         values=['first_date','event_dt'], \n",
    "                                         aggfunc='first').reset_index() \n",
    "user_lifetime.head()"
   ]
  },
  {
   "cell_type": "code",
   "execution_count": 82,
   "id": "079457c2",
   "metadata": {},
   "outputs": [
    {
     "data": {
      "text/html": [
       "<div>\n",
       "<style scoped>\n",
       "    .dataframe tbody tr th:only-of-type {\n",
       "        vertical-align: middle;\n",
       "    }\n",
       "\n",
       "    .dataframe tbody tr th {\n",
       "        vertical-align: top;\n",
       "    }\n",
       "\n",
       "    .dataframe thead th {\n",
       "        text-align: right;\n",
       "    }\n",
       "</style>\n",
       "<table border=\"1\" class=\"dataframe\">\n",
       "  <thead>\n",
       "    <tr style=\"text-align: right;\">\n",
       "      <th></th>\n",
       "      <th>user_id</th>\n",
       "      <th>event_name</th>\n",
       "      <th>event_dt</th>\n",
       "      <th>first_date</th>\n",
       "      <th>lifetime</th>\n",
       "    </tr>\n",
       "  </thead>\n",
       "  <tbody>\n",
       "    <tr>\n",
       "      <th>0</th>\n",
       "      <td>0010A1C096941592</td>\n",
       "      <td>login</td>\n",
       "      <td>2020-12-17</td>\n",
       "      <td>2020-12-17</td>\n",
       "      <td>0</td>\n",
       "    </tr>\n",
       "    <tr>\n",
       "      <th>1</th>\n",
       "      <td>0010A1C096941592</td>\n",
       "      <td>product_page</td>\n",
       "      <td>2020-12-17</td>\n",
       "      <td>2020-12-17</td>\n",
       "      <td>0</td>\n",
       "    </tr>\n",
       "    <tr>\n",
       "      <th>2</th>\n",
       "      <td>0010A1C096941592</td>\n",
       "      <td>purchase</td>\n",
       "      <td>2020-12-17</td>\n",
       "      <td>2020-12-17</td>\n",
       "      <td>0</td>\n",
       "    </tr>\n",
       "    <tr>\n",
       "      <th>3</th>\n",
       "      <td>00341D8401F0F665</td>\n",
       "      <td>login</td>\n",
       "      <td>2020-12-21</td>\n",
       "      <td>2020-12-21</td>\n",
       "      <td>0</td>\n",
       "    </tr>\n",
       "    <tr>\n",
       "      <th>4</th>\n",
       "      <td>003DF44D7589BBD4</td>\n",
       "      <td>login</td>\n",
       "      <td>2020-12-17</td>\n",
       "      <td>2020-12-17</td>\n",
       "      <td>0</td>\n",
       "    </tr>\n",
       "  </tbody>\n",
       "</table>\n",
       "</div>"
      ],
      "text/plain": [
       "            user_id    event_name    event_dt  first_date  lifetime\n",
       "0  0010A1C096941592         login  2020-12-17  2020-12-17         0\n",
       "1  0010A1C096941592  product_page  2020-12-17  2020-12-17         0\n",
       "2  0010A1C096941592      purchase  2020-12-17  2020-12-17         0\n",
       "3  00341D8401F0F665         login  2020-12-21  2020-12-21         0\n",
       "4  003DF44D7589BBD4         login  2020-12-17  2020-12-17         0"
      ]
     },
     "execution_count": 82,
     "metadata": {},
     "output_type": "execute_result"
    }
   ],
   "source": [
    "# Let's calculate the lifetime for each event\n",
    "user_lifetime['first_date'] = pd.to_datetime(user_lifetime['first_date']).dt.date\n",
    "user_lifetime['event_dt'] = pd.to_datetime(user_lifetime['event_dt']).dt.date\n",
    "user_lifetime['lifetime'] = (user_lifetime['event_dt'] - user_lifetime['first_date']).dt.days\n",
    "user_lifetime.head()"
   ]
  },
  {
   "cell_type": "code",
   "execution_count": 83,
   "id": "6237bbb6",
   "metadata": {},
   "outputs": [],
   "source": [
    "# We leave the events that were committed in the first 14 days from the moment of registration\n",
    "user_lifetime = user_lifetime.query('lifetime < 14')"
   ]
  },
  {
   "cell_type": "markdown",
   "id": "3982f754",
   "metadata": {},
   "source": [
    "**Let's check that all the test participants had the opportunity to make events all 14 days from the moment of registration.**\n",
    "\n",
    "**In my understanding, this means that at least 14 days must pass between the maximum registration date and the test stop date.**"
   ]
  },
  {
   "cell_type": "code",
   "execution_count": 84,
   "id": "68492808",
   "metadata": {},
   "outputs": [
    {
     "data": {
      "text/plain": [
       "datetime.timedelta(days=14)"
      ]
     },
     "execution_count": 84,
     "metadata": {},
     "output_type": "execute_result"
    }
   ],
   "source": [
    "# Let's set the end date of the test and calculate how much time has passed between the maximum registration date and \n",
    "# the test stop date\n",
    "test_stop = datetime(2021, 1, 4).date()\n",
    "test_stop - user_lifetime['first_date'].max()"
   ]
  },
  {
   "cell_type": "markdown",
   "id": "9e0787e5",
   "metadata": {},
   "source": [
    "**Conclusion: the condition is met, although as far as I understand it was originally provided by the source data.**"
   ]
  },
  {
   "cell_type": "code",
   "execution_count": 85,
   "id": "9eb4fa1c",
   "metadata": {},
   "outputs": [
    {
     "data": {
      "text/html": [
       "<div>\n",
       "<style scoped>\n",
       "    .dataframe tbody tr th:only-of-type {\n",
       "        vertical-align: middle;\n",
       "    }\n",
       "\n",
       "    .dataframe tbody tr th {\n",
       "        vertical-align: top;\n",
       "    }\n",
       "\n",
       "    .dataframe thead th {\n",
       "        text-align: right;\n",
       "    }\n",
       "</style>\n",
       "<table border=\"1\" class=\"dataframe\">\n",
       "  <thead>\n",
       "    <tr style=\"text-align: right;\">\n",
       "      <th></th>\n",
       "      <th>event_name</th>\n",
       "      <th>lifetime</th>\n",
       "    </tr>\n",
       "  </thead>\n",
       "  <tbody>\n",
       "    <tr>\n",
       "      <th>0</th>\n",
       "      <td>login</td>\n",
       "      <td>0.015743</td>\n",
       "    </tr>\n",
       "    <tr>\n",
       "      <th>1</th>\n",
       "      <td>product_cart</td>\n",
       "      <td>0.013333</td>\n",
       "    </tr>\n",
       "    <tr>\n",
       "      <th>2</th>\n",
       "      <td>product_page</td>\n",
       "      <td>0.013648</td>\n",
       "    </tr>\n",
       "    <tr>\n",
       "      <th>3</th>\n",
       "      <td>purchase</td>\n",
       "      <td>0.011542</td>\n",
       "    </tr>\n",
       "  </tbody>\n",
       "</table>\n",
       "</div>"
      ],
      "text/plain": [
       "     event_name  lifetime\n",
       "0         login  0.015743\n",
       "1  product_cart  0.013333\n",
       "2  product_page  0.013648\n",
       "3      purchase  0.011542"
      ]
     },
     "execution_count": 85,
     "metadata": {},
     "output_type": "execute_result"
    }
   ],
   "source": [
    "# Let's estimate when users commit their first events of each type, for each event we will calculate the average lifetime\n",
    "first_actions = user_lifetime.pivot_table(index='event_name', \n",
    "                                         values='lifetime', \n",
    "                                         aggfunc='mean').reset_index() \n",
    "first_actions"
   ]
  },
  {
   "cell_type": "markdown",
   "id": "bdb8303f",
   "metadata": {},
   "source": [
    "**Conclusion: it can be argued that almost all users commit their first events of each type on the day of registration.\n",
    "Ie, almost all users on the day of registration immediately go through the entire funnel of events.\n",
    "Also, in my opinion, this confirms the statement that users had the opportunity to make events all 14 days after registration.**"
   ]
  },
  {
   "cell_type": "markdown",
   "id": "b68a0b8d",
   "metadata": {},
   "source": [
    "##### We will check the compliance of the text with the requirements of the terms of reference and the possibility of obtaining reliable results of the A/B test, based on the base conversion rate of 50%."
   ]
  },
  {
   "cell_type": "markdown",
   "id": "6d48f5f7",
   "metadata": {},
   "source": [
    "**Let's take the base conversion rate of 50%, the relative difference between the test groups of 5% (according to the task) and upload this data to an online calculator to check what the sample size should be.**"
   ]
  },
  {
   "attachments": {
    "image.png": {
     "image/png": "[encoded data removed]"
    }
   },
   "cell_type": "markdown",
   "id": "918d4e86",
   "metadata": {},
   "source": [
    "Let's enter the data into the calculator http://www.evanmiller.org/ab-testing/sample-size.html.\n",
    "![image.png](attachment:image.png)"
   ]
  },
  {
   "cell_type": "code",
   "execution_count": 86,
   "id": "03d541a8",
   "metadata": {},
   "outputs": [
    {
     "data": {
      "text/plain": [
       "3050"
      ]
     },
     "execution_count": 86,
     "metadata": {},
     "output_type": "execute_result"
    }
   ],
   "source": [
    "# Let's count how many users participate in the test\n",
    "correct_data['user_id'].nunique()"
   ]
  },
  {
   "cell_type": "markdown",
   "id": "209548e7",
   "metadata": {},
   "source": [
    "**Conclusion: we see that our sample is smaller than the required one. Accordingly, the test does not meet the requirements of the terms of reference.**"
   ]
  },
  {
   "cell_type": "markdown",
   "id": "bb96e0d6",
   "metadata": {},
   "source": [
    "### Conclusion: at this stage, we evaluated the correctness of the test. We were able to establish the following:\n",
    "1. The user recruitment period corresponds to the task.\n",
    "2. Almost all new users participating in the recommender_system_test test came from the target region, their share is 94.8%. The condition that users from Europe participating in the test should make up 15% of all users from Europe who came from December 7, 2020 to December 21, 2020 is fulfilled.\n",
    "3. it can be concluded that the attraction of new users occurred fairly evenly, without a sharp increase in one of the groups\n",
    "4. In the recommender_system_test test, there are no users in both group A and group B.\n",
    "5. Users were found who participate in both the recommender_system_test test and the interface_eu_test test. From these users, those who are in the group in the interface_eu_test test have been removed.\n",
    "6. The test participants committed events from December 7, 2020 to December 30, 2020, and not until January 4, 2021, as indicated in the task.\n",
    "7. 2,518 users participating in the test did not commit the event.\n",
    "8. There are 1.75 times more users who did not commit an event in group B than similar users from group A. It was also found that the dynamics of the appearance of users without an event is completely different and we can say that the distribution of users into groups worked incorrectly. It was decided to delete the users who participated in the test, but did not commit the event.\n",
    "9. It can be argued that almost all users commit their first events of each type on the day of registration. Ie, almost all users on the day of registration immediately go through the entire funnel of events.\n",
    "10. The test does not meet the requirements of the terms of reference, since the sample is less than the required one."
   ]
  },
  {
   "cell_type": "markdown",
   "id": "6ea1c717",
   "metadata": {},
   "source": [
    "## 4. Exploratory data analysis"
   ]
  },
  {
   "cell_type": "markdown",
   "id": "05978049",
   "metadata": {},
   "source": [
    "#### Let's study the distribution of the number of events per user in the context of test groups"
   ]
  },
  {
   "cell_type": "code",
   "execution_count": 87,
   "id": "847d3116",
   "metadata": {},
   "outputs": [
    {
     "data": {
      "text/html": [
       "<div>\n",
       "<style scoped>\n",
       "    .dataframe tbody tr th:only-of-type {\n",
       "        vertical-align: middle;\n",
       "    }\n",
       "\n",
       "    .dataframe tbody tr th {\n",
       "        vertical-align: top;\n",
       "    }\n",
       "\n",
       "    .dataframe thead th {\n",
       "        text-align: right;\n",
       "    }\n",
       "</style>\n",
       "<table border=\"1\" class=\"dataframe\">\n",
       "  <thead>\n",
       "    <tr style=\"text-align: right;\">\n",
       "      <th></th>\n",
       "      <th>user_id</th>\n",
       "      <th>event_name</th>\n",
       "    </tr>\n",
       "  </thead>\n",
       "  <tbody>\n",
       "    <tr>\n",
       "      <th>0</th>\n",
       "      <td>0010A1C096941592</td>\n",
       "      <td>12</td>\n",
       "    </tr>\n",
       "    <tr>\n",
       "      <th>1</th>\n",
       "      <td>00341D8401F0F665</td>\n",
       "      <td>2</td>\n",
       "    </tr>\n",
       "    <tr>\n",
       "      <th>2</th>\n",
       "      <td>003DF44D7589BBD4</td>\n",
       "      <td>15</td>\n",
       "    </tr>\n",
       "    <tr>\n",
       "      <th>3</th>\n",
       "      <td>00505E15A9D81546</td>\n",
       "      <td>5</td>\n",
       "    </tr>\n",
       "    <tr>\n",
       "      <th>4</th>\n",
       "      <td>006E3E4E232CE760</td>\n",
       "      <td>6</td>\n",
       "    </tr>\n",
       "  </tbody>\n",
       "</table>\n",
       "</div>"
      ],
      "text/plain": [
       "            user_id  event_name\n",
       "0  0010A1C096941592          12\n",
       "1  00341D8401F0F665           2\n",
       "2  003DF44D7589BBD4          15\n",
       "3  00505E15A9D81546           5\n",
       "4  006E3E4E232CE760           6"
      ]
     },
     "execution_count": 87,
     "metadata": {},
     "output_type": "execute_result"
    }
   ],
   "source": [
    "# Let's calculate how many events each user who participated in the test and belongs to group A has committed\n",
    "actions_A = correct_data.query('group == \"A\"').pivot_table(index='user_id', values='event_name', aggfunc='count').reset_index() \n",
    "actions_A.head()"
   ]
  },
  {
   "cell_type": "code",
   "execution_count": 88,
   "id": "c807a466",
   "metadata": {},
   "outputs": [],
   "source": [
    "actions_B = correct_data.query('group == \"B\"').pivot_table(index='user_id', values='event_name', aggfunc='count').reset_index()"
   ]
  },
  {
   "cell_type": "code",
   "execution_count": 125,
   "id": "0e2f7a8d",
   "metadata": {},
   "outputs": [
    {
     "data": {
      "image/png": "[encoded data removed]",
      "text/plain": [
       "<Figure size 1000x800 with 1 Axes>"
      ]
     },
     "metadata": {},
     "output_type": "display_data"
    }
   ],
   "source": [
    "# Let's build histograms of the distribution of the number of events committed by users\n",
    "plt.figure(figsize = (10, 8))\n",
    "actions_A['event_name'].hist(bins = 10, grid=False)\n",
    "actions_B['event_name'].hist(bins = 10, grid=False, alpha = .5)\n",
    "plt.legend(['group_A', 'group_B'])\n",
    "plt.xlabel(\"Number of events\")\n",
    "plt.ylabel(\"Number of observations\")\n",
    "plt.title('Histogram of the distribution of the number of events committed by users, by test groups')\n",
    "plt.show();"
   ]
  },
  {
   "cell_type": "code",
   "execution_count": 90,
   "id": "47724115",
   "metadata": {},
   "outputs": [
    {
     "data": {
      "text/plain": [
       "7.09"
      ]
     },
     "metadata": {},
     "output_type": "display_data"
    },
    {
     "data": {
      "text/plain": [
       "5.72"
      ]
     },
     "execution_count": 90,
     "metadata": {},
     "output_type": "execute_result"
    }
   ],
   "source": [
    "# For each test group, we will calculate the average value of events committed by one user, then compare these values\n",
    "display(round(actions_A['event_name'].mean(), 2))\n",
    "round(actions_B['event_name'].mean(), 2)"
   ]
  },
  {
   "cell_type": "markdown",
   "id": "70e44672",
   "metadata": {},
   "source": [
    "**To make sure that the values of events committed by one user differ insignificantly in the context of groups, we will conduct a statistical test.**\n",
    "\n",
    "**Since histograms of distributions have little resemblance to normal distributions, in my opinion, the Mann-Whitney test should be used here.**"
   ]
  },
  {
   "cell_type": "markdown",
   "id": "91061c68",
   "metadata": {},
   "source": [
    "**Formulate hypotheses.**\n",
    "\n",
    "H0 - there are no differences in the average number of events committed by one user between groups A and B. \n",
    "H1 - there are differences in the average number of events committed by one user between groups A and B."
   ]
  },
  {
   "cell_type": "code",
   "execution_count": 91,
   "id": "71077d71",
   "metadata": {},
   "outputs": [
    {
     "data": {
      "text/plain": [
       "2279"
      ]
     },
     "metadata": {},
     "output_type": "display_data"
    },
    {
     "data": {
      "text/plain": [
       "2279"
      ]
     },
     "execution_count": 91,
     "metadata": {},
     "output_type": "execute_result"
    }
   ],
   "source": [
    "sample_A = actions_A['event_name']\n",
    "sample_B = actions_A['event_name']\n",
    "\n",
    "(display(len(sample_A)))\n",
    "len(sample_B)"
   ]
  },
  {
   "cell_type": "code",
   "execution_count": 126,
   "id": "dc620085",
   "metadata": {},
   "outputs": [
    {
     "name": "stdout",
     "output_type": "stream",
     "text": [
      "p-value: 1.0\n",
      "It was not possible to reject the null hypothesis\n"
     ]
    }
   ],
   "source": [
    "# Apply the Mann-Whitney criterion and format the p-value by rounding it to three decimal places.\n",
    "# The significance level will be considered equal to 0.05\n",
    "alpha = 0.05\n",
    "results = stats.mannwhitneyu(sample_A, sample_B)[1]\n",
    "print('p-value:', round(results, 3))\n",
    "if results < alpha:\n",
    "    print('We reject the null hypothesis')\n",
    "else:\n",
    "    print('It was not possible to reject the null hypothesis')"
   ]
  },
  {
   "cell_type": "markdown",
   "id": "2ac39dc3",
   "metadata": {},
   "source": [
    "**Conclusion: for group A, the magnitude of events committed by one user varies from 6 to 13, for group B from 3 to 6.\n",
    "A statistical test was also conducted, as a result of which it was revealed that the average values of these values differ slightly.**"
   ]
  },
  {
   "cell_type": "markdown",
   "id": "eeec7787",
   "metadata": {},
   "source": [
    "#### Let's study the dynamics of the number of events in the test groups by day"
   ]
  },
  {
   "cell_type": "code",
   "execution_count": 93,
   "id": "ee85ad9c",
   "metadata": {},
   "outputs": [
    {
     "data": {
      "text/html": [
       "<div>\n",
       "<style scoped>\n",
       "    .dataframe tbody tr th:only-of-type {\n",
       "        vertical-align: middle;\n",
       "    }\n",
       "\n",
       "    .dataframe tbody tr th {\n",
       "        vertical-align: top;\n",
       "    }\n",
       "\n",
       "    .dataframe thead th {\n",
       "        text-align: right;\n",
       "    }\n",
       "</style>\n",
       "<table border=\"1\" class=\"dataframe\">\n",
       "  <thead>\n",
       "    <tr style=\"text-align: right;\">\n",
       "      <th></th>\n",
       "      <th>event_dt</th>\n",
       "      <th>group</th>\n",
       "      <th>event_name</th>\n",
       "      <th>user_id</th>\n",
       "      <th>action_per_user</th>\n",
       "    </tr>\n",
       "  </thead>\n",
       "  <tbody>\n",
       "    <tr>\n",
       "      <th>0</th>\n",
       "      <td>2020-12-07</td>\n",
       "      <td>A</td>\n",
       "      <td>263</td>\n",
       "      <td>122</td>\n",
       "      <td>2.1557</td>\n",
       "    </tr>\n",
       "    <tr>\n",
       "      <th>1</th>\n",
       "      <td>2020-12-07</td>\n",
       "      <td>B</td>\n",
       "      <td>315</td>\n",
       "      <td>142</td>\n",
       "      <td>2.2183</td>\n",
       "    </tr>\n",
       "    <tr>\n",
       "      <th>2</th>\n",
       "      <td>2020-12-08</td>\n",
       "      <td>A</td>\n",
       "      <td>283</td>\n",
       "      <td>133</td>\n",
       "      <td>2.1278</td>\n",
       "    </tr>\n",
       "    <tr>\n",
       "      <th>3</th>\n",
       "      <td>2020-12-08</td>\n",
       "      <td>B</td>\n",
       "      <td>207</td>\n",
       "      <td>99</td>\n",
       "      <td>2.0909</td>\n",
       "    </tr>\n",
       "    <tr>\n",
       "      <th>4</th>\n",
       "      <td>2020-12-09</td>\n",
       "      <td>A</td>\n",
       "      <td>331</td>\n",
       "      <td>150</td>\n",
       "      <td>2.2067</td>\n",
       "    </tr>\n",
       "    <tr>\n",
       "      <th>5</th>\n",
       "      <td>2020-12-09</td>\n",
       "      <td>B</td>\n",
       "      <td>289</td>\n",
       "      <td>138</td>\n",
       "      <td>2.0942</td>\n",
       "    </tr>\n",
       "    <tr>\n",
       "      <th>6</th>\n",
       "      <td>2020-12-10</td>\n",
       "      <td>A</td>\n",
       "      <td>294</td>\n",
       "      <td>136</td>\n",
       "      <td>2.1618</td>\n",
       "    </tr>\n",
       "    <tr>\n",
       "      <th>7</th>\n",
       "      <td>2020-12-10</td>\n",
       "      <td>B</td>\n",
       "      <td>218</td>\n",
       "      <td>109</td>\n",
       "      <td>2.0000</td>\n",
       "    </tr>\n",
       "    <tr>\n",
       "      <th>8</th>\n",
       "      <td>2020-12-11</td>\n",
       "      <td>A</td>\n",
       "      <td>309</td>\n",
       "      <td>151</td>\n",
       "      <td>2.0464</td>\n",
       "    </tr>\n",
       "    <tr>\n",
       "      <th>9</th>\n",
       "      <td>2020-12-11</td>\n",
       "      <td>B</td>\n",
       "      <td>137</td>\n",
       "      <td>72</td>\n",
       "      <td>1.9028</td>\n",
       "    </tr>\n",
       "    <tr>\n",
       "      <th>10</th>\n",
       "      <td>2020-12-12</td>\n",
       "      <td>A</td>\n",
       "      <td>319</td>\n",
       "      <td>151</td>\n",
       "      <td>2.1126</td>\n",
       "    </tr>\n",
       "    <tr>\n",
       "      <th>11</th>\n",
       "      <td>2020-12-12</td>\n",
       "      <td>B</td>\n",
       "      <td>169</td>\n",
       "      <td>87</td>\n",
       "      <td>1.9425</td>\n",
       "    </tr>\n",
       "    <tr>\n",
       "      <th>12</th>\n",
       "      <td>2020-12-13</td>\n",
       "      <td>A</td>\n",
       "      <td>273</td>\n",
       "      <td>136</td>\n",
       "      <td>2.0074</td>\n",
       "    </tr>\n",
       "    <tr>\n",
       "      <th>13</th>\n",
       "      <td>2020-12-13</td>\n",
       "      <td>B</td>\n",
       "      <td>122</td>\n",
       "      <td>64</td>\n",
       "      <td>1.9062</td>\n",
       "    </tr>\n",
       "    <tr>\n",
       "      <th>14</th>\n",
       "      <td>2020-12-14</td>\n",
       "      <td>A</td>\n",
       "      <td>880</td>\n",
       "      <td>397</td>\n",
       "      <td>2.2166</td>\n",
       "    </tr>\n",
       "    <tr>\n",
       "      <th>15</th>\n",
       "      <td>2020-12-14</td>\n",
       "      <td>B</td>\n",
       "      <td>227</td>\n",
       "      <td>111</td>\n",
       "      <td>2.0450</td>\n",
       "    </tr>\n",
       "    <tr>\n",
       "      <th>16</th>\n",
       "      <td>2020-12-15</td>\n",
       "      <td>A</td>\n",
       "      <td>915</td>\n",
       "      <td>399</td>\n",
       "      <td>2.2932</td>\n",
       "    </tr>\n",
       "    <tr>\n",
       "      <th>17</th>\n",
       "      <td>2020-12-15</td>\n",
       "      <td>B</td>\n",
       "      <td>187</td>\n",
       "      <td>93</td>\n",
       "      <td>2.0108</td>\n",
       "    </tr>\n",
       "    <tr>\n",
       "      <th>18</th>\n",
       "      <td>2020-12-16</td>\n",
       "      <td>A</td>\n",
       "      <td>870</td>\n",
       "      <td>384</td>\n",
       "      <td>2.2656</td>\n",
       "    </tr>\n",
       "    <tr>\n",
       "      <th>19</th>\n",
       "      <td>2020-12-16</td>\n",
       "      <td>B</td>\n",
       "      <td>322</td>\n",
       "      <td>145</td>\n",
       "      <td>2.2207</td>\n",
       "    </tr>\n",
       "    <tr>\n",
       "      <th>20</th>\n",
       "      <td>2020-12-17</td>\n",
       "      <td>A</td>\n",
       "      <td>1046</td>\n",
       "      <td>452</td>\n",
       "      <td>2.3142</td>\n",
       "    </tr>\n",
       "    <tr>\n",
       "      <th>21</th>\n",
       "      <td>2020-12-17</td>\n",
       "      <td>B</td>\n",
       "      <td>230</td>\n",
       "      <td>106</td>\n",
       "      <td>2.1698</td>\n",
       "    </tr>\n",
       "    <tr>\n",
       "      <th>22</th>\n",
       "      <td>2020-12-18</td>\n",
       "      <td>A</td>\n",
       "      <td>1085</td>\n",
       "      <td>473</td>\n",
       "      <td>2.2939</td>\n",
       "    </tr>\n",
       "    <tr>\n",
       "      <th>23</th>\n",
       "      <td>2020-12-18</td>\n",
       "      <td>B</td>\n",
       "      <td>224</td>\n",
       "      <td>112</td>\n",
       "      <td>2.0000</td>\n",
       "    </tr>\n",
       "    <tr>\n",
       "      <th>24</th>\n",
       "      <td>2020-12-19</td>\n",
       "      <td>A</td>\n",
       "      <td>1262</td>\n",
       "      <td>544</td>\n",
       "      <td>2.3199</td>\n",
       "    </tr>\n",
       "    <tr>\n",
       "      <th>25</th>\n",
       "      <td>2020-12-19</td>\n",
       "      <td>B</td>\n",
       "      <td>235</td>\n",
       "      <td>114</td>\n",
       "      <td>2.0614</td>\n",
       "    </tr>\n",
       "    <tr>\n",
       "      <th>26</th>\n",
       "      <td>2020-12-20</td>\n",
       "      <td>A</td>\n",
       "      <td>1298</td>\n",
       "      <td>565</td>\n",
       "      <td>2.2973</td>\n",
       "    </tr>\n",
       "    <tr>\n",
       "      <th>27</th>\n",
       "      <td>2020-12-20</td>\n",
       "      <td>B</td>\n",
       "      <td>273</td>\n",
       "      <td>137</td>\n",
       "      <td>1.9927</td>\n",
       "    </tr>\n",
       "    <tr>\n",
       "      <th>28</th>\n",
       "      <td>2020-12-21</td>\n",
       "      <td>A</td>\n",
       "      <td>1690</td>\n",
       "      <td>747</td>\n",
       "      <td>2.2624</td>\n",
       "    </tr>\n",
       "    <tr>\n",
       "      <th>29</th>\n",
       "      <td>2020-12-21</td>\n",
       "      <td>B</td>\n",
       "      <td>358</td>\n",
       "      <td>168</td>\n",
       "      <td>2.1310</td>\n",
       "    </tr>\n",
       "    <tr>\n",
       "      <th>30</th>\n",
       "      <td>2020-12-22</td>\n",
       "      <td>A</td>\n",
       "      <td>1114</td>\n",
       "      <td>497</td>\n",
       "      <td>2.2414</td>\n",
       "    </tr>\n",
       "    <tr>\n",
       "      <th>31</th>\n",
       "      <td>2020-12-22</td>\n",
       "      <td>B</td>\n",
       "      <td>158</td>\n",
       "      <td>83</td>\n",
       "      <td>1.9036</td>\n",
       "    </tr>\n",
       "    <tr>\n",
       "      <th>32</th>\n",
       "      <td>2020-12-23</td>\n",
       "      <td>A</td>\n",
       "      <td>837</td>\n",
       "      <td>376</td>\n",
       "      <td>2.2261</td>\n",
       "    </tr>\n",
       "    <tr>\n",
       "      <th>33</th>\n",
       "      <td>2020-12-23</td>\n",
       "      <td>B</td>\n",
       "      <td>167</td>\n",
       "      <td>85</td>\n",
       "      <td>1.9647</td>\n",
       "    </tr>\n",
       "    <tr>\n",
       "      <th>34</th>\n",
       "      <td>2020-12-24</td>\n",
       "      <td>A</td>\n",
       "      <td>747</td>\n",
       "      <td>321</td>\n",
       "      <td>2.3271</td>\n",
       "    </tr>\n",
       "    <tr>\n",
       "      <th>35</th>\n",
       "      <td>2020-12-24</td>\n",
       "      <td>B</td>\n",
       "      <td>131</td>\n",
       "      <td>63</td>\n",
       "      <td>2.0794</td>\n",
       "    </tr>\n",
       "    <tr>\n",
       "      <th>36</th>\n",
       "      <td>2020-12-25</td>\n",
       "      <td>A</td>\n",
       "      <td>564</td>\n",
       "      <td>247</td>\n",
       "      <td>2.2834</td>\n",
       "    </tr>\n",
       "    <tr>\n",
       "      <th>37</th>\n",
       "      <td>2020-12-25</td>\n",
       "      <td>B</td>\n",
       "      <td>98</td>\n",
       "      <td>51</td>\n",
       "      <td>1.9216</td>\n",
       "    </tr>\n",
       "    <tr>\n",
       "      <th>38</th>\n",
       "      <td>2020-12-26</td>\n",
       "      <td>A</td>\n",
       "      <td>504</td>\n",
       "      <td>218</td>\n",
       "      <td>2.3119</td>\n",
       "    </tr>\n",
       "    <tr>\n",
       "      <th>39</th>\n",
       "      <td>2020-12-26</td>\n",
       "      <td>B</td>\n",
       "      <td>93</td>\n",
       "      <td>46</td>\n",
       "      <td>2.0217</td>\n",
       "    </tr>\n",
       "    <tr>\n",
       "      <th>40</th>\n",
       "      <td>2020-12-27</td>\n",
       "      <td>A</td>\n",
       "      <td>485</td>\n",
       "      <td>212</td>\n",
       "      <td>2.2877</td>\n",
       "    </tr>\n",
       "    <tr>\n",
       "      <th>41</th>\n",
       "      <td>2020-12-27</td>\n",
       "      <td>B</td>\n",
       "      <td>104</td>\n",
       "      <td>50</td>\n",
       "      <td>2.0800</td>\n",
       "    </tr>\n",
       "    <tr>\n",
       "      <th>42</th>\n",
       "      <td>2020-12-28</td>\n",
       "      <td>A</td>\n",
       "      <td>413</td>\n",
       "      <td>178</td>\n",
       "      <td>2.3202</td>\n",
       "    </tr>\n",
       "    <tr>\n",
       "      <th>43</th>\n",
       "      <td>2020-12-28</td>\n",
       "      <td>B</td>\n",
       "      <td>82</td>\n",
       "      <td>46</td>\n",
       "      <td>1.7826</td>\n",
       "    </tr>\n",
       "    <tr>\n",
       "      <th>44</th>\n",
       "      <td>2020-12-29</td>\n",
       "      <td>A</td>\n",
       "      <td>372</td>\n",
       "      <td>172</td>\n",
       "      <td>2.1628</td>\n",
       "    </tr>\n",
       "    <tr>\n",
       "      <th>45</th>\n",
       "      <td>2020-12-29</td>\n",
       "      <td>B</td>\n",
       "      <td>60</td>\n",
       "      <td>30</td>\n",
       "      <td>2.0000</td>\n",
       "    </tr>\n",
       "    <tr>\n",
       "      <th>46</th>\n",
       "      <td>2020-12-30</td>\n",
       "      <td>B</td>\n",
       "      <td>4</td>\n",
       "      <td>2</td>\n",
       "      <td>2.0000</td>\n",
       "    </tr>\n",
       "  </tbody>\n",
       "</table>\n",
       "</div>"
      ],
      "text/plain": [
       "      event_dt group  event_name  user_id  action_per_user\n",
       "0   2020-12-07     A         263      122           2.1557\n",
       "1   2020-12-07     B         315      142           2.2183\n",
       "2   2020-12-08     A         283      133           2.1278\n",
       "3   2020-12-08     B         207       99           2.0909\n",
       "4   2020-12-09     A         331      150           2.2067\n",
       "5   2020-12-09     B         289      138           2.0942\n",
       "6   2020-12-10     A         294      136           2.1618\n",
       "7   2020-12-10     B         218      109           2.0000\n",
       "8   2020-12-11     A         309      151           2.0464\n",
       "9   2020-12-11     B         137       72           1.9028\n",
       "10  2020-12-12     A         319      151           2.1126\n",
       "11  2020-12-12     B         169       87           1.9425\n",
       "12  2020-12-13     A         273      136           2.0074\n",
       "13  2020-12-13     B         122       64           1.9062\n",
       "14  2020-12-14     A         880      397           2.2166\n",
       "15  2020-12-14     B         227      111           2.0450\n",
       "16  2020-12-15     A         915      399           2.2932\n",
       "17  2020-12-15     B         187       93           2.0108\n",
       "18  2020-12-16     A         870      384           2.2656\n",
       "19  2020-12-16     B         322      145           2.2207\n",
       "20  2020-12-17     A        1046      452           2.3142\n",
       "21  2020-12-17     B         230      106           2.1698\n",
       "22  2020-12-18     A        1085      473           2.2939\n",
       "23  2020-12-18     B         224      112           2.0000\n",
       "24  2020-12-19     A        1262      544           2.3199\n",
       "25  2020-12-19     B         235      114           2.0614\n",
       "26  2020-12-20     A        1298      565           2.2973\n",
       "27  2020-12-20     B         273      137           1.9927\n",
       "28  2020-12-21     A        1690      747           2.2624\n",
       "29  2020-12-21     B         358      168           2.1310\n",
       "30  2020-12-22     A        1114      497           2.2414\n",
       "31  2020-12-22     B         158       83           1.9036\n",
       "32  2020-12-23     A         837      376           2.2261\n",
       "33  2020-12-23     B         167       85           1.9647\n",
       "34  2020-12-24     A         747      321           2.3271\n",
       "35  2020-12-24     B         131       63           2.0794\n",
       "36  2020-12-25     A         564      247           2.2834\n",
       "37  2020-12-25     B          98       51           1.9216\n",
       "38  2020-12-26     A         504      218           2.3119\n",
       "39  2020-12-26     B          93       46           2.0217\n",
       "40  2020-12-27     A         485      212           2.2877\n",
       "41  2020-12-27     B         104       50           2.0800\n",
       "42  2020-12-28     A         413      178           2.3202\n",
       "43  2020-12-28     B          82       46           1.7826\n",
       "44  2020-12-29     A         372      172           2.1628\n",
       "45  2020-12-29     B          60       30           2.0000\n",
       "46  2020-12-30     B           4        2           2.0000"
      ]
     },
     "execution_count": 93,
     "metadata": {},
     "output_type": "execute_result"
    }
   ],
   "source": [
    "# Let's count the number of events by day for each group and the number of unique users\n",
    "actions_per_day = correct_data.pivot_table(index=['event_dt', 'group'],\n",
    "                                           values=['event_name', 'user_id'],\n",
    "                                           aggfunc={'event_name' : 'count', 'user_id' : 'nunique'}).reset_index()\n",
    "\n",
    "# Let's add a column with the average number of events per user in the context of days to the created table\n",
    "actions_per_day['action_per_user'] = round(actions_per_day['event_name'] / actions_per_day['user_id'], 4)\n",
    "actions_per_day"
   ]
  },
  {
   "cell_type": "code",
   "execution_count": 127,
   "id": "88ff0f4c",
   "metadata": {},
   "outputs": [
    {
     "data": {
      "image/png": "[encoded data removed]",
      "text/plain": [
       "<Figure size 1500x1000 with 1 Axes>"
      ]
     },
     "metadata": {},
     "output_type": "display_data"
    }
   ],
   "source": [
    "# Let's compare the number of events by day in the context of groups\n",
    "fig, ax = plt.subplots(figsize=(15, 10))\n",
    "ax = sns.barplot(data=actions_per_day, x=\"event_dt\", y=\"event_name\", hue=\"group\")\n",
    "plt.xlabel('Date')\n",
    "plt.ylabel('Number of events')\n",
    "plt.title('Number of events by day by group')\n",
    "plt.xticks(rotation='45')\n",
    "plt.show();"
   ]
  },
  {
   "cell_type": "code",
   "execution_count": 128,
   "id": "ac71e615",
   "metadata": {},
   "outputs": [
    {
     "data": {
      "image/png": "[encoded data removed]",
      "text/plain": [
       "<Figure size 1500x1000 with 1 Axes>"
      ]
     },
     "metadata": {},
     "output_type": "display_data"
    }
   ],
   "source": [
    "# Let's compare the number of events per user by day in the context of groups\n",
    "fig, ax = plt.subplots(figsize=(15, 10))\n",
    "ax = sns.barplot(data=actions_per_day, x=\"event_dt\", y=\"action_per_user\", hue=\"group\")\n",
    "plt.xlabel('Date')\n",
    "plt.ylabel('Number of events per user')\n",
    "plt.title('The number of events per user by day in the context of groups')\n",
    "plt.xticks(rotation='45')\n",
    "plt.show();"
   ]
  },
  {
   "cell_type": "code",
   "execution_count": 96,
   "id": "77d2a6a7",
   "metadata": {},
   "outputs": [
    {
     "data": {
      "text/html": [
       "<div>\n",
       "<style scoped>\n",
       "    .dataframe tbody tr th:only-of-type {\n",
       "        vertical-align: middle;\n",
       "    }\n",
       "\n",
       "    .dataframe tbody tr th {\n",
       "        vertical-align: top;\n",
       "    }\n",
       "\n",
       "    .dataframe thead th {\n",
       "        text-align: right;\n",
       "    }\n",
       "</style>\n",
       "<table border=\"1\" class=\"dataframe\">\n",
       "  <thead>\n",
       "    <tr style=\"text-align: right;\">\n",
       "      <th></th>\n",
       "      <th>user_id</th>\n",
       "      <th>first_date</th>\n",
       "      <th>region</th>\n",
       "      <th>device</th>\n",
       "      <th>group</th>\n",
       "      <th>ab_test</th>\n",
       "      <th>event_dt</th>\n",
       "      <th>event_name</th>\n",
       "      <th>details</th>\n",
       "    </tr>\n",
       "  </thead>\n",
       "  <tbody>\n",
       "    <tr>\n",
       "      <th>0</th>\n",
       "      <td>D72A72121175D8BE</td>\n",
       "      <td>2020-12-07</td>\n",
       "      <td>EU</td>\n",
       "      <td>PC</td>\n",
       "      <td>A</td>\n",
       "      <td>recommender_system_test</td>\n",
       "      <td>2020-12-07</td>\n",
       "      <td>product_page</td>\n",
       "      <td>NaN</td>\n",
       "    </tr>\n",
       "    <tr>\n",
       "      <th>1</th>\n",
       "      <td>D72A72121175D8BE</td>\n",
       "      <td>2020-12-07</td>\n",
       "      <td>EU</td>\n",
       "      <td>PC</td>\n",
       "      <td>A</td>\n",
       "      <td>recommender_system_test</td>\n",
       "      <td>2020-12-07</td>\n",
       "      <td>login</td>\n",
       "      <td>NaN</td>\n",
       "    </tr>\n",
       "    <tr>\n",
       "      <th>2</th>\n",
       "      <td>DD4352CDCF8C3D57</td>\n",
       "      <td>2020-12-07</td>\n",
       "      <td>EU</td>\n",
       "      <td>Android</td>\n",
       "      <td>B</td>\n",
       "      <td>recommender_system_test</td>\n",
       "      <td>2020-12-07</td>\n",
       "      <td>product_page</td>\n",
       "      <td>NaN</td>\n",
       "    </tr>\n",
       "    <tr>\n",
       "      <th>3</th>\n",
       "      <td>DD4352CDCF8C3D57</td>\n",
       "      <td>2020-12-07</td>\n",
       "      <td>EU</td>\n",
       "      <td>Android</td>\n",
       "      <td>B</td>\n",
       "      <td>recommender_system_test</td>\n",
       "      <td>2020-12-08</td>\n",
       "      <td>product_page</td>\n",
       "      <td>NaN</td>\n",
       "    </tr>\n",
       "    <tr>\n",
       "      <th>4</th>\n",
       "      <td>DD4352CDCF8C3D57</td>\n",
       "      <td>2020-12-07</td>\n",
       "      <td>EU</td>\n",
       "      <td>Android</td>\n",
       "      <td>B</td>\n",
       "      <td>recommender_system_test</td>\n",
       "      <td>2020-12-10</td>\n",
       "      <td>product_page</td>\n",
       "      <td>NaN</td>\n",
       "    </tr>\n",
       "  </tbody>\n",
       "</table>\n",
       "</div>"
      ],
      "text/plain": [
       "            user_id  first_date region   device group  \\\n",
       "0  D72A72121175D8BE  2020-12-07     EU       PC     A   \n",
       "1  D72A72121175D8BE  2020-12-07     EU       PC     A   \n",
       "2  DD4352CDCF8C3D57  2020-12-07     EU  Android     B   \n",
       "3  DD4352CDCF8C3D57  2020-12-07     EU  Android     B   \n",
       "4  DD4352CDCF8C3D57  2020-12-07     EU  Android     B   \n",
       "\n",
       "                   ab_test    event_dt    event_name  details  \n",
       "0  recommender_system_test  2020-12-07  product_page      NaN  \n",
       "1  recommender_system_test  2020-12-07         login      NaN  \n",
       "2  recommender_system_test  2020-12-07  product_page      NaN  \n",
       "3  recommender_system_test  2020-12-08  product_page      NaN  \n",
       "4  recommender_system_test  2020-12-10  product_page      NaN  "
      ]
     },
     "execution_count": 96,
     "metadata": {},
     "output_type": "execute_result"
    }
   ],
   "source": [
    "correct_data.head()"
   ]
  },
  {
   "cell_type": "code",
   "execution_count": 97,
   "id": "5813153b",
   "metadata": {},
   "outputs": [
    {
     "data": {
      "text/html": [
       "<div>\n",
       "<style scoped>\n",
       "    .dataframe tbody tr th:only-of-type {\n",
       "        vertical-align: middle;\n",
       "    }\n",
       "\n",
       "    .dataframe tbody tr th {\n",
       "        vertical-align: top;\n",
       "    }\n",
       "\n",
       "    .dataframe thead th {\n",
       "        text-align: right;\n",
       "    }\n",
       "</style>\n",
       "<table border=\"1\" class=\"dataframe\">\n",
       "  <thead>\n",
       "    <tr style=\"text-align: right;\">\n",
       "      <th></th>\n",
       "      <th>event_dt</th>\n",
       "      <th>group</th>\n",
       "    </tr>\n",
       "  </thead>\n",
       "  <tbody>\n",
       "    <tr>\n",
       "      <th>0</th>\n",
       "      <td>2020-12-07</td>\n",
       "      <td>A</td>\n",
       "    </tr>\n",
       "    <tr>\n",
       "      <th>2</th>\n",
       "      <td>2020-12-07</td>\n",
       "      <td>B</td>\n",
       "    </tr>\n",
       "    <tr>\n",
       "      <th>17</th>\n",
       "      <td>2020-12-08</td>\n",
       "      <td>A</td>\n",
       "    </tr>\n",
       "    <tr>\n",
       "      <th>3</th>\n",
       "      <td>2020-12-08</td>\n",
       "      <td>B</td>\n",
       "    </tr>\n",
       "    <tr>\n",
       "      <th>15</th>\n",
       "      <td>2020-12-09</td>\n",
       "      <td>A</td>\n",
       "    </tr>\n",
       "    <tr>\n",
       "      <th>39</th>\n",
       "      <td>2020-12-09</td>\n",
       "      <td>B</td>\n",
       "    </tr>\n",
       "    <tr>\n",
       "      <th>235</th>\n",
       "      <td>2020-12-10</td>\n",
       "      <td>A</td>\n",
       "    </tr>\n",
       "    <tr>\n",
       "      <th>4</th>\n",
       "      <td>2020-12-10</td>\n",
       "      <td>B</td>\n",
       "    </tr>\n",
       "    <tr>\n",
       "      <th>46</th>\n",
       "      <td>2020-12-11</td>\n",
       "      <td>A</td>\n",
       "    </tr>\n",
       "    <tr>\n",
       "      <th>72</th>\n",
       "      <td>2020-12-11</td>\n",
       "      <td>B</td>\n",
       "    </tr>\n",
       "    <tr>\n",
       "      <th>103</th>\n",
       "      <td>2020-12-12</td>\n",
       "      <td>A</td>\n",
       "    </tr>\n",
       "    <tr>\n",
       "      <th>24</th>\n",
       "      <td>2020-12-12</td>\n",
       "      <td>B</td>\n",
       "    </tr>\n",
       "    <tr>\n",
       "      <th>335</th>\n",
       "      <td>2020-12-13</td>\n",
       "      <td>A</td>\n",
       "    </tr>\n",
       "    <tr>\n",
       "      <th>93</th>\n",
       "      <td>2020-12-13</td>\n",
       "      <td>B</td>\n",
       "    </tr>\n",
       "    <tr>\n",
       "      <th>47</th>\n",
       "      <td>2020-12-14</td>\n",
       "      <td>A</td>\n",
       "    </tr>\n",
       "    <tr>\n",
       "      <th>210</th>\n",
       "      <td>2020-12-14</td>\n",
       "      <td>B</td>\n",
       "    </tr>\n",
       "    <tr>\n",
       "      <th>307</th>\n",
       "      <td>2020-12-15</td>\n",
       "      <td>A</td>\n",
       "    </tr>\n",
       "    <tr>\n",
       "      <th>115</th>\n",
       "      <td>2020-12-15</td>\n",
       "      <td>B</td>\n",
       "    </tr>\n",
       "    <tr>\n",
       "      <th>134</th>\n",
       "      <td>2020-12-16</td>\n",
       "      <td>A</td>\n",
       "    </tr>\n",
       "    <tr>\n",
       "      <th>5</th>\n",
       "      <td>2020-12-16</td>\n",
       "      <td>B</td>\n",
       "    </tr>\n",
       "    <tr>\n",
       "      <th>48</th>\n",
       "      <td>2020-12-17</td>\n",
       "      <td>A</td>\n",
       "    </tr>\n",
       "    <tr>\n",
       "      <th>87</th>\n",
       "      <td>2020-12-17</td>\n",
       "      <td>B</td>\n",
       "    </tr>\n",
       "    <tr>\n",
       "      <th>33</th>\n",
       "      <td>2020-12-18</td>\n",
       "      <td>A</td>\n",
       "    </tr>\n",
       "    <tr>\n",
       "      <th>6</th>\n",
       "      <td>2020-12-18</td>\n",
       "      <td>B</td>\n",
       "    </tr>\n",
       "    <tr>\n",
       "      <th>214</th>\n",
       "      <td>2020-12-19</td>\n",
       "      <td>A</td>\n",
       "    </tr>\n",
       "    <tr>\n",
       "      <th>614</th>\n",
       "      <td>2020-12-19</td>\n",
       "      <td>B</td>\n",
       "    </tr>\n",
       "    <tr>\n",
       "      <th>324</th>\n",
       "      <td>2020-12-20</td>\n",
       "      <td>A</td>\n",
       "    </tr>\n",
       "    <tr>\n",
       "      <th>94</th>\n",
       "      <td>2020-12-20</td>\n",
       "      <td>B</td>\n",
       "    </tr>\n",
       "    <tr>\n",
       "      <th>404</th>\n",
       "      <td>2020-12-21</td>\n",
       "      <td>A</td>\n",
       "    </tr>\n",
       "    <tr>\n",
       "      <th>1123</th>\n",
       "      <td>2020-12-21</td>\n",
       "      <td>B</td>\n",
       "    </tr>\n",
       "    <tr>\n",
       "      <th>104</th>\n",
       "      <td>2020-12-22</td>\n",
       "      <td>A</td>\n",
       "    </tr>\n",
       "    <tr>\n",
       "      <th>227</th>\n",
       "      <td>2020-12-22</td>\n",
       "      <td>B</td>\n",
       "    </tr>\n",
       "    <tr>\n",
       "      <th>667</th>\n",
       "      <td>2020-12-23</td>\n",
       "      <td>A</td>\n",
       "    </tr>\n",
       "    <tr>\n",
       "      <th>228</th>\n",
       "      <td>2020-12-23</td>\n",
       "      <td>B</td>\n",
       "    </tr>\n",
       "    <tr>\n",
       "      <th>215</th>\n",
       "      <td>2020-12-24</td>\n",
       "      <td>A</td>\n",
       "    </tr>\n",
       "    <tr>\n",
       "      <th>751</th>\n",
       "      <td>2020-12-24</td>\n",
       "      <td>B</td>\n",
       "    </tr>\n",
       "    <tr>\n",
       "      <th>308</th>\n",
       "      <td>2020-12-25</td>\n",
       "      <td>A</td>\n",
       "    </tr>\n",
       "    <tr>\n",
       "      <th>197</th>\n",
       "      <td>2020-12-25</td>\n",
       "      <td>B</td>\n",
       "    </tr>\n",
       "    <tr>\n",
       "      <th>757</th>\n",
       "      <td>2020-12-26</td>\n",
       "      <td>A</td>\n",
       "    </tr>\n",
       "    <tr>\n",
       "      <th>432</th>\n",
       "      <td>2020-12-26</td>\n",
       "      <td>B</td>\n",
       "    </tr>\n",
       "    <tr>\n",
       "      <th>135</th>\n",
       "      <td>2020-12-27</td>\n",
       "      <td>A</td>\n",
       "    </tr>\n",
       "    <tr>\n",
       "      <th>366</th>\n",
       "      <td>2020-12-27</td>\n",
       "      <td>B</td>\n",
       "    </tr>\n",
       "    <tr>\n",
       "      <th>356</th>\n",
       "      <td>2020-12-28</td>\n",
       "      <td>A</td>\n",
       "    </tr>\n",
       "    <tr>\n",
       "      <th>662</th>\n",
       "      <td>2020-12-28</td>\n",
       "      <td>B</td>\n",
       "    </tr>\n",
       "    <tr>\n",
       "      <th>625</th>\n",
       "      <td>2020-12-29</td>\n",
       "      <td>A</td>\n",
       "    </tr>\n",
       "    <tr>\n",
       "      <th>101</th>\n",
       "      <td>2020-12-29</td>\n",
       "      <td>B</td>\n",
       "    </tr>\n",
       "    <tr>\n",
       "      <th>7</th>\n",
       "      <td>2020-12-30</td>\n",
       "      <td>B</td>\n",
       "    </tr>\n",
       "  </tbody>\n",
       "</table>\n",
       "</div>"
      ],
      "text/plain": [
       "        event_dt group\n",
       "0     2020-12-07     A\n",
       "2     2020-12-07     B\n",
       "17    2020-12-08     A\n",
       "3     2020-12-08     B\n",
       "15    2020-12-09     A\n",
       "39    2020-12-09     B\n",
       "235   2020-12-10     A\n",
       "4     2020-12-10     B\n",
       "46    2020-12-11     A\n",
       "72    2020-12-11     B\n",
       "103   2020-12-12     A\n",
       "24    2020-12-12     B\n",
       "335   2020-12-13     A\n",
       "93    2020-12-13     B\n",
       "47    2020-12-14     A\n",
       "210   2020-12-14     B\n",
       "307   2020-12-15     A\n",
       "115   2020-12-15     B\n",
       "134   2020-12-16     A\n",
       "5     2020-12-16     B\n",
       "48    2020-12-17     A\n",
       "87    2020-12-17     B\n",
       "33    2020-12-18     A\n",
       "6     2020-12-18     B\n",
       "214   2020-12-19     A\n",
       "614   2020-12-19     B\n",
       "324   2020-12-20     A\n",
       "94    2020-12-20     B\n",
       "404   2020-12-21     A\n",
       "1123  2020-12-21     B\n",
       "104   2020-12-22     A\n",
       "227   2020-12-22     B\n",
       "667   2020-12-23     A\n",
       "228   2020-12-23     B\n",
       "215   2020-12-24     A\n",
       "751   2020-12-24     B\n",
       "308   2020-12-25     A\n",
       "197   2020-12-25     B\n",
       "757   2020-12-26     A\n",
       "432   2020-12-26     B\n",
       "135   2020-12-27     A\n",
       "366   2020-12-27     B\n",
       "356   2020-12-28     A\n",
       "662   2020-12-28     B\n",
       "625   2020-12-29     A\n",
       "101   2020-12-29     B\n",
       "7     2020-12-30     B"
      ]
     },
     "execution_count": 97,
     "metadata": {},
     "output_type": "execute_result"
    }
   ],
   "source": [
    "# Creating an array of unique pairs of event date values and test groups, \n",
    "# to then plot the dynamics of the number of events in the context of groups\n",
    "event_dates_groups = correct_data[['event_dt','group']].drop_duplicates()\n",
    "event_dates_groups = event_dates_groups.sort_values(by=['event_dt','group'])\n",
    "event_dates_groups"
   ]
  },
  {
   "cell_type": "code",
   "execution_count": 98,
   "id": "71db9e9d",
   "metadata": {},
   "outputs": [
    {
     "data": {
      "text/html": [
       "<div>\n",
       "<style scoped>\n",
       "    .dataframe tbody tr th:only-of-type {\n",
       "        vertical-align: middle;\n",
       "    }\n",
       "\n",
       "    .dataframe tbody tr th {\n",
       "        vertical-align: top;\n",
       "    }\n",
       "\n",
       "    .dataframe thead th {\n",
       "        text-align: right;\n",
       "    }\n",
       "</style>\n",
       "<table border=\"1\" class=\"dataframe\">\n",
       "  <thead>\n",
       "    <tr style=\"text-align: right;\">\n",
       "      <th></th>\n",
       "      <th>event_dt</th>\n",
       "      <th>group</th>\n",
       "      <th>event_name</th>\n",
       "    </tr>\n",
       "  </thead>\n",
       "  <tbody>\n",
       "    <tr>\n",
       "      <th>0</th>\n",
       "      <td>2020-12-07</td>\n",
       "      <td>A</td>\n",
       "      <td>263</td>\n",
       "    </tr>\n",
       "    <tr>\n",
       "      <th>2</th>\n",
       "      <td>2020-12-07</td>\n",
       "      <td>B</td>\n",
       "      <td>315</td>\n",
       "    </tr>\n",
       "    <tr>\n",
       "      <th>17</th>\n",
       "      <td>2020-12-08</td>\n",
       "      <td>A</td>\n",
       "      <td>546</td>\n",
       "    </tr>\n",
       "    <tr>\n",
       "      <th>3</th>\n",
       "      <td>2020-12-08</td>\n",
       "      <td>B</td>\n",
       "      <td>522</td>\n",
       "    </tr>\n",
       "    <tr>\n",
       "      <th>15</th>\n",
       "      <td>2020-12-09</td>\n",
       "      <td>A</td>\n",
       "      <td>877</td>\n",
       "    </tr>\n",
       "    <tr>\n",
       "      <th>39</th>\n",
       "      <td>2020-12-09</td>\n",
       "      <td>B</td>\n",
       "      <td>811</td>\n",
       "    </tr>\n",
       "    <tr>\n",
       "      <th>235</th>\n",
       "      <td>2020-12-10</td>\n",
       "      <td>A</td>\n",
       "      <td>1171</td>\n",
       "    </tr>\n",
       "    <tr>\n",
       "      <th>4</th>\n",
       "      <td>2020-12-10</td>\n",
       "      <td>B</td>\n",
       "      <td>1029</td>\n",
       "    </tr>\n",
       "    <tr>\n",
       "      <th>46</th>\n",
       "      <td>2020-12-11</td>\n",
       "      <td>A</td>\n",
       "      <td>1480</td>\n",
       "    </tr>\n",
       "    <tr>\n",
       "      <th>72</th>\n",
       "      <td>2020-12-11</td>\n",
       "      <td>B</td>\n",
       "      <td>1166</td>\n",
       "    </tr>\n",
       "    <tr>\n",
       "      <th>103</th>\n",
       "      <td>2020-12-12</td>\n",
       "      <td>A</td>\n",
       "      <td>1799</td>\n",
       "    </tr>\n",
       "    <tr>\n",
       "      <th>24</th>\n",
       "      <td>2020-12-12</td>\n",
       "      <td>B</td>\n",
       "      <td>1335</td>\n",
       "    </tr>\n",
       "    <tr>\n",
       "      <th>335</th>\n",
       "      <td>2020-12-13</td>\n",
       "      <td>A</td>\n",
       "      <td>2072</td>\n",
       "    </tr>\n",
       "    <tr>\n",
       "      <th>93</th>\n",
       "      <td>2020-12-13</td>\n",
       "      <td>B</td>\n",
       "      <td>1457</td>\n",
       "    </tr>\n",
       "    <tr>\n",
       "      <th>47</th>\n",
       "      <td>2020-12-14</td>\n",
       "      <td>A</td>\n",
       "      <td>2952</td>\n",
       "    </tr>\n",
       "    <tr>\n",
       "      <th>210</th>\n",
       "      <td>2020-12-14</td>\n",
       "      <td>B</td>\n",
       "      <td>1684</td>\n",
       "    </tr>\n",
       "    <tr>\n",
       "      <th>307</th>\n",
       "      <td>2020-12-15</td>\n",
       "      <td>A</td>\n",
       "      <td>3867</td>\n",
       "    </tr>\n",
       "    <tr>\n",
       "      <th>115</th>\n",
       "      <td>2020-12-15</td>\n",
       "      <td>B</td>\n",
       "      <td>1871</td>\n",
       "    </tr>\n",
       "    <tr>\n",
       "      <th>134</th>\n",
       "      <td>2020-12-16</td>\n",
       "      <td>A</td>\n",
       "      <td>4737</td>\n",
       "    </tr>\n",
       "    <tr>\n",
       "      <th>5</th>\n",
       "      <td>2020-12-16</td>\n",
       "      <td>B</td>\n",
       "      <td>2193</td>\n",
       "    </tr>\n",
       "    <tr>\n",
       "      <th>48</th>\n",
       "      <td>2020-12-17</td>\n",
       "      <td>A</td>\n",
       "      <td>5783</td>\n",
       "    </tr>\n",
       "    <tr>\n",
       "      <th>87</th>\n",
       "      <td>2020-12-17</td>\n",
       "      <td>B</td>\n",
       "      <td>2423</td>\n",
       "    </tr>\n",
       "    <tr>\n",
       "      <th>33</th>\n",
       "      <td>2020-12-18</td>\n",
       "      <td>A</td>\n",
       "      <td>6868</td>\n",
       "    </tr>\n",
       "    <tr>\n",
       "      <th>6</th>\n",
       "      <td>2020-12-18</td>\n",
       "      <td>B</td>\n",
       "      <td>2647</td>\n",
       "    </tr>\n",
       "    <tr>\n",
       "      <th>214</th>\n",
       "      <td>2020-12-19</td>\n",
       "      <td>A</td>\n",
       "      <td>8130</td>\n",
       "    </tr>\n",
       "    <tr>\n",
       "      <th>614</th>\n",
       "      <td>2020-12-19</td>\n",
       "      <td>B</td>\n",
       "      <td>2882</td>\n",
       "    </tr>\n",
       "    <tr>\n",
       "      <th>324</th>\n",
       "      <td>2020-12-20</td>\n",
       "      <td>A</td>\n",
       "      <td>9428</td>\n",
       "    </tr>\n",
       "    <tr>\n",
       "      <th>94</th>\n",
       "      <td>2020-12-20</td>\n",
       "      <td>B</td>\n",
       "      <td>3155</td>\n",
       "    </tr>\n",
       "    <tr>\n",
       "      <th>404</th>\n",
       "      <td>2020-12-21</td>\n",
       "      <td>A</td>\n",
       "      <td>11118</td>\n",
       "    </tr>\n",
       "    <tr>\n",
       "      <th>1123</th>\n",
       "      <td>2020-12-21</td>\n",
       "      <td>B</td>\n",
       "      <td>3513</td>\n",
       "    </tr>\n",
       "    <tr>\n",
       "      <th>104</th>\n",
       "      <td>2020-12-22</td>\n",
       "      <td>A</td>\n",
       "      <td>12232</td>\n",
       "    </tr>\n",
       "    <tr>\n",
       "      <th>227</th>\n",
       "      <td>2020-12-22</td>\n",
       "      <td>B</td>\n",
       "      <td>3671</td>\n",
       "    </tr>\n",
       "    <tr>\n",
       "      <th>667</th>\n",
       "      <td>2020-12-23</td>\n",
       "      <td>A</td>\n",
       "      <td>13069</td>\n",
       "    </tr>\n",
       "    <tr>\n",
       "      <th>228</th>\n",
       "      <td>2020-12-23</td>\n",
       "      <td>B</td>\n",
       "      <td>3838</td>\n",
       "    </tr>\n",
       "    <tr>\n",
       "      <th>215</th>\n",
       "      <td>2020-12-24</td>\n",
       "      <td>A</td>\n",
       "      <td>13816</td>\n",
       "    </tr>\n",
       "    <tr>\n",
       "      <th>751</th>\n",
       "      <td>2020-12-24</td>\n",
       "      <td>B</td>\n",
       "      <td>3969</td>\n",
       "    </tr>\n",
       "    <tr>\n",
       "      <th>308</th>\n",
       "      <td>2020-12-25</td>\n",
       "      <td>A</td>\n",
       "      <td>14380</td>\n",
       "    </tr>\n",
       "    <tr>\n",
       "      <th>197</th>\n",
       "      <td>2020-12-25</td>\n",
       "      <td>B</td>\n",
       "      <td>4067</td>\n",
       "    </tr>\n",
       "    <tr>\n",
       "      <th>757</th>\n",
       "      <td>2020-12-26</td>\n",
       "      <td>A</td>\n",
       "      <td>14884</td>\n",
       "    </tr>\n",
       "    <tr>\n",
       "      <th>432</th>\n",
       "      <td>2020-12-26</td>\n",
       "      <td>B</td>\n",
       "      <td>4160</td>\n",
       "    </tr>\n",
       "    <tr>\n",
       "      <th>135</th>\n",
       "      <td>2020-12-27</td>\n",
       "      <td>A</td>\n",
       "      <td>15369</td>\n",
       "    </tr>\n",
       "    <tr>\n",
       "      <th>366</th>\n",
       "      <td>2020-12-27</td>\n",
       "      <td>B</td>\n",
       "      <td>4264</td>\n",
       "    </tr>\n",
       "    <tr>\n",
       "      <th>356</th>\n",
       "      <td>2020-12-28</td>\n",
       "      <td>A</td>\n",
       "      <td>15782</td>\n",
       "    </tr>\n",
       "    <tr>\n",
       "      <th>662</th>\n",
       "      <td>2020-12-28</td>\n",
       "      <td>B</td>\n",
       "      <td>4346</td>\n",
       "    </tr>\n",
       "    <tr>\n",
       "      <th>625</th>\n",
       "      <td>2020-12-29</td>\n",
       "      <td>A</td>\n",
       "      <td>16154</td>\n",
       "    </tr>\n",
       "    <tr>\n",
       "      <th>101</th>\n",
       "      <td>2020-12-29</td>\n",
       "      <td>B</td>\n",
       "      <td>4406</td>\n",
       "    </tr>\n",
       "    <tr>\n",
       "      <th>7</th>\n",
       "      <td>2020-12-30</td>\n",
       "      <td>B</td>\n",
       "      <td>4410</td>\n",
       "    </tr>\n",
       "  </tbody>\n",
       "</table>\n",
       "</div>"
      ],
      "text/plain": [
       "        event_dt group  event_name\n",
       "0     2020-12-07     A         263\n",
       "2     2020-12-07     B         315\n",
       "17    2020-12-08     A         546\n",
       "3     2020-12-08     B         522\n",
       "15    2020-12-09     A         877\n",
       "39    2020-12-09     B         811\n",
       "235   2020-12-10     A        1171\n",
       "4     2020-12-10     B        1029\n",
       "46    2020-12-11     A        1480\n",
       "72    2020-12-11     B        1166\n",
       "103   2020-12-12     A        1799\n",
       "24    2020-12-12     B        1335\n",
       "335   2020-12-13     A        2072\n",
       "93    2020-12-13     B        1457\n",
       "47    2020-12-14     A        2952\n",
       "210   2020-12-14     B        1684\n",
       "307   2020-12-15     A        3867\n",
       "115   2020-12-15     B        1871\n",
       "134   2020-12-16     A        4737\n",
       "5     2020-12-16     B        2193\n",
       "48    2020-12-17     A        5783\n",
       "87    2020-12-17     B        2423\n",
       "33    2020-12-18     A        6868\n",
       "6     2020-12-18     B        2647\n",
       "214   2020-12-19     A        8130\n",
       "614   2020-12-19     B        2882\n",
       "324   2020-12-20     A        9428\n",
       "94    2020-12-20     B        3155\n",
       "404   2020-12-21     A       11118\n",
       "1123  2020-12-21     B        3513\n",
       "104   2020-12-22     A       12232\n",
       "227   2020-12-22     B        3671\n",
       "667   2020-12-23     A       13069\n",
       "228   2020-12-23     B        3838\n",
       "215   2020-12-24     A       13816\n",
       "751   2020-12-24     B        3969\n",
       "308   2020-12-25     A       14380\n",
       "197   2020-12-25     B        4067\n",
       "757   2020-12-26     A       14884\n",
       "432   2020-12-26     B        4160\n",
       "135   2020-12-27     A       15369\n",
       "366   2020-12-27     B        4264\n",
       "356   2020-12-28     A       15782\n",
       "662   2020-12-28     B        4346\n",
       "625   2020-12-29     A       16154\n",
       "101   2020-12-29     B        4406\n",
       "7     2020-12-30     B        4410"
      ]
     },
     "execution_count": 98,
     "metadata": {},
     "output_type": "execute_result"
    }
   ],
   "source": [
    "# We get aggregated cumulative data by days in order to then compare the dynamics of the number of events in the context of groups\n",
    "dynamic_actions = event_dates_groups.apply\\\n",
    "(lambda x: correct_data[np.logical_and(correct_data['event_dt'] <= x['event_dt'], correct_data['group'] == x['group'])]\\\n",
    " .agg({'event_dt' : 'max', 'group' : 'max', 'event_name' : 'count'}), axis=1)\\\n",
    ".sort_values(by=['event_dt','group'])\n",
    "dynamic_actions"
   ]
  },
  {
   "cell_type": "code",
   "execution_count": 99,
   "id": "9991aebb",
   "metadata": {},
   "outputs": [],
   "source": [
    "# Let's create a dataframe by days in group A\n",
    "cumulative_actions_A = dynamic_actions[dynamic_actions['group']=='A']\n",
    "\n",
    "# Let's create a dataframe by days in group B\n",
    "cumulative_actions_B = dynamic_actions[dynamic_actions['group']=='B']"
   ]
  },
  {
   "cell_type": "code",
   "execution_count": 129,
   "id": "287051ad",
   "metadata": {},
   "outputs": [
    {
     "data": {
      "image/png": "[encoded data removed]",
      "text/plain": [
       "<Figure size 1000x600 with 1 Axes>"
      ]
     },
     "metadata": {},
     "output_type": "display_data"
    }
   ],
   "source": [
    "# Let's build a graph that will show the dynamics of the number of events\n",
    "plt.figure(figsize=(10, 6))\n",
    "plt.plot(cumulative_actions_A['event_dt'], cumulative_actions_A['event_name'], label='group_A')\n",
    "plt.plot(cumulative_actions_B['event_dt'], cumulative_actions_B['event_name'], label='group_B')\n",
    "plt.legend()\n",
    "plt.xlabel('Testing date')\n",
    "plt.ylabel('Number of events')\n",
    "plt.title('Dynamics of the number of events by days and groups')\n",
    "plt.xticks(rotation='45')\n",
    "plt.show()"
   ]
  },
  {
   "cell_type": "markdown",
   "id": "dca50c15",
   "metadata": {},
   "source": [
    "**Conclusion: starting from December 13, 2020, much more events begin to occur in Group A than in group B.**"
   ]
  },
  {
   "cell_type": "markdown",
   "id": "4390f45e",
   "metadata": {},
   "source": [
    "#### Let's make sure that the time of the test does not coincide with marketing and other activities"
   ]
  },
  {
   "cell_type": "code",
   "execution_count": 101,
   "id": "8f99bd2e",
   "metadata": {},
   "outputs": [],
   "source": [
    "# Let's write a function that will check whether the start and start dates of the event fall \n",
    "# in the interval between the beginning and the end of the test\n",
    "# in case of an intersection, the function will return all information about the event\n",
    "def function(start, finish):\n",
    "    return marketing_events.\\\n",
    "query('(start_dt <= @finish and start_dt >= @start) or (finish_dt <= @finish and finish_dt >= @start)')"
   ]
  },
  {
   "cell_type": "code",
   "execution_count": 102,
   "id": "9ed96b03",
   "metadata": {},
   "outputs": [
    {
     "data": {
      "text/html": [
       "<div>\n",
       "<style scoped>\n",
       "    .dataframe tbody tr th:only-of-type {\n",
       "        vertical-align: middle;\n",
       "    }\n",
       "\n",
       "    .dataframe tbody tr th {\n",
       "        vertical-align: top;\n",
       "    }\n",
       "\n",
       "    .dataframe thead th {\n",
       "        text-align: right;\n",
       "    }\n",
       "</style>\n",
       "<table border=\"1\" class=\"dataframe\">\n",
       "  <thead>\n",
       "    <tr style=\"text-align: right;\">\n",
       "      <th></th>\n",
       "      <th>name</th>\n",
       "      <th>regions</th>\n",
       "      <th>start_dt</th>\n",
       "      <th>finish_dt</th>\n",
       "      <th>start_dt_year</th>\n",
       "      <th>finish_dt_year</th>\n",
       "    </tr>\n",
       "  </thead>\n",
       "  <tbody>\n",
       "    <tr>\n",
       "      <th>0</th>\n",
       "      <td>Christmas&amp;New Year Promo</td>\n",
       "      <td>EU, N.America</td>\n",
       "      <td>2020-12-25</td>\n",
       "      <td>2021-01-03</td>\n",
       "      <td>2020</td>\n",
       "      <td>2021</td>\n",
       "    </tr>\n",
       "    <tr>\n",
       "      <th>10</th>\n",
       "      <td>CIS New Year Gift Lottery</td>\n",
       "      <td>CIS</td>\n",
       "      <td>2020-12-30</td>\n",
       "      <td>2021-01-07</td>\n",
       "      <td>2020</td>\n",
       "      <td>2021</td>\n",
       "    </tr>\n",
       "  </tbody>\n",
       "</table>\n",
       "</div>"
      ],
      "text/plain": [
       "                         name        regions   start_dt  finish_dt  \\\n",
       "0    Christmas&New Year Promo  EU, N.America 2020-12-25 2021-01-03   \n",
       "10  CIS New Year Gift Lottery            CIS 2020-12-30 2021-01-07   \n",
       "\n",
       "    start_dt_year  finish_dt_year  \n",
       "0            2020            2021  \n",
       "10           2020            2021  "
      ]
     },
     "execution_count": 102,
     "metadata": {},
     "output_type": "execute_result"
    }
   ],
   "source": [
    "function(start = datetime(2020, 12, 7).date(), finish = datetime(2021, 12, 30).date())"
   ]
  },
  {
   "cell_type": "markdown",
   "id": "99572e27",
   "metadata": {},
   "source": [
    "**Conclusion: The dates of the test overlap with the Christmas&New Year Promo event. At the same time, the gap in the number of events between the test groups began before the start of the Christmas&New Year Promo event.**\n",
    "\n",
    "**In my opinion, the Christmas&New Year Promo event affected the test, but not dramatically, since after the start of the event there was no sharp increase in the number of events in the test groups.**"
   ]
  },
  {
   "cell_type": "markdown",
   "id": "c9367308",
   "metadata": {},
   "source": [
    "#### Let's study the product funnels"
   ]
  },
  {
   "cell_type": "markdown",
   "id": "2f56b0ed",
   "metadata": {},
   "source": [
    "**The product funnel looks like this: login - product_page - product_cart- purchase.**"
   ]
  },
  {
   "cell_type": "code",
   "execution_count": 103,
   "id": "de877c41",
   "metadata": {},
   "outputs": [
    {
     "data": {
      "text/html": [
       "<div>\n",
       "<style scoped>\n",
       "    .dataframe tbody tr th:only-of-type {\n",
       "        vertical-align: middle;\n",
       "    }\n",
       "\n",
       "    .dataframe tbody tr th {\n",
       "        vertical-align: top;\n",
       "    }\n",
       "\n",
       "    .dataframe thead th {\n",
       "        text-align: right;\n",
       "    }\n",
       "</style>\n",
       "<table border=\"1\" class=\"dataframe\">\n",
       "  <thead>\n",
       "    <tr style=\"text-align: right;\">\n",
       "      <th></th>\n",
       "      <th>user_id</th>\n",
       "      <th>first_date</th>\n",
       "      <th>region</th>\n",
       "      <th>device</th>\n",
       "      <th>group</th>\n",
       "      <th>ab_test</th>\n",
       "      <th>event_dt</th>\n",
       "      <th>event_name</th>\n",
       "      <th>details</th>\n",
       "    </tr>\n",
       "  </thead>\n",
       "  <tbody>\n",
       "    <tr>\n",
       "      <th>0</th>\n",
       "      <td>D72A72121175D8BE</td>\n",
       "      <td>2020-12-07</td>\n",
       "      <td>EU</td>\n",
       "      <td>PC</td>\n",
       "      <td>A</td>\n",
       "      <td>recommender_system_test</td>\n",
       "      <td>2020-12-07</td>\n",
       "      <td>product_page</td>\n",
       "      <td>NaN</td>\n",
       "    </tr>\n",
       "    <tr>\n",
       "      <th>1</th>\n",
       "      <td>D72A72121175D8BE</td>\n",
       "      <td>2020-12-07</td>\n",
       "      <td>EU</td>\n",
       "      <td>PC</td>\n",
       "      <td>A</td>\n",
       "      <td>recommender_system_test</td>\n",
       "      <td>2020-12-07</td>\n",
       "      <td>login</td>\n",
       "      <td>NaN</td>\n",
       "    </tr>\n",
       "    <tr>\n",
       "      <th>2</th>\n",
       "      <td>DD4352CDCF8C3D57</td>\n",
       "      <td>2020-12-07</td>\n",
       "      <td>EU</td>\n",
       "      <td>Android</td>\n",
       "      <td>B</td>\n",
       "      <td>recommender_system_test</td>\n",
       "      <td>2020-12-07</td>\n",
       "      <td>product_page</td>\n",
       "      <td>NaN</td>\n",
       "    </tr>\n",
       "    <tr>\n",
       "      <th>3</th>\n",
       "      <td>DD4352CDCF8C3D57</td>\n",
       "      <td>2020-12-07</td>\n",
       "      <td>EU</td>\n",
       "      <td>Android</td>\n",
       "      <td>B</td>\n",
       "      <td>recommender_system_test</td>\n",
       "      <td>2020-12-08</td>\n",
       "      <td>product_page</td>\n",
       "      <td>NaN</td>\n",
       "    </tr>\n",
       "    <tr>\n",
       "      <th>4</th>\n",
       "      <td>DD4352CDCF8C3D57</td>\n",
       "      <td>2020-12-07</td>\n",
       "      <td>EU</td>\n",
       "      <td>Android</td>\n",
       "      <td>B</td>\n",
       "      <td>recommender_system_test</td>\n",
       "      <td>2020-12-10</td>\n",
       "      <td>product_page</td>\n",
       "      <td>NaN</td>\n",
       "    </tr>\n",
       "  </tbody>\n",
       "</table>\n",
       "</div>"
      ],
      "text/plain": [
       "            user_id  first_date region   device group  \\\n",
       "0  D72A72121175D8BE  2020-12-07     EU       PC     A   \n",
       "1  D72A72121175D8BE  2020-12-07     EU       PC     A   \n",
       "2  DD4352CDCF8C3D57  2020-12-07     EU  Android     B   \n",
       "3  DD4352CDCF8C3D57  2020-12-07     EU  Android     B   \n",
       "4  DD4352CDCF8C3D57  2020-12-07     EU  Android     B   \n",
       "\n",
       "                   ab_test    event_dt    event_name  details  \n",
       "0  recommender_system_test  2020-12-07  product_page      NaN  \n",
       "1  recommender_system_test  2020-12-07         login      NaN  \n",
       "2  recommender_system_test  2020-12-07  product_page      NaN  \n",
       "3  recommender_system_test  2020-12-08  product_page      NaN  \n",
       "4  recommender_system_test  2020-12-10  product_page      NaN  "
      ]
     },
     "execution_count": 103,
     "metadata": {},
     "output_type": "execute_result"
    }
   ],
   "source": [
    "correct_data.head()"
   ]
  },
  {
   "cell_type": "code",
   "execution_count": 104,
   "id": "cdfaf06f",
   "metadata": {},
   "outputs": [
    {
     "data": {
      "text/html": [
       "<div>\n",
       "<style scoped>\n",
       "    .dataframe tbody tr th:only-of-type {\n",
       "        vertical-align: middle;\n",
       "    }\n",
       "\n",
       "    .dataframe tbody tr th {\n",
       "        vertical-align: top;\n",
       "    }\n",
       "\n",
       "    .dataframe thead th {\n",
       "        text-align: right;\n",
       "    }\n",
       "</style>\n",
       "<table border=\"1\" class=\"dataframe\">\n",
       "  <thead>\n",
       "    <tr style=\"text-align: right;\">\n",
       "      <th></th>\n",
       "      <th>event_name</th>\n",
       "      <th>user_id</th>\n",
       "    </tr>\n",
       "  </thead>\n",
       "  <tbody>\n",
       "    <tr>\n",
       "      <th>0</th>\n",
       "      <td>login</td>\n",
       "      <td>2279</td>\n",
       "    </tr>\n",
       "    <tr>\n",
       "      <th>1</th>\n",
       "      <td>product_cart</td>\n",
       "      <td>686</td>\n",
       "    </tr>\n",
       "    <tr>\n",
       "      <th>2</th>\n",
       "      <td>product_page</td>\n",
       "      <td>1476</td>\n",
       "    </tr>\n",
       "    <tr>\n",
       "      <th>3</th>\n",
       "      <td>purchase</td>\n",
       "      <td>734</td>\n",
       "    </tr>\n",
       "  </tbody>\n",
       "</table>\n",
       "</div>"
      ],
      "text/plain": [
       "     event_name  user_id\n",
       "0         login     2279\n",
       "1  product_cart      686\n",
       "2  product_page     1476\n",
       "3      purchase      734"
      ]
     },
     "execution_count": 104,
     "metadata": {},
     "output_type": "execute_result"
    }
   ],
   "source": [
    "sales_funnel_A = correct_data.query('group == \"A\"').pivot_table(index='event_name', \n",
    "                                                                values='user_id', \n",
    "                                                                aggfunc='nunique').reset_index() \n",
    "sales_funnel_A"
   ]
  },
  {
   "cell_type": "code",
   "execution_count": 105,
   "id": "e06e972f",
   "metadata": {},
   "outputs": [],
   "source": [
    "# Let's calculate the proportion of users who have ever committed an event\n",
    "sales_funnel_A['percentage'] = round\\\n",
    "(100 * (sales_funnel_A['user_id'] / correct_data.query('group == \"A\"')['user_id'].nunique()), 2)\n",
    "sales_funnel_A = sales_funnel_A.sort_values(by='percentage', ascending=False)"
   ]
  },
  {
   "cell_type": "code",
   "execution_count": 106,
   "id": "71bf446e",
   "metadata": {},
   "outputs": [
    {
     "data": {
      "text/html": [
       "<div>\n",
       "<style scoped>\n",
       "    .dataframe tbody tr th:only-of-type {\n",
       "        vertical-align: middle;\n",
       "    }\n",
       "\n",
       "    .dataframe tbody tr th {\n",
       "        vertical-align: top;\n",
       "    }\n",
       "\n",
       "    .dataframe thead th {\n",
       "        text-align: right;\n",
       "    }\n",
       "</style>\n",
       "<table border=\"1\" class=\"dataframe\">\n",
       "  <thead>\n",
       "    <tr style=\"text-align: right;\">\n",
       "      <th></th>\n",
       "      <th>event_name</th>\n",
       "      <th>user_id</th>\n",
       "      <th>percentage</th>\n",
       "      <th>сonversion_per_step</th>\n",
       "    </tr>\n",
       "  </thead>\n",
       "  <tbody>\n",
       "    <tr>\n",
       "      <th>0</th>\n",
       "      <td>login</td>\n",
       "      <td>2279</td>\n",
       "      <td>100.00</td>\n",
       "      <td>100.0</td>\n",
       "    </tr>\n",
       "    <tr>\n",
       "      <th>2</th>\n",
       "      <td>product_page</td>\n",
       "      <td>1476</td>\n",
       "      <td>64.77</td>\n",
       "      <td>65.0</td>\n",
       "    </tr>\n",
       "    <tr>\n",
       "      <th>3</th>\n",
       "      <td>purchase</td>\n",
       "      <td>734</td>\n",
       "      <td>32.21</td>\n",
       "      <td>50.0</td>\n",
       "    </tr>\n",
       "    <tr>\n",
       "      <th>1</th>\n",
       "      <td>product_cart</td>\n",
       "      <td>686</td>\n",
       "      <td>30.10</td>\n",
       "      <td>93.0</td>\n",
       "    </tr>\n",
       "  </tbody>\n",
       "</table>\n",
       "</div>"
      ],
      "text/plain": [
       "     event_name  user_id  percentage  сonversion_per_step\n",
       "0         login     2279      100.00                100.0\n",
       "2  product_page     1476       64.77                 65.0\n",
       "3      purchase      734       32.21                 50.0\n",
       "1  product_cart      686       30.10                 93.0"
      ]
     },
     "execution_count": 106,
     "metadata": {},
     "output_type": "execute_result"
    }
   ],
   "source": [
    "# Using the funnel of events, we will calculate what proportion of users passes to the next step of the funnel\n",
    "sales_funnel_A['сonversion_per_step'] = round\\\n",
    "(100 * (sales_funnel_A['user_id'].div(sales_funnel_A['user_id'].shift()).fillna(1.0)), 0)\n",
    "sales_funnel_A"
   ]
  },
  {
   "cell_type": "markdown",
   "id": "c55cafca",
   "metadata": {},
   "source": [
    "**We see that the product_cart event was committed by fewer users than the target purchase event. Apparently this suggests that the funnel is not strict and you can buy goods without going into the basket.**\n",
    "**Therefore, before building a funnel graph, we will add a column with the correct sequence of actions and sort the table by it.**"
   ]
  },
  {
   "cell_type": "code",
   "execution_count": 107,
   "id": "42c58a99",
   "metadata": {},
   "outputs": [
    {
     "data": {
      "text/html": [
       "<div>\n",
       "<style scoped>\n",
       "    .dataframe tbody tr th:only-of-type {\n",
       "        vertical-align: middle;\n",
       "    }\n",
       "\n",
       "    .dataframe tbody tr th {\n",
       "        vertical-align: top;\n",
       "    }\n",
       "\n",
       "    .dataframe thead th {\n",
       "        text-align: right;\n",
       "    }\n",
       "</style>\n",
       "<table border=\"1\" class=\"dataframe\">\n",
       "  <thead>\n",
       "    <tr style=\"text-align: right;\">\n",
       "      <th></th>\n",
       "      <th>event_name</th>\n",
       "      <th>user_id</th>\n",
       "      <th>percentage</th>\n",
       "      <th>сonversion_per_step</th>\n",
       "      <th>sequence_of_actions</th>\n",
       "    </tr>\n",
       "  </thead>\n",
       "  <tbody>\n",
       "    <tr>\n",
       "      <th>0</th>\n",
       "      <td>login</td>\n",
       "      <td>2279</td>\n",
       "      <td>100.00</td>\n",
       "      <td>100.0</td>\n",
       "      <td>1</td>\n",
       "    </tr>\n",
       "    <tr>\n",
       "      <th>2</th>\n",
       "      <td>product_page</td>\n",
       "      <td>1476</td>\n",
       "      <td>64.77</td>\n",
       "      <td>65.0</td>\n",
       "      <td>2</td>\n",
       "    </tr>\n",
       "    <tr>\n",
       "      <th>1</th>\n",
       "      <td>product_cart</td>\n",
       "      <td>686</td>\n",
       "      <td>30.10</td>\n",
       "      <td>93.0</td>\n",
       "      <td>3</td>\n",
       "    </tr>\n",
       "    <tr>\n",
       "      <th>3</th>\n",
       "      <td>purchase</td>\n",
       "      <td>734</td>\n",
       "      <td>32.21</td>\n",
       "      <td>50.0</td>\n",
       "      <td>4</td>\n",
       "    </tr>\n",
       "  </tbody>\n",
       "</table>\n",
       "</div>"
      ],
      "text/plain": [
       "     event_name  user_id  percentage  сonversion_per_step sequence_of_actions\n",
       "0         login     2279      100.00                100.0                   1\n",
       "2  product_page     1476       64.77                 65.0                   2\n",
       "1  product_cart      686       30.10                 93.0                   3\n",
       "3      purchase      734       32.21                 50.0                   4"
      ]
     },
     "execution_count": 107,
     "metadata": {},
     "output_type": "execute_result"
    }
   ],
   "source": [
    "sequence_of_actions = ['1', '2', '4', '3']\n",
    "sales_funnel_A['sequence_of_actions'] = sequence_of_actions\n",
    "sales_funnel_A = sales_funnel_A.sort_values(by='sequence_of_actions')\n",
    "sales_funnel_A"
   ]
  },
  {
   "cell_type": "code",
   "execution_count": 130,
   "id": "c9dc07a9",
   "metadata": {},
   "outputs": [
    {
     "data": {
      "application/vnd.plotly.v1+json": {
       "config": {
        "plotlyServerURL": "https://plot.ly"
       },
       "data": [
        {
         "connector": {
          "line": {
           "color": "royalblue",
           "dash": "dot",
           "width": 3
          }
         },
         "marker": {
          "color": [
           "deepskyblue",
           "lightsalmon",
           "tan",
           "teal",
           "silver"
          ],
          "line": {
           "color": [
            "wheat",
            "wheat",
            "blue",
            "wheat",
            "wheat"
           ],
           "width": [
            4,
            2,
            2,
            3,
            1,
            1
           ]
          }
         },
         "opacity": 0.65,
         "textinfo": "value+percent initial",
         "textposition": "inside",
         "type": "funnel",
         "x": [
          2279,
          1476,
          686,
          734
         ],
         "y": [
          "login",
          "product_page",
          "product_cart",
          "purchase"
         ]
        }
       ],
       "layout": {
        "template": {
         "data": {
          "bar": [
           {
            "error_x": {
             "color": "#2a3f5f"
            },
            "error_y": {
             "color": "#2a3f5f"
            },
            "marker": {
             "line": {
              "color": "#E5ECF6",
              "width": 0.5
             },
             "pattern": {
              "fillmode": "overlay",
              "size": 10,
              "solidity": 0.2
             }
            },
            "type": "bar"
           }
          ],
          "barpolar": [
           {
            "marker": {
             "line": {
              "color": "#E5ECF6",
              "width": 0.5
             },
             "pattern": {
              "fillmode": "overlay",
              "size": 10,
              "solidity": 0.2
             }
            },
            "type": "barpolar"
           }
          ],
          "carpet": [
           {
            "aaxis": {
             "endlinecolor": "#2a3f5f",
             "gridcolor": "white",
             "linecolor": "white",
             "minorgridcolor": "white",
             "startlinecolor": "#2a3f5f"
            },
            "baxis": {
             "endlinecolor": "#2a3f5f",
             "gridcolor": "white",
             "linecolor": "white",
             "minorgridcolor": "white",
             "startlinecolor": "#2a3f5f"
            },
            "type": "carpet"
           }
          ],
          "choropleth": [
           {
            "colorbar": {
             "outlinewidth": 0,
             "ticks": ""
            },
            "type": "choropleth"
           }
          ],
          "contour": [
           {
            "colorbar": {
             "outlinewidth": 0,
             "ticks": ""
            },
            "colorscale": [
             [
              0,
              "#0d0887"
             ],
             [
              0.1111111111111111,
              "#46039f"
             ],
             [
              0.2222222222222222,
              "#7201a8"
             ],
             [
              0.3333333333333333,
              "#9c179e"
             ],
             [
              0.4444444444444444,
              "#bd3786"
             ],
             [
              0.5555555555555556,
              "#d8576b"
             ],
             [
              0.6666666666666666,
              "#ed7953"
             ],
             [
              0.7777777777777778,
              "#fb9f3a"
             ],
             [
              0.8888888888888888,
              "#fdca26"
             ],
             [
              1,
              "#f0f921"
             ]
            ],
            "type": "contour"
           }
          ],
          "contourcarpet": [
           {
            "colorbar": {
             "outlinewidth": 0,
             "ticks": ""
            },
            "type": "contourcarpet"
           }
          ],
          "heatmap": [
           {
            "colorbar": {
             "outlinewidth": 0,
             "ticks": ""
            },
            "colorscale": [
             [
              0,
              "#0d0887"
             ],
             [
              0.1111111111111111,
              "#46039f"
             ],
             [
              0.2222222222222222,
              "#7201a8"
             ],
             [
              0.3333333333333333,
              "#9c179e"
             ],
             [
              0.4444444444444444,
              "#bd3786"
             ],
             [
              0.5555555555555556,
              "#d8576b"
             ],
             [
              0.6666666666666666,
              "#ed7953"
             ],
             [
              0.7777777777777778,
              "#fb9f3a"
             ],
             [
              0.8888888888888888,
              "#fdca26"
             ],
             [
              1,
              "#f0f921"
             ]
            ],
            "type": "heatmap"
           }
          ],
          "heatmapgl": [
           {
            "colorbar": {
             "outlinewidth": 0,
             "ticks": ""
            },
            "colorscale": [
             [
              0,
              "#0d0887"
             ],
             [
              0.1111111111111111,
              "#46039f"
             ],
             [
              0.2222222222222222,
              "#7201a8"
             ],
             [
              0.3333333333333333,
              "#9c179e"
             ],
             [
              0.4444444444444444,
              "#bd3786"
             ],
             [
              0.5555555555555556,
              "#d8576b"
             ],
             [
              0.6666666666666666,
              "#ed7953"
             ],
             [
              0.7777777777777778,
              "#fb9f3a"
             ],
             [
              0.8888888888888888,
              "#fdca26"
             ],
             [
              1,
              "#f0f921"
             ]
            ],
            "type": "heatmapgl"
           }
          ],
          "histogram": [
           {
            "marker": {
             "pattern": {
              "fillmode": "overlay",
              "size": 10,
              "solidity": 0.2
             }
            },
            "type": "histogram"
           }
          ],
          "histogram2d": [
           {
            "colorbar": {
             "outlinewidth": 0,
             "ticks": ""
            },
            "colorscale": [
             [
              0,
              "#0d0887"
             ],
             [
              0.1111111111111111,
              "#46039f"
             ],
             [
              0.2222222222222222,
              "#7201a8"
             ],
             [
              0.3333333333333333,
              "#9c179e"
             ],
             [
              0.4444444444444444,
              "#bd3786"
             ],
             [
              0.5555555555555556,
              "#d8576b"
             ],
             [
              0.6666666666666666,
              "#ed7953"
             ],
             [
              0.7777777777777778,
              "#fb9f3a"
             ],
             [
              0.8888888888888888,
              "#fdca26"
             ],
             [
              1,
              "#f0f921"
             ]
            ],
            "type": "histogram2d"
           }
          ],
          "histogram2dcontour": [
           {
            "colorbar": {
             "outlinewidth": 0,
             "ticks": ""
            },
            "colorscale": [
             [
              0,
              "#0d0887"
             ],
             [
              0.1111111111111111,
              "#46039f"
             ],
             [
              0.2222222222222222,
              "#7201a8"
             ],
             [
              0.3333333333333333,
              "#9c179e"
             ],
             [
              0.4444444444444444,
              "#bd3786"
             ],
             [
              0.5555555555555556,
              "#d8576b"
             ],
             [
              0.6666666666666666,
              "#ed7953"
             ],
             [
              0.7777777777777778,
              "#fb9f3a"
             ],
             [
              0.8888888888888888,
              "#fdca26"
             ],
             [
              1,
              "#f0f921"
             ]
            ],
            "type": "histogram2dcontour"
           }
          ],
          "mesh3d": [
           {
            "colorbar": {
             "outlinewidth": 0,
             "ticks": ""
            },
            "type": "mesh3d"
           }
          ],
          "parcoords": [
           {
            "line": {
             "colorbar": {
              "outlinewidth": 0,
              "ticks": ""
             }
            },
            "type": "parcoords"
           }
          ],
          "pie": [
           {
            "automargin": true,
            "type": "pie"
           }
          ],
          "scatter": [
           {
            "marker": {
             "colorbar": {
              "outlinewidth": 0,
              "ticks": ""
             }
            },
            "type": "scatter"
           }
          ],
          "scatter3d": [
           {
            "line": {
             "colorbar": {
              "outlinewidth": 0,
              "ticks": ""
             }
            },
            "marker": {
             "colorbar": {
              "outlinewidth": 0,
              "ticks": ""
             }
            },
            "type": "scatter3d"
           }
          ],
          "scattercarpet": [
           {
            "marker": {
             "colorbar": {
              "outlinewidth": 0,
              "ticks": ""
             }
            },
            "type": "scattercarpet"
           }
          ],
          "scattergeo": [
           {
            "marker": {
             "colorbar": {
              "outlinewidth": 0,
              "ticks": ""
             }
            },
            "type": "scattergeo"
           }
          ],
          "scattergl": [
           {
            "marker": {
             "colorbar": {
              "outlinewidth": 0,
              "ticks": ""
             }
            },
            "type": "scattergl"
           }
          ],
          "scattermapbox": [
           {
            "marker": {
             "colorbar": {
              "outlinewidth": 0,
              "ticks": ""
             }
            },
            "type": "scattermapbox"
           }
          ],
          "scatterpolar": [
           {
            "marker": {
             "colorbar": {
              "outlinewidth": 0,
              "ticks": ""
             }
            },
            "type": "scatterpolar"
           }
          ],
          "scatterpolargl": [
           {
            "marker": {
             "colorbar": {
              "outlinewidth": 0,
              "ticks": ""
             }
            },
            "type": "scatterpolargl"
           }
          ],
          "scatterternary": [
           {
            "marker": {
             "colorbar": {
              "outlinewidth": 0,
              "ticks": ""
             }
            },
            "type": "scatterternary"
           }
          ],
          "surface": [
           {
            "colorbar": {
             "outlinewidth": 0,
             "ticks": ""
            },
            "colorscale": [
             [
              0,
              "#0d0887"
             ],
             [
              0.1111111111111111,
              "#46039f"
             ],
             [
              0.2222222222222222,
              "#7201a8"
             ],
             [
              0.3333333333333333,
              "#9c179e"
             ],
             [
              0.4444444444444444,
              "#bd3786"
             ],
             [
              0.5555555555555556,
              "#d8576b"
             ],
             [
              0.6666666666666666,
              "#ed7953"
             ],
             [
              0.7777777777777778,
              "#fb9f3a"
             ],
             [
              0.8888888888888888,
              "#fdca26"
             ],
             [
              1,
              "#f0f921"
             ]
            ],
            "type": "surface"
           }
          ],
          "table": [
           {
            "cells": {
             "fill": {
              "color": "#EBF0F8"
             },
             "line": {
              "color": "white"
             }
            },
            "header": {
             "fill": {
              "color": "#C8D4E3"
             },
             "line": {
              "color": "white"
             }
            },
            "type": "table"
           }
          ]
         },
         "layout": {
          "annotationdefaults": {
           "arrowcolor": "#2a3f5f",
           "arrowhead": 0,
           "arrowwidth": 1
          },
          "autotypenumbers": "strict",
          "coloraxis": {
           "colorbar": {
            "outlinewidth": 0,
            "ticks": ""
           }
          },
          "colorscale": {
           "diverging": [
            [
             0,
             "#8e0152"
            ],
            [
             0.1,
             "#c51b7d"
            ],
            [
             0.2,
             "#de77ae"
            ],
            [
             0.3,
             "#f1b6da"
            ],
            [
             0.4,
             "#fde0ef"
            ],
            [
             0.5,
             "#f7f7f7"
            ],
            [
             0.6,
             "#e6f5d0"
            ],
            [
             0.7,
             "#b8e186"
            ],
            [
             0.8,
             "#7fbc41"
            ],
            [
             0.9,
             "#4d9221"
            ],
            [
             1,
             "#276419"
            ]
           ],
           "sequential": [
            [
             0,
             "#0d0887"
            ],
            [
             0.1111111111111111,
             "#46039f"
            ],
            [
             0.2222222222222222,
             "#7201a8"
            ],
            [
             0.3333333333333333,
             "#9c179e"
            ],
            [
             0.4444444444444444,
             "#bd3786"
            ],
            [
             0.5555555555555556,
             "#d8576b"
            ],
            [
             0.6666666666666666,
             "#ed7953"
            ],
            [
             0.7777777777777778,
             "#fb9f3a"
            ],
            [
             0.8888888888888888,
             "#fdca26"
            ],
            [
             1,
             "#f0f921"
            ]
           ],
           "sequentialminus": [
            [
             0,
             "#0d0887"
            ],
            [
             0.1111111111111111,
             "#46039f"
            ],
            [
             0.2222222222222222,
             "#7201a8"
            ],
            [
             0.3333333333333333,
             "#9c179e"
            ],
            [
             0.4444444444444444,
             "#bd3786"
            ],
            [
             0.5555555555555556,
             "#d8576b"
            ],
            [
             0.6666666666666666,
             "#ed7953"
            ],
            [
             0.7777777777777778,
             "#fb9f3a"
            ],
            [
             0.8888888888888888,
             "#fdca26"
            ],
            [
             1,
             "#f0f921"
            ]
           ]
          },
          "colorway": [
           "#636efa",
           "#EF553B",
           "#00cc96",
           "#ab63fa",
           "#FFA15A",
           "#19d3f3",
           "#FF6692",
           "#B6E880",
           "#FF97FF",
           "#FECB52"
          ],
          "font": {
           "color": "#2a3f5f"
          },
          "geo": {
           "bgcolor": "white",
           "lakecolor": "white",
           "landcolor": "#E5ECF6",
           "showlakes": true,
           "showland": true,
           "subunitcolor": "white"
          },
          "hoverlabel": {
           "align": "left"
          },
          "hovermode": "closest",
          "mapbox": {
           "style": "light"
          },
          "paper_bgcolor": "white",
          "plot_bgcolor": "#E5ECF6",
          "polar": {
           "angularaxis": {
            "gridcolor": "white",
            "linecolor": "white",
            "ticks": ""
           },
           "bgcolor": "#E5ECF6",
           "radialaxis": {
            "gridcolor": "white",
            "linecolor": "white",
            "ticks": ""
           }
          },
          "scene": {
           "xaxis": {
            "backgroundcolor": "#E5ECF6",
            "gridcolor": "white",
            "gridwidth": 2,
            "linecolor": "white",
            "showbackground": true,
            "ticks": "",
            "zerolinecolor": "white"
           },
           "yaxis": {
            "backgroundcolor": "#E5ECF6",
            "gridcolor": "white",
            "gridwidth": 2,
            "linecolor": "white",
            "showbackground": true,
            "ticks": "",
            "zerolinecolor": "white"
           },
           "zaxis": {
            "backgroundcolor": "#E5ECF6",
            "gridcolor": "white",
            "gridwidth": 2,
            "linecolor": "white",
            "showbackground": true,
            "ticks": "",
            "zerolinecolor": "white"
           }
          },
          "shapedefaults": {
           "line": {
            "color": "#2a3f5f"
           }
          },
          "ternary": {
           "aaxis": {
            "gridcolor": "white",
            "linecolor": "white",
            "ticks": ""
           },
           "baxis": {
            "gridcolor": "white",
            "linecolor": "white",
            "ticks": ""
           },
           "bgcolor": "#E5ECF6",
           "caxis": {
            "gridcolor": "white",
            "linecolor": "white",
            "ticks": ""
           }
          },
          "title": {
           "x": 0.05
          },
          "xaxis": {
           "automargin": true,
           "gridcolor": "white",
           "linecolor": "white",
           "ticks": "",
           "title": {
            "standoff": 15
           },
           "zerolinecolor": "white",
           "zerolinewidth": 2
          },
          "yaxis": {
           "automargin": true,
           "gridcolor": "white",
           "linecolor": "white",
           "ticks": "",
           "title": {
            "standoff": 15
           },
           "zerolinecolor": "white",
           "zerolinewidth": 2
          }
         }
        },
        "title": {
         "text": "Funnel of Group A events"
        }
       }
      },
      "text/html": [
       "<div>                            <div id=\"c6259dcf-79fc-46ba-bd43-a8ea7f9cf884\" class=\"plotly-graph-div\" style=\"height:525px; width:100%;\"></div>            <script type=\"text/javascript\">                require([\"plotly\"], function(Plotly) {                    window.PLOTLYENV=window.PLOTLYENV || {};                                    if (document.getElementById(\"c6259dcf-79fc-46ba-bd43-a8ea7f9cf884\")) {                    Plotly.newPlot(                        \"c6259dcf-79fc-46ba-bd43-a8ea7f9cf884\",                        [{\"connector\":{\"line\":{\"color\":\"royalblue\",\"dash\":\"dot\",\"width\":3}},\"marker\":{\"color\":[\"deepskyblue\",\"lightsalmon\",\"tan\",\"teal\",\"silver\"],\"line\":{\"color\":[\"wheat\",\"wheat\",\"blue\",\"wheat\",\"wheat\"],\"width\":[4,2,2,3,1,1]}},\"opacity\":0.65,\"textinfo\":\"value+percent initial\",\"textposition\":\"inside\",\"x\":[2279,1476,686,734],\"y\":[\"login\",\"product_page\",\"product_cart\",\"purchase\"],\"type\":\"funnel\"}],                        {\"template\":{\"data\":{\"bar\":[{\"error_x\":{\"color\":\"#2a3f5f\"},\"error_y\":{\"color\":\"#2a3f5f\"},\"marker\":{\"line\":{\"color\":\"#E5ECF6\",\"width\":0.5},\"pattern\":{\"fillmode\":\"overlay\",\"size\":10,\"solidity\":0.2}},\"type\":\"bar\"}],\"barpolar\":[{\"marker\":{\"line\":{\"color\":\"#E5ECF6\",\"width\":0.5},\"pattern\":{\"fillmode\":\"overlay\",\"size\":10,\"solidity\":0.2}},\"type\":\"barpolar\"}],\"carpet\":[{\"aaxis\":{\"endlinecolor\":\"#2a3f5f\",\"gridcolor\":\"white\",\"linecolor\":\"white\",\"minorgridcolor\":\"white\",\"startlinecolor\":\"#2a3f5f\"},\"baxis\":{\"endlinecolor\":\"#2a3f5f\",\"gridcolor\":\"white\",\"linecolor\":\"white\",\"minorgridcolor\":\"white\",\"startlinecolor\":\"#2a3f5f\"},\"type\":\"carpet\"}],\"choropleth\":[{\"colorbar\":{\"outlinewidth\":0,\"ticks\":\"\"},\"type\":\"choropleth\"}],\"contour\":[{\"colorbar\":{\"outlinewidth\":0,\"ticks\":\"\"},\"colorscale\":[[0.0,\"#0d0887\"],[0.1111111111111111,\"#46039f\"],[0.2222222222222222,\"#7201a8\"],[0.3333333333333333,\"#9c179e\"],[0.4444444444444444,\"#bd3786\"],[0.5555555555555556,\"#d8576b\"],[0.6666666666666666,\"#ed7953\"],[0.7777777777777778,\"#fb9f3a\"],[0.8888888888888888,\"#fdca26\"],[1.0,\"#f0f921\"]],\"type\":\"contour\"}],\"contourcarpet\":[{\"colorbar\":{\"outlinewidth\":0,\"ticks\":\"\"},\"type\":\"contourcarpet\"}],\"heatmap\":[{\"colorbar\":{\"outlinewidth\":0,\"ticks\":\"\"},\"colorscale\":[[0.0,\"#0d0887\"],[0.1111111111111111,\"#46039f\"],[0.2222222222222222,\"#7201a8\"],[0.3333333333333333,\"#9c179e\"],[0.4444444444444444,\"#bd3786\"],[0.5555555555555556,\"#d8576b\"],[0.6666666666666666,\"#ed7953\"],[0.7777777777777778,\"#fb9f3a\"],[0.8888888888888888,\"#fdca26\"],[1.0,\"#f0f921\"]],\"type\":\"heatmap\"}],\"heatmapgl\":[{\"colorbar\":{\"outlinewidth\":0,\"ticks\":\"\"},\"colorscale\":[[0.0,\"#0d0887\"],[0.1111111111111111,\"#46039f\"],[0.2222222222222222,\"#7201a8\"],[0.3333333333333333,\"#9c179e\"],[0.4444444444444444,\"#bd3786\"],[0.5555555555555556,\"#d8576b\"],[0.6666666666666666,\"#ed7953\"],[0.7777777777777778,\"#fb9f3a\"],[0.8888888888888888,\"#fdca26\"],[1.0,\"#f0f921\"]],\"type\":\"heatmapgl\"}],\"histogram\":[{\"marker\":{\"pattern\":{\"fillmode\":\"overlay\",\"size\":10,\"solidity\":0.2}},\"type\":\"histogram\"}],\"histogram2d\":[{\"colorbar\":{\"outlinewidth\":0,\"ticks\":\"\"},\"colorscale\":[[0.0,\"#0d0887\"],[0.1111111111111111,\"#46039f\"],[0.2222222222222222,\"#7201a8\"],[0.3333333333333333,\"#9c179e\"],[0.4444444444444444,\"#bd3786\"],[0.5555555555555556,\"#d8576b\"],[0.6666666666666666,\"#ed7953\"],[0.7777777777777778,\"#fb9f3a\"],[0.8888888888888888,\"#fdca26\"],[1.0,\"#f0f921\"]],\"type\":\"histogram2d\"}],\"histogram2dcontour\":[{\"colorbar\":{\"outlinewidth\":0,\"ticks\":\"\"},\"colorscale\":[[0.0,\"#0d0887\"],[0.1111111111111111,\"#46039f\"],[0.2222222222222222,\"#7201a8\"],[0.3333333333333333,\"#9c179e\"],[0.4444444444444444,\"#bd3786\"],[0.5555555555555556,\"#d8576b\"],[0.6666666666666666,\"#ed7953\"],[0.7777777777777778,\"#fb9f3a\"],[0.8888888888888888,\"#fdca26\"],[1.0,\"#f0f921\"]],\"type\":\"histogram2dcontour\"}],\"mesh3d\":[{\"colorbar\":{\"outlinewidth\":0,\"ticks\":\"\"},\"type\":\"mesh3d\"}],\"parcoords\":[{\"line\":{\"colorbar\":{\"outlinewidth\":0,\"ticks\":\"\"}},\"type\":\"parcoords\"}],\"pie\":[{\"automargin\":true,\"type\":\"pie\"}],\"scatter\":[{\"marker\":{\"colorbar\":{\"outlinewidth\":0,\"ticks\":\"\"}},\"type\":\"scatter\"}],\"scatter3d\":[{\"line\":{\"colorbar\":{\"outlinewidth\":0,\"ticks\":\"\"}},\"marker\":{\"colorbar\":{\"outlinewidth\":0,\"ticks\":\"\"}},\"type\":\"scatter3d\"}],\"scattercarpet\":[{\"marker\":{\"colorbar\":{\"outlinewidth\":0,\"ticks\":\"\"}},\"type\":\"scattercarpet\"}],\"scattergeo\":[{\"marker\":{\"colorbar\":{\"outlinewidth\":0,\"ticks\":\"\"}},\"type\":\"scattergeo\"}],\"scattergl\":[{\"marker\":{\"colorbar\":{\"outlinewidth\":0,\"ticks\":\"\"}},\"type\":\"scattergl\"}],\"scattermapbox\":[{\"marker\":{\"colorbar\":{\"outlinewidth\":0,\"ticks\":\"\"}},\"type\":\"scattermapbox\"}],\"scatterpolar\":[{\"marker\":{\"colorbar\":{\"outlinewidth\":0,\"ticks\":\"\"}},\"type\":\"scatterpolar\"}],\"scatterpolargl\":[{\"marker\":{\"colorbar\":{\"outlinewidth\":0,\"ticks\":\"\"}},\"type\":\"scatterpolargl\"}],\"scatterternary\":[{\"marker\":{\"colorbar\":{\"outlinewidth\":0,\"ticks\":\"\"}},\"type\":\"scatterternary\"}],\"surface\":[{\"colorbar\":{\"outlinewidth\":0,\"ticks\":\"\"},\"colorscale\":[[0.0,\"#0d0887\"],[0.1111111111111111,\"#46039f\"],[0.2222222222222222,\"#7201a8\"],[0.3333333333333333,\"#9c179e\"],[0.4444444444444444,\"#bd3786\"],[0.5555555555555556,\"#d8576b\"],[0.6666666666666666,\"#ed7953\"],[0.7777777777777778,\"#fb9f3a\"],[0.8888888888888888,\"#fdca26\"],[1.0,\"#f0f921\"]],\"type\":\"surface\"}],\"table\":[{\"cells\":{\"fill\":{\"color\":\"#EBF0F8\"},\"line\":{\"color\":\"white\"}},\"header\":{\"fill\":{\"color\":\"#C8D4E3\"},\"line\":{\"color\":\"white\"}},\"type\":\"table\"}]},\"layout\":{\"annotationdefaults\":{\"arrowcolor\":\"#2a3f5f\",\"arrowhead\":0,\"arrowwidth\":1},\"autotypenumbers\":\"strict\",\"coloraxis\":{\"colorbar\":{\"outlinewidth\":0,\"ticks\":\"\"}},\"colorscale\":{\"diverging\":[[0,\"#8e0152\"],[0.1,\"#c51b7d\"],[0.2,\"#de77ae\"],[0.3,\"#f1b6da\"],[0.4,\"#fde0ef\"],[0.5,\"#f7f7f7\"],[0.6,\"#e6f5d0\"],[0.7,\"#b8e186\"],[0.8,\"#7fbc41\"],[0.9,\"#4d9221\"],[1,\"#276419\"]],\"sequential\":[[0.0,\"#0d0887\"],[0.1111111111111111,\"#46039f\"],[0.2222222222222222,\"#7201a8\"],[0.3333333333333333,\"#9c179e\"],[0.4444444444444444,\"#bd3786\"],[0.5555555555555556,\"#d8576b\"],[0.6666666666666666,\"#ed7953\"],[0.7777777777777778,\"#fb9f3a\"],[0.8888888888888888,\"#fdca26\"],[1.0,\"#f0f921\"]],\"sequentialminus\":[[0.0,\"#0d0887\"],[0.1111111111111111,\"#46039f\"],[0.2222222222222222,\"#7201a8\"],[0.3333333333333333,\"#9c179e\"],[0.4444444444444444,\"#bd3786\"],[0.5555555555555556,\"#d8576b\"],[0.6666666666666666,\"#ed7953\"],[0.7777777777777778,\"#fb9f3a\"],[0.8888888888888888,\"#fdca26\"],[1.0,\"#f0f921\"]]},\"colorway\":[\"#636efa\",\"#EF553B\",\"#00cc96\",\"#ab63fa\",\"#FFA15A\",\"#19d3f3\",\"#FF6692\",\"#B6E880\",\"#FF97FF\",\"#FECB52\"],\"font\":{\"color\":\"#2a3f5f\"},\"geo\":{\"bgcolor\":\"white\",\"lakecolor\":\"white\",\"landcolor\":\"#E5ECF6\",\"showlakes\":true,\"showland\":true,\"subunitcolor\":\"white\"},\"hoverlabel\":{\"align\":\"left\"},\"hovermode\":\"closest\",\"mapbox\":{\"style\":\"light\"},\"paper_bgcolor\":\"white\",\"plot_bgcolor\":\"#E5ECF6\",\"polar\":{\"angularaxis\":{\"gridcolor\":\"white\",\"linecolor\":\"white\",\"ticks\":\"\"},\"bgcolor\":\"#E5ECF6\",\"radialaxis\":{\"gridcolor\":\"white\",\"linecolor\":\"white\",\"ticks\":\"\"}},\"scene\":{\"xaxis\":{\"backgroundcolor\":\"#E5ECF6\",\"gridcolor\":\"white\",\"gridwidth\":2,\"linecolor\":\"white\",\"showbackground\":true,\"ticks\":\"\",\"zerolinecolor\":\"white\"},\"yaxis\":{\"backgroundcolor\":\"#E5ECF6\",\"gridcolor\":\"white\",\"gridwidth\":2,\"linecolor\":\"white\",\"showbackground\":true,\"ticks\":\"\",\"zerolinecolor\":\"white\"},\"zaxis\":{\"backgroundcolor\":\"#E5ECF6\",\"gridcolor\":\"white\",\"gridwidth\":2,\"linecolor\":\"white\",\"showbackground\":true,\"ticks\":\"\",\"zerolinecolor\":\"white\"}},\"shapedefaults\":{\"line\":{\"color\":\"#2a3f5f\"}},\"ternary\":{\"aaxis\":{\"gridcolor\":\"white\",\"linecolor\":\"white\",\"ticks\":\"\"},\"baxis\":{\"gridcolor\":\"white\",\"linecolor\":\"white\",\"ticks\":\"\"},\"bgcolor\":\"#E5ECF6\",\"caxis\":{\"gridcolor\":\"white\",\"linecolor\":\"white\",\"ticks\":\"\"}},\"title\":{\"x\":0.05},\"xaxis\":{\"automargin\":true,\"gridcolor\":\"white\",\"linecolor\":\"white\",\"ticks\":\"\",\"title\":{\"standoff\":15},\"zerolinecolor\":\"white\",\"zerolinewidth\":2},\"yaxis\":{\"automargin\":true,\"gridcolor\":\"white\",\"linecolor\":\"white\",\"ticks\":\"\",\"title\":{\"standoff\":15},\"zerolinecolor\":\"white\",\"zerolinewidth\":2}}},\"title\":{\"text\":\"Funnel of Group A events\"}},                        {\"responsive\": true}                    ).then(function(){\n",
       "                            \n",
       "var gd = document.getElementById('c6259dcf-79fc-46ba-bd43-a8ea7f9cf884');\n",
       "var x = new MutationObserver(function (mutations, observer) {{\n",
       "        var display = window.getComputedStyle(gd).display;\n",
       "        if (!display || display === 'none') {{\n",
       "            console.log([gd, 'removed!']);\n",
       "            Plotly.purge(gd);\n",
       "            observer.disconnect();\n",
       "        }}\n",
       "}});\n",
       "\n",
       "// Listen for the removal of the full notebook cells\n",
       "var notebookContainer = gd.closest('#notebook-container');\n",
       "if (notebookContainer) {{\n",
       "    x.observe(notebookContainer, {childList: true});\n",
       "}}\n",
       "\n",
       "// Listen for the clearing of the current output cell\n",
       "var outputEl = gd.closest('.output');\n",
       "if (outputEl) {{\n",
       "    x.observe(outputEl, {childList: true});\n",
       "}}\n",
       "\n",
       "                        })                };                });            </script>        </div>"
      ]
     },
     "metadata": {},
     "output_type": "display_data"
    }
   ],
   "source": [
    "# Visualize the funnel\n",
    "fig = go.Figure(go.Funnel(\n",
    "    y = sales_funnel_A['event_name'],\n",
    "    x = sales_funnel_A['user_id'],\n",
    "    textposition = \"inside\",\n",
    "    textinfo = \"value+percent initial\",\n",
    "    opacity = 0.65, marker = {\"color\": [\"deepskyblue\", \"lightsalmon\", \"tan\", \"teal\", \"silver\"],\n",
    "    \"line\": {\"width\": [4, 2, 2, 3, 1, 1], \"color\": [\"wheat\", \"wheat\", \"blue\", \"wheat\", \"wheat\"]}},\n",
    "    connector = {\"line\": {\"color\": \"royalblue\", \"dash\": \"dot\", \"width\": 3}})\n",
    "    )\n",
    "fig.update_layout(title={'text': \"Funnel of Group A events\"})\n",
    "fig.show()"
   ]
  },
  {
   "cell_type": "code",
   "execution_count": 109,
   "id": "fd2619cb",
   "metadata": {},
   "outputs": [
    {
     "data": {
      "text/html": [
       "<div>\n",
       "<style scoped>\n",
       "    .dataframe tbody tr th:only-of-type {\n",
       "        vertical-align: middle;\n",
       "    }\n",
       "\n",
       "    .dataframe tbody tr th {\n",
       "        vertical-align: top;\n",
       "    }\n",
       "\n",
       "    .dataframe thead th {\n",
       "        text-align: right;\n",
       "    }\n",
       "</style>\n",
       "<table border=\"1\" class=\"dataframe\">\n",
       "  <thead>\n",
       "    <tr style=\"text-align: right;\">\n",
       "      <th></th>\n",
       "      <th>event_name</th>\n",
       "      <th>user_id</th>\n",
       "      <th>percentage</th>\n",
       "      <th>сonversion_per_step</th>\n",
       "      <th>sequence_of_actions</th>\n",
       "    </tr>\n",
       "  </thead>\n",
       "  <tbody>\n",
       "    <tr>\n",
       "      <th>0</th>\n",
       "      <td>login</td>\n",
       "      <td>771</td>\n",
       "      <td>100.00</td>\n",
       "      <td>100.0</td>\n",
       "      <td>1</td>\n",
       "    </tr>\n",
       "    <tr>\n",
       "      <th>2</th>\n",
       "      <td>product_page</td>\n",
       "      <td>429</td>\n",
       "      <td>55.64</td>\n",
       "      <td>56.0</td>\n",
       "      <td>2</td>\n",
       "    </tr>\n",
       "    <tr>\n",
       "      <th>1</th>\n",
       "      <td>product_cart</td>\n",
       "      <td>214</td>\n",
       "      <td>27.76</td>\n",
       "      <td>98.0</td>\n",
       "      <td>3</td>\n",
       "    </tr>\n",
       "    <tr>\n",
       "      <th>3</th>\n",
       "      <td>purchase</td>\n",
       "      <td>219</td>\n",
       "      <td>28.40</td>\n",
       "      <td>51.0</td>\n",
       "      <td>4</td>\n",
       "    </tr>\n",
       "  </tbody>\n",
       "</table>\n",
       "</div>"
      ],
      "text/plain": [
       "     event_name  user_id  percentage  сonversion_per_step sequence_of_actions\n",
       "0         login      771      100.00                100.0                   1\n",
       "2  product_page      429       55.64                 56.0                   2\n",
       "1  product_cart      214       27.76                 98.0                   3\n",
       "3      purchase      219       28.40                 51.0                   4"
      ]
     },
     "execution_count": 109,
     "metadata": {},
     "output_type": "execute_result"
    }
   ],
   "source": [
    "# Let's do the same steps for group B\n",
    "sales_funnel_B = correct_data.query('group == \"B\"').pivot_table(index='event_name', \n",
    "                                                                values='user_id', \n",
    "                                                                aggfunc='nunique').reset_index() \n",
    "\n",
    "sales_funnel_B['percentage'] = round\\\n",
    "(100 * (sales_funnel_B['user_id'] / correct_data.query('group == \"B\"')['user_id'].nunique()), 2)\n",
    "sales_funnel_B = sales_funnel_B.sort_values(by='percentage', ascending=False)\n",
    "\n",
    "\n",
    "sales_funnel_B['сonversion_per_step'] = round\\\n",
    "(100 * (sales_funnel_B['user_id'].div(sales_funnel_B['user_id'].shift()).fillna(1.0)), 0)\n",
    "\n",
    "sales_funnel_B['sequence_of_actions'] = sequence_of_actions\n",
    "sales_funnel_B = sales_funnel_B.sort_values(by='sequence_of_actions')\n",
    "\n",
    "sales_funnel_B"
   ]
  },
  {
   "cell_type": "code",
   "execution_count": 131,
   "id": "5616ff7a",
   "metadata": {},
   "outputs": [
    {
     "data": {
      "application/vnd.plotly.v1+json": {
       "config": {
        "plotlyServerURL": "https://plot.ly"
       },
       "data": [
        {
         "connector": {
          "line": {
           "color": "royalblue",
           "dash": "dot",
           "width": 3
          }
         },
         "marker": {
          "color": [
           "deepskyblue",
           "lightsalmon",
           "tan",
           "teal",
           "silver"
          ],
          "line": {
           "color": [
            "wheat",
            "wheat",
            "blue",
            "wheat",
            "wheat"
           ],
           "width": [
            4,
            2,
            2,
            3,
            1,
            1
           ]
          }
         },
         "opacity": 0.65,
         "textinfo": "value+percent initial",
         "textposition": "inside",
         "type": "funnel",
         "x": [
          771,
          429,
          214,
          219
         ],
         "y": [
          "login",
          "product_page",
          "product_cart",
          "purchase"
         ]
        }
       ],
       "layout": {
        "template": {
         "data": {
          "bar": [
           {
            "error_x": {
             "color": "#2a3f5f"
            },
            "error_y": {
             "color": "#2a3f5f"
            },
            "marker": {
             "line": {
              "color": "#E5ECF6",
              "width": 0.5
             },
             "pattern": {
              "fillmode": "overlay",
              "size": 10,
              "solidity": 0.2
             }
            },
            "type": "bar"
           }
          ],
          "barpolar": [
           {
            "marker": {
             "line": {
              "color": "#E5ECF6",
              "width": 0.5
             },
             "pattern": {
              "fillmode": "overlay",
              "size": 10,
              "solidity": 0.2
             }
            },
            "type": "barpolar"
           }
          ],
          "carpet": [
           {
            "aaxis": {
             "endlinecolor": "#2a3f5f",
             "gridcolor": "white",
             "linecolor": "white",
             "minorgridcolor": "white",
             "startlinecolor": "#2a3f5f"
            },
            "baxis": {
             "endlinecolor": "#2a3f5f",
             "gridcolor": "white",
             "linecolor": "white",
             "minorgridcolor": "white",
             "startlinecolor": "#2a3f5f"
            },
            "type": "carpet"
           }
          ],
          "choropleth": [
           {
            "colorbar": {
             "outlinewidth": 0,
             "ticks": ""
            },
            "type": "choropleth"
           }
          ],
          "contour": [
           {
            "colorbar": {
             "outlinewidth": 0,
             "ticks": ""
            },
            "colorscale": [
             [
              0,
              "#0d0887"
             ],
             [
              0.1111111111111111,
              "#46039f"
             ],
             [
              0.2222222222222222,
              "#7201a8"
             ],
             [
              0.3333333333333333,
              "#9c179e"
             ],
             [
              0.4444444444444444,
              "#bd3786"
             ],
             [
              0.5555555555555556,
              "#d8576b"
             ],
             [
              0.6666666666666666,
              "#ed7953"
             ],
             [
              0.7777777777777778,
              "#fb9f3a"
             ],
             [
              0.8888888888888888,
              "#fdca26"
             ],
             [
              1,
              "#f0f921"
             ]
            ],
            "type": "contour"
           }
          ],
          "contourcarpet": [
           {
            "colorbar": {
             "outlinewidth": 0,
             "ticks": ""
            },
            "type": "contourcarpet"
           }
          ],
          "heatmap": [
           {
            "colorbar": {
             "outlinewidth": 0,
             "ticks": ""
            },
            "colorscale": [
             [
              0,
              "#0d0887"
             ],
             [
              0.1111111111111111,
              "#46039f"
             ],
             [
              0.2222222222222222,
              "#7201a8"
             ],
             [
              0.3333333333333333,
              "#9c179e"
             ],
             [
              0.4444444444444444,
              "#bd3786"
             ],
             [
              0.5555555555555556,
              "#d8576b"
             ],
             [
              0.6666666666666666,
              "#ed7953"
             ],
             [
              0.7777777777777778,
              "#fb9f3a"
             ],
             [
              0.8888888888888888,
              "#fdca26"
             ],
             [
              1,
              "#f0f921"
             ]
            ],
            "type": "heatmap"
           }
          ],
          "heatmapgl": [
           {
            "colorbar": {
             "outlinewidth": 0,
             "ticks": ""
            },
            "colorscale": [
             [
              0,
              "#0d0887"
             ],
             [
              0.1111111111111111,
              "#46039f"
             ],
             [
              0.2222222222222222,
              "#7201a8"
             ],
             [
              0.3333333333333333,
              "#9c179e"
             ],
             [
              0.4444444444444444,
              "#bd3786"
             ],
             [
              0.5555555555555556,
              "#d8576b"
             ],
             [
              0.6666666666666666,
              "#ed7953"
             ],
             [
              0.7777777777777778,
              "#fb9f3a"
             ],
             [
              0.8888888888888888,
              "#fdca26"
             ],
             [
              1,
              "#f0f921"
             ]
            ],
            "type": "heatmapgl"
           }
          ],
          "histogram": [
           {
            "marker": {
             "pattern": {
              "fillmode": "overlay",
              "size": 10,
              "solidity": 0.2
             }
            },
            "type": "histogram"
           }
          ],
          "histogram2d": [
           {
            "colorbar": {
             "outlinewidth": 0,
             "ticks": ""
            },
            "colorscale": [
             [
              0,
              "#0d0887"
             ],
             [
              0.1111111111111111,
              "#46039f"
             ],
             [
              0.2222222222222222,
              "#7201a8"
             ],
             [
              0.3333333333333333,
              "#9c179e"
             ],
             [
              0.4444444444444444,
              "#bd3786"
             ],
             [
              0.5555555555555556,
              "#d8576b"
             ],
             [
              0.6666666666666666,
              "#ed7953"
             ],
             [
              0.7777777777777778,
              "#fb9f3a"
             ],
             [
              0.8888888888888888,
              "#fdca26"
             ],
             [
              1,
              "#f0f921"
             ]
            ],
            "type": "histogram2d"
           }
          ],
          "histogram2dcontour": [
           {
            "colorbar": {
             "outlinewidth": 0,
             "ticks": ""
            },
            "colorscale": [
             [
              0,
              "#0d0887"
             ],
             [
              0.1111111111111111,
              "#46039f"
             ],
             [
              0.2222222222222222,
              "#7201a8"
             ],
             [
              0.3333333333333333,
              "#9c179e"
             ],
             [
              0.4444444444444444,
              "#bd3786"
             ],
             [
              0.5555555555555556,
              "#d8576b"
             ],
             [
              0.6666666666666666,
              "#ed7953"
             ],
             [
              0.7777777777777778,
              "#fb9f3a"
             ],
             [
              0.8888888888888888,
              "#fdca26"
             ],
             [
              1,
              "#f0f921"
             ]
            ],
            "type": "histogram2dcontour"
           }
          ],
          "mesh3d": [
           {
            "colorbar": {
             "outlinewidth": 0,
             "ticks": ""
            },
            "type": "mesh3d"
           }
          ],
          "parcoords": [
           {
            "line": {
             "colorbar": {
              "outlinewidth": 0,
              "ticks": ""
             }
            },
            "type": "parcoords"
           }
          ],
          "pie": [
           {
            "automargin": true,
            "type": "pie"
           }
          ],
          "scatter": [
           {
            "marker": {
             "colorbar": {
              "outlinewidth": 0,
              "ticks": ""
             }
            },
            "type": "scatter"
           }
          ],
          "scatter3d": [
           {
            "line": {
             "colorbar": {
              "outlinewidth": 0,
              "ticks": ""
             }
            },
            "marker": {
             "colorbar": {
              "outlinewidth": 0,
              "ticks": ""
             }
            },
            "type": "scatter3d"
           }
          ],
          "scattercarpet": [
           {
            "marker": {
             "colorbar": {
              "outlinewidth": 0,
              "ticks": ""
             }
            },
            "type": "scattercarpet"
           }
          ],
          "scattergeo": [
           {
            "marker": {
             "colorbar": {
              "outlinewidth": 0,
              "ticks": ""
             }
            },
            "type": "scattergeo"
           }
          ],
          "scattergl": [
           {
            "marker": {
             "colorbar": {
              "outlinewidth": 0,
              "ticks": ""
             }
            },
            "type": "scattergl"
           }
          ],
          "scattermapbox": [
           {
            "marker": {
             "colorbar": {
              "outlinewidth": 0,
              "ticks": ""
             }
            },
            "type": "scattermapbox"
           }
          ],
          "scatterpolar": [
           {
            "marker": {
             "colorbar": {
              "outlinewidth": 0,
              "ticks": ""
             }
            },
            "type": "scatterpolar"
           }
          ],
          "scatterpolargl": [
           {
            "marker": {
             "colorbar": {
              "outlinewidth": 0,
              "ticks": ""
             }
            },
            "type": "scatterpolargl"
           }
          ],
          "scatterternary": [
           {
            "marker": {
             "colorbar": {
              "outlinewidth": 0,
              "ticks": ""
             }
            },
            "type": "scatterternary"
           }
          ],
          "surface": [
           {
            "colorbar": {
             "outlinewidth": 0,
             "ticks": ""
            },
            "colorscale": [
             [
              0,
              "#0d0887"
             ],
             [
              0.1111111111111111,
              "#46039f"
             ],
             [
              0.2222222222222222,
              "#7201a8"
             ],
             [
              0.3333333333333333,
              "#9c179e"
             ],
             [
              0.4444444444444444,
              "#bd3786"
             ],
             [
              0.5555555555555556,
              "#d8576b"
             ],
             [
              0.6666666666666666,
              "#ed7953"
             ],
             [
              0.7777777777777778,
              "#fb9f3a"
             ],
             [
              0.8888888888888888,
              "#fdca26"
             ],
             [
              1,
              "#f0f921"
             ]
            ],
            "type": "surface"
           }
          ],
          "table": [
           {
            "cells": {
             "fill": {
              "color": "#EBF0F8"
             },
             "line": {
              "color": "white"
             }
            },
            "header": {
             "fill": {
              "color": "#C8D4E3"
             },
             "line": {
              "color": "white"
             }
            },
            "type": "table"
           }
          ]
         },
         "layout": {
          "annotationdefaults": {
           "arrowcolor": "#2a3f5f",
           "arrowhead": 0,
           "arrowwidth": 1
          },
          "autotypenumbers": "strict",
          "coloraxis": {
           "colorbar": {
            "outlinewidth": 0,
            "ticks": ""
           }
          },
          "colorscale": {
           "diverging": [
            [
             0,
             "#8e0152"
            ],
            [
             0.1,
             "#c51b7d"
            ],
            [
             0.2,
             "#de77ae"
            ],
            [
             0.3,
             "#f1b6da"
            ],
            [
             0.4,
             "#fde0ef"
            ],
            [
             0.5,
             "#f7f7f7"
            ],
            [
             0.6,
             "#e6f5d0"
            ],
            [
             0.7,
             "#b8e186"
            ],
            [
             0.8,
             "#7fbc41"
            ],
            [
             0.9,
             "#4d9221"
            ],
            [
             1,
             "#276419"
            ]
           ],
           "sequential": [
            [
             0,
             "#0d0887"
            ],
            [
             0.1111111111111111,
             "#46039f"
            ],
            [
             0.2222222222222222,
             "#7201a8"
            ],
            [
             0.3333333333333333,
             "#9c179e"
            ],
            [
             0.4444444444444444,
             "#bd3786"
            ],
            [
             0.5555555555555556,
             "#d8576b"
            ],
            [
             0.6666666666666666,
             "#ed7953"
            ],
            [
             0.7777777777777778,
             "#fb9f3a"
            ],
            [
             0.8888888888888888,
             "#fdca26"
            ],
            [
             1,
             "#f0f921"
            ]
           ],
           "sequentialminus": [
            [
             0,
             "#0d0887"
            ],
            [
             0.1111111111111111,
             "#46039f"
            ],
            [
             0.2222222222222222,
             "#7201a8"
            ],
            [
             0.3333333333333333,
             "#9c179e"
            ],
            [
             0.4444444444444444,
             "#bd3786"
            ],
            [
             0.5555555555555556,
             "#d8576b"
            ],
            [
             0.6666666666666666,
             "#ed7953"
            ],
            [
             0.7777777777777778,
             "#fb9f3a"
            ],
            [
             0.8888888888888888,
             "#fdca26"
            ],
            [
             1,
             "#f0f921"
            ]
           ]
          },
          "colorway": [
           "#636efa",
           "#EF553B",
           "#00cc96",
           "#ab63fa",
           "#FFA15A",
           "#19d3f3",
           "#FF6692",
           "#B6E880",
           "#FF97FF",
           "#FECB52"
          ],
          "font": {
           "color": "#2a3f5f"
          },
          "geo": {
           "bgcolor": "white",
           "lakecolor": "white",
           "landcolor": "#E5ECF6",
           "showlakes": true,
           "showland": true,
           "subunitcolor": "white"
          },
          "hoverlabel": {
           "align": "left"
          },
          "hovermode": "closest",
          "mapbox": {
           "style": "light"
          },
          "paper_bgcolor": "white",
          "plot_bgcolor": "#E5ECF6",
          "polar": {
           "angularaxis": {
            "gridcolor": "white",
            "linecolor": "white",
            "ticks": ""
           },
           "bgcolor": "#E5ECF6",
           "radialaxis": {
            "gridcolor": "white",
            "linecolor": "white",
            "ticks": ""
           }
          },
          "scene": {
           "xaxis": {
            "backgroundcolor": "#E5ECF6",
            "gridcolor": "white",
            "gridwidth": 2,
            "linecolor": "white",
            "showbackground": true,
            "ticks": "",
            "zerolinecolor": "white"
           },
           "yaxis": {
            "backgroundcolor": "#E5ECF6",
            "gridcolor": "white",
            "gridwidth": 2,
            "linecolor": "white",
            "showbackground": true,
            "ticks": "",
            "zerolinecolor": "white"
           },
           "zaxis": {
            "backgroundcolor": "#E5ECF6",
            "gridcolor": "white",
            "gridwidth": 2,
            "linecolor": "white",
            "showbackground": true,
            "ticks": "",
            "zerolinecolor": "white"
           }
          },
          "shapedefaults": {
           "line": {
            "color": "#2a3f5f"
           }
          },
          "ternary": {
           "aaxis": {
            "gridcolor": "white",
            "linecolor": "white",
            "ticks": ""
           },
           "baxis": {
            "gridcolor": "white",
            "linecolor": "white",
            "ticks": ""
           },
           "bgcolor": "#E5ECF6",
           "caxis": {
            "gridcolor": "white",
            "linecolor": "white",
            "ticks": ""
           }
          },
          "title": {
           "x": 0.05
          },
          "xaxis": {
           "automargin": true,
           "gridcolor": "white",
           "linecolor": "white",
           "ticks": "",
           "title": {
            "standoff": 15
           },
           "zerolinecolor": "white",
           "zerolinewidth": 2
          },
          "yaxis": {
           "automargin": true,
           "gridcolor": "white",
           "linecolor": "white",
           "ticks": "",
           "title": {
            "standoff": 15
           },
           "zerolinecolor": "white",
           "zerolinewidth": 2
          }
         }
        },
        "title": {
         "text": "Funnel of Group B events"
        }
       }
      },
      "text/html": [
       "<div>                            <div id=\"1b133694-7ed8-42a8-b8b1-60024c222669\" class=\"plotly-graph-div\" style=\"height:525px; width:100%;\"></div>            <script type=\"text/javascript\">                require([\"plotly\"], function(Plotly) {                    window.PLOTLYENV=window.PLOTLYENV || {};                                    if (document.getElementById(\"1b133694-7ed8-42a8-b8b1-60024c222669\")) {                    Plotly.newPlot(                        \"1b133694-7ed8-42a8-b8b1-60024c222669\",                        [{\"connector\":{\"line\":{\"color\":\"royalblue\",\"dash\":\"dot\",\"width\":3}},\"marker\":{\"color\":[\"deepskyblue\",\"lightsalmon\",\"tan\",\"teal\",\"silver\"],\"line\":{\"color\":[\"wheat\",\"wheat\",\"blue\",\"wheat\",\"wheat\"],\"width\":[4,2,2,3,1,1]}},\"opacity\":0.65,\"textinfo\":\"value+percent initial\",\"textposition\":\"inside\",\"x\":[771,429,214,219],\"y\":[\"login\",\"product_page\",\"product_cart\",\"purchase\"],\"type\":\"funnel\"}],                        {\"template\":{\"data\":{\"bar\":[{\"error_x\":{\"color\":\"#2a3f5f\"},\"error_y\":{\"color\":\"#2a3f5f\"},\"marker\":{\"line\":{\"color\":\"#E5ECF6\",\"width\":0.5},\"pattern\":{\"fillmode\":\"overlay\",\"size\":10,\"solidity\":0.2}},\"type\":\"bar\"}],\"barpolar\":[{\"marker\":{\"line\":{\"color\":\"#E5ECF6\",\"width\":0.5},\"pattern\":{\"fillmode\":\"overlay\",\"size\":10,\"solidity\":0.2}},\"type\":\"barpolar\"}],\"carpet\":[{\"aaxis\":{\"endlinecolor\":\"#2a3f5f\",\"gridcolor\":\"white\",\"linecolor\":\"white\",\"minorgridcolor\":\"white\",\"startlinecolor\":\"#2a3f5f\"},\"baxis\":{\"endlinecolor\":\"#2a3f5f\",\"gridcolor\":\"white\",\"linecolor\":\"white\",\"minorgridcolor\":\"white\",\"startlinecolor\":\"#2a3f5f\"},\"type\":\"carpet\"}],\"choropleth\":[{\"colorbar\":{\"outlinewidth\":0,\"ticks\":\"\"},\"type\":\"choropleth\"}],\"contour\":[{\"colorbar\":{\"outlinewidth\":0,\"ticks\":\"\"},\"colorscale\":[[0.0,\"#0d0887\"],[0.1111111111111111,\"#46039f\"],[0.2222222222222222,\"#7201a8\"],[0.3333333333333333,\"#9c179e\"],[0.4444444444444444,\"#bd3786\"],[0.5555555555555556,\"#d8576b\"],[0.6666666666666666,\"#ed7953\"],[0.7777777777777778,\"#fb9f3a\"],[0.8888888888888888,\"#fdca26\"],[1.0,\"#f0f921\"]],\"type\":\"contour\"}],\"contourcarpet\":[{\"colorbar\":{\"outlinewidth\":0,\"ticks\":\"\"},\"type\":\"contourcarpet\"}],\"heatmap\":[{\"colorbar\":{\"outlinewidth\":0,\"ticks\":\"\"},\"colorscale\":[[0.0,\"#0d0887\"],[0.1111111111111111,\"#46039f\"],[0.2222222222222222,\"#7201a8\"],[0.3333333333333333,\"#9c179e\"],[0.4444444444444444,\"#bd3786\"],[0.5555555555555556,\"#d8576b\"],[0.6666666666666666,\"#ed7953\"],[0.7777777777777778,\"#fb9f3a\"],[0.8888888888888888,\"#fdca26\"],[1.0,\"#f0f921\"]],\"type\":\"heatmap\"}],\"heatmapgl\":[{\"colorbar\":{\"outlinewidth\":0,\"ticks\":\"\"},\"colorscale\":[[0.0,\"#0d0887\"],[0.1111111111111111,\"#46039f\"],[0.2222222222222222,\"#7201a8\"],[0.3333333333333333,\"#9c179e\"],[0.4444444444444444,\"#bd3786\"],[0.5555555555555556,\"#d8576b\"],[0.6666666666666666,\"#ed7953\"],[0.7777777777777778,\"#fb9f3a\"],[0.8888888888888888,\"#fdca26\"],[1.0,\"#f0f921\"]],\"type\":\"heatmapgl\"}],\"histogram\":[{\"marker\":{\"pattern\":{\"fillmode\":\"overlay\",\"size\":10,\"solidity\":0.2}},\"type\":\"histogram\"}],\"histogram2d\":[{\"colorbar\":{\"outlinewidth\":0,\"ticks\":\"\"},\"colorscale\":[[0.0,\"#0d0887\"],[0.1111111111111111,\"#46039f\"],[0.2222222222222222,\"#7201a8\"],[0.3333333333333333,\"#9c179e\"],[0.4444444444444444,\"#bd3786\"],[0.5555555555555556,\"#d8576b\"],[0.6666666666666666,\"#ed7953\"],[0.7777777777777778,\"#fb9f3a\"],[0.8888888888888888,\"#fdca26\"],[1.0,\"#f0f921\"]],\"type\":\"histogram2d\"}],\"histogram2dcontour\":[{\"colorbar\":{\"outlinewidth\":0,\"ticks\":\"\"},\"colorscale\":[[0.0,\"#0d0887\"],[0.1111111111111111,\"#46039f\"],[0.2222222222222222,\"#7201a8\"],[0.3333333333333333,\"#9c179e\"],[0.4444444444444444,\"#bd3786\"],[0.5555555555555556,\"#d8576b\"],[0.6666666666666666,\"#ed7953\"],[0.7777777777777778,\"#fb9f3a\"],[0.8888888888888888,\"#fdca26\"],[1.0,\"#f0f921\"]],\"type\":\"histogram2dcontour\"}],\"mesh3d\":[{\"colorbar\":{\"outlinewidth\":0,\"ticks\":\"\"},\"type\":\"mesh3d\"}],\"parcoords\":[{\"line\":{\"colorbar\":{\"outlinewidth\":0,\"ticks\":\"\"}},\"type\":\"parcoords\"}],\"pie\":[{\"automargin\":true,\"type\":\"pie\"}],\"scatter\":[{\"marker\":{\"colorbar\":{\"outlinewidth\":0,\"ticks\":\"\"}},\"type\":\"scatter\"}],\"scatter3d\":[{\"line\":{\"colorbar\":{\"outlinewidth\":0,\"ticks\":\"\"}},\"marker\":{\"colorbar\":{\"outlinewidth\":0,\"ticks\":\"\"}},\"type\":\"scatter3d\"}],\"scattercarpet\":[{\"marker\":{\"colorbar\":{\"outlinewidth\":0,\"ticks\":\"\"}},\"type\":\"scattercarpet\"}],\"scattergeo\":[{\"marker\":{\"colorbar\":{\"outlinewidth\":0,\"ticks\":\"\"}},\"type\":\"scattergeo\"}],\"scattergl\":[{\"marker\":{\"colorbar\":{\"outlinewidth\":0,\"ticks\":\"\"}},\"type\":\"scattergl\"}],\"scattermapbox\":[{\"marker\":{\"colorbar\":{\"outlinewidth\":0,\"ticks\":\"\"}},\"type\":\"scattermapbox\"}],\"scatterpolar\":[{\"marker\":{\"colorbar\":{\"outlinewidth\":0,\"ticks\":\"\"}},\"type\":\"scatterpolar\"}],\"scatterpolargl\":[{\"marker\":{\"colorbar\":{\"outlinewidth\":0,\"ticks\":\"\"}},\"type\":\"scatterpolargl\"}],\"scatterternary\":[{\"marker\":{\"colorbar\":{\"outlinewidth\":0,\"ticks\":\"\"}},\"type\":\"scatterternary\"}],\"surface\":[{\"colorbar\":{\"outlinewidth\":0,\"ticks\":\"\"},\"colorscale\":[[0.0,\"#0d0887\"],[0.1111111111111111,\"#46039f\"],[0.2222222222222222,\"#7201a8\"],[0.3333333333333333,\"#9c179e\"],[0.4444444444444444,\"#bd3786\"],[0.5555555555555556,\"#d8576b\"],[0.6666666666666666,\"#ed7953\"],[0.7777777777777778,\"#fb9f3a\"],[0.8888888888888888,\"#fdca26\"],[1.0,\"#f0f921\"]],\"type\":\"surface\"}],\"table\":[{\"cells\":{\"fill\":{\"color\":\"#EBF0F8\"},\"line\":{\"color\":\"white\"}},\"header\":{\"fill\":{\"color\":\"#C8D4E3\"},\"line\":{\"color\":\"white\"}},\"type\":\"table\"}]},\"layout\":{\"annotationdefaults\":{\"arrowcolor\":\"#2a3f5f\",\"arrowhead\":0,\"arrowwidth\":1},\"autotypenumbers\":\"strict\",\"coloraxis\":{\"colorbar\":{\"outlinewidth\":0,\"ticks\":\"\"}},\"colorscale\":{\"diverging\":[[0,\"#8e0152\"],[0.1,\"#c51b7d\"],[0.2,\"#de77ae\"],[0.3,\"#f1b6da\"],[0.4,\"#fde0ef\"],[0.5,\"#f7f7f7\"],[0.6,\"#e6f5d0\"],[0.7,\"#b8e186\"],[0.8,\"#7fbc41\"],[0.9,\"#4d9221\"],[1,\"#276419\"]],\"sequential\":[[0.0,\"#0d0887\"],[0.1111111111111111,\"#46039f\"],[0.2222222222222222,\"#7201a8\"],[0.3333333333333333,\"#9c179e\"],[0.4444444444444444,\"#bd3786\"],[0.5555555555555556,\"#d8576b\"],[0.6666666666666666,\"#ed7953\"],[0.7777777777777778,\"#fb9f3a\"],[0.8888888888888888,\"#fdca26\"],[1.0,\"#f0f921\"]],\"sequentialminus\":[[0.0,\"#0d0887\"],[0.1111111111111111,\"#46039f\"],[0.2222222222222222,\"#7201a8\"],[0.3333333333333333,\"#9c179e\"],[0.4444444444444444,\"#bd3786\"],[0.5555555555555556,\"#d8576b\"],[0.6666666666666666,\"#ed7953\"],[0.7777777777777778,\"#fb9f3a\"],[0.8888888888888888,\"#fdca26\"],[1.0,\"#f0f921\"]]},\"colorway\":[\"#636efa\",\"#EF553B\",\"#00cc96\",\"#ab63fa\",\"#FFA15A\",\"#19d3f3\",\"#FF6692\",\"#B6E880\",\"#FF97FF\",\"#FECB52\"],\"font\":{\"color\":\"#2a3f5f\"},\"geo\":{\"bgcolor\":\"white\",\"lakecolor\":\"white\",\"landcolor\":\"#E5ECF6\",\"showlakes\":true,\"showland\":true,\"subunitcolor\":\"white\"},\"hoverlabel\":{\"align\":\"left\"},\"hovermode\":\"closest\",\"mapbox\":{\"style\":\"light\"},\"paper_bgcolor\":\"white\",\"plot_bgcolor\":\"#E5ECF6\",\"polar\":{\"angularaxis\":{\"gridcolor\":\"white\",\"linecolor\":\"white\",\"ticks\":\"\"},\"bgcolor\":\"#E5ECF6\",\"radialaxis\":{\"gridcolor\":\"white\",\"linecolor\":\"white\",\"ticks\":\"\"}},\"scene\":{\"xaxis\":{\"backgroundcolor\":\"#E5ECF6\",\"gridcolor\":\"white\",\"gridwidth\":2,\"linecolor\":\"white\",\"showbackground\":true,\"ticks\":\"\",\"zerolinecolor\":\"white\"},\"yaxis\":{\"backgroundcolor\":\"#E5ECF6\",\"gridcolor\":\"white\",\"gridwidth\":2,\"linecolor\":\"white\",\"showbackground\":true,\"ticks\":\"\",\"zerolinecolor\":\"white\"},\"zaxis\":{\"backgroundcolor\":\"#E5ECF6\",\"gridcolor\":\"white\",\"gridwidth\":2,\"linecolor\":\"white\",\"showbackground\":true,\"ticks\":\"\",\"zerolinecolor\":\"white\"}},\"shapedefaults\":{\"line\":{\"color\":\"#2a3f5f\"}},\"ternary\":{\"aaxis\":{\"gridcolor\":\"white\",\"linecolor\":\"white\",\"ticks\":\"\"},\"baxis\":{\"gridcolor\":\"white\",\"linecolor\":\"white\",\"ticks\":\"\"},\"bgcolor\":\"#E5ECF6\",\"caxis\":{\"gridcolor\":\"white\",\"linecolor\":\"white\",\"ticks\":\"\"}},\"title\":{\"x\":0.05},\"xaxis\":{\"automargin\":true,\"gridcolor\":\"white\",\"linecolor\":\"white\",\"ticks\":\"\",\"title\":{\"standoff\":15},\"zerolinecolor\":\"white\",\"zerolinewidth\":2},\"yaxis\":{\"automargin\":true,\"gridcolor\":\"white\",\"linecolor\":\"white\",\"ticks\":\"\",\"title\":{\"standoff\":15},\"zerolinecolor\":\"white\",\"zerolinewidth\":2}}},\"title\":{\"text\":\"Funnel of Group B events\"}},                        {\"responsive\": true}                    ).then(function(){\n",
       "                            \n",
       "var gd = document.getElementById('1b133694-7ed8-42a8-b8b1-60024c222669');\n",
       "var x = new MutationObserver(function (mutations, observer) {{\n",
       "        var display = window.getComputedStyle(gd).display;\n",
       "        if (!display || display === 'none') {{\n",
       "            console.log([gd, 'removed!']);\n",
       "            Plotly.purge(gd);\n",
       "            observer.disconnect();\n",
       "        }}\n",
       "}});\n",
       "\n",
       "// Listen for the removal of the full notebook cells\n",
       "var notebookContainer = gd.closest('#notebook-container');\n",
       "if (notebookContainer) {{\n",
       "    x.observe(notebookContainer, {childList: true});\n",
       "}}\n",
       "\n",
       "// Listen for the clearing of the current output cell\n",
       "var outputEl = gd.closest('.output');\n",
       "if (outputEl) {{\n",
       "    x.observe(outputEl, {childList: true});\n",
       "}}\n",
       "\n",
       "                        })                };                });            </script>        </div>"
      ]
     },
     "metadata": {},
     "output_type": "display_data"
    }
   ],
   "source": [
    "fig = go.Figure(go.Funnel(\n",
    "    y = sales_funnel_B['event_name'],\n",
    "    x = sales_funnel_B['user_id'],\n",
    "    textposition = \"inside\",\n",
    "    textinfo = \"value+percent initial\",\n",
    "    opacity = 0.65, marker = {\"color\": [\"deepskyblue\", \"lightsalmon\", \"tan\", \"teal\", \"silver\"],\n",
    "    \"line\": {\"width\": [4, 2, 2, 3, 1, 1], \"color\": [\"wheat\", \"wheat\", \"blue\", \"wheat\", \"wheat\"]}},\n",
    "    connector = {\"line\": {\"color\": \"royalblue\", \"dash\": \"dot\", \"width\": 3}})\n",
    "    )\n",
    "fig.update_layout(title={'text': \"Funnel of Group B events\"})\n",
    "fig.show()"
   ]
  },
  {
   "cell_type": "markdown",
   "id": "0c221d6f",
   "metadata": {},
   "source": [
    "**Conclusion: in my opinion, it is impossible to say that group B shows a 10% better conversion rate compared to group A.**"
   ]
  },
  {
   "cell_type": "markdown",
   "id": "0cf9b38d",
   "metadata": {},
   "source": [
    "### Conclusion: at this stage, we were engaged in a research analysis of the data. We were able to establish the following:\n",
    "1. For group A, the magnitude of events committed by one user varies from 6 to 13, for group B from 3 to 6. At the same time, the average values of these values differ slightly and are equal for group A 7, and for group B 6.\n",
    "2. starting from December 13, 2020 in A lot more events start happening in group A than in group B.\n",
    "3. The test dates overlap with the Christmas&New Year Promo event. At the same time, the gap in the number of events between the test groups began before the start of the Christmas&New Year Promo event. The Christmas&New Year Promo event affected the test, but not dramatically, since there was no sharp increase in the number of events in the test groups after the start of the event.\n",
    "4. We cannot say that Group B shows a 10% better conversion rate compared to group A."
   ]
  },
  {
   "cell_type": "markdown",
   "id": "b943799c",
   "metadata": {},
   "source": [
    "## 5. We will evaluate the results of A/B testing"
   ]
  },
  {
   "cell_type": "markdown",
   "id": "1825a7e3",
   "metadata": {},
   "source": [
    "#### Let's check the statistical difference of the fractions by the z-criterion"
   ]
  },
  {
   "cell_type": "markdown",
   "id": "ee5505e7",
   "metadata": {},
   "source": [
    "**We will make null and alternative hypotheses:**\n",
    "\n",
    "H0: The conversion to the target action product_page of users from group A is equal to the conversion of users from group B.\n",
    "H1: Conversion to the target action product_page of users from group A is greater than the conversion of users from group B.\n",
    "Also, to check, we will calculate the conversions of these events and find the difference between them as a percentage.\n",
    "\n",
    "H0: The conversion to the product_cart target action of users from group A is equal to the conversion of users from group B.\n",
    "H1: Conversion to the target product_cart action of users from group A is greater than the conversion of users from group B.\n",
    "Also, to check, we will calculate the conversions of these events and find the difference between them as a percentage.\n",
    "\n",
    "H0: The conversion to the target purchase action of users from group A is equal to the conversion of users from group B.\n",
    "H1: Conversion to the target purchase action of users from group A is greater than the conversion of users from group B.\n",
    "Also, to check, we will calculate the conversions of these events and find the difference between them as a percentage."
   ]
  },
  {
   "cell_type": "markdown",
   "id": "1536b712",
   "metadata": {},
   "source": [
    "##### Let's start with the product_page event"
   ]
  },
  {
   "cell_type": "code",
   "execution_count": 111,
   "id": "b6971375",
   "metadata": {},
   "outputs": [
    {
     "data": {
      "text/plain": [
       "1476"
      ]
     },
     "metadata": {},
     "output_type": "display_data"
    },
    {
     "data": {
      "text/plain": [
       "429"
      ]
     },
     "execution_count": 111,
     "metadata": {},
     "output_type": "execute_result"
    }
   ],
   "source": [
    "# Let's count the number of users who committed the target event in each of the control groups\n",
    "success_A = correct_data.query('event_name == \"product_page\" and group == \"A\"')['user_id'].nunique()\n",
    "success_B = correct_data.query('event_name == \"product_page\" and group == \"B\"')['user_id'].nunique()\n",
    "\n",
    "display(success_A)\n",
    "success_B"
   ]
  },
  {
   "cell_type": "code",
   "execution_count": 112,
   "id": "6b6ee0f6",
   "metadata": {},
   "outputs": [
    {
     "data": {
      "text/plain": [
       "2279"
      ]
     },
     "metadata": {},
     "output_type": "display_data"
    },
    {
     "data": {
      "text/plain": [
       "771"
      ]
     },
     "execution_count": 112,
     "metadata": {},
     "output_type": "execute_result"
    }
   ],
   "source": [
    "# Let's calculate the total number of users in each of the control groups\n",
    "trials_A = correct_data.query('group == \"A\"')['user_id'].nunique()\n",
    "trials_B = correct_data.query('group == \"B\"')['user_id'].nunique()\n",
    "\n",
    "display(trials_A)\n",
    "trials_B"
   ]
  },
  {
   "cell_type": "code",
   "execution_count": 132,
   "id": "40e2257c",
   "metadata": {},
   "outputs": [
    {
     "name": "stdout",
     "output_type": "stream",
     "text": [
      "[734 219] [2279  771]\n",
      "p-value:  0.9755287018115294\n",
      "It was not possible to reject the null hypothesis, there is no reason to consider the shares different\n"
     ]
    }
   ],
   "source": [
    "# Let's test the hypothesis using the built-in z-test\n",
    "alpha = .05\n",
    "count = np.array([success_A, success_B])\n",
    "nobs = np.array([trials_A, trials_B])\n",
    "stat, p_value = proportions_ztest(count, nobs, alternative='smaller')\n",
    "print(count, nobs)\n",
    "print('p-value: ', p_value)\n",
    "if p_value < alpha:\n",
    "    print('We reject the null hypothesis: there is a significant difference between the shares')\n",
    "else:\n",
    "    print('It was not possible to reject the null hypothesis, there is no reason to consider the shares different')"
   ]
  },
  {
   "cell_type": "code",
   "execution_count": 114,
   "id": "c760f0cd",
   "metadata": {},
   "outputs": [
    {
     "data": {
      "text/plain": [
       "-0.14"
      ]
     },
     "execution_count": 114,
     "metadata": {},
     "output_type": "execute_result"
    }
   ],
   "source": [
    "# Let's calculate the conversions manually and find out how many percent the conversion of group B \n",
    "# is greater than the conversion of group A\n",
    "conversion_A = success_A / trials_A\n",
    "conversion_B = success_B / trials_B\n",
    "\n",
    "conversion_difference = round(conversion_B / conversion_A - 1, 2)\n",
    "conversion_difference"
   ]
  },
  {
   "cell_type": "markdown",
   "id": "678f91ff",
   "metadata": {},
   "source": [
    "**Conclusion: there is no statistically significant difference between the control groups of users who committed the product_page event. Therefore, it is impossible to say that the conversion of group B is higher. The same statement is confirmed by comparing conversions in percentages - the conversion of group B was 14% worse.**"
   ]
  },
  {
   "cell_type": "markdown",
   "id": "3e055286",
   "metadata": {},
   "source": [
    "##### Let's move on to the product_cart event"
   ]
  },
  {
   "cell_type": "code",
   "execution_count": 115,
   "id": "cbeefe44",
   "metadata": {},
   "outputs": [
    {
     "data": {
      "text/plain": [
       "686"
      ]
     },
     "metadata": {},
     "output_type": "display_data"
    },
    {
     "data": {
      "text/plain": [
       "214"
      ]
     },
     "execution_count": 115,
     "metadata": {},
     "output_type": "execute_result"
    }
   ],
   "source": [
    "# Let's count the number of users who committed the target event in each of the control groups\n",
    "success_A = correct_data.query('event_name == \"product_cart\" and group == \"A\"')['user_id'].nunique()\n",
    "success_B = correct_data.query('event_name == \"product_cart\" and group == \"B\"')['user_id'].nunique()\n",
    "\n",
    "display(success_A)\n",
    "success_B"
   ]
  },
  {
   "cell_type": "code",
   "execution_count": 133,
   "id": "c5c6e42d",
   "metadata": {},
   "outputs": [
    {
     "name": "stdout",
     "output_type": "stream",
     "text": [
      "[734 219] [2279  771]\n",
      "p-value:  0.9755287018115294\n",
      "It was not possible to reject the null hypothesis, there is no reason to consider the shares different\n"
     ]
    }
   ],
   "source": [
    "# Let's test the hypothesis using the built-in z-test\n",
    "alpha = .05\n",
    "count = np.array([success_A, success_B])\n",
    "nobs = np.array([trials_A, trials_B])\n",
    "stat, p_value = proportions_ztest(count, nobs, alternative='smaller')\n",
    "print(count, nobs)\n",
    "print('p-value: ', p_value)\n",
    "if p_value < alpha:\n",
    "    print('We reject the null hypothesis: there is a significant difference between the shares')\n",
    "else:\n",
    "    print('It was not possible to reject the null hypothesis, there is no reason to consider the shares different')"
   ]
  },
  {
   "cell_type": "code",
   "execution_count": 134,
   "id": "fa90743a",
   "metadata": {},
   "outputs": [
    {
     "data": {
      "text/plain": [
       "-0.12"
      ]
     },
     "execution_count": 134,
     "metadata": {},
     "output_type": "execute_result"
    }
   ],
   "source": [
    "# Let's calculate the conversions manually and find how many percent the conversion of group B \n",
    "# is greater than the conversion of group A\n",
    "conversion_A = success_A / trials_A\n",
    "conversion_B = success_B / trials_B\n",
    "\n",
    "conversion_difference = round(conversion_B / conversion_A - 1, 2)\n",
    "conversion_difference"
   ]
  },
  {
   "cell_type": "markdown",
   "id": "9e9e7da6",
   "metadata": {},
   "source": [
    "**Conclusion: there is no statistically significant difference between the control groups of users who committed the product_cart event. Therefore, it is impossible to say that the conversion of group B is higher. The same statement is confirmed by comparing conversions in percentages - the conversion of group B was 8% worse.**"
   ]
  },
  {
   "cell_type": "markdown",
   "id": "d3a975cc",
   "metadata": {},
   "source": [
    "##### Let's move on to the purchase event"
   ]
  },
  {
   "cell_type": "code",
   "execution_count": 118,
   "id": "ab440193",
   "metadata": {},
   "outputs": [
    {
     "data": {
      "text/plain": [
       "734"
      ]
     },
     "metadata": {},
     "output_type": "display_data"
    },
    {
     "data": {
      "text/plain": [
       "219"
      ]
     },
     "execution_count": 118,
     "metadata": {},
     "output_type": "execute_result"
    }
   ],
   "source": [
    "# Let's count the number of users who committed the target event in each of the control groups\n",
    "success_A = correct_data.query('event_name == \"purchase\" and group == \"A\"')['user_id'].nunique()\n",
    "success_B = correct_data.query('event_name == \"purchase\" and group == \"B\"')['user_id'].nunique()\n",
    "\n",
    "display(success_A)\n",
    "success_B"
   ]
  },
  {
   "cell_type": "code",
   "execution_count": 135,
   "id": "8e0b1f56",
   "metadata": {},
   "outputs": [
    {
     "name": "stdout",
     "output_type": "stream",
     "text": [
      "p-value:  0.9755287018115294\n",
      "It was not possible to reject the null hypothesis, there is no reason to consider the shares different\n"
     ]
    }
   ],
   "source": [
    "# Let's test the hypothesis using the built-in z-test\n",
    "alpha = .05\n",
    "count = np.array([success_A, success_B])\n",
    "nobs = np.array([trials_A, trials_B])\n",
    "stat, p_value = proportions_ztest(count, nobs, alternative='smaller')\n",
    "print('p-value: ', p_value)\n",
    "if p_value < alpha:\n",
    "    print('We reject the null hypothesis: there is a significant difference between the shares')\n",
    "else:\n",
    "    print('It was not possible to reject the null hypothesis, there is no reason to consider the shares different')"
   ]
  },
  {
   "cell_type": "code",
   "execution_count": 120,
   "id": "57be8d0b",
   "metadata": {},
   "outputs": [
    {
     "data": {
      "text/plain": [
       "-0.12"
      ]
     },
     "execution_count": 120,
     "metadata": {},
     "output_type": "execute_result"
    }
   ],
   "source": [
    "# Let's calculate the conversions manually and find out how many percent the conversion of group B \n",
    "# is greater than the conversion of group A\n",
    "conversion_A = success_A / trials_A\n",
    "conversion_B = success_B / trials_B\n",
    "\n",
    "conversion_difference = round(conversion_B / conversion_A - 1, 2)\n",
    "conversion_difference"
   ]
  },
  {
   "cell_type": "markdown",
   "id": "9f483db2",
   "metadata": {},
   "source": [
    "**Conclusion: there is no statistically significant difference between the control groups of users who committed the purchase event. Therefore, it is impossible to say that the conversion of group B is higher. The same statement is confirmed by comparing conversions in percentages - the conversion of group B was 12% worse.**"
   ]
  },
  {
   "cell_type": "markdown",
   "id": "f76f5013",
   "metadata": {},
   "source": [
    "### Conclusion: in this section we have tested 3 hypotheses. We were able to establish the following:\n",
    "1. there is no statistically significant difference between the control groups of users who committed the product_page event.\n",
    "2. there is no statistically significant difference between the control groups of users who committed the product_cart event.\n",
    "3. there is no statistically significant difference between the control groups of users who committed the purchase event.\n",
    "4. considering the above, in my opinion it is impossible to say that the expected effect was achieved in changing the conversion. Rather, on the contrary, Group B showed a weaker result."
   ]
  },
  {
   "cell_type": "markdown",
   "id": "bc7d50f0",
   "metadata": {},
   "source": [
    "## The general conclusion about the correctness of the test.\n",
    "In my opinion, it is impossible to say that the test was conducted correctly. This was influenced by the following factors:\n",
    "- Group A initially had many more users than Group B\n",
    "- it turned out that there are many more users in group B who did not commit any events\n",
    "- since we decided to delete users who were in group B of a competing test and users who did not commit the event, as a result, we had about 3,000 users left, while 6,277 users were required for the correct conduct of the test.\n",
    "\n",
    "As a result, we got a situation where there are fewer users than necessary and the test groups are disproportionate. As a result, in group A, users committed much more events, which affected the conversion.\n",
    "Also, the test coincided with the Christmas&New Year Promo event, respectively, it is impossible to say that users were not subjected to any external influence, and in my opinion this is another reason why it is impossible to say that the test was conducted correctly."
   ]
  },
  {
   "cell_type": "markdown",
   "id": "95de7793",
   "metadata": {},
   "source": [
    "## Recommendations for the test:\n",
    "1. Conduct a test when there are no marketing activities in the target region.\n",
    "2. Change the mechanism for distributing users into groups so that groups A and B are more proportionate.\n",
    "3. Improve the mechanism of attracting users so that it is the target audience that will make events and, accordingly, the number of users without events will decrease.\n",
    "4. Revise the value of the indicator of the relative difference between the test groups from 5% to 10%, since then a smaller sample will be required for the correct conduct of the test."
   ]
  }
 ],
 "metadata": {
  "ExecuteTimeLog": [
   {
    "duration": 1478,
    "start_time": "2023-09-07T18:51:30.628Z"
   },
   {
    "duration": 101,
    "start_time": "2023-09-07T18:51:32.108Z"
   },
   {
    "duration": 13,
    "start_time": "2023-09-07T18:51:32.211Z"
   },
   {
    "duration": 18,
    "start_time": "2023-09-07T18:51:32.226Z"
   },
   {
    "duration": 246,
    "start_time": "2023-09-07T18:51:32.245Z"
   },
   {
    "duration": 9,
    "start_time": "2023-09-07T18:51:32.494Z"
   },
   {
    "duration": 59,
    "start_time": "2023-09-07T18:51:32.505Z"
   },
   {
    "duration": 821,
    "start_time": "2023-09-07T18:51:32.566Z"
   },
   {
    "duration": 10,
    "start_time": "2023-09-07T18:51:33.389Z"
   },
   {
    "duration": 86,
    "start_time": "2023-09-07T18:51:33.403Z"
   },
   {
    "duration": 92,
    "start_time": "2023-09-07T18:51:33.491Z"
   },
   {
    "duration": 11,
    "start_time": "2023-09-07T18:51:33.585Z"
   },
   {
    "duration": 17,
    "start_time": "2023-09-07T18:51:33.598Z"
   },
   {
    "duration": 5,
    "start_time": "2023-09-07T18:51:33.617Z"
   },
   {
    "duration": 7,
    "start_time": "2023-09-07T18:51:33.624Z"
   },
   {
    "duration": 14,
    "start_time": "2023-09-07T18:51:33.632Z"
   },
   {
    "duration": 16,
    "start_time": "2023-09-07T18:51:33.648Z"
   },
   {
    "duration": 20,
    "start_time": "2023-09-07T18:51:33.666Z"
   },
   {
    "duration": 38,
    "start_time": "2023-09-07T18:51:33.688Z"
   },
   {
    "duration": 9,
    "start_time": "2023-09-07T18:51:33.746Z"
   },
   {
    "duration": 28,
    "start_time": "2023-09-07T18:51:33.757Z"
   },
   {
    "duration": 7,
    "start_time": "2023-09-07T18:51:33.787Z"
   },
   {
    "duration": 8,
    "start_time": "2023-09-07T18:51:33.796Z"
   },
   {
    "duration": 90,
    "start_time": "2023-09-07T18:51:33.806Z"
   },
   {
    "duration": 127,
    "start_time": "2023-09-07T18:51:33.898Z"
   },
   {
    "duration": 177,
    "start_time": "2023-09-07T18:51:34.027Z"
   },
   {
    "duration": 404,
    "start_time": "2023-09-07T18:51:34.207Z"
   },
   {
    "duration": 268,
    "start_time": "2023-09-07T18:51:34.617Z"
   },
   {
    "duration": 247,
    "start_time": "2023-09-07T18:51:34.887Z"
   },
   {
    "duration": 183,
    "start_time": "2023-09-07T18:51:35.136Z"
   },
   {
    "duration": 39,
    "start_time": "2023-09-07T18:51:35.322Z"
   },
   {
    "duration": 23,
    "start_time": "2023-09-07T18:51:35.363Z"
   },
   {
    "duration": 25,
    "start_time": "2023-09-07T18:51:35.389Z"
   },
   {
    "duration": 24,
    "start_time": "2023-09-07T18:51:35.416Z"
   },
   {
    "duration": 31,
    "start_time": "2023-09-07T18:51:35.442Z"
   },
   {
    "duration": 20,
    "start_time": "2023-09-07T18:51:35.476Z"
   },
   {
    "duration": 37,
    "start_time": "2023-09-07T18:51:35.498Z"
   },
   {
    "duration": 69,
    "start_time": "2023-09-07T18:51:35.537Z"
   },
   {
    "duration": 85,
    "start_time": "2023-09-07T18:51:35.608Z"
   },
   {
    "duration": 17,
    "start_time": "2023-09-07T18:51:35.694Z"
   },
   {
    "duration": 28,
    "start_time": "2023-09-07T18:51:35.713Z"
   },
   {
    "duration": 34,
    "start_time": "2023-09-07T18:51:35.743Z"
   },
   {
    "duration": 30,
    "start_time": "2023-09-07T18:51:35.779Z"
   },
   {
    "duration": 271,
    "start_time": "2023-09-07T18:51:35.811Z"
   },
   {
    "duration": 18,
    "start_time": "2023-09-07T18:51:36.084Z"
   },
   {
    "duration": 17,
    "start_time": "2023-09-07T18:51:36.103Z"
   },
   {
    "duration": 149,
    "start_time": "2023-09-07T18:51:36.122Z"
   },
   {
    "duration": 3,
    "start_time": "2023-09-07T18:51:36.273Z"
   },
   {
    "duration": 6,
    "start_time": "2023-09-07T18:51:36.278Z"
   },
   {
    "duration": 248,
    "start_time": "2023-09-07T18:51:36.285Z"
   },
   {
    "duration": 25,
    "start_time": "2023-09-07T18:51:36.535Z"
   },
   {
    "duration": 12,
    "start_time": "2023-09-07T18:51:36.562Z"
   },
   {
    "duration": 7,
    "start_time": "2023-09-07T18:51:36.576Z"
   },
   {
    "duration": 12,
    "start_time": "2023-09-07T18:51:36.585Z"
   },
   {
    "duration": 8,
    "start_time": "2023-09-07T18:51:36.599Z"
   },
   {
    "duration": 19,
    "start_time": "2023-09-07T18:51:36.608Z"
   },
   {
    "duration": 22,
    "start_time": "2023-09-07T18:51:36.628Z"
   },
   {
    "duration": 18,
    "start_time": "2023-09-07T18:51:36.651Z"
   },
   {
    "duration": 18,
    "start_time": "2023-09-07T18:51:36.671Z"
   },
   {
    "duration": 33,
    "start_time": "2023-09-07T18:51:36.691Z"
   },
   {
    "duration": 11,
    "start_time": "2023-09-07T18:51:36.727Z"
   },
   {
    "duration": 63,
    "start_time": "2023-09-07T18:51:36.739Z"
   },
   {
    "duration": 16,
    "start_time": "2023-09-07T18:51:36.804Z"
   },
   {
    "duration": 6,
    "start_time": "2023-09-07T18:51:36.822Z"
   },
   {
    "duration": 22,
    "start_time": "2023-09-07T18:51:36.829Z"
   },
   {
    "duration": 8,
    "start_time": "2023-09-07T18:51:36.853Z"
   },
   {
    "duration": 9,
    "start_time": "2023-09-07T18:51:36.863Z"
   },
   {
    "duration": 26,
    "start_time": "2023-09-07T18:51:36.874Z"
   },
   {
    "duration": 16,
    "start_time": "2023-09-07T18:51:36.903Z"
   },
   {
    "duration": 34,
    "start_time": "2023-09-07T18:51:36.921Z"
   },
   {
    "duration": 25,
    "start_time": "2023-09-07T18:51:36.956Z"
   },
   {
    "duration": 26,
    "start_time": "2023-09-07T18:51:36.982Z"
   },
   {
    "duration": 7,
    "start_time": "2023-09-07T18:51:37.010Z"
   },
   {
    "duration": 24,
    "start_time": "2023-09-07T18:51:37.019Z"
   },
   {
    "duration": 36,
    "start_time": "2023-09-07T18:51:37.047Z"
   },
   {
    "duration": 32,
    "start_time": "2023-09-07T18:51:37.085Z"
   },
   {
    "duration": 30,
    "start_time": "2023-09-07T18:51:37.119Z"
   },
   {
    "duration": 8,
    "start_time": "2023-09-07T18:51:37.151Z"
   },
   {
    "duration": 29,
    "start_time": "2023-09-07T18:51:37.160Z"
   },
   {
    "duration": 16,
    "start_time": "2023-09-07T18:51:37.191Z"
   },
   {
    "duration": 27,
    "start_time": "2023-09-07T18:51:37.208Z"
   },
   {
    "duration": 13,
    "start_time": "2023-09-07T18:51:37.246Z"
   },
   {
    "duration": 238,
    "start_time": "2023-09-07T18:51:37.260Z"
   },
   {
    "duration": 7,
    "start_time": "2023-09-07T18:51:37.499Z"
   },
   {
    "duration": 16,
    "start_time": "2023-09-07T18:51:37.507Z"
   },
   {
    "duration": 40,
    "start_time": "2023-09-07T18:51:37.525Z"
   },
   {
    "duration": 488,
    "start_time": "2023-09-07T18:51:37.567Z"
   },
   {
    "duration": 12,
    "start_time": "2023-09-07T18:51:38.056Z"
   },
   {
    "duration": 54,
    "start_time": "2023-09-07T18:51:38.070Z"
   },
   {
    "duration": 409,
    "start_time": "2023-09-07T18:51:38.126Z"
   },
   {
    "duration": 9,
    "start_time": "2023-09-07T18:51:38.537Z"
   },
   {
    "duration": 301,
    "start_time": "2023-09-07T18:51:38.548Z"
   },
   {
    "duration": 3,
    "start_time": "2023-09-07T18:51:38.850Z"
   },
   {
    "duration": 20,
    "start_time": "2023-09-07T18:51:38.854Z"
   },
   {
    "duration": 24,
    "start_time": "2023-09-07T18:51:38.876Z"
   },
   {
    "duration": 36,
    "start_time": "2023-09-07T18:51:38.902Z"
   },
   {
    "duration": 14,
    "start_time": "2023-09-07T18:51:38.940Z"
   },
   {
    "duration": 14,
    "start_time": "2023-09-07T18:51:38.955Z"
   },
   {
    "duration": 786,
    "start_time": "2023-09-07T18:51:38.971Z"
   },
   {
    "duration": 30,
    "start_time": "2023-09-07T18:51:39.758Z"
   },
   {
    "duration": 67,
    "start_time": "2023-09-07T18:51:39.790Z"
   },
   {
    "duration": 34,
    "start_time": "2023-09-07T18:51:39.859Z"
   },
   {
    "duration": 71,
    "start_time": "2023-09-07T18:51:39.896Z"
   },
   {
    "duration": 6,
    "start_time": "2023-09-07T18:51:39.969Z"
   },
   {
    "duration": 6,
    "start_time": "2023-09-07T18:51:39.977Z"
   },
   {
    "duration": 63,
    "start_time": "2023-09-07T18:51:39.985Z"
   },
   {
    "duration": 6,
    "start_time": "2023-09-07T18:51:40.050Z"
   },
   {
    "duration": 15,
    "start_time": "2023-09-07T18:51:40.057Z"
   },
   {
    "duration": 23,
    "start_time": "2023-09-07T18:51:40.074Z"
   },
   {
    "duration": 7,
    "start_time": "2023-09-07T18:51:40.099Z"
   },
   {
    "duration": 7,
    "start_time": "2023-09-07T18:51:40.108Z"
   },
   {
    "duration": 5,
    "start_time": "2023-09-07T18:54:27.612Z"
   },
   {
    "duration": 4175,
    "start_time": "2023-09-07T18:59:09.572Z"
   },
   {
    "duration": 6,
    "start_time": "2023-09-07T19:02:48.642Z"
   },
   {
    "duration": 4,
    "start_time": "2023-09-07T19:02:50.815Z"
   },
   {
    "duration": 16,
    "start_time": "2023-09-07T19:02:52.125Z"
   },
   {
    "duration": 7,
    "start_time": "2023-09-07T19:02:54.102Z"
   },
   {
    "duration": 5,
    "start_time": "2023-09-07T19:02:55.477Z"
   },
   {
    "duration": 7,
    "start_time": "2023-09-07T19:03:02.917Z"
   },
   {
    "duration": 1276,
    "start_time": "2023-09-08T18:00:47.678Z"
   },
   {
    "duration": 139,
    "start_time": "2023-09-08T18:00:48.957Z"
   },
   {
    "duration": 19,
    "start_time": "2023-09-08T18:00:49.098Z"
   },
   {
    "duration": 15,
    "start_time": "2023-09-08T18:00:49.119Z"
   },
   {
    "duration": 205,
    "start_time": "2023-09-08T18:00:49.137Z"
   },
   {
    "duration": 10,
    "start_time": "2023-09-08T18:00:49.343Z"
   },
   {
    "duration": 41,
    "start_time": "2023-09-08T18:00:49.355Z"
   },
   {
    "duration": 1066,
    "start_time": "2023-09-08T18:00:49.398Z"
   },
   {
    "duration": 12,
    "start_time": "2023-09-08T18:00:50.466Z"
   },
   {
    "duration": 78,
    "start_time": "2023-09-08T18:00:50.480Z"
   },
   {
    "duration": 132,
    "start_time": "2023-09-08T18:00:50.559Z"
   },
   {
    "duration": 9,
    "start_time": "2023-09-08T18:00:50.693Z"
   },
   {
    "duration": 32,
    "start_time": "2023-09-08T18:00:50.705Z"
   },
   {
    "duration": 21,
    "start_time": "2023-09-08T18:00:50.741Z"
   },
   {
    "duration": 18,
    "start_time": "2023-09-08T18:00:50.765Z"
   },
   {
    "duration": 23,
    "start_time": "2023-09-08T18:00:50.785Z"
   },
   {
    "duration": 40,
    "start_time": "2023-09-08T18:00:50.810Z"
   },
   {
    "duration": 36,
    "start_time": "2023-09-08T18:00:50.852Z"
   },
   {
    "duration": 49,
    "start_time": "2023-09-08T18:00:50.890Z"
   },
   {
    "duration": 9,
    "start_time": "2023-09-08T18:00:50.942Z"
   },
   {
    "duration": 56,
    "start_time": "2023-09-08T18:00:50.953Z"
   },
   {
    "duration": 18,
    "start_time": "2023-09-08T18:00:51.011Z"
   },
   {
    "duration": 15,
    "start_time": "2023-09-08T18:00:51.030Z"
   },
   {
    "duration": 87,
    "start_time": "2023-09-08T18:00:51.047Z"
   },
   {
    "duration": 102,
    "start_time": "2023-09-08T18:00:51.136Z"
   },
   {
    "duration": 178,
    "start_time": "2023-09-08T18:00:51.240Z"
   },
   {
    "duration": 386,
    "start_time": "2023-09-08T18:00:51.420Z"
   },
   {
    "duration": 48,
    "start_time": "2023-09-08T18:00:51.808Z"
   },
   {
    "duration": 287,
    "start_time": "2023-09-08T18:00:51.858Z"
   },
   {
    "duration": 248,
    "start_time": "2023-09-08T18:00:52.149Z"
   },
   {
    "duration": 243,
    "start_time": "2023-09-08T18:00:52.399Z"
   },
   {
    "duration": 24,
    "start_time": "2023-09-08T18:00:52.649Z"
   },
   {
    "duration": 28,
    "start_time": "2023-09-08T18:00:52.675Z"
   },
   {
    "duration": 17,
    "start_time": "2023-09-08T18:00:52.705Z"
   },
   {
    "duration": 8,
    "start_time": "2023-09-08T18:00:52.724Z"
   },
   {
    "duration": 21,
    "start_time": "2023-09-08T18:00:52.734Z"
   },
   {
    "duration": 13,
    "start_time": "2023-09-08T18:00:52.757Z"
   },
   {
    "duration": 23,
    "start_time": "2023-09-08T18:00:52.773Z"
   },
   {
    "duration": 59,
    "start_time": "2023-09-08T18:00:52.798Z"
   },
   {
    "duration": 21,
    "start_time": "2023-09-08T18:00:52.858Z"
   },
   {
    "duration": 13,
    "start_time": "2023-09-08T18:00:52.884Z"
   },
   {
    "duration": 17,
    "start_time": "2023-09-08T18:00:52.899Z"
   },
   {
    "duration": 33,
    "start_time": "2023-09-08T18:00:52.918Z"
   },
   {
    "duration": 39,
    "start_time": "2023-09-08T18:00:52.952Z"
   },
   {
    "duration": 244,
    "start_time": "2023-09-08T18:00:52.993Z"
   },
   {
    "duration": 25,
    "start_time": "2023-09-08T18:00:53.239Z"
   },
   {
    "duration": 17,
    "start_time": "2023-09-08T18:00:53.265Z"
   },
   {
    "duration": 131,
    "start_time": "2023-09-08T18:00:53.284Z"
   },
   {
    "duration": 4,
    "start_time": "2023-09-08T18:00:53.416Z"
   },
   {
    "duration": 40,
    "start_time": "2023-09-08T18:00:53.421Z"
   },
   {
    "duration": 247,
    "start_time": "2023-09-08T18:00:53.463Z"
   },
   {
    "duration": 15,
    "start_time": "2023-09-08T18:00:53.712Z"
   },
   {
    "duration": 27,
    "start_time": "2023-09-08T18:00:53.729Z"
   },
   {
    "duration": 10,
    "start_time": "2023-09-08T18:00:53.758Z"
   },
   {
    "duration": 19,
    "start_time": "2023-09-08T18:00:53.769Z"
   },
   {
    "duration": 8,
    "start_time": "2023-09-08T18:00:53.789Z"
   },
   {
    "duration": 14,
    "start_time": "2023-09-08T18:00:53.798Z"
   },
   {
    "duration": 10,
    "start_time": "2023-09-08T18:00:53.813Z"
   },
   {
    "duration": 8,
    "start_time": "2023-09-08T18:00:53.824Z"
   },
   {
    "duration": 22,
    "start_time": "2023-09-08T18:00:53.835Z"
   },
   {
    "duration": 17,
    "start_time": "2023-09-08T18:00:53.859Z"
   },
   {
    "duration": 7,
    "start_time": "2023-09-08T18:00:53.878Z"
   },
   {
    "duration": 83,
    "start_time": "2023-09-08T18:00:53.887Z"
   },
   {
    "duration": 16,
    "start_time": "2023-09-08T18:00:53.972Z"
   },
   {
    "duration": 13,
    "start_time": "2023-09-08T18:00:53.990Z"
   },
   {
    "duration": 17,
    "start_time": "2023-09-08T18:00:54.005Z"
   },
   {
    "duration": 16,
    "start_time": "2023-09-08T18:00:54.024Z"
   },
   {
    "duration": 25,
    "start_time": "2023-09-08T18:00:54.042Z"
   },
   {
    "duration": 25,
    "start_time": "2023-09-08T18:00:54.069Z"
   },
   {
    "duration": 14,
    "start_time": "2023-09-08T18:00:54.096Z"
   },
   {
    "duration": 6,
    "start_time": "2023-09-08T18:00:54.112Z"
   },
   {
    "duration": 36,
    "start_time": "2023-09-08T18:00:54.119Z"
   },
   {
    "duration": 28,
    "start_time": "2023-09-08T18:00:54.157Z"
   },
   {
    "duration": 13,
    "start_time": "2023-09-08T18:00:54.186Z"
   },
   {
    "duration": 119,
    "start_time": "2023-09-08T18:00:54.201Z"
   },
   {
    "duration": 3,
    "start_time": "2023-09-08T18:00:54.322Z"
   },
   {
    "duration": 21,
    "start_time": "2023-09-08T18:00:54.327Z"
   },
   {
    "duration": 345,
    "start_time": "2023-09-08T18:00:54.350Z"
   },
   {
    "duration": 8,
    "start_time": "2023-09-08T18:00:54.697Z"
   },
   {
    "duration": 26,
    "start_time": "2023-09-08T18:00:54.707Z"
   },
   {
    "duration": 40,
    "start_time": "2023-09-08T18:00:54.750Z"
   },
   {
    "duration": 31,
    "start_time": "2023-09-08T18:00:54.791Z"
   },
   {
    "duration": 28,
    "start_time": "2023-09-08T18:00:54.824Z"
   },
   {
    "duration": 13,
    "start_time": "2023-09-08T18:00:54.853Z"
   },
   {
    "duration": 21,
    "start_time": "2023-09-08T18:00:54.867Z"
   },
   {
    "duration": 7,
    "start_time": "2023-09-08T18:00:54.890Z"
   },
   {
    "duration": 21,
    "start_time": "2023-09-08T18:00:54.899Z"
   },
   {
    "duration": 39,
    "start_time": "2023-09-08T18:00:54.921Z"
   },
   {
    "duration": 212,
    "start_time": "2023-09-08T18:00:54.961Z"
   },
   {
    "duration": 6,
    "start_time": "2023-09-08T18:00:55.175Z"
   },
   {
    "duration": 6,
    "start_time": "2023-09-08T18:00:55.183Z"
   },
   {
    "duration": 18,
    "start_time": "2023-09-08T18:00:55.191Z"
   },
   {
    "duration": 69,
    "start_time": "2023-09-08T18:00:55.211Z"
   },
   {
    "duration": 540,
    "start_time": "2023-09-08T18:00:55.282Z"
   },
   {
    "duration": 628,
    "start_time": "2023-09-08T18:00:55.824Z"
   },
   {
    "duration": 14,
    "start_time": "2023-09-08T18:00:56.453Z"
   },
   {
    "duration": 33,
    "start_time": "2023-09-08T18:00:56.468Z"
   },
   {
    "duration": 397,
    "start_time": "2023-09-08T18:00:56.504Z"
   },
   {
    "duration": 4,
    "start_time": "2023-09-08T18:00:56.902Z"
   },
   {
    "duration": 348,
    "start_time": "2023-09-08T18:00:56.908Z"
   },
   {
    "duration": 3,
    "start_time": "2023-09-08T18:00:57.257Z"
   },
   {
    "duration": 43,
    "start_time": "2023-09-08T18:00:57.262Z"
   },
   {
    "duration": 17,
    "start_time": "2023-09-08T18:00:57.306Z"
   },
   {
    "duration": 28,
    "start_time": "2023-09-08T18:00:57.324Z"
   },
   {
    "duration": 12,
    "start_time": "2023-09-08T18:00:57.355Z"
   },
   {
    "duration": 11,
    "start_time": "2023-09-08T18:00:57.369Z"
   },
   {
    "duration": 26,
    "start_time": "2023-09-08T18:00:57.383Z"
   },
   {
    "duration": 907,
    "start_time": "2023-09-08T18:00:57.411Z"
   },
   {
    "duration": 29,
    "start_time": "2023-09-08T18:00:58.319Z"
   },
   {
    "duration": 36,
    "start_time": "2023-09-08T18:00:58.349Z"
   },
   {
    "duration": 92,
    "start_time": "2023-09-08T18:00:58.386Z"
   },
   {
    "duration": 27,
    "start_time": "2023-09-08T18:00:58.480Z"
   },
   {
    "duration": 7,
    "start_time": "2023-09-08T18:00:58.509Z"
   },
   {
    "duration": 54,
    "start_time": "2023-09-08T18:00:58.518Z"
   },
   {
    "duration": 24,
    "start_time": "2023-09-08T18:00:58.575Z"
   },
   {
    "duration": 9,
    "start_time": "2023-09-08T18:00:58.602Z"
   },
   {
    "duration": 15,
    "start_time": "2023-09-08T18:00:58.613Z"
   },
   {
    "duration": 37,
    "start_time": "2023-09-08T18:00:58.630Z"
   },
   {
    "duration": 12,
    "start_time": "2023-09-08T18:00:58.668Z"
   },
   {
    "duration": 19,
    "start_time": "2023-09-08T18:00:58.682Z"
   }
  ],
  "kernelspec": {
   "display_name": "Python 3 (ipykernel)",
   "language": "python",
   "name": "python3"
  },
  "language_info": {
   "codemirror_mode": {
    "name": "ipython",
    "version": 3
   },
   "file_extension": ".py",
   "mimetype": "text/x-python",
   "name": "python",
   "nbconvert_exporter": "python",
   "pygments_lexer": "ipython3",
   "version": "3.9.16"
  },
  "toc": {
   "base_numbering": 1,
   "nav_menu": {},
   "number_sections": true,
   "sideBar": true,
   "skip_h1_title": true,
   "title_cell": "Table of Contents",
   "title_sidebar": "Contents",
   "toc_cell": false,
   "toc_position": {},
   "toc_section_display": true,
   "toc_window_display": true
  }
 },
 "nbformat": 4,
 "nbformat_minor": 5
}
