{
 "cells": [
  {
   "cell_type": "markdown",
   "metadata": {},
   "source": [
    "# Project \"Making business decisions based on A/B test\"."
   ]
  },
  {
   "cell_type": "markdown",
   "metadata": {},
   "source": [
    "# Project description\n",
    "We work as an analyst for a large online store. Together with the marketing department, we have prepared a list of hypotheses to increase revenue.\n",
    "In this project, we will prioritize hypotheses, run an A/B test and analyze the results."
   ]
  },
  {
   "cell_type": "markdown",
   "metadata": {},
   "source": [
    "# Data description\n",
    "File /datasets/hypothesis.csv.\n",
    "- Hypothesis — brief description of the hypothesis;\n",
    "- Reach — user coverage on a 10-point scale;\n",
    "- Impact — impact on users on a 10-point scale;\n",
    "- Confidence — confidence in the hypothesis on a 10-point scale;\n",
    "- Efforts — the cost of resources to test the hypothesis on a 10-point scale. The greater the value of Efforts, the more expensive hypothesis testing is.\n",
    "\n",
    "\n",
    "File /datasets/orders.csv. \n",
    "- transactionId — order ID;\n",
    "- visitorId — ID of the user who made the order;\n",
    "- date — date when the order was made;\n",
    "- revenue — order revenue;\n",
    "- group — the A/B test group that the order fell into.\n",
    "\n",
    "\n",
    "File /datasets/visitors.csv.\n",
    "- date — date;\n",
    "- group — A/B test group;\n",
    "- visitors — the number of users on the specified date in the specified A/B test group."
   ]
  },
  {
   "cell_type": "markdown",
   "metadata": {},
   "source": [
    "# Work plan:\n",
    "1. Open the data files and study the general information. Next, we will check the data for omissions and duplicates.\n",
    "2. Prioritize hypotheses:\n",
    "Let's apply the ICE framework.\n",
    "Let's apply the RICE framework.\n",
    "3. Analyze the A/B test:\n",
    "Let's plot the cumulative revenue by groups.\n",
    "Let's plot the cumulative average check by groups.\n",
    "Let's plot the relative change of the cumulative average check of group B to group A.\n",
    "Let's plot the cumulative average number of orders per visitor by groups.\n",
    "Let's plot the relative change in the cumulative average number of orders per visitor of group B to group A.\n",
    "Let's build a dot graph of the number of orders by users.\n",
    "Let's calculate the 95th and 99th percentiles of the number of orders per user.\n",
    "Let's build a dot graph of the cost of orders.\n",
    "Let's calculate the 95th and 99th percentiles of the cost of orders.\n",
    "Let's calculate the statistical significance of differences in the average number of orders per visitor between groups based on \"raw\" data.\n",
    "Let's calculate the statistical significance of differences in the average order receipt between groups based on \"raw\" data.\n",
    "Let's calculate the statistical significance of differences in the average number of orders per visitor between groups based on \"cleaned\" data.\n",
    "Let's calculate the statistical significance of the differences in the average order receipt between the groups according to the \"cleared\" data.\n",
    "Let's make a decision based on the test results."
   ]
  },
  {
   "cell_type": "markdown",
   "metadata": {},
   "source": [
    "## Let's open the files and study the general information"
   ]
  },
  {
   "cell_type": "code",
   "execution_count": 1,
   "metadata": {},
   "outputs": [],
   "source": [
    "# Importing the libraries that we will need in this project\n",
    "import pandas as pd\n",
    "import datetime as dt\n",
    "import numpy as np\n",
    "import matplotlib.pyplot as plt\n",
    "import scipy.stats as stats\n",
    "import warnings\n",
    "warnings.simplefilter(\"ignore\")\n",
    "pd.set_option('display.max_columns', None)\n",
    "pd.set_option('display.max_rows', None)\n",
    "pd.options.display.max_colwidth = 400"
   ]
  },
  {
   "cell_type": "code",
   "execution_count": 2,
   "metadata": {},
   "outputs": [],
   "source": [
    "# Let's read the data from the csv file into a dataframe and save it to a variable\n",
    "try:\n",
    "    hypothesis = pd.read_csv('hypothesis.csv')\n",
    "except:\n",
    "    hypothesis = pd.read_csv('https://code.s3.yandex.net/datasets/hypothesis.csv')\n"
   ]
  },
  {
   "cell_type": "code",
   "execution_count": 3,
   "metadata": {},
   "outputs": [
    {
     "data": {
      "text/html": [
       "<div>\n",
       "<style scoped>\n",
       "    .dataframe tbody tr th:only-of-type {\n",
       "        vertical-align: middle;\n",
       "    }\n",
       "\n",
       "    .dataframe tbody tr th {\n",
       "        vertical-align: top;\n",
       "    }\n",
       "\n",
       "    .dataframe thead th {\n",
       "        text-align: right;\n",
       "    }\n",
       "</style>\n",
       "<table border=\"1\" class=\"dataframe\">\n",
       "  <thead>\n",
       "    <tr style=\"text-align: right;\">\n",
       "      <th></th>\n",
       "      <th>Hypothesis</th>\n",
       "      <th>Reach</th>\n",
       "      <th>Impact</th>\n",
       "      <th>Confidence</th>\n",
       "      <th>Efforts</th>\n",
       "    </tr>\n",
       "  </thead>\n",
       "  <tbody>\n",
       "    <tr>\n",
       "      <th>0</th>\n",
       "      <td>Добавить два новых канала привлечения трафика, что позволит привлекать на 30% больше пользователей</td>\n",
       "      <td>3</td>\n",
       "      <td>10</td>\n",
       "      <td>8</td>\n",
       "      <td>6</td>\n",
       "    </tr>\n",
       "    <tr>\n",
       "      <th>1</th>\n",
       "      <td>Запустить собственную службу доставки, что сократит срок доставки заказов</td>\n",
       "      <td>2</td>\n",
       "      <td>5</td>\n",
       "      <td>4</td>\n",
       "      <td>10</td>\n",
       "    </tr>\n",
       "    <tr>\n",
       "      <th>2</th>\n",
       "      <td>Добавить блоки рекомендаций товаров на сайт интернет магазина, чтобы повысить конверсию и средний чек заказа</td>\n",
       "      <td>8</td>\n",
       "      <td>3</td>\n",
       "      <td>7</td>\n",
       "      <td>3</td>\n",
       "    </tr>\n",
       "    <tr>\n",
       "      <th>3</th>\n",
       "      <td>Изменить структура категорий, что увеличит конверсию, т.к. пользователи быстрее найдут нужный товар</td>\n",
       "      <td>8</td>\n",
       "      <td>3</td>\n",
       "      <td>3</td>\n",
       "      <td>8</td>\n",
       "    </tr>\n",
       "    <tr>\n",
       "      <th>4</th>\n",
       "      <td>Изменить цвет фона главной страницы, чтобы увеличить вовлеченность пользователей</td>\n",
       "      <td>3</td>\n",
       "      <td>1</td>\n",
       "      <td>1</td>\n",
       "      <td>1</td>\n",
       "    </tr>\n",
       "    <tr>\n",
       "      <th>5</th>\n",
       "      <td>Добавить страницу отзывов клиентов о магазине, что позволит увеличить количество заказов</td>\n",
       "      <td>3</td>\n",
       "      <td>2</td>\n",
       "      <td>2</td>\n",
       "      <td>3</td>\n",
       "    </tr>\n",
       "    <tr>\n",
       "      <th>6</th>\n",
       "      <td>Показать на главной странице баннеры с актуальными акциями и распродажами, чтобы увеличить конверсию</td>\n",
       "      <td>5</td>\n",
       "      <td>3</td>\n",
       "      <td>8</td>\n",
       "      <td>3</td>\n",
       "    </tr>\n",
       "    <tr>\n",
       "      <th>7</th>\n",
       "      <td>Добавить форму подписки на все основные страницы, чтобы собрать базу клиентов для email-рассылок</td>\n",
       "      <td>10</td>\n",
       "      <td>7</td>\n",
       "      <td>8</td>\n",
       "      <td>5</td>\n",
       "    </tr>\n",
       "    <tr>\n",
       "      <th>8</th>\n",
       "      <td>Запустить акцию, дающую скидку на товар в день рождения</td>\n",
       "      <td>1</td>\n",
       "      <td>9</td>\n",
       "      <td>9</td>\n",
       "      <td>5</td>\n",
       "    </tr>\n",
       "  </tbody>\n",
       "</table>\n",
       "</div>"
      ],
      "text/plain": [
       "                                                                                                     Hypothesis  \\\n",
       "0            Добавить два новых канала привлечения трафика, что позволит привлекать на 30% больше пользователей   \n",
       "1                                     Запустить собственную службу доставки, что сократит срок доставки заказов   \n",
       "2  Добавить блоки рекомендаций товаров на сайт интернет магазина, чтобы повысить конверсию и средний чек заказа   \n",
       "3           Изменить структура категорий, что увеличит конверсию, т.к. пользователи быстрее найдут нужный товар   \n",
       "4                              Изменить цвет фона главной страницы, чтобы увеличить вовлеченность пользователей   \n",
       "5                      Добавить страницу отзывов клиентов о магазине, что позволит увеличить количество заказов   \n",
       "6          Показать на главной странице баннеры с актуальными акциями и распродажами, чтобы увеличить конверсию   \n",
       "7              Добавить форму подписки на все основные страницы, чтобы собрать базу клиентов для email-рассылок   \n",
       "8                                                       Запустить акцию, дающую скидку на товар в день рождения   \n",
       "\n",
       "   Reach  Impact  Confidence  Efforts  \n",
       "0      3      10           8        6  \n",
       "1      2       5           4       10  \n",
       "2      8       3           7        3  \n",
       "3      8       3           3        8  \n",
       "4      3       1           1        1  \n",
       "5      3       2           2        3  \n",
       "6      5       3           8        3  \n",
       "7     10       7           8        5  \n",
       "8      1       9           9        5  "
      ]
     },
     "execution_count": 3,
     "metadata": {},
     "output_type": "execute_result"
    }
   ],
   "source": [
    "hypothesis.head(10)"
   ]
  },
  {
   "cell_type": "code",
   "execution_count": 4,
   "metadata": {},
   "outputs": [
    {
     "name": "stdout",
     "output_type": "stream",
     "text": [
      "<class 'pandas.core.frame.DataFrame'>\n",
      "RangeIndex: 9 entries, 0 to 8\n",
      "Data columns (total 5 columns):\n",
      " #   Column      Non-Null Count  Dtype \n",
      "---  ------      --------------  ----- \n",
      " 0   Hypothesis  9 non-null      object\n",
      " 1   Reach       9 non-null      int64 \n",
      " 2   Impact      9 non-null      int64 \n",
      " 3   Confidence  9 non-null      int64 \n",
      " 4   Efforts     9 non-null      int64 \n",
      "dtypes: int64(4), object(1)\n",
      "memory usage: 488.0+ bytes\n"
     ]
    }
   ],
   "source": [
    "hypothesis.info()"
   ]
  },
  {
   "cell_type": "code",
   "execution_count": 5,
   "metadata": {},
   "outputs": [],
   "source": [
    "# We will reduce the column names to lowercase\n",
    "hypothesis.columns = hypothesis.columns.str.lower()"
   ]
  },
  {
   "cell_type": "code",
   "execution_count": 6,
   "metadata": {},
   "outputs": [],
   "source": [
    "# Let's read the data from the csv file into a dataframe and save it to a variable\n",
    "try:\n",
    "    orders = pd.read_csv('orders.csv')\n",
    "except:\n",
    "    orders = pd.read_csv('https://code.s3.yandex.net/datasets/orders.csv')\n"
   ]
  },
  {
   "cell_type": "code",
   "execution_count": 7,
   "metadata": {},
   "outputs": [
    {
     "data": {
      "text/html": [
       "<div>\n",
       "<style scoped>\n",
       "    .dataframe tbody tr th:only-of-type {\n",
       "        vertical-align: middle;\n",
       "    }\n",
       "\n",
       "    .dataframe tbody tr th {\n",
       "        vertical-align: top;\n",
       "    }\n",
       "\n",
       "    .dataframe thead th {\n",
       "        text-align: right;\n",
       "    }\n",
       "</style>\n",
       "<table border=\"1\" class=\"dataframe\">\n",
       "  <thead>\n",
       "    <tr style=\"text-align: right;\">\n",
       "      <th></th>\n",
       "      <th>transactionId</th>\n",
       "      <th>visitorId</th>\n",
       "      <th>date</th>\n",
       "      <th>revenue</th>\n",
       "      <th>group</th>\n",
       "    </tr>\n",
       "  </thead>\n",
       "  <tbody>\n",
       "    <tr>\n",
       "      <th>0</th>\n",
       "      <td>3667963787</td>\n",
       "      <td>3312258926</td>\n",
       "      <td>2019-08-15</td>\n",
       "      <td>1650</td>\n",
       "      <td>B</td>\n",
       "    </tr>\n",
       "    <tr>\n",
       "      <th>1</th>\n",
       "      <td>2804400009</td>\n",
       "      <td>3642806036</td>\n",
       "      <td>2019-08-15</td>\n",
       "      <td>730</td>\n",
       "      <td>B</td>\n",
       "    </tr>\n",
       "    <tr>\n",
       "      <th>2</th>\n",
       "      <td>2961555356</td>\n",
       "      <td>4069496402</td>\n",
       "      <td>2019-08-15</td>\n",
       "      <td>400</td>\n",
       "      <td>A</td>\n",
       "    </tr>\n",
       "    <tr>\n",
       "      <th>3</th>\n",
       "      <td>3797467345</td>\n",
       "      <td>1196621759</td>\n",
       "      <td>2019-08-15</td>\n",
       "      <td>9759</td>\n",
       "      <td>B</td>\n",
       "    </tr>\n",
       "    <tr>\n",
       "      <th>4</th>\n",
       "      <td>2282983706</td>\n",
       "      <td>2322279887</td>\n",
       "      <td>2019-08-15</td>\n",
       "      <td>2308</td>\n",
       "      <td>B</td>\n",
       "    </tr>\n",
       "    <tr>\n",
       "      <th>5</th>\n",
       "      <td>182168103</td>\n",
       "      <td>935554773</td>\n",
       "      <td>2019-08-15</td>\n",
       "      <td>2210</td>\n",
       "      <td>B</td>\n",
       "    </tr>\n",
       "    <tr>\n",
       "      <th>6</th>\n",
       "      <td>398296753</td>\n",
       "      <td>2900797465</td>\n",
       "      <td>2019-08-15</td>\n",
       "      <td>1860</td>\n",
       "      <td>B</td>\n",
       "    </tr>\n",
       "    <tr>\n",
       "      <th>7</th>\n",
       "      <td>2626614568</td>\n",
       "      <td>78758296</td>\n",
       "      <td>2019-08-15</td>\n",
       "      <td>1044</td>\n",
       "      <td>A</td>\n",
       "    </tr>\n",
       "    <tr>\n",
       "      <th>8</th>\n",
       "      <td>1576988021</td>\n",
       "      <td>295230930</td>\n",
       "      <td>2019-08-15</td>\n",
       "      <td>13710</td>\n",
       "      <td>A</td>\n",
       "    </tr>\n",
       "    <tr>\n",
       "      <th>9</th>\n",
       "      <td>1506739906</td>\n",
       "      <td>1882260405</td>\n",
       "      <td>2019-08-15</td>\n",
       "      <td>1855</td>\n",
       "      <td>B</td>\n",
       "    </tr>\n",
       "  </tbody>\n",
       "</table>\n",
       "</div>"
      ],
      "text/plain": [
       "   transactionId   visitorId        date  revenue group\n",
       "0     3667963787  3312258926  2019-08-15     1650     B\n",
       "1     2804400009  3642806036  2019-08-15      730     B\n",
       "2     2961555356  4069496402  2019-08-15      400     A\n",
       "3     3797467345  1196621759  2019-08-15     9759     B\n",
       "4     2282983706  2322279887  2019-08-15     2308     B\n",
       "5      182168103   935554773  2019-08-15     2210     B\n",
       "6      398296753  2900797465  2019-08-15     1860     B\n",
       "7     2626614568    78758296  2019-08-15     1044     A\n",
       "8     1576988021   295230930  2019-08-15    13710     A\n",
       "9     1506739906  1882260405  2019-08-15     1855     B"
      ]
     },
     "execution_count": 7,
     "metadata": {},
     "output_type": "execute_result"
    }
   ],
   "source": [
    "orders.head(10)"
   ]
  },
  {
   "cell_type": "code",
   "execution_count": 8,
   "metadata": {},
   "outputs": [
    {
     "name": "stdout",
     "output_type": "stream",
     "text": [
      "<class 'pandas.core.frame.DataFrame'>\n",
      "RangeIndex: 1197 entries, 0 to 1196\n",
      "Data columns (total 5 columns):\n",
      " #   Column         Non-Null Count  Dtype \n",
      "---  ------         --------------  ----- \n",
      " 0   transactionId  1197 non-null   int64 \n",
      " 1   visitorId      1197 non-null   int64 \n",
      " 2   date           1197 non-null   object\n",
      " 3   revenue        1197 non-null   int64 \n",
      " 4   group          1197 non-null   object\n",
      "dtypes: int64(3), object(2)\n",
      "memory usage: 46.9+ KB\n"
     ]
    }
   ],
   "source": [
    "orders.info()"
   ]
  },
  {
   "cell_type": "markdown",
   "metadata": {},
   "source": [
    "### Let's pre-process the data for the orders file"
   ]
  },
  {
   "cell_type": "code",
   "execution_count": 9,
   "metadata": {},
   "outputs": [],
   "source": [
    "# Rename the columns in the table\n",
    "orders.columns = ['transaction_id', 'visitor_id', 'date', 'revenue', 'group']"
   ]
  },
  {
   "cell_type": "code",
   "execution_count": 10,
   "metadata": {},
   "outputs": [],
   "source": [
    "# Let's bring the date column to the datetime type\n",
    "orders['date'] = orders['date'].map(lambda x: dt.datetime.strptime(x, '%Y-%m-%d'))"
   ]
  },
  {
   "cell_type": "code",
   "execution_count": 11,
   "metadata": {},
   "outputs": [
    {
     "data": {
      "text/plain": [
       "transaction_id    0\n",
       "visitor_id        0\n",
       "date              0\n",
       "revenue           0\n",
       "group             0\n",
       "dtype: int64"
      ]
     },
     "execution_count": 11,
     "metadata": {},
     "output_type": "execute_result"
    }
   ],
   "source": [
    "# Let's check how many gaps there are in our table\n",
    "orders.isna().sum()"
   ]
  },
  {
   "cell_type": "markdown",
   "metadata": {},
   "source": [
    "**Conclusion: no gaps were detected.**"
   ]
  },
  {
   "cell_type": "code",
   "execution_count": 12,
   "metadata": {},
   "outputs": [
    {
     "data": {
      "text/plain": [
       "0"
      ]
     },
     "execution_count": 12,
     "metadata": {},
     "output_type": "execute_result"
    }
   ],
   "source": [
    "# Let's check how many explicit duplicates there are in our table\n",
    "orders.duplicated().sum()"
   ]
  },
  {
   "cell_type": "markdown",
   "metadata": {},
   "source": [
    "**Conclusion: no obvious duplicates were found.**"
   ]
  },
  {
   "cell_type": "code",
   "execution_count": 13,
   "metadata": {},
   "outputs": [
    {
     "data": {
      "text/plain": [
       "B    640\n",
       "A    557\n",
       "Name: group, dtype: int64"
      ]
     },
     "execution_count": 13,
     "metadata": {},
     "output_type": "execute_result"
    }
   ],
   "source": [
    "# Let's check that all orders are divided into only two groups: A and B\n",
    "orders['group'].value_counts()"
   ]
  },
  {
   "cell_type": "markdown",
   "metadata": {},
   "source": [
    "**Conclusion: only groups A and B are found in the table, there is no error.**"
   ]
  },
  {
   "cell_type": "code",
   "execution_count": 14,
   "metadata": {},
   "outputs": [
    {
     "data": {
      "text/plain": [
       "date\n",
       "2019-08-01    40\n",
       "2019-08-02    42\n",
       "2019-08-03    40\n",
       "2019-08-04    29\n",
       "2019-08-05    47\n",
       "2019-08-06    40\n",
       "2019-08-07    42\n",
       "2019-08-08    42\n",
       "2019-08-09    37\n",
       "2019-08-10    38\n",
       "2019-08-11    26\n",
       "2019-08-12    45\n",
       "2019-08-13    35\n",
       "2019-08-14    44\n",
       "2019-08-15    45\n",
       "2019-08-16    38\n",
       "2019-08-17    23\n",
       "2019-08-18    25\n",
       "2019-08-19    42\n",
       "2019-08-20    32\n",
       "2019-08-21    35\n",
       "2019-08-22    40\n",
       "2019-08-23    39\n",
       "2019-08-24    30\n",
       "2019-08-25    24\n",
       "2019-08-26    40\n",
       "2019-08-27    43\n",
       "2019-08-28    44\n",
       "2019-08-29    39\n",
       "2019-08-30    32\n",
       "2019-08-31    30\n",
       "Name: visitor_id, dtype: int64"
      ]
     },
     "execution_count": 14,
     "metadata": {},
     "output_type": "execute_result"
    }
   ],
   "source": [
    "# Let's check for which days we have data in the table\n",
    "orders.groupby('date')['visitor_id'].nunique()"
   ]
  },
  {
   "cell_type": "markdown",
   "metadata": {},
   "source": [
    "**Conclusion: the table shows data for August 2019, not a single month was missed.**"
   ]
  },
  {
   "cell_type": "code",
   "execution_count": 15,
   "metadata": {},
   "outputs": [],
   "source": [
    "# Let's read the data from the csv file into a dataframe and save it to a variable\n",
    "try:\n",
    "    visitors = pd.read_csv('visitors.csv')\n",
    "except:\n",
    "    visitors = pd.read_csv('https://code.s3.yandex.net/datasets/visitors.csv')"
   ]
  },
  {
   "cell_type": "code",
   "execution_count": 16,
   "metadata": {},
   "outputs": [
    {
     "data": {
      "text/html": [
       "<div>\n",
       "<style scoped>\n",
       "    .dataframe tbody tr th:only-of-type {\n",
       "        vertical-align: middle;\n",
       "    }\n",
       "\n",
       "    .dataframe tbody tr th {\n",
       "        vertical-align: top;\n",
       "    }\n",
       "\n",
       "    .dataframe thead th {\n",
       "        text-align: right;\n",
       "    }\n",
       "</style>\n",
       "<table border=\"1\" class=\"dataframe\">\n",
       "  <thead>\n",
       "    <tr style=\"text-align: right;\">\n",
       "      <th></th>\n",
       "      <th>date</th>\n",
       "      <th>group</th>\n",
       "      <th>visitors</th>\n",
       "    </tr>\n",
       "  </thead>\n",
       "  <tbody>\n",
       "    <tr>\n",
       "      <th>0</th>\n",
       "      <td>2019-08-01</td>\n",
       "      <td>A</td>\n",
       "      <td>719</td>\n",
       "    </tr>\n",
       "    <tr>\n",
       "      <th>1</th>\n",
       "      <td>2019-08-02</td>\n",
       "      <td>A</td>\n",
       "      <td>619</td>\n",
       "    </tr>\n",
       "    <tr>\n",
       "      <th>2</th>\n",
       "      <td>2019-08-03</td>\n",
       "      <td>A</td>\n",
       "      <td>507</td>\n",
       "    </tr>\n",
       "    <tr>\n",
       "      <th>3</th>\n",
       "      <td>2019-08-04</td>\n",
       "      <td>A</td>\n",
       "      <td>717</td>\n",
       "    </tr>\n",
       "    <tr>\n",
       "      <th>4</th>\n",
       "      <td>2019-08-05</td>\n",
       "      <td>A</td>\n",
       "      <td>756</td>\n",
       "    </tr>\n",
       "    <tr>\n",
       "      <th>5</th>\n",
       "      <td>2019-08-06</td>\n",
       "      <td>A</td>\n",
       "      <td>667</td>\n",
       "    </tr>\n",
       "    <tr>\n",
       "      <th>6</th>\n",
       "      <td>2019-08-07</td>\n",
       "      <td>A</td>\n",
       "      <td>644</td>\n",
       "    </tr>\n",
       "    <tr>\n",
       "      <th>7</th>\n",
       "      <td>2019-08-08</td>\n",
       "      <td>A</td>\n",
       "      <td>610</td>\n",
       "    </tr>\n",
       "    <tr>\n",
       "      <th>8</th>\n",
       "      <td>2019-08-09</td>\n",
       "      <td>A</td>\n",
       "      <td>617</td>\n",
       "    </tr>\n",
       "    <tr>\n",
       "      <th>9</th>\n",
       "      <td>2019-08-10</td>\n",
       "      <td>A</td>\n",
       "      <td>406</td>\n",
       "    </tr>\n",
       "  </tbody>\n",
       "</table>\n",
       "</div>"
      ],
      "text/plain": [
       "         date group  visitors\n",
       "0  2019-08-01     A       719\n",
       "1  2019-08-02     A       619\n",
       "2  2019-08-03     A       507\n",
       "3  2019-08-04     A       717\n",
       "4  2019-08-05     A       756\n",
       "5  2019-08-06     A       667\n",
       "6  2019-08-07     A       644\n",
       "7  2019-08-08     A       610\n",
       "8  2019-08-09     A       617\n",
       "9  2019-08-10     A       406"
      ]
     },
     "execution_count": 16,
     "metadata": {},
     "output_type": "execute_result"
    }
   ],
   "source": [
    "visitors.head(10)"
   ]
  },
  {
   "cell_type": "code",
   "execution_count": 17,
   "metadata": {},
   "outputs": [
    {
     "name": "stdout",
     "output_type": "stream",
     "text": [
      "<class 'pandas.core.frame.DataFrame'>\n",
      "RangeIndex: 62 entries, 0 to 61\n",
      "Data columns (total 3 columns):\n",
      " #   Column    Non-Null Count  Dtype \n",
      "---  ------    --------------  ----- \n",
      " 0   date      62 non-null     object\n",
      " 1   group     62 non-null     object\n",
      " 2   visitors  62 non-null     int64 \n",
      "dtypes: int64(1), object(2)\n",
      "memory usage: 1.6+ KB\n"
     ]
    }
   ],
   "source": [
    "visitors.info()"
   ]
  },
  {
   "cell_type": "markdown",
   "metadata": {},
   "source": [
    "### Let's perform data preprocessing for the file with visits"
   ]
  },
  {
   "cell_type": "code",
   "execution_count": 18,
   "metadata": {},
   "outputs": [],
   "source": [
    "# Let's bring the date column to the datetime type\n",
    "visitors['date'] = visitors['date'].map(lambda x: dt.datetime.strptime(x, '%Y-%m-%d'))"
   ]
  },
  {
   "cell_type": "code",
   "execution_count": 19,
   "metadata": {},
   "outputs": [
    {
     "data": {
      "text/plain": [
       "date        0\n",
       "group       0\n",
       "visitors    0\n",
       "dtype: int64"
      ]
     },
     "execution_count": 19,
     "metadata": {},
     "output_type": "execute_result"
    }
   ],
   "source": [
    "# Let's check how many gaps there are in our table\n",
    "visitors.isna().sum()"
   ]
  },
  {
   "cell_type": "markdown",
   "metadata": {},
   "source": [
    "**Conclusion: no gaps were detected.**"
   ]
  },
  {
   "cell_type": "code",
   "execution_count": 20,
   "metadata": {},
   "outputs": [
    {
     "data": {
      "text/plain": [
       "0"
      ]
     },
     "execution_count": 20,
     "metadata": {},
     "output_type": "execute_result"
    }
   ],
   "source": [
    "# Let's check how many explicit duplicates there are in our table\n",
    "visitors.duplicated().sum()"
   ]
  },
  {
   "cell_type": "markdown",
   "metadata": {},
   "source": [
    "**Conclusion: no obvious duplicates were found.**"
   ]
  },
  {
   "cell_type": "code",
   "execution_count": 21,
   "metadata": {},
   "outputs": [
    {
     "data": {
      "text/plain": [
       "A    31\n",
       "B    31\n",
       "Name: group, dtype: int64"
      ]
     },
     "execution_count": 21,
     "metadata": {},
     "output_type": "execute_result"
    }
   ],
   "source": [
    "# Let's check that all orders are divided into only two groups: A and B\n",
    "visitors['group'].value_counts()"
   ]
  },
  {
   "cell_type": "markdown",
   "metadata": {},
   "source": [
    "**Conclusion: only groups A and B are found in the table, there is no error.**"
   ]
  },
  {
   "cell_type": "code",
   "execution_count": 22,
   "metadata": {},
   "outputs": [
    {
     "data": {
      "text/plain": [
       "date\n",
       "2019-08-01    2\n",
       "2019-08-02    2\n",
       "2019-08-03    2\n",
       "2019-08-04    2\n",
       "2019-08-05    2\n",
       "2019-08-06    2\n",
       "2019-08-07    2\n",
       "2019-08-08    2\n",
       "2019-08-09    2\n",
       "2019-08-10    2\n",
       "2019-08-11    2\n",
       "2019-08-12    2\n",
       "2019-08-13    2\n",
       "2019-08-14    2\n",
       "2019-08-15    2\n",
       "2019-08-16    2\n",
       "2019-08-17    2\n",
       "2019-08-18    2\n",
       "2019-08-19    2\n",
       "2019-08-20    2\n",
       "2019-08-21    2\n",
       "2019-08-22    2\n",
       "2019-08-23    2\n",
       "2019-08-24    2\n",
       "2019-08-25    2\n",
       "2019-08-26    2\n",
       "2019-08-27    2\n",
       "2019-08-28    2\n",
       "2019-08-29    2\n",
       "2019-08-30    2\n",
       "2019-08-31    2\n",
       "Name: group, dtype: int64"
      ]
     },
     "execution_count": 22,
     "metadata": {},
     "output_type": "execute_result"
    }
   ],
   "source": [
    "# Let's check for which days we have data in the table\n",
    "visitors.groupby('date')['group'].count()"
   ]
  },
  {
   "cell_type": "markdown",
   "metadata": {},
   "source": [
    "**Conclusion: the table shows data for August 2019, not a single month was missed.**"
   ]
  },
  {
   "cell_type": "markdown",
   "metadata": {},
   "source": [
    "### Let's check the correctness of splitting users into groups"
   ]
  },
  {
   "cell_type": "code",
   "execution_count": 23,
   "metadata": {},
   "outputs": [],
   "source": [
    "# Divide the orders table into tables by groups A and B\n",
    "users_A = orders.query('group == \"A\"')\n",
    "users_B = orders.query('group == \"B\"')"
   ]
  },
  {
   "cell_type": "code",
   "execution_count": 24,
   "metadata": {},
   "outputs": [],
   "source": [
    "# We get the user IDs that occur in both tables\n",
    "a_in_b = users_A.loc[users_A['visitor_id'].isin(users_B['visitor_id'])]['visitor_id']\n",
    "b_in_a = users_B.loc[users_B['visitor_id'].isin(users_A['visitor_id'])]['visitor_id']"
   ]
  },
  {
   "cell_type": "code",
   "execution_count": 25,
   "metadata": {},
   "outputs": [],
   "source": [
    "# Combine users and remove duplicate values\n",
    "repeating_users = pd.concat([b_in_a, a_in_b], axis=0).drop_duplicates()"
   ]
  },
  {
   "cell_type": "code",
   "execution_count": 26,
   "metadata": {},
   "outputs": [
    {
     "data": {
      "text/plain": [
       "58"
      ]
     },
     "execution_count": 26,
     "metadata": {},
     "output_type": "execute_result"
    }
   ],
   "source": [
    "# Let's count the number of users in both groups\n",
    "repeating_users.shape[0]"
   ]
  },
  {
   "cell_type": "code",
   "execution_count": 27,
   "metadata": {},
   "outputs": [],
   "source": [
    "# We will remove such users from the orders table\n",
    "orders = orders.loc[~orders['visitor_id'].isin(repeating_users)]"
   ]
  },
  {
   "cell_type": "markdown",
   "metadata": {},
   "source": [
    "#### Conclusion: at this stage, we have studied the general information about the source data, checked for gaps in the tables, checked the data for duplicates. No duplicates, omissions, or other errors were found in the source data.\n",
    "#### 58 users were also found to fall into both groups. It was decided to remove such users from consideration."
   ]
  },
  {
   "cell_type": "markdown",
   "metadata": {},
   "source": [
    "## Part 1. Prioritization of hypotheses."
   ]
  },
  {
   "cell_type": "markdown",
   "metadata": {},
   "source": [
    "**Since it will not be possible to test all hypotheses due to lack of time and resources, it is necessary to choose those hypotheses that maximize the expected improvement of key business metrics.**\n",
    "**ICE and RICE frameworks are one of the most popular ways to prioritize hypotheses.**\n",
    "**They consist of the following components:\n",
    "Reach — how many users will be affected by the change you want to make;\n",
    "Impact — how much the change will affect users, their experience and satisfaction with the product;\n",
    "Confidence — how confident are you that this change will affect users in this way;\n",
    "Efforts — how much it costs to test this hypothesis.**\n",
    "**The parameters of the ICE and RICE frameworks are evaluated in convenient scales: for example, from 0 to 10 or in Fibonacci numbers.**"
   ]
  },
  {
   "cell_type": "markdown",
   "metadata": {},
   "source": [
    "##### Let's use the ICE framework to prioritize hypotheses and sort them in descending order of priority."
   ]
  },
  {
   "cell_type": "code",
   "execution_count": 28,
   "metadata": {},
   "outputs": [
    {
     "data": {
      "text/html": [
       "<div>\n",
       "<style scoped>\n",
       "    .dataframe tbody tr th:only-of-type {\n",
       "        vertical-align: middle;\n",
       "    }\n",
       "\n",
       "    .dataframe tbody tr th {\n",
       "        vertical-align: top;\n",
       "    }\n",
       "\n",
       "    .dataframe thead th {\n",
       "        text-align: right;\n",
       "    }\n",
       "</style>\n",
       "<table border=\"1\" class=\"dataframe\">\n",
       "  <thead>\n",
       "    <tr style=\"text-align: right;\">\n",
       "      <th></th>\n",
       "      <th>hypothesis</th>\n",
       "      <th>ICE</th>\n",
       "    </tr>\n",
       "  </thead>\n",
       "  <tbody>\n",
       "    <tr>\n",
       "      <th>8</th>\n",
       "      <td>Запустить акцию, дающую скидку на товар в день рождения</td>\n",
       "      <td>16.200000</td>\n",
       "    </tr>\n",
       "    <tr>\n",
       "      <th>0</th>\n",
       "      <td>Добавить два новых канала привлечения трафика, что позволит привлекать на 30% больше пользователей</td>\n",
       "      <td>13.333333</td>\n",
       "    </tr>\n",
       "    <tr>\n",
       "      <th>7</th>\n",
       "      <td>Добавить форму подписки на все основные страницы, чтобы собрать базу клиентов для email-рассылок</td>\n",
       "      <td>11.200000</td>\n",
       "    </tr>\n",
       "    <tr>\n",
       "      <th>6</th>\n",
       "      <td>Показать на главной странице баннеры с актуальными акциями и распродажами, чтобы увеличить конверсию</td>\n",
       "      <td>8.000000</td>\n",
       "    </tr>\n",
       "    <tr>\n",
       "      <th>2</th>\n",
       "      <td>Добавить блоки рекомендаций товаров на сайт интернет магазина, чтобы повысить конверсию и средний чек заказа</td>\n",
       "      <td>7.000000</td>\n",
       "    </tr>\n",
       "    <tr>\n",
       "      <th>1</th>\n",
       "      <td>Запустить собственную службу доставки, что сократит срок доставки заказов</td>\n",
       "      <td>2.000000</td>\n",
       "    </tr>\n",
       "    <tr>\n",
       "      <th>5</th>\n",
       "      <td>Добавить страницу отзывов клиентов о магазине, что позволит увеличить количество заказов</td>\n",
       "      <td>1.333333</td>\n",
       "    </tr>\n",
       "    <tr>\n",
       "      <th>3</th>\n",
       "      <td>Изменить структура категорий, что увеличит конверсию, т.к. пользователи быстрее найдут нужный товар</td>\n",
       "      <td>1.125000</td>\n",
       "    </tr>\n",
       "    <tr>\n",
       "      <th>4</th>\n",
       "      <td>Изменить цвет фона главной страницы, чтобы увеличить вовлеченность пользователей</td>\n",
       "      <td>1.000000</td>\n",
       "    </tr>\n",
       "  </tbody>\n",
       "</table>\n",
       "</div>"
      ],
      "text/plain": [
       "                                                                                                     hypothesis  \\\n",
       "8                                                       Запустить акцию, дающую скидку на товар в день рождения   \n",
       "0            Добавить два новых канала привлечения трафика, что позволит привлекать на 30% больше пользователей   \n",
       "7              Добавить форму подписки на все основные страницы, чтобы собрать базу клиентов для email-рассылок   \n",
       "6          Показать на главной странице баннеры с актуальными акциями и распродажами, чтобы увеличить конверсию   \n",
       "2  Добавить блоки рекомендаций товаров на сайт интернет магазина, чтобы повысить конверсию и средний чек заказа   \n",
       "1                                     Запустить собственную службу доставки, что сократит срок доставки заказов   \n",
       "5                      Добавить страницу отзывов клиентов о магазине, что позволит увеличить количество заказов   \n",
       "3           Изменить структура категорий, что увеличит конверсию, т.к. пользователи быстрее найдут нужный товар   \n",
       "4                              Изменить цвет фона главной страницы, чтобы увеличить вовлеченность пользователей   \n",
       "\n",
       "         ICE  \n",
       "8  16.200000  \n",
       "0  13.333333  \n",
       "7  11.200000  \n",
       "6   8.000000  \n",
       "2   7.000000  \n",
       "1   2.000000  \n",
       "5   1.333333  \n",
       "3   1.125000  \n",
       "4   1.000000  "
      ]
     },
     "execution_count": 28,
     "metadata": {},
     "output_type": "execute_result"
    }
   ],
   "source": [
    "hypothesis['ICE'] = (hypothesis['impact'] * hypothesis['confidence']) / hypothesis['efforts']\n",
    "ice = hypothesis[['hypothesis', 'ICE']].sort_values(by='ICE', ascending=False)\n",
    "ice"
   ]
  },
  {
   "cell_type": "code",
   "execution_count": 29,
   "metadata": {},
   "outputs": [
    {
     "data": {
      "text/plain": [
       "'Запустить акцию, дающую скидку на товар в день рождения'"
      ]
     },
     "execution_count": 29,
     "metadata": {},
     "output_type": "execute_result"
    }
   ],
   "source": [
    "ice['hypothesis'].values[0]"
   ]
  },
  {
   "cell_type": "markdown",
   "metadata": {},
   "source": [
    "##### Let's use the RICE framework to prioritize hypotheses and sort them in descending order of priority."
   ]
  },
  {
   "cell_type": "code",
   "execution_count": 30,
   "metadata": {},
   "outputs": [
    {
     "data": {
      "text/html": [
       "<div>\n",
       "<style scoped>\n",
       "    .dataframe tbody tr th:only-of-type {\n",
       "        vertical-align: middle;\n",
       "    }\n",
       "\n",
       "    .dataframe tbody tr th {\n",
       "        vertical-align: top;\n",
       "    }\n",
       "\n",
       "    .dataframe thead th {\n",
       "        text-align: right;\n",
       "    }\n",
       "</style>\n",
       "<table border=\"1\" class=\"dataframe\">\n",
       "  <thead>\n",
       "    <tr style=\"text-align: right;\">\n",
       "      <th></th>\n",
       "      <th>hypothesis</th>\n",
       "      <th>RICE</th>\n",
       "    </tr>\n",
       "  </thead>\n",
       "  <tbody>\n",
       "    <tr>\n",
       "      <th>7</th>\n",
       "      <td>Добавить форму подписки на все основные страницы, чтобы собрать базу клиентов для email-рассылок</td>\n",
       "      <td>112.0</td>\n",
       "    </tr>\n",
       "    <tr>\n",
       "      <th>2</th>\n",
       "      <td>Добавить блоки рекомендаций товаров на сайт интернет магазина, чтобы повысить конверсию и средний чек заказа</td>\n",
       "      <td>56.0</td>\n",
       "    </tr>\n",
       "    <tr>\n",
       "      <th>0</th>\n",
       "      <td>Добавить два новых канала привлечения трафика, что позволит привлекать на 30% больше пользователей</td>\n",
       "      <td>40.0</td>\n",
       "    </tr>\n",
       "    <tr>\n",
       "      <th>6</th>\n",
       "      <td>Показать на главной странице баннеры с актуальными акциями и распродажами, чтобы увеличить конверсию</td>\n",
       "      <td>40.0</td>\n",
       "    </tr>\n",
       "    <tr>\n",
       "      <th>8</th>\n",
       "      <td>Запустить акцию, дающую скидку на товар в день рождения</td>\n",
       "      <td>16.2</td>\n",
       "    </tr>\n",
       "    <tr>\n",
       "      <th>3</th>\n",
       "      <td>Изменить структура категорий, что увеличит конверсию, т.к. пользователи быстрее найдут нужный товар</td>\n",
       "      <td>9.0</td>\n",
       "    </tr>\n",
       "    <tr>\n",
       "      <th>1</th>\n",
       "      <td>Запустить собственную службу доставки, что сократит срок доставки заказов</td>\n",
       "      <td>4.0</td>\n",
       "    </tr>\n",
       "    <tr>\n",
       "      <th>5</th>\n",
       "      <td>Добавить страницу отзывов клиентов о магазине, что позволит увеличить количество заказов</td>\n",
       "      <td>4.0</td>\n",
       "    </tr>\n",
       "    <tr>\n",
       "      <th>4</th>\n",
       "      <td>Изменить цвет фона главной страницы, чтобы увеличить вовлеченность пользователей</td>\n",
       "      <td>3.0</td>\n",
       "    </tr>\n",
       "  </tbody>\n",
       "</table>\n",
       "</div>"
      ],
      "text/plain": [
       "                                                                                                     hypothesis  \\\n",
       "7              Добавить форму подписки на все основные страницы, чтобы собрать базу клиентов для email-рассылок   \n",
       "2  Добавить блоки рекомендаций товаров на сайт интернет магазина, чтобы повысить конверсию и средний чек заказа   \n",
       "0            Добавить два новых канала привлечения трафика, что позволит привлекать на 30% больше пользователей   \n",
       "6          Показать на главной странице баннеры с актуальными акциями и распродажами, чтобы увеличить конверсию   \n",
       "8                                                       Запустить акцию, дающую скидку на товар в день рождения   \n",
       "3           Изменить структура категорий, что увеличит конверсию, т.к. пользователи быстрее найдут нужный товар   \n",
       "1                                     Запустить собственную службу доставки, что сократит срок доставки заказов   \n",
       "5                      Добавить страницу отзывов клиентов о магазине, что позволит увеличить количество заказов   \n",
       "4                              Изменить цвет фона главной страницы, чтобы увеличить вовлеченность пользователей   \n",
       "\n",
       "    RICE  \n",
       "7  112.0  \n",
       "2   56.0  \n",
       "0   40.0  \n",
       "6   40.0  \n",
       "8   16.2  \n",
       "3    9.0  \n",
       "1    4.0  \n",
       "5    4.0  \n",
       "4    3.0  "
      ]
     },
     "execution_count": 30,
     "metadata": {},
     "output_type": "execute_result"
    }
   ],
   "source": [
    "hypothesis['RICE'] = (hypothesis['reach'] * hypothesis['impact'] * hypothesis['confidence']) / hypothesis['efforts']\n",
    "rice = hypothesis[['hypothesis', 'RICE']].sort_values(by='RICE', ascending=False)\n",
    "rice"
   ]
  },
  {
   "cell_type": "code",
   "execution_count": 31,
   "metadata": {},
   "outputs": [
    {
     "data": {
      "text/plain": [
       "'Добавить форму подписки на все основные страницы, чтобы собрать базу клиентов для email-рассылок'"
      ]
     },
     "execution_count": 31,
     "metadata": {},
     "output_type": "execute_result"
    }
   ],
   "source": [
    "rice['hypothesis'].values[0]"
   ]
  },
  {
   "cell_type": "markdown",
   "metadata": {},
   "source": [
    "#### Conclusion: when using different hypothesis prioritization frameworks, we got different results. This is due to the fact that the RICE framework additionally takes into account the reach parameter, so hypothesis No. 7 received the highest score for which the reach parameter is 10."
   ]
  },
  {
   "cell_type": "markdown",
   "metadata": {},
   "source": [
    "## Part 2. Analysis of the A/B test."
   ]
  },
  {
   "cell_type": "markdown",
   "metadata": {},
   "source": [
    "##### First, we will prepare a file with cumulative data broken down by testing groups.\n",
    "##### We will add there: the number of orders on the specified date, the number of users who made at least one order on the specified date, revenue on the specified date, the number of visitors to the online store on the specified date."
   ]
  },
  {
   "cell_type": "code",
   "execution_count": 32,
   "metadata": {},
   "outputs": [],
   "source": [
    "# Creating an array of unique pairs of date values and test groups\n",
    "datesGroups = orders[['date','group']].drop_duplicates()"
   ]
  },
  {
   "cell_type": "code",
   "execution_count": 33,
   "metadata": {},
   "outputs": [
    {
     "data": {
      "text/html": [
       "<div>\n",
       "<style scoped>\n",
       "    .dataframe tbody tr th:only-of-type {\n",
       "        vertical-align: middle;\n",
       "    }\n",
       "\n",
       "    .dataframe tbody tr th {\n",
       "        vertical-align: top;\n",
       "    }\n",
       "\n",
       "    .dataframe thead th {\n",
       "        text-align: right;\n",
       "    }\n",
       "</style>\n",
       "<table border=\"1\" class=\"dataframe\">\n",
       "  <thead>\n",
       "    <tr style=\"text-align: right;\">\n",
       "      <th></th>\n",
       "      <th>transaction_id</th>\n",
       "      <th>visitor_id</th>\n",
       "      <th>date</th>\n",
       "      <th>revenue</th>\n",
       "      <th>group</th>\n",
       "    </tr>\n",
       "  </thead>\n",
       "  <tbody>\n",
       "    <tr>\n",
       "      <th>0</th>\n",
       "      <td>3667963787</td>\n",
       "      <td>3312258926</td>\n",
       "      <td>2019-08-15</td>\n",
       "      <td>1650</td>\n",
       "      <td>B</td>\n",
       "    </tr>\n",
       "    <tr>\n",
       "      <th>1</th>\n",
       "      <td>2804400009</td>\n",
       "      <td>3642806036</td>\n",
       "      <td>2019-08-15</td>\n",
       "      <td>730</td>\n",
       "      <td>B</td>\n",
       "    </tr>\n",
       "    <tr>\n",
       "      <th>3</th>\n",
       "      <td>3797467345</td>\n",
       "      <td>1196621759</td>\n",
       "      <td>2019-08-15</td>\n",
       "      <td>9759</td>\n",
       "      <td>B</td>\n",
       "    </tr>\n",
       "    <tr>\n",
       "      <th>4</th>\n",
       "      <td>2282983706</td>\n",
       "      <td>2322279887</td>\n",
       "      <td>2019-08-15</td>\n",
       "      <td>2308</td>\n",
       "      <td>B</td>\n",
       "    </tr>\n",
       "    <tr>\n",
       "      <th>5</th>\n",
       "      <td>182168103</td>\n",
       "      <td>935554773</td>\n",
       "      <td>2019-08-15</td>\n",
       "      <td>2210</td>\n",
       "      <td>B</td>\n",
       "    </tr>\n",
       "  </tbody>\n",
       "</table>\n",
       "</div>"
      ],
      "text/plain": [
       "   transaction_id  visitor_id       date  revenue group\n",
       "0      3667963787  3312258926 2019-08-15     1650     B\n",
       "1      2804400009  3642806036 2019-08-15      730     B\n",
       "3      3797467345  1196621759 2019-08-15     9759     B\n",
       "4      2282983706  2322279887 2019-08-15     2308     B\n",
       "5       182168103   935554773 2019-08-15     2210     B"
      ]
     },
     "execution_count": 33,
     "metadata": {},
     "output_type": "execute_result"
    }
   ],
   "source": [
    "orders.head()"
   ]
  },
  {
   "cell_type": "code",
   "execution_count": 34,
   "metadata": {},
   "outputs": [],
   "source": [
    "# We get aggregated cumulative data on orders by days\n",
    "orders_aggregated = datesGroups.apply\\\n",
    "(lambda x: orders[np.logical_and(orders['date'] <= x['date'], orders['group'] == x['group'])]\\\n",
    " .agg({'date' : 'max', 'group' : 'max', 'transaction_id' : 'nunique', 'visitor_id' : 'nunique', 'revenue' : 'sum'}), axis=1)\\\n",
    ".sort_values(by=['date','group'])"
   ]
  },
  {
   "cell_type": "code",
   "execution_count": 35,
   "metadata": {},
   "outputs": [
    {
     "data": {
      "text/html": [
       "<div>\n",
       "<style scoped>\n",
       "    .dataframe tbody tr th:only-of-type {\n",
       "        vertical-align: middle;\n",
       "    }\n",
       "\n",
       "    .dataframe tbody tr th {\n",
       "        vertical-align: top;\n",
       "    }\n",
       "\n",
       "    .dataframe thead th {\n",
       "        text-align: right;\n",
       "    }\n",
       "</style>\n",
       "<table border=\"1\" class=\"dataframe\">\n",
       "  <thead>\n",
       "    <tr style=\"text-align: right;\">\n",
       "      <th></th>\n",
       "      <th>date</th>\n",
       "      <th>group</th>\n",
       "      <th>transaction_id</th>\n",
       "      <th>visitor_id</th>\n",
       "      <th>revenue</th>\n",
       "    </tr>\n",
       "  </thead>\n",
       "  <tbody>\n",
       "    <tr>\n",
       "      <th>55</th>\n",
       "      <td>2019-08-01</td>\n",
       "      <td>A</td>\n",
       "      <td>23</td>\n",
       "      <td>19</td>\n",
       "      <td>142779</td>\n",
       "    </tr>\n",
       "    <tr>\n",
       "      <th>66</th>\n",
       "      <td>2019-08-01</td>\n",
       "      <td>B</td>\n",
       "      <td>17</td>\n",
       "      <td>17</td>\n",
       "      <td>59758</td>\n",
       "    </tr>\n",
       "    <tr>\n",
       "      <th>175</th>\n",
       "      <td>2019-08-02</td>\n",
       "      <td>A</td>\n",
       "      <td>42</td>\n",
       "      <td>36</td>\n",
       "      <td>234381</td>\n",
       "    </tr>\n",
       "    <tr>\n",
       "      <th>173</th>\n",
       "      <td>2019-08-02</td>\n",
       "      <td>B</td>\n",
       "      <td>40</td>\n",
       "      <td>39</td>\n",
       "      <td>221801</td>\n",
       "    </tr>\n",
       "    <tr>\n",
       "      <th>291</th>\n",
       "      <td>2019-08-03</td>\n",
       "      <td>A</td>\n",
       "      <td>66</td>\n",
       "      <td>60</td>\n",
       "      <td>346854</td>\n",
       "    </tr>\n",
       "  </tbody>\n",
       "</table>\n",
       "</div>"
      ],
      "text/plain": [
       "          date group  transaction_id  visitor_id  revenue\n",
       "55  2019-08-01     A              23          19   142779\n",
       "66  2019-08-01     B              17          17    59758\n",
       "175 2019-08-02     A              42          36   234381\n",
       "173 2019-08-02     B              40          39   221801\n",
       "291 2019-08-03     A              66          60   346854"
      ]
     },
     "execution_count": 35,
     "metadata": {},
     "output_type": "execute_result"
    }
   ],
   "source": [
    "orders_aggregated.head()"
   ]
  },
  {
   "cell_type": "code",
   "execution_count": 36,
   "metadata": {},
   "outputs": [],
   "source": [
    "# We get aggregated cumulative data on the visitors of the online store by days\n",
    "visitors_aggregated = datesGroups.apply\\\n",
    "(lambda x: visitors[np.logical_and(visitors['date'] <= x['date'], visitors['group'] == x['group'])]\\\n",
    " .agg({'date' : 'max', 'group' : 'max', 'visitors' : 'sum'}), axis=1)\\\n",
    ".sort_values(by=['date','group'])"
   ]
  },
  {
   "cell_type": "code",
   "execution_count": 37,
   "metadata": {},
   "outputs": [
    {
     "data": {
      "text/html": [
       "<div>\n",
       "<style scoped>\n",
       "    .dataframe tbody tr th:only-of-type {\n",
       "        vertical-align: middle;\n",
       "    }\n",
       "\n",
       "    .dataframe tbody tr th {\n",
       "        vertical-align: top;\n",
       "    }\n",
       "\n",
       "    .dataframe thead th {\n",
       "        text-align: right;\n",
       "    }\n",
       "</style>\n",
       "<table border=\"1\" class=\"dataframe\">\n",
       "  <thead>\n",
       "    <tr style=\"text-align: right;\">\n",
       "      <th></th>\n",
       "      <th>date</th>\n",
       "      <th>group</th>\n",
       "      <th>visitors</th>\n",
       "    </tr>\n",
       "  </thead>\n",
       "  <tbody>\n",
       "    <tr>\n",
       "      <th>55</th>\n",
       "      <td>2019-08-01</td>\n",
       "      <td>A</td>\n",
       "      <td>719</td>\n",
       "    </tr>\n",
       "    <tr>\n",
       "      <th>66</th>\n",
       "      <td>2019-08-01</td>\n",
       "      <td>B</td>\n",
       "      <td>713</td>\n",
       "    </tr>\n",
       "    <tr>\n",
       "      <th>175</th>\n",
       "      <td>2019-08-02</td>\n",
       "      <td>A</td>\n",
       "      <td>1338</td>\n",
       "    </tr>\n",
       "    <tr>\n",
       "      <th>173</th>\n",
       "      <td>2019-08-02</td>\n",
       "      <td>B</td>\n",
       "      <td>1294</td>\n",
       "    </tr>\n",
       "    <tr>\n",
       "      <th>291</th>\n",
       "      <td>2019-08-03</td>\n",
       "      <td>A</td>\n",
       "      <td>1845</td>\n",
       "    </tr>\n",
       "  </tbody>\n",
       "</table>\n",
       "</div>"
      ],
      "text/plain": [
       "          date group  visitors\n",
       "55  2019-08-01     A       719\n",
       "66  2019-08-01     B       713\n",
       "175 2019-08-02     A      1338\n",
       "173 2019-08-02     B      1294\n",
       "291 2019-08-03     A      1845"
      ]
     },
     "execution_count": 37,
     "metadata": {},
     "output_type": "execute_result"
    }
   ],
   "source": [
    "visitors_aggregated.head()"
   ]
  },
  {
   "cell_type": "code",
   "execution_count": 38,
   "metadata": {},
   "outputs": [],
   "source": [
    "# We combine cumulative data in one table and assign understandable names to its columns\n",
    "cumulative_data = orders_aggregated.merge(visitors_aggregated, left_on=['date', 'group'], right_on=['date', 'group'])\n",
    "cumulative_data.columns = ['date', 'group', 'orders', 'buyers', 'revenue', 'visitors']"
   ]
  },
  {
   "cell_type": "code",
   "execution_count": 39,
   "metadata": {},
   "outputs": [
    {
     "data": {
      "text/html": [
       "<div>\n",
       "<style scoped>\n",
       "    .dataframe tbody tr th:only-of-type {\n",
       "        vertical-align: middle;\n",
       "    }\n",
       "\n",
       "    .dataframe tbody tr th {\n",
       "        vertical-align: top;\n",
       "    }\n",
       "\n",
       "    .dataframe thead th {\n",
       "        text-align: right;\n",
       "    }\n",
       "</style>\n",
       "<table border=\"1\" class=\"dataframe\">\n",
       "  <thead>\n",
       "    <tr style=\"text-align: right;\">\n",
       "      <th></th>\n",
       "      <th>date</th>\n",
       "      <th>group</th>\n",
       "      <th>orders</th>\n",
       "      <th>buyers</th>\n",
       "      <th>revenue</th>\n",
       "      <th>visitors</th>\n",
       "    </tr>\n",
       "  </thead>\n",
       "  <tbody>\n",
       "    <tr>\n",
       "      <th>0</th>\n",
       "      <td>2019-08-01</td>\n",
       "      <td>A</td>\n",
       "      <td>23</td>\n",
       "      <td>19</td>\n",
       "      <td>142779</td>\n",
       "      <td>719</td>\n",
       "    </tr>\n",
       "    <tr>\n",
       "      <th>1</th>\n",
       "      <td>2019-08-01</td>\n",
       "      <td>B</td>\n",
       "      <td>17</td>\n",
       "      <td>17</td>\n",
       "      <td>59758</td>\n",
       "      <td>713</td>\n",
       "    </tr>\n",
       "    <tr>\n",
       "      <th>2</th>\n",
       "      <td>2019-08-02</td>\n",
       "      <td>A</td>\n",
       "      <td>42</td>\n",
       "      <td>36</td>\n",
       "      <td>234381</td>\n",
       "      <td>1338</td>\n",
       "    </tr>\n",
       "    <tr>\n",
       "      <th>3</th>\n",
       "      <td>2019-08-02</td>\n",
       "      <td>B</td>\n",
       "      <td>40</td>\n",
       "      <td>39</td>\n",
       "      <td>221801</td>\n",
       "      <td>1294</td>\n",
       "    </tr>\n",
       "    <tr>\n",
       "      <th>4</th>\n",
       "      <td>2019-08-03</td>\n",
       "      <td>A</td>\n",
       "      <td>66</td>\n",
       "      <td>60</td>\n",
       "      <td>346854</td>\n",
       "      <td>1845</td>\n",
       "    </tr>\n",
       "  </tbody>\n",
       "</table>\n",
       "</div>"
      ],
      "text/plain": [
       "        date group  orders  buyers  revenue  visitors\n",
       "0 2019-08-01     A      23      19   142779       719\n",
       "1 2019-08-01     B      17      17    59758       713\n",
       "2 2019-08-02     A      42      36   234381      1338\n",
       "3 2019-08-02     B      40      39   221801      1294\n",
       "4 2019-08-03     A      66      60   346854      1845"
      ]
     },
     "execution_count": 39,
     "metadata": {},
     "output_type": "execute_result"
    }
   ],
   "source": [
    "cumulative_data.head()"
   ]
  },
  {
   "cell_type": "markdown",
   "metadata": {},
   "source": [
    "##### Let's plot cumulative revenue graphs by days and groups of A/B testing."
   ]
  },
  {
   "cell_type": "code",
   "execution_count": 40,
   "metadata": {},
   "outputs": [],
   "source": [
    "# Let's create a dataframe with a cumulative number of orders and cumulative revenue by days in group A\n",
    "cumulative_A = cumulative_data[cumulative_data['group']=='A'][['date','revenue', 'orders', 'visitors']]"
   ]
  },
  {
   "cell_type": "code",
   "execution_count": 41,
   "metadata": {},
   "outputs": [],
   "source": [
    "# Let's create a dataframe with a cumulative number of orders and cumulative revenue by days in group B\n",
    "cumulative_B = cumulative_data[cumulative_data['group']=='B'][['date','revenue', 'orders', 'visitors']]"
   ]
  },
  {
   "cell_type": "code",
   "execution_count": 42,
   "metadata": {},
   "outputs": [
    {
     "data": {
      "image/png": "[encoded data removed]",
      "text/plain": [
       "<Figure size 1000x600 with 1 Axes>"
      ]
     },
     "metadata": {},
     "output_type": "display_data"
    }
   ],
   "source": [
    "plt.figure(figsize=(10, 6))\n",
    "plt.plot(cumulative_A['date'], cumulative_A['revenue'], label='A')\n",
    "plt.plot(cumulative_B['date'], cumulative_B['revenue'], label='B')\n",
    "plt.legend()\n",
    "plt.xlabel('Testing date')\n",
    "plt.ylabel('Cumulative revenue')\n",
    "plt.title('Cumulative revenue charts by day and group')\n",
    "plt.xticks(rotation='45')\n",
    "plt.ticklabel_format(useOffset=False,style='plain', axis='y')\n",
    "plt.show()"
   ]
  },
  {
   "cell_type": "markdown",
   "metadata": {},
   "source": [
    "**Conclusion: Revenue increases throughout the test. At the same time, the schedule of group B has a sharp jump in the area of the date 18.08.2019.\n",
    "Perhaps this indicates the presence of abnormally large orders in this group.**"
   ]
  },
  {
   "cell_type": "markdown",
   "metadata": {},
   "source": [
    "##### Let's plot the cumulative average check by days and groups of A/B testing."
   ]
  },
  {
   "cell_type": "code",
   "execution_count": 43,
   "metadata": {},
   "outputs": [],
   "source": [
    "# We will add a column with an average cumulative check to each table\n",
    "cumulative_A['avg_check'] = cumulative_A['revenue'] / cumulative_A['orders']\n",
    "cumulative_B['avg_check'] = cumulative_B['revenue'] / cumulative_B['orders']"
   ]
  },
  {
   "cell_type": "code",
   "execution_count": 94,
   "metadata": {},
   "outputs": [
    {
     "data": {
      "image/png": "[encoded data removed]",
      "text/plain": [
       "<Figure size 1000x600 with 1 Axes>"
      ]
     },
     "metadata": {},
     "output_type": "display_data"
    }
   ],
   "source": [
    "plt.figure(figsize=(10, 6))\n",
    "plt.plot(cumulative_A['date'], cumulative_A['avg_check'], label='A')\n",
    "plt.plot(cumulative_B['date'], cumulative_B['avg_check'], label='B')\n",
    "plt.legend() \n",
    "plt.xlabel('Testing date')\n",
    "plt.ylabel('Cumulative average check')\n",
    "plt.title('Cumulative average check charts by days and groups')\n",
    "plt.xticks(rotation='45')\n",
    "plt.show()"
   ]
  },
  {
   "cell_type": "markdown",
   "metadata": {},
   "source": [
    "**Conclusion: At the end of the test, the average check of group A has stabilized, the average check of group B continues to decrease slightly.\n",
    "The assumption of abnormally large orders in group B is confirmed - we again see a sharp jump around the date of 18.08.2019.**"
   ]
  },
  {
   "cell_type": "markdown",
   "metadata": {},
   "source": [
    "##### Let's plot the relative change of the cumulative average check of group B to group A."
   ]
  },
  {
   "cell_type": "code",
   "execution_count": 45,
   "metadata": {},
   "outputs": [],
   "source": [
    "# We collect data in one dataframe\n",
    "cumulative_full = cumulative_A.merge(cumulative_B, on='date', how='left', suffixes=['A', 'B'])"
   ]
  },
  {
   "cell_type": "code",
   "execution_count": 46,
   "metadata": {},
   "outputs": [
    {
     "data": {
      "text/html": [
       "<div>\n",
       "<style scoped>\n",
       "    .dataframe tbody tr th:only-of-type {\n",
       "        vertical-align: middle;\n",
       "    }\n",
       "\n",
       "    .dataframe tbody tr th {\n",
       "        vertical-align: top;\n",
       "    }\n",
       "\n",
       "    .dataframe thead th {\n",
       "        text-align: right;\n",
       "    }\n",
       "</style>\n",
       "<table border=\"1\" class=\"dataframe\">\n",
       "  <thead>\n",
       "    <tr style=\"text-align: right;\">\n",
       "      <th></th>\n",
       "      <th>date</th>\n",
       "      <th>revenueA</th>\n",
       "      <th>ordersA</th>\n",
       "      <th>visitorsA</th>\n",
       "      <th>avg_checkA</th>\n",
       "      <th>revenueB</th>\n",
       "      <th>ordersB</th>\n",
       "      <th>visitorsB</th>\n",
       "      <th>avg_checkB</th>\n",
       "    </tr>\n",
       "  </thead>\n",
       "  <tbody>\n",
       "    <tr>\n",
       "      <th>0</th>\n",
       "      <td>2019-08-01</td>\n",
       "      <td>142779</td>\n",
       "      <td>23</td>\n",
       "      <td>719</td>\n",
       "      <td>6207.782609</td>\n",
       "      <td>59758</td>\n",
       "      <td>17</td>\n",
       "      <td>713</td>\n",
       "      <td>3515.176471</td>\n",
       "    </tr>\n",
       "    <tr>\n",
       "      <th>1</th>\n",
       "      <td>2019-08-02</td>\n",
       "      <td>234381</td>\n",
       "      <td>42</td>\n",
       "      <td>1338</td>\n",
       "      <td>5580.500000</td>\n",
       "      <td>221801</td>\n",
       "      <td>40</td>\n",
       "      <td>1294</td>\n",
       "      <td>5545.025000</td>\n",
       "    </tr>\n",
       "    <tr>\n",
       "      <th>2</th>\n",
       "      <td>2019-08-03</td>\n",
       "      <td>346854</td>\n",
       "      <td>66</td>\n",
       "      <td>1845</td>\n",
       "      <td>5255.363636</td>\n",
       "      <td>288850</td>\n",
       "      <td>54</td>\n",
       "      <td>1803</td>\n",
       "      <td>5349.074074</td>\n",
       "    </tr>\n",
       "    <tr>\n",
       "      <th>3</th>\n",
       "      <td>2019-08-04</td>\n",
       "      <td>388030</td>\n",
       "      <td>77</td>\n",
       "      <td>2562</td>\n",
       "      <td>5039.350649</td>\n",
       "      <td>385740</td>\n",
       "      <td>68</td>\n",
       "      <td>2573</td>\n",
       "      <td>5672.647059</td>\n",
       "    </tr>\n",
       "    <tr>\n",
       "      <th>4</th>\n",
       "      <td>2019-08-05</td>\n",
       "      <td>474413</td>\n",
       "      <td>99</td>\n",
       "      <td>3318</td>\n",
       "      <td>4792.050505</td>\n",
       "      <td>475648</td>\n",
       "      <td>89</td>\n",
       "      <td>3280</td>\n",
       "      <td>5344.359551</td>\n",
       "    </tr>\n",
       "  </tbody>\n",
       "</table>\n",
       "</div>"
      ],
      "text/plain": [
       "        date  revenueA  ordersA  visitorsA   avg_checkA  revenueB  ordersB  \\\n",
       "0 2019-08-01    142779       23        719  6207.782609     59758       17   \n",
       "1 2019-08-02    234381       42       1338  5580.500000    221801       40   \n",
       "2 2019-08-03    346854       66       1845  5255.363636    288850       54   \n",
       "3 2019-08-04    388030       77       2562  5039.350649    385740       68   \n",
       "4 2019-08-05    474413       99       3318  4792.050505    475648       89   \n",
       "\n",
       "   visitorsB   avg_checkB  \n",
       "0        713  3515.176471  \n",
       "1       1294  5545.025000  \n",
       "2       1803  5349.074074  \n",
       "3       2573  5672.647059  \n",
       "4       3280  5344.359551  "
      ]
     },
     "execution_count": 46,
     "metadata": {},
     "output_type": "execute_result"
    }
   ],
   "source": [
    "cumulative_full.head()"
   ]
  },
  {
   "cell_type": "code",
   "execution_count": 47,
   "metadata": {},
   "outputs": [],
   "source": [
    "# Let's add a column with the relative difference of the average checks\n",
    "cumulative_full['check_difference'] = (cumulative_full['avg_checkB'] / cumulative_full['avg_checkA']) - 1 "
   ]
  },
  {
   "cell_type": "code",
   "execution_count": 95,
   "metadata": {},
   "outputs": [
    {
     "name": "stderr",
     "output_type": "stream",
     "text": [
      "No handles with labels found to put in legend.\n"
     ]
    },
    {
     "data": {
      "image/png": "[encoded data removed]",
      "text/plain": [
       "<Figure size 1000x600 with 1 Axes>"
      ]
     },
     "metadata": {},
     "output_type": "display_data"
    }
   ],
   "source": [
    "plt.figure(figsize=(10, 6))\n",
    "plt.plot(cumulative_full['date'], cumulative_full['check_difference'])\n",
    "plt.legend() \n",
    "plt.xlabel('Testing date')\n",
    "plt.ylabel('The relative difference of the checks of group B to A')\n",
    "plt.title('Graph of the relative change in the cumulative average check of group B to group A')\n",
    "plt.axhline(y=0, color='black', linestyle='--') \n",
    "plt.xticks(rotation='45')\n",
    "plt.show()"
   ]
  },
  {
   "cell_type": "markdown",
   "metadata": {},
   "source": [
    "**Conclusion: At the beginning of testing, group B showed the best results, but there was a sharp decline around 10.08.2019, possibly due to the fact that group A also has abnormally large orders. \n",
    "Further, in the area of 18.08.2019, there is a sharp jump up due to abnormally large orders in group B.\n",
    "We also observe a rather sharp decline in the schedule in the period from 25.08.2019 to 29.08.2019, possibly due to abnormally large orders in Group A.**"
   ]
  },
  {
   "cell_type": "markdown",
   "metadata": {},
   "source": [
    "##### Let's plot the cumulative average number of orders per visitor by groups."
   ]
  },
  {
   "cell_type": "code",
   "execution_count": 49,
   "metadata": {},
   "outputs": [],
   "source": [
    "# Let's calculate the conversion in both tables\n",
    "cumulative_A['conversion'] = cumulative_A['orders'] / cumulative_A['visitors']\n",
    "cumulative_B['conversion'] = cumulative_B['orders'] / cumulative_B['visitors']"
   ]
  },
  {
   "cell_type": "code",
   "execution_count": 96,
   "metadata": {},
   "outputs": [
    {
     "data": {
      "image/png": "[encoded data removed]",
      "text/plain": [
       "<Figure size 1000x600 with 1 Axes>"
      ]
     },
     "metadata": {},
     "output_type": "display_data"
    }
   ],
   "source": [
    "plt.figure(figsize=(10, 6))\n",
    "plt.plot(cumulative_A['date'], cumulative_A['conversion'], label='A')\n",
    "plt.plot(cumulative_B['date'], cumulative_B['conversion'], label='B')\n",
    "plt.legend() \n",
    "plt.xlabel('Testing date')\n",
    "plt.ylabel('Cumulative average number of orders per user')\n",
    "plt.title('Graphs of cumulative average number of orders per user by days and groups')\n",
    "plt.axis([dt.datetime(2019, 8, 1), dt.datetime(2019, 8, 31), 0.02, 0.04])\n",
    "plt.show()"
   ]
  },
  {
   "cell_type": "markdown",
   "metadata": {},
   "source": [
    "**Conclusion: throughout almost the entire test, group B shows much better results than group A, by the end of the test, the indicators of the number of orders per visitor have stabilized.** "
   ]
  },
  {
   "cell_type": "markdown",
   "metadata": {},
   "source": [
    "##### Let's plot the relative change in the cumulative average number of orders per visitor of group B to group A"
   ]
  },
  {
   "cell_type": "code",
   "execution_count": 51,
   "metadata": {},
   "outputs": [],
   "source": [
    "cumulative_full_2 = cumulative_A.merge(cumulative_B, on='date', how='left', suffixes=['A', 'B'])"
   ]
  },
  {
   "cell_type": "code",
   "execution_count": 52,
   "metadata": {},
   "outputs": [
    {
     "data": {
      "text/html": [
       "<div>\n",
       "<style scoped>\n",
       "    .dataframe tbody tr th:only-of-type {\n",
       "        vertical-align: middle;\n",
       "    }\n",
       "\n",
       "    .dataframe tbody tr th {\n",
       "        vertical-align: top;\n",
       "    }\n",
       "\n",
       "    .dataframe thead th {\n",
       "        text-align: right;\n",
       "    }\n",
       "</style>\n",
       "<table border=\"1\" class=\"dataframe\">\n",
       "  <thead>\n",
       "    <tr style=\"text-align: right;\">\n",
       "      <th></th>\n",
       "      <th>date</th>\n",
       "      <th>revenueA</th>\n",
       "      <th>ordersA</th>\n",
       "      <th>visitorsA</th>\n",
       "      <th>avg_checkA</th>\n",
       "      <th>conversionA</th>\n",
       "      <th>revenueB</th>\n",
       "      <th>ordersB</th>\n",
       "      <th>visitorsB</th>\n",
       "      <th>avg_checkB</th>\n",
       "      <th>conversionB</th>\n",
       "    </tr>\n",
       "  </thead>\n",
       "  <tbody>\n",
       "    <tr>\n",
       "      <th>0</th>\n",
       "      <td>2019-08-01</td>\n",
       "      <td>142779</td>\n",
       "      <td>23</td>\n",
       "      <td>719</td>\n",
       "      <td>6207.782609</td>\n",
       "      <td>0.031989</td>\n",
       "      <td>59758</td>\n",
       "      <td>17</td>\n",
       "      <td>713</td>\n",
       "      <td>3515.176471</td>\n",
       "      <td>0.023843</td>\n",
       "    </tr>\n",
       "    <tr>\n",
       "      <th>1</th>\n",
       "      <td>2019-08-02</td>\n",
       "      <td>234381</td>\n",
       "      <td>42</td>\n",
       "      <td>1338</td>\n",
       "      <td>5580.500000</td>\n",
       "      <td>0.031390</td>\n",
       "      <td>221801</td>\n",
       "      <td>40</td>\n",
       "      <td>1294</td>\n",
       "      <td>5545.025000</td>\n",
       "      <td>0.030912</td>\n",
       "    </tr>\n",
       "    <tr>\n",
       "      <th>2</th>\n",
       "      <td>2019-08-03</td>\n",
       "      <td>346854</td>\n",
       "      <td>66</td>\n",
       "      <td>1845</td>\n",
       "      <td>5255.363636</td>\n",
       "      <td>0.035772</td>\n",
       "      <td>288850</td>\n",
       "      <td>54</td>\n",
       "      <td>1803</td>\n",
       "      <td>5349.074074</td>\n",
       "      <td>0.029950</td>\n",
       "    </tr>\n",
       "    <tr>\n",
       "      <th>3</th>\n",
       "      <td>2019-08-04</td>\n",
       "      <td>388030</td>\n",
       "      <td>77</td>\n",
       "      <td>2562</td>\n",
       "      <td>5039.350649</td>\n",
       "      <td>0.030055</td>\n",
       "      <td>385740</td>\n",
       "      <td>68</td>\n",
       "      <td>2573</td>\n",
       "      <td>5672.647059</td>\n",
       "      <td>0.026428</td>\n",
       "    </tr>\n",
       "    <tr>\n",
       "      <th>4</th>\n",
       "      <td>2019-08-05</td>\n",
       "      <td>474413</td>\n",
       "      <td>99</td>\n",
       "      <td>3318</td>\n",
       "      <td>4792.050505</td>\n",
       "      <td>0.029837</td>\n",
       "      <td>475648</td>\n",
       "      <td>89</td>\n",
       "      <td>3280</td>\n",
       "      <td>5344.359551</td>\n",
       "      <td>0.027134</td>\n",
       "    </tr>\n",
       "  </tbody>\n",
       "</table>\n",
       "</div>"
      ],
      "text/plain": [
       "        date  revenueA  ordersA  visitorsA   avg_checkA  conversionA  \\\n",
       "0 2019-08-01    142779       23        719  6207.782609     0.031989   \n",
       "1 2019-08-02    234381       42       1338  5580.500000     0.031390   \n",
       "2 2019-08-03    346854       66       1845  5255.363636     0.035772   \n",
       "3 2019-08-04    388030       77       2562  5039.350649     0.030055   \n",
       "4 2019-08-05    474413       99       3318  4792.050505     0.029837   \n",
       "\n",
       "   revenueB  ordersB  visitorsB   avg_checkB  conversionB  \n",
       "0     59758       17        713  3515.176471     0.023843  \n",
       "1    221801       40       1294  5545.025000     0.030912  \n",
       "2    288850       54       1803  5349.074074     0.029950  \n",
       "3    385740       68       2573  5672.647059     0.026428  \n",
       "4    475648       89       3280  5344.359551     0.027134  "
      ]
     },
     "execution_count": 52,
     "metadata": {},
     "output_type": "execute_result"
    }
   ],
   "source": [
    "cumulative_full_2.head()"
   ]
  },
  {
   "cell_type": "code",
   "execution_count": 53,
   "metadata": {},
   "outputs": [],
   "source": [
    "cumulative_full_2['conversion_difference'] = (cumulative_full_2['conversionB'] / cumulative_full_2['conversionA']) - 1"
   ]
  },
  {
   "cell_type": "code",
   "execution_count": 97,
   "metadata": {},
   "outputs": [
    {
     "name": "stderr",
     "output_type": "stream",
     "text": [
      "No handles with labels found to put in legend.\n"
     ]
    },
    {
     "data": {
      "image/png": "[encoded data removed]",
      "text/plain": [
       "<Figure size 1000x600 with 1 Axes>"
      ]
     },
     "metadata": {},
     "output_type": "display_data"
    }
   ],
   "source": [
    "plt.figure(figsize=(10, 6))\n",
    "plt.plot(cumulative_full_2['date'], cumulative_full_2['conversion_difference'])\n",
    "plt.legend() \n",
    "plt.xlabel('Testing date')\n",
    "plt.ylabel('The relative difference in the number of orders per user of group B to A')\n",
    "plt.title('Graph of the relative difference in the number of orders per user of group B to A')\n",
    "plt.axhline(y=0, color='black', linestyle='--') \n",
    "plt.xticks(rotation='45')\n",
    "plt.show()"
   ]
  },
  {
   "cell_type": "markdown",
   "metadata": {},
   "source": [
    "**Conclusion: Group B shows significantly better results, but perhaps this is due to abnormal values.**"
   ]
  },
  {
   "cell_type": "markdown",
   "metadata": {},
   "source": [
    "##### Let's build a dot graph of the number of orders by users"
   ]
  },
  {
   "cell_type": "code",
   "execution_count": 55,
   "metadata": {},
   "outputs": [
    {
     "data": {
      "text/html": [
       "<div>\n",
       "<style scoped>\n",
       "    .dataframe tbody tr th:only-of-type {\n",
       "        vertical-align: middle;\n",
       "    }\n",
       "\n",
       "    .dataframe tbody tr th {\n",
       "        vertical-align: top;\n",
       "    }\n",
       "\n",
       "    .dataframe thead th {\n",
       "        text-align: right;\n",
       "    }\n",
       "</style>\n",
       "<table border=\"1\" class=\"dataframe\">\n",
       "  <thead>\n",
       "    <tr style=\"text-align: right;\">\n",
       "      <th></th>\n",
       "      <th>transaction_id</th>\n",
       "      <th>visitor_id</th>\n",
       "      <th>date</th>\n",
       "      <th>revenue</th>\n",
       "      <th>group</th>\n",
       "    </tr>\n",
       "  </thead>\n",
       "  <tbody>\n",
       "    <tr>\n",
       "      <th>0</th>\n",
       "      <td>3667963787</td>\n",
       "      <td>3312258926</td>\n",
       "      <td>2019-08-15</td>\n",
       "      <td>1650</td>\n",
       "      <td>B</td>\n",
       "    </tr>\n",
       "    <tr>\n",
       "      <th>1</th>\n",
       "      <td>2804400009</td>\n",
       "      <td>3642806036</td>\n",
       "      <td>2019-08-15</td>\n",
       "      <td>730</td>\n",
       "      <td>B</td>\n",
       "    </tr>\n",
       "    <tr>\n",
       "      <th>3</th>\n",
       "      <td>3797467345</td>\n",
       "      <td>1196621759</td>\n",
       "      <td>2019-08-15</td>\n",
       "      <td>9759</td>\n",
       "      <td>B</td>\n",
       "    </tr>\n",
       "    <tr>\n",
       "      <th>4</th>\n",
       "      <td>2282983706</td>\n",
       "      <td>2322279887</td>\n",
       "      <td>2019-08-15</td>\n",
       "      <td>2308</td>\n",
       "      <td>B</td>\n",
       "    </tr>\n",
       "    <tr>\n",
       "      <th>5</th>\n",
       "      <td>182168103</td>\n",
       "      <td>935554773</td>\n",
       "      <td>2019-08-15</td>\n",
       "      <td>2210</td>\n",
       "      <td>B</td>\n",
       "    </tr>\n",
       "  </tbody>\n",
       "</table>\n",
       "</div>"
      ],
      "text/plain": [
       "   transaction_id  visitor_id       date  revenue group\n",
       "0      3667963787  3312258926 2019-08-15     1650     B\n",
       "1      2804400009  3642806036 2019-08-15      730     B\n",
       "3      3797467345  1196621759 2019-08-15     9759     B\n",
       "4      2282983706  2322279887 2019-08-15     2308     B\n",
       "5       182168103   935554773 2019-08-15     2210     B"
      ]
     },
     "execution_count": 55,
     "metadata": {},
     "output_type": "execute_result"
    }
   ],
   "source": [
    "orders.head()"
   ]
  },
  {
   "cell_type": "code",
   "execution_count": 56,
   "metadata": {},
   "outputs": [],
   "source": [
    "# Let's create a pivot table to calculate the number of orders per user\n",
    "order_per_user = orders.pivot_table(index='visitor_id', values='transaction_id', aggfunc=['nunique']).reset_index()"
   ]
  },
  {
   "cell_type": "code",
   "execution_count": 57,
   "metadata": {},
   "outputs": [],
   "source": [
    "order_per_user.columns = ['user_id', 'orders']"
   ]
  },
  {
   "cell_type": "code",
   "execution_count": 58,
   "metadata": {},
   "outputs": [
    {
     "data": {
      "text/html": [
       "<div>\n",
       "<style scoped>\n",
       "    .dataframe tbody tr th:only-of-type {\n",
       "        vertical-align: middle;\n",
       "    }\n",
       "\n",
       "    .dataframe tbody tr th {\n",
       "        vertical-align: top;\n",
       "    }\n",
       "\n",
       "    .dataframe thead th {\n",
       "        text-align: right;\n",
       "    }\n",
       "</style>\n",
       "<table border=\"1\" class=\"dataframe\">\n",
       "  <thead>\n",
       "    <tr style=\"text-align: right;\">\n",
       "      <th></th>\n",
       "      <th>user_id</th>\n",
       "      <th>orders</th>\n",
       "    </tr>\n",
       "  </thead>\n",
       "  <tbody>\n",
       "    <tr>\n",
       "      <th>0</th>\n",
       "      <td>5114589</td>\n",
       "      <td>1</td>\n",
       "    </tr>\n",
       "    <tr>\n",
       "      <th>1</th>\n",
       "      <td>6958315</td>\n",
       "      <td>1</td>\n",
       "    </tr>\n",
       "    <tr>\n",
       "      <th>2</th>\n",
       "      <td>11685486</td>\n",
       "      <td>1</td>\n",
       "    </tr>\n",
       "    <tr>\n",
       "      <th>3</th>\n",
       "      <td>39475350</td>\n",
       "      <td>1</td>\n",
       "    </tr>\n",
       "    <tr>\n",
       "      <th>4</th>\n",
       "      <td>47206413</td>\n",
       "      <td>1</td>\n",
       "    </tr>\n",
       "  </tbody>\n",
       "</table>\n",
       "</div>"
      ],
      "text/plain": [
       "    user_id  orders\n",
       "0   5114589       1\n",
       "1   6958315       1\n",
       "2  11685486       1\n",
       "3  39475350       1\n",
       "4  47206413       1"
      ]
     },
     "execution_count": 58,
     "metadata": {},
     "output_type": "execute_result"
    }
   ],
   "source": [
    "order_per_user.head()"
   ]
  },
  {
   "cell_type": "code",
   "execution_count": 98,
   "metadata": {},
   "outputs": [
    {
     "name": "stderr",
     "output_type": "stream",
     "text": [
      "No handles with labels found to put in legend.\n"
     ]
    },
    {
     "data": {
      "image/png": "[encoded data removed]",
      "text/plain": [
       "<Figure size 1000x600 with 1 Axes>"
      ]
     },
     "metadata": {},
     "output_type": "display_data"
    }
   ],
   "source": [
    "# Let's build a dot graph\n",
    "plt.figure(figsize=(10, 6))\n",
    "x_values = pd.Series(range(0,len(order_per_user['orders'])))\n",
    "plt.scatter(x_values, order_per_user['orders'])\n",
    "plt.legend() \n",
    "plt.xlabel('The length of the orders column')\n",
    "plt.ylabel('Number of orders per user')\n",
    "plt.title('Dot graph of the number of orders by users')\n",
    "plt.show()"
   ]
  },
  {
   "cell_type": "markdown",
   "metadata": {},
   "source": [
    "**Conclusion: the overwhelming number of users makes 1 order.**"
   ]
  },
  {
   "cell_type": "markdown",
   "metadata": {},
   "source": [
    "##### Let's calculate the 95th and 99th percentiles of the number of orders per user."
   ]
  },
  {
   "cell_type": "code",
   "execution_count": 60,
   "metadata": {},
   "outputs": [
    {
     "data": {
      "text/plain": [
       "array([1., 1., 2.])"
      ]
     },
     "execution_count": 60,
     "metadata": {},
     "output_type": "execute_result"
    }
   ],
   "source": [
    "np.percentile(order_per_user['orders'], [90, 95, 99])"
   ]
  },
  {
   "cell_type": "markdown",
   "metadata": {},
   "source": [
    "**Conclusion: users who make 2 orders or more will be considered abnormal.**"
   ]
  },
  {
   "cell_type": "markdown",
   "metadata": {},
   "source": [
    "##### Let's build a dot graph of the cost of orders"
   ]
  },
  {
   "cell_type": "code",
   "execution_count": 99,
   "metadata": {},
   "outputs": [
    {
     "name": "stderr",
     "output_type": "stream",
     "text": [
      "No handles with labels found to put in legend.\n"
     ]
    },
    {
     "data": {
      "image/png": "[encoded data removed]",
      "text/plain": [
       "<Figure size 1000x600 with 1 Axes>"
      ]
     },
     "metadata": {},
     "output_type": "display_data"
    }
   ],
   "source": [
    "plt.figure(figsize=(10, 6))\n",
    "x_values = pd.Series(range(0,len(orders['revenue'])))\n",
    "plt.scatter(x_values, orders['revenue'])\n",
    "plt.legend() \n",
    "plt.xlabel('Revenue column length')\n",
    "plt.ylabel('Cost of orders')\n",
    "plt.title('Dot chart of order values')\n",
    "plt.show()"
   ]
  },
  {
   "cell_type": "markdown",
   "metadata": {},
   "source": [
    "**According to such a schedule, it is difficult to draw any conclusions, so we will build the schedule again, taking into account the scale.**"
   ]
  },
  {
   "cell_type": "code",
   "execution_count": 100,
   "metadata": {},
   "outputs": [
    {
     "name": "stderr",
     "output_type": "stream",
     "text": [
      "No handles with labels found to put in legend.\n"
     ]
    },
    {
     "data": {
      "image/png": "[encoded data removed]",
      "text/plain": [
       "<Figure size 1000x600 with 1 Axes>"
      ]
     },
     "metadata": {},
     "output_type": "display_data"
    }
   ],
   "source": [
    "plt.figure(figsize=(10, 6))\n",
    "x_values = pd.Series(range(0,len(orders['revenue'])))\n",
    "plt.scatter(x_values, orders['revenue'])\n",
    "plt.legend() \n",
    "plt.xlabel('Revenue column length')\n",
    "plt.ylabel('Cost of orders')\n",
    "plt.title('Dot chart of order values')\n",
    "plt.axis([0, 1200, 0, 200000])\n",
    "plt.show()"
   ]
  },
  {
   "cell_type": "markdown",
   "metadata": {},
   "source": [
    "**Conclusion: the overwhelming number of orders ranges from 0 to 26,000 rubles inclusive.**"
   ]
  },
  {
   "cell_type": "markdown",
   "metadata": {},
   "source": [
    "##### Let's calculate the 95th and 99th percentiles of the cost of orders"
   ]
  },
  {
   "cell_type": "code",
   "execution_count": 63,
   "metadata": {},
   "outputs": [
    {
     "data": {
      "text/plain": [
       "array([17990., 26785., 53904.])"
      ]
     },
     "execution_count": 63,
     "metadata": {},
     "output_type": "execute_result"
    }
   ],
   "source": [
    "np.percentile(orders['revenue'], [90, 95, 99])"
   ]
  },
  {
   "cell_type": "markdown",
   "metadata": {},
   "source": [
    "**Conclusion: users who make orders for more than 30,000 rubles will be considered abnormal.**"
   ]
  },
  {
   "cell_type": "markdown",
   "metadata": {},
   "source": [
    "##### Let's calculate the statistical significance of differences in the average number of orders per visitor between groups based on \"raw\" data.\n",
    "Let's formulate hypotheses. \n",
    "H0 - there are no differences in the average number of orders between groups A and B.\n",
    "H1 - there are differences in the average number of orders between groups A and B."
   ]
  },
  {
   "cell_type": "code",
   "execution_count": 64,
   "metadata": {},
   "outputs": [],
   "source": [
    "# Let's start with data preparation\n",
    "visitorsADaily = visitors[visitors['group'] == 'A'][['date', 'visitors']]\n",
    "visitorsADaily.columns = ['date', 'visitorsPerDateA']\n",
    "\n",
    "visitorsACummulative = visitorsADaily.apply(\n",
    "    lambda x: visitorsADaily[visitorsADaily['date'] <= x['date']].agg(\n",
    "        {'date': 'max', 'visitorsPerDateA': 'sum'}\n",
    "    ),\n",
    "    axis=1,\n",
    ")\n",
    "visitorsACummulative.columns = ['date', 'visitorsCummulativeA']\n",
    "\n",
    "visitorsBDaily = visitors[visitors['group'] == 'B'][['date', 'visitors']]\n",
    "visitorsBDaily.columns = ['date', 'visitorsPerDateB']\n",
    "\n",
    "visitorsBCummulative = visitorsBDaily.apply(\n",
    "    lambda x: visitorsBDaily[visitorsBDaily['date'] <= x['date']].agg(\n",
    "        {'date': 'max', 'visitorsPerDateB': 'sum'}\n",
    "    ),\n",
    "    axis=1,\n",
    ")\n",
    "visitorsBCummulative.columns = ['date', 'visitorsCummulativeB']\n",
    "\n"
   ]
  },
  {
   "cell_type": "code",
   "execution_count": 65,
   "metadata": {},
   "outputs": [
    {
     "data": {
      "text/html": [
       "<div>\n",
       "<style scoped>\n",
       "    .dataframe tbody tr th:only-of-type {\n",
       "        vertical-align: middle;\n",
       "    }\n",
       "\n",
       "    .dataframe tbody tr th {\n",
       "        vertical-align: top;\n",
       "    }\n",
       "\n",
       "    .dataframe thead th {\n",
       "        text-align: right;\n",
       "    }\n",
       "</style>\n",
       "<table border=\"1\" class=\"dataframe\">\n",
       "  <thead>\n",
       "    <tr style=\"text-align: right;\">\n",
       "      <th></th>\n",
       "      <th>date</th>\n",
       "      <th>ordersPerDateA</th>\n",
       "      <th>revenuePerDateA</th>\n",
       "      <th>ordersPerDateB</th>\n",
       "      <th>revenuePerDateB</th>\n",
       "      <th>ordersCummulativeA</th>\n",
       "      <th>revenueCummulativeA</th>\n",
       "      <th>ordersCummulativeB</th>\n",
       "      <th>revenueCummulativeB</th>\n",
       "      <th>visitorsPerDateA</th>\n",
       "      <th>visitorsPerDateB</th>\n",
       "      <th>visitorsCummulativeA</th>\n",
       "      <th>visitorsCummulativeB</th>\n",
       "    </tr>\n",
       "  </thead>\n",
       "  <tbody>\n",
       "    <tr>\n",
       "      <th>0</th>\n",
       "      <td>2019-08-01</td>\n",
       "      <td>23</td>\n",
       "      <td>142779</td>\n",
       "      <td>17</td>\n",
       "      <td>59758</td>\n",
       "      <td>23</td>\n",
       "      <td>142779</td>\n",
       "      <td>17</td>\n",
       "      <td>59758</td>\n",
       "      <td>719</td>\n",
       "      <td>713</td>\n",
       "      <td>719</td>\n",
       "      <td>713</td>\n",
       "    </tr>\n",
       "    <tr>\n",
       "      <th>1</th>\n",
       "      <td>2019-08-02</td>\n",
       "      <td>19</td>\n",
       "      <td>91602</td>\n",
       "      <td>23</td>\n",
       "      <td>162043</td>\n",
       "      <td>42</td>\n",
       "      <td>234381</td>\n",
       "      <td>40</td>\n",
       "      <td>221801</td>\n",
       "      <td>619</td>\n",
       "      <td>581</td>\n",
       "      <td>1338</td>\n",
       "      <td>1294</td>\n",
       "    </tr>\n",
       "    <tr>\n",
       "      <th>2</th>\n",
       "      <td>2019-08-03</td>\n",
       "      <td>24</td>\n",
       "      <td>112473</td>\n",
       "      <td>14</td>\n",
       "      <td>67049</td>\n",
       "      <td>66</td>\n",
       "      <td>346854</td>\n",
       "      <td>54</td>\n",
       "      <td>288850</td>\n",
       "      <td>507</td>\n",
       "      <td>509</td>\n",
       "      <td>1845</td>\n",
       "      <td>1803</td>\n",
       "    </tr>\n",
       "    <tr>\n",
       "      <th>3</th>\n",
       "      <td>2019-08-04</td>\n",
       "      <td>11</td>\n",
       "      <td>41176</td>\n",
       "      <td>14</td>\n",
       "      <td>96890</td>\n",
       "      <td>77</td>\n",
       "      <td>388030</td>\n",
       "      <td>68</td>\n",
       "      <td>385740</td>\n",
       "      <td>717</td>\n",
       "      <td>770</td>\n",
       "      <td>2562</td>\n",
       "      <td>2573</td>\n",
       "    </tr>\n",
       "    <tr>\n",
       "      <th>4</th>\n",
       "      <td>2019-08-05</td>\n",
       "      <td>22</td>\n",
       "      <td>86383</td>\n",
       "      <td>21</td>\n",
       "      <td>89908</td>\n",
       "      <td>99</td>\n",
       "      <td>474413</td>\n",
       "      <td>89</td>\n",
       "      <td>475648</td>\n",
       "      <td>756</td>\n",
       "      <td>707</td>\n",
       "      <td>3318</td>\n",
       "      <td>3280</td>\n",
       "    </tr>\n",
       "  </tbody>\n",
       "</table>\n",
       "</div>"
      ],
      "text/plain": [
       "        date  ordersPerDateA  revenuePerDateA  ordersPerDateB  \\\n",
       "0 2019-08-01              23           142779              17   \n",
       "1 2019-08-02              19            91602              23   \n",
       "2 2019-08-03              24           112473              14   \n",
       "3 2019-08-04              11            41176              14   \n",
       "4 2019-08-05              22            86383              21   \n",
       "\n",
       "   revenuePerDateB  ordersCummulativeA  revenueCummulativeA  \\\n",
       "0            59758                  23               142779   \n",
       "1           162043                  42               234381   \n",
       "2            67049                  66               346854   \n",
       "3            96890                  77               388030   \n",
       "4            89908                  99               474413   \n",
       "\n",
       "   ordersCummulativeB  revenueCummulativeB  visitorsPerDateA  \\\n",
       "0                  17                59758               719   \n",
       "1                  40               221801               619   \n",
       "2                  54               288850               507   \n",
       "3                  68               385740               717   \n",
       "4                  89               475648               756   \n",
       "\n",
       "   visitorsPerDateB  visitorsCummulativeA  visitorsCummulativeB  \n",
       "0               713                   719                   713  \n",
       "1               581                  1338                  1294  \n",
       "2               509                  1845                  1803  \n",
       "3               770                  2562                  2573  \n",
       "4               707                  3318                  3280  "
      ]
     },
     "execution_count": 65,
     "metadata": {},
     "output_type": "execute_result"
    }
   ],
   "source": [
    "ordersADaily = (\n",
    "    orders[orders['group'] == 'A'][['date', 'transaction_id', 'visitor_id', 'revenue']]\n",
    "    .groupby('date', as_index=False)\n",
    "    .agg({'transaction_id': pd.Series.nunique, 'revenue': 'sum'})\n",
    ")\n",
    "ordersADaily.columns = ['date', 'ordersPerDateA', 'revenuePerDateA']\n",
    "\n",
    "ordersACummulative = ordersADaily.apply(\n",
    "    lambda x: ordersADaily[ordersADaily['date'] <= x['date']].agg(\n",
    "        {'date': 'max', 'ordersPerDateA': 'sum', 'revenuePerDateA': 'sum'}\n",
    "    ),\n",
    "    axis=1,\n",
    ").sort_values(by=['date'])\n",
    "ordersACummulative.columns = [\n",
    "    'date',\n",
    "    'ordersCummulativeA',\n",
    "    'revenueCummulativeA',\n",
    "]\n",
    "\n",
    "ordersBDaily = (\n",
    "    orders[orders['group'] == 'B'][['date', 'transaction_id', 'visitor_id', 'revenue']]\n",
    "    .groupby('date', as_index=False)\n",
    "    .agg({'transaction_id': pd.Series.nunique, 'revenue': 'sum'})\n",
    ")\n",
    "ordersBDaily.columns = ['date', 'ordersPerDateB', 'revenuePerDateB']\n",
    "\n",
    "ordersBCummulative = ordersBDaily.apply(\n",
    "    lambda x: ordersBDaily[ordersBDaily['date'] <= x['date']].agg(\n",
    "        {'date': 'max', 'ordersPerDateB': 'sum', 'revenuePerDateB': 'sum'}\n",
    "    ),\n",
    "    axis=1,\n",
    ").sort_values(by=['date'])\n",
    "ordersBCummulative.columns = [\n",
    "    'date',\n",
    "    'ordersCummulativeB',\n",
    "    'revenueCummulativeB',\n",
    "]\n",
    "\n",
    "data = (\n",
    "    ordersADaily.merge(\n",
    "        ordersBDaily, left_on='date', right_on='date', how='left'\n",
    "    )\n",
    "    .merge(ordersACummulative, left_on='date', right_on='date', how='left')\n",
    "    .merge(ordersBCummulative, left_on='date', right_on='date', how='left')\n",
    "    .merge(visitorsADaily, left_on='date', right_on='date', how='left')\n",
    "    .merge(visitorsBDaily, left_on='date', right_on='date', how='left')\n",
    "    .merge(visitorsACummulative, left_on='date', right_on='date', how='left')\n",
    "    .merge(visitorsBCummulative, left_on='date', right_on='date', how='left')\n",
    ")\n",
    "\n",
    "data.head()"
   ]
  },
  {
   "cell_type": "code",
   "execution_count": 66,
   "metadata": {},
   "outputs": [],
   "source": [
    "# Create variables ordersByUsersA and ordersByUsersB with columns ['userId', 'orders']. \n",
    "# In them, for users who have ordered at least 1 time, we will indicate the number of completed orders.\n",
    "ordersByUsersA = (\n",
    "    orders[orders['group'] == 'A']\n",
    "    .groupby('visitor_id', as_index=False)\n",
    "    .agg({'transaction_id': pd.Series.nunique})\n",
    ")\n",
    "ordersByUsersA.columns = ['user_id', 'orders']\n",
    "\n",
    "ordersByUsersB = (\n",
    "    orders[orders['group'] == 'B']\n",
    "    .groupby('visitor_id', as_index=False)\n",
    "    .agg({'transaction_id': pd.Series.nunique})\n",
    ")\n",
    "ordersByUsersB.columns = ['user_id', 'orders'] "
   ]
  },
  {
   "cell_type": "code",
   "execution_count": 67,
   "metadata": {},
   "outputs": [
    {
     "data": {
      "text/html": [
       "<div>\n",
       "<style scoped>\n",
       "    .dataframe tbody tr th:only-of-type {\n",
       "        vertical-align: middle;\n",
       "    }\n",
       "\n",
       "    .dataframe tbody tr th {\n",
       "        vertical-align: top;\n",
       "    }\n",
       "\n",
       "    .dataframe thead th {\n",
       "        text-align: right;\n",
       "    }\n",
       "</style>\n",
       "<table border=\"1\" class=\"dataframe\">\n",
       "  <thead>\n",
       "    <tr style=\"text-align: right;\">\n",
       "      <th></th>\n",
       "      <th>user_id</th>\n",
       "      <th>orders</th>\n",
       "    </tr>\n",
       "  </thead>\n",
       "  <tbody>\n",
       "    <tr>\n",
       "      <th>0</th>\n",
       "      <td>11685486</td>\n",
       "      <td>1</td>\n",
       "    </tr>\n",
       "    <tr>\n",
       "      <th>1</th>\n",
       "      <td>54447517</td>\n",
       "      <td>1</td>\n",
       "    </tr>\n",
       "    <tr>\n",
       "      <th>2</th>\n",
       "      <td>66685450</td>\n",
       "      <td>1</td>\n",
       "    </tr>\n",
       "    <tr>\n",
       "      <th>3</th>\n",
       "      <td>78758296</td>\n",
       "      <td>1</td>\n",
       "    </tr>\n",
       "    <tr>\n",
       "      <th>4</th>\n",
       "      <td>85103373</td>\n",
       "      <td>1</td>\n",
       "    </tr>\n",
       "  </tbody>\n",
       "</table>\n",
       "</div>"
      ],
      "text/plain": [
       "    user_id  orders\n",
       "0  11685486       1\n",
       "1  54447517       1\n",
       "2  66685450       1\n",
       "3  78758296       1\n",
       "4  85103373       1"
      ]
     },
     "metadata": {},
     "output_type": "display_data"
    },
    {
     "data": {
      "text/html": [
       "<div>\n",
       "<style scoped>\n",
       "    .dataframe tbody tr th:only-of-type {\n",
       "        vertical-align: middle;\n",
       "    }\n",
       "\n",
       "    .dataframe tbody tr th {\n",
       "        vertical-align: top;\n",
       "    }\n",
       "\n",
       "    .dataframe thead th {\n",
       "        text-align: right;\n",
       "    }\n",
       "</style>\n",
       "<table border=\"1\" class=\"dataframe\">\n",
       "  <thead>\n",
       "    <tr style=\"text-align: right;\">\n",
       "      <th></th>\n",
       "      <th>user_id</th>\n",
       "      <th>orders</th>\n",
       "    </tr>\n",
       "  </thead>\n",
       "  <tbody>\n",
       "    <tr>\n",
       "      <th>0</th>\n",
       "      <td>5114589</td>\n",
       "      <td>1</td>\n",
       "    </tr>\n",
       "    <tr>\n",
       "      <th>1</th>\n",
       "      <td>6958315</td>\n",
       "      <td>1</td>\n",
       "    </tr>\n",
       "    <tr>\n",
       "      <th>2</th>\n",
       "      <td>39475350</td>\n",
       "      <td>1</td>\n",
       "    </tr>\n",
       "    <tr>\n",
       "      <th>3</th>\n",
       "      <td>47206413</td>\n",
       "      <td>1</td>\n",
       "    </tr>\n",
       "    <tr>\n",
       "      <th>4</th>\n",
       "      <td>48147722</td>\n",
       "      <td>1</td>\n",
       "    </tr>\n",
       "  </tbody>\n",
       "</table>\n",
       "</div>"
      ],
      "text/plain": [
       "    user_id  orders\n",
       "0   5114589       1\n",
       "1   6958315       1\n",
       "2  39475350       1\n",
       "3  47206413       1\n",
       "4  48147722       1"
      ]
     },
     "execution_count": 67,
     "metadata": {},
     "output_type": "execute_result"
    }
   ],
   "source": [
    "display(ordersByUsersA.head())\n",
    "ordersByUsersB.head()"
   ]
  },
  {
   "cell_type": "code",
   "execution_count": 68,
   "metadata": {},
   "outputs": [],
   "source": [
    "# Declare the variables SampleA and SampleB, in which the number of orders will correspond to users from different groups. \n",
    "# Those who have not ordered anything will be matched with zeros\n",
    "sampleA = pd.concat([ordersByUsersA['orders'],pd.Series(0, index=np.arange(data['visitorsPerDateA'].sum()\\\n",
    "                                                                - len(ordersByUsersA['orders'])), name='orders')],axis=0)\n",
    "\n",
    "sampleB = pd.concat([ordersByUsersB['orders'],pd.Series(0, index=np.arange(data['visitorsPerDateB'].sum()\\\n",
    "                                                                 - len(ordersByUsersB['orders'])), name='orders')],axis=0) "
   ]
  },
  {
   "cell_type": "code",
   "execution_count": 101,
   "metadata": {},
   "outputs": [
    {
     "name": "stdout",
     "output_type": "stream",
     "text": [
      "p-значение: 0.011\n",
      "We reject the null hypothesis\n"
     ]
    }
   ],
   "source": [
    "# Apply the Mann-Whitney criterion and format the p-value by rounding it to three decimal places.\n",
    "# The significance level will be considered equal to 0.05\n",
    "alpha = 0.05\n",
    "results = stats.mannwhitneyu(sampleA, sampleB)[1]\n",
    "print('p-значение:', round(results, 3))\n",
    "if results < alpha:\n",
    "    print('We reject the null hypothesis')\n",
    "else:\n",
    "    print('It was not possible to reject the null hypothesis')"
   ]
  },
  {
   "cell_type": "code",
   "execution_count": 70,
   "metadata": {},
   "outputs": [
    {
     "data": {
      "text/plain": [
       "0.16"
      ]
     },
     "execution_count": 70,
     "metadata": {},
     "output_type": "execute_result"
    }
   ],
   "source": [
    "# Let's calculate the relative increase in the average number of orders of group B relative to group A\n",
    "round(sampleB.mean() / sampleA.mean() - 1, 2)"
   ]
  },
  {
   "cell_type": "markdown",
   "metadata": {},
   "source": [
    "**Conclusion: the Mann-Whitney test on raw data showed that there are differences in the average number of orders between groups. This is also confirmed by the calculation of the relative increase in the average number of orders in group B: the number of orders in group B is 16% more than in group A.**"
   ]
  },
  {
   "cell_type": "markdown",
   "metadata": {},
   "source": [
    "##### Let's calculate the statistical significance of differences in the average order receipt between groups based on \"raw\" data.\n",
    "Let's formulate hypotheses. \n",
    "H0 - there are no differences in the average check between groups A and B. \n",
    "H1 - there are differences in the average check between groups A and B."
   ]
  },
  {
   "cell_type": "code",
   "execution_count": 71,
   "metadata": {},
   "outputs": [],
   "source": [
    "# Let's create samples with the values of the average check for groups A and B\n",
    "revenue_A = orders[orders['group']=='A']['revenue']\n",
    "revenue_B = orders[orders['group']=='B']['revenue']"
   ]
  },
  {
   "cell_type": "code",
   "execution_count": 102,
   "metadata": {},
   "outputs": [
    {
     "name": "stdout",
     "output_type": "stream",
     "text": [
      "p-value: 0.829\n",
      "It was not possible to reject the null hypothesis\n"
     ]
    }
   ],
   "source": [
    "# Apply the Mann-Whitney criterion and format the p-value by rounding it to three decimal places.\n",
    "# The significance level will be considered equal to 0.05\n",
    "alpha = 0.05\n",
    "results = stats.mannwhitneyu(revenue_A, revenue_B)[1]\n",
    "print('p-value:', round(results, 3))\n",
    "if results < alpha:\n",
    "    print('We reject the null hypothesis')\n",
    "else:\n",
    "    print('It was not possible to reject the null hypothesis')"
   ]
  },
  {
   "cell_type": "code",
   "execution_count": 73,
   "metadata": {},
   "outputs": [
    {
     "data": {
      "text/plain": [
       "0.29"
      ]
     },
     "execution_count": 73,
     "metadata": {},
     "output_type": "execute_result"
    }
   ],
   "source": [
    "# Let's calculate the relative increase in the average check of group B relative to group A\n",
    "round(revenue_B.mean() / revenue_A.mean() - 1, 2)"
   ]
  },
  {
   "cell_type": "markdown",
   "metadata": {},
   "source": [
    "**Conclusion: The average check of group B is 29% higher than the average check of group A, however, the Mann-Whitney test on raw data showed that there are no differences in the average check between groups.\n",
    "Accordingly, it can be concluded that the difference of 29% is not statistically significant and there are no differences in the average check between groups A and B.**"
   ]
  },
  {
   "cell_type": "markdown",
   "metadata": {},
   "source": [
    "##### Let's calculate the statistical significance of differences in the average number of orders per visitor between groups based on \"cleaned\" data.\n",
    "Let's formulate hypotheses. \n",
    "H0 - there are no differences in the average number of orders between groups A and B.\n",
    "H1 - there are differences in the average number of orders between groups A and B."
   ]
  },
  {
   "cell_type": "code",
   "execution_count": 74,
   "metadata": {},
   "outputs": [
    {
     "data": {
      "text/html": [
       "<div>\n",
       "<style scoped>\n",
       "    .dataframe tbody tr th:only-of-type {\n",
       "        vertical-align: middle;\n",
       "    }\n",
       "\n",
       "    .dataframe tbody tr th {\n",
       "        vertical-align: top;\n",
       "    }\n",
       "\n",
       "    .dataframe thead th {\n",
       "        text-align: right;\n",
       "    }\n",
       "</style>\n",
       "<table border=\"1\" class=\"dataframe\">\n",
       "  <thead>\n",
       "    <tr style=\"text-align: right;\">\n",
       "      <th></th>\n",
       "      <th>user_id</th>\n",
       "      <th>orders</th>\n",
       "    </tr>\n",
       "  </thead>\n",
       "  <tbody>\n",
       "    <tr>\n",
       "      <th>0</th>\n",
       "      <td>5114589</td>\n",
       "      <td>1</td>\n",
       "    </tr>\n",
       "    <tr>\n",
       "      <th>1</th>\n",
       "      <td>6958315</td>\n",
       "      <td>1</td>\n",
       "    </tr>\n",
       "    <tr>\n",
       "      <th>2</th>\n",
       "      <td>11685486</td>\n",
       "      <td>1</td>\n",
       "    </tr>\n",
       "    <tr>\n",
       "      <th>3</th>\n",
       "      <td>39475350</td>\n",
       "      <td>1</td>\n",
       "    </tr>\n",
       "    <tr>\n",
       "      <th>4</th>\n",
       "      <td>47206413</td>\n",
       "      <td>1</td>\n",
       "    </tr>\n",
       "  </tbody>\n",
       "</table>\n",
       "</div>"
      ],
      "text/plain": [
       "    user_id  orders\n",
       "0   5114589       1\n",
       "1   6958315       1\n",
       "2  11685486       1\n",
       "3  39475350       1\n",
       "4  47206413       1"
      ]
     },
     "execution_count": 74,
     "metadata": {},
     "output_type": "execute_result"
    }
   ],
   "source": [
    "order_per_user.head()"
   ]
  },
  {
   "cell_type": "code",
   "execution_count": 75,
   "metadata": {},
   "outputs": [
    {
     "data": {
      "text/html": [
       "<div>\n",
       "<style scoped>\n",
       "    .dataframe tbody tr th:only-of-type {\n",
       "        vertical-align: middle;\n",
       "    }\n",
       "\n",
       "    .dataframe tbody tr th {\n",
       "        vertical-align: top;\n",
       "    }\n",
       "\n",
       "    .dataframe thead th {\n",
       "        text-align: right;\n",
       "    }\n",
       "</style>\n",
       "<table border=\"1\" class=\"dataframe\">\n",
       "  <thead>\n",
       "    <tr style=\"text-align: right;\">\n",
       "      <th></th>\n",
       "      <th>transaction_id</th>\n",
       "      <th>visitor_id</th>\n",
       "      <th>date</th>\n",
       "      <th>revenue</th>\n",
       "      <th>group</th>\n",
       "    </tr>\n",
       "  </thead>\n",
       "  <tbody>\n",
       "    <tr>\n",
       "      <th>0</th>\n",
       "      <td>3667963787</td>\n",
       "      <td>3312258926</td>\n",
       "      <td>2019-08-15</td>\n",
       "      <td>1650</td>\n",
       "      <td>B</td>\n",
       "    </tr>\n",
       "    <tr>\n",
       "      <th>1</th>\n",
       "      <td>2804400009</td>\n",
       "      <td>3642806036</td>\n",
       "      <td>2019-08-15</td>\n",
       "      <td>730</td>\n",
       "      <td>B</td>\n",
       "    </tr>\n",
       "    <tr>\n",
       "      <th>3</th>\n",
       "      <td>3797467345</td>\n",
       "      <td>1196621759</td>\n",
       "      <td>2019-08-15</td>\n",
       "      <td>9759</td>\n",
       "      <td>B</td>\n",
       "    </tr>\n",
       "    <tr>\n",
       "      <th>4</th>\n",
       "      <td>2282983706</td>\n",
       "      <td>2322279887</td>\n",
       "      <td>2019-08-15</td>\n",
       "      <td>2308</td>\n",
       "      <td>B</td>\n",
       "    </tr>\n",
       "    <tr>\n",
       "      <th>5</th>\n",
       "      <td>182168103</td>\n",
       "      <td>935554773</td>\n",
       "      <td>2019-08-15</td>\n",
       "      <td>2210</td>\n",
       "      <td>B</td>\n",
       "    </tr>\n",
       "  </tbody>\n",
       "</table>\n",
       "</div>"
      ],
      "text/plain": [
       "   transaction_id  visitor_id       date  revenue group\n",
       "0      3667963787  3312258926 2019-08-15     1650     B\n",
       "1      2804400009  3642806036 2019-08-15      730     B\n",
       "3      3797467345  1196621759 2019-08-15     9759     B\n",
       "4      2282983706  2322279887 2019-08-15     2308     B\n",
       "5       182168103   935554773 2019-08-15     2210     B"
      ]
     },
     "execution_count": 75,
     "metadata": {},
     "output_type": "execute_result"
    }
   ],
   "source": [
    "orders.head()"
   ]
  },
  {
   "cell_type": "code",
   "execution_count": 76,
   "metadata": {},
   "outputs": [
    {
     "data": {
      "text/plain": [
       "55      249864742\n",
       "138     611059232\n",
       "478    2108163459\n",
       "632    2742574263\n",
       "687    2988190573\n",
       "dtype: int64"
      ]
     },
     "metadata": {},
     "output_type": "display_data"
    },
    {
     "data": {
      "text/plain": [
       "49"
      ]
     },
     "execution_count": 76,
     "metadata": {},
     "output_type": "execute_result"
    }
   ],
   "source": [
    "# We will get a table of users with abnormal values of the number of orders and the amount of orders\n",
    "users_with_many_orders = order_per_user.query('orders > 2')['user_id']\n",
    "users_with_expensive_orders = orders[orders['revenue'] > 30000]['visitor_id']\n",
    "abnormal_users = pd.concat([users_with_many_orders, users_with_expensive_orders], axis=0).drop_duplicates()\n",
    "\n",
    "display(abnormal_users.head())\n",
    "abnormal_users.shape[0]"
   ]
  },
  {
   "cell_type": "code",
   "execution_count": 77,
   "metadata": {},
   "outputs": [],
   "source": [
    "# In groups A and B, we will leave only those orders that relate to \"normal\" users\n",
    "orders_A_filtered = ordersByUsersA[np.logical_not(ordersByUsersA['user_id'].isin(abnormal_users))]['orders']\n",
    "orders_B_filtered = ordersByUsersB[np.logical_not(ordersByUsersB['user_id'].isin(abnormal_users))]['orders']"
   ]
  },
  {
   "cell_type": "code",
   "execution_count": 78,
   "metadata": {},
   "outputs": [],
   "source": [
    "# Declare the variables sample_filtered and sampleB_filtered, in which the number of orders will correspond to users from different groups. \n",
    "# Those who have not ordered anything will be matched with zeros\n",
    "sampleA_filtered = pd.concat([orders_A_filtered, pd.Series(0, index=np.arange(data['visitorsPerDateA'].sum()\\\n",
    "                                                                    - len(ordersByUsersA['orders'])), name='orders')],axis=0)\n",
    "\n",
    "sampleB_filtered = pd.concat([orders_B_filtered, pd.Series(0, index=np.arange(data['visitorsPerDateB'].sum()\\\n",
    "                                                                    - len(ordersByUsersB['orders'])), name='orders')],axis=0) "
   ]
  },
  {
   "cell_type": "code",
   "execution_count": 103,
   "metadata": {},
   "outputs": [
    {
     "name": "stdout",
     "output_type": "stream",
     "text": [
      "p-value: 0.01\n",
      "We reject the null hypothesis\n"
     ]
    }
   ],
   "source": [
    "# Apply the Mann-Whitney criterion and format the p-value by rounding it to three decimal places.\n",
    "# The significance level will be considered equal to 0.05\n",
    "alpha = 0.05\n",
    "results = stats.mannwhitneyu(sampleA_filtered, sampleB_filtered)[1]\n",
    "print('p-value:', round(results, 3))\n",
    "if results < alpha:\n",
    "    print('We reject the null hypothesis')\n",
    "else:\n",
    "    print('It was not possible to reject the null hypothesis')"
   ]
  },
  {
   "cell_type": "code",
   "execution_count": 80,
   "metadata": {},
   "outputs": [
    {
     "data": {
      "text/plain": [
       "0.19"
      ]
     },
     "execution_count": 80,
     "metadata": {},
     "output_type": "execute_result"
    }
   ],
   "source": [
    "# Let's calculate the relative increase in the average number of orders of group B relative to group A\n",
    "round(sampleB_filtered.mean() / sampleA_filtered.mean() - 1, 2)"
   ]
  },
  {
   "cell_type": "markdown",
   "metadata": {},
   "source": [
    "**Conclusion: the Mann-Whitney test on the cleared data showed that there are differences in the average number of orders between groups. This is also confirmed by the calculation of the relative increase in the average number of orders in group B: the number of orders in group B is 19% more than in group A.**"
   ]
  },
  {
   "cell_type": "markdown",
   "metadata": {},
   "source": [
    "##### Let's calculate the statistical significance of the differences in the average order receipt between the groups according to the \"cleared\" data.\n",
    "Let's formulate hypotheses. \n",
    "H0 - there are no differences in the average check between groups A and B. \n",
    "H1 - there are differences in the average check between groups A and B.  "
   ]
  },
  {
   "cell_type": "code",
   "execution_count": 81,
   "metadata": {},
   "outputs": [
    {
     "data": {
      "text/html": [
       "<div>\n",
       "<style scoped>\n",
       "    .dataframe tbody tr th:only-of-type {\n",
       "        vertical-align: middle;\n",
       "    }\n",
       "\n",
       "    .dataframe tbody tr th {\n",
       "        vertical-align: top;\n",
       "    }\n",
       "\n",
       "    .dataframe thead th {\n",
       "        text-align: right;\n",
       "    }\n",
       "</style>\n",
       "<table border=\"1\" class=\"dataframe\">\n",
       "  <thead>\n",
       "    <tr style=\"text-align: right;\">\n",
       "      <th></th>\n",
       "      <th>transaction_id</th>\n",
       "      <th>visitor_id</th>\n",
       "      <th>date</th>\n",
       "      <th>revenue</th>\n",
       "      <th>group</th>\n",
       "    </tr>\n",
       "  </thead>\n",
       "  <tbody>\n",
       "    <tr>\n",
       "      <th>0</th>\n",
       "      <td>3667963787</td>\n",
       "      <td>3312258926</td>\n",
       "      <td>2019-08-15</td>\n",
       "      <td>1650</td>\n",
       "      <td>B</td>\n",
       "    </tr>\n",
       "    <tr>\n",
       "      <th>1</th>\n",
       "      <td>2804400009</td>\n",
       "      <td>3642806036</td>\n",
       "      <td>2019-08-15</td>\n",
       "      <td>730</td>\n",
       "      <td>B</td>\n",
       "    </tr>\n",
       "    <tr>\n",
       "      <th>3</th>\n",
       "      <td>3797467345</td>\n",
       "      <td>1196621759</td>\n",
       "      <td>2019-08-15</td>\n",
       "      <td>9759</td>\n",
       "      <td>B</td>\n",
       "    </tr>\n",
       "    <tr>\n",
       "      <th>4</th>\n",
       "      <td>2282983706</td>\n",
       "      <td>2322279887</td>\n",
       "      <td>2019-08-15</td>\n",
       "      <td>2308</td>\n",
       "      <td>B</td>\n",
       "    </tr>\n",
       "    <tr>\n",
       "      <th>5</th>\n",
       "      <td>182168103</td>\n",
       "      <td>935554773</td>\n",
       "      <td>2019-08-15</td>\n",
       "      <td>2210</td>\n",
       "      <td>B</td>\n",
       "    </tr>\n",
       "  </tbody>\n",
       "</table>\n",
       "</div>"
      ],
      "text/plain": [
       "   transaction_id  visitor_id       date  revenue group\n",
       "0      3667963787  3312258926 2019-08-15     1650     B\n",
       "1      2804400009  3642806036 2019-08-15      730     B\n",
       "3      3797467345  1196621759 2019-08-15     9759     B\n",
       "4      2282983706  2322279887 2019-08-15     2308     B\n",
       "5       182168103   935554773 2019-08-15     2210     B"
      ]
     },
     "execution_count": 81,
     "metadata": {},
     "output_type": "execute_result"
    }
   ],
   "source": [
    "orders.head()"
   ]
  },
  {
   "cell_type": "code",
   "execution_count": 82,
   "metadata": {},
   "outputs": [],
   "source": [
    "# Let's create samples with the values of the average check for groups A and B\n",
    "revenue_A_filtered = orders[np.logical_and(orders['group']=='A', \n",
    "                                           np.logical_not(orders['visitor_id'].isin(abnormal_users)))]['revenue']\n",
    "revenue_B_filtered = orders[np.logical_and(orders['group']=='B', \n",
    "                                           np.logical_not(orders['visitor_id'].isin(abnormal_users)))]['revenue']"
   ]
  },
  {
   "cell_type": "code",
   "execution_count": 104,
   "metadata": {},
   "outputs": [
    {
     "name": "stdout",
     "output_type": "stream",
     "text": [
      "p-value: 0.741\n",
      "It was not possible to reject the null hypothesis\n"
     ]
    }
   ],
   "source": [
    "# Apply the Mann-Whitney criterion and format the p-value by rounding it to three decimal places.\n",
    "# The significance level will be considered equal to 0.05\n",
    "alpha = 0.05\n",
    "results = stats.mannwhitneyu(revenue_A_filtered, revenue_B_filtered)[1]\n",
    "print('p-value:', round(results, 3))\n",
    "if results < alpha:\n",
    "    print('We reject the null hypothesis')\n",
    "else:\n",
    "    print('It was not possible to reject the null hypothesis')"
   ]
  },
  {
   "cell_type": "code",
   "execution_count": 84,
   "metadata": {},
   "outputs": [
    {
     "data": {
      "text/plain": [
       "-0.03"
      ]
     },
     "execution_count": 84,
     "metadata": {},
     "output_type": "execute_result"
    }
   ],
   "source": [
    "# Let's calculate the relative increase in the average check of group B relative to group A\n",
    "round(revenue_B_filtered.mean() / revenue_A_filtered.mean() - 1, 2)"
   ]
  },
  {
   "cell_type": "markdown",
   "metadata": {},
   "source": [
    "**Conclusion: the average check of group B is 3% lower than the average check of group A, the Mann-Whitney test on the cleared data showed that there are no differences in the average check between the groups.\n",
    "Accordingly, we can conclude that this difference is not significant.**"
   ]
  },
  {
   "cell_type": "markdown",
   "metadata": {},
   "source": [
    "**Let's see how the graphs of the relative change in the number of orders and the average receipt will behave if we remove abnormal users.**"
   ]
  },
  {
   "cell_type": "code",
   "execution_count": 85,
   "metadata": {},
   "outputs": [],
   "source": [
    "# We leave orders only for normal users\n",
    "orders_wihout_abnormal = orders[np.logical_not(orders['visitor_id'].isin(abnormal_users))]"
   ]
  },
  {
   "cell_type": "code",
   "execution_count": 86,
   "metadata": {},
   "outputs": [],
   "source": [
    "# We get aggregated cumulative data on orders by days\n",
    "orders_wihout_abnormal_aggr = datesGroups.apply\\\n",
    "(lambda x: orders_wihout_abnormal[np.logical_and(orders_wihout_abnormal['date'] <= x['date'], \n",
    "                                                 orders_wihout_abnormal['group'] == x['group'])]\\\n",
    " .agg({'date' : 'max', 'group' : 'max', 'transaction_id' : 'nunique', 'visitor_id' : 'nunique', 'revenue' : 'sum'}), axis=1)\\\n",
    ".sort_values(by=['date','group'])"
   ]
  },
  {
   "cell_type": "code",
   "execution_count": 87,
   "metadata": {},
   "outputs": [],
   "source": [
    "# We combine cumulative data in one table and assign understandable names to its columns\n",
    "cumulative_data_filtered = orders_wihout_abnormal_aggr.merge(visitors_aggregated, left_on=['date', 'group'], \n",
    "                                                             right_on=['date', 'group'])\n",
    "cumulative_data_filtered.columns = ['date', 'group', 'orders', 'buyers', 'revenue', 'visitors']"
   ]
  },
  {
   "cell_type": "code",
   "execution_count": 88,
   "metadata": {},
   "outputs": [],
   "source": [
    "# Let's create a dataframe with a cumulative number of orders and cumulative revenue by days in group A\n",
    "cumulative_A_filtered = cumulative_data_filtered[cumulative_data['group']=='A'][['date','revenue', 'orders', 'visitors']]\n",
    "cumulative_B_filtered = cumulative_data_filtered[cumulative_data['group']=='B'][['date','revenue', 'orders', 'visitors']]"
   ]
  },
  {
   "cell_type": "code",
   "execution_count": 89,
   "metadata": {},
   "outputs": [],
   "source": [
    "# We will add a column with an average cumulative receipt and conversion to each table\n",
    "cumulative_A_filtered['conversion'] = cumulative_A_filtered['orders'] / cumulative_A_filtered['visitors']\n",
    "cumulative_B_filtered['conversion'] = cumulative_B_filtered['orders'] / cumulative_B_filtered['visitors']\n",
    "cumulative_A_filtered['avg_check'] = cumulative_A_filtered['revenue'] / cumulative_A_filtered['orders']\n",
    "cumulative_B_filtered['avg_check'] = cumulative_B_filtered['revenue'] / cumulative_B_filtered['orders']"
   ]
  },
  {
   "cell_type": "code",
   "execution_count": 90,
   "metadata": {},
   "outputs": [
    {
     "data": {
      "text/html": [
       "<div>\n",
       "<style scoped>\n",
       "    .dataframe tbody tr th:only-of-type {\n",
       "        vertical-align: middle;\n",
       "    }\n",
       "\n",
       "    .dataframe tbody tr th {\n",
       "        vertical-align: top;\n",
       "    }\n",
       "\n",
       "    .dataframe thead th {\n",
       "        text-align: right;\n",
       "    }\n",
       "</style>\n",
       "<table border=\"1\" class=\"dataframe\">\n",
       "  <thead>\n",
       "    <tr style=\"text-align: right;\">\n",
       "      <th></th>\n",
       "      <th>date</th>\n",
       "      <th>revenueA</th>\n",
       "      <th>ordersA</th>\n",
       "      <th>visitorsA</th>\n",
       "      <th>conversionA</th>\n",
       "      <th>avg_checkA</th>\n",
       "      <th>revenueB</th>\n",
       "      <th>ordersB</th>\n",
       "      <th>visitorsB</th>\n",
       "      <th>conversionB</th>\n",
       "      <th>avg_checkB</th>\n",
       "    </tr>\n",
       "  </thead>\n",
       "  <tbody>\n",
       "    <tr>\n",
       "      <th>0</th>\n",
       "      <td>2019-08-01</td>\n",
       "      <td>112340</td>\n",
       "      <td>18</td>\n",
       "      <td>719</td>\n",
       "      <td>0.025035</td>\n",
       "      <td>6241.111111</td>\n",
       "      <td>59758</td>\n",
       "      <td>17</td>\n",
       "      <td>713</td>\n",
       "      <td>0.023843</td>\n",
       "      <td>3515.176471</td>\n",
       "    </tr>\n",
       "    <tr>\n",
       "      <th>1</th>\n",
       "      <td>2019-08-02</td>\n",
       "      <td>202252</td>\n",
       "      <td>36</td>\n",
       "      <td>1338</td>\n",
       "      <td>0.026906</td>\n",
       "      <td>5618.111111</td>\n",
       "      <td>152992</td>\n",
       "      <td>38</td>\n",
       "      <td>1294</td>\n",
       "      <td>0.029366</td>\n",
       "      <td>4026.105263</td>\n",
       "    </tr>\n",
       "    <tr>\n",
       "      <th>2</th>\n",
       "      <td>2019-08-03</td>\n",
       "      <td>314725</td>\n",
       "      <td>60</td>\n",
       "      <td>1845</td>\n",
       "      <td>0.032520</td>\n",
       "      <td>5245.416667</td>\n",
       "      <td>220041</td>\n",
       "      <td>52</td>\n",
       "      <td>1803</td>\n",
       "      <td>0.028841</td>\n",
       "      <td>4231.557692</td>\n",
       "    </tr>\n",
       "    <tr>\n",
       "      <th>3</th>\n",
       "      <td>2019-08-04</td>\n",
       "      <td>355901</td>\n",
       "      <td>71</td>\n",
       "      <td>2562</td>\n",
       "      <td>0.027713</td>\n",
       "      <td>5012.690141</td>\n",
       "      <td>285581</td>\n",
       "      <td>65</td>\n",
       "      <td>2573</td>\n",
       "      <td>0.025262</td>\n",
       "      <td>4393.553846</td>\n",
       "    </tr>\n",
       "    <tr>\n",
       "      <th>4</th>\n",
       "      <td>2019-08-05</td>\n",
       "      <td>442284</td>\n",
       "      <td>93</td>\n",
       "      <td>3318</td>\n",
       "      <td>0.028029</td>\n",
       "      <td>4755.741935</td>\n",
       "      <td>375489</td>\n",
       "      <td>86</td>\n",
       "      <td>3280</td>\n",
       "      <td>0.026220</td>\n",
       "      <td>4366.151163</td>\n",
       "    </tr>\n",
       "  </tbody>\n",
       "</table>\n",
       "</div>"
      ],
      "text/plain": [
       "        date  revenueA  ordersA  visitorsA  conversionA   avg_checkA  \\\n",
       "0 2019-08-01    112340       18        719     0.025035  6241.111111   \n",
       "1 2019-08-02    202252       36       1338     0.026906  5618.111111   \n",
       "2 2019-08-03    314725       60       1845     0.032520  5245.416667   \n",
       "3 2019-08-04    355901       71       2562     0.027713  5012.690141   \n",
       "4 2019-08-05    442284       93       3318     0.028029  4755.741935   \n",
       "\n",
       "   revenueB  ordersB  visitorsB  conversionB   avg_checkB  \n",
       "0     59758       17        713     0.023843  3515.176471  \n",
       "1    152992       38       1294     0.029366  4026.105263  \n",
       "2    220041       52       1803     0.028841  4231.557692  \n",
       "3    285581       65       2573     0.025262  4393.553846  \n",
       "4    375489       86       3280     0.026220  4366.151163  "
      ]
     },
     "execution_count": 90,
     "metadata": {},
     "output_type": "execute_result"
    }
   ],
   "source": [
    "# Combining the data into one table\n",
    "cumulative_full_filtered = cumulative_A_filtered.merge(cumulative_B_filtered, on='date', how='left', suffixes=['A', 'B'])\n",
    "cumulative_full_filtered.head()"
   ]
  },
  {
   "cell_type": "code",
   "execution_count": 91,
   "metadata": {},
   "outputs": [],
   "source": [
    "# We consider the difference in the number of orders and the average receipt\n",
    "cumulative_full_filtered['check_difference'] = \\\n",
    "(cumulative_full_filtered['avg_checkB'] / cumulative_full_filtered['avg_checkA']) - 1\n",
    "\n",
    "cumulative_full_filtered['conversion_difference'] = \\\n",
    "(cumulative_full_filtered['conversionB'] / cumulative_full_filtered['conversionA']) - 1\n"
   ]
  },
  {
   "cell_type": "code",
   "execution_count": 105,
   "metadata": {},
   "outputs": [
    {
     "name": "stderr",
     "output_type": "stream",
     "text": [
      "No handles with labels found to put in legend.\n"
     ]
    },
    {
     "data": {
      "image/png": "[encoded data removed]",
      "text/plain": [
       "<Figure size 1000x600 with 1 Axes>"
      ]
     },
     "metadata": {},
     "output_type": "display_data"
    }
   ],
   "source": [
    "# Building graphs\n",
    "plt.figure(figsize=(10, 6))\n",
    "plt.plot(cumulative_full_filtered['date'], cumulative_full_filtered['check_difference'])\n",
    "plt.legend() \n",
    "plt.xlabel('Testing date')\n",
    "plt.ylabel('The relative difference of the average checks of group B to A')\n",
    "plt.title('Graph of the relative change in the cumulative average check of group B to group A')\n",
    "plt.axhline(y=0, color='black', linestyle='--') \n",
    "plt.xticks(rotation='45')\n",
    "plt.show()"
   ]
  },
  {
   "cell_type": "code",
   "execution_count": 106,
   "metadata": {},
   "outputs": [
    {
     "name": "stderr",
     "output_type": "stream",
     "text": [
      "No handles with labels found to put in legend.\n"
     ]
    },
    {
     "data": {
      "image/png": "[encoded data removed]",
      "text/plain": [
       "<Figure size 1000x600 with 1 Axes>"
      ]
     },
     "metadata": {},
     "output_type": "display_data"
    }
   ],
   "source": [
    "plt.figure(figsize=(10, 6))\n",
    "plt.plot(cumulative_full_filtered['date'], cumulative_full_filtered['conversion_difference'])\n",
    "plt.legend() \n",
    "plt.xlabel('Testing date')\n",
    "plt.ylabel('The difference in the number of orders of group B to A')\n",
    "plt.title('Graph of the relative difference in the number of orders per user of group B to A')\n",
    "plt.axhline(y=0, color='black', linestyle='--') \n",
    "plt.xticks(rotation='45')\n",
    "plt.show()"
   ]
  },
  {
   "cell_type": "markdown",
   "metadata": {},
   "source": [
    "**The graphs confirm the test results - Group B is better in terms of the number of orders, but slightly inferior in terms of the average check.**"
   ]
  },
  {
   "cell_type": "markdown",
   "metadata": {},
   "source": [
    "##### Let's summarize the results of the test:\n",
    "1. There is a statistically significant difference in conversion between groups A and B, and Group B has a higher conversion rate (both for raw and purified data).\n",
    "2. There is no statistically significant difference between groups A and B in the average check of the groups (both for raw and purified data).\n",
    "Accordingly, it is necessary to make a decision to stop the experiment and record the victory of group B."
   ]
  },
  {
   "cell_type": "markdown",
   "metadata": {},
   "source": [
    "# General conclusion on the project.\n",
    "In this project, we prioritized hypotheses, ran an A/B test and analyzed the results.\n",
    "The project is divided into several parts: in the first part, we studied the general information about the submitted data and checked them for omissions and duplicates. No duplicates or omissions were found. 58 users were also found to fall into both groups. It was decided to remove these users from consideration.\n",
    "\n",
    "In the second part, we prioritized hypotheses using the RICE and ICE frameworks. We got different results. \n",
    "When using the ICE framework, hypothesis No. 8 \"Launch a promotion giving a discount on a product on your birthday\" won.\n",
    "When using the RICE framework, hypothesis No. 7 was defeated: \"Add a subscription form to all the main pages in order to collect a customer base for email newsletters.\" \n",
    "The difference in the results is due to the fact that the RICE framework additionally takes into account the reach parameter, so hypothesis No. 7 received the highest score for which the reach parameter is 10.\n",
    "\n",
    "In the third part, we analyzed the A/B test. We were able to establish the following:\n",
    "1. When analyzing the graphs of cumulative revenue and cumulative average receipt, it was found that there are abnormally large orders in group B.\n",
    "2. According to the \"raw\" data, Group B showed significantly better results. Both by the average number of orders per user and by the average receipt.\n",
    "3. A decision was made to cut off abnormal users: with the number of orders greater than 1 and the order size greater than 30,000 rubles.\n",
    "4. The Mann-Whitney statistical test on \"raw\" data showed the following:\n",
    "- 4.1 There is a statistically significant difference between groups A and B in the number of orders per user, the difference was 16% in favor of group B.\n",
    "- 4.2 There is no statistically significant difference in the average check between groups A and B.\n",
    "5. The Mann-Whitney statistical test on \"cleaned\" data showed the following:\n",
    "- 5.1 There is a statistically significant difference between groups A and B in the number of orders per user, the difference was 19% in favor of group B.\n",
    "- 5.2 There is no statistically significant difference in the average check between groups A and B.\n",
    "\n",
    "Based on the test results, it was decided to stop the experiment and record the victory of group B.\n"
   ]
  }
 ],
 "metadata": {
  "ExecuteTimeLog": [
   {
    "duration": 3202,
    "start_time": "2023-07-03T16:21:35.066Z"
   },
   {
    "duration": 110,
    "start_time": "2023-07-03T16:21:38.271Z"
   },
   {
    "duration": 14,
    "start_time": "2023-07-03T16:21:38.384Z"
   },
   {
    "duration": 13,
    "start_time": "2023-07-03T16:21:38.401Z"
   },
   {
    "duration": 18,
    "start_time": "2023-07-03T16:21:38.416Z"
   },
   {
    "duration": 91,
    "start_time": "2023-07-03T16:21:38.436Z"
   },
   {
    "duration": 9,
    "start_time": "2023-07-03T16:21:38.528Z"
   },
   {
    "duration": 14,
    "start_time": "2023-07-03T16:21:38.539Z"
   },
   {
    "duration": 5,
    "start_time": "2023-07-03T16:21:38.555Z"
   },
   {
    "duration": 14,
    "start_time": "2023-07-03T16:21:38.563Z"
   },
   {
    "duration": 11,
    "start_time": "2023-07-03T16:21:38.578Z"
   },
   {
    "duration": 26,
    "start_time": "2023-07-03T16:21:38.591Z"
   },
   {
    "duration": 5,
    "start_time": "2023-07-03T16:21:38.619Z"
   },
   {
    "duration": 14,
    "start_time": "2023-07-03T16:21:38.626Z"
   },
   {
    "duration": 92,
    "start_time": "2023-07-03T16:21:38.641Z"
   },
   {
    "duration": 8,
    "start_time": "2023-07-03T16:21:38.735Z"
   },
   {
    "duration": 12,
    "start_time": "2023-07-03T16:21:38.744Z"
   },
   {
    "duration": 11,
    "start_time": "2023-07-03T16:21:38.758Z"
   },
   {
    "duration": 17,
    "start_time": "2023-07-03T16:21:38.771Z"
   },
   {
    "duration": 14,
    "start_time": "2023-07-03T16:21:38.789Z"
   },
   {
    "duration": 6,
    "start_time": "2023-07-03T16:21:38.805Z"
   },
   {
    "duration": 8,
    "start_time": "2023-07-03T16:21:38.813Z"
   },
   {
    "duration": 15,
    "start_time": "2023-07-03T16:21:38.823Z"
   },
   {
    "duration": 4,
    "start_time": "2023-07-03T16:21:38.840Z"
   },
   {
    "duration": 23,
    "start_time": "2023-07-03T16:21:38.845Z"
   },
   {
    "duration": 32,
    "start_time": "2023-07-03T16:21:38.870Z"
   },
   {
    "duration": 13,
    "start_time": "2023-07-03T16:21:38.904Z"
   },
   {
    "duration": 17,
    "start_time": "2023-07-03T16:21:38.922Z"
   },
   {
    "duration": 179,
    "start_time": "2023-07-03T16:21:38.941Z"
   },
   {
    "duration": 9,
    "start_time": "2023-07-03T16:21:39.121Z"
   },
   {
    "duration": 156,
    "start_time": "2023-07-03T16:21:39.131Z"
   },
   {
    "duration": 13,
    "start_time": "2023-07-03T16:21:39.289Z"
   },
   {
    "duration": 18,
    "start_time": "2023-07-03T16:21:39.304Z"
   },
   {
    "duration": 16,
    "start_time": "2023-07-03T16:21:39.323Z"
   },
   {
    "duration": 12,
    "start_time": "2023-07-03T16:21:39.341Z"
   },
   {
    "duration": 10,
    "start_time": "2023-07-03T16:21:39.355Z"
   },
   {
    "duration": 356,
    "start_time": "2023-07-03T16:21:39.366Z"
   },
   {
    "duration": 8,
    "start_time": "2023-07-03T16:21:39.724Z"
   },
   {
    "duration": 269,
    "start_time": "2023-07-03T16:21:39.734Z"
   },
   {
    "duration": 12,
    "start_time": "2023-07-03T16:21:40.005Z"
   },
   {
    "duration": 42,
    "start_time": "2023-07-03T16:21:40.020Z"
   },
   {
    "duration": 12,
    "start_time": "2023-07-03T16:21:40.064Z"
   },
   {
    "duration": 415,
    "start_time": "2023-07-03T16:21:40.078Z"
   },
   {
    "duration": 6,
    "start_time": "2023-07-03T16:21:40.495Z"
   },
   {
    "duration": 243,
    "start_time": "2023-07-03T16:21:40.503Z"
   },
   {
    "duration": 8,
    "start_time": "2023-07-03T16:21:40.747Z"
   },
   {
    "duration": 32,
    "start_time": "2023-07-03T16:21:40.757Z"
   },
   {
    "duration": 11,
    "start_time": "2023-07-03T16:21:40.791Z"
   },
   {
    "duration": 349,
    "start_time": "2023-07-03T16:21:40.804Z"
   },
   {
    "duration": 9,
    "start_time": "2023-07-03T16:21:41.155Z"
   },
   {
    "duration": 13,
    "start_time": "2023-07-03T16:21:41.166Z"
   },
   {
    "duration": 7,
    "start_time": "2023-07-03T16:21:41.181Z"
   },
   {
    "duration": 29,
    "start_time": "2023-07-03T16:21:41.189Z"
   },
   {
    "duration": 182,
    "start_time": "2023-07-03T16:21:41.220Z"
   },
   {
    "duration": 13,
    "start_time": "2023-07-03T16:21:41.404Z"
   },
   {
    "duration": 203,
    "start_time": "2023-07-03T16:21:41.419Z"
   },
   {
    "duration": 209,
    "start_time": "2023-07-03T16:21:41.623Z"
   },
   {
    "duration": 6,
    "start_time": "2023-07-03T16:21:41.834Z"
   },
   {
    "duration": 214,
    "start_time": "2023-07-03T16:21:41.842Z"
   },
   {
    "duration": 162,
    "start_time": "2023-07-03T16:21:42.058Z"
   },
   {
    "duration": 174,
    "start_time": "2023-07-03T16:21:42.222Z"
   },
   {
    "duration": 16,
    "start_time": "2023-07-03T16:21:42.398Z"
   },
   {
    "duration": 266,
    "start_time": "2023-07-03T16:21:42.416Z"
   },
   {
    "duration": 28,
    "start_time": "2023-07-03T16:21:42.683Z"
   },
   {
    "duration": 8,
    "start_time": "2023-07-03T16:21:42.713Z"
   },
   {
    "duration": 36,
    "start_time": "2023-07-03T16:21:42.723Z"
   },
   {
    "duration": 11,
    "start_time": "2023-07-03T16:21:42.761Z"
   },
   {
    "duration": 28,
    "start_time": "2023-07-03T16:21:42.773Z"
   },
   {
    "duration": 17,
    "start_time": "2023-07-03T16:21:42.803Z"
   },
   {
    "duration": 17,
    "start_time": "2023-07-03T16:21:42.823Z"
   },
   {
    "duration": 25,
    "start_time": "2023-07-03T16:21:42.842Z"
   },
   {
    "duration": 13,
    "start_time": "2023-07-03T16:21:42.869Z"
   },
   {
    "duration": 17,
    "start_time": "2023-07-03T16:21:42.883Z"
   },
   {
    "duration": 51,
    "start_time": "2023-07-03T16:21:42.902Z"
   },
   {
    "duration": 5,
    "start_time": "2023-07-03T16:21:42.955Z"
   },
   {
    "duration": 29,
    "start_time": "2023-07-03T16:21:42.961Z"
   },
   {
    "duration": 28,
    "start_time": "2023-07-03T16:21:42.991Z"
   },
   {
    "duration": 26,
    "start_time": "2023-07-03T16:21:43.021Z"
   },
   {
    "duration": 5,
    "start_time": "2023-07-03T16:21:43.049Z"
   },
   {
    "duration": 27,
    "start_time": "2023-07-03T16:21:43.056Z"
   },
   {
    "duration": 238,
    "start_time": "2023-07-03T16:21:43.085Z"
   },
   {
    "duration": 7,
    "start_time": "2023-07-03T16:21:43.329Z"
   },
   {
    "duration": 17,
    "start_time": "2023-07-03T16:21:43.339Z"
   },
   {
    "duration": 49,
    "start_time": "2023-07-03T16:21:43.359Z"
   },
   {
    "duration": 73,
    "start_time": "2023-07-03T16:21:43.410Z"
   },
   {
    "duration": 26,
    "start_time": "2023-07-03T16:21:43.484Z"
   },
   {
    "duration": 364,
    "start_time": "2023-07-03T16:21:43.512Z"
   },
   {
    "duration": 371,
    "start_time": "2023-07-03T16:21:43.878Z"
   },
   {
    "duration": 1373,
    "start_time": "2023-07-05T06:23:05.409Z"
   },
   {
    "duration": 156,
    "start_time": "2023-07-05T06:23:06.784Z"
   },
   {
    "duration": 15,
    "start_time": "2023-07-05T06:23:06.943Z"
   },
   {
    "duration": 11,
    "start_time": "2023-07-05T06:23:06.960Z"
   },
   {
    "duration": 16,
    "start_time": "2023-07-05T06:23:06.973Z"
   },
   {
    "duration": 233,
    "start_time": "2023-07-05T06:23:06.991Z"
   },
   {
    "duration": 12,
    "start_time": "2023-07-05T06:23:07.225Z"
   },
   {
    "duration": 20,
    "start_time": "2023-07-05T06:23:07.239Z"
   },
   {
    "duration": 4,
    "start_time": "2023-07-05T06:23:07.261Z"
   },
   {
    "duration": 17,
    "start_time": "2023-07-05T06:23:07.266Z"
   },
   {
    "duration": 9,
    "start_time": "2023-07-05T06:23:07.285Z"
   },
   {
    "duration": 10,
    "start_time": "2023-07-05T06:23:07.296Z"
   },
   {
    "duration": 30,
    "start_time": "2023-07-05T06:23:07.308Z"
   },
   {
    "duration": 19,
    "start_time": "2023-07-05T06:23:07.344Z"
   },
   {
    "duration": 94,
    "start_time": "2023-07-05T06:23:07.365Z"
   },
   {
    "duration": 9,
    "start_time": "2023-07-05T06:23:07.461Z"
   },
   {
    "duration": 15,
    "start_time": "2023-07-05T06:23:07.472Z"
   },
   {
    "duration": 10,
    "start_time": "2023-07-05T06:23:07.489Z"
   },
   {
    "duration": 10,
    "start_time": "2023-07-05T06:23:07.500Z"
   },
   {
    "duration": 8,
    "start_time": "2023-07-05T06:23:07.511Z"
   },
   {
    "duration": 13,
    "start_time": "2023-07-05T06:23:07.520Z"
   },
   {
    "duration": 24,
    "start_time": "2023-07-05T06:23:07.534Z"
   },
   {
    "duration": 11,
    "start_time": "2023-07-05T06:23:07.561Z"
   },
   {
    "duration": 5,
    "start_time": "2023-07-05T06:23:07.574Z"
   },
   {
    "duration": 7,
    "start_time": "2023-07-05T06:23:07.581Z"
   },
   {
    "duration": 5,
    "start_time": "2023-07-05T06:23:07.590Z"
   },
   {
    "duration": 6,
    "start_time": "2023-07-05T06:23:07.597Z"
   },
   {
    "duration": 37,
    "start_time": "2023-07-05T06:23:07.604Z"
   },
   {
    "duration": 24,
    "start_time": "2023-07-05T06:23:07.643Z"
   },
   {
    "duration": 14,
    "start_time": "2023-07-05T06:23:07.669Z"
   },
   {
    "duration": 19,
    "start_time": "2023-07-05T06:23:07.684Z"
   },
   {
    "duration": 11,
    "start_time": "2023-07-05T06:23:07.705Z"
   },
   {
    "duration": 12,
    "start_time": "2023-07-05T06:23:07.718Z"
   },
   {
    "duration": 200,
    "start_time": "2023-07-05T06:23:07.731Z"
   },
   {
    "duration": 11,
    "start_time": "2023-07-05T06:23:07.933Z"
   },
   {
    "duration": 134,
    "start_time": "2023-07-05T06:23:07.946Z"
   },
   {
    "duration": 13,
    "start_time": "2023-07-05T06:23:08.082Z"
   },
   {
    "duration": 20,
    "start_time": "2023-07-05T06:23:08.097Z"
   },
   {
    "duration": 22,
    "start_time": "2023-07-05T06:23:08.119Z"
   },
   {
    "duration": 27,
    "start_time": "2023-07-05T06:23:08.143Z"
   },
   {
    "duration": 5,
    "start_time": "2023-07-05T06:23:08.179Z"
   },
   {
    "duration": 305,
    "start_time": "2023-07-05T06:23:08.186Z"
   },
   {
    "duration": 6,
    "start_time": "2023-07-05T06:23:08.493Z"
   },
   {
    "duration": 224,
    "start_time": "2023-07-05T06:23:08.500Z"
   },
   {
    "duration": 10,
    "start_time": "2023-07-05T06:23:08.725Z"
   },
   {
    "duration": 34,
    "start_time": "2023-07-05T06:23:08.737Z"
   },
   {
    "duration": 10,
    "start_time": "2023-07-05T06:23:08.773Z"
   },
   {
    "duration": 394,
    "start_time": "2023-07-05T06:23:08.784Z"
   },
   {
    "duration": 5,
    "start_time": "2023-07-05T06:23:09.180Z"
   },
   {
    "duration": 227,
    "start_time": "2023-07-05T06:23:09.186Z"
   },
   {
    "duration": 7,
    "start_time": "2023-07-05T06:23:09.415Z"
   },
   {
    "duration": 29,
    "start_time": "2023-07-05T06:23:09.431Z"
   },
   {
    "duration": 19,
    "start_time": "2023-07-05T06:23:09.462Z"
   },
   {
    "duration": 300,
    "start_time": "2023-07-05T06:23:09.483Z"
   },
   {
    "duration": 8,
    "start_time": "2023-07-05T06:23:09.784Z"
   },
   {
    "duration": 11,
    "start_time": "2023-07-05T06:23:09.794Z"
   },
   {
    "duration": 3,
    "start_time": "2023-07-05T06:23:09.807Z"
   },
   {
    "duration": 24,
    "start_time": "2023-07-05T06:23:09.831Z"
   },
   {
    "duration": 179,
    "start_time": "2023-07-05T06:23:09.857Z"
   },
   {
    "duration": 7,
    "start_time": "2023-07-05T06:23:10.038Z"
   },
   {
    "duration": 180,
    "start_time": "2023-07-05T06:23:10.047Z"
   },
   {
    "duration": 185,
    "start_time": "2023-07-05T06:23:10.228Z"
   },
   {
    "duration": 5,
    "start_time": "2023-07-05T06:23:10.415Z"
   },
   {
    "duration": 201,
    "start_time": "2023-07-05T06:23:10.432Z"
   },
   {
    "duration": 140,
    "start_time": "2023-07-05T06:23:10.636Z"
   },
   {
    "duration": 204,
    "start_time": "2023-07-05T06:23:10.778Z"
   },
   {
    "duration": 12,
    "start_time": "2023-07-05T06:23:10.983Z"
   },
   {
    "duration": 35,
    "start_time": "2023-07-05T06:23:10.997Z"
   },
   {
    "duration": 93,
    "start_time": "2023-07-05T06:23:11.034Z"
   },
   {
    "duration": 22,
    "start_time": "2023-07-05T06:23:11.130Z"
   },
   {
    "duration": 70,
    "start_time": "2023-07-05T06:23:11.154Z"
   },
   {
    "duration": 57,
    "start_time": "2023-07-05T06:23:11.226Z"
   },
   {
    "duration": 65,
    "start_time": "2023-07-05T06:23:11.285Z"
   },
   {
    "duration": 81,
    "start_time": "2023-07-05T06:23:11.353Z"
   },
   {
    "duration": 50,
    "start_time": "2023-07-05T06:23:11.436Z"
   },
   {
    "duration": 31,
    "start_time": "2023-07-05T06:23:11.488Z"
   },
   {
    "duration": 33,
    "start_time": "2023-07-05T06:23:11.520Z"
   },
   {
    "duration": 36,
    "start_time": "2023-07-05T06:23:11.555Z"
   },
   {
    "duration": 68,
    "start_time": "2023-07-05T06:23:11.593Z"
   },
   {
    "duration": 6,
    "start_time": "2023-07-05T06:23:11.663Z"
   },
   {
    "duration": 51,
    "start_time": "2023-07-05T06:23:11.671Z"
   },
   {
    "duration": 53,
    "start_time": "2023-07-05T06:23:11.723Z"
   },
   {
    "duration": 58,
    "start_time": "2023-07-05T06:23:11.778Z"
   },
   {
    "duration": 49,
    "start_time": "2023-07-05T06:23:11.839Z"
   },
   {
    "duration": 30,
    "start_time": "2023-07-05T06:23:11.890Z"
   },
   {
    "duration": 231,
    "start_time": "2023-07-05T06:23:11.922Z"
   },
   {
    "duration": 6,
    "start_time": "2023-07-05T06:23:12.155Z"
   },
   {
    "duration": 32,
    "start_time": "2023-07-05T06:23:12.164Z"
   },
   {
    "duration": 35,
    "start_time": "2023-07-05T06:23:12.198Z"
   },
   {
    "duration": 46,
    "start_time": "2023-07-05T06:23:12.235Z"
   },
   {
    "duration": 34,
    "start_time": "2023-07-05T06:23:12.282Z"
   },
   {
    "duration": 347,
    "start_time": "2023-07-05T06:23:12.318Z"
   },
   {
    "duration": 320,
    "start_time": "2023-07-05T06:23:12.667Z"
   },
   {
    "duration": 1248,
    "start_time": "2023-07-07T07:42:52.049Z"
   },
   {
    "duration": 208,
    "start_time": "2023-07-07T07:42:53.300Z"
   },
   {
    "duration": 17,
    "start_time": "2023-07-07T07:42:53.509Z"
   },
   {
    "duration": 14,
    "start_time": "2023-07-07T07:42:53.528Z"
   },
   {
    "duration": 16,
    "start_time": "2023-07-07T07:42:53.544Z"
   },
   {
    "duration": 189,
    "start_time": "2023-07-07T07:42:53.562Z"
   },
   {
    "duration": 10,
    "start_time": "2023-07-07T07:42:53.753Z"
   },
   {
    "duration": 14,
    "start_time": "2023-07-07T07:42:53.766Z"
   },
   {
    "duration": 20,
    "start_time": "2023-07-07T07:42:53.782Z"
   },
   {
    "duration": 19,
    "start_time": "2023-07-07T07:42:53.804Z"
   },
   {
    "duration": 21,
    "start_time": "2023-07-07T07:42:53.825Z"
   },
   {
    "duration": 54,
    "start_time": "2023-07-07T07:42:53.848Z"
   },
   {
    "duration": 9,
    "start_time": "2023-07-07T07:42:53.904Z"
   },
   {
    "duration": 8,
    "start_time": "2023-07-07T07:42:53.918Z"
   },
   {
    "duration": 156,
    "start_time": "2023-07-07T07:42:53.929Z"
   },
   {
    "duration": 9,
    "start_time": "2023-07-07T07:42:54.087Z"
   },
   {
    "duration": 12,
    "start_time": "2023-07-07T07:42:54.098Z"
   },
   {
    "duration": 29,
    "start_time": "2023-07-07T07:42:54.112Z"
   },
   {
    "duration": 10,
    "start_time": "2023-07-07T07:42:54.143Z"
   },
   {
    "duration": 9,
    "start_time": "2023-07-07T07:42:54.155Z"
   },
   {
    "duration": 10,
    "start_time": "2023-07-07T07:42:54.165Z"
   },
   {
    "duration": 16,
    "start_time": "2023-07-07T07:42:54.177Z"
   },
   {
    "duration": 23,
    "start_time": "2023-07-07T07:42:54.195Z"
   },
   {
    "duration": 7,
    "start_time": "2023-07-07T07:42:54.221Z"
   },
   {
    "duration": 6,
    "start_time": "2023-07-07T07:42:54.229Z"
   },
   {
    "duration": 7,
    "start_time": "2023-07-07T07:42:54.237Z"
   },
   {
    "duration": 6,
    "start_time": "2023-07-07T07:42:54.246Z"
   },
   {
    "duration": 18,
    "start_time": "2023-07-07T07:42:54.254Z"
   },
   {
    "duration": 6,
    "start_time": "2023-07-07T07:42:54.274Z"
   },
   {
    "duration": 43,
    "start_time": "2023-07-07T07:42:54.281Z"
   },
   {
    "duration": 19,
    "start_time": "2023-07-07T07:42:54.326Z"
   },
   {
    "duration": 8,
    "start_time": "2023-07-07T07:42:54.348Z"
   },
   {
    "duration": 9,
    "start_time": "2023-07-07T07:42:54.358Z"
   },
   {
    "duration": 220,
    "start_time": "2023-07-07T07:42:54.369Z"
   },
   {
    "duration": 9,
    "start_time": "2023-07-07T07:42:54.591Z"
   },
   {
    "duration": 143,
    "start_time": "2023-07-07T07:42:54.614Z"
   },
   {
    "duration": 8,
    "start_time": "2023-07-07T07:42:54.759Z"
   },
   {
    "duration": 9,
    "start_time": "2023-07-07T07:42:54.769Z"
   },
   {
    "duration": 35,
    "start_time": "2023-07-07T07:42:54.780Z"
   },
   {
    "duration": 5,
    "start_time": "2023-07-07T07:42:54.817Z"
   },
   {
    "duration": 7,
    "start_time": "2023-07-07T07:42:54.828Z"
   },
   {
    "duration": 321,
    "start_time": "2023-07-07T07:42:54.837Z"
   },
   {
    "duration": 7,
    "start_time": "2023-07-07T07:42:55.160Z"
   },
   {
    "duration": 263,
    "start_time": "2023-07-07T07:42:55.169Z"
   },
   {
    "duration": 11,
    "start_time": "2023-07-07T07:42:55.436Z"
   },
   {
    "duration": 25,
    "start_time": "2023-07-07T07:42:55.449Z"
   },
   {
    "duration": 16,
    "start_time": "2023-07-07T07:42:55.476Z"
   },
   {
    "duration": 353,
    "start_time": "2023-07-07T07:42:55.495Z"
   },
   {
    "duration": 7,
    "start_time": "2023-07-07T07:42:55.851Z"
   },
   {
    "duration": 260,
    "start_time": "2023-07-07T07:42:55.860Z"
   },
   {
    "duration": 8,
    "start_time": "2023-07-07T07:42:56.122Z"
   },
   {
    "duration": 26,
    "start_time": "2023-07-07T07:42:56.132Z"
   },
   {
    "duration": 15,
    "start_time": "2023-07-07T07:42:56.160Z"
   },
   {
    "duration": 367,
    "start_time": "2023-07-07T07:42:56.177Z"
   },
   {
    "duration": 12,
    "start_time": "2023-07-07T07:42:56.546Z"
   },
   {
    "duration": 29,
    "start_time": "2023-07-07T07:42:56.560Z"
   },
   {
    "duration": 13,
    "start_time": "2023-07-07T07:42:56.591Z"
   },
   {
    "duration": 22,
    "start_time": "2023-07-07T07:42:56.606Z"
   },
   {
    "duration": 234,
    "start_time": "2023-07-07T07:42:56.631Z"
   },
   {
    "duration": 6,
    "start_time": "2023-07-07T07:42:56.867Z"
   },
   {
    "duration": 202,
    "start_time": "2023-07-07T07:42:56.875Z"
   },
   {
    "duration": 192,
    "start_time": "2023-07-07T07:42:57.079Z"
   },
   {
    "duration": 6,
    "start_time": "2023-07-07T07:42:57.273Z"
   },
   {
    "duration": 200,
    "start_time": "2023-07-07T07:42:57.281Z"
   },
   {
    "duration": 174,
    "start_time": "2023-07-07T07:42:57.484Z"
   },
   {
    "duration": 158,
    "start_time": "2023-07-07T07:42:57.660Z"
   },
   {
    "duration": 12,
    "start_time": "2023-07-07T07:42:57.820Z"
   },
   {
    "duration": 7,
    "start_time": "2023-07-07T07:42:57.834Z"
   },
   {
    "duration": 55,
    "start_time": "2023-07-07T07:42:57.842Z"
   },
   {
    "duration": 7,
    "start_time": "2023-07-07T07:42:57.898Z"
   },
   {
    "duration": 8,
    "start_time": "2023-07-07T07:42:57.907Z"
   },
   {
    "duration": 11,
    "start_time": "2023-07-07T07:42:57.916Z"
   },
   {
    "duration": 8,
    "start_time": "2023-07-07T07:42:57.929Z"
   },
   {
    "duration": 9,
    "start_time": "2023-07-07T07:42:57.939Z"
   },
   {
    "duration": 14,
    "start_time": "2023-07-07T07:42:57.951Z"
   },
   {
    "duration": 13,
    "start_time": "2023-07-07T07:42:57.968Z"
   },
   {
    "duration": 7,
    "start_time": "2023-07-07T07:42:58.014Z"
   },
   {
    "duration": 8,
    "start_time": "2023-07-07T07:42:58.023Z"
   },
   {
    "duration": 43,
    "start_time": "2023-07-07T07:42:58.033Z"
   },
   {
    "duration": 9,
    "start_time": "2023-07-07T07:42:58.078Z"
   },
   {
    "duration": 31,
    "start_time": "2023-07-07T07:42:58.089Z"
   },
   {
    "duration": 8,
    "start_time": "2023-07-07T07:42:58.122Z"
   },
   {
    "duration": 9,
    "start_time": "2023-07-07T07:42:58.132Z"
   },
   {
    "duration": 11,
    "start_time": "2023-07-07T07:42:58.144Z"
   },
   {
    "duration": 6,
    "start_time": "2023-07-07T07:42:58.158Z"
   },
   {
    "duration": 289,
    "start_time": "2023-07-07T07:42:58.166Z"
   },
   {
    "duration": 9,
    "start_time": "2023-07-07T07:42:58.458Z"
   },
   {
    "duration": 30,
    "start_time": "2023-07-07T07:42:58.470Z"
   },
   {
    "duration": 11,
    "start_time": "2023-07-07T07:42:58.503Z"
   },
   {
    "duration": 30,
    "start_time": "2023-07-07T07:42:58.517Z"
   },
   {
    "duration": 18,
    "start_time": "2023-07-07T07:42:58.549Z"
   },
   {
    "duration": 370,
    "start_time": "2023-07-07T07:42:58.569Z"
   },
   {
    "duration": 331,
    "start_time": "2023-07-07T07:42:58.941Z"
   }
  ],
  "kernelspec": {
   "display_name": "Python 3 (ipykernel)",
   "language": "python",
   "name": "python3"
  },
  "language_info": {
   "codemirror_mode": {
    "name": "ipython",
    "version": 3
   },
   "file_extension": ".py",
   "mimetype": "text/x-python",
   "name": "python",
   "nbconvert_exporter": "python",
   "pygments_lexer": "ipython3",
   "version": "3.9.16"
  },
  "toc": {
   "base_numbering": 1,
   "nav_menu": {},
   "number_sections": true,
   "sideBar": true,
   "skip_h1_title": true,
   "title_cell": "Table of Contents",
   "title_sidebar": "Contents",
   "toc_cell": false,
   "toc_position": {},
   "toc_section_display": true,
   "toc_window_display": true
  }
 },
 "nbformat": 4,
 "nbformat_minor": 2
}
