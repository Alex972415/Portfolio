{
 "cells": [
  {
   "cell_type": "markdown",
   "id": "386f2ae7",
   "metadata": {
    "id": "386f2ae7"
   },
   "source": [
    "# Investigation of the reliability of borrowers\n"
   ]
  },
  {
   "cell_type": "markdown",
   "id": "0ae17df2",
   "metadata": {},
   "source": [
    "**Project's description**\n",
    "The customer is the credit department of the bank. It is necessary to understand whether the marital status, the number of children of the client, the level of income, the purpose of the loan affects the fact of repayment of the loan on time.\n",
    "Input data from the bank — statistics on the solvency of customers.\n",
    "The results of the study will be taken into account when building a credit scoring model — a special system that evaluates the ability of a potential borrower to repay a loan to a bank."
   ]
  },
  {
   "cell_type": "markdown",
   "id": "a8a83011",
   "metadata": {},
   "source": [
    "**Data description**\n",
    "- children — number of children in the family\n",
    "- days_employed — total work experience in days\n",
    "- dob_years — client's age in years\n",
    "- education — the client's level of education\n",
    "- education_id — education level identifier\n",
    "- family_status — client's marital status\n",
    "- family_status_id — id of marital status\n",
    "- gender — client's gender\n",
    "- income_type — type of employment\n",
    "- debt — did the client have a debt on repayment of loans\n",
    "- total_income — client's monthly income\n",
    "- purpose — purpose of obtaining a loan"
   ]
  },
  {
   "cell_type": "markdown",
   "id": "40891f33",
   "metadata": {},
   "source": [
    "**Work plan**\n",
    "The project will be divided into two parts: in the first part we will study the data and prepare them for analysis (remove duplicates and anomalous values, categorize the data), in the second part we will examine the data and answer the customer's questions."
   ]
  },
  {
   "cell_type": "markdown",
   "id": "26613308",
   "metadata": {
    "id": "26613308"
   },
   "source": [
    "## Step 1. Open the table and examine the general information about the data"
   ]
  },
  {
   "cell_type": "markdown",
   "id": "3c9f838e",
   "metadata": {
    "id": "3c9f838e"
   },
   "source": [
    "**Importing the pandas library. Let's read the data from the csv file into a dataframe and save it to the data variable..**"
   ]
  },
  {
   "cell_type": "code",
   "execution_count": 1,
   "id": "77a68a90",
   "metadata": {
    "deletable": false,
    "id": "77a68a90"
   },
   "outputs": [],
   "source": [
    "import pandas as pd\n",
    "\n",
    "try:\n",
    "    data = pd.read_csv('/datasets/data.csv')\n",
    "except:\n",
    "    data = pd.read_csv('https://code.s3.yandex.net/datasets/data.csv')"
   ]
  },
  {
   "cell_type": "markdown",
   "id": "45365635",
   "metadata": {
    "id": "45365635"
   },
   "source": [
    "**Let's display the first 20 lines of the data dataframe on the screen.**"
   ]
  },
  {
   "cell_type": "code",
   "execution_count": 2,
   "id": "b0451a9a",
   "metadata": {
    "deletable": false,
    "id": "b0451a9a",
    "outputId": "1a8f3ef2-d323-4ec2-ddf7-89670b5944c4"
   },
   "outputs": [
    {
     "data": {
      "text/html": [
       "<div>\n",
       "<style scoped>\n",
       "    .dataframe tbody tr th:only-of-type {\n",
       "        vertical-align: middle;\n",
       "    }\n",
       "\n",
       "    .dataframe tbody tr th {\n",
       "        vertical-align: top;\n",
       "    }\n",
       "\n",
       "    .dataframe thead th {\n",
       "        text-align: right;\n",
       "    }\n",
       "</style>\n",
       "<table border=\"1\" class=\"dataframe\">\n",
       "  <thead>\n",
       "    <tr style=\"text-align: right;\">\n",
       "      <th></th>\n",
       "      <th>children</th>\n",
       "      <th>days_employed</th>\n",
       "      <th>dob_years</th>\n",
       "      <th>education</th>\n",
       "      <th>education_id</th>\n",
       "      <th>family_status</th>\n",
       "      <th>family_status_id</th>\n",
       "      <th>gender</th>\n",
       "      <th>income_type</th>\n",
       "      <th>debt</th>\n",
       "      <th>total_income</th>\n",
       "      <th>purpose</th>\n",
       "    </tr>\n",
       "  </thead>\n",
       "  <tbody>\n",
       "    <tr>\n",
       "      <th>0</th>\n",
       "      <td>1</td>\n",
       "      <td>-8437.673028</td>\n",
       "      <td>42</td>\n",
       "      <td>высшее</td>\n",
       "      <td>0</td>\n",
       "      <td>женат / замужем</td>\n",
       "      <td>0</td>\n",
       "      <td>F</td>\n",
       "      <td>сотрудник</td>\n",
       "      <td>0</td>\n",
       "      <td>253875.639453</td>\n",
       "      <td>покупка жилья</td>\n",
       "    </tr>\n",
       "    <tr>\n",
       "      <th>1</th>\n",
       "      <td>1</td>\n",
       "      <td>-4024.803754</td>\n",
       "      <td>36</td>\n",
       "      <td>среднее</td>\n",
       "      <td>1</td>\n",
       "      <td>женат / замужем</td>\n",
       "      <td>0</td>\n",
       "      <td>F</td>\n",
       "      <td>сотрудник</td>\n",
       "      <td>0</td>\n",
       "      <td>112080.014102</td>\n",
       "      <td>приобретение автомобиля</td>\n",
       "    </tr>\n",
       "    <tr>\n",
       "      <th>2</th>\n",
       "      <td>0</td>\n",
       "      <td>-5623.422610</td>\n",
       "      <td>33</td>\n",
       "      <td>Среднее</td>\n",
       "      <td>1</td>\n",
       "      <td>женат / замужем</td>\n",
       "      <td>0</td>\n",
       "      <td>M</td>\n",
       "      <td>сотрудник</td>\n",
       "      <td>0</td>\n",
       "      <td>145885.952297</td>\n",
       "      <td>покупка жилья</td>\n",
       "    </tr>\n",
       "    <tr>\n",
       "      <th>3</th>\n",
       "      <td>3</td>\n",
       "      <td>-4124.747207</td>\n",
       "      <td>32</td>\n",
       "      <td>среднее</td>\n",
       "      <td>1</td>\n",
       "      <td>женат / замужем</td>\n",
       "      <td>0</td>\n",
       "      <td>M</td>\n",
       "      <td>сотрудник</td>\n",
       "      <td>0</td>\n",
       "      <td>267628.550329</td>\n",
       "      <td>дополнительное образование</td>\n",
       "    </tr>\n",
       "    <tr>\n",
       "      <th>4</th>\n",
       "      <td>0</td>\n",
       "      <td>340266.072047</td>\n",
       "      <td>53</td>\n",
       "      <td>среднее</td>\n",
       "      <td>1</td>\n",
       "      <td>гражданский брак</td>\n",
       "      <td>1</td>\n",
       "      <td>F</td>\n",
       "      <td>пенсионер</td>\n",
       "      <td>0</td>\n",
       "      <td>158616.077870</td>\n",
       "      <td>сыграть свадьбу</td>\n",
       "    </tr>\n",
       "    <tr>\n",
       "      <th>5</th>\n",
       "      <td>0</td>\n",
       "      <td>-926.185831</td>\n",
       "      <td>27</td>\n",
       "      <td>высшее</td>\n",
       "      <td>0</td>\n",
       "      <td>гражданский брак</td>\n",
       "      <td>1</td>\n",
       "      <td>M</td>\n",
       "      <td>компаньон</td>\n",
       "      <td>0</td>\n",
       "      <td>255763.565419</td>\n",
       "      <td>покупка жилья</td>\n",
       "    </tr>\n",
       "    <tr>\n",
       "      <th>6</th>\n",
       "      <td>0</td>\n",
       "      <td>-2879.202052</td>\n",
       "      <td>43</td>\n",
       "      <td>высшее</td>\n",
       "      <td>0</td>\n",
       "      <td>женат / замужем</td>\n",
       "      <td>0</td>\n",
       "      <td>F</td>\n",
       "      <td>компаньон</td>\n",
       "      <td>0</td>\n",
       "      <td>240525.971920</td>\n",
       "      <td>операции с жильем</td>\n",
       "    </tr>\n",
       "    <tr>\n",
       "      <th>7</th>\n",
       "      <td>0</td>\n",
       "      <td>-152.779569</td>\n",
       "      <td>50</td>\n",
       "      <td>СРЕДНЕЕ</td>\n",
       "      <td>1</td>\n",
       "      <td>женат / замужем</td>\n",
       "      <td>0</td>\n",
       "      <td>M</td>\n",
       "      <td>сотрудник</td>\n",
       "      <td>0</td>\n",
       "      <td>135823.934197</td>\n",
       "      <td>образование</td>\n",
       "    </tr>\n",
       "    <tr>\n",
       "      <th>8</th>\n",
       "      <td>2</td>\n",
       "      <td>-6929.865299</td>\n",
       "      <td>35</td>\n",
       "      <td>ВЫСШЕЕ</td>\n",
       "      <td>0</td>\n",
       "      <td>гражданский брак</td>\n",
       "      <td>1</td>\n",
       "      <td>F</td>\n",
       "      <td>сотрудник</td>\n",
       "      <td>0</td>\n",
       "      <td>95856.832424</td>\n",
       "      <td>на проведение свадьбы</td>\n",
       "    </tr>\n",
       "    <tr>\n",
       "      <th>9</th>\n",
       "      <td>0</td>\n",
       "      <td>-2188.756445</td>\n",
       "      <td>41</td>\n",
       "      <td>среднее</td>\n",
       "      <td>1</td>\n",
       "      <td>женат / замужем</td>\n",
       "      <td>0</td>\n",
       "      <td>M</td>\n",
       "      <td>сотрудник</td>\n",
       "      <td>0</td>\n",
       "      <td>144425.938277</td>\n",
       "      <td>покупка жилья для семьи</td>\n",
       "    </tr>\n",
       "    <tr>\n",
       "      <th>10</th>\n",
       "      <td>2</td>\n",
       "      <td>-4171.483647</td>\n",
       "      <td>36</td>\n",
       "      <td>высшее</td>\n",
       "      <td>0</td>\n",
       "      <td>женат / замужем</td>\n",
       "      <td>0</td>\n",
       "      <td>M</td>\n",
       "      <td>компаньон</td>\n",
       "      <td>0</td>\n",
       "      <td>113943.491460</td>\n",
       "      <td>покупка недвижимости</td>\n",
       "    </tr>\n",
       "    <tr>\n",
       "      <th>11</th>\n",
       "      <td>0</td>\n",
       "      <td>-792.701887</td>\n",
       "      <td>40</td>\n",
       "      <td>среднее</td>\n",
       "      <td>1</td>\n",
       "      <td>женат / замужем</td>\n",
       "      <td>0</td>\n",
       "      <td>F</td>\n",
       "      <td>сотрудник</td>\n",
       "      <td>0</td>\n",
       "      <td>77069.234271</td>\n",
       "      <td>покупка коммерческой недвижимости</td>\n",
       "    </tr>\n",
       "    <tr>\n",
       "      <th>12</th>\n",
       "      <td>0</td>\n",
       "      <td>NaN</td>\n",
       "      <td>65</td>\n",
       "      <td>среднее</td>\n",
       "      <td>1</td>\n",
       "      <td>гражданский брак</td>\n",
       "      <td>1</td>\n",
       "      <td>M</td>\n",
       "      <td>пенсионер</td>\n",
       "      <td>0</td>\n",
       "      <td>NaN</td>\n",
       "      <td>сыграть свадьбу</td>\n",
       "    </tr>\n",
       "    <tr>\n",
       "      <th>13</th>\n",
       "      <td>0</td>\n",
       "      <td>-1846.641941</td>\n",
       "      <td>54</td>\n",
       "      <td>неоконченное высшее</td>\n",
       "      <td>2</td>\n",
       "      <td>женат / замужем</td>\n",
       "      <td>0</td>\n",
       "      <td>F</td>\n",
       "      <td>сотрудник</td>\n",
       "      <td>0</td>\n",
       "      <td>130458.228857</td>\n",
       "      <td>приобретение автомобиля</td>\n",
       "    </tr>\n",
       "    <tr>\n",
       "      <th>14</th>\n",
       "      <td>0</td>\n",
       "      <td>-1844.956182</td>\n",
       "      <td>56</td>\n",
       "      <td>высшее</td>\n",
       "      <td>0</td>\n",
       "      <td>гражданский брак</td>\n",
       "      <td>1</td>\n",
       "      <td>F</td>\n",
       "      <td>компаньон</td>\n",
       "      <td>1</td>\n",
       "      <td>165127.911772</td>\n",
       "      <td>покупка жилой недвижимости</td>\n",
       "    </tr>\n",
       "    <tr>\n",
       "      <th>15</th>\n",
       "      <td>1</td>\n",
       "      <td>-972.364419</td>\n",
       "      <td>26</td>\n",
       "      <td>среднее</td>\n",
       "      <td>1</td>\n",
       "      <td>женат / замужем</td>\n",
       "      <td>0</td>\n",
       "      <td>F</td>\n",
       "      <td>сотрудник</td>\n",
       "      <td>0</td>\n",
       "      <td>116820.904450</td>\n",
       "      <td>строительство собственной недвижимости</td>\n",
       "    </tr>\n",
       "    <tr>\n",
       "      <th>16</th>\n",
       "      <td>0</td>\n",
       "      <td>-1719.934226</td>\n",
       "      <td>35</td>\n",
       "      <td>среднее</td>\n",
       "      <td>1</td>\n",
       "      <td>женат / замужем</td>\n",
       "      <td>0</td>\n",
       "      <td>F</td>\n",
       "      <td>сотрудник</td>\n",
       "      <td>0</td>\n",
       "      <td>289202.704229</td>\n",
       "      <td>недвижимость</td>\n",
       "    </tr>\n",
       "    <tr>\n",
       "      <th>17</th>\n",
       "      <td>0</td>\n",
       "      <td>-2369.999720</td>\n",
       "      <td>33</td>\n",
       "      <td>высшее</td>\n",
       "      <td>0</td>\n",
       "      <td>гражданский брак</td>\n",
       "      <td>1</td>\n",
       "      <td>M</td>\n",
       "      <td>сотрудник</td>\n",
       "      <td>0</td>\n",
       "      <td>90410.586745</td>\n",
       "      <td>строительство недвижимости</td>\n",
       "    </tr>\n",
       "    <tr>\n",
       "      <th>18</th>\n",
       "      <td>0</td>\n",
       "      <td>400281.136913</td>\n",
       "      <td>53</td>\n",
       "      <td>среднее</td>\n",
       "      <td>1</td>\n",
       "      <td>вдовец / вдова</td>\n",
       "      <td>2</td>\n",
       "      <td>F</td>\n",
       "      <td>пенсионер</td>\n",
       "      <td>0</td>\n",
       "      <td>56823.777243</td>\n",
       "      <td>на покупку подержанного автомобиля</td>\n",
       "    </tr>\n",
       "    <tr>\n",
       "      <th>19</th>\n",
       "      <td>0</td>\n",
       "      <td>-10038.818549</td>\n",
       "      <td>48</td>\n",
       "      <td>СРЕДНЕЕ</td>\n",
       "      <td>1</td>\n",
       "      <td>в разводе</td>\n",
       "      <td>3</td>\n",
       "      <td>F</td>\n",
       "      <td>сотрудник</td>\n",
       "      <td>0</td>\n",
       "      <td>242831.107982</td>\n",
       "      <td>на покупку своего автомобиля</td>\n",
       "    </tr>\n",
       "  </tbody>\n",
       "</table>\n",
       "</div>"
      ],
      "text/plain": [
       "    children  days_employed  dob_years            education  education_id  \\\n",
       "0          1   -8437.673028         42               высшее             0   \n",
       "1          1   -4024.803754         36              среднее             1   \n",
       "2          0   -5623.422610         33              Среднее             1   \n",
       "3          3   -4124.747207         32              среднее             1   \n",
       "4          0  340266.072047         53              среднее             1   \n",
       "5          0    -926.185831         27               высшее             0   \n",
       "6          0   -2879.202052         43               высшее             0   \n",
       "7          0    -152.779569         50              СРЕДНЕЕ             1   \n",
       "8          2   -6929.865299         35               ВЫСШЕЕ             0   \n",
       "9          0   -2188.756445         41              среднее             1   \n",
       "10         2   -4171.483647         36               высшее             0   \n",
       "11         0    -792.701887         40              среднее             1   \n",
       "12         0            NaN         65              среднее             1   \n",
       "13         0   -1846.641941         54  неоконченное высшее             2   \n",
       "14         0   -1844.956182         56               высшее             0   \n",
       "15         1    -972.364419         26              среднее             1   \n",
       "16         0   -1719.934226         35              среднее             1   \n",
       "17         0   -2369.999720         33               высшее             0   \n",
       "18         0  400281.136913         53              среднее             1   \n",
       "19         0  -10038.818549         48              СРЕДНЕЕ             1   \n",
       "\n",
       "       family_status  family_status_id gender income_type  debt  \\\n",
       "0    женат / замужем                 0      F   сотрудник     0   \n",
       "1    женат / замужем                 0      F   сотрудник     0   \n",
       "2    женат / замужем                 0      M   сотрудник     0   \n",
       "3    женат / замужем                 0      M   сотрудник     0   \n",
       "4   гражданский брак                 1      F   пенсионер     0   \n",
       "5   гражданский брак                 1      M   компаньон     0   \n",
       "6    женат / замужем                 0      F   компаньон     0   \n",
       "7    женат / замужем                 0      M   сотрудник     0   \n",
       "8   гражданский брак                 1      F   сотрудник     0   \n",
       "9    женат / замужем                 0      M   сотрудник     0   \n",
       "10   женат / замужем                 0      M   компаньон     0   \n",
       "11   женат / замужем                 0      F   сотрудник     0   \n",
       "12  гражданский брак                 1      M   пенсионер     0   \n",
       "13   женат / замужем                 0      F   сотрудник     0   \n",
       "14  гражданский брак                 1      F   компаньон     1   \n",
       "15   женат / замужем                 0      F   сотрудник     0   \n",
       "16   женат / замужем                 0      F   сотрудник     0   \n",
       "17  гражданский брак                 1      M   сотрудник     0   \n",
       "18    вдовец / вдова                 2      F   пенсионер     0   \n",
       "19         в разводе                 3      F   сотрудник     0   \n",
       "\n",
       "     total_income                                 purpose  \n",
       "0   253875.639453                           покупка жилья  \n",
       "1   112080.014102                 приобретение автомобиля  \n",
       "2   145885.952297                           покупка жилья  \n",
       "3   267628.550329              дополнительное образование  \n",
       "4   158616.077870                         сыграть свадьбу  \n",
       "5   255763.565419                           покупка жилья  \n",
       "6   240525.971920                       операции с жильем  \n",
       "7   135823.934197                             образование  \n",
       "8    95856.832424                   на проведение свадьбы  \n",
       "9   144425.938277                 покупка жилья для семьи  \n",
       "10  113943.491460                    покупка недвижимости  \n",
       "11   77069.234271       покупка коммерческой недвижимости  \n",
       "12            NaN                         сыграть свадьбу  \n",
       "13  130458.228857                 приобретение автомобиля  \n",
       "14  165127.911772              покупка жилой недвижимости  \n",
       "15  116820.904450  строительство собственной недвижимости  \n",
       "16  289202.704229                            недвижимость  \n",
       "17   90410.586745              строительство недвижимости  \n",
       "18   56823.777243      на покупку подержанного автомобиля  \n",
       "19  242831.107982            на покупку своего автомобиля  "
      ]
     },
     "execution_count": 2,
     "metadata": {},
     "output_type": "execute_result"
    }
   ],
   "source": [
    "data.head(20)"
   ]
  },
  {
   "cell_type": "markdown",
   "id": "0ed8f27f",
   "metadata": {
    "id": "0ed8f27f"
   },
   "source": [
    "**We will output the basic information about the dataframe using the method `info()`.**"
   ]
  },
  {
   "cell_type": "code",
   "execution_count": 3,
   "id": "ab3f863b",
   "metadata": {
    "deletable": false,
    "id": "ab3f863b",
    "outputId": "15376089-8dad-46c9-b520-c05248d43158"
   },
   "outputs": [
    {
     "name": "stdout",
     "output_type": "stream",
     "text": [
      "<class 'pandas.core.frame.DataFrame'>\n",
      "RangeIndex: 21525 entries, 0 to 21524\n",
      "Data columns (total 12 columns):\n",
      " #   Column            Non-Null Count  Dtype  \n",
      "---  ------            --------------  -----  \n",
      " 0   children          21525 non-null  int64  \n",
      " 1   days_employed     19351 non-null  float64\n",
      " 2   dob_years         21525 non-null  int64  \n",
      " 3   education         21525 non-null  object \n",
      " 4   education_id      21525 non-null  int64  \n",
      " 5   family_status     21525 non-null  object \n",
      " 6   family_status_id  21525 non-null  int64  \n",
      " 7   gender            21525 non-null  object \n",
      " 8   income_type       21525 non-null  object \n",
      " 9   debt              21525 non-null  int64  \n",
      " 10  total_income      19351 non-null  float64\n",
      " 11  purpose           21525 non-null  object \n",
      "dtypes: float64(2), int64(5), object(5)\n",
      "memory usage: 2.0+ MB\n"
     ]
    }
   ],
   "source": [
    "data.info()"
   ]
  },
  {
   "cell_type": "markdown",
   "id": "60e3e22d",
   "metadata": {
    "id": "60e3e22d"
   },
   "source": [
    "## Step 2. Data Preprocessing"
   ]
  },
  {
   "cell_type": "markdown",
   "id": "03dc170c",
   "metadata": {
    "id": "03dc170c"
   },
   "source": [
    "### Deleting gaps in a dataframe"
   ]
  },
  {
   "cell_type": "markdown",
   "id": "a4f54eef",
   "metadata": {
    "id": "a4f54eef"
   },
   "source": [
    "**Output the number of missing values for each column.**"
   ]
  },
  {
   "cell_type": "code",
   "execution_count": 4,
   "id": "2dc372b2",
   "metadata": {
    "deletable": false,
    "id": "2dc372b2",
    "outputId": "81f4d817-781c-465c-ed15-91ce4446810d"
   },
   "outputs": [
    {
     "data": {
      "text/plain": [
       "children               0\n",
       "days_employed       2174\n",
       "dob_years              0\n",
       "education              0\n",
       "education_id           0\n",
       "family_status          0\n",
       "family_status_id       0\n",
       "gender                 0\n",
       "income_type            0\n",
       "debt                   0\n",
       "total_income        2174\n",
       "purpose                0\n",
       "dtype: int64"
      ]
     },
     "execution_count": 4,
     "metadata": {},
     "output_type": "execute_result"
    }
   ],
   "source": [
    "data.isna().sum()"
   ]
  },
  {
   "cell_type": "markdown",
   "id": "81efb535",
   "metadata": {},
   "source": [
    "**Let's calculate the share of omissions in the columns 'total_income' and 'days_employed'.**"
   ]
  },
  {
   "cell_type": "code",
   "execution_count": 5,
   "id": "ea9ad5ba",
   "metadata": {},
   "outputs": [
    {
     "data": {
      "text/html": [
       "<style  type=\"text/css\" >\n",
       "#T_e945a_row0_col0,#T_e945a_row2_col0,#T_e945a_row3_col0,#T_e945a_row4_col0,#T_e945a_row5_col0,#T_e945a_row6_col0,#T_e945a_row7_col0,#T_e945a_row8_col0,#T_e945a_row9_col0,#T_e945a_row11_col0{\n",
       "            background-color:  #3b4cc0;\n",
       "            color:  #f1f1f1;\n",
       "        }#T_e945a_row1_col0,#T_e945a_row10_col0{\n",
       "            background-color:  #b40426;\n",
       "            color:  #f1f1f1;\n",
       "        }</style><table id=\"T_e945a_\" ><thead>    <tr>        <th class=\"blank level0\" ></th>        <th class=\"col_heading level0 col0\" >0</th>    </tr></thead><tbody>\n",
       "                <tr>\n",
       "                        <th id=\"T_e945a_level0_row0\" class=\"row_heading level0 row0\" >children</th>\n",
       "                        <td id=\"T_e945a_row0_col0\" class=\"data row0 col0\" >0.0</td>\n",
       "            </tr>\n",
       "            <tr>\n",
       "                        <th id=\"T_e945a_level0_row1\" class=\"row_heading level0 row1\" >days_employed</th>\n",
       "                        <td id=\"T_e945a_row1_col0\" class=\"data row1 col0\" >10.1</td>\n",
       "            </tr>\n",
       "            <tr>\n",
       "                        <th id=\"T_e945a_level0_row2\" class=\"row_heading level0 row2\" >dob_years</th>\n",
       "                        <td id=\"T_e945a_row2_col0\" class=\"data row2 col0\" >0.0</td>\n",
       "            </tr>\n",
       "            <tr>\n",
       "                        <th id=\"T_e945a_level0_row3\" class=\"row_heading level0 row3\" >education</th>\n",
       "                        <td id=\"T_e945a_row3_col0\" class=\"data row3 col0\" >0.0</td>\n",
       "            </tr>\n",
       "            <tr>\n",
       "                        <th id=\"T_e945a_level0_row4\" class=\"row_heading level0 row4\" >education_id</th>\n",
       "                        <td id=\"T_e945a_row4_col0\" class=\"data row4 col0\" >0.0</td>\n",
       "            </tr>\n",
       "            <tr>\n",
       "                        <th id=\"T_e945a_level0_row5\" class=\"row_heading level0 row5\" >family_status</th>\n",
       "                        <td id=\"T_e945a_row5_col0\" class=\"data row5 col0\" >0.0</td>\n",
       "            </tr>\n",
       "            <tr>\n",
       "                        <th id=\"T_e945a_level0_row6\" class=\"row_heading level0 row6\" >family_status_id</th>\n",
       "                        <td id=\"T_e945a_row6_col0\" class=\"data row6 col0\" >0.0</td>\n",
       "            </tr>\n",
       "            <tr>\n",
       "                        <th id=\"T_e945a_level0_row7\" class=\"row_heading level0 row7\" >gender</th>\n",
       "                        <td id=\"T_e945a_row7_col0\" class=\"data row7 col0\" >0.0</td>\n",
       "            </tr>\n",
       "            <tr>\n",
       "                        <th id=\"T_e945a_level0_row8\" class=\"row_heading level0 row8\" >income_type</th>\n",
       "                        <td id=\"T_e945a_row8_col0\" class=\"data row8 col0\" >0.0</td>\n",
       "            </tr>\n",
       "            <tr>\n",
       "                        <th id=\"T_e945a_level0_row9\" class=\"row_heading level0 row9\" >debt</th>\n",
       "                        <td id=\"T_e945a_row9_col0\" class=\"data row9 col0\" >0.0</td>\n",
       "            </tr>\n",
       "            <tr>\n",
       "                        <th id=\"T_e945a_level0_row10\" class=\"row_heading level0 row10\" >total_income</th>\n",
       "                        <td id=\"T_e945a_row10_col0\" class=\"data row10 col0\" >10.1</td>\n",
       "            </tr>\n",
       "            <tr>\n",
       "                        <th id=\"T_e945a_level0_row11\" class=\"row_heading level0 row11\" >purpose</th>\n",
       "                        <td id=\"T_e945a_row11_col0\" class=\"data row11 col0\" >0.0</td>\n",
       "            </tr>\n",
       "    </tbody></table>"
      ],
      "text/plain": [
       "<pandas.io.formats.style.Styler at 0x218a8015940>"
      ]
     },
     "execution_count": 5,
     "metadata": {},
     "output_type": "execute_result"
    }
   ],
   "source": [
    "\n",
    "pd.DataFrame(data.isna().mean()*100).style.set_precision(1).background_gradient('coolwarm')"
   ]
  },
  {
   "cell_type": "markdown",
   "id": "14f011b1",
   "metadata": {
    "id": "14f011b1"
   },
   "source": [
    "**There are missing values in two columns. One of them — `total_income` — stores income data. The amount of income is most affected by the type of employment, so we need to fill in the gaps in this column with the median value for each type from the `income_type` column.**"
   ]
  },
  {
   "cell_type": "code",
   "execution_count": 6,
   "id": "bdabfb6e",
   "metadata": {
    "deletable": false,
    "id": "bdabfb6e"
   },
   "outputs": [],
   "source": [
    "for t in data['income_type'].unique():\n",
    "    data.loc[(data['income_type'] == t) & (data['total_income'].isna()), 'total_income'] = \\\n",
    "    data.loc[(data['income_type'] == t), 'total_income'].median()"
   ]
  },
  {
   "cell_type": "markdown",
   "id": "5be34059",
   "metadata": {
    "id": "5be34059"
   },
   "source": [
    "### Processing of abnormal values"
   ]
  },
  {
   "cell_type": "markdown",
   "id": "a87606cb",
   "metadata": {
    "id": "a87606cb"
   },
   "source": [
    "**Let's process the values in the `days_employed` column: replace all negative values with positive ones using the `abs()` method.**"
   ]
  },
  {
   "cell_type": "code",
   "execution_count": 7,
   "id": "020c46cc",
   "metadata": {
    "deletable": false,
    "id": "020c46cc"
   },
   "outputs": [],
   "source": [
    "data['days_employed'] = data['days_employed'].abs()"
   ]
  },
  {
   "cell_type": "markdown",
   "id": "45538a3a",
   "metadata": {
    "id": "45538a3a"
   },
   "source": [
    "**For each type of employment, we will output the median value of the length of service `days_employed` in days.**"
   ]
  },
  {
   "cell_type": "code",
   "execution_count": 8,
   "id": "cd3e6328",
   "metadata": {
    "deletable": false,
    "id": "cd3e6328",
    "outputId": "801ef80e-522b-4668-f34e-565af7432bcf"
   },
   "outputs": [
    {
     "data": {
      "text/plain": [
       "income_type\n",
       "безработный        366413.652744\n",
       "в декрете            3296.759962\n",
       "госслужащий          2689.368353\n",
       "компаньон            1547.382223\n",
       "пенсионер          365213.306266\n",
       "предприниматель       520.848083\n",
       "сотрудник            1574.202821\n",
       "студент               578.751554\n",
       "Name: days_employed, dtype: float64"
      ]
     },
     "execution_count": 8,
     "metadata": {},
     "output_type": "execute_result"
    }
   ],
   "source": [
    "data.groupby('income_type')['days_employed'].agg('median')"
   ]
  },
  {
   "cell_type": "markdown",
   "id": "90c5f058",
   "metadata": {
    "id": "90c5f058"
   },
   "source": [
    "**Two types (unemployed and pensioners) will have abnormally large values. It is difficult to correct such values, so let's leave them as they are.**"
   ]
  },
  {
   "cell_type": "markdown",
   "id": "9652e50d",
   "metadata": {
    "id": "9652e50d"
   },
   "source": [
    "**Output a list of unique values of the column `children`.**"
   ]
  },
  {
   "cell_type": "code",
   "execution_count": 9,
   "id": "dbb37b8e",
   "metadata": {
    "deletable": false,
    "id": "dbb37b8e",
    "outputId": "6975b15c-7f95-4697-d16d-a0c79b657b03"
   },
   "outputs": [
    {
     "data": {
      "text/plain": [
       " 0     14149\n",
       " 1      4818\n",
       " 2      2055\n",
       " 3       330\n",
       " 20       76\n",
       "-1        47\n",
       " 4        41\n",
       " 5         9\n",
       "Name: children, dtype: int64"
      ]
     },
     "execution_count": 9,
     "metadata": {},
     "output_type": "execute_result"
    }
   ],
   "source": [
    "data['children'].unique()\n",
    "data['children'].value_counts()"
   ]
  },
  {
   "cell_type": "markdown",
   "id": "2b8b0715",
   "metadata": {
    "id": "2b8b0715"
   },
   "source": [
    "**There are two abnormal values in the `children` column. Delete the lines in which such abnormal values occur from the dataframe `data`.**"
   ]
  },
  {
   "cell_type": "markdown",
   "id": "ec7763e7",
   "metadata": {},
   "source": [
    "**Let's calculate the percentage of abnormal values from the total number of values in the 'children' column.**"
   ]
  },
  {
   "cell_type": "code",
   "execution_count": 10,
   "id": "c7414558",
   "metadata": {},
   "outputs": [
    {
     "data": {
      "text/plain": [
       "0.57"
      ]
     },
     "execution_count": 10,
     "metadata": {},
     "output_type": "execute_result"
    }
   ],
   "source": [
    "anomalii = len(data[(data['children'] == -1) | (data['children'] == 20)]) * 100 / len(data)\n",
    "round(anomalii, 2)"
   ]
  },
  {
   "cell_type": "code",
   "execution_count": 11,
   "id": "20009df8",
   "metadata": {
    "deletable": false,
    "id": "20009df8"
   },
   "outputs": [],
   "source": [
    "data = data[(data['children'] != -1) & (data['children'] != 20)]"
   ]
  },
  {
   "cell_type": "markdown",
   "id": "8c6ac9f1",
   "metadata": {
    "id": "8c6ac9f1"
   },
   "source": [
    "**Once again, we will list the unique values of the `children` column to make sure that the abnormal values are removed.**"
   ]
  },
  {
   "cell_type": "code",
   "execution_count": 12,
   "id": "07337b81",
   "metadata": {
    "deletable": false,
    "id": "07337b81",
    "outputId": "b2097101-d49d-44d9-901b-32a65c9463d1"
   },
   "outputs": [
    {
     "data": {
      "text/plain": [
       "array([1, 0, 3, 2, 4, 5], dtype=int64)"
      ]
     },
     "execution_count": 12,
     "metadata": {},
     "output_type": "execute_result"
    }
   ],
   "source": [
    "data['children'].unique()"
   ]
  },
  {
   "cell_type": "markdown",
   "id": "ee3f52d4",
   "metadata": {
    "id": "ee3f52d4"
   },
   "source": [
    "### Processing of abnormal values (continued)"
   ]
  },
  {
   "cell_type": "markdown",
   "id": "a700b0e4",
   "metadata": {
    "id": "a700b0e4"
   },
   "source": [
    "**Fill in the gaps in the `days_employed` column with median values for each `income_type` employment type.**"
   ]
  },
  {
   "cell_type": "code",
   "execution_count": 13,
   "id": "61946b83",
   "metadata": {
    "deletable": false,
    "id": "61946b83"
   },
   "outputs": [],
   "source": [
    "for t in data['income_type'].unique():\n",
    "    data.loc[(data['income_type'] == t) & (data['days_employed'].isna()), 'days_employed'] = \\\n",
    "    data.loc[(data['income_type'] == t), 'days_employed'].median()"
   ]
  },
  {
   "cell_type": "markdown",
   "id": "550dcd9b",
   "metadata": {
    "id": "550dcd9b"
   },
   "source": [
    "**Make sure that all the gaps are filled in.**"
   ]
  },
  {
   "cell_type": "code",
   "execution_count": 14,
   "id": "937c7014",
   "metadata": {
    "deletable": false,
    "id": "937c7014",
    "outputId": "8da1e4e1-358e-4e87-98c9-f261bce0a7b2"
   },
   "outputs": [
    {
     "data": {
      "text/plain": [
       "children            0\n",
       "days_employed       0\n",
       "dob_years           0\n",
       "education           0\n",
       "education_id        0\n",
       "family_status       0\n",
       "family_status_id    0\n",
       "gender              0\n",
       "income_type         0\n",
       "debt                0\n",
       "total_income        0\n",
       "purpose             0\n",
       "dtype: int64"
      ]
     },
     "execution_count": 14,
     "metadata": {},
     "output_type": "execute_result"
    }
   ],
   "source": [
    "data.isna().sum()"
   ]
  },
  {
   "cell_type": "markdown",
   "id": "d522e295",
   "metadata": {
    "id": "d522e295"
   },
   "source": [
    "### Changing Data Types"
   ]
  },
  {
   "cell_type": "markdown",
   "id": "c229c581",
   "metadata": {
    "id": "c229c581"
   },
   "source": [
    "**Replace the real data type in the `total_income` column with an integer using the `astype()` method.**"
   ]
  },
  {
   "cell_type": "code",
   "execution_count": 15,
   "id": "31036462",
   "metadata": {
    "deletable": false,
    "id": "31036462"
   },
   "outputs": [],
   "source": [
    "data['total_income'] = data['total_income'].astype('int')"
   ]
  },
  {
   "cell_type": "markdown",
   "id": "b8e3d1d9",
   "metadata": {
    "id": "b8e3d1d9"
   },
   "source": [
    "### Processing duplicates"
   ]
  },
  {
   "cell_type": "markdown",
   "id": "9be53c49",
   "metadata": {
    "id": "9be53c49"
   },
   "source": [
    "**Let's process implicit duplicates in the `education` column. In this column there are the same values, but written in different ways: using uppercase and lowercase letters. Let's bring them to the lower case.**"
   ]
  },
  {
   "cell_type": "code",
   "execution_count": 16,
   "id": "d89e73e1",
   "metadata": {
    "deletable": false,
    "id": "d89e73e1"
   },
   "outputs": [],
   "source": [
    "data['education'] = data['education'].str.lower()"
   ]
  },
  {
   "cell_type": "markdown",
   "id": "01d4500e",
   "metadata": {
    "id": "01d4500e"
   },
   "source": [
    "**Let's display the number of duplicate rows and delete them.**"
   ]
  },
  {
   "cell_type": "code",
   "execution_count": 17,
   "id": "e10efb23",
   "metadata": {
    "deletable": false,
    "id": "e10efb23",
    "outputId": "9684deba-1934-42d1-99e1-cda61740f822"
   },
   "outputs": [
    {
     "data": {
      "text/plain": [
       "71"
      ]
     },
     "execution_count": 17,
     "metadata": {},
     "output_type": "execute_result"
    }
   ],
   "source": [
    "data.duplicated().sum()"
   ]
  },
  {
   "cell_type": "code",
   "execution_count": 18,
   "id": "df853f20",
   "metadata": {
    "deletable": false,
    "id": "df853f20"
   },
   "outputs": [],
   "source": [
    "data = data.drop_duplicates()"
   ]
  },
  {
   "cell_type": "markdown",
   "id": "627be38f",
   "metadata": {
    "id": "627be38f"
   },
   "source": [
    "### Categorization of data"
   ]
  },
  {
   "cell_type": "markdown",
   "id": "4684c3e0",
   "metadata": {
    "id": "4684c3e0"
   },
   "source": [
    "**Based on the ranges specified below, we will create a column `total_income_category` with categories:**\n",
    "\n",
    "- 0–30000 — `'E'`;\n",
    "- 30001–50000 — `'D'`;\n",
    "- 50001–200000 — `'C'`;\n",
    "- 200001–1000000 — `'B'`;\n",
    "- 1000001 и выше — `'A'`."
   ]
  },
  {
   "cell_type": "code",
   "execution_count": 19,
   "id": "78965238",
   "metadata": {
    "deletable": false,
    "id": "78965238"
   },
   "outputs": [],
   "source": [
    "def categorize_income(income):\n",
    "    try:\n",
    "        if 0 <= income <= 30000:\n",
    "            return 'E'\n",
    "        elif 30001 <= income <= 50000:\n",
    "            return 'D'\n",
    "        elif 50001 <= income <= 200000:\n",
    "            return 'C'\n",
    "        elif 200001 <= income <= 1000000:\n",
    "            return 'B'\n",
    "        elif income >= 1000001:\n",
    "            return 'A'\n",
    "    except:\n",
    "        pass"
   ]
  },
  {
   "cell_type": "code",
   "execution_count": 20,
   "id": "0980ada1",
   "metadata": {
    "deletable": false,
    "id": "0980ada1"
   },
   "outputs": [],
   "source": [
    "data['total_income_category'] = data['total_income'].apply(categorize_income)"
   ]
  },
  {
   "cell_type": "markdown",
   "id": "9917bba0",
   "metadata": {
    "id": "9917bba0"
   },
   "source": [
    "**Let's display a list of the unique purposes of taking a loan from the `purpose` column.**"
   ]
  },
  {
   "cell_type": "code",
   "execution_count": 21,
   "id": "ee07b65e",
   "metadata": {
    "deletable": false,
    "id": "ee07b65e",
    "outputId": "673c12d9-7d7e-4ae0-9812-c622c89dd244"
   },
   "outputs": [
    {
     "data": {
      "text/plain": [
       "array(['покупка жилья', 'приобретение автомобиля',\n",
       "       'дополнительное образование', 'сыграть свадьбу',\n",
       "       'операции с жильем', 'образование', 'на проведение свадьбы',\n",
       "       'покупка жилья для семьи', 'покупка недвижимости',\n",
       "       'покупка коммерческой недвижимости', 'покупка жилой недвижимости',\n",
       "       'строительство собственной недвижимости', 'недвижимость',\n",
       "       'строительство недвижимости', 'на покупку подержанного автомобиля',\n",
       "       'на покупку своего автомобиля',\n",
       "       'операции с коммерческой недвижимостью',\n",
       "       'строительство жилой недвижимости', 'жилье',\n",
       "       'операции со своей недвижимостью', 'автомобили',\n",
       "       'заняться образованием', 'сделка с подержанным автомобилем',\n",
       "       'получение образования', 'автомобиль', 'свадьба',\n",
       "       'получение дополнительного образования', 'покупка своего жилья',\n",
       "       'операции с недвижимостью', 'получение высшего образования',\n",
       "       'свой автомобиль', 'сделка с автомобилем',\n",
       "       'профильное образование', 'высшее образование',\n",
       "       'покупка жилья для сдачи', 'на покупку автомобиля', 'ремонт жилью',\n",
       "       'заняться высшим образованием'], dtype=object)"
      ]
     },
     "execution_count": 21,
     "metadata": {},
     "output_type": "execute_result"
    }
   ],
   "source": [
    "data['purpose'].unique()"
   ]
  },
  {
   "cell_type": "markdown",
   "id": "52b79d56",
   "metadata": {
    "id": "52b79d56"
   },
   "source": [
    "**Let's create a function that, based on the data from the `purpose` column, will form a new `purpose_category` column, which will include the following categories:**\n",
    "\n",
    "- `'операции с автомобилем'`,\n",
    "- `'операции с недвижимостью'`,\n",
    "- `'проведение свадьбы'`,\n",
    "- `'получение образования'`."
   ]
  },
  {
   "cell_type": "code",
   "execution_count": 22,
   "id": "be41da5d",
   "metadata": {
    "deletable": false,
    "id": "be41da5d"
   },
   "outputs": [],
   "source": [
    "def categorize_purpose(row):\n",
    "    try:\n",
    "        if 'автом' in row:\n",
    "            return 'операции с автомобилем'\n",
    "        elif 'жил' in row or 'недвиж' in row:\n",
    "            return 'операции с недвижимостью'\n",
    "        elif 'свад' in row:\n",
    "            return 'проведение свадьбы'\n",
    "        elif 'образов' in row:\n",
    "            return 'получение образования'\n",
    "    except:\n",
    "        return 'нет категории'"
   ]
  },
  {
   "cell_type": "code",
   "execution_count": 23,
   "id": "94c4a19a",
   "metadata": {
    "deletable": false,
    "id": "94c4a19a"
   },
   "outputs": [],
   "source": [
    "data['purpose_category'] = data['purpose'].apply(categorize_purpose)"
   ]
  },
  {
   "cell_type": "markdown",
   "id": "9e3d0e36",
   "metadata": {},
   "source": [
    "**At this point, the data preprocessing stage ends, you can proceed to data research and analysis.\n",
    "During the preprocessing stage, we found that the table has gaps in the columns 'days_employed' and 'total_income'.\n",
    "The number of omissions in both columns is 10% of the total number of values in this column.\n",
    "We filled in the gaps in these columns using the median method.\n",
    "Further, abnormal values were found in the 'children' column.\n",
    "So that the rows with abnormal values do not affect the subsequent analysis of the data, we deleted them.\n",
    "Next, duplicate rows were counted and deleted.\n",
    "In the last part of the preprocessing stage, we categorized the data:\n",
    "we introduced an income category depending on the client's income and divided all the clients' goals into 4 categories: 'getting an education', 'holding a wedding', 'real estate transactions', 'car transactions'.**"
   ]
  },
  {
   "cell_type": "markdown",
   "id": "3d596c34",
   "metadata": {
    "id": "3d596c34"
   },
   "source": [
    "### Step 3. Conduct exploratory data analysis and answer the questions"
   ]
  },
  {
   "cell_type": "markdown",
   "id": "648db036",
   "metadata": {
    "id": "648db036"
   },
   "source": [
    "### Is there a relationship between the number of children and the repayment of the loan on time?"
   ]
  },
  {
   "cell_type": "code",
   "execution_count": 24,
   "id": "7fcff25e",
   "metadata": {
    "deletable": false,
    "id": "7fcff25e"
   },
   "outputs": [
    {
     "name": "stdout",
     "output_type": "stream",
     "text": [
      "[0 1]\n"
     ]
    }
   ],
   "source": [
    "# finding the unique values of the 'debt' column\n",
    "print(data['debt'].unique())\n",
    "# we assume that 0 - returned the loan on time; 1- did not return the loan on time"
   ]
  },
  {
   "cell_type": "code",
   "execution_count": 25,
   "id": "c7851531",
   "metadata": {},
   "outputs": [
    {
     "name": "stdout",
     "output_type": "stream",
     "text": [
      "0    19599\n",
      "1     1732\n",
      "Name: debt, dtype: int64\n"
     ]
    }
   ],
   "source": [
    "# we look at the overall situation for customers - who is more: those who repay the loan on time or vice versa?\n",
    "print(data['debt'].value_counts())"
   ]
  },
  {
   "cell_type": "code",
   "execution_count": 26,
   "id": "5e8e246d",
   "metadata": {},
   "outputs": [
    {
     "name": "stdout",
     "output_type": "stream",
     "text": [
      "children\n",
      "0    14091\n",
      "1     4808\n",
      "2     2052\n",
      "3      330\n",
      "4       41\n",
      "5        9\n",
      "Name: income_type, dtype: int64\n"
     ]
    }
   ],
   "source": [
    "# we group clients by the number of children\n",
    "print(data.groupby('children')['income_type'].count())"
   ]
  },
  {
   "cell_type": "code",
   "execution_count": 27,
   "id": "4f044b41",
   "metadata": {},
   "outputs": [
    {
     "name": "stdout",
     "output_type": "stream",
     "text": [
      "           sum  count percentages\n",
      "          debt   debt        debt\n",
      "children                         \n",
      "0         1063  14091       7.54%\n",
      "1          444   4808       9.23%\n",
      "2          194   2052       9.45%\n",
      "3           27    330       8.18%\n",
      "4            4     41       9.76%\n",
      "5            0      9        0.0%\n"
     ]
    }
   ],
   "source": [
    "# first, we write a function that converts a number into a string consisting of a number and a percent sign\n",
    "def percentages(to_percent):\n",
    "    return str(round((to_percent.sum() / to_percent.count()) * 100, 2)) + '%'\n",
    "# let's create a summary table in which the data will be grouped by the column 'children'\n",
    "# and the total number of loans taken, the number of loans not returned on time will be calculated\n",
    "# and the share of loans not returned on time\n",
    "data_children = data.pivot_table(index=['children'], values=['debt'], aggfunc=['sum', 'count', percentages])\n",
    "print(data_children)"
   ]
  },
  {
   "cell_type": "code",
   "execution_count": 28,
   "id": "344e8710",
   "metadata": {},
   "outputs": [
    {
     "name": "stdout",
     "output_type": "stream",
     "text": [
      "         number of debtor clients clients total number percentage of debtors\n",
      "                             debt                 debt                  debt\n",
      "children                                                                    \n",
      "0                            1063                14091                 7.54%\n",
      "1                             444                 4808                 9.23%\n",
      "2                             194                 2052                 9.45%\n",
      "3                              27                  330                 8.18%\n",
      "4                               4                   41                 9.76%\n",
      "5                               0                    9                  0.0%\n"
     ]
    }
   ],
   "source": [
    "# we will assign more understandable names to the columns of the table for the customer\n",
    "data_children = data_children.rename(columns = {'sum' : 'number of debtor clients', \n",
    "                                                'count' : 'clients total number', 'percentages' : 'percentage of debtors'})\n",
    "print(data_children)"
   ]
  },
  {
   "cell_type": "markdown",
   "id": "2eb9088e",
   "metadata": {
    "deletable": false,
    "id": "2eb9088e"
   },
   "source": [
    "**Conclusion: it was not possible to find a direct relationship between the number of children and the repayment of the loan on time, since the percentage of loans returned on time does not change significantly with different numbers of children.\n",
    "Nevertheless, it can be said that most of the bank's customers taking out a loan do not have children and are more diligent in repaying the loan than people with 1.2 children. It is difficult to say anything definite about clients with 3 children or more because of their low representation in the sample.**"
   ]
  },
  {
   "cell_type": "markdown",
   "id": "74c9b3a7",
   "metadata": {
    "id": "74c9b3a7"
   },
   "source": [
    "### Есть ли зависимость между семейным положением и возвратом кредита в срок?"
   ]
  },
  {
   "cell_type": "code",
   "execution_count": 29,
   "id": "8098ab3b",
   "metadata": {
    "deletable": false,
    "id": "8098ab3b"
   },
   "outputs": [
    {
     "name": "stdout",
     "output_type": "stream",
     "text": [
      "['женат / замужем' 'гражданский брак' 'вдовец / вдова' 'в разводе'\n",
      " 'Не женат / не замужем']\n",
      "женат / замужем          12261\n",
      "гражданский брак          4134\n",
      "Не женат / не замужем     2796\n",
      "в разводе                 1189\n",
      "вдовец / вдова             951\n",
      "Name: family_status, dtype: int64\n"
     ]
    }
   ],
   "source": [
    "# we find the unique values of the 'family_status' column and look at the distribution of clients by their marital status\n",
    "print(data['family_status'].unique())\n",
    "print(data['family_status'].value_counts())"
   ]
  },
  {
   "cell_type": "code",
   "execution_count": 30,
   "id": "ed4c7d8c",
   "metadata": {},
   "outputs": [
    {
     "name": "stdout",
     "output_type": "stream",
     "text": [
      "                       sum  count percentages\n",
      "                      debt   debt        debt\n",
      "family_status                                \n",
      "Не женат / не замужем  273   2796       9.76%\n",
      "в разводе               84   1189       7.06%\n",
      "вдовец / вдова          63    951       6.62%\n",
      "гражданский брак       385   4134       9.31%\n",
      "женат / замужем        927  12261       7.56%\n"
     ]
    }
   ],
   "source": [
    "# create a pivot table in which the data will be grouped by the 'family_status' column\n",
    "# and the total number of loans taken, the number of loans not returned on time is calculated\n",
    "# and the share of loans not returned on time\n",
    "data_family_status = data.pivot_table(index=['family_status'], values=['debt'], aggfunc=['sum', 'count', percentages])\n",
    "print(data_family_status)"
   ]
  },
  {
   "cell_type": "code",
   "execution_count": 31,
   "id": "d00d92e9",
   "metadata": {},
   "outputs": [
    {
     "name": "stdout",
     "output_type": "stream",
     "text": [
      "                      number of debtor clients clients total number  \\\n",
      "                                          debt                 debt   \n",
      "family_status                                                         \n",
      "Не женат / не замужем                      273                 2796   \n",
      "в разводе                                   84                 1189   \n",
      "вдовец / вдова                              63                  951   \n",
      "гражданский брак                           385                 4134   \n",
      "женат / замужем                            927                12261   \n",
      "\n",
      "                      percentage of debtors  \n",
      "                                       debt  \n",
      "family_status                                \n",
      "Не женат / не замужем                 9.76%  \n",
      "в разводе                             7.06%  \n",
      "вдовец / вдова                        6.62%  \n",
      "гражданский брак                      9.31%  \n",
      "женат / замужем                       7.56%  \n"
     ]
    }
   ],
   "source": [
    "# we will assign more understandable names to the columns of the table for the customer\n",
    "data_family_status = data_family_status.rename(columns = {'sum' : 'number of debtor clients', \n",
    "                                                          'count' : 'clients total number', \n",
    "                                                          'percentages' : 'percentage of debtors'})\n",
    "print(data_family_status)"
   ]
  },
  {
   "cell_type": "markdown",
   "id": "c389ca63",
   "metadata": {
    "deletable": false,
    "id": "c389ca63"
   },
   "source": [
    "**Conclusion: it was not possible to find a direct relationship between marital status and repayment of the loan on time, since the percentage of loans returned on time does not change significantly with different marital status.\n",
    "Nevertheless, it can be said that most of the bank's customers taking out a loan are married.\n",
    "Further, we can say that widows/widowers are more executive in repaying the loan, the least executive are Unmarried / unmarried clients, as well as clients who are in a civil marriage.**"
   ]
  },
  {
   "cell_type": "markdown",
   "id": "9529de68",
   "metadata": {
    "id": "9529de68"
   },
   "source": [
    "### Is there a relationship between the level of income and repayment of the loan on time?"
   ]
  },
  {
   "cell_type": "code",
   "execution_count": 32,
   "id": "8787f44a",
   "metadata": {
    "deletable": false,
    "id": "8787f44a"
   },
   "outputs": [
    {
     "name": "stdout",
     "output_type": "stream",
     "text": [
      "['B' 'C' 'D' 'E' 'A']\n",
      "C    15921\n",
      "B     5014\n",
      "D      349\n",
      "A       25\n",
      "E       22\n",
      "Name: total_income_category, dtype: int64\n"
     ]
    }
   ],
   "source": [
    "# we find the unique values of the 'total_income_category' column and look at the distribution of customers by their income level\n",
    "print(data['total_income_category'].unique())\n",
    "print(data['total_income_category'].value_counts())"
   ]
  },
  {
   "cell_type": "code",
   "execution_count": 33,
   "id": "06951098",
   "metadata": {},
   "outputs": [
    {
     "name": "stdout",
     "output_type": "stream",
     "text": [
      "                        sum  count percentages\n",
      "                       debt   debt        debt\n",
      "total_income_category                         \n",
      "A                         2     25        8.0%\n",
      "B                       354   5014       7.06%\n",
      "C                      1353  15921        8.5%\n",
      "D                        21    349       6.02%\n",
      "E                         2     22       9.09%\n"
     ]
    }
   ],
   "source": [
    "# create a pivot table in which the data will be grouped by the column 'total_income_category'\n",
    "# and the total number of loans taken, the number of loans not returned in time is calculated\n",
    "# and the share of non-timely repaid loans\n",
    "data_total_income_category = data.pivot_table(index=['total_income_category'], \n",
    "                                              values=['debt'], aggfunc=['sum', 'count', percentages])\n",
    "print(data_total_income_category)"
   ]
  },
  {
   "cell_type": "code",
   "execution_count": 34,
   "id": "dd40bd40",
   "metadata": {},
   "outputs": [
    {
     "name": "stdout",
     "output_type": "stream",
     "text": [
      "                      number of debtor clients clients total number  \\\n",
      "                                          debt                 debt   \n",
      "total_income_category                                                 \n",
      "A                                            2                   25   \n",
      "B                                          354                 5014   \n",
      "C                                         1353                15921   \n",
      "D                                           21                  349   \n",
      "E                                            2                   22   \n",
      "\n",
      "                      percentage of debtors  \n",
      "                                       debt  \n",
      "total_income_category                        \n",
      "A                                      8.0%  \n",
      "B                                     7.06%  \n",
      "C                                      8.5%  \n",
      "D                                     6.02%  \n",
      "E                                     9.09%  \n"
     ]
    }
   ],
   "source": [
    "# we will assign more understandable names to the columns of the table for the customer\n",
    "data_total_income_category = data_total_income_category.rename(columns = {'sum' : 'number of debtor clients', \n",
    "                                                                          'count' : 'clients total number', \n",
    "                                                                          'percentages' : 'percentage of debtors'})\n",
    "print(data_total_income_category)"
   ]
  },
  {
   "cell_type": "markdown",
   "id": "6dd14b57",
   "metadata": {
    "deletable": false,
    "id": "6dd14b57"
   },
   "source": [
    "**Conclusion: it was not possible to find a direct relationship between the number of children and the income level, since the percentage of loans repaid on time does not change significantly with different income levels.\n",
    "Nevertheless, we can say that most of the bank's customers taking out a loan are people with income levels from 50,000 to 200,000 and from 200,000 to 1,000,000.\n",
    "Clients with an income level from 200,000 to 1,000,000 are more diligent in repaying the loan than clients with an income level from 50,000 to 200,000.\n",
    "It is difficult to say anything definite about clients with other income levels due to their low representation in the sample.**"
   ]
  },
  {
   "cell_type": "markdown",
   "id": "1dcc9b12",
   "metadata": {
    "id": "1dcc9b12"
   },
   "source": [
    "### How do different loan goals affect its repayment on time?"
   ]
  },
  {
   "cell_type": "code",
   "execution_count": 35,
   "id": "c602bc8b",
   "metadata": {
    "deletable": false,
    "id": "c602bc8b"
   },
   "outputs": [
    {
     "name": "stdout",
     "output_type": "stream",
     "text": [
      "['операции с недвижимостью' 'операции с автомобилем'\n",
      " 'получение образования' 'проведение свадьбы']\n",
      "операции с недвижимостью    10751\n",
      "операции с автомобилем       4279\n",
      "получение образования        3988\n",
      "проведение свадьбы           2313\n",
      "Name: purpose_category, dtype: int64\n"
     ]
    }
   ],
   "source": [
    "# we find the unique values of the 'total_income_category' column and look at the distribution of customers by their income level\n",
    "print(data['purpose_category'].unique())\n",
    "print(data['purpose_category'].value_counts())"
   ]
  },
  {
   "cell_type": "code",
   "execution_count": 36,
   "id": "28227d39",
   "metadata": {},
   "outputs": [
    {
     "name": "stdout",
     "output_type": "stream",
     "text": [
      "                          sum  count percentages\n",
      "                         debt   debt        debt\n",
      "purpose_category                                \n",
      "операции с автомобилем    400   4279       9.35%\n",
      "операции с недвижимостью  780  10751       7.26%\n",
      "получение образования     369   3988       9.25%\n",
      "проведение свадьбы        183   2313       7.91%\n"
     ]
    }
   ],
   "source": [
    "# create a pivot table in which the data will be grouped by the 'purpose_category' column\n",
    "# and the total number of loans taken, the number of loans not returned on time is calculated\n",
    "# and the share of loans not returned on time\n",
    "data_purpose_category = data.pivot_table(index=['purpose_category'], values=['debt'], aggfunc=['sum', 'count', percentages])\n",
    "print(data_purpose_category)"
   ]
  },
  {
   "cell_type": "code",
   "execution_count": 37,
   "id": "c6fb0efe",
   "metadata": {},
   "outputs": [
    {
     "name": "stdout",
     "output_type": "stream",
     "text": [
      "                         number of debtor clients clients total number  \\\n",
      "                                             debt                 debt   \n",
      "purpose_category                                                         \n",
      "операции с автомобилем                        400                 4279   \n",
      "операции с недвижимостью                      780                10751   \n",
      "получение образования                         369                 3988   \n",
      "проведение свадьбы                            183                 2313   \n",
      "\n",
      "                         percentage of debtors  \n",
      "                                          debt  \n",
      "purpose_category                                \n",
      "операции с автомобилем                   9.35%  \n",
      "операции с недвижимостью                 7.26%  \n",
      "получение образования                    9.25%  \n",
      "проведение свадьбы                       7.91%  \n"
     ]
    }
   ],
   "source": [
    "# we will assign more understandable names to the columns of the table for the customer\n",
    "data_purpose_category = data_purpose_category.rename(columns = {'sum' : 'number of debtor clients', \n",
    "                                                                'count' : 'clients total number', \n",
    "                                                                'percentages' : 'percentage of debtors'})\n",
    "print(data_purpose_category)"
   ]
  },
  {
   "cell_type": "markdown",
   "id": "cf05ed63",
   "metadata": {
    "deletable": false,
    "id": "cf05ed63"
   },
   "source": [
    "**Conclusion: it was not possible to find a direct relationship between the purpose of the loan and its repayment on time, since the percentage of loans returned on time does not change significantly with different loan goals.\n",
    "Nevertheless, it can be said that most of the bank's customers who take out a loan take it for real estate transactions.\n",
    "Further, we can say that customers who take out a loan for real estate transactions are more diligent in repaying the loan.\n",
    "The least executive are customers who take out a loan for car operations and for education.**"
   ]
  },
  {
   "cell_type": "markdown",
   "id": "46c1f10b",
   "metadata": {
    "id": "46c1f10b"
   },
   "source": [
    "### Here are the possible reasons for the appearance of omissions in the source data."
   ]
  },
  {
   "cell_type": "markdown",
   "id": "3697d2a9",
   "metadata": {
    "id": "3697d2a9"
   },
   "source": [
    "1) Considering that the number of omissions in the columns 'days_employed' and 'total_income' is completely the same, it can be assumed that a software failure occurred and the data in these columns were not saved for the clients.\n",
    "2) Perhaps some of the clients decided not to indicate their work experience and monthly income, as they decided that this would reduce their chances of obtaining a loan. It is obvious that banks are less willing to lend to people with low income and low work experience."
   ]
  },
  {
   "cell_type": "markdown",
   "id": "3137d257",
   "metadata": {
    "id": "3137d257"
   },
   "source": [
    "### Let's explain why filling in the gaps with the median value is the best solution for quantitative variables."
   ]
  },
  {
   "cell_type": "markdown",
   "id": "cf40012a",
   "metadata": {
    "deletable": false,
    "id": "cf40012a"
   },
   "source": [
    "Because we cannot be 100% sure how distorted the data is and how much they are shifted in one direction or another.\n",
    "Using the median allows us to operate on a typical value among the data, which is not affected by outliers (very large or very small values in the dataset)."
   ]
  },
  {
   "cell_type": "markdown",
   "id": "57bc304e",
   "metadata": {
    "id": "57bc304e"
   },
   "source": [
    "### Step 4: General output."
   ]
  },
  {
   "cell_type": "markdown",
   "id": "1ab75d1c",
   "metadata": {
    "deletable": false,
    "id": "1ab75d1c"
   },
   "source": [
    "In this project, we solved the problem of the influence of various factors (number of children, marital status, income level, purpose of the loan) on the repayment of the loan by the client on time.\n",
    "The project was divided into two parts: in the first part we analyzed and processed the data, in the second we analyzed and investigated them.\n",
    "\n",
    "When executing the first part of the project, we came across the fact that there are gaps in the columns 'days_employed' and 'total_income'.\n",
    "This may be due either to a software glitch, or to the fact that customers deliberately did not fill in this data, deciding that this would increase their chances of getting a loan. The gaps in these columns were filled with median values.\n",
    "\n",
    "When performing the second part of the project, neither the number of children, nor marital status, nor income level and the purpose of the loan, have a decisive impact on the repayment of the loan term.\n",
    "Nevertheless, the following can be argued:\n",
    "1) the majority of customers (92%) are trustworthy and repay the loan on time.\n",
    "2) most of the bank's customers taking out a loan do not have children and are more diligent in repaying the loan than people with 1.2 children.\n",
    "3) most of the bank's customers taking out a loan are married. Further, we can say that widows/widowers are more executive in repaying the loan, the least executive are Unmarried / unmarried clients, as well as clients who are in a civil marriage.\n",
    "4) most of the bank's customers taking out a loan are people with an income level from 50,000 to 200,000 and from 200,000 to 1,000,000. Clients with an income level from 200,000 to 1,000,000 are more diligent in repaying a loan than clients with an income level from 50,000 to 200,000.\n",
    "5) most of the bank's clients taking out a loan take it for real estate transactions. Further, we can say that customers who take out a loan for real estate transactions are more diligent in repaying the loan. The least executive are customers who take out a loan for car operations and for education.\n",
    "\n",
    "It was also found that there are few clients in the data from the bank with three or more children and income levels of categories A, D, E. This fact has a direct impact on the analysis of the dependencies between the number of children and income level on loan repayment on time."
   ]
  }
 ],
 "metadata": {
  "ExecuteTimeLog": [
   {
    "duration": 55,
    "start_time": "2023-03-28T11:39:34.939Z"
   },
   {
    "duration": 811,
    "start_time": "2023-03-28T11:39:51.541Z"
   },
   {
    "duration": 24,
    "start_time": "2023-03-28T11:39:52.355Z"
   },
   {
    "duration": 40,
    "start_time": "2023-03-28T11:39:52.381Z"
   },
   {
    "duration": 40,
    "start_time": "2023-03-28T11:39:52.424Z"
   },
   {
    "duration": 80,
    "start_time": "2023-03-28T11:39:52.466Z"
   },
   {
    "duration": 5,
    "start_time": "2023-03-28T11:39:52.549Z"
   },
   {
    "duration": 26,
    "start_time": "2023-03-28T11:39:52.556Z"
   },
   {
    "duration": 24,
    "start_time": "2023-03-28T11:39:52.584Z"
   },
   {
    "duration": 47,
    "start_time": "2023-03-28T11:39:52.611Z"
   },
   {
    "duration": 6,
    "start_time": "2023-03-28T11:39:52.662Z"
   },
   {
    "duration": 70,
    "start_time": "2023-03-28T11:39:52.670Z"
   },
   {
    "duration": 15,
    "start_time": "2023-03-28T11:39:52.742Z"
   },
   {
    "duration": 28,
    "start_time": "2023-03-28T11:39:52.759Z"
   },
   {
    "duration": 40,
    "start_time": "2023-03-28T11:39:52.790Z"
   },
   {
    "duration": 46,
    "start_time": "2023-03-28T11:39:52.832Z"
   },
   {
    "duration": 18,
    "start_time": "2023-03-28T11:39:52.880Z"
   },
   {
    "duration": 4,
    "start_time": "2023-03-28T11:39:52.899Z"
   },
   {
    "duration": 31,
    "start_time": "2023-03-28T11:39:52.905Z"
   },
   {
    "duration": 14,
    "start_time": "2023-03-28T11:39:52.939Z"
   },
   {
    "duration": 20,
    "start_time": "2023-03-28T11:39:52.954Z"
   },
   {
    "duration": 31,
    "start_time": "2023-03-28T11:39:52.975Z"
   },
   {
    "duration": 33,
    "start_time": "2023-03-28T11:39:53.009Z"
   },
   {
    "duration": 26,
    "start_time": "2023-03-28T11:39:53.046Z"
   },
   {
    "duration": 19,
    "start_time": "2023-03-28T11:39:53.074Z"
   },
   {
    "duration": 13,
    "start_time": "2023-03-28T11:39:53.095Z"
   },
   {
    "duration": 5,
    "start_time": "2023-03-28T11:40:33.838Z"
   },
   {
    "duration": 8,
    "start_time": "2023-03-28T11:40:58.807Z"
   },
   {
    "duration": 68,
    "start_time": "2023-03-28T11:41:29.935Z"
   },
   {
    "duration": 4,
    "start_time": "2023-03-28T11:41:34.035Z"
   },
   {
    "duration": 33,
    "start_time": "2023-03-28T11:41:37.512Z"
   },
   {
    "duration": 17,
    "start_time": "2023-03-28T11:42:03.213Z"
   },
   {
    "duration": 38,
    "start_time": "2023-03-28T11:42:32.519Z"
   },
   {
    "duration": 7,
    "start_time": "2023-03-28T11:42:35.264Z"
   },
   {
    "duration": 13,
    "start_time": "2023-03-28T11:43:04.657Z"
   },
   {
    "duration": 11,
    "start_time": "2023-03-28T11:43:34.757Z"
   },
   {
    "duration": 9,
    "start_time": "2023-03-28T11:43:47.264Z"
   },
   {
    "duration": 12,
    "start_time": "2023-03-28T11:44:41.947Z"
   },
   {
    "duration": 20,
    "start_time": "2023-03-28T11:45:02.837Z"
   },
   {
    "duration": 14,
    "start_time": "2023-03-28T11:45:15.425Z"
   },
   {
    "duration": 8,
    "start_time": "2023-03-28T11:45:28.347Z"
   },
   {
    "duration": 5,
    "start_time": "2023-03-28T11:46:22.146Z"
   },
   {
    "duration": 7,
    "start_time": "2023-03-28T11:46:35.908Z"
   },
   {
    "duration": 10,
    "start_time": "2023-03-28T11:48:01.732Z"
   },
   {
    "duration": 18,
    "start_time": "2023-03-28T11:48:16.260Z"
   },
   {
    "duration": 9,
    "start_time": "2023-03-28T11:48:28.548Z"
   },
   {
    "duration": 11,
    "start_time": "2023-03-28T11:48:41.669Z"
   },
   {
    "duration": 8,
    "start_time": "2023-03-28T11:49:00.599Z"
   },
   {
    "duration": 21,
    "start_time": "2023-03-28T11:51:12.410Z"
   },
   {
    "duration": 34,
    "start_time": "2023-03-28T11:51:33.097Z"
   },
   {
    "duration": 11,
    "start_time": "2023-03-28T11:51:50.484Z"
   },
   {
    "duration": 11,
    "start_time": "2023-03-28T11:52:03.642Z"
   },
   {
    "duration": 7,
    "start_time": "2023-03-28T11:52:18.934Z"
   },
   {
    "duration": 425,
    "start_time": "2023-03-28T14:41:15.182Z"
   },
   {
    "duration": 27,
    "start_time": "2023-03-28T14:41:15.609Z"
   },
   {
    "duration": 13,
    "start_time": "2023-03-28T14:41:15.638Z"
   },
   {
    "duration": 8,
    "start_time": "2023-03-28T14:41:15.653Z"
   },
   {
    "duration": 32,
    "start_time": "2023-03-28T14:41:15.663Z"
   },
   {
    "duration": 3,
    "start_time": "2023-03-28T14:41:15.697Z"
   },
   {
    "duration": 34,
    "start_time": "2023-03-28T14:41:15.701Z"
   },
   {
    "duration": 7,
    "start_time": "2023-03-28T14:41:15.736Z"
   },
   {
    "duration": 18,
    "start_time": "2023-03-28T14:41:15.745Z"
   },
   {
    "duration": 11,
    "start_time": "2023-03-28T14:41:15.764Z"
   },
   {
    "duration": 31,
    "start_time": "2023-03-28T14:41:15.776Z"
   },
   {
    "duration": 8,
    "start_time": "2023-03-28T14:41:15.809Z"
   },
   {
    "duration": 13,
    "start_time": "2023-03-28T14:41:15.824Z"
   },
   {
    "duration": 10,
    "start_time": "2023-03-28T14:41:15.840Z"
   },
   {
    "duration": 23,
    "start_time": "2023-03-28T14:41:15.852Z"
   },
   {
    "duration": 17,
    "start_time": "2023-03-28T14:41:15.876Z"
   },
   {
    "duration": 3,
    "start_time": "2023-03-28T14:41:15.895Z"
   },
   {
    "duration": 24,
    "start_time": "2023-03-28T14:41:15.899Z"
   },
   {
    "duration": 15,
    "start_time": "2023-03-28T14:41:15.924Z"
   },
   {
    "duration": 3,
    "start_time": "2023-03-28T14:41:15.941Z"
   },
   {
    "duration": 13,
    "start_time": "2023-03-28T14:41:15.945Z"
   },
   {
    "duration": 3,
    "start_time": "2023-03-28T14:41:15.959Z"
   },
   {
    "duration": 5,
    "start_time": "2023-03-28T14:41:15.963Z"
   },
   {
    "duration": 9,
    "start_time": "2023-03-28T14:41:15.970Z"
   },
   {
    "duration": 5,
    "start_time": "2023-03-28T14:41:15.980Z"
   },
   {
    "duration": 40,
    "start_time": "2023-03-28T14:41:15.986Z"
   },
   {
    "duration": 7,
    "start_time": "2023-03-28T14:41:16.036Z"
   },
   {
    "duration": 22,
    "start_time": "2023-03-28T14:41:16.044Z"
   },
   {
    "duration": 5,
    "start_time": "2023-03-28T14:41:16.067Z"
   },
   {
    "duration": 9,
    "start_time": "2023-03-28T14:41:16.073Z"
   },
   {
    "duration": 15,
    "start_time": "2023-03-28T14:41:16.083Z"
   },
   {
    "duration": 16,
    "start_time": "2023-03-28T14:41:16.099Z"
   },
   {
    "duration": 20,
    "start_time": "2023-03-28T14:41:16.116Z"
   },
   {
    "duration": 16,
    "start_time": "2023-03-28T14:41:16.138Z"
   },
   {
    "duration": 6,
    "start_time": "2023-03-28T14:41:16.155Z"
   },
   {
    "duration": 15,
    "start_time": "2023-03-28T14:41:16.162Z"
   },
   {
    "duration": 6,
    "start_time": "2023-03-28T14:41:16.179Z"
   },
   {
    "duration": 8,
    "start_time": "2023-03-28T14:41:16.187Z"
   },
   {
    "duration": 9,
    "start_time": "2023-03-28T14:41:16.196Z"
   },
   {
    "duration": 34,
    "start_time": "2023-03-28T14:41:16.207Z"
   },
   {
    "duration": 5,
    "start_time": "2023-03-28T14:41:16.245Z"
   },
   {
    "duration": 8,
    "start_time": "2023-03-28T14:41:16.252Z"
   },
   {
    "duration": 14,
    "start_time": "2023-03-28T14:41:16.262Z"
   },
   {
    "duration": 8,
    "start_time": "2023-03-28T14:41:16.278Z"
   },
   {
    "duration": 55,
    "start_time": "2023-03-28T14:41:16.288Z"
   },
   {
    "duration": 5,
    "start_time": "2023-03-28T14:41:16.345Z"
   },
   {
    "duration": 11,
    "start_time": "2023-03-28T14:41:16.352Z"
   },
   {
    "duration": 11,
    "start_time": "2023-03-28T14:41:16.364Z"
   },
   {
    "duration": 50,
    "start_time": "2023-03-29T16:06:27.304Z"
   },
   {
    "duration": 73,
    "start_time": "2023-03-29T16:14:11.123Z"
   },
   {
    "duration": 62,
    "start_time": "2023-03-29T16:14:23.634Z"
   },
   {
    "duration": 0,
    "start_time": "2023-03-29T16:14:23.699Z"
   },
   {
    "duration": 0,
    "start_time": "2023-03-29T16:14:23.700Z"
   },
   {
    "duration": 0,
    "start_time": "2023-03-29T16:14:23.701Z"
   },
   {
    "duration": 0,
    "start_time": "2023-03-29T16:14:23.702Z"
   },
   {
    "duration": 0,
    "start_time": "2023-03-29T16:14:23.703Z"
   },
   {
    "duration": 1,
    "start_time": "2023-03-29T16:14:23.704Z"
   },
   {
    "duration": 0,
    "start_time": "2023-03-29T16:14:23.706Z"
   },
   {
    "duration": 0,
    "start_time": "2023-03-29T16:14:23.707Z"
   },
   {
    "duration": 0,
    "start_time": "2023-03-29T16:14:23.708Z"
   },
   {
    "duration": 0,
    "start_time": "2023-03-29T16:14:23.709Z"
   },
   {
    "duration": 0,
    "start_time": "2023-03-29T16:14:23.711Z"
   },
   {
    "duration": 0,
    "start_time": "2023-03-29T16:14:23.712Z"
   },
   {
    "duration": 0,
    "start_time": "2023-03-29T16:14:23.714Z"
   },
   {
    "duration": 0,
    "start_time": "2023-03-29T16:14:23.715Z"
   },
   {
    "duration": 0,
    "start_time": "2023-03-29T16:14:23.716Z"
   },
   {
    "duration": 0,
    "start_time": "2023-03-29T16:14:23.717Z"
   },
   {
    "duration": 0,
    "start_time": "2023-03-29T16:14:23.718Z"
   },
   {
    "duration": 0,
    "start_time": "2023-03-29T16:14:23.718Z"
   },
   {
    "duration": 0,
    "start_time": "2023-03-29T16:14:23.719Z"
   },
   {
    "duration": 0,
    "start_time": "2023-03-29T16:14:23.720Z"
   },
   {
    "duration": 0,
    "start_time": "2023-03-29T16:14:23.721Z"
   },
   {
    "duration": 0,
    "start_time": "2023-03-29T16:14:23.722Z"
   },
   {
    "duration": 0,
    "start_time": "2023-03-29T16:14:23.723Z"
   },
   {
    "duration": 0,
    "start_time": "2023-03-29T16:14:23.724Z"
   },
   {
    "duration": 0,
    "start_time": "2023-03-29T16:14:23.724Z"
   },
   {
    "duration": 0,
    "start_time": "2023-03-29T16:14:23.725Z"
   },
   {
    "duration": 0,
    "start_time": "2023-03-29T16:14:23.726Z"
   },
   {
    "duration": 64,
    "start_time": "2023-03-29T16:14:23.776Z"
   },
   {
    "duration": 0,
    "start_time": "2023-03-29T16:14:23.872Z"
   },
   {
    "duration": 0,
    "start_time": "2023-03-29T16:14:23.873Z"
   },
   {
    "duration": 0,
    "start_time": "2023-03-29T16:14:23.874Z"
   },
   {
    "duration": 0,
    "start_time": "2023-03-29T16:14:23.875Z"
   },
   {
    "duration": 0,
    "start_time": "2023-03-29T16:14:23.876Z"
   },
   {
    "duration": 0,
    "start_time": "2023-03-29T16:14:23.877Z"
   },
   {
    "duration": 0,
    "start_time": "2023-03-29T16:14:23.879Z"
   },
   {
    "duration": 0,
    "start_time": "2023-03-29T16:14:23.880Z"
   },
   {
    "duration": 0,
    "start_time": "2023-03-29T16:14:23.883Z"
   },
   {
    "duration": 0,
    "start_time": "2023-03-29T16:14:23.884Z"
   },
   {
    "duration": 0,
    "start_time": "2023-03-29T16:14:23.885Z"
   },
   {
    "duration": 0,
    "start_time": "2023-03-29T16:14:23.886Z"
   },
   {
    "duration": 0,
    "start_time": "2023-03-29T16:14:23.888Z"
   },
   {
    "duration": 0,
    "start_time": "2023-03-29T16:14:23.889Z"
   },
   {
    "duration": 0,
    "start_time": "2023-03-29T16:14:23.891Z"
   },
   {
    "duration": 0,
    "start_time": "2023-03-29T16:14:23.892Z"
   },
   {
    "duration": 0,
    "start_time": "2023-03-29T16:14:23.893Z"
   },
   {
    "duration": 0,
    "start_time": "2023-03-29T16:14:23.895Z"
   },
   {
    "duration": 0,
    "start_time": "2023-03-29T16:14:23.896Z"
   },
   {
    "duration": 0,
    "start_time": "2023-03-29T16:14:23.898Z"
   },
   {
    "duration": 6,
    "start_time": "2023-03-29T16:14:37.734Z"
   },
   {
    "duration": 8,
    "start_time": "2023-03-29T16:14:48.567Z"
   },
   {
    "duration": 6,
    "start_time": "2023-03-29T16:15:04.115Z"
   },
   {
    "duration": 19,
    "start_time": "2023-03-29T16:15:21.432Z"
   },
   {
    "duration": 9,
    "start_time": "2023-03-29T16:15:40.988Z"
   },
   {
    "duration": 4,
    "start_time": "2023-03-29T16:15:45.995Z"
   },
   {
    "duration": 5,
    "start_time": "2023-03-29T16:15:49.294Z"
   },
   {
    "duration": 4,
    "start_time": "2023-03-29T16:16:31.618Z"
   },
   {
    "duration": 6,
    "start_time": "2023-03-29T16:16:34.413Z"
   },
   {
    "duration": 7,
    "start_time": "2023-03-29T16:16:41.643Z"
   },
   {
    "duration": 7,
    "start_time": "2023-03-29T16:16:45.287Z"
   },
   {
    "duration": 14,
    "start_time": "2023-03-29T16:16:51.742Z"
   },
   {
    "duration": 22,
    "start_time": "2023-03-29T16:16:59.383Z"
   },
   {
    "duration": 15,
    "start_time": "2023-03-29T16:17:05.940Z"
   },
   {
    "duration": 5,
    "start_time": "2023-03-29T16:17:10.028Z"
   },
   {
    "duration": 7,
    "start_time": "2023-03-29T16:17:22.212Z"
   },
   {
    "duration": 20,
    "start_time": "2023-03-29T16:17:27.472Z"
   },
   {
    "duration": 46,
    "start_time": "2023-03-29T16:22:34.762Z"
   },
   {
    "duration": 5,
    "start_time": "2023-03-29T16:22:47.812Z"
   },
   {
    "duration": 225,
    "start_time": "2023-03-29T16:22:50.216Z"
   },
   {
    "duration": 34,
    "start_time": "2023-03-29T16:26:26.095Z"
   },
   {
    "duration": 20,
    "start_time": "2023-03-29T16:28:02.596Z"
   },
   {
    "duration": 8,
    "start_time": "2023-03-29T16:28:41.626Z"
   },
   {
    "duration": 16,
    "start_time": "2023-03-29T16:30:37.142Z"
   },
   {
    "duration": 11,
    "start_time": "2023-03-29T16:31:01.473Z"
   },
   {
    "duration": 7,
    "start_time": "2023-03-29T16:32:03.256Z"
   },
   {
    "duration": 13,
    "start_time": "2023-03-29T16:34:57.883Z"
   },
   {
    "duration": 27,
    "start_time": "2023-03-29T16:38:19.281Z"
   },
   {
    "duration": 8,
    "start_time": "2023-03-29T16:47:42.132Z"
   },
   {
    "duration": 8,
    "start_time": "2023-03-29T16:50:44.213Z"
   },
   {
    "duration": 4,
    "start_time": "2023-03-29T16:50:47.489Z"
   },
   {
    "duration": 194,
    "start_time": "2023-03-29T16:50:50.423Z"
   },
   {
    "duration": 30,
    "start_time": "2023-03-29T16:53:01.813Z"
   },
   {
    "duration": 18,
    "start_time": "2023-03-29T16:54:47.526Z"
   },
   {
    "duration": 9,
    "start_time": "2023-03-29T17:00:11.000Z"
   },
   {
    "duration": 6,
    "start_time": "2023-03-29T17:00:13.869Z"
   },
   {
    "duration": 1033,
    "start_time": "2023-03-29T17:00:16.223Z"
   },
   {
    "duration": 1009,
    "start_time": "2023-03-29T17:00:34.456Z"
   },
   {
    "duration": 8,
    "start_time": "2023-03-29T17:01:55.988Z"
   },
   {
    "duration": 895,
    "start_time": "2023-03-29T17:02:00.690Z"
   },
   {
    "duration": 16,
    "start_time": "2023-03-29T17:02:16.977Z"
   },
   {
    "duration": 1013,
    "start_time": "2023-03-29T17:03:11.026Z"
   },
   {
    "duration": 117,
    "start_time": "2023-03-29T17:04:37.499Z"
   },
   {
    "duration": 0,
    "start_time": "2023-03-29T17:04:37.619Z"
   },
   {
    "duration": 0,
    "start_time": "2023-03-29T17:04:37.620Z"
   },
   {
    "duration": 0,
    "start_time": "2023-03-29T17:04:37.621Z"
   },
   {
    "duration": 0,
    "start_time": "2023-03-29T17:04:37.622Z"
   },
   {
    "duration": 0,
    "start_time": "2023-03-29T17:04:37.623Z"
   },
   {
    "duration": 0,
    "start_time": "2023-03-29T17:04:37.624Z"
   },
   {
    "duration": 0,
    "start_time": "2023-03-29T17:04:37.626Z"
   },
   {
    "duration": 0,
    "start_time": "2023-03-29T17:04:37.627Z"
   },
   {
    "duration": 0,
    "start_time": "2023-03-29T17:04:37.628Z"
   },
   {
    "duration": 0,
    "start_time": "2023-03-29T17:04:37.628Z"
   },
   {
    "duration": 0,
    "start_time": "2023-03-29T17:04:37.629Z"
   },
   {
    "duration": 0,
    "start_time": "2023-03-29T17:04:37.630Z"
   },
   {
    "duration": 0,
    "start_time": "2023-03-29T17:04:37.631Z"
   },
   {
    "duration": 0,
    "start_time": "2023-03-29T17:04:37.632Z"
   },
   {
    "duration": 0,
    "start_time": "2023-03-29T17:04:37.633Z"
   },
   {
    "duration": 0,
    "start_time": "2023-03-29T17:04:37.634Z"
   },
   {
    "duration": 0,
    "start_time": "2023-03-29T17:04:37.635Z"
   },
   {
    "duration": 0,
    "start_time": "2023-03-29T17:04:37.636Z"
   },
   {
    "duration": 0,
    "start_time": "2023-03-29T17:04:37.638Z"
   },
   {
    "duration": 0,
    "start_time": "2023-03-29T17:04:37.639Z"
   },
   {
    "duration": 0,
    "start_time": "2023-03-29T17:04:37.640Z"
   },
   {
    "duration": 0,
    "start_time": "2023-03-29T17:04:37.641Z"
   },
   {
    "duration": 0,
    "start_time": "2023-03-29T17:04:37.642Z"
   },
   {
    "duration": 0,
    "start_time": "2023-03-29T17:04:37.643Z"
   },
   {
    "duration": 0,
    "start_time": "2023-03-29T17:04:37.644Z"
   },
   {
    "duration": 0,
    "start_time": "2023-03-29T17:04:37.645Z"
   },
   {
    "duration": 0,
    "start_time": "2023-03-29T17:04:37.646Z"
   },
   {
    "duration": 63,
    "start_time": "2023-03-29T17:04:37.665Z"
   },
   {
    "duration": 0,
    "start_time": "2023-03-29T17:04:37.730Z"
   },
   {
    "duration": 0,
    "start_time": "2023-03-29T17:04:37.732Z"
   },
   {
    "duration": 0,
    "start_time": "2023-03-29T17:04:37.734Z"
   },
   {
    "duration": 0,
    "start_time": "2023-03-29T17:04:37.735Z"
   },
   {
    "duration": 0,
    "start_time": "2023-03-29T17:04:37.737Z"
   },
   {
    "duration": 0,
    "start_time": "2023-03-29T17:04:37.739Z"
   },
   {
    "duration": 0,
    "start_time": "2023-03-29T17:04:37.740Z"
   },
   {
    "duration": 0,
    "start_time": "2023-03-29T17:04:37.778Z"
   },
   {
    "duration": 0,
    "start_time": "2023-03-29T17:04:37.779Z"
   },
   {
    "duration": 0,
    "start_time": "2023-03-29T17:04:37.779Z"
   },
   {
    "duration": 0,
    "start_time": "2023-03-29T17:04:37.780Z"
   },
   {
    "duration": 0,
    "start_time": "2023-03-29T17:04:37.780Z"
   },
   {
    "duration": 0,
    "start_time": "2023-03-29T17:04:37.781Z"
   },
   {
    "duration": 0,
    "start_time": "2023-03-29T17:04:37.782Z"
   },
   {
    "duration": 0,
    "start_time": "2023-03-29T17:04:37.782Z"
   },
   {
    "duration": 6,
    "start_time": "2023-03-29T17:04:56.400Z"
   },
   {
    "duration": 7,
    "start_time": "2023-03-29T17:04:59.884Z"
   },
   {
    "duration": 4,
    "start_time": "2023-03-29T17:05:03.365Z"
   },
   {
    "duration": 152,
    "start_time": "2023-03-29T17:05:10.856Z"
   },
   {
    "duration": 0,
    "start_time": "2023-03-29T17:05:11.011Z"
   },
   {
    "duration": 0,
    "start_time": "2023-03-29T17:05:11.013Z"
   },
   {
    "duration": 0,
    "start_time": "2023-03-29T17:05:11.014Z"
   },
   {
    "duration": 0,
    "start_time": "2023-03-29T17:05:11.015Z"
   },
   {
    "duration": 0,
    "start_time": "2023-03-29T17:05:11.017Z"
   },
   {
    "duration": 0,
    "start_time": "2023-03-29T17:05:11.018Z"
   },
   {
    "duration": 0,
    "start_time": "2023-03-29T17:05:11.019Z"
   },
   {
    "duration": 0,
    "start_time": "2023-03-29T17:05:11.020Z"
   },
   {
    "duration": 0,
    "start_time": "2023-03-29T17:05:11.021Z"
   },
   {
    "duration": 0,
    "start_time": "2023-03-29T17:05:11.022Z"
   },
   {
    "duration": 0,
    "start_time": "2023-03-29T17:05:11.023Z"
   },
   {
    "duration": 0,
    "start_time": "2023-03-29T17:05:11.024Z"
   },
   {
    "duration": 0,
    "start_time": "2023-03-29T17:05:11.025Z"
   },
   {
    "duration": 0,
    "start_time": "2023-03-29T17:05:11.026Z"
   },
   {
    "duration": 0,
    "start_time": "2023-03-29T17:05:11.027Z"
   },
   {
    "duration": 0,
    "start_time": "2023-03-29T17:05:11.027Z"
   },
   {
    "duration": 0,
    "start_time": "2023-03-29T17:05:11.028Z"
   },
   {
    "duration": 0,
    "start_time": "2023-03-29T17:05:11.029Z"
   },
   {
    "duration": 0,
    "start_time": "2023-03-29T17:05:11.030Z"
   },
   {
    "duration": 0,
    "start_time": "2023-03-29T17:05:11.031Z"
   },
   {
    "duration": 0,
    "start_time": "2023-03-29T17:05:11.032Z"
   },
   {
    "duration": 0,
    "start_time": "2023-03-29T17:05:11.033Z"
   },
   {
    "duration": 0,
    "start_time": "2023-03-29T17:05:11.034Z"
   },
   {
    "duration": 0,
    "start_time": "2023-03-29T17:05:11.034Z"
   },
   {
    "duration": 0,
    "start_time": "2023-03-29T17:05:11.035Z"
   },
   {
    "duration": 0,
    "start_time": "2023-03-29T17:05:11.036Z"
   },
   {
    "duration": 0,
    "start_time": "2023-03-29T17:05:11.037Z"
   },
   {
    "duration": 71,
    "start_time": "2023-03-29T17:05:11.046Z"
   },
   {
    "duration": 0,
    "start_time": "2023-03-29T17:05:11.119Z"
   },
   {
    "duration": 0,
    "start_time": "2023-03-29T17:05:11.121Z"
   },
   {
    "duration": 0,
    "start_time": "2023-03-29T17:05:11.122Z"
   },
   {
    "duration": 0,
    "start_time": "2023-03-29T17:05:11.124Z"
   },
   {
    "duration": 0,
    "start_time": "2023-03-29T17:05:11.125Z"
   },
   {
    "duration": 0,
    "start_time": "2023-03-29T17:05:11.126Z"
   },
   {
    "duration": 0,
    "start_time": "2023-03-29T17:05:11.127Z"
   },
   {
    "duration": 1,
    "start_time": "2023-03-29T17:05:11.127Z"
   },
   {
    "duration": 0,
    "start_time": "2023-03-29T17:05:11.128Z"
   },
   {
    "duration": 0,
    "start_time": "2023-03-29T17:05:11.129Z"
   },
   {
    "duration": 0,
    "start_time": "2023-03-29T17:05:11.130Z"
   },
   {
    "duration": 0,
    "start_time": "2023-03-29T17:05:11.131Z"
   },
   {
    "duration": 0,
    "start_time": "2023-03-29T17:05:11.131Z"
   },
   {
    "duration": 0,
    "start_time": "2023-03-29T17:05:11.132Z"
   },
   {
    "duration": 0,
    "start_time": "2023-03-29T17:05:11.132Z"
   },
   {
    "duration": 5,
    "start_time": "2023-03-29T17:05:22.204Z"
   },
   {
    "duration": 504,
    "start_time": "2023-03-29T17:05:45.686Z"
   },
   {
    "duration": 9,
    "start_time": "2023-03-29T17:05:52.008Z"
   },
   {
    "duration": 34,
    "start_time": "2023-03-29T17:06:05.213Z"
   },
   {
    "duration": 9,
    "start_time": "2023-03-29T17:06:18.949Z"
   },
   {
    "duration": 4,
    "start_time": "2023-03-29T17:06:28.663Z"
   },
   {
    "duration": 227,
    "start_time": "2023-03-29T17:06:31.940Z"
   },
   {
    "duration": 19,
    "start_time": "2023-03-29T17:06:37.466Z"
   },
   {
    "duration": 13,
    "start_time": "2023-03-29T17:06:51.802Z"
   },
   {
    "duration": 35,
    "start_time": "2023-03-29T17:07:08.819Z"
   },
   {
    "duration": 74,
    "start_time": "2023-03-29T17:08:16.187Z"
   },
   {
    "duration": 17,
    "start_time": "2023-03-29T17:08:20.184Z"
   },
   {
    "duration": 14,
    "start_time": "2023-03-29T17:08:23.656Z"
   },
   {
    "duration": 9,
    "start_time": "2023-03-29T17:08:26.338Z"
   },
   {
    "duration": 4,
    "start_time": "2023-03-29T17:08:35.845Z"
   },
   {
    "duration": 7,
    "start_time": "2023-03-29T17:08:39.225Z"
   },
   {
    "duration": 5,
    "start_time": "2023-03-29T17:08:42.503Z"
   },
   {
    "duration": 47,
    "start_time": "2023-03-29T17:08:46.162Z"
   },
   {
    "duration": 8,
    "start_time": "2023-03-29T17:08:48.336Z"
   },
   {
    "duration": 13,
    "start_time": "2023-03-29T17:08:51.928Z"
   },
   {
    "duration": 11,
    "start_time": "2023-03-29T17:09:13.014Z"
   },
   {
    "duration": 20,
    "start_time": "2023-03-29T17:09:15.286Z"
   },
   {
    "duration": 24,
    "start_time": "2023-03-29T17:09:17.728Z"
   },
   {
    "duration": 4,
    "start_time": "2023-03-29T17:09:24.693Z"
   },
   {
    "duration": 11,
    "start_time": "2023-03-29T17:09:26.942Z"
   },
   {
    "duration": 5,
    "start_time": "2023-03-29T17:09:29.822Z"
   },
   {
    "duration": 3,
    "start_time": "2023-03-29T17:09:33.906Z"
   },
   {
    "duration": 8,
    "start_time": "2023-03-29T17:09:37.899Z"
   },
   {
    "duration": 4,
    "start_time": "2023-03-29T17:09:43.941Z"
   },
   {
    "duration": 7,
    "start_time": "2023-03-29T17:09:46.708Z"
   },
   {
    "duration": 8,
    "start_time": "2023-03-29T17:09:49.678Z"
   },
   {
    "duration": 14,
    "start_time": "2023-03-29T17:09:54.283Z"
   },
   {
    "duration": 7,
    "start_time": "2023-03-29T17:09:59.620Z"
   },
   {
    "duration": 207,
    "start_time": "2023-03-29T17:10:07.800Z"
   },
   {
    "duration": 26,
    "start_time": "2023-03-29T17:10:21.452Z"
   },
   {
    "duration": 8,
    "start_time": "2023-03-29T17:10:35.560Z"
   },
   {
    "duration": 7,
    "start_time": "2023-03-29T17:10:40.159Z"
   },
   {
    "duration": 4,
    "start_time": "2023-03-29T17:10:51.937Z"
   },
   {
    "duration": 201,
    "start_time": "2023-03-29T17:10:54.191Z"
   },
   {
    "duration": 26,
    "start_time": "2023-03-29T17:11:02.382Z"
   },
   {
    "duration": 5,
    "start_time": "2023-03-29T17:12:53.912Z"
   },
   {
    "duration": 208,
    "start_time": "2023-03-29T17:12:56.365Z"
   },
   {
    "duration": 8,
    "start_time": "2023-03-29T17:14:42.555Z"
   },
   {
    "duration": 33,
    "start_time": "2023-03-29T17:16:01.398Z"
   },
   {
    "duration": 13,
    "start_time": "2023-03-29T17:16:06.951Z"
   },
   {
    "duration": 13,
    "start_time": "2023-03-29T17:17:06.525Z"
   },
   {
    "duration": 10,
    "start_time": "2023-03-29T17:18:05.407Z"
   },
   {
    "duration": 39,
    "start_time": "2023-03-29T17:20:29.219Z"
   },
   {
    "duration": 26,
    "start_time": "2023-03-29T17:20:32.969Z"
   },
   {
    "duration": 13,
    "start_time": "2023-03-29T17:20:36.559Z"
   },
   {
    "duration": 43,
    "start_time": "2023-03-29T17:20:52.116Z"
   },
   {
    "duration": 20,
    "start_time": "2023-03-29T17:20:55.701Z"
   },
   {
    "duration": 51,
    "start_time": "2023-03-29T17:21:29.535Z"
   },
   {
    "duration": 3,
    "start_time": "2023-03-29T17:21:32.218Z"
   },
   {
    "duration": 10,
    "start_time": "2023-03-29T17:21:37.701Z"
   },
   {
    "duration": 4,
    "start_time": "2023-03-29T17:21:42.768Z"
   },
   {
    "duration": 9,
    "start_time": "2023-03-29T17:21:45.364Z"
   },
   {
    "duration": 4,
    "start_time": "2023-03-29T17:21:47.825Z"
   },
   {
    "duration": 29,
    "start_time": "2023-03-29T17:21:52.309Z"
   },
   {
    "duration": 19,
    "start_time": "2023-03-29T17:21:54.684Z"
   },
   {
    "duration": 10,
    "start_time": "2023-03-29T17:22:41.321Z"
   },
   {
    "duration": 4,
    "start_time": "2023-03-29T17:25:36.997Z"
   },
   {
    "duration": 33,
    "start_time": "2023-03-29T17:25:40.892Z"
   },
   {
    "duration": 13,
    "start_time": "2023-03-29T17:25:58.520Z"
   },
   {
    "duration": 33,
    "start_time": "2023-03-29T17:26:31.296Z"
   },
   {
    "duration": 13,
    "start_time": "2023-03-29T17:26:38.257Z"
   },
   {
    "duration": 74,
    "start_time": "2023-03-29T17:27:37.727Z"
   },
   {
    "duration": 0,
    "start_time": "2023-03-29T17:27:37.804Z"
   },
   {
    "duration": 0,
    "start_time": "2023-03-29T17:27:37.805Z"
   },
   {
    "duration": 0,
    "start_time": "2023-03-29T17:27:37.806Z"
   },
   {
    "duration": 0,
    "start_time": "2023-03-29T17:27:37.807Z"
   },
   {
    "duration": 0,
    "start_time": "2023-03-29T17:27:37.808Z"
   },
   {
    "duration": 0,
    "start_time": "2023-03-29T17:27:37.809Z"
   },
   {
    "duration": 0,
    "start_time": "2023-03-29T17:27:37.811Z"
   },
   {
    "duration": 0,
    "start_time": "2023-03-29T17:27:37.813Z"
   },
   {
    "duration": 0,
    "start_time": "2023-03-29T17:27:37.816Z"
   },
   {
    "duration": 0,
    "start_time": "2023-03-29T17:27:37.817Z"
   },
   {
    "duration": 0,
    "start_time": "2023-03-29T17:27:37.819Z"
   },
   {
    "duration": 0,
    "start_time": "2023-03-29T17:27:37.821Z"
   },
   {
    "duration": 0,
    "start_time": "2023-03-29T17:27:37.822Z"
   },
   {
    "duration": 0,
    "start_time": "2023-03-29T17:27:37.822Z"
   },
   {
    "duration": 0,
    "start_time": "2023-03-29T17:27:37.823Z"
   },
   {
    "duration": 0,
    "start_time": "2023-03-29T17:27:37.824Z"
   },
   {
    "duration": 0,
    "start_time": "2023-03-29T17:27:37.825Z"
   },
   {
    "duration": 0,
    "start_time": "2023-03-29T17:27:37.826Z"
   },
   {
    "duration": 0,
    "start_time": "2023-03-29T17:27:37.827Z"
   },
   {
    "duration": 0,
    "start_time": "2023-03-29T17:27:37.828Z"
   },
   {
    "duration": 0,
    "start_time": "2023-03-29T17:27:37.828Z"
   },
   {
    "duration": 0,
    "start_time": "2023-03-29T17:27:37.829Z"
   },
   {
    "duration": 0,
    "start_time": "2023-03-29T17:27:37.830Z"
   },
   {
    "duration": 0,
    "start_time": "2023-03-29T17:27:37.831Z"
   },
   {
    "duration": 0,
    "start_time": "2023-03-29T17:27:37.832Z"
   },
   {
    "duration": 0,
    "start_time": "2023-03-29T17:27:37.833Z"
   },
   {
    "duration": 0,
    "start_time": "2023-03-29T17:27:37.833Z"
   },
   {
    "duration": 59,
    "start_time": "2023-03-29T17:27:37.939Z"
   },
   {
    "duration": 0,
    "start_time": "2023-03-29T17:27:38.001Z"
   },
   {
    "duration": 0,
    "start_time": "2023-03-29T17:27:38.002Z"
   },
   {
    "duration": 0,
    "start_time": "2023-03-29T17:27:38.002Z"
   },
   {
    "duration": 0,
    "start_time": "2023-03-29T17:27:38.004Z"
   },
   {
    "duration": 0,
    "start_time": "2023-03-29T17:27:38.005Z"
   },
   {
    "duration": 0,
    "start_time": "2023-03-29T17:27:38.006Z"
   },
   {
    "duration": 1,
    "start_time": "2023-03-29T17:27:38.006Z"
   },
   {
    "duration": 0,
    "start_time": "2023-03-29T17:27:38.007Z"
   },
   {
    "duration": 0,
    "start_time": "2023-03-29T17:27:38.008Z"
   },
   {
    "duration": 0,
    "start_time": "2023-03-29T17:27:38.009Z"
   },
   {
    "duration": 0,
    "start_time": "2023-03-29T17:27:38.010Z"
   },
   {
    "duration": 0,
    "start_time": "2023-03-29T17:27:38.011Z"
   },
   {
    "duration": 0,
    "start_time": "2023-03-29T17:27:38.012Z"
   },
   {
    "duration": 6,
    "start_time": "2023-03-29T17:27:50.834Z"
   },
   {
    "duration": 44,
    "start_time": "2023-03-29T17:27:57.716Z"
   },
   {
    "duration": 0,
    "start_time": "2023-03-29T17:27:57.761Z"
   },
   {
    "duration": 0,
    "start_time": "2023-03-29T17:27:57.762Z"
   },
   {
    "duration": 0,
    "start_time": "2023-03-29T17:27:57.763Z"
   },
   {
    "duration": 0,
    "start_time": "2023-03-29T17:27:57.764Z"
   },
   {
    "duration": 0,
    "start_time": "2023-03-29T17:27:57.765Z"
   },
   {
    "duration": 1,
    "start_time": "2023-03-29T17:27:57.765Z"
   },
   {
    "duration": 0,
    "start_time": "2023-03-29T17:27:57.768Z"
   },
   {
    "duration": 0,
    "start_time": "2023-03-29T17:27:57.770Z"
   },
   {
    "duration": 0,
    "start_time": "2023-03-29T17:27:57.771Z"
   },
   {
    "duration": 0,
    "start_time": "2023-03-29T17:27:57.771Z"
   },
   {
    "duration": 0,
    "start_time": "2023-03-29T17:27:57.772Z"
   },
   {
    "duration": 0,
    "start_time": "2023-03-29T17:27:57.772Z"
   },
   {
    "duration": 0,
    "start_time": "2023-03-29T17:27:57.773Z"
   },
   {
    "duration": 0,
    "start_time": "2023-03-29T17:27:57.773Z"
   },
   {
    "duration": 0,
    "start_time": "2023-03-29T17:27:57.782Z"
   },
   {
    "duration": 0,
    "start_time": "2023-03-29T17:27:57.782Z"
   },
   {
    "duration": 0,
    "start_time": "2023-03-29T17:27:57.783Z"
   },
   {
    "duration": 0,
    "start_time": "2023-03-29T17:27:57.783Z"
   },
   {
    "duration": 0,
    "start_time": "2023-03-29T17:27:57.783Z"
   },
   {
    "duration": 0,
    "start_time": "2023-03-29T17:27:57.784Z"
   },
   {
    "duration": 56,
    "start_time": "2023-03-29T17:27:57.787Z"
   },
   {
    "duration": 0,
    "start_time": "2023-03-29T17:27:57.844Z"
   },
   {
    "duration": 0,
    "start_time": "2023-03-29T17:27:57.845Z"
   },
   {
    "duration": 0,
    "start_time": "2023-03-29T17:27:57.846Z"
   },
   {
    "duration": 0,
    "start_time": "2023-03-29T17:27:57.847Z"
   },
   {
    "duration": 0,
    "start_time": "2023-03-29T17:27:57.848Z"
   },
   {
    "duration": 0,
    "start_time": "2023-03-29T17:27:57.848Z"
   },
   {
    "duration": 7,
    "start_time": "2023-03-29T17:27:57.905Z"
   },
   {
    "duration": 0,
    "start_time": "2023-03-29T17:27:57.913Z"
   },
   {
    "duration": 44,
    "start_time": "2023-03-29T17:27:57.919Z"
   },
   {
    "duration": 0,
    "start_time": "2023-03-29T17:27:57.964Z"
   },
   {
    "duration": 0,
    "start_time": "2023-03-29T17:27:57.965Z"
   },
   {
    "duration": 0,
    "start_time": "2023-03-29T17:27:57.966Z"
   },
   {
    "duration": 0,
    "start_time": "2023-03-29T17:27:57.967Z"
   },
   {
    "duration": 0,
    "start_time": "2023-03-29T17:27:57.968Z"
   },
   {
    "duration": 0,
    "start_time": "2023-03-29T17:27:57.969Z"
   },
   {
    "duration": 0,
    "start_time": "2023-03-29T17:27:57.970Z"
   },
   {
    "duration": 0,
    "start_time": "2023-03-29T17:27:57.971Z"
   },
   {
    "duration": 0,
    "start_time": "2023-03-29T17:27:57.971Z"
   },
   {
    "duration": 0,
    "start_time": "2023-03-29T17:27:57.972Z"
   },
   {
    "duration": 0,
    "start_time": "2023-03-29T17:27:57.972Z"
   },
   {
    "duration": 8,
    "start_time": "2023-03-29T17:28:11.123Z"
   },
   {
    "duration": 439,
    "start_time": "2023-03-29T17:28:28.018Z"
   },
   {
    "duration": 22,
    "start_time": "2023-03-29T17:28:31.303Z"
   },
   {
    "duration": 14,
    "start_time": "2023-03-29T17:28:34.795Z"
   },
   {
    "duration": 9,
    "start_time": "2023-03-29T17:28:37.837Z"
   },
   {
    "duration": 34,
    "start_time": "2023-03-29T17:28:41.933Z"
   },
   {
    "duration": 4,
    "start_time": "2023-03-29T17:28:46.164Z"
   },
   {
    "duration": 7,
    "start_time": "2023-03-29T17:28:49.413Z"
   },
   {
    "duration": 4,
    "start_time": "2023-03-29T17:28:54.714Z"
   },
   {
    "duration": 6,
    "start_time": "2023-03-29T17:28:58.444Z"
   },
   {
    "duration": 4,
    "start_time": "2023-03-29T17:29:02.129Z"
   },
   {
    "duration": 28,
    "start_time": "2023-03-29T17:29:06.008Z"
   },
   {
    "duration": 10,
    "start_time": "2023-03-29T17:29:08.794Z"
   },
   {
    "duration": 6,
    "start_time": "2023-03-29T17:29:18.090Z"
   },
   {
    "duration": 10,
    "start_time": "2023-03-29T17:29:48.303Z"
   },
   {
    "duration": 19,
    "start_time": "2023-03-29T17:29:57.818Z"
   },
   {
    "duration": 17,
    "start_time": "2023-03-29T17:30:00.694Z"
   },
   {
    "duration": 4,
    "start_time": "2023-03-29T17:30:04.696Z"
   },
   {
    "duration": 9,
    "start_time": "2023-03-29T17:30:07.841Z"
   },
   {
    "duration": 6,
    "start_time": "2023-03-29T17:30:11.330Z"
   },
   {
    "duration": 23,
    "start_time": "2023-03-29T17:30:16.770Z"
   },
   {
    "duration": 7,
    "start_time": "2023-03-29T17:30:20.751Z"
   },
   {
    "duration": 3,
    "start_time": "2023-03-29T17:30:25.363Z"
   },
   {
    "duration": 3,
    "start_time": "2023-03-29T17:30:28.534Z"
   },
   {
    "duration": 5,
    "start_time": "2023-03-29T17:30:31.607Z"
   },
   {
    "duration": 12,
    "start_time": "2023-03-29T17:30:35.910Z"
   },
   {
    "duration": 25,
    "start_time": "2023-03-29T17:30:42.469Z"
   },
   {
    "duration": 271,
    "start_time": "2023-03-29T17:30:46.254Z"
   },
   {
    "duration": 46,
    "start_time": "2023-03-29T17:30:58.147Z"
   },
   {
    "duration": 8,
    "start_time": "2023-03-29T17:31:23.230Z"
   },
   {
    "duration": 4,
    "start_time": "2023-03-29T17:31:29.465Z"
   },
   {
    "duration": 215,
    "start_time": "2023-03-29T17:31:31.921Z"
   },
   {
    "duration": 28,
    "start_time": "2023-03-29T17:31:41.035Z"
   },
   {
    "duration": 7,
    "start_time": "2023-03-29T17:33:38.195Z"
   },
   {
    "duration": 5,
    "start_time": "2023-03-29T17:34:29.396Z"
   },
   {
    "duration": 209,
    "start_time": "2023-03-29T17:35:29.502Z"
   },
   {
    "duration": 26,
    "start_time": "2023-03-29T17:36:41.893Z"
   },
   {
    "duration": 18,
    "start_time": "2023-03-29T17:38:03.969Z"
   },
   {
    "duration": 4,
    "start_time": "2023-03-29T17:39:31.607Z"
   },
   {
    "duration": 328,
    "start_time": "2023-03-29T17:39:55.538Z"
   },
   {
    "duration": 29,
    "start_time": "2023-03-29T17:41:07.118Z"
   },
   {
    "duration": 40,
    "start_time": "2023-03-29T17:42:22.495Z"
   },
   {
    "duration": 17,
    "start_time": "2023-03-29T17:46:30.704Z"
   },
   {
    "duration": 469,
    "start_time": "2023-03-29T18:27:10.954Z"
   },
   {
    "duration": 25,
    "start_time": "2023-03-29T18:27:11.426Z"
   },
   {
    "duration": 18,
    "start_time": "2023-03-29T18:27:11.453Z"
   },
   {
    "duration": 11,
    "start_time": "2023-03-29T18:27:11.473Z"
   },
   {
    "duration": 61,
    "start_time": "2023-03-29T18:27:11.485Z"
   },
   {
    "duration": 6,
    "start_time": "2023-03-29T18:27:11.548Z"
   },
   {
    "duration": 15,
    "start_time": "2023-03-29T18:27:11.556Z"
   },
   {
    "duration": 15,
    "start_time": "2023-03-29T18:27:11.573Z"
   },
   {
    "duration": 17,
    "start_time": "2023-03-29T18:27:11.589Z"
   },
   {
    "duration": 26,
    "start_time": "2023-03-29T18:27:11.608Z"
   },
   {
    "duration": 48,
    "start_time": "2023-03-29T18:27:11.636Z"
   },
   {
    "duration": 11,
    "start_time": "2023-03-29T18:27:11.686Z"
   },
   {
    "duration": 6,
    "start_time": "2023-03-29T18:27:11.698Z"
   },
   {
    "duration": 14,
    "start_time": "2023-03-29T18:27:11.705Z"
   },
   {
    "duration": 38,
    "start_time": "2023-03-29T18:27:11.721Z"
   },
   {
    "duration": 19,
    "start_time": "2023-03-29T18:27:11.760Z"
   },
   {
    "duration": 4,
    "start_time": "2023-03-29T18:27:11.780Z"
   },
   {
    "duration": 21,
    "start_time": "2023-03-29T18:27:11.785Z"
   },
   {
    "duration": 12,
    "start_time": "2023-03-29T18:27:11.807Z"
   },
   {
    "duration": 7,
    "start_time": "2023-03-29T18:27:11.821Z"
   },
   {
    "duration": 23,
    "start_time": "2023-03-29T18:27:11.829Z"
   },
   {
    "duration": 11,
    "start_time": "2023-03-29T18:27:11.855Z"
   },
   {
    "duration": 6,
    "start_time": "2023-03-29T18:27:11.868Z"
   },
   {
    "duration": 19,
    "start_time": "2023-03-29T18:27:11.876Z"
   },
   {
    "duration": 28,
    "start_time": "2023-03-29T18:27:11.897Z"
   },
   {
    "duration": 23,
    "start_time": "2023-03-29T18:27:11.927Z"
   },
   {
    "duration": 244,
    "start_time": "2023-03-29T18:27:11.951Z"
   },
   {
    "duration": 45,
    "start_time": "2023-03-29T18:27:12.198Z"
   },
   {
    "duration": 95,
    "start_time": "2023-03-29T18:27:12.245Z"
   },
   {
    "duration": 0,
    "start_time": "2023-03-29T18:27:12.341Z"
   },
   {
    "duration": 0,
    "start_time": "2023-03-29T18:27:12.343Z"
   },
   {
    "duration": 0,
    "start_time": "2023-03-29T18:27:12.344Z"
   },
   {
    "duration": 0,
    "start_time": "2023-03-29T18:27:12.345Z"
   },
   {
    "duration": 0,
    "start_time": "2023-03-29T18:27:12.346Z"
   },
   {
    "duration": 0,
    "start_time": "2023-03-29T18:27:12.347Z"
   },
   {
    "duration": 0,
    "start_time": "2023-03-29T18:27:12.348Z"
   },
   {
    "duration": 0,
    "start_time": "2023-03-29T18:27:12.350Z"
   },
   {
    "duration": 0,
    "start_time": "2023-03-29T18:27:12.351Z"
   },
   {
    "duration": 0,
    "start_time": "2023-03-29T18:27:12.351Z"
   },
   {
    "duration": 0,
    "start_time": "2023-03-29T18:27:12.352Z"
   },
   {
    "duration": 0,
    "start_time": "2023-03-29T18:27:12.354Z"
   },
   {
    "duration": 0,
    "start_time": "2023-03-29T18:27:12.355Z"
   },
   {
    "duration": 0,
    "start_time": "2023-03-29T18:27:12.356Z"
   },
   {
    "duration": 4,
    "start_time": "2023-03-29T18:36:09.356Z"
   },
   {
    "duration": 25,
    "start_time": "2023-03-29T18:36:42.151Z"
   },
   {
    "duration": 9,
    "start_time": "2023-03-29T18:36:48.864Z"
   },
   {
    "duration": 36,
    "start_time": "2023-03-29T18:39:55.029Z"
   },
   {
    "duration": 66,
    "start_time": "2023-03-31T10:12:07.802Z"
   },
   {
    "duration": 7,
    "start_time": "2023-03-31T10:20:17.671Z"
   },
   {
    "duration": 787,
    "start_time": "2023-03-31T10:20:31.807Z"
   },
   {
    "duration": 36,
    "start_time": "2023-03-31T10:20:32.597Z"
   },
   {
    "duration": 23,
    "start_time": "2023-03-31T10:20:32.636Z"
   },
   {
    "duration": 16,
    "start_time": "2023-03-31T10:20:32.663Z"
   },
   {
    "duration": 496,
    "start_time": "2023-03-31T10:20:32.681Z"
   },
   {
    "duration": 57,
    "start_time": "2023-03-31T10:20:33.180Z"
   },
   {
    "duration": 4,
    "start_time": "2023-03-31T10:20:33.239Z"
   },
   {
    "duration": 40,
    "start_time": "2023-03-31T10:20:33.244Z"
   },
   {
    "duration": 7,
    "start_time": "2023-03-31T10:20:33.286Z"
   },
   {
    "duration": 14,
    "start_time": "2023-03-31T10:20:33.297Z"
   },
   {
    "duration": 33,
    "start_time": "2023-03-31T10:20:33.314Z"
   },
   {
    "duration": 51,
    "start_time": "2023-03-31T10:20:33.349Z"
   },
   {
    "duration": 11,
    "start_time": "2023-03-31T10:20:33.402Z"
   },
   {
    "duration": 29,
    "start_time": "2023-03-31T10:20:33.415Z"
   },
   {
    "duration": 64,
    "start_time": "2023-03-31T10:20:33.445Z"
   },
   {
    "duration": 43,
    "start_time": "2023-03-31T10:20:33.511Z"
   },
   {
    "duration": 20,
    "start_time": "2023-03-31T10:20:33.556Z"
   },
   {
    "duration": 12,
    "start_time": "2023-03-31T10:20:33.578Z"
   },
   {
    "duration": 23,
    "start_time": "2023-03-31T10:20:33.591Z"
   },
   {
    "duration": 14,
    "start_time": "2023-03-31T10:20:33.616Z"
   },
   {
    "duration": 7,
    "start_time": "2023-03-31T10:20:33.633Z"
   },
   {
    "duration": 32,
    "start_time": "2023-03-31T10:20:33.642Z"
   },
   {
    "duration": 14,
    "start_time": "2023-03-31T10:20:33.676Z"
   },
   {
    "duration": 16,
    "start_time": "2023-03-31T10:20:33.692Z"
   },
   {
    "duration": 15,
    "start_time": "2023-03-31T10:20:33.710Z"
   },
   {
    "duration": 38,
    "start_time": "2023-03-31T10:20:33.726Z"
   },
   {
    "duration": 26,
    "start_time": "2023-03-31T10:20:33.766Z"
   },
   {
    "duration": 38,
    "start_time": "2023-03-31T10:20:33.797Z"
   },
   {
    "duration": 272,
    "start_time": "2023-03-31T10:20:33.836Z"
   },
   {
    "duration": 90,
    "start_time": "2023-03-31T10:20:34.110Z"
   },
   {
    "duration": 0,
    "start_time": "2023-03-31T10:20:34.202Z"
   },
   {
    "duration": 0,
    "start_time": "2023-03-31T10:20:34.205Z"
   },
   {
    "duration": 0,
    "start_time": "2023-03-31T10:20:34.206Z"
   },
   {
    "duration": 0,
    "start_time": "2023-03-31T10:20:34.218Z"
   },
   {
    "duration": 0,
    "start_time": "2023-03-31T10:20:34.220Z"
   },
   {
    "duration": 0,
    "start_time": "2023-03-31T10:20:34.221Z"
   },
   {
    "duration": 0,
    "start_time": "2023-03-31T10:20:34.222Z"
   },
   {
    "duration": 0,
    "start_time": "2023-03-31T10:20:34.224Z"
   },
   {
    "duration": 0,
    "start_time": "2023-03-31T10:20:34.225Z"
   },
   {
    "duration": 0,
    "start_time": "2023-03-31T10:20:34.226Z"
   },
   {
    "duration": 20,
    "start_time": "2023-03-31T10:25:35.336Z"
   },
   {
    "duration": 11,
    "start_time": "2023-03-31T10:27:12.059Z"
   },
   {
    "duration": 16,
    "start_time": "2023-03-31T10:28:22.278Z"
   },
   {
    "duration": 30,
    "start_time": "2023-03-31T10:33:45.461Z"
   },
   {
    "duration": 9,
    "start_time": "2023-03-31T10:35:53.769Z"
   },
   {
    "duration": 12,
    "start_time": "2023-03-31T10:38:42.973Z"
   },
   {
    "duration": 43,
    "start_time": "2023-03-31T10:39:19.784Z"
   },
   {
    "duration": 8,
    "start_time": "2023-03-31T10:40:12.156Z"
   },
   {
    "duration": 11,
    "start_time": "2023-03-31T10:40:27.492Z"
   },
   {
    "duration": 14,
    "start_time": "2023-03-31T10:43:31.917Z"
   },
   {
    "duration": 33,
    "start_time": "2023-03-31T10:44:31.272Z"
   },
   {
    "duration": 24,
    "start_time": "2023-03-31T10:45:20.311Z"
   },
   {
    "duration": 144,
    "start_time": "2023-03-31T11:00:08.144Z"
   },
   {
    "duration": 161,
    "start_time": "2023-03-31T11:02:01.784Z"
   },
   {
    "duration": 82,
    "start_time": "2023-03-31T11:04:02.243Z"
   },
   {
    "duration": 96,
    "start_time": "2023-03-31T11:05:26.090Z"
   },
   {
    "duration": 97,
    "start_time": "2023-03-31T11:09:01.573Z"
   },
   {
    "duration": 516,
    "start_time": "2023-03-31T18:45:13.027Z"
   },
   {
    "duration": 24,
    "start_time": "2023-03-31T18:45:13.546Z"
   },
   {
    "duration": 16,
    "start_time": "2023-03-31T18:45:13.572Z"
   },
   {
    "duration": 24,
    "start_time": "2023-03-31T18:45:13.590Z"
   },
   {
    "duration": 545,
    "start_time": "2023-03-31T18:45:13.616Z"
   },
   {
    "duration": 40,
    "start_time": "2023-03-31T18:45:14.163Z"
   },
   {
    "duration": 4,
    "start_time": "2023-03-31T18:45:14.205Z"
   },
   {
    "duration": 18,
    "start_time": "2023-03-31T18:45:14.211Z"
   },
   {
    "duration": 13,
    "start_time": "2023-03-31T18:45:14.231Z"
   },
   {
    "duration": 11,
    "start_time": "2023-03-31T18:45:14.246Z"
   },
   {
    "duration": 5,
    "start_time": "2023-03-31T18:45:14.259Z"
   },
   {
    "duration": 62,
    "start_time": "2023-03-31T18:45:14.266Z"
   },
   {
    "duration": 11,
    "start_time": "2023-03-31T18:45:14.330Z"
   },
   {
    "duration": 4,
    "start_time": "2023-03-31T18:45:14.344Z"
   },
   {
    "duration": 12,
    "start_time": "2023-03-31T18:45:14.350Z"
   },
   {
    "duration": 47,
    "start_time": "2023-03-31T18:45:14.364Z"
   },
   {
    "duration": 20,
    "start_time": "2023-03-31T18:45:14.414Z"
   },
   {
    "duration": 4,
    "start_time": "2023-03-31T18:45:14.436Z"
   },
   {
    "duration": 13,
    "start_time": "2023-03-31T18:45:14.441Z"
   },
   {
    "duration": 6,
    "start_time": "2023-03-31T18:45:14.456Z"
   },
   {
    "duration": 11,
    "start_time": "2023-03-31T18:45:14.463Z"
   },
   {
    "duration": 46,
    "start_time": "2023-03-31T18:45:14.476Z"
   },
   {
    "duration": 5,
    "start_time": "2023-03-31T18:45:14.523Z"
   },
   {
    "duration": 7,
    "start_time": "2023-03-31T18:45:14.530Z"
   },
   {
    "duration": 7,
    "start_time": "2023-03-31T18:45:14.538Z"
   },
   {
    "duration": 30,
    "start_time": "2023-03-31T18:45:14.547Z"
   },
   {
    "duration": 14,
    "start_time": "2023-03-31T18:45:14.604Z"
   },
   {
    "duration": 8,
    "start_time": "2023-03-31T18:45:14.621Z"
   },
   {
    "duration": 33,
    "start_time": "2023-03-31T18:45:14.630Z"
   },
   {
    "duration": 8,
    "start_time": "2023-03-31T18:45:14.665Z"
   },
   {
    "duration": 35,
    "start_time": "2023-03-31T18:45:14.675Z"
   },
   {
    "duration": 33,
    "start_time": "2023-03-31T18:45:14.712Z"
   },
   {
    "duration": 9,
    "start_time": "2023-03-31T18:45:14.747Z"
   },
   {
    "duration": 20,
    "start_time": "2023-03-31T18:45:14.758Z"
   },
   {
    "duration": 58,
    "start_time": "2023-03-31T18:45:14.780Z"
   },
   {
    "duration": 7,
    "start_time": "2023-03-31T18:45:14.840Z"
   },
   {
    "duration": 556,
    "start_time": "2023-03-31T18:46:14.041Z"
   },
   {
    "duration": 33,
    "start_time": "2023-03-31T18:46:14.599Z"
   },
   {
    "duration": 22,
    "start_time": "2023-03-31T18:46:14.634Z"
   },
   {
    "duration": 13,
    "start_time": "2023-03-31T18:46:14.659Z"
   },
   {
    "duration": 386,
    "start_time": "2023-03-31T18:46:14.674Z"
   },
   {
    "duration": 59,
    "start_time": "2023-03-31T18:46:15.063Z"
   },
   {
    "duration": 4,
    "start_time": "2023-03-31T18:46:15.125Z"
   },
   {
    "duration": 12,
    "start_time": "2023-03-31T18:46:15.131Z"
   },
   {
    "duration": 5,
    "start_time": "2023-03-31T18:46:15.146Z"
   },
   {
    "duration": 11,
    "start_time": "2023-03-31T18:46:15.154Z"
   },
   {
    "duration": 11,
    "start_time": "2023-03-31T18:46:15.167Z"
   },
   {
    "duration": 79,
    "start_time": "2023-03-31T18:46:15.180Z"
   },
   {
    "duration": 14,
    "start_time": "2023-03-31T18:46:15.261Z"
   },
   {
    "duration": 5,
    "start_time": "2023-03-31T18:46:15.277Z"
   },
   {
    "duration": 32,
    "start_time": "2023-03-31T18:46:15.283Z"
   },
   {
    "duration": 26,
    "start_time": "2023-03-31T18:46:15.317Z"
   },
   {
    "duration": 23,
    "start_time": "2023-03-31T18:46:15.344Z"
   },
   {
    "duration": 5,
    "start_time": "2023-03-31T18:46:15.370Z"
   },
   {
    "duration": 39,
    "start_time": "2023-03-31T18:46:15.378Z"
   },
   {
    "duration": 8,
    "start_time": "2023-03-31T18:46:15.418Z"
   },
   {
    "duration": 7,
    "start_time": "2023-03-31T18:46:15.431Z"
   },
   {
    "duration": 21,
    "start_time": "2023-03-31T18:46:15.441Z"
   },
   {
    "duration": 13,
    "start_time": "2023-03-31T18:46:15.464Z"
   },
   {
    "duration": 13,
    "start_time": "2023-03-31T18:46:15.479Z"
   },
   {
    "duration": 31,
    "start_time": "2023-03-31T18:46:15.503Z"
   },
   {
    "duration": 47,
    "start_time": "2023-03-31T18:46:15.536Z"
   },
   {
    "duration": 13,
    "start_time": "2023-03-31T18:46:15.586Z"
   },
   {
    "duration": 23,
    "start_time": "2023-03-31T18:46:15.603Z"
   },
   {
    "duration": 42,
    "start_time": "2023-03-31T18:46:15.629Z"
   },
   {
    "duration": 12,
    "start_time": "2023-03-31T18:46:15.673Z"
   },
   {
    "duration": 23,
    "start_time": "2023-03-31T18:46:15.688Z"
   },
   {
    "duration": 48,
    "start_time": "2023-03-31T18:46:15.714Z"
   },
   {
    "duration": 10,
    "start_time": "2023-03-31T18:46:15.764Z"
   },
   {
    "duration": 42,
    "start_time": "2023-03-31T18:46:15.776Z"
   },
   {
    "duration": 44,
    "start_time": "2023-03-31T18:46:15.819Z"
   },
   {
    "duration": 10,
    "start_time": "2023-03-31T18:46:15.865Z"
   },
   {
    "duration": 30,
    "start_time": "2023-03-31T18:49:21.491Z"
   },
   {
    "duration": 12,
    "start_time": "2023-03-31T18:49:28.691Z"
   },
   {
    "duration": 524,
    "start_time": "2023-03-31T18:49:41.366Z"
   },
   {
    "duration": 34,
    "start_time": "2023-03-31T18:49:41.892Z"
   },
   {
    "duration": 21,
    "start_time": "2023-03-31T18:49:41.928Z"
   },
   {
    "duration": 13,
    "start_time": "2023-03-31T18:49:41.952Z"
   },
   {
    "duration": 366,
    "start_time": "2023-03-31T18:49:41.968Z"
   },
   {
    "duration": 37,
    "start_time": "2023-03-31T18:49:42.336Z"
   },
   {
    "duration": 4,
    "start_time": "2023-03-31T18:49:42.375Z"
   },
   {
    "duration": 24,
    "start_time": "2023-03-31T18:49:42.381Z"
   },
   {
    "duration": 5,
    "start_time": "2023-03-31T18:49:42.407Z"
   },
   {
    "duration": 16,
    "start_time": "2023-03-31T18:49:42.416Z"
   },
   {
    "duration": 10,
    "start_time": "2023-03-31T18:49:42.434Z"
   },
   {
    "duration": 6,
    "start_time": "2023-03-31T18:49:42.445Z"
   },
   {
    "duration": 71,
    "start_time": "2023-03-31T18:49:42.452Z"
   },
   {
    "duration": 11,
    "start_time": "2023-03-31T18:49:42.525Z"
   },
   {
    "duration": 10,
    "start_time": "2023-03-31T18:49:42.538Z"
   },
   {
    "duration": 20,
    "start_time": "2023-03-31T18:49:42.550Z"
   },
   {
    "duration": 35,
    "start_time": "2023-03-31T18:49:42.573Z"
   },
   {
    "duration": 23,
    "start_time": "2023-03-31T18:49:42.611Z"
   },
   {
    "duration": 4,
    "start_time": "2023-03-31T18:49:42.636Z"
   },
   {
    "duration": 15,
    "start_time": "2023-03-31T18:49:42.642Z"
   },
   {
    "duration": 16,
    "start_time": "2023-03-31T18:49:42.659Z"
   },
   {
    "duration": 9,
    "start_time": "2023-03-31T18:49:42.676Z"
   },
   {
    "duration": 20,
    "start_time": "2023-03-31T18:49:42.702Z"
   },
   {
    "duration": 11,
    "start_time": "2023-03-31T18:49:42.724Z"
   },
   {
    "duration": 12,
    "start_time": "2023-03-31T18:49:42.736Z"
   },
   {
    "duration": 19,
    "start_time": "2023-03-31T18:49:42.749Z"
   },
   {
    "duration": 56,
    "start_time": "2023-03-31T18:49:42.770Z"
   },
   {
    "duration": 7,
    "start_time": "2023-03-31T18:49:42.830Z"
   },
   {
    "duration": 17,
    "start_time": "2023-03-31T18:49:42.839Z"
   },
   {
    "duration": 39,
    "start_time": "2023-03-31T18:49:42.858Z"
   },
   {
    "duration": 8,
    "start_time": "2023-03-31T18:49:42.903Z"
   },
   {
    "duration": 15,
    "start_time": "2023-03-31T18:49:42.913Z"
   },
   {
    "duration": 30,
    "start_time": "2023-03-31T18:49:42.930Z"
   },
   {
    "duration": 7,
    "start_time": "2023-03-31T18:49:42.962Z"
   },
   {
    "duration": 14,
    "start_time": "2023-03-31T18:49:42.970Z"
   },
   {
    "duration": 42,
    "start_time": "2023-03-31T18:49:43.003Z"
   },
   {
    "duration": 7,
    "start_time": "2023-03-31T18:49:43.047Z"
   },
   {
    "duration": 10,
    "start_time": "2023-03-31T18:50:02.582Z"
   },
   {
    "duration": 479,
    "start_time": "2023-03-31T18:50:07.234Z"
   },
   {
    "duration": 22,
    "start_time": "2023-03-31T18:50:07.718Z"
   },
   {
    "duration": 16,
    "start_time": "2023-03-31T18:50:07.742Z"
   },
   {
    "duration": 9,
    "start_time": "2023-03-31T18:50:07.760Z"
   },
   {
    "duration": 339,
    "start_time": "2023-03-31T18:50:07.771Z"
   },
   {
    "duration": 43,
    "start_time": "2023-03-31T18:50:08.112Z"
   },
   {
    "duration": 4,
    "start_time": "2023-03-31T18:50:08.156Z"
   },
   {
    "duration": 17,
    "start_time": "2023-03-31T18:50:08.162Z"
   },
   {
    "duration": 4,
    "start_time": "2023-03-31T18:50:08.181Z"
   },
   {
    "duration": 26,
    "start_time": "2023-03-31T18:50:08.204Z"
   },
   {
    "duration": 7,
    "start_time": "2023-03-31T18:50:08.231Z"
   },
   {
    "duration": 4,
    "start_time": "2023-03-31T18:50:08.240Z"
   },
   {
    "duration": 62,
    "start_time": "2023-03-31T18:50:08.246Z"
   },
   {
    "duration": 12,
    "start_time": "2023-03-31T18:50:08.310Z"
   },
   {
    "duration": 4,
    "start_time": "2023-03-31T18:50:08.323Z"
   },
   {
    "duration": 15,
    "start_time": "2023-03-31T18:50:08.329Z"
   },
   {
    "duration": 25,
    "start_time": "2023-03-31T18:50:08.346Z"
   },
   {
    "duration": 45,
    "start_time": "2023-03-31T18:50:08.373Z"
   },
   {
    "duration": 4,
    "start_time": "2023-03-31T18:50:08.420Z"
   },
   {
    "duration": 12,
    "start_time": "2023-03-31T18:50:08.425Z"
   },
   {
    "duration": 6,
    "start_time": "2023-03-31T18:50:08.439Z"
   },
   {
    "duration": 4,
    "start_time": "2023-03-31T18:50:08.446Z"
   },
   {
    "duration": 32,
    "start_time": "2023-03-31T18:50:08.451Z"
   },
   {
    "duration": 4,
    "start_time": "2023-03-31T18:50:08.485Z"
   },
   {
    "duration": 12,
    "start_time": "2023-03-31T18:50:08.491Z"
   },
   {
    "duration": 7,
    "start_time": "2023-03-31T18:50:08.505Z"
   },
   {
    "duration": 33,
    "start_time": "2023-03-31T18:50:08.513Z"
   },
   {
    "duration": 8,
    "start_time": "2023-03-31T18:50:08.549Z"
   },
   {
    "duration": 15,
    "start_time": "2023-03-31T18:50:08.559Z"
   },
   {
    "duration": 39,
    "start_time": "2023-03-31T18:50:08.604Z"
   },
   {
    "duration": 8,
    "start_time": "2023-03-31T18:50:08.645Z"
   },
   {
    "duration": 22,
    "start_time": "2023-03-31T18:50:08.655Z"
   },
   {
    "duration": 50,
    "start_time": "2023-03-31T18:50:08.679Z"
   },
   {
    "duration": 8,
    "start_time": "2023-03-31T18:50:08.730Z"
   },
   {
    "duration": 22,
    "start_time": "2023-03-31T18:50:08.739Z"
   },
   {
    "duration": 40,
    "start_time": "2023-03-31T18:50:08.763Z"
   },
   {
    "duration": 9,
    "start_time": "2023-03-31T18:50:08.805Z"
   },
   {
    "duration": 7,
    "start_time": "2023-03-31T18:50:42.781Z"
   },
   {
    "duration": 6,
    "start_time": "2023-03-31T18:50:49.541Z"
   },
   {
    "duration": 65,
    "start_time": "2023-03-31T18:51:03.420Z"
   },
   {
    "duration": 22,
    "start_time": "2023-03-31T18:51:03.488Z"
   },
   {
    "duration": 18,
    "start_time": "2023-03-31T18:51:03.512Z"
   },
   {
    "duration": 9,
    "start_time": "2023-03-31T18:51:03.532Z"
   },
   {
    "duration": 15,
    "start_time": "2023-03-31T18:51:03.544Z"
   },
   {
    "duration": 65,
    "start_time": "2023-03-31T18:51:03.560Z"
   },
   {
    "duration": 4,
    "start_time": "2023-03-31T18:51:03.627Z"
   },
   {
    "duration": 10,
    "start_time": "2023-03-31T18:51:03.633Z"
   },
   {
    "duration": 5,
    "start_time": "2023-03-31T18:51:03.645Z"
   },
   {
    "duration": 6,
    "start_time": "2023-03-31T18:51:09.915Z"
   },
   {
    "duration": 7,
    "start_time": "2023-03-31T18:51:23.786Z"
   },
   {
    "duration": 7,
    "start_time": "2023-03-31T18:51:28.562Z"
   },
   {
    "duration": 496,
    "start_time": "2023-03-31T18:53:41.047Z"
   },
   {
    "duration": 24,
    "start_time": "2023-03-31T18:53:41.545Z"
   },
   {
    "duration": 14,
    "start_time": "2023-03-31T18:53:41.571Z"
   },
   {
    "duration": 30,
    "start_time": "2023-03-31T18:53:41.587Z"
   },
   {
    "duration": 393,
    "start_time": "2023-03-31T18:53:41.619Z"
   },
   {
    "duration": 49,
    "start_time": "2023-03-31T18:53:42.014Z"
   },
   {
    "duration": 5,
    "start_time": "2023-03-31T18:53:42.066Z"
   },
   {
    "duration": 12,
    "start_time": "2023-03-31T18:53:42.073Z"
   },
   {
    "duration": 6,
    "start_time": "2023-03-31T18:53:42.104Z"
   },
   {
    "duration": 14,
    "start_time": "2023-03-31T18:53:42.113Z"
   },
   {
    "duration": 10,
    "start_time": "2023-03-31T18:53:42.128Z"
   },
   {
    "duration": 40,
    "start_time": "2023-03-31T18:53:42.140Z"
   },
   {
    "duration": 24,
    "start_time": "2023-03-31T18:53:42.184Z"
   },
   {
    "duration": 11,
    "start_time": "2023-03-31T18:53:42.210Z"
   },
   {
    "duration": 38,
    "start_time": "2023-03-31T18:53:42.223Z"
   },
   {
    "duration": 33,
    "start_time": "2023-03-31T18:53:42.263Z"
   },
   {
    "duration": 21,
    "start_time": "2023-03-31T18:53:42.298Z"
   },
   {
    "duration": 3,
    "start_time": "2023-03-31T18:53:42.321Z"
   },
   {
    "duration": 17,
    "start_time": "2023-03-31T18:53:42.325Z"
   },
   {
    "duration": 9,
    "start_time": "2023-03-31T18:53:42.343Z"
   },
   {
    "duration": 3,
    "start_time": "2023-03-31T18:53:42.354Z"
   },
   {
    "duration": 19,
    "start_time": "2023-03-31T18:53:42.358Z"
   },
   {
    "duration": 4,
    "start_time": "2023-03-31T18:53:42.378Z"
   },
   {
    "duration": 20,
    "start_time": "2023-03-31T18:53:42.383Z"
   },
   {
    "duration": 9,
    "start_time": "2023-03-31T18:53:42.405Z"
   },
   {
    "duration": 33,
    "start_time": "2023-03-31T18:53:42.416Z"
   },
   {
    "duration": 8,
    "start_time": "2023-03-31T18:53:42.450Z"
   },
   {
    "duration": 11,
    "start_time": "2023-03-31T18:53:42.461Z"
   },
   {
    "duration": 59,
    "start_time": "2023-03-31T18:53:42.474Z"
   },
   {
    "duration": 7,
    "start_time": "2023-03-31T18:53:42.535Z"
   },
   {
    "duration": 12,
    "start_time": "2023-03-31T18:53:42.544Z"
   },
   {
    "duration": 26,
    "start_time": "2023-03-31T18:53:42.558Z"
   },
   {
    "duration": 10,
    "start_time": "2023-03-31T18:53:42.604Z"
   },
   {
    "duration": 16,
    "start_time": "2023-03-31T18:53:42.616Z"
   },
   {
    "duration": 30,
    "start_time": "2023-03-31T18:53:42.634Z"
   },
   {
    "duration": 6,
    "start_time": "2023-03-31T18:53:42.666Z"
   },
   {
    "duration": 51,
    "start_time": "2023-04-01T12:36:37.166Z"
   },
   {
    "duration": 660,
    "start_time": "2023-04-01T12:36:59.898Z"
   },
   {
    "duration": 35,
    "start_time": "2023-04-01T12:37:00.561Z"
   },
   {
    "duration": 46,
    "start_time": "2023-04-01T12:37:00.599Z"
   },
   {
    "duration": 16,
    "start_time": "2023-04-01T12:37:00.648Z"
   },
   {
    "duration": 531,
    "start_time": "2023-04-01T12:37:00.666Z"
   },
   {
    "duration": 48,
    "start_time": "2023-04-01T12:37:01.200Z"
   },
   {
    "duration": 5,
    "start_time": "2023-04-01T12:37:01.250Z"
   },
   {
    "duration": 32,
    "start_time": "2023-04-01T12:37:01.257Z"
   },
   {
    "duration": 28,
    "start_time": "2023-04-01T12:37:01.291Z"
   },
   {
    "duration": 33,
    "start_time": "2023-04-01T12:37:01.323Z"
   },
   {
    "duration": 41,
    "start_time": "2023-04-01T12:37:01.357Z"
   },
   {
    "duration": 57,
    "start_time": "2023-04-01T12:37:01.400Z"
   },
   {
    "duration": 10,
    "start_time": "2023-04-01T12:37:01.459Z"
   },
   {
    "duration": 27,
    "start_time": "2023-04-01T12:37:01.471Z"
   },
   {
    "duration": 45,
    "start_time": "2023-04-01T12:37:01.500Z"
   },
   {
    "duration": 48,
    "start_time": "2023-04-01T12:37:01.547Z"
   },
   {
    "duration": 37,
    "start_time": "2023-04-01T12:37:01.597Z"
   },
   {
    "duration": 13,
    "start_time": "2023-04-01T12:37:01.640Z"
   },
   {
    "duration": 48,
    "start_time": "2023-04-01T12:37:01.655Z"
   },
   {
    "duration": 42,
    "start_time": "2023-04-01T12:37:01.705Z"
   },
   {
    "duration": 20,
    "start_time": "2023-04-01T12:37:01.749Z"
   },
   {
    "duration": 29,
    "start_time": "2023-04-01T12:37:01.771Z"
   },
   {
    "duration": 20,
    "start_time": "2023-04-01T12:37:01.802Z"
   },
   {
    "duration": 23,
    "start_time": "2023-04-01T12:37:01.824Z"
   },
   {
    "duration": 24,
    "start_time": "2023-04-01T12:37:01.849Z"
   },
   {
    "duration": 33,
    "start_time": "2023-04-01T12:37:01.875Z"
   },
   {
    "duration": 20,
    "start_time": "2023-04-01T12:37:01.909Z"
   },
   {
    "duration": 22,
    "start_time": "2023-04-01T12:37:01.935Z"
   },
   {
    "duration": 39,
    "start_time": "2023-04-01T12:37:01.958Z"
   },
   {
    "duration": 23,
    "start_time": "2023-04-01T12:37:01.999Z"
   },
   {
    "duration": 15,
    "start_time": "2023-04-01T12:37:02.024Z"
   },
   {
    "duration": 35,
    "start_time": "2023-04-01T12:37:02.041Z"
   },
   {
    "duration": 8,
    "start_time": "2023-04-01T12:37:02.078Z"
   },
   {
    "duration": 12,
    "start_time": "2023-04-01T12:37:02.088Z"
   },
   {
    "duration": 55,
    "start_time": "2023-04-01T12:37:02.101Z"
   },
   {
    "duration": 8,
    "start_time": "2023-04-01T12:37:02.158Z"
   }
  ],
  "celltoolbar": "Edit Metadata",
  "colab": {
   "provenance": []
  },
  "kernelspec": {
   "display_name": "Python 3 (ipykernel)",
   "language": "python",
   "name": "python3"
  },
  "language_info": {
   "codemirror_mode": {
    "name": "ipython",
    "version": 3
   },
   "file_extension": ".py",
   "mimetype": "text/x-python",
   "name": "python",
   "nbconvert_exporter": "python",
   "pygments_lexer": "ipython3",
   "version": "3.9.16"
  },
  "toc": {
   "base_numbering": 1,
   "nav_menu": {},
   "number_sections": true,
   "sideBar": true,
   "skip_h1_title": true,
   "title_cell": "Table of Contents",
   "title_sidebar": "Contents",
   "toc_cell": false,
   "toc_position": {},
   "toc_section_display": true,
   "toc_window_display": false
  }
 },
 "nbformat": 4,
 "nbformat_minor": 5
}
