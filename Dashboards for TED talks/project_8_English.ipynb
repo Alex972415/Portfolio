{
 "cells": [
  {
   "cell_type": "markdown",
   "id": "6ba1b831",
   "metadata": {},
   "source": [
    "# Project \"Dashboards for TED talks\""
   ]
  },
  {
   "cell_type": "markdown",
   "id": "5b34a341",
   "metadata": {},
   "source": [
    "# Project Description\n",
    "TED (from the English technology, education, design — \"technology, education, design\") is a non—profit foundation that holds popular conferences. Experts from different fields speak at them and give lectures on topical social, cultural and scientific topics.\n",
    "\n",
    "In this project, we will explore the history of TED conferences using Tableau."
   ]
  },
  {
   "cell_type": "markdown",
   "id": "26ac2ecb",
   "metadata": {},
   "source": [
    "# Data Description\n",
    "The tableau_project_data_1.csv, tableau_project_data_2.csv, tableau_project_data_3.csv files store performance data. They have the same structure:\n",
    "- talk_id — speech ID;\n",
    "- url — link to the recording of the speech;\n",
    "- title — title of the speech;\n",
    "- description — short description;\n",
    "- film_date — date of recording the speech;\n",
    "- duration — duration in seconds;\n",
    "- views — number of views;\n",
    "- main_tag — the main category to which the performance belongs;\n",
    "- speaker_id — the unique identifier of the author of the speech;\n",
    "- laughter_count — the number of times the audience laughed during the performance;\n",
    "- applause_count — the number of times the audience applauded during the performance;\n",
    "- language — the language in which the speech was conducted;\n",
    "- event_id — unique conference ID.\n",
    "\n",
    "The tableau_project_event_dict.csv file is a conference directory. Table Description:\n",
    "- conf_id — unique conference ID;\n",
    "- event — name of the conference;\n",
    "- country — country of the conference.\n",
    "\n",
    "The file tableau_project_speakers_dict.csv is a directory of the authors of the speech. Table Description:\n",
    "- author_id — the unique identifier of the author of the speech;\n",
    "- speaker_name — author's name;\n",
    "- speaker_occupation — professional field of the author;\n",
    "- speaker_description — description of the author's professional activity."
   ]
  },
  {
   "cell_type": "markdown",
   "id": "16926a4e",
   "metadata": {},
   "source": [
    "# Work plan:\n",
    "1. Open the files and perform data preprocessing.\n",
    "2. Go to Tableau and there we will build dashboards \"History of speeches\", \"Topics of speeches\", \"Authors of speeches\" and one dashboard on a free topic.\n",
    "3. Create a presentation."
   ]
  },
  {
   "cell_type": "markdown",
   "id": "8fcda33d",
   "metadata": {},
   "source": [
    "## Let 's open the files , study the general information and pre - process the data."
   ]
  },
  {
   "cell_type": "code",
   "execution_count": 1,
   "id": "74f291ac",
   "metadata": {},
   "outputs": [],
   "source": [
    "# Importing the libraries that we will need in this project\n",
    "import pandas as pd\n",
    "import datetime as dt\n",
    "import numpy as np\n",
    "import matplotlib.pyplot as plt\n",
    "import warnings\n",
    "pd.set_option('display.max_columns', None)\n",
    "pd.set_option('display.max_rows', None)\n",
    "pd.options.display.max_colwidth = 400"
   ]
  },
  {
   "cell_type": "code",
   "execution_count": 2,
   "id": "be153522",
   "metadata": {},
   "outputs": [],
   "source": [
    "# Let's read the data from the csv file into a dataframe and save it to a variable\n",
    "try:\n",
    "    data_1 = pd.read_csv('tableau_project_data_1.csv')\n",
    "except:\n",
    "    data_1 = pd.read_csv('https://code.s3.yandex.net/datasets/tableau_project_data_1.csv')"
   ]
  },
  {
   "cell_type": "code",
   "execution_count": 3,
   "id": "c6c70806",
   "metadata": {},
   "outputs": [
    {
     "data": {
      "text/html": [
       "<div>\n",
       "<style scoped>\n",
       "    .dataframe tbody tr th:only-of-type {\n",
       "        vertical-align: middle;\n",
       "    }\n",
       "\n",
       "    .dataframe tbody tr th {\n",
       "        vertical-align: top;\n",
       "    }\n",
       "\n",
       "    .dataframe thead th {\n",
       "        text-align: right;\n",
       "    }\n",
       "</style>\n",
       "<table border=\"1\" class=\"dataframe\">\n",
       "  <thead>\n",
       "    <tr style=\"text-align: right;\">\n",
       "      <th></th>\n",
       "      <th>talk_id</th>\n",
       "      <th>url</th>\n",
       "      <th>title</th>\n",
       "      <th>description</th>\n",
       "      <th>film_date</th>\n",
       "      <th>duration</th>\n",
       "      <th>views</th>\n",
       "      <th>main_tag</th>\n",
       "      <th>speaker_id</th>\n",
       "      <th>laughter_count</th>\n",
       "      <th>applause_count</th>\n",
       "      <th>language</th>\n",
       "      <th>event_id</th>\n",
       "    </tr>\n",
       "  </thead>\n",
       "  <tbody>\n",
       "    <tr>\n",
       "      <th>0</th>\n",
       "      <td>84216</td>\n",
       "      <td>https://www.ted.com/talks/christina_costa_how_gratitude_rewires_your_brain</td>\n",
       "      <td>How gratitude rewires your brain</td>\n",
       "      <td>When a psychologist who studies well-being ends up with a brain tumor, what happens when she puts her own research into practice? Christina Costa goes beyond the \"fight\" narrative of cancer -- or any formidable personal journey -- to highlight the brain benefits of an empowering alternative to fostering resilience in the face of unexpected challenges: gratitude.</td>\n",
       "      <td>2021-03-27</td>\n",
       "      <td>600</td>\n",
       "      <td>718724</td>\n",
       "      <td>health</td>\n",
       "      <td>6625</td>\n",
       "      <td>0.0</td>\n",
       "      <td>0.0</td>\n",
       "      <td>English</td>\n",
       "      <td>309</td>\n",
       "    </tr>\n",
       "    <tr>\n",
       "      <th>1</th>\n",
       "      <td>66033</td>\n",
       "      <td>https://www.ted.com/talks/caitlin_holman_how_game_design_can_help_schooling</td>\n",
       "      <td>How game design can help schooling</td>\n",
       "      <td>The world is changing rapidly but models of decades-old schooling still influence educational systems in ways that leave students with few reasons to truly excel. Education researcher Caitlin Holman explains how game design principles engineered to keep players motivated can be co-opted to revitalize schools and improve educational outcomes.</td>\n",
       "      <td>2017-02-08</td>\n",
       "      <td>1043</td>\n",
       "      <td>46441</td>\n",
       "      <td>education</td>\n",
       "      <td>53443</td>\n",
       "      <td>NaN</td>\n",
       "      <td>NaN</td>\n",
       "      <td>English</td>\n",
       "      <td>309</td>\n",
       "    </tr>\n",
       "    <tr>\n",
       "      <th>2</th>\n",
       "      <td>21933</td>\n",
       "      <td>https://www.ted.com/talks/terri_conley_we_need_to_rethink_casual_sex</td>\n",
       "      <td>We need to rethink casual sex</td>\n",
       "      <td>Social psychologist and sex researcher Terri Conley thinks it's high time we stop feeling guilty about enjoying casual sex—no matter what society says. In this entertaining talk, Conley interrogates three common myths about sexuality and gender and suggests a few new, guilt-free ways to think about our sex lives.</td>\n",
       "      <td>2016-04-01</td>\n",
       "      <td>1091</td>\n",
       "      <td>273438</td>\n",
       "      <td>society</td>\n",
       "      <td>5107</td>\n",
       "      <td>0.0</td>\n",
       "      <td>0.0</td>\n",
       "      <td>English</td>\n",
       "      <td>309</td>\n",
       "    </tr>\n",
       "    <tr>\n",
       "      <th>3</th>\n",
       "      <td>2022</td>\n",
       "      <td>https://www.ted.com/talks/anne_curzan_what_makes_a_word_real</td>\n",
       "      <td>What makes a word \"real\"?</td>\n",
       "      <td>One could argue that slang words like ‘hangry,’ ‘defriend’ and ‘adorkable’ fill crucial meaning gaps in the English language, even if they don't appear in the dictionary. After all, who actually decides which words make it into those pages? Language historian Anne Curzan gives a charming look at the humans behind dictionaries, and the choices they make.</td>\n",
       "      <td>2014-03-15</td>\n",
       "      <td>1033</td>\n",
       "      <td>2031550</td>\n",
       "      <td>culture</td>\n",
       "      <td>1938</td>\n",
       "      <td>12.0</td>\n",
       "      <td>4.0</td>\n",
       "      <td>English</td>\n",
       "      <td>309</td>\n",
       "    </tr>\n",
       "    <tr>\n",
       "      <th>4</th>\n",
       "      <td>83538</td>\n",
       "      <td>https://www.ted.com/talks/jane_walsh_the_rise_of_predatory_scams_and_how_to_prevent_them</td>\n",
       "      <td>The rise of predatory scams -- and how to prevent them</td>\n",
       "      <td>Questionable phone calls, concerning emails, heart-rending stories from a sudden new friend in need of endless financial support: elder abuse can take many forms, says lawyer Jane Walsh. And as technology becomes more sophisticated, susceptibility to tricks and scams will increase -- no matter a person's age or intellect. Walsh spotlights the rise of this predatory crime, why it goes undetecte...</td>\n",
       "      <td>2021-06-26</td>\n",
       "      <td>833</td>\n",
       "      <td>802109</td>\n",
       "      <td>technology</td>\n",
       "      <td>6606</td>\n",
       "      <td>0.0</td>\n",
       "      <td>0.0</td>\n",
       "      <td>English</td>\n",
       "      <td>233</td>\n",
       "    </tr>\n",
       "    <tr>\n",
       "      <th>5</th>\n",
       "      <td>81821</td>\n",
       "      <td>https://www.ted.com/talks/rebecca_galemba_how_employers_steal_from_workers_and_get_away_with_it_sep_2021</td>\n",
       "      <td>How employers steal from workers -- and get away with it</td>\n",
       "      <td>When you work, you expect to be paid for it. Except, for millions of Americans employed across a range of industries like restaurants and construction, that's not always the case. Anthropologist Rebecca Galemba explores the multibillion-dollar problem of wage theft and how employers get away with it, highlighting the changes needed for them to pay up -- and fairly.</td>\n",
       "      <td>2021-03-20</td>\n",
       "      <td>578</td>\n",
       "      <td>1199939</td>\n",
       "      <td>economics</td>\n",
       "      <td>6540</td>\n",
       "      <td>0.0</td>\n",
       "      <td>0.0</td>\n",
       "      <td>English</td>\n",
       "      <td>233</td>\n",
       "    </tr>\n",
       "    <tr>\n",
       "      <th>6</th>\n",
       "      <td>80115</td>\n",
       "      <td>https://www.ted.com/talks/kevin_j_krizek_how_covid_19_reshaped_us_cities</td>\n",
       "      <td>How COVID-19 reshaped US cities</td>\n",
       "      <td>The pandemic spurred an unprecedented reclamation of urban space, ushering in a seemingly bygone era of pedestrian pastimes, as cars were sidelined in favor of citizens. Highlighting examples from across the United States, environmental designer Kevin J. Krizek reflects on how temporary shifts -- like transforming streets into places for dining, recreation and community -- can become permanent...</td>\n",
       "      <td>2021-03-20</td>\n",
       "      <td>581</td>\n",
       "      <td>1306282</td>\n",
       "      <td>cities</td>\n",
       "      <td>6484</td>\n",
       "      <td>NaN</td>\n",
       "      <td>NaN</td>\n",
       "      <td>English</td>\n",
       "      <td>233</td>\n",
       "    </tr>\n",
       "    <tr>\n",
       "      <th>7</th>\n",
       "      <td>74616</td>\n",
       "      <td>https://www.ted.com/talks/katherine_m_gehl_us_politics_isn_t_broken_it_s_fixed</td>\n",
       "      <td>US politics isn't broken. It's fixed</td>\n",
       "      <td>The \"broken\" US political system is actually working exactly as designed, says business leader and activist Katherine Gehl. Examining the system through a nonpartisan lens, she makes the case for voting innovations, already implemented in parts of the country, that give citizens more choice and incentivize politicians to work towards progress and solutions instead of just reelection.</td>\n",
       "      <td>2020-12-05</td>\n",
       "      <td>1009</td>\n",
       "      <td>1264323</td>\n",
       "      <td>social change</td>\n",
       "      <td>6306</td>\n",
       "      <td>0.0</td>\n",
       "      <td>0.0</td>\n",
       "      <td>English</td>\n",
       "      <td>233</td>\n",
       "    </tr>\n",
       "    <tr>\n",
       "      <th>8</th>\n",
       "      <td>74282</td>\n",
       "      <td>https://www.ted.com/talks/amber_mcreynolds_an_election_system_that_puts_voters_not_politicians_first</td>\n",
       "      <td>An election system that puts voters (not politicians) first</td>\n",
       "      <td>From hours-long lines and limited polling locations to confusing and discriminatory registration policies, why is it so hard to vote in the US? Voting rights expert Amber McReynolds offers a proven alternative: a new process, already happening in parts of the country, that could bring accountability, transparency and equity to the outdated and sputtering system that American democracy currentl...</td>\n",
       "      <td>2020-08-29</td>\n",
       "      <td>619</td>\n",
       "      <td>1288197</td>\n",
       "      <td>society</td>\n",
       "      <td>6301</td>\n",
       "      <td>0.0</td>\n",
       "      <td>0.0</td>\n",
       "      <td>English</td>\n",
       "      <td>233</td>\n",
       "    </tr>\n",
       "    <tr>\n",
       "      <th>9</th>\n",
       "      <td>75168</td>\n",
       "      <td>https://www.ted.com/talks/joan_c_williams_why_corporate_diversity_programs_fail_and_how_small_tweaks_can_have_big_impact</td>\n",
       "      <td>Why corporate diversity programs fail -- and how small tweaks can have big impact</td>\n",
       "      <td>Companies in the US spend billions of dollars each year on diversity, equity and inclusion initiatives, but subtle (and not so subtle) workplace biases often cost these initiatives -- and the people they're meant to help -- big time by undermining their goals. DEI expert Joan C. Williams identifies five common patterns of bias that cause these programs to fail -- and offers a data-driven appro...</td>\n",
       "      <td>2020-12-05</td>\n",
       "      <td>883</td>\n",
       "      <td>1252694</td>\n",
       "      <td>business</td>\n",
       "      <td>6314</td>\n",
       "      <td>0.0</td>\n",
       "      <td>0.0</td>\n",
       "      <td>English</td>\n",
       "      <td>233</td>\n",
       "    </tr>\n",
       "  </tbody>\n",
       "</table>\n",
       "</div>"
      ],
      "text/plain": [
       "   talk_id  \\\n",
       "0    84216   \n",
       "1    66033   \n",
       "2    21933   \n",
       "3     2022   \n",
       "4    83538   \n",
       "5    81821   \n",
       "6    80115   \n",
       "7    74616   \n",
       "8    74282   \n",
       "9    75168   \n",
       "\n",
       "                                                                                                                        url  \\\n",
       "0                                                https://www.ted.com/talks/christina_costa_how_gratitude_rewires_your_brain   \n",
       "1                                               https://www.ted.com/talks/caitlin_holman_how_game_design_can_help_schooling   \n",
       "2                                                      https://www.ted.com/talks/terri_conley_we_need_to_rethink_casual_sex   \n",
       "3                                                              https://www.ted.com/talks/anne_curzan_what_makes_a_word_real   \n",
       "4                                  https://www.ted.com/talks/jane_walsh_the_rise_of_predatory_scams_and_how_to_prevent_them   \n",
       "5                  https://www.ted.com/talks/rebecca_galemba_how_employers_steal_from_workers_and_get_away_with_it_sep_2021   \n",
       "6                                                  https://www.ted.com/talks/kevin_j_krizek_how_covid_19_reshaped_us_cities   \n",
       "7                                            https://www.ted.com/talks/katherine_m_gehl_us_politics_isn_t_broken_it_s_fixed   \n",
       "8                      https://www.ted.com/talks/amber_mcreynolds_an_election_system_that_puts_voters_not_politicians_first   \n",
       "9  https://www.ted.com/talks/joan_c_williams_why_corporate_diversity_programs_fail_and_how_small_tweaks_can_have_big_impact   \n",
       "\n",
       "                                                                               title  \\\n",
       "0                                                   How gratitude rewires your brain   \n",
       "1                                                 How game design can help schooling   \n",
       "2                                                     We need to rethink casual sex    \n",
       "3                                                          What makes a word \"real\"?   \n",
       "4                             The rise of predatory scams -- and how to prevent them   \n",
       "5                           How employers steal from workers -- and get away with it   \n",
       "6                                                    How COVID-19 reshaped US cities   \n",
       "7                                               US politics isn't broken. It's fixed   \n",
       "8                        An election system that puts voters (not politicians) first   \n",
       "9  Why corporate diversity programs fail -- and how small tweaks can have big impact   \n",
       "\n",
       "                                                                                                                                                                                                                                                                                                                                                                                                       description  \\\n",
       "0                                     When a psychologist who studies well-being ends up with a brain tumor, what happens when she puts her own research into practice? Christina Costa goes beyond the \"fight\" narrative of cancer -- or any formidable personal journey -- to highlight the brain benefits of an empowering alternative to fostering resilience in the face of unexpected challenges: gratitude.   \n",
       "1                                                          The world is changing rapidly but models of decades-old schooling still influence educational systems in ways that leave students with few reasons to truly excel. Education researcher Caitlin Holman explains how game design principles engineered to keep players motivated can be co-opted to revitalize schools and improve educational outcomes.   \n",
       "2                                                                                       Social psychologist and sex researcher Terri Conley thinks it's high time we stop feeling guilty about enjoying casual sex—no matter what society says. In this entertaining talk, Conley interrogates three common myths about sexuality and gender and suggests a few new, guilt-free ways to think about our sex lives.   \n",
       "3                                              One could argue that slang words like ‘hangry,’ ‘defriend’ and ‘adorkable’ fill crucial meaning gaps in the English language, even if they don't appear in the dictionary. After all, who actually decides which words make it into those pages? Language historian Anne Curzan gives a charming look at the humans behind dictionaries, and the choices they make.   \n",
       "4  Questionable phone calls, concerning emails, heart-rending stories from a sudden new friend in need of endless financial support: elder abuse can take many forms, says lawyer Jane Walsh. And as technology becomes more sophisticated, susceptibility to tricks and scams will increase -- no matter a person's age or intellect. Walsh spotlights the rise of this predatory crime, why it goes undetecte...   \n",
       "5                                  When you work, you expect to be paid for it. Except, for millions of Americans employed across a range of industries like restaurants and construction, that's not always the case. Anthropologist Rebecca Galemba explores the multibillion-dollar problem of wage theft and how employers get away with it, highlighting the changes needed for them to pay up -- and fairly.   \n",
       "6  The pandemic spurred an unprecedented reclamation of urban space, ushering in a seemingly bygone era of pedestrian pastimes, as cars were sidelined in favor of citizens. Highlighting examples from across the United States, environmental designer Kevin J. Krizek reflects on how temporary shifts -- like transforming streets into places for dining, recreation and community -- can become permanent...   \n",
       "7               The \"broken\" US political system is actually working exactly as designed, says business leader and activist Katherine Gehl. Examining the system through a nonpartisan lens, she makes the case for voting innovations, already implemented in parts of the country, that give citizens more choice and incentivize politicians to work towards progress and solutions instead of just reelection.   \n",
       "8  From hours-long lines and limited polling locations to confusing and discriminatory registration policies, why is it so hard to vote in the US? Voting rights expert Amber McReynolds offers a proven alternative: a new process, already happening in parts of the country, that could bring accountability, transparency and equity to the outdated and sputtering system that American democracy currentl...   \n",
       "9  Companies in the US spend billions of dollars each year on diversity, equity and inclusion initiatives, but subtle (and not so subtle) workplace biases often cost these initiatives -- and the people they're meant to help -- big time by undermining their goals. DEI expert Joan C. Williams identifies five common patterns of bias that cause these programs to fail -- and offers a data-driven appro...   \n",
       "\n",
       "    film_date  duration    views       main_tag  speaker_id  laughter_count  \\\n",
       "0  2021-03-27       600   718724         health        6625             0.0   \n",
       "1  2017-02-08      1043    46441      education       53443             NaN   \n",
       "2  2016-04-01      1091   273438        society        5107             0.0   \n",
       "3  2014-03-15      1033  2031550        culture        1938            12.0   \n",
       "4  2021-06-26       833   802109     technology        6606             0.0   \n",
       "5  2021-03-20       578  1199939      economics        6540             0.0   \n",
       "6  2021-03-20       581  1306282         cities        6484             NaN   \n",
       "7  2020-12-05      1009  1264323  social change        6306             0.0   \n",
       "8  2020-08-29       619  1288197        society        6301             0.0   \n",
       "9  2020-12-05       883  1252694       business        6314             0.0   \n",
       "\n",
       "   applause_count language  event_id  \n",
       "0             0.0  English       309  \n",
       "1             NaN  English       309  \n",
       "2             0.0  English       309  \n",
       "3             4.0  English       309  \n",
       "4             0.0  English       233  \n",
       "5             0.0  English       233  \n",
       "6             NaN  English       233  \n",
       "7             0.0  English       233  \n",
       "8             0.0  English       233  \n",
       "9             0.0  English       233  "
      ]
     },
     "execution_count": 3,
     "metadata": {},
     "output_type": "execute_result"
    }
   ],
   "source": [
    "data_1.head(10)"
   ]
  },
  {
   "cell_type": "code",
   "execution_count": 4,
   "id": "bd301390",
   "metadata": {},
   "outputs": [
    {
     "name": "stdout",
     "output_type": "stream",
     "text": [
      "<class 'pandas.core.frame.DataFrame'>\n",
      "RangeIndex: 1152 entries, 0 to 1151\n",
      "Data columns (total 13 columns):\n",
      " #   Column          Non-Null Count  Dtype  \n",
      "---  ------          --------------  -----  \n",
      " 0   talk_id         1152 non-null   int64  \n",
      " 1   url             1152 non-null   object \n",
      " 2   title           1152 non-null   object \n",
      " 3   description     1152 non-null   object \n",
      " 4   film_date       1152 non-null   object \n",
      " 5   duration        1152 non-null   int64  \n",
      " 6   views           1152 non-null   int64  \n",
      " 7   main_tag        1151 non-null   object \n",
      " 8   speaker_id      1152 non-null   int64  \n",
      " 9   laughter_count  1003 non-null   float64\n",
      " 10  applause_count  1003 non-null   float64\n",
      " 11  language        1152 non-null   object \n",
      " 12  event_id        1152 non-null   int64  \n",
      "dtypes: float64(2), int64(5), object(6)\n",
      "memory usage: 117.1+ KB\n"
     ]
    }
   ],
   "source": [
    "data_1.info()"
   ]
  },
  {
   "cell_type": "markdown",
   "id": "7390fead",
   "metadata": {},
   "source": [
    "### Let's check how many gaps there are in our table"
   ]
  },
  {
   "cell_type": "code",
   "execution_count": 5,
   "id": "20c9b0f9",
   "metadata": {},
   "outputs": [
    {
     "data": {
      "text/plain": [
       "talk_id             0\n",
       "url                 0\n",
       "title               0\n",
       "description         0\n",
       "film_date           0\n",
       "duration            0\n",
       "views               0\n",
       "main_tag            1\n",
       "speaker_id          0\n",
       "laughter_count    149\n",
       "applause_count    149\n",
       "language            0\n",
       "event_id            0\n",
       "dtype: int64"
      ]
     },
     "execution_count": 5,
     "metadata": {},
     "output_type": "execute_result"
    }
   ],
   "source": [
    "data_1.isna().sum()"
   ]
  },
  {
   "cell_type": "code",
   "execution_count": 6,
   "id": "d0267531",
   "metadata": {},
   "outputs": [
    {
     "data": {
      "text/html": [
       "<style  type=\"text/css\" >\n",
       "#T_7e796_row0_col0,#T_7e796_row1_col0,#T_7e796_row2_col0,#T_7e796_row3_col0,#T_7e796_row4_col0,#T_7e796_row5_col0,#T_7e796_row6_col0,#T_7e796_row8_col0,#T_7e796_row11_col0,#T_7e796_row12_col0{\n",
       "            background-color:  #3b4cc0;\n",
       "            color:  #f1f1f1;\n",
       "        }#T_7e796_row7_col0{\n",
       "            background-color:  #3c4ec2;\n",
       "            color:  #f1f1f1;\n",
       "        }#T_7e796_row9_col0,#T_7e796_row10_col0{\n",
       "            background-color:  #b40426;\n",
       "            color:  #f1f1f1;\n",
       "        }</style><table id=\"T_7e796_\" ><thead>    <tr>        <th class=\"blank level0\" ></th>        <th class=\"col_heading level0 col0\" >0</th>    </tr></thead><tbody>\n",
       "                <tr>\n",
       "                        <th id=\"T_7e796_level0_row0\" class=\"row_heading level0 row0\" >talk_id</th>\n",
       "                        <td id=\"T_7e796_row0_col0\" class=\"data row0 col0\" >0.0</td>\n",
       "            </tr>\n",
       "            <tr>\n",
       "                        <th id=\"T_7e796_level0_row1\" class=\"row_heading level0 row1\" >url</th>\n",
       "                        <td id=\"T_7e796_row1_col0\" class=\"data row1 col0\" >0.0</td>\n",
       "            </tr>\n",
       "            <tr>\n",
       "                        <th id=\"T_7e796_level0_row2\" class=\"row_heading level0 row2\" >title</th>\n",
       "                        <td id=\"T_7e796_row2_col0\" class=\"data row2 col0\" >0.0</td>\n",
       "            </tr>\n",
       "            <tr>\n",
       "                        <th id=\"T_7e796_level0_row3\" class=\"row_heading level0 row3\" >description</th>\n",
       "                        <td id=\"T_7e796_row3_col0\" class=\"data row3 col0\" >0.0</td>\n",
       "            </tr>\n",
       "            <tr>\n",
       "                        <th id=\"T_7e796_level0_row4\" class=\"row_heading level0 row4\" >film_date</th>\n",
       "                        <td id=\"T_7e796_row4_col0\" class=\"data row4 col0\" >0.0</td>\n",
       "            </tr>\n",
       "            <tr>\n",
       "                        <th id=\"T_7e796_level0_row5\" class=\"row_heading level0 row5\" >duration</th>\n",
       "                        <td id=\"T_7e796_row5_col0\" class=\"data row5 col0\" >0.0</td>\n",
       "            </tr>\n",
       "            <tr>\n",
       "                        <th id=\"T_7e796_level0_row6\" class=\"row_heading level0 row6\" >views</th>\n",
       "                        <td id=\"T_7e796_row6_col0\" class=\"data row6 col0\" >0.0</td>\n",
       "            </tr>\n",
       "            <tr>\n",
       "                        <th id=\"T_7e796_level0_row7\" class=\"row_heading level0 row7\" >main_tag</th>\n",
       "                        <td id=\"T_7e796_row7_col0\" class=\"data row7 col0\" >0.1</td>\n",
       "            </tr>\n",
       "            <tr>\n",
       "                        <th id=\"T_7e796_level0_row8\" class=\"row_heading level0 row8\" >speaker_id</th>\n",
       "                        <td id=\"T_7e796_row8_col0\" class=\"data row8 col0\" >0.0</td>\n",
       "            </tr>\n",
       "            <tr>\n",
       "                        <th id=\"T_7e796_level0_row9\" class=\"row_heading level0 row9\" >laughter_count</th>\n",
       "                        <td id=\"T_7e796_row9_col0\" class=\"data row9 col0\" >12.9</td>\n",
       "            </tr>\n",
       "            <tr>\n",
       "                        <th id=\"T_7e796_level0_row10\" class=\"row_heading level0 row10\" >applause_count</th>\n",
       "                        <td id=\"T_7e796_row10_col0\" class=\"data row10 col0\" >12.9</td>\n",
       "            </tr>\n",
       "            <tr>\n",
       "                        <th id=\"T_7e796_level0_row11\" class=\"row_heading level0 row11\" >language</th>\n",
       "                        <td id=\"T_7e796_row11_col0\" class=\"data row11 col0\" >0.0</td>\n",
       "            </tr>\n",
       "            <tr>\n",
       "                        <th id=\"T_7e796_level0_row12\" class=\"row_heading level0 row12\" >event_id</th>\n",
       "                        <td id=\"T_7e796_row12_col0\" class=\"data row12 col0\" >0.0</td>\n",
       "            </tr>\n",
       "    </tbody></table>"
      ],
      "text/plain": [
       "<pandas.io.formats.style.Styler at 0x193e4123a00>"
      ]
     },
     "execution_count": 6,
     "metadata": {},
     "output_type": "execute_result"
    }
   ],
   "source": [
    "pd.DataFrame(data_1.isna().mean()*100).style.set_precision(1).background_gradient('coolwarm')"
   ]
  },
  {
   "cell_type": "markdown",
   "id": "010df62f",
   "metadata": {},
   "source": [
    "**Conclusion: it is not possible to restore the data in the laughter_count and applause_count columns, so you will have to leave them unchanged. The gaps in the main_tag column can be removed due to the small number.**"
   ]
  },
  {
   "cell_type": "code",
   "execution_count": 7,
   "id": "0434cc73",
   "metadata": {},
   "outputs": [],
   "source": [
    "data_1 = data_1.dropna(subset=['main_tag'])"
   ]
  },
  {
   "cell_type": "code",
   "execution_count": 8,
   "id": "7558f850",
   "metadata": {},
   "outputs": [
    {
     "data": {
      "text/plain": [
       "talk_id             0\n",
       "url                 0\n",
       "title               0\n",
       "description         0\n",
       "film_date           0\n",
       "duration            0\n",
       "views               0\n",
       "main_tag            0\n",
       "speaker_id          0\n",
       "laughter_count    149\n",
       "applause_count    149\n",
       "language            0\n",
       "event_id            0\n",
       "dtype: int64"
      ]
     },
     "execution_count": 8,
     "metadata": {},
     "output_type": "execute_result"
    }
   ],
   "source": [
    "data_1.isna().sum()"
   ]
  },
  {
   "cell_type": "markdown",
   "id": "13dcb4ee",
   "metadata": {},
   "source": [
    "### Let's check how many explicit duplicates there are in our table"
   ]
  },
  {
   "cell_type": "code",
   "execution_count": 9,
   "id": "f5c7cce9",
   "metadata": {},
   "outputs": [
    {
     "data": {
      "text/plain": [
       "0"
      ]
     },
     "execution_count": 9,
     "metadata": {},
     "output_type": "execute_result"
    }
   ],
   "source": [
    "data_1.duplicated().sum()"
   ]
  },
  {
   "cell_type": "markdown",
   "id": "8de80b99",
   "metadata": {},
   "source": [
    "**Conclusion: there are no obvious duplicates.**"
   ]
  },
  {
   "cell_type": "markdown",
   "id": "2d327ce2",
   "metadata": {},
   "source": [
    "### Let's check how many implicit duplicates there are in our table"
   ]
  },
  {
   "cell_type": "code",
   "execution_count": 10,
   "id": "24a3626a",
   "metadata": {},
   "outputs": [
    {
     "data": {
      "text/plain": [
       "array(['health', 'education', 'society', 'culture', 'technology',\n",
       "       'economics', 'cities', 'social change', 'business', 'history',\n",
       "       'future', 'nature', 'global issues', 'science', 'architecture',\n",
       "       'communication', 'community', 'humanity', 'identity',\n",
       "       'decision-making', 'personal growth', 'creativity', 'psychology',\n",
       "       'design', 'activism', 'politics', 'relationships', 'space', 'art',\n",
       "       'performance', 'work', 'entertainment', 'animation', 'math',\n",
       "       'medicine', 'environment', 'ocean', 'innovation', 'self', 'brain',\n",
       "       'biology', 'ted fellows', 'film', 'ai', 'humor', 'violence',\n",
       "       'data', 'health care', 'food', 'gender', 'sustainability'],\n",
       "      dtype=object)"
      ]
     },
     "execution_count": 10,
     "metadata": {},
     "output_type": "execute_result"
    }
   ],
   "source": [
    "data_1['main_tag'].unique()"
   ]
  },
  {
   "cell_type": "code",
   "execution_count": 11,
   "id": "b9a18e9c",
   "metadata": {},
   "outputs": [
    {
     "data": {
      "text/plain": [
       "array(['English', 'French', 'Spanish'], dtype=object)"
      ]
     },
     "execution_count": 11,
     "metadata": {},
     "output_type": "execute_result"
    }
   ],
   "source": [
    "data_1['language'].unique()"
   ]
  },
  {
   "cell_type": "markdown",
   "id": "5633346e",
   "metadata": {},
   "source": [
    "**Conclusion: no implicit duplicates were found.**"
   ]
  },
  {
   "cell_type": "markdown",
   "id": "9ab3b699",
   "metadata": {},
   "source": [
    "### Save the modified file to continue working with it in Tableau"
   ]
  },
  {
   "cell_type": "code",
   "execution_count": 12,
   "id": "5f643b6f",
   "metadata": {},
   "outputs": [],
   "source": [
    "data_1.to_csv('tableau_project_data_11.csv', index=False)"
   ]
  },
  {
   "cell_type": "code",
   "execution_count": 13,
   "id": "b25aa8b7",
   "metadata": {},
   "outputs": [],
   "source": [
    "# Let's read the data from the csv file into a dataframe and save it to a variable\n",
    "try:\n",
    "    data_2 = pd.read_csv('tableau_project_data_2.csv')\n",
    "except:\n",
    "    data_2 = pd.read_csv('https://code.s3.yandex.net/datasets/tableau_project_data_2.csv')"
   ]
  },
  {
   "cell_type": "code",
   "execution_count": 14,
   "id": "69982bc0",
   "metadata": {},
   "outputs": [
    {
     "data": {
      "text/html": [
       "<div>\n",
       "<style scoped>\n",
       "    .dataframe tbody tr th:only-of-type {\n",
       "        vertical-align: middle;\n",
       "    }\n",
       "\n",
       "    .dataframe tbody tr th {\n",
       "        vertical-align: top;\n",
       "    }\n",
       "\n",
       "    .dataframe thead th {\n",
       "        text-align: right;\n",
       "    }\n",
       "</style>\n",
       "<table border=\"1\" class=\"dataframe\">\n",
       "  <thead>\n",
       "    <tr style=\"text-align: right;\">\n",
       "      <th></th>\n",
       "      <th>talk_id</th>\n",
       "      <th>url</th>\n",
       "      <th>title</th>\n",
       "      <th>description</th>\n",
       "      <th>film_date</th>\n",
       "      <th>duration</th>\n",
       "      <th>views</th>\n",
       "      <th>main_tag</th>\n",
       "      <th>speaker_id</th>\n",
       "      <th>laughter_count</th>\n",
       "      <th>applause_count</th>\n",
       "      <th>language</th>\n",
       "      <th>event_id</th>\n",
       "    </tr>\n",
       "  </thead>\n",
       "  <tbody>\n",
       "    <tr>\n",
       "      <th>0</th>\n",
       "      <td>21936</td>\n",
       "      <td>https://www.ted.com/talks/leila_seth_why_i_defend_women_s_inheritance_rights</td>\n",
       "      <td>Why I defend women's inheritance rights</td>\n",
       "      <td>During her stint on the Law Commission of India, Leila Seth, the first woman to be appointed to the Delhi High Court as a judge, led a campaign to grant women inheritance rights to ancestral property. In this passionate talk, she discusses the experiences that motivated her to defend the property rights and financial independence of women in a patriarchal society like India's.</td>\n",
       "      <td>2015-05-29</td>\n",
       "      <td>956</td>\n",
       "      <td>707770</td>\n",
       "      <td>social change</td>\n",
       "      <td>20191</td>\n",
       "      <td>6.0</td>\n",
       "      <td>6.0</td>\n",
       "      <td>English</td>\n",
       "      <td>194</td>\n",
       "    </tr>\n",
       "    <tr>\n",
       "      <th>1</th>\n",
       "      <td>2483</td>\n",
       "      <td>https://www.ted.com/talks/aditi_gupta_a_taboo_free_way_to_talk_about_periods</td>\n",
       "      <td>A taboo-free way to talk about periods</td>\n",
       "      <td>It's true: talking about menstruation makes many people uncomfortable. And that taboo has consequences: in India, three out of every 10 girls don't even know what menstruation is at the time of their first period, and restrictive customs related to periods inflict psychological damage on young girls. Growing up with this taboo herself, Aditi Gupta knew she wanted to help girls, parents and tea...</td>\n",
       "      <td>2015-05-29</td>\n",
       "      <td>670</td>\n",
       "      <td>1828032</td>\n",
       "      <td>education</td>\n",
       "      <td>2959</td>\n",
       "      <td>5.0</td>\n",
       "      <td>6.0</td>\n",
       "      <td>English</td>\n",
       "      <td>194</td>\n",
       "    </tr>\n",
       "    <tr>\n",
       "      <th>2</th>\n",
       "      <td>19995</td>\n",
       "      <td>https://www.ted.com/talks/boy_girl_banjo_dead_romance</td>\n",
       "      <td>\"Dead Romance\"</td>\n",
       "      <td>Acoustic duo Anielle Reid and Matthew Brookshire (playing together as Boy Girl Banjo) take the TED stage to perform their original song \"Dead Romance,\" weaving together the sounds of Americana folk music and modern pop.</td>\n",
       "      <td>2017-11-16</td>\n",
       "      <td>222</td>\n",
       "      <td>312226</td>\n",
       "      <td>performance</td>\n",
       "      <td>3757</td>\n",
       "      <td>0.0</td>\n",
       "      <td>0.0</td>\n",
       "      <td>English</td>\n",
       "      <td>97</td>\n",
       "    </tr>\n",
       "    <tr>\n",
       "      <th>3</th>\n",
       "      <td>12571</td>\n",
       "      <td>https://www.ted.com/talks/drew_philp_my_500_house_in_detroit_and_the_neighbors_who_helped_me_rebuild_it</td>\n",
       "      <td>My $500 house in Detroit -- and the neighbors who helped me rebuild it</td>\n",
       "      <td>In 2009, journalist and screenwriter Drew Philp bought a ruined house in Detroit for $500. In the years that followed, as he gutted the interior and removed the heaps of garbage crowding the rooms, he didn't just learn how to repair a house -- he learned how to build a community. In a tribute to the city he loves, Philp tells us about \"radical neighborliness\" and makes the case that we have \"t...</td>\n",
       "      <td>2017-11-16</td>\n",
       "      <td>823</td>\n",
       "      <td>1384861</td>\n",
       "      <td>culture</td>\n",
       "      <td>3763</td>\n",
       "      <td>1.0</td>\n",
       "      <td>1.0</td>\n",
       "      <td>English</td>\n",
       "      <td>97</td>\n",
       "    </tr>\n",
       "    <tr>\n",
       "      <th>4</th>\n",
       "      <td>13000</td>\n",
       "      <td>https://www.ted.com/talks/andrew_dent_to_eliminate_waste_we_need_to_rediscover_thrift</td>\n",
       "      <td>To eliminate waste, we need to rediscover thrift</td>\n",
       "      <td>There's no such thing as throwing something away, says Andrew Dent -- when you toss a used food container, broken toy or old pair of socks into the trash, those things inevitably end up in ever-growing landfills. But we can get smarter about the way we make, and remake, our products. Dent shares exciting examples of thrift -- the idea of using and reusing what you need so you don't have to pur...</td>\n",
       "      <td>2017-11-16</td>\n",
       "      <td>634</td>\n",
       "      <td>1451874</td>\n",
       "      <td>technology</td>\n",
       "      <td>3761</td>\n",
       "      <td>0.0</td>\n",
       "      <td>1.0</td>\n",
       "      <td>English</td>\n",
       "      <td>97</td>\n",
       "    </tr>\n",
       "    <tr>\n",
       "      <th>5</th>\n",
       "      <td>10802</td>\n",
       "      <td>https://www.ted.com/talks/nilay_kulkarni_a_life_saving_invention_that_prevents_human_stampedes</td>\n",
       "      <td>A life-saving invention that prevents human stampedes</td>\n",
       "      <td>Every three years, more than 30 million Hindu worshippers gather for the Kumbh Mela in India, the world's largest religious gathering, in order to wash away their sins. With massive crowds descending on small cities and towns, stampedes inevitably happen, and in 2003, 39 people were killed during the festival. In 2014, then 15-year-old Nilay Kulkarni decided to put his skills as a self-taught ...</td>\n",
       "      <td>2018-01-24</td>\n",
       "      <td>465</td>\n",
       "      <td>1092617</td>\n",
       "      <td>design</td>\n",
       "      <td>3913</td>\n",
       "      <td>6.0</td>\n",
       "      <td>2.0</td>\n",
       "      <td>English</td>\n",
       "      <td>97</td>\n",
       "    </tr>\n",
       "    <tr>\n",
       "      <th>6</th>\n",
       "      <td>9473</td>\n",
       "      <td>https://www.ted.com/talks/danielle_wood_6_space_technologies_we_can_use_to_improve_life_on_earth</td>\n",
       "      <td>6 space technologies we can use to improve life on Earth</td>\n",
       "      <td>Danielle Wood leads the Space Enabled research group at the MIT Media Lab, where she works to tear down the barriers that limit the benefits of space exploration to only the few, the rich or the elite. She identifies six technologies developed for space exploration that can contribute to sustainable development across the world -- from observation satellites that provide information to aid org...</td>\n",
       "      <td>2017-11-16</td>\n",
       "      <td>651</td>\n",
       "      <td>1393328</td>\n",
       "      <td>science</td>\n",
       "      <td>3758</td>\n",
       "      <td>0.0</td>\n",
       "      <td>1.0</td>\n",
       "      <td>English</td>\n",
       "      <td>97</td>\n",
       "    </tr>\n",
       "    <tr>\n",
       "      <th>7</th>\n",
       "      <td>3612</td>\n",
       "      <td>https://www.ted.com/talks/victoria_pratt_how_judges_can_show_respect</td>\n",
       "      <td>How judges can show respect</td>\n",
       "      <td>In halls of justice around the world, how can we ensure everyone is treated with dignity and respect? A pioneering judge in New Jersey, Victoria Pratt shares her principles of \"procedural justice\" -- four simple, thoughtful steps that redefined the everyday business of her courtroom in Newark, changing lives along the way. \"When the court behaves differently, naturally people respond different...</td>\n",
       "      <td>2016-10-05</td>\n",
       "      <td>963</td>\n",
       "      <td>1229338</td>\n",
       "      <td>culture</td>\n",
       "      <td>2905</td>\n",
       "      <td>8.0</td>\n",
       "      <td>1.0</td>\n",
       "      <td>English</td>\n",
       "      <td>97</td>\n",
       "    </tr>\n",
       "    <tr>\n",
       "      <th>8</th>\n",
       "      <td>2790</td>\n",
       "      <td>https://www.ted.com/talks/sofi_tukker_awoo</td>\n",
       "      <td>\"Awoo\"</td>\n",
       "      <td>Electro-pop duo Sofi Tukker dance it out with the TED audience in a performance of their upbeat, rhythmic song \"Awoo,\" featuring Betta Lemme.</td>\n",
       "      <td>2017-03-08</td>\n",
       "      <td>212</td>\n",
       "      <td>1964046</td>\n",
       "      <td>entertainment</td>\n",
       "      <td>3364</td>\n",
       "      <td>2.0</td>\n",
       "      <td>3.0</td>\n",
       "      <td>English</td>\n",
       "      <td>97</td>\n",
       "    </tr>\n",
       "    <tr>\n",
       "      <th>9</th>\n",
       "      <td>2810</td>\n",
       "      <td>https://www.ted.com/talks/sinead_burke_why_design_should_include_everyone</td>\n",
       "      <td>Why design should include everyone</td>\n",
       "      <td>Sinéad Burke is acutely aware of details that are practically invisible to many of us. At 105 centimeters (or 3' 5\") tall, the designed world -- from the height of a lock to the range of available shoe sizes -- often inhibits her ability to do things for herself. Here she tells us what it's like to navigate the world as a little person and asks: \"Who are we not designing for?\"</td>\n",
       "      <td>2017-03-08</td>\n",
       "      <td>597</td>\n",
       "      <td>1556219</td>\n",
       "      <td>design</td>\n",
       "      <td>3363</td>\n",
       "      <td>2.0</td>\n",
       "      <td>1.0</td>\n",
       "      <td>English</td>\n",
       "      <td>97</td>\n",
       "    </tr>\n",
       "  </tbody>\n",
       "</table>\n",
       "</div>"
      ],
      "text/plain": [
       "   talk_id  \\\n",
       "0    21936   \n",
       "1     2483   \n",
       "2    19995   \n",
       "3    12571   \n",
       "4    13000   \n",
       "5    10802   \n",
       "6     9473   \n",
       "7     3612   \n",
       "8     2790   \n",
       "9     2810   \n",
       "\n",
       "                                                                                                       url  \\\n",
       "0                             https://www.ted.com/talks/leila_seth_why_i_defend_women_s_inheritance_rights   \n",
       "1                             https://www.ted.com/talks/aditi_gupta_a_taboo_free_way_to_talk_about_periods   \n",
       "2                                                    https://www.ted.com/talks/boy_girl_banjo_dead_romance   \n",
       "3  https://www.ted.com/talks/drew_philp_my_500_house_in_detroit_and_the_neighbors_who_helped_me_rebuild_it   \n",
       "4                    https://www.ted.com/talks/andrew_dent_to_eliminate_waste_we_need_to_rediscover_thrift   \n",
       "5           https://www.ted.com/talks/nilay_kulkarni_a_life_saving_invention_that_prevents_human_stampedes   \n",
       "6         https://www.ted.com/talks/danielle_wood_6_space_technologies_we_can_use_to_improve_life_on_earth   \n",
       "7                                     https://www.ted.com/talks/victoria_pratt_how_judges_can_show_respect   \n",
       "8                                                               https://www.ted.com/talks/sofi_tukker_awoo   \n",
       "9                                https://www.ted.com/talks/sinead_burke_why_design_should_include_everyone   \n",
       "\n",
       "                                                                    title  \\\n",
       "0                                 Why I defend women's inheritance rights   \n",
       "1                                  A taboo-free way to talk about periods   \n",
       "2                                                          \"Dead Romance\"   \n",
       "3  My $500 house in Detroit -- and the neighbors who helped me rebuild it   \n",
       "4                        To eliminate waste, we need to rediscover thrift   \n",
       "5                   A life-saving invention that prevents human stampedes   \n",
       "6                6 space technologies we can use to improve life on Earth   \n",
       "7                                             How judges can show respect   \n",
       "8                                                                  \"Awoo\"   \n",
       "9                                      Why design should include everyone   \n",
       "\n",
       "                                                                                                                                                                                                                                                                                                                                                                                                       description  \\\n",
       "0                     During her stint on the Law Commission of India, Leila Seth, the first woman to be appointed to the Delhi High Court as a judge, led a campaign to grant women inheritance rights to ancestral property. In this passionate talk, she discusses the experiences that motivated her to defend the property rights and financial independence of women in a patriarchal society like India's.    \n",
       "1  It's true: talking about menstruation makes many people uncomfortable. And that taboo has consequences: in India, three out of every 10 girls don't even know what menstruation is at the time of their first period, and restrictive customs related to periods inflict psychological damage on young girls. Growing up with this taboo herself, Aditi Gupta knew she wanted to help girls, parents and tea...   \n",
       "2                                                                                                                                                                                      Acoustic duo Anielle Reid and Matthew Brookshire (playing together as Boy Girl Banjo) take the TED stage to perform their original song \"Dead Romance,\" weaving together the sounds of Americana folk music and modern pop.   \n",
       "3  In 2009, journalist and screenwriter Drew Philp bought a ruined house in Detroit for $500. In the years that followed, as he gutted the interior and removed the heaps of garbage crowding the rooms, he didn't just learn how to repair a house -- he learned how to build a community. In a tribute to the city he loves, Philp tells us about \"radical neighborliness\" and makes the case that we have \"t...   \n",
       "4  There's no such thing as throwing something away, says Andrew Dent -- when you toss a used food container, broken toy or old pair of socks into the trash, those things inevitably end up in ever-growing landfills. But we can get smarter about the way we make, and remake, our products. Dent shares exciting examples of thrift -- the idea of using and reusing what you need so you don't have to pur...   \n",
       "5  Every three years, more than 30 million Hindu worshippers gather for the Kumbh Mela in India, the world's largest religious gathering, in order to wash away their sins. With massive crowds descending on small cities and towns, stampedes inevitably happen, and in 2003, 39 people were killed during the festival. In 2014, then 15-year-old Nilay Kulkarni decided to put his skills as a self-taught ...   \n",
       "6  Danielle Wood leads the Space Enabled research group at the MIT Media Lab, where she works to tear down the barriers that limit the benefits of space exploration to only the few, the rich or the elite. She identifies six technologies developed for space exploration that can contribute to sustainable development across the world -- from observation satellites that provide information to aid org...   \n",
       "7  In halls of justice around the world, how can we ensure everyone is treated with dignity and respect? A pioneering judge in New Jersey, Victoria Pratt shares her principles of \"procedural justice\" -- four simple, thoughtful steps that redefined the everyday business of her courtroom in Newark, changing lives along the way. \"When the court behaves differently, naturally people respond different...   \n",
       "8                                                                                                                                                                                                                                                                    Electro-pop duo Sofi Tukker dance it out with the TED audience in a performance of their upbeat, rhythmic song \"Awoo,\" featuring Betta Lemme.   \n",
       "9                      Sinéad Burke is acutely aware of details that are practically invisible to many of us. At 105 centimeters (or 3' 5\") tall, the designed world -- from the height of a lock to the range of available shoe sizes -- often inhibits her ability to do things for herself. Here she tells us what it's like to navigate the world as a little person and asks: \"Who are we not designing for?\"   \n",
       "\n",
       "    film_date  duration    views       main_tag  speaker_id  laughter_count  \\\n",
       "0  2015-05-29       956   707770  social change       20191             6.0   \n",
       "1  2015-05-29       670  1828032      education        2959             5.0   \n",
       "2  2017-11-16       222   312226    performance        3757             0.0   \n",
       "3  2017-11-16       823  1384861        culture        3763             1.0   \n",
       "4  2017-11-16       634  1451874     technology        3761             0.0   \n",
       "5  2018-01-24       465  1092617         design        3913             6.0   \n",
       "6  2017-11-16       651  1393328        science        3758             0.0   \n",
       "7  2016-10-05       963  1229338        culture        2905             8.0   \n",
       "8  2017-03-08       212  1964046  entertainment        3364             2.0   \n",
       "9  2017-03-08       597  1556219         design        3363             2.0   \n",
       "\n",
       "   applause_count language  event_id  \n",
       "0             6.0  English       194  \n",
       "1             6.0  English       194  \n",
       "2             0.0  English        97  \n",
       "3             1.0  English        97  \n",
       "4             1.0  English        97  \n",
       "5             2.0  English        97  \n",
       "6             1.0  English        97  \n",
       "7             1.0  English        97  \n",
       "8             3.0  English        97  \n",
       "9             1.0  English        97  "
      ]
     },
     "execution_count": 14,
     "metadata": {},
     "output_type": "execute_result"
    }
   ],
   "source": [
    "data_2.head(10)"
   ]
  },
  {
   "cell_type": "code",
   "execution_count": 15,
   "id": "d0dcc04b",
   "metadata": {},
   "outputs": [
    {
     "name": "stdout",
     "output_type": "stream",
     "text": [
      "<class 'pandas.core.frame.DataFrame'>\n",
      "RangeIndex: 1152 entries, 0 to 1151\n",
      "Data columns (total 13 columns):\n",
      " #   Column          Non-Null Count  Dtype  \n",
      "---  ------          --------------  -----  \n",
      " 0   talk_id         1152 non-null   int64  \n",
      " 1   url             1152 non-null   object \n",
      " 2   title           1152 non-null   object \n",
      " 3   description     1152 non-null   object \n",
      " 4   film_date       1152 non-null   object \n",
      " 5   duration        1152 non-null   int64  \n",
      " 6   views           1152 non-null   int64  \n",
      " 7   main_tag        1151 non-null   object \n",
      " 8   speaker_id      1152 non-null   int64  \n",
      " 9   laughter_count  1013 non-null   float64\n",
      " 10  applause_count  1013 non-null   float64\n",
      " 11  language        1152 non-null   object \n",
      " 12  event_id        1152 non-null   int64  \n",
      "dtypes: float64(2), int64(5), object(6)\n",
      "memory usage: 117.1+ KB\n"
     ]
    }
   ],
   "source": [
    "data_2.info()"
   ]
  },
  {
   "cell_type": "markdown",
   "id": "1ca1d6fa",
   "metadata": {},
   "source": [
    "### Let's check how many gaps there are in our table"
   ]
  },
  {
   "cell_type": "code",
   "execution_count": 16,
   "id": "04b924af",
   "metadata": {},
   "outputs": [
    {
     "data": {
      "text/plain": [
       "talk_id             0\n",
       "url                 0\n",
       "title               0\n",
       "description         0\n",
       "film_date           0\n",
       "duration            0\n",
       "views               0\n",
       "main_tag            1\n",
       "speaker_id          0\n",
       "laughter_count    139\n",
       "applause_count    139\n",
       "language            0\n",
       "event_id            0\n",
       "dtype: int64"
      ]
     },
     "execution_count": 16,
     "metadata": {},
     "output_type": "execute_result"
    }
   ],
   "source": [
    "data_2.isna().sum()"
   ]
  },
  {
   "cell_type": "code",
   "execution_count": 17,
   "id": "67684370",
   "metadata": {},
   "outputs": [
    {
     "data": {
      "text/html": [
       "<style  type=\"text/css\" >\n",
       "#T_b0c12_row0_col0,#T_b0c12_row1_col0,#T_b0c12_row2_col0,#T_b0c12_row3_col0,#T_b0c12_row4_col0,#T_b0c12_row5_col0,#T_b0c12_row6_col0,#T_b0c12_row8_col0,#T_b0c12_row11_col0,#T_b0c12_row12_col0{\n",
       "            background-color:  #3b4cc0;\n",
       "            color:  #f1f1f1;\n",
       "        }#T_b0c12_row7_col0{\n",
       "            background-color:  #3c4ec2;\n",
       "            color:  #f1f1f1;\n",
       "        }#T_b0c12_row9_col0,#T_b0c12_row10_col0{\n",
       "            background-color:  #b40426;\n",
       "            color:  #f1f1f1;\n",
       "        }</style><table id=\"T_b0c12_\" ><thead>    <tr>        <th class=\"blank level0\" ></th>        <th class=\"col_heading level0 col0\" >0</th>    </tr></thead><tbody>\n",
       "                <tr>\n",
       "                        <th id=\"T_b0c12_level0_row0\" class=\"row_heading level0 row0\" >talk_id</th>\n",
       "                        <td id=\"T_b0c12_row0_col0\" class=\"data row0 col0\" >0.0</td>\n",
       "            </tr>\n",
       "            <tr>\n",
       "                        <th id=\"T_b0c12_level0_row1\" class=\"row_heading level0 row1\" >url</th>\n",
       "                        <td id=\"T_b0c12_row1_col0\" class=\"data row1 col0\" >0.0</td>\n",
       "            </tr>\n",
       "            <tr>\n",
       "                        <th id=\"T_b0c12_level0_row2\" class=\"row_heading level0 row2\" >title</th>\n",
       "                        <td id=\"T_b0c12_row2_col0\" class=\"data row2 col0\" >0.0</td>\n",
       "            </tr>\n",
       "            <tr>\n",
       "                        <th id=\"T_b0c12_level0_row3\" class=\"row_heading level0 row3\" >description</th>\n",
       "                        <td id=\"T_b0c12_row3_col0\" class=\"data row3 col0\" >0.0</td>\n",
       "            </tr>\n",
       "            <tr>\n",
       "                        <th id=\"T_b0c12_level0_row4\" class=\"row_heading level0 row4\" >film_date</th>\n",
       "                        <td id=\"T_b0c12_row4_col0\" class=\"data row4 col0\" >0.0</td>\n",
       "            </tr>\n",
       "            <tr>\n",
       "                        <th id=\"T_b0c12_level0_row5\" class=\"row_heading level0 row5\" >duration</th>\n",
       "                        <td id=\"T_b0c12_row5_col0\" class=\"data row5 col0\" >0.0</td>\n",
       "            </tr>\n",
       "            <tr>\n",
       "                        <th id=\"T_b0c12_level0_row6\" class=\"row_heading level0 row6\" >views</th>\n",
       "                        <td id=\"T_b0c12_row6_col0\" class=\"data row6 col0\" >0.0</td>\n",
       "            </tr>\n",
       "            <tr>\n",
       "                        <th id=\"T_b0c12_level0_row7\" class=\"row_heading level0 row7\" >main_tag</th>\n",
       "                        <td id=\"T_b0c12_row7_col0\" class=\"data row7 col0\" >0.1</td>\n",
       "            </tr>\n",
       "            <tr>\n",
       "                        <th id=\"T_b0c12_level0_row8\" class=\"row_heading level0 row8\" >speaker_id</th>\n",
       "                        <td id=\"T_b0c12_row8_col0\" class=\"data row8 col0\" >0.0</td>\n",
       "            </tr>\n",
       "            <tr>\n",
       "                        <th id=\"T_b0c12_level0_row9\" class=\"row_heading level0 row9\" >laughter_count</th>\n",
       "                        <td id=\"T_b0c12_row9_col0\" class=\"data row9 col0\" >12.1</td>\n",
       "            </tr>\n",
       "            <tr>\n",
       "                        <th id=\"T_b0c12_level0_row10\" class=\"row_heading level0 row10\" >applause_count</th>\n",
       "                        <td id=\"T_b0c12_row10_col0\" class=\"data row10 col0\" >12.1</td>\n",
       "            </tr>\n",
       "            <tr>\n",
       "                        <th id=\"T_b0c12_level0_row11\" class=\"row_heading level0 row11\" >language</th>\n",
       "                        <td id=\"T_b0c12_row11_col0\" class=\"data row11 col0\" >0.0</td>\n",
       "            </tr>\n",
       "            <tr>\n",
       "                        <th id=\"T_b0c12_level0_row12\" class=\"row_heading level0 row12\" >event_id</th>\n",
       "                        <td id=\"T_b0c12_row12_col0\" class=\"data row12 col0\" >0.0</td>\n",
       "            </tr>\n",
       "    </tbody></table>"
      ],
      "text/plain": [
       "<pandas.io.formats.style.Styler at 0x193e4377580>"
      ]
     },
     "execution_count": 17,
     "metadata": {},
     "output_type": "execute_result"
    }
   ],
   "source": [
    "pd.DataFrame(data_2.isna().mean()*100).style.set_precision(1).background_gradient('coolwarm')"
   ]
  },
  {
   "cell_type": "markdown",
   "id": "d21e3454",
   "metadata": {},
   "source": [
    "**Conclusion: it is not possible to restore the data in the laughter_count and applause_count columns, so you will have to leave them unchanged. The gaps in the main_tag column can be removed due to the small number.**"
   ]
  },
  {
   "cell_type": "code",
   "execution_count": 18,
   "id": "7456ad52",
   "metadata": {},
   "outputs": [],
   "source": [
    "data_2 = data_2.dropna(subset=['main_tag'])"
   ]
  },
  {
   "cell_type": "markdown",
   "id": "7ef35a4a",
   "metadata": {},
   "source": [
    "### Let's check how many explicit duplicates there are in our table"
   ]
  },
  {
   "cell_type": "code",
   "execution_count": 19,
   "id": "e5381271",
   "metadata": {},
   "outputs": [
    {
     "data": {
      "text/plain": [
       "0"
      ]
     },
     "execution_count": 19,
     "metadata": {},
     "output_type": "execute_result"
    }
   ],
   "source": [
    "data_2.duplicated().sum()"
   ]
  },
  {
   "cell_type": "markdown",
   "id": "75423924",
   "metadata": {},
   "source": [
    "**Conclusion: there are no obvious duplicates.**"
   ]
  },
  {
   "cell_type": "markdown",
   "id": "5ed823bb",
   "metadata": {},
   "source": [
    "### Let's check how many implicit duplicates there are in our table"
   ]
  },
  {
   "cell_type": "code",
   "execution_count": 20,
   "id": "5b7f6d07",
   "metadata": {},
   "outputs": [
    {
     "data": {
      "text/plain": [
       "array(['social change', 'education', 'performance', 'culture',\n",
       "       'technology', 'design', 'science', 'entertainment', 'society',\n",
       "       'global issues', 'health', 'activism', 'innovation', 'data',\n",
       "       'business', 'humanity', 'humor', 'computers', 'health care',\n",
       "       'africa', 'biology', 'brain', 'math', 'music', 'sustainability',\n",
       "       'economics', 'personal growth', 'art', 'environment', 'history',\n",
       "       'invention', 'animation', 'communication', 'ted fellows',\n",
       "       'politics', 'equality', 'space', 'creativity', 'money', 'nature',\n",
       "       'disability', 'internet', 'work', 'community', 'women', 'identity',\n",
       "       'public health', 'government', 'ocean', 'writing', 'violence',\n",
       "       'storytelling', 'philosophy', 'future', 'collaboration', 'cities',\n",
       "       'psychology', 'engineering', 'neuroscience', 'policy', 'medicine',\n",
       "       'natural disaster', 'animals', 'happiness', 'decision-making',\n",
       "       'climate change', 'kids', 'exploration'], dtype=object)"
      ]
     },
     "execution_count": 20,
     "metadata": {},
     "output_type": "execute_result"
    }
   ],
   "source": [
    "data_2['main_tag'].unique()"
   ]
  },
  {
   "cell_type": "code",
   "execution_count": 21,
   "id": "c4c21fa2",
   "metadata": {},
   "outputs": [
    {
     "data": {
      "text/plain": [
       "array(['English'], dtype=object)"
      ]
     },
     "execution_count": 21,
     "metadata": {},
     "output_type": "execute_result"
    }
   ],
   "source": [
    "data_2['language'].unique()"
   ]
  },
  {
   "cell_type": "markdown",
   "id": "94967b33",
   "metadata": {},
   "source": [
    "**Conclusion: no implicit duplicates were found.**"
   ]
  },
  {
   "cell_type": "markdown",
   "id": "e0fe3e5c",
   "metadata": {},
   "source": [
    "### Save the modified file to continue working with it in Tableau"
   ]
  },
  {
   "cell_type": "code",
   "execution_count": 22,
   "id": "74862ac8",
   "metadata": {},
   "outputs": [],
   "source": [
    "data_2.to_csv('tableau_project_data_22.csv', index=False)"
   ]
  },
  {
   "cell_type": "code",
   "execution_count": 23,
   "id": "e509ea19",
   "metadata": {},
   "outputs": [],
   "source": [
    "# Let's read the data from the csv file into a dataframe and save it to a variable\n",
    "try:\n",
    "    data_3 = pd.read_csv('tableau_project_data_3.csv')\n",
    "except:\n",
    "    data_3 = pd.read_csv('https://code.s3.yandex.net/datasets/tableau_project_data_3.csv')"
   ]
  },
  {
   "cell_type": "code",
   "execution_count": 24,
   "id": "e0770c5f",
   "metadata": {},
   "outputs": [
    {
     "data": {
      "text/html": [
       "<div>\n",
       "<style scoped>\n",
       "    .dataframe tbody tr th:only-of-type {\n",
       "        vertical-align: middle;\n",
       "    }\n",
       "\n",
       "    .dataframe tbody tr th {\n",
       "        vertical-align: top;\n",
       "    }\n",
       "\n",
       "    .dataframe thead th {\n",
       "        text-align: right;\n",
       "    }\n",
       "</style>\n",
       "<table border=\"1\" class=\"dataframe\">\n",
       "  <thead>\n",
       "    <tr style=\"text-align: right;\">\n",
       "      <th></th>\n",
       "      <th>talk_id</th>\n",
       "      <th>url</th>\n",
       "      <th>title</th>\n",
       "      <th>description</th>\n",
       "      <th>film_date</th>\n",
       "      <th>duration</th>\n",
       "      <th>views</th>\n",
       "      <th>main_tag</th>\n",
       "      <th>speaker_id</th>\n",
       "      <th>laughter_count</th>\n",
       "      <th>applause_count</th>\n",
       "      <th>language</th>\n",
       "      <th>event_id</th>\n",
       "    </tr>\n",
       "  </thead>\n",
       "  <tbody>\n",
       "    <tr>\n",
       "      <th>0</th>\n",
       "      <td>1841</td>\n",
       "      <td>https://www.ted.com/talks/andrew_fitzgerald_adventures_in_twitter_fiction</td>\n",
       "      <td>Adventures in Twitter fiction</td>\n",
       "      <td>In the 1930s, broadcast radio introduced an entirely new form of storytelling; today, micro-blogging platforms like Twitter are changing the scene again. Andrew Fitzgerald takes a look at the (aptly) short but fascinating history of new forms of creative experimentation in fiction and storytelling.</td>\n",
       "      <td>2013-07-15</td>\n",
       "      <td>715</td>\n",
       "      <td>1049942</td>\n",
       "      <td>technology</td>\n",
       "      <td>1689</td>\n",
       "      <td>1.0</td>\n",
       "      <td>1.0</td>\n",
       "      <td>English</td>\n",
       "      <td>112</td>\n",
       "    </tr>\n",
       "    <tr>\n",
       "      <th>1</th>\n",
       "      <td>1817</td>\n",
       "      <td>https://www.ted.com/talks/jake_barton_the_museum_of_you</td>\n",
       "      <td>The museum of you</td>\n",
       "      <td>A third of the world watched live as the World Trade Center collapsed on September 11, 2001; a third more heard about it within 24 hours. (Do you remember where you were?) So exhibits at the soon-to-open 9/11 Memorial Museum will reflect the diversity of the world's experiences of that day. In a moving talk, designer Jake Barton gives a peek at some of those installations, as well as several o...</td>\n",
       "      <td>2013-05-16</td>\n",
       "      <td>938</td>\n",
       "      <td>831812</td>\n",
       "      <td>design</td>\n",
       "      <td>1679</td>\n",
       "      <td>1.0</td>\n",
       "      <td>1.0</td>\n",
       "      <td>English</td>\n",
       "      <td>112</td>\n",
       "    </tr>\n",
       "    <tr>\n",
       "      <th>2</th>\n",
       "      <td>1776</td>\n",
       "      <td>https://www.ted.com/talks/bob_mankoff_anatomy_of_a_new_yorker_cartoon</td>\n",
       "      <td>Anatomy of a New Yorker cartoon</td>\n",
       "      <td>The New Yorker receives around 1,000 cartoons each week; it only publishes about 17 of them. In this hilarious, fast-paced, and insightful talk, the magazine's longstanding cartoon editor and self-proclaimed \"humor analyst\" Bob Mankoff dissects the comedy within just some of the \"idea drawings\" featured in the magazine, explaining what works, what doesn't, and why.</td>\n",
       "      <td>2013-05-16</td>\n",
       "      <td>1259</td>\n",
       "      <td>1392017</td>\n",
       "      <td>design</td>\n",
       "      <td>1660</td>\n",
       "      <td>27.0</td>\n",
       "      <td>2.0</td>\n",
       "      <td>English</td>\n",
       "      <td>112</td>\n",
       "    </tr>\n",
       "    <tr>\n",
       "      <th>3</th>\n",
       "      <td>1743</td>\n",
       "      <td>https://www.ted.com/talks/jay_silver_hack_a_banana_make_a_keyboard</td>\n",
       "      <td>Hack a banana, make a keyboard!</td>\n",
       "      <td>Why can't two slices of pizza be used as a slide clicker? Why shouldn't you make music with ketchup? In this charming talk, inventor Jay Silver talks about the urge to play with the world around you. He shares some of his messiest inventions, and demos MaKey MaKey, a kit for hacking everyday objects.</td>\n",
       "      <td>2013-04-24</td>\n",
       "      <td>795</td>\n",
       "      <td>1474788</td>\n",
       "      <td>technology</td>\n",
       "      <td>1650</td>\n",
       "      <td>5.0</td>\n",
       "      <td>3.0</td>\n",
       "      <td>English</td>\n",
       "      <td>112</td>\n",
       "    </tr>\n",
       "    <tr>\n",
       "      <th>4</th>\n",
       "      <td>1752</td>\n",
       "      <td>https://www.ted.com/talks/paola_antonelli_why_i_brought_pac_man_to_moma</td>\n",
       "      <td>Why I brought Pac-Man to MoMA</td>\n",
       "      <td>When the Museum of Modern Art's senior curator of architecture and design announced the acquisition of 14 video games in 2012, \"all hell broke loose.\" In this far-ranging, entertaining, and deeply insightful talk, Paola Antonelli explains why she's delighted to challenge preconceived ideas about art and galleries, and describes her burning wish to help establish a broader understanding of design.</td>\n",
       "      <td>2013-05-16</td>\n",
       "      <td>1122</td>\n",
       "      <td>1023829</td>\n",
       "      <td>design</td>\n",
       "      <td>148</td>\n",
       "      <td>8.0</td>\n",
       "      <td>2.0</td>\n",
       "      <td>English</td>\n",
       "      <td>112</td>\n",
       "    </tr>\n",
       "    <tr>\n",
       "      <th>5</th>\n",
       "      <td>1669</td>\n",
       "      <td>https://www.ted.com/talks/esther_perel_the_secret_to_desire_in_a_long_term_relationship</td>\n",
       "      <td>The secret to desire in a long-term relationship</td>\n",
       "      <td>In long-term relationships, we often expect our beloved to be both best friend and erotic partner. But as Esther Perel argues, good and committed sex draws on two conflicting needs: our need for security and our need for surprise. So how do you sustain desire? With wit and eloquence, Perel lets us in on the mystery of erotic intelligence.</td>\n",
       "      <td>2013-02-11</td>\n",
       "      <td>1150</td>\n",
       "      <td>18952508</td>\n",
       "      <td>culture</td>\n",
       "      <td>1542</td>\n",
       "      <td>8.0</td>\n",
       "      <td>2.0</td>\n",
       "      <td>English</td>\n",
       "      <td>112</td>\n",
       "    </tr>\n",
       "    <tr>\n",
       "      <th>6</th>\n",
       "      <td>1675</td>\n",
       "      <td>https://www.ted.com/talks/bruce_feiler_agile_programming_for_your_family</td>\n",
       "      <td>Agile programming -- for your family</td>\n",
       "      <td>Bruce Feiler has a radical idea: To deal with the stress of modern family life, go agile. Inspired by agile software programming, Feiler introduces family practices which encourage flexibility, bottom-up idea flow, constant feedback and accountability. One surprising feature: Kids pick their own punishments.</td>\n",
       "      <td>2013-02-11</td>\n",
       "      <td>1080</td>\n",
       "      <td>1749935</td>\n",
       "      <td>culture</td>\n",
       "      <td>939</td>\n",
       "      <td>2.0</td>\n",
       "      <td>2.0</td>\n",
       "      <td>English</td>\n",
       "      <td>112</td>\n",
       "    </tr>\n",
       "    <tr>\n",
       "      <th>7</th>\n",
       "      <td>1783</td>\n",
       "      <td>https://www.ted.com/talks/mohamed_hijri_a_simple_solution_to_the_coming_phosphorus_crisis</td>\n",
       "      <td>A simple solution to the coming phosphorus crisis</td>\n",
       "      <td>There's a farming crisis no one is talking about: The world is running out of phosphorus, an essential element that's a key component of DNA and the basis of cellular communication. As biologist Mohamed Hijri shows, all roads of this crisis lead back to how we farm -- with chemical fertilizers chock-full of the element, which plants are not efficient at absorbing. One solution? A microscopic m...</td>\n",
       "      <td>2013-10-03</td>\n",
       "      <td>821</td>\n",
       "      <td>678494</td>\n",
       "      <td>science</td>\n",
       "      <td>1698</td>\n",
       "      <td>0.0</td>\n",
       "      <td>1.0</td>\n",
       "      <td>English</td>\n",
       "      <td>307</td>\n",
       "    </tr>\n",
       "    <tr>\n",
       "      <th>8</th>\n",
       "      <td>1830</td>\n",
       "      <td>https://www.ted.com/talks/kevin_breel_confessions_of_a_depressed_comic</td>\n",
       "      <td>Confessions of a depressed comic</td>\n",
       "      <td>Kevin Breel didn't look like a depressed kid: team captain, at every party, funny and confident. But he tells the story of the night he realized that -- to save his own life -- he needed to say four simple words.</td>\n",
       "      <td>2013-05-05</td>\n",
       "      <td>660</td>\n",
       "      <td>4733198</td>\n",
       "      <td>mental health</td>\n",
       "      <td>1682</td>\n",
       "      <td>0.0</td>\n",
       "      <td>2.0</td>\n",
       "      <td>English</td>\n",
       "      <td>216</td>\n",
       "    </tr>\n",
       "    <tr>\n",
       "      <th>9</th>\n",
       "      <td>1797</td>\n",
       "      <td>https://www.ted.com/talks/tania_luna_how_a_penny_made_me_feel_like_a_millionaire</td>\n",
       "      <td>How a penny made me feel like a millionaire</td>\n",
       "      <td>As a young child, Tania Luna left her home in post-Chernobyl Ukraine to take asylum in the US. And one day, on the floor of the New York homeless shelter where she and her family lived, she found a penny. She has never again felt so rich. A meditation on the bittersweet joys of childhood -- and how to hold them in mind.</td>\n",
       "      <td>2012-07-12</td>\n",
       "      <td>331</td>\n",
       "      <td>1855539</td>\n",
       "      <td>culture</td>\n",
       "      <td>1669</td>\n",
       "      <td>0.0</td>\n",
       "      <td>1.0</td>\n",
       "      <td>English</td>\n",
       "      <td>63</td>\n",
       "    </tr>\n",
       "  </tbody>\n",
       "</table>\n",
       "</div>"
      ],
      "text/plain": [
       "   talk_id  \\\n",
       "0     1841   \n",
       "1     1817   \n",
       "2     1776   \n",
       "3     1743   \n",
       "4     1752   \n",
       "5     1669   \n",
       "6     1675   \n",
       "7     1783   \n",
       "8     1830   \n",
       "9     1797   \n",
       "\n",
       "                                                                                         url  \\\n",
       "0                  https://www.ted.com/talks/andrew_fitzgerald_adventures_in_twitter_fiction   \n",
       "1                                    https://www.ted.com/talks/jake_barton_the_museum_of_you   \n",
       "2                      https://www.ted.com/talks/bob_mankoff_anatomy_of_a_new_yorker_cartoon   \n",
       "3                         https://www.ted.com/talks/jay_silver_hack_a_banana_make_a_keyboard   \n",
       "4                    https://www.ted.com/talks/paola_antonelli_why_i_brought_pac_man_to_moma   \n",
       "5    https://www.ted.com/talks/esther_perel_the_secret_to_desire_in_a_long_term_relationship   \n",
       "6                   https://www.ted.com/talks/bruce_feiler_agile_programming_for_your_family   \n",
       "7  https://www.ted.com/talks/mohamed_hijri_a_simple_solution_to_the_coming_phosphorus_crisis   \n",
       "8                     https://www.ted.com/talks/kevin_breel_confessions_of_a_depressed_comic   \n",
       "9           https://www.ted.com/talks/tania_luna_how_a_penny_made_me_feel_like_a_millionaire   \n",
       "\n",
       "                                               title  \\\n",
       "0                      Adventures in Twitter fiction   \n",
       "1                                  The museum of you   \n",
       "2                    Anatomy of a New Yorker cartoon   \n",
       "3                    Hack a banana, make a keyboard!   \n",
       "4                      Why I brought Pac-Man to MoMA   \n",
       "5   The secret to desire in a long-term relationship   \n",
       "6               Agile programming -- for your family   \n",
       "7  A simple solution to the coming phosphorus crisis   \n",
       "8                   Confessions of a depressed comic   \n",
       "9        How a penny made me feel like a millionaire   \n",
       "\n",
       "                                                                                                                                                                                                                                                                                                                                                                                                       description  \\\n",
       "0                                                                                                      In the 1930s, broadcast radio introduced an entirely new form of storytelling; today, micro-blogging platforms like Twitter are changing the scene again. Andrew Fitzgerald takes a look at the (aptly) short but fascinating history of new forms of creative experimentation in fiction and storytelling.   \n",
       "1  A third of the world watched live as the World Trade Center collapsed on September 11, 2001; a third more heard about it within 24 hours. (Do you remember where you were?) So exhibits at the soon-to-open 9/11 Memorial Museum will reflect the diversity of the world's experiences of that day. In a moving talk, designer Jake Barton gives a peek at some of those installations, as well as several o...   \n",
       "2                                  The New Yorker receives around 1,000 cartoons each week; it only publishes about 17 of them. In this hilarious, fast-paced, and insightful talk, the magazine's longstanding cartoon editor and self-proclaimed \"humor analyst\" Bob Mankoff dissects the comedy within just some of the \"idea drawings\" featured in the magazine, explaining what works, what doesn't, and why.   \n",
       "3                                                                                                    Why can't two slices of pizza be used as a slide clicker? Why shouldn't you make music with ketchup? In this charming talk, inventor Jay Silver talks about the urge to play with the world around you. He shares some of his messiest inventions, and demos MaKey MaKey, a kit for hacking everyday objects.   \n",
       "4  When the Museum of Modern Art's senior curator of architecture and design announced the acquisition of 14 video games in 2012, \"all hell broke loose.\" In this far-ranging, entertaining, and deeply insightful talk, Paola Antonelli explains why she's delighted to challenge preconceived ideas about art and galleries, and describes her burning wish to help establish a broader understanding of design.   \n",
       "5                                                             In long-term relationships, we often expect our beloved to be both best friend and erotic partner. But as Esther Perel argues, good and committed sex draws on two conflicting needs: our need for security and our need for surprise. So how do you sustain desire? With wit and eloquence, Perel lets us in on the mystery of erotic intelligence.   \n",
       "6                                                                                            Bruce Feiler has a radical idea: To deal with the stress of modern family life, go agile. Inspired by agile software programming, Feiler introduces family practices which encourage flexibility, bottom-up idea flow, constant feedback and accountability. One surprising feature: Kids pick their own punishments.   \n",
       "7  There's a farming crisis no one is talking about: The world is running out of phosphorus, an essential element that's a key component of DNA and the basis of cellular communication. As biologist Mohamed Hijri shows, all roads of this crisis lead back to how we farm -- with chemical fertilizers chock-full of the element, which plants are not efficient at absorbing. One solution? A microscopic m...   \n",
       "8                                                                                                                                                                                             Kevin Breel didn't look like a depressed kid: team captain, at every party, funny and confident. But he tells the story of the night he realized that -- to save his own life -- he needed to say four simple words.   \n",
       "9                                                                                As a young child, Tania Luna left her home in post-Chernobyl Ukraine to take asylum in the US. And one day, on the floor of the New York homeless shelter where she and her family lived, she found a penny. She has never again felt so rich. A meditation on the bittersweet joys of childhood -- and how to hold them in mind.   \n",
       "\n",
       "    film_date  duration     views       main_tag  speaker_id  laughter_count  \\\n",
       "0  2013-07-15       715   1049942     technology        1689             1.0   \n",
       "1  2013-05-16       938    831812         design        1679             1.0   \n",
       "2  2013-05-16      1259   1392017         design        1660            27.0   \n",
       "3  2013-04-24       795   1474788     technology        1650             5.0   \n",
       "4  2013-05-16      1122   1023829         design         148             8.0   \n",
       "5  2013-02-11      1150  18952508        culture        1542             8.0   \n",
       "6  2013-02-11      1080   1749935        culture         939             2.0   \n",
       "7  2013-10-03       821    678494        science        1698             0.0   \n",
       "8  2013-05-05       660   4733198  mental health        1682             0.0   \n",
       "9  2012-07-12       331   1855539        culture        1669             0.0   \n",
       "\n",
       "   applause_count language  event_id  \n",
       "0             1.0  English       112  \n",
       "1             1.0  English       112  \n",
       "2             2.0  English       112  \n",
       "3             3.0  English       112  \n",
       "4             2.0  English       112  \n",
       "5             2.0  English       112  \n",
       "6             2.0  English       112  \n",
       "7             1.0  English       307  \n",
       "8             2.0  English       216  \n",
       "9             1.0  English        63  "
      ]
     },
     "execution_count": 24,
     "metadata": {},
     "output_type": "execute_result"
    }
   ],
   "source": [
    "data_3.head(10)"
   ]
  },
  {
   "cell_type": "code",
   "execution_count": 25,
   "id": "88a4abd6",
   "metadata": {},
   "outputs": [
    {
     "name": "stdout",
     "output_type": "stream",
     "text": [
      "<class 'pandas.core.frame.DataFrame'>\n",
      "RangeIndex: 1152 entries, 0 to 1151\n",
      "Data columns (total 13 columns):\n",
      " #   Column          Non-Null Count  Dtype  \n",
      "---  ------          --------------  -----  \n",
      " 0   talk_id         1152 non-null   int64  \n",
      " 1   url             1152 non-null   object \n",
      " 2   title           1152 non-null   object \n",
      " 3   description     1152 non-null   object \n",
      " 4   film_date       1152 non-null   object \n",
      " 5   duration        1152 non-null   int64  \n",
      " 6   views           1152 non-null   int64  \n",
      " 7   main_tag        1152 non-null   object \n",
      " 8   speaker_id      1152 non-null   int64  \n",
      " 9   laughter_count  1123 non-null   float64\n",
      " 10  applause_count  1123 non-null   float64\n",
      " 11  language        1152 non-null   object \n",
      " 12  event_id        1152 non-null   int64  \n",
      "dtypes: float64(2), int64(5), object(6)\n",
      "memory usage: 117.1+ KB\n"
     ]
    }
   ],
   "source": [
    "data_3.info()"
   ]
  },
  {
   "cell_type": "markdown",
   "id": "26452feb",
   "metadata": {},
   "source": [
    "### Let's check how many gaps there are in our table"
   ]
  },
  {
   "cell_type": "code",
   "execution_count": 26,
   "id": "b89e1379",
   "metadata": {},
   "outputs": [
    {
     "data": {
      "text/plain": [
       "talk_id            0\n",
       "url                0\n",
       "title              0\n",
       "description        0\n",
       "film_date          0\n",
       "duration           0\n",
       "views              0\n",
       "main_tag           0\n",
       "speaker_id         0\n",
       "laughter_count    29\n",
       "applause_count    29\n",
       "language           0\n",
       "event_id           0\n",
       "dtype: int64"
      ]
     },
     "execution_count": 26,
     "metadata": {},
     "output_type": "execute_result"
    }
   ],
   "source": [
    "data_3.isna().sum()"
   ]
  },
  {
   "cell_type": "code",
   "execution_count": 27,
   "id": "28f2ec52",
   "metadata": {},
   "outputs": [
    {
     "data": {
      "text/html": [
       "<style  type=\"text/css\" >\n",
       "#T_e5977_row0_col0,#T_e5977_row1_col0,#T_e5977_row2_col0,#T_e5977_row3_col0,#T_e5977_row4_col0,#T_e5977_row5_col0,#T_e5977_row6_col0,#T_e5977_row7_col0,#T_e5977_row8_col0,#T_e5977_row11_col0,#T_e5977_row12_col0{\n",
       "            background-color:  #3b4cc0;\n",
       "            color:  #f1f1f1;\n",
       "        }#T_e5977_row9_col0,#T_e5977_row10_col0{\n",
       "            background-color:  #b40426;\n",
       "            color:  #f1f1f1;\n",
       "        }</style><table id=\"T_e5977_\" ><thead>    <tr>        <th class=\"blank level0\" ></th>        <th class=\"col_heading level0 col0\" >0</th>    </tr></thead><tbody>\n",
       "                <tr>\n",
       "                        <th id=\"T_e5977_level0_row0\" class=\"row_heading level0 row0\" >talk_id</th>\n",
       "                        <td id=\"T_e5977_row0_col0\" class=\"data row0 col0\" >0.0</td>\n",
       "            </tr>\n",
       "            <tr>\n",
       "                        <th id=\"T_e5977_level0_row1\" class=\"row_heading level0 row1\" >url</th>\n",
       "                        <td id=\"T_e5977_row1_col0\" class=\"data row1 col0\" >0.0</td>\n",
       "            </tr>\n",
       "            <tr>\n",
       "                        <th id=\"T_e5977_level0_row2\" class=\"row_heading level0 row2\" >title</th>\n",
       "                        <td id=\"T_e5977_row2_col0\" class=\"data row2 col0\" >0.0</td>\n",
       "            </tr>\n",
       "            <tr>\n",
       "                        <th id=\"T_e5977_level0_row3\" class=\"row_heading level0 row3\" >description</th>\n",
       "                        <td id=\"T_e5977_row3_col0\" class=\"data row3 col0\" >0.0</td>\n",
       "            </tr>\n",
       "            <tr>\n",
       "                        <th id=\"T_e5977_level0_row4\" class=\"row_heading level0 row4\" >film_date</th>\n",
       "                        <td id=\"T_e5977_row4_col0\" class=\"data row4 col0\" >0.0</td>\n",
       "            </tr>\n",
       "            <tr>\n",
       "                        <th id=\"T_e5977_level0_row5\" class=\"row_heading level0 row5\" >duration</th>\n",
       "                        <td id=\"T_e5977_row5_col0\" class=\"data row5 col0\" >0.0</td>\n",
       "            </tr>\n",
       "            <tr>\n",
       "                        <th id=\"T_e5977_level0_row6\" class=\"row_heading level0 row6\" >views</th>\n",
       "                        <td id=\"T_e5977_row6_col0\" class=\"data row6 col0\" >0.0</td>\n",
       "            </tr>\n",
       "            <tr>\n",
       "                        <th id=\"T_e5977_level0_row7\" class=\"row_heading level0 row7\" >main_tag</th>\n",
       "                        <td id=\"T_e5977_row7_col0\" class=\"data row7 col0\" >0.0</td>\n",
       "            </tr>\n",
       "            <tr>\n",
       "                        <th id=\"T_e5977_level0_row8\" class=\"row_heading level0 row8\" >speaker_id</th>\n",
       "                        <td id=\"T_e5977_row8_col0\" class=\"data row8 col0\" >0.0</td>\n",
       "            </tr>\n",
       "            <tr>\n",
       "                        <th id=\"T_e5977_level0_row9\" class=\"row_heading level0 row9\" >laughter_count</th>\n",
       "                        <td id=\"T_e5977_row9_col0\" class=\"data row9 col0\" >2.5</td>\n",
       "            </tr>\n",
       "            <tr>\n",
       "                        <th id=\"T_e5977_level0_row10\" class=\"row_heading level0 row10\" >applause_count</th>\n",
       "                        <td id=\"T_e5977_row10_col0\" class=\"data row10 col0\" >2.5</td>\n",
       "            </tr>\n",
       "            <tr>\n",
       "                        <th id=\"T_e5977_level0_row11\" class=\"row_heading level0 row11\" >language</th>\n",
       "                        <td id=\"T_e5977_row11_col0\" class=\"data row11 col0\" >0.0</td>\n",
       "            </tr>\n",
       "            <tr>\n",
       "                        <th id=\"T_e5977_level0_row12\" class=\"row_heading level0 row12\" >event_id</th>\n",
       "                        <td id=\"T_e5977_row12_col0\" class=\"data row12 col0\" >0.0</td>\n",
       "            </tr>\n",
       "    </tbody></table>"
      ],
      "text/plain": [
       "<pandas.io.formats.style.Styler at 0x193e4508b80>"
      ]
     },
     "execution_count": 27,
     "metadata": {},
     "output_type": "execute_result"
    }
   ],
   "source": [
    "pd.DataFrame(data_3.isna().mean()*100).style.set_precision(1).background_gradient('coolwarm')"
   ]
  },
  {
   "cell_type": "markdown",
   "id": "842a0115",
   "metadata": {},
   "source": [
    "**Conclusion: it is not possible to restore the data in the laughter_count and applause_count columns, so you will have to leave them unchanged.**"
   ]
  },
  {
   "cell_type": "markdown",
   "id": "a0ffde73",
   "metadata": {},
   "source": [
    "### Let's check how many explicit duplicates there are in our table"
   ]
  },
  {
   "cell_type": "code",
   "execution_count": 28,
   "id": "35142f15",
   "metadata": {},
   "outputs": [
    {
     "data": {
      "text/plain": [
       "0"
      ]
     },
     "execution_count": 28,
     "metadata": {},
     "output_type": "execute_result"
    }
   ],
   "source": [
    "data_3.duplicated().sum()"
   ]
  },
  {
   "cell_type": "markdown",
   "id": "a6151788",
   "metadata": {},
   "source": [
    "**Conclusion: there are no obvious duplicates.**"
   ]
  },
  {
   "cell_type": "markdown",
   "id": "621b8f25",
   "metadata": {},
   "source": [
    "### Let's check how many implicit duplicates there are in our table"
   ]
  },
  {
   "cell_type": "code",
   "execution_count": 29,
   "id": "54e050f8",
   "metadata": {},
   "outputs": [
    {
     "data": {
      "text/plain": [
       "array(['technology', 'design', 'culture', 'science', 'mental health',\n",
       "       'business', 'entertainment', 'global issues', 'creativity', 'art',\n",
       "       'education', 'history', 'brain', 'social change', 'health care',\n",
       "       'animals', 'identity', 'innovation', 'society', 'space',\n",
       "       'engineering', 'health', 'economics', 'medicine', 'robots',\n",
       "       'transportation', 'performance', 'environment', 'nature',\n",
       "       'community', 'communication', 'data', 'storytelling', 'activism',\n",
       "       'biology', 'invention', 'personal growth', 'visualizations',\n",
       "       'africa', 'politics', 'math', 'kids', 'internet', 'animation',\n",
       "       'humor', 'medical research', 'sustainability', 'humanity', 'work',\n",
       "       'writing'], dtype=object)"
      ]
     },
     "execution_count": 29,
     "metadata": {},
     "output_type": "execute_result"
    }
   ],
   "source": [
    "data_3['main_tag'].unique()"
   ]
  },
  {
   "cell_type": "code",
   "execution_count": 30,
   "id": "76b7aac1",
   "metadata": {},
   "outputs": [
    {
     "data": {
      "text/plain": [
       "array(['English'], dtype=object)"
      ]
     },
     "execution_count": 30,
     "metadata": {},
     "output_type": "execute_result"
    }
   ],
   "source": [
    "data_3['language'].unique()"
   ]
  },
  {
   "cell_type": "markdown",
   "id": "0a7992d2",
   "metadata": {},
   "source": [
    "**Conclusion: no implicit duplicates were found.**"
   ]
  },
  {
   "cell_type": "markdown",
   "id": "81eba1c7",
   "metadata": {},
   "source": [
    "### Save the modified file to continue working with it in Tableau"
   ]
  },
  {
   "cell_type": "code",
   "execution_count": 31,
   "id": "583ef0b6",
   "metadata": {},
   "outputs": [],
   "source": [
    "data_3.to_csv('tableau_project_data_33.csv', index=False)"
   ]
  },
  {
   "cell_type": "code",
   "execution_count": 32,
   "id": "35014ed5",
   "metadata": {},
   "outputs": [],
   "source": [
    "# Let's read the data from the csv file into a dataframe and save it to a variable\n",
    "try:\n",
    "    conferences = pd.read_csv('tableau_project_event_dict.csv')\n",
    "except:\n",
    "    conferences = pd.read_csv('https://code.s3.yandex.net/datasets/tableau_project_event_dict.csv')"
   ]
  },
  {
   "cell_type": "code",
   "execution_count": 33,
   "id": "7461b95e",
   "metadata": {},
   "outputs": [
    {
     "data": {
      "text/html": [
       "<div>\n",
       "<style scoped>\n",
       "    .dataframe tbody tr th:only-of-type {\n",
       "        vertical-align: middle;\n",
       "    }\n",
       "\n",
       "    .dataframe tbody tr th {\n",
       "        vertical-align: top;\n",
       "    }\n",
       "\n",
       "    .dataframe thead th {\n",
       "        text-align: right;\n",
       "    }\n",
       "</style>\n",
       "<table border=\"1\" class=\"dataframe\">\n",
       "  <thead>\n",
       "    <tr style=\"text-align: right;\">\n",
       "      <th></th>\n",
       "      <th>conf_id</th>\n",
       "      <th>event</th>\n",
       "      <th>country</th>\n",
       "    </tr>\n",
       "  </thead>\n",
       "  <tbody>\n",
       "    <tr>\n",
       "      <th>0</th>\n",
       "      <td>0</td>\n",
       "      <td>Arbejdsglaede Live</td>\n",
       "      <td>United States</td>\n",
       "    </tr>\n",
       "    <tr>\n",
       "      <th>1</th>\n",
       "      <td>1</td>\n",
       "      <td>Business Innovation Factory</td>\n",
       "      <td>United States</td>\n",
       "    </tr>\n",
       "    <tr>\n",
       "      <th>2</th>\n",
       "      <td>2</td>\n",
       "      <td>Chautauqua Institution</td>\n",
       "      <td>United States</td>\n",
       "    </tr>\n",
       "    <tr>\n",
       "      <th>3</th>\n",
       "      <td>3</td>\n",
       "      <td>DLD 2007</td>\n",
       "      <td>United States</td>\n",
       "    </tr>\n",
       "    <tr>\n",
       "      <th>4</th>\n",
       "      <td>4</td>\n",
       "      <td>EG 2007</td>\n",
       "      <td>United States</td>\n",
       "    </tr>\n",
       "    <tr>\n",
       "      <th>5</th>\n",
       "      <td>5</td>\n",
       "      <td>EG 2008</td>\n",
       "      <td>United States</td>\n",
       "    </tr>\n",
       "    <tr>\n",
       "      <th>6</th>\n",
       "      <td>6</td>\n",
       "      <td>Elizabeth G. Anderson School</td>\n",
       "      <td>United States</td>\n",
       "    </tr>\n",
       "    <tr>\n",
       "      <th>7</th>\n",
       "      <td>7</td>\n",
       "      <td>Full Spectrum Auditions</td>\n",
       "      <td>United States</td>\n",
       "    </tr>\n",
       "    <tr>\n",
       "      <th>8</th>\n",
       "      <td>8</td>\n",
       "      <td>INK Conference</td>\n",
       "      <td>United States</td>\n",
       "    </tr>\n",
       "    <tr>\n",
       "      <th>9</th>\n",
       "      <td>9</td>\n",
       "      <td>LIFT 2007</td>\n",
       "      <td>United States</td>\n",
       "    </tr>\n",
       "  </tbody>\n",
       "</table>\n",
       "</div>"
      ],
      "text/plain": [
       "   conf_id                         event        country\n",
       "0        0            Arbejdsglaede Live  United States\n",
       "1        1   Business Innovation Factory  United States\n",
       "2        2        Chautauqua Institution  United States\n",
       "3        3                      DLD 2007  United States\n",
       "4        4                       EG 2007  United States\n",
       "5        5                       EG 2008  United States\n",
       "6        6  Elizabeth G. Anderson School  United States\n",
       "7        7       Full Spectrum Auditions  United States\n",
       "8        8                INK Conference  United States\n",
       "9        9                     LIFT 2007  United States"
      ]
     },
     "execution_count": 33,
     "metadata": {},
     "output_type": "execute_result"
    }
   ],
   "source": [
    "conferences.head(10)"
   ]
  },
  {
   "cell_type": "code",
   "execution_count": 34,
   "id": "ebe53ff3",
   "metadata": {},
   "outputs": [
    {
     "name": "stdout",
     "output_type": "stream",
     "text": [
      "<class 'pandas.core.frame.DataFrame'>\n",
      "RangeIndex: 327 entries, 0 to 326\n",
      "Data columns (total 3 columns):\n",
      " #   Column   Non-Null Count  Dtype \n",
      "---  ------   --------------  ----- \n",
      " 0   conf_id  327 non-null    int64 \n",
      " 1   event    327 non-null    object\n",
      " 2   country  327 non-null    object\n",
      "dtypes: int64(1), object(2)\n",
      "memory usage: 7.8+ KB\n"
     ]
    }
   ],
   "source": [
    "conferences.info()"
   ]
  },
  {
   "cell_type": "markdown",
   "id": "eb36c1c0",
   "metadata": {},
   "source": [
    "### Let's check how many gaps there are in our table"
   ]
  },
  {
   "cell_type": "code",
   "execution_count": 35,
   "id": "871eb5d1",
   "metadata": {},
   "outputs": [
    {
     "data": {
      "text/plain": [
       "conf_id    0\n",
       "event      0\n",
       "country    0\n",
       "dtype: int64"
      ]
     },
     "execution_count": 35,
     "metadata": {},
     "output_type": "execute_result"
    }
   ],
   "source": [
    "conferences.isna().sum()"
   ]
  },
  {
   "cell_type": "markdown",
   "id": "2cc7d3d0",
   "metadata": {},
   "source": [
    "**Conclusion: no gaps were detected.**"
   ]
  },
  {
   "cell_type": "markdown",
   "id": "c8011141",
   "metadata": {},
   "source": [
    "### Let's check how many explicit duplicates there are in our table"
   ]
  },
  {
   "cell_type": "code",
   "execution_count": 36,
   "id": "334588a4",
   "metadata": {},
   "outputs": [
    {
     "data": {
      "text/plain": [
       "0"
      ]
     },
     "execution_count": 36,
     "metadata": {},
     "output_type": "execute_result"
    }
   ],
   "source": [
    "conferences.duplicated().sum()"
   ]
  },
  {
   "cell_type": "markdown",
   "id": "38b3a3d8",
   "metadata": {},
   "source": [
    "**Conclusion: no obvious duplicates were found.**"
   ]
  },
  {
   "cell_type": "markdown",
   "id": "a7aca297",
   "metadata": {},
   "source": [
    "### Let's check how many implicit duplicates there are in our table"
   ]
  },
  {
   "cell_type": "code",
   "execution_count": 37,
   "id": "c3b8b905",
   "metadata": {},
   "outputs": [
    {
     "data": {
      "text/plain": [
       "array(['United States', 'Ecuador', 'Canada', 'Germany', 'UK', 'France',\n",
       "       'Singapore', 'India', 'South Africa', 'Kenya', 'Tanzania',\n",
       "       'Brazil', 'Switzerland', 'Nigeria', 'Netherlands', 'Norway',\n",
       "       'Greece', 'Lebanon', 'Slovakia', 'Belgium', 'Australia', 'Hungary',\n",
       "       'UAE', 'Ireland', 'Sweden', 'Israel', 'Poland', 'Japan',\n",
       "       'Trinidad and Tobago', 'Argentina', 'Mexico', 'South Korea',\n",
       "       'Austria'], dtype=object)"
      ]
     },
     "execution_count": 37,
     "metadata": {},
     "output_type": "execute_result"
    }
   ],
   "source": [
    "conferences['country'].unique()"
   ]
  },
  {
   "cell_type": "markdown",
   "id": "aca7e08c",
   "metadata": {},
   "source": [
    "**Conclusion: no implicit duplicates were found. It makes no sense to save any changes in this file.**"
   ]
  },
  {
   "cell_type": "code",
   "execution_count": 38,
   "id": "51a04e89",
   "metadata": {},
   "outputs": [],
   "source": [
    "# Let's read the data from the csv file into a dataframe and save it to a variable\n",
    "try:\n",
    "    speakers = pd.read_csv('tableau_project_speakers_dict.csv')\n",
    "except:\n",
    "    speakers = pd.read_csv('https://code.s3.yandex.net/datasets/tableau_project_speakers_dict.csv')"
   ]
  },
  {
   "cell_type": "code",
   "execution_count": 39,
   "id": "75a0f398",
   "metadata": {},
   "outputs": [
    {
     "data": {
      "text/html": [
       "<div>\n",
       "<style scoped>\n",
       "    .dataframe tbody tr th:only-of-type {\n",
       "        vertical-align: middle;\n",
       "    }\n",
       "\n",
       "    .dataframe tbody tr th {\n",
       "        vertical-align: top;\n",
       "    }\n",
       "\n",
       "    .dataframe thead th {\n",
       "        text-align: right;\n",
       "    }\n",
       "</style>\n",
       "<table border=\"1\" class=\"dataframe\">\n",
       "  <thead>\n",
       "    <tr style=\"text-align: right;\">\n",
       "      <th></th>\n",
       "      <th>author_id</th>\n",
       "      <th>speaker_name</th>\n",
       "      <th>speaker_occupation</th>\n",
       "      <th>speaker_description</th>\n",
       "    </tr>\n",
       "  </thead>\n",
       "  <tbody>\n",
       "    <tr>\n",
       "      <th>0</th>\n",
       "      <td>2</td>\n",
       "      <td>Al Gore</td>\n",
       "      <td>Climate advocate</td>\n",
       "      <td>Nobel Laureate Al Gore focused the world's attention on the global climate crisis.</td>\n",
       "    </tr>\n",
       "    <tr>\n",
       "      <th>1</th>\n",
       "      <td>3</td>\n",
       "      <td>Amy Smith</td>\n",
       "      <td>inventor</td>\n",
       "      <td>Amy Smith designs cheap, practical fixes for tough problems in developing countries. Among her many accomplishments, the MIT engineer received a MacArthur \"genius\" grant in 2004 and was the first woman to win the Lemelson-MIT Prize for turning her ideas into inventions.</td>\n",
       "    </tr>\n",
       "    <tr>\n",
       "      <th>2</th>\n",
       "      <td>4</td>\n",
       "      <td>Ashraf Ghani</td>\n",
       "      <td>President of Afghanistan</td>\n",
       "      <td>Afghanistan's president Ashraf Ghani has initiated sweeping economic, trade, social and peace reforms.</td>\n",
       "    </tr>\n",
       "    <tr>\n",
       "      <th>3</th>\n",
       "      <td>5</td>\n",
       "      <td>Burt Rutan</td>\n",
       "      <td>Aircraft engineer</td>\n",
       "      <td>In 2004, legendary spacecraft designer Burt Rutan won the $10M Ansari X-Prize for &lt;em&gt;SpaceShipOne,&lt;/em&gt; the first privately funded craft to enter space twice in a two-week period. He's now collaborating with Virgin Galactic to build the first rocketship for space tourism.</td>\n",
       "    </tr>\n",
       "    <tr>\n",
       "      <th>4</th>\n",
       "      <td>6</td>\n",
       "      <td>Chris Bangle</td>\n",
       "      <td>Car designer</td>\n",
       "      <td>Car design is a ubiquitous but often overlooked art form. As chief of design for the BMW Group, Chris Bangle has overseen cars that have been seen the world over, including BMW 7 Series and the Z4 roadster.</td>\n",
       "    </tr>\n",
       "    <tr>\n",
       "      <th>5</th>\n",
       "      <td>7</td>\n",
       "      <td>Craig Venter</td>\n",
       "      <td>Biologist</td>\n",
       "      <td>In 2001, Craig Venter made headlines for sequencing the human genome. In 2003, he started mapping the ocean's biodiversity. And now he's created the first synthetic lifeforms -- microorganisms that can produce alternative fuels.</td>\n",
       "    </tr>\n",
       "    <tr>\n",
       "      <th>6</th>\n",
       "      <td>8</td>\n",
       "      <td>David Pogue</td>\n",
       "      <td>Technology columnist</td>\n",
       "      <td>David Pogue is the personal technology columnist for the &lt;em&gt;New York Times&lt;/em&gt; and a tech correspondent for CBS News. He's also one of the world's bestselling how-to authors, with titles in the For Dummies series and his own line of \"Missing Manual\" books.</td>\n",
       "    </tr>\n",
       "    <tr>\n",
       "      <th>7</th>\n",
       "      <td>9</td>\n",
       "      <td>David Rockwell</td>\n",
       "      <td>Architect</td>\n",
       "      <td>Architect David Rockwell draws on his love of drama and spectacle to create fantastic, high-impact restaurants, cultural facilities, airline terminals, theater sets -- and playgrounds.</td>\n",
       "    </tr>\n",
       "    <tr>\n",
       "      <th>8</th>\n",
       "      <td>10</td>\n",
       "      <td>Dean Kamen</td>\n",
       "      <td>Inventor</td>\n",
       "      <td>Dean Kamen landed in the limelight with the Segway, but he has been innovating since high school, with more than 150 patents under his belt. Recent projects include portable energy and water purification for the developing world, and a prosthetic arm for maimed soldiers.</td>\n",
       "    </tr>\n",
       "    <tr>\n",
       "      <th>9</th>\n",
       "      <td>11</td>\n",
       "      <td>Dean Ornish</td>\n",
       "      <td>Physician</td>\n",
       "      <td>Dean Ornish is a clinical professor at UCSF and founder of the Preventive Medicine Research Institute. He's a leading expert on fighting illness -- particularly heart disease with dietary and lifestyle changes.</td>\n",
       "    </tr>\n",
       "  </tbody>\n",
       "</table>\n",
       "</div>"
      ],
      "text/plain": [
       "   author_id    speaker_name        speaker_occupation  \\\n",
       "0          2         Al Gore          Climate advocate   \n",
       "1          3       Amy Smith                  inventor   \n",
       "2          4    Ashraf Ghani  President of Afghanistan   \n",
       "3          5      Burt Rutan         Aircraft engineer   \n",
       "4          6    Chris Bangle              Car designer   \n",
       "5          7    Craig Venter                 Biologist   \n",
       "6          8     David Pogue      Technology columnist   \n",
       "7          9  David Rockwell                 Architect   \n",
       "8         10      Dean Kamen                  Inventor   \n",
       "9         11     Dean Ornish                 Physician   \n",
       "\n",
       "                                                                                                                                                                                                                                                                 speaker_description  \n",
       "0                                                                                                                                                                                                 Nobel Laureate Al Gore focused the world's attention on the global climate crisis.  \n",
       "1     Amy Smith designs cheap, practical fixes for tough problems in developing countries. Among her many accomplishments, the MIT engineer received a MacArthur \"genius\" grant in 2004 and was the first woman to win the Lemelson-MIT Prize for turning her ideas into inventions.  \n",
       "2                                                                                                                                                                             Afghanistan's president Ashraf Ghani has initiated sweeping economic, trade, social and peace reforms.  \n",
       "3  In 2004, legendary spacecraft designer Burt Rutan won the $10M Ansari X-Prize for <em>SpaceShipOne,</em> the first privately funded craft to enter space twice in a two-week period. He's now collaborating with Virgin Galactic to build the first rocketship for space tourism.  \n",
       "4                                                                     Car design is a ubiquitous but often overlooked art form. As chief of design for the BMW Group, Chris Bangle has overseen cars that have been seen the world over, including BMW 7 Series and the Z4 roadster.  \n",
       "5                                               In 2001, Craig Venter made headlines for sequencing the human genome. In 2003, he started mapping the ocean's biodiversity. And now he's created the first synthetic lifeforms -- microorganisms that can produce alternative fuels.  \n",
       "6                 David Pogue is the personal technology columnist for the <em>New York Times</em> and a tech correspondent for CBS News. He's also one of the world's bestselling how-to authors, with titles in the For Dummies series and his own line of \"Missing Manual\" books.  \n",
       "7                                                                                           Architect David Rockwell draws on his love of drama and spectacle to create fantastic, high-impact restaurants, cultural facilities, airline terminals, theater sets -- and playgrounds.  \n",
       "8    Dean Kamen landed in the limelight with the Segway, but he has been innovating since high school, with more than 150 patents under his belt. Recent projects include portable energy and water purification for the developing world, and a prosthetic arm for maimed soldiers.  \n",
       "9                                                                 Dean Ornish is a clinical professor at UCSF and founder of the Preventive Medicine Research Institute. He's a leading expert on fighting illness -- particularly heart disease with dietary and lifestyle changes.  "
      ]
     },
     "execution_count": 39,
     "metadata": {},
     "output_type": "execute_result"
    }
   ],
   "source": [
    "speakers.head(10)"
   ]
  },
  {
   "cell_type": "code",
   "execution_count": 40,
   "id": "faafccae",
   "metadata": {},
   "outputs": [
    {
     "name": "stdout",
     "output_type": "stream",
     "text": [
      "<class 'pandas.core.frame.DataFrame'>\n",
      "RangeIndex: 2971 entries, 0 to 2970\n",
      "Data columns (total 4 columns):\n",
      " #   Column               Non-Null Count  Dtype \n",
      "---  ------               --------------  ----- \n",
      " 0   author_id            2971 non-null   int64 \n",
      " 1   speaker_name         2971 non-null   object\n",
      " 2   speaker_occupation   2971 non-null   object\n",
      " 3   speaker_description  2958 non-null   object\n",
      "dtypes: int64(1), object(3)\n",
      "memory usage: 93.0+ KB\n"
     ]
    }
   ],
   "source": [
    "speakers.info()"
   ]
  },
  {
   "cell_type": "markdown",
   "id": "a388fd7e",
   "metadata": {},
   "source": [
    "### Let's check how many gaps there are in our table"
   ]
  },
  {
   "cell_type": "code",
   "execution_count": 41,
   "id": "150269d5",
   "metadata": {},
   "outputs": [
    {
     "data": {
      "text/plain": [
       "author_id               0\n",
       "speaker_name            0\n",
       "speaker_occupation      0\n",
       "speaker_description    13\n",
       "dtype: int64"
      ]
     },
     "execution_count": 41,
     "metadata": {},
     "output_type": "execute_result"
    }
   ],
   "source": [
    "speakers.isna().sum()"
   ]
  },
  {
   "cell_type": "code",
   "execution_count": 42,
   "id": "84e4eec6",
   "metadata": {},
   "outputs": [
    {
     "data": {
      "text/html": [
       "<style  type=\"text/css\" >\n",
       "#T_dc69a_row0_col0,#T_dc69a_row1_col0,#T_dc69a_row2_col0{\n",
       "            background-color:  #3b4cc0;\n",
       "            color:  #f1f1f1;\n",
       "        }#T_dc69a_row3_col0{\n",
       "            background-color:  #b40426;\n",
       "            color:  #f1f1f1;\n",
       "        }</style><table id=\"T_dc69a_\" ><thead>    <tr>        <th class=\"blank level0\" ></th>        <th class=\"col_heading level0 col0\" >0</th>    </tr></thead><tbody>\n",
       "                <tr>\n",
       "                        <th id=\"T_dc69a_level0_row0\" class=\"row_heading level0 row0\" >author_id</th>\n",
       "                        <td id=\"T_dc69a_row0_col0\" class=\"data row0 col0\" >0.0</td>\n",
       "            </tr>\n",
       "            <tr>\n",
       "                        <th id=\"T_dc69a_level0_row1\" class=\"row_heading level0 row1\" >speaker_name</th>\n",
       "                        <td id=\"T_dc69a_row1_col0\" class=\"data row1 col0\" >0.0</td>\n",
       "            </tr>\n",
       "            <tr>\n",
       "                        <th id=\"T_dc69a_level0_row2\" class=\"row_heading level0 row2\" >speaker_occupation</th>\n",
       "                        <td id=\"T_dc69a_row2_col0\" class=\"data row2 col0\" >0.0</td>\n",
       "            </tr>\n",
       "            <tr>\n",
       "                        <th id=\"T_dc69a_level0_row3\" class=\"row_heading level0 row3\" >speaker_description</th>\n",
       "                        <td id=\"T_dc69a_row3_col0\" class=\"data row3 col0\" >0.4</td>\n",
       "            </tr>\n",
       "    </tbody></table>"
      ],
      "text/plain": [
       "<pandas.io.formats.style.Styler at 0x193e450f5b0>"
      ]
     },
     "execution_count": 42,
     "metadata": {},
     "output_type": "execute_result"
    }
   ],
   "source": [
    "pd.DataFrame(speakers.isna().mean()*100).style.set_precision(1).background_gradient('coolwarm')"
   ]
  },
  {
   "cell_type": "markdown",
   "id": "8ffc4a95",
   "metadata": {},
   "source": [
    "**Conclusion: it is not possible to restore the data in the speaker_description column, so we will delete them.**"
   ]
  },
  {
   "cell_type": "code",
   "execution_count": 43,
   "id": "2436d908",
   "metadata": {},
   "outputs": [],
   "source": [
    "speakers = speakers.dropna(subset=['speaker_description'])"
   ]
  },
  {
   "cell_type": "markdown",
   "id": "9f71e10a",
   "metadata": {},
   "source": [
    "### Let's check how many explicit duplicates there are in our table"
   ]
  },
  {
   "cell_type": "code",
   "execution_count": 44,
   "id": "3a614a6a",
   "metadata": {},
   "outputs": [
    {
     "data": {
      "text/plain": [
       "0"
      ]
     },
     "execution_count": 44,
     "metadata": {},
     "output_type": "execute_result"
    }
   ],
   "source": [
    "speakers.duplicated().sum()"
   ]
  },
  {
   "cell_type": "markdown",
   "id": "0b9b1f6a",
   "metadata": {},
   "source": [
    "**Conclusion: no obvious duplicates were found.**"
   ]
  },
  {
   "cell_type": "markdown",
   "id": "ca19d390",
   "metadata": {},
   "source": [
    "### Save the modified file to continue working with it in Tableau"
   ]
  },
  {
   "cell_type": "code",
   "execution_count": 45,
   "id": "a7faa91c",
   "metadata": {},
   "outputs": [],
   "source": [
    "speakers.to_csv('tableau_project_speakers_dict_1.csv', index=False)"
   ]
  },
  {
   "cell_type": "markdown",
   "id": "c6efba68",
   "metadata": {},
   "source": [
    "## Steps 2 and 3 were performed in Tableau. Link to the presentation:https://public.tableau.com/app/profile/aleksei.pirozhkov/viz/Book1_16923614362800/sheet1?publish=yes"
   ]
  },
  {
   "cell_type": "markdown",
   "id": "c5de760d",
   "metadata": {},
   "source": [
    "# Project conclusions:\n",
    "1. Performances took place most often in the USA and Canada\n",
    "2. The most popular categories are science, technology, culture, society.\n",
    "3. In 2020-2021, the number of speeches decreased sharply (apparently due to the coronavirus epidemic), the science and culture categories ceased to be popular, and the popularity of the global issues and society categories increased significantly.\n",
    "4. Science, culture, technology, - the most popular categories\n",
    "5. There are no global differences in the distribution of popular categories by country.  It can be noted that global issues are much more popular in England than in Canada and the USA. And society, on the contrary, is much more popular in Canada and the USA than in England.\n",
    "6. On average, the entertainment and social change categories get the most applause. Cecile Richards' speech \"The political progress women have made - and what's next\" drew the most applause.\n",
    "7. On average, the categories of education and business cause the most laughter. At the same time, Tom Rielly's performance \"A comic send up of TED2006\" from the culture category caused the most laughter.\n",
    "8. There is no direct connection between the duration of the performance and the number of views.\n",
    "9. The performance \"Do schools kill creativity?\" by Sir Ken Robinson has the most views.\n",
    "10. The longest performance is \"3 secrets of Netflix's success\", by Reed Hastings.\n",
    "11. The most popular fields of activity for authors are Writer, Artist, Author.\n",
    "12. Most authors speak once.\n",
    "13. Among the designers, Tom Wujec performed most often.\n",
    "14. Among all Tom Wujec's performances, the performance \"Learn to use 13th-century astrolabe has the least views."
   ]
  }
 ],
 "metadata": {
  "kernelspec": {
   "display_name": "Python 3 (ipykernel)",
   "language": "python",
   "name": "python3"
  },
  "language_info": {
   "codemirror_mode": {
    "name": "ipython",
    "version": 3
   },
   "file_extension": ".py",
   "mimetype": "text/x-python",
   "name": "python",
   "nbconvert_exporter": "python",
   "pygments_lexer": "ipython3",
   "version": "3.9.16"
  },
  "toc": {
   "base_numbering": 1,
   "nav_menu": {},
   "number_sections": true,
   "sideBar": true,
   "skip_h1_title": true,
   "title_cell": "Table of Contents",
   "title_sidebar": "Contents",
   "toc_cell": false,
   "toc_position": {},
   "toc_section_display": true,
   "toc_window_display": false
  }
 },
 "nbformat": 4,
 "nbformat_minor": 5
}
