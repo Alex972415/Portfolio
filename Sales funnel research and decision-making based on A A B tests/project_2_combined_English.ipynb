{
 "cells": [
  {
   "cell_type": "markdown",
   "metadata": {},
   "source": [
    "# Project \"Sales funnel research and decision-making based on A/A/B tests\""
   ]
  },
  {
   "cell_type": "markdown",
   "metadata": {},
   "source": [
    "# Project Description\n",
    "We work in a startup that sells food. We need to figure out how the users of our mobile application behave. \n",
    "Let's study the sales funnel. Let's find out how users reach the purchase. How many users reach the purchase, and how many are \"stuck\" in the previous steps? Which ones exactly?\n",
    "After that, we will investigate the results of the A/A/B experiment. Designers wanted to change fonts throughout the application, and managers were afraid that users would be unusual. We agreed to make a decision based on the results of the A/A/B test. Users were divided into 3 groups: 2 control ones with old fonts and one experimental one with new ones. Let's find out which font is better."
   ]
  },
  {
   "cell_type": "markdown",
   "metadata": {},
   "source": [
    "# Data description\n",
    "Each log entry is a user action or event. \n",
    "- EventName — event name\n",
    "- DeviceIDHash — unique user ID\n",
    "- EventTimestamp — event time\n",
    "- ExpId — experiment number: 246 and 247 are control groups, and 248 is experimental."
   ]
  },
  {
   "cell_type": "markdown",
   "metadata": {},
   "source": [
    "# Work plan:\n",
    "1. Open the data file and study the general information\n",
    "2. We will perform data preprocessing, try to fill in the gaps, check the data for the presence of explicit and implicit duplicates, change the data type if necessary.\n",
    "3. Examine and verify the data\n",
    "Let's check how many events there are in the log;\n",
    "Let's check how many users there are in the log;\n",
    "Let's check the average number of events per user;\n",
    "Let's check the data for what period we have;\n",
    "Let's determine from what moment the data is complete and discard the older ones;\n",
    "Let's check how many events and users we lost by discarding the old data;\n",
    "Let's check that we have users from all three experimental groups;\n",
    "4. Let's study the funnel of events\n",
    "Let's see what events are in the logs, how often they occur;\n",
    "Let's count how many users committed each of these events;\n",
    "Let's calculate the proportion of users who have ever committed an event;\n",
    "Let's assume in what order the events occur and build a funnel of events;\n",
    "Using the funnel of events, we will calculate what proportion of users passes to the next step of the funnel;\n",
    "Let's determine at which step you lose the most users;\n",
    "Let's check what percentage of users reaches from the first event to the payment;\n",
    "5. Let's study the results of the experiment\n",
    "Let's check how many users are in each experimental group;\n",
    "Let's conduct an A/A test, check whether statistical criteria find the difference between samples 246 and 247;\n",
    "We will conduct an A/B test, check whether the statistical criteria find the difference between the combined control group and the experimental group;\n",
    "6. We will write a conclusion about the information received during the study."
   ]
  },
  {
   "cell_type": "markdown",
   "metadata": {},
   "source": [
    "## Step 1. Open the files and study the general information"
   ]
  },
  {
   "cell_type": "code",
   "execution_count": 1,
   "metadata": {},
   "outputs": [],
   "source": [
    "# Importing the libraries that we will need in this project \n",
    "import pandas as pd\n",
    "import datetime as dt\n",
    "import numpy as np\n",
    "import matplotlib.pyplot as plt\n",
    "import scipy.stats as stats\n",
    "import warnings\n",
    "import math as mth\n",
    "from scipy import stats as st\n",
    "import seaborn as sb\n",
    "from plotly import graph_objects as go\n",
    "import plotly.express as px\n",
    "from statsmodels.stats.proportion import proportions_ztest\n",
    "warnings.simplefilter(\"ignore\")\n",
    "pd.set_option('display.max_columns', None)\n",
    "pd.set_option('display.max_rows', None)\n",
    "pd.options.display.max_colwidth = 400"
   ]
  },
  {
   "cell_type": "code",
   "execution_count": 2,
   "metadata": {},
   "outputs": [],
   "source": [
    "# Let's read the data from the csv file into a dataframe and save it to a variable\n",
    "try:\n",
    "    data = pd.read_csv('logs_exp.csv', sep='\\t')\n",
    "except:\n",
    "    data = pd.read_csv('https://code.s3.yandex.net/datasets/logs_exp.csv', sep='\\t')"
   ]
  },
  {
   "cell_type": "code",
   "execution_count": 3,
   "metadata": {},
   "outputs": [
    {
     "data": {
      "text/html": [
       "<div>\n",
       "<style scoped>\n",
       "    .dataframe tbody tr th:only-of-type {\n",
       "        vertical-align: middle;\n",
       "    }\n",
       "\n",
       "    .dataframe tbody tr th {\n",
       "        vertical-align: top;\n",
       "    }\n",
       "\n",
       "    .dataframe thead th {\n",
       "        text-align: right;\n",
       "    }\n",
       "</style>\n",
       "<table border=\"1\" class=\"dataframe\">\n",
       "  <thead>\n",
       "    <tr style=\"text-align: right;\">\n",
       "      <th></th>\n",
       "      <th>EventName</th>\n",
       "      <th>DeviceIDHash</th>\n",
       "      <th>EventTimestamp</th>\n",
       "      <th>ExpId</th>\n",
       "    </tr>\n",
       "  </thead>\n",
       "  <tbody>\n",
       "    <tr>\n",
       "      <th>0</th>\n",
       "      <td>MainScreenAppear</td>\n",
       "      <td>4575588528974610257</td>\n",
       "      <td>1564029816</td>\n",
       "      <td>246</td>\n",
       "    </tr>\n",
       "    <tr>\n",
       "      <th>1</th>\n",
       "      <td>MainScreenAppear</td>\n",
       "      <td>7416695313311560658</td>\n",
       "      <td>1564053102</td>\n",
       "      <td>246</td>\n",
       "    </tr>\n",
       "    <tr>\n",
       "      <th>2</th>\n",
       "      <td>PaymentScreenSuccessful</td>\n",
       "      <td>3518123091307005509</td>\n",
       "      <td>1564054127</td>\n",
       "      <td>248</td>\n",
       "    </tr>\n",
       "    <tr>\n",
       "      <th>3</th>\n",
       "      <td>CartScreenAppear</td>\n",
       "      <td>3518123091307005509</td>\n",
       "      <td>1564054127</td>\n",
       "      <td>248</td>\n",
       "    </tr>\n",
       "    <tr>\n",
       "      <th>4</th>\n",
       "      <td>PaymentScreenSuccessful</td>\n",
       "      <td>6217807653094995999</td>\n",
       "      <td>1564055322</td>\n",
       "      <td>248</td>\n",
       "    </tr>\n",
       "    <tr>\n",
       "      <th>5</th>\n",
       "      <td>CartScreenAppear</td>\n",
       "      <td>6217807653094995999</td>\n",
       "      <td>1564055323</td>\n",
       "      <td>248</td>\n",
       "    </tr>\n",
       "    <tr>\n",
       "      <th>6</th>\n",
       "      <td>OffersScreenAppear</td>\n",
       "      <td>8351860793733343758</td>\n",
       "      <td>1564066242</td>\n",
       "      <td>246</td>\n",
       "    </tr>\n",
       "    <tr>\n",
       "      <th>7</th>\n",
       "      <td>MainScreenAppear</td>\n",
       "      <td>5682100281902512875</td>\n",
       "      <td>1564085677</td>\n",
       "      <td>246</td>\n",
       "    </tr>\n",
       "    <tr>\n",
       "      <th>8</th>\n",
       "      <td>MainScreenAppear</td>\n",
       "      <td>1850981295691852772</td>\n",
       "      <td>1564086702</td>\n",
       "      <td>247</td>\n",
       "    </tr>\n",
       "    <tr>\n",
       "      <th>9</th>\n",
       "      <td>MainScreenAppear</td>\n",
       "      <td>5407636962369102641</td>\n",
       "      <td>1564112112</td>\n",
       "      <td>246</td>\n",
       "    </tr>\n",
       "  </tbody>\n",
       "</table>\n",
       "</div>"
      ],
      "text/plain": [
       "                 EventName         DeviceIDHash  EventTimestamp  ExpId\n",
       "0         MainScreenAppear  4575588528974610257      1564029816    246\n",
       "1         MainScreenAppear  7416695313311560658      1564053102    246\n",
       "2  PaymentScreenSuccessful  3518123091307005509      1564054127    248\n",
       "3         CartScreenAppear  3518123091307005509      1564054127    248\n",
       "4  PaymentScreenSuccessful  6217807653094995999      1564055322    248\n",
       "5         CartScreenAppear  6217807653094995999      1564055323    248\n",
       "6       OffersScreenAppear  8351860793733343758      1564066242    246\n",
       "7         MainScreenAppear  5682100281902512875      1564085677    246\n",
       "8         MainScreenAppear  1850981295691852772      1564086702    247\n",
       "9         MainScreenAppear  5407636962369102641      1564112112    246"
      ]
     },
     "execution_count": 3,
     "metadata": {},
     "output_type": "execute_result"
    }
   ],
   "source": [
    "data.head(10)"
   ]
  },
  {
   "cell_type": "code",
   "execution_count": 4,
   "metadata": {},
   "outputs": [
    {
     "name": "stdout",
     "output_type": "stream",
     "text": [
      "<class 'pandas.core.frame.DataFrame'>\n",
      "RangeIndex: 244126 entries, 0 to 244125\n",
      "Data columns (total 4 columns):\n",
      " #   Column          Non-Null Count   Dtype \n",
      "---  ------          --------------   ----- \n",
      " 0   EventName       244126 non-null  object\n",
      " 1   DeviceIDHash    244126 non-null  int64 \n",
      " 2   EventTimestamp  244126 non-null  int64 \n",
      " 3   ExpId           244126 non-null  int64 \n",
      "dtypes: int64(3), object(1)\n",
      "memory usage: 7.5+ MB\n"
     ]
    }
   ],
   "source": [
    "data.info()"
   ]
  },
  {
   "cell_type": "markdown",
   "metadata": {},
   "source": [
    "#### Conclusion: at this stage, we have opened the dataset and studied the general information about the source data"
   ]
  },
  {
   "cell_type": "markdown",
   "metadata": {},
   "source": [
    "## Step 2. Perform data preprocessing"
   ]
  },
  {
   "cell_type": "code",
   "execution_count": 5,
   "metadata": {},
   "outputs": [],
   "source": [
    "# Rename the column names in the table\n",
    "data = data.rename(columns = {'EventName': 'event_name', 'DeviceIDHash': 'user_id', \n",
    "                              'EventTimestamp': 'event_timestamp', 'ExpId': 'group'})"
   ]
  },
  {
   "cell_type": "code",
   "execution_count": 6,
   "metadata": {},
   "outputs": [
    {
     "data": {
      "text/plain": [
       "event_name         0\n",
       "user_id            0\n",
       "event_timestamp    0\n",
       "group              0\n",
       "dtype: int64"
      ]
     },
     "execution_count": 6,
     "metadata": {},
     "output_type": "execute_result"
    }
   ],
   "source": [
    "# Let's check how many gaps there are in our table\n",
    "data.isna().sum()"
   ]
  },
  {
   "cell_type": "markdown",
   "metadata": {},
   "source": [
    "**Conclusion: no omissions were detected.**"
   ]
  },
  {
   "cell_type": "code",
   "execution_count": 7,
   "metadata": {},
   "outputs": [
    {
     "data": {
      "text/plain": [
       "413"
      ]
     },
     "execution_count": 7,
     "metadata": {},
     "output_type": "execute_result"
    }
   ],
   "source": [
    "# Let's check how many explicit duplicates there are in our table\n",
    "data.duplicated().sum()"
   ]
  },
  {
   "cell_type": "code",
   "execution_count": 8,
   "metadata": {},
   "outputs": [
    {
     "data": {
      "text/plain": [
       "0.17"
      ]
     },
     "execution_count": 8,
     "metadata": {},
     "output_type": "execute_result"
    }
   ],
   "source": [
    "# Let's calculate the proportion of explicit duplicates\n",
    "round(data.duplicated().mean() * 100, 2)"
   ]
  },
  {
   "cell_type": "code",
   "execution_count": 9,
   "metadata": {},
   "outputs": [],
   "source": [
    "# Remove explicit duplicates from the table\n",
    "data = data.drop_duplicates()\n",
    "data = data.reset_index(drop=True)"
   ]
  },
  {
   "cell_type": "code",
   "execution_count": 10,
   "metadata": {
    "scrolled": false
   },
   "outputs": [
    {
     "data": {
      "text/plain": [
       "0"
      ]
     },
     "execution_count": 10,
     "metadata": {},
     "output_type": "execute_result"
    }
   ],
   "source": [
    "# Let's check that the deletion went correctly\n",
    "data.duplicated().sum()"
   ]
  },
  {
   "cell_type": "code",
   "execution_count": 11,
   "metadata": {},
   "outputs": [
    {
     "data": {
      "text/plain": [
       "array(['MainScreenAppear', 'PaymentScreenSuccessful', 'CartScreenAppear',\n",
       "       'OffersScreenAppear', 'Tutorial'], dtype=object)"
      ]
     },
     "execution_count": 11,
     "metadata": {},
     "output_type": "execute_result"
    }
   ],
   "source": [
    "# Let's check for implicit duplicates in the event_name column\n",
    "data['event_name'].unique()"
   ]
  },
  {
   "cell_type": "markdown",
   "metadata": {},
   "source": [
    "**No implicit duplicates were found in the event_name column.**"
   ]
  },
  {
   "cell_type": "code",
   "execution_count": 12,
   "metadata": {},
   "outputs": [
    {
     "data": {
      "text/plain": [
       "array([246, 248, 247], dtype=int64)"
      ]
     },
     "execution_count": 12,
     "metadata": {},
     "output_type": "execute_result"
    }
   ],
   "source": [
    "# Let's check for implicit duplicates in the group column\n",
    "data['group'].unique()"
   ]
  },
  {
   "cell_type": "markdown",
   "metadata": {},
   "source": [
    "**No implicit duplicates were found in the group column, all values correspond to the condition.**"
   ]
  },
  {
   "cell_type": "code",
   "execution_count": 13,
   "metadata": {},
   "outputs": [],
   "source": [
    "# Add a column with date and time\n",
    "data['date_time'] = pd.to_datetime(data['event_timestamp'], unit='s')"
   ]
  },
  {
   "cell_type": "code",
   "execution_count": 14,
   "metadata": {},
   "outputs": [],
   "source": [
    "# Add a column with the date\n",
    "data['date'] = data['date_time'].dt.floor('D')"
   ]
  },
  {
   "cell_type": "code",
   "execution_count": 15,
   "metadata": {},
   "outputs": [
    {
     "data": {
      "text/html": [
       "<div>\n",
       "<style scoped>\n",
       "    .dataframe tbody tr th:only-of-type {\n",
       "        vertical-align: middle;\n",
       "    }\n",
       "\n",
       "    .dataframe tbody tr th {\n",
       "        vertical-align: top;\n",
       "    }\n",
       "\n",
       "    .dataframe thead th {\n",
       "        text-align: right;\n",
       "    }\n",
       "</style>\n",
       "<table border=\"1\" class=\"dataframe\">\n",
       "  <thead>\n",
       "    <tr style=\"text-align: right;\">\n",
       "      <th></th>\n",
       "      <th>event_name</th>\n",
       "      <th>user_id</th>\n",
       "      <th>event_timestamp</th>\n",
       "      <th>group</th>\n",
       "      <th>date_time</th>\n",
       "      <th>date</th>\n",
       "    </tr>\n",
       "  </thead>\n",
       "  <tbody>\n",
       "    <tr>\n",
       "      <th>0</th>\n",
       "      <td>MainScreenAppear</td>\n",
       "      <td>4575588528974610257</td>\n",
       "      <td>1564029816</td>\n",
       "      <td>246</td>\n",
       "      <td>2019-07-25 04:43:36</td>\n",
       "      <td>2019-07-25</td>\n",
       "    </tr>\n",
       "    <tr>\n",
       "      <th>1</th>\n",
       "      <td>MainScreenAppear</td>\n",
       "      <td>7416695313311560658</td>\n",
       "      <td>1564053102</td>\n",
       "      <td>246</td>\n",
       "      <td>2019-07-25 11:11:42</td>\n",
       "      <td>2019-07-25</td>\n",
       "    </tr>\n",
       "    <tr>\n",
       "      <th>2</th>\n",
       "      <td>PaymentScreenSuccessful</td>\n",
       "      <td>3518123091307005509</td>\n",
       "      <td>1564054127</td>\n",
       "      <td>248</td>\n",
       "      <td>2019-07-25 11:28:47</td>\n",
       "      <td>2019-07-25</td>\n",
       "    </tr>\n",
       "    <tr>\n",
       "      <th>3</th>\n",
       "      <td>CartScreenAppear</td>\n",
       "      <td>3518123091307005509</td>\n",
       "      <td>1564054127</td>\n",
       "      <td>248</td>\n",
       "      <td>2019-07-25 11:28:47</td>\n",
       "      <td>2019-07-25</td>\n",
       "    </tr>\n",
       "    <tr>\n",
       "      <th>4</th>\n",
       "      <td>PaymentScreenSuccessful</td>\n",
       "      <td>6217807653094995999</td>\n",
       "      <td>1564055322</td>\n",
       "      <td>248</td>\n",
       "      <td>2019-07-25 11:48:42</td>\n",
       "      <td>2019-07-25</td>\n",
       "    </tr>\n",
       "    <tr>\n",
       "      <th>5</th>\n",
       "      <td>CartScreenAppear</td>\n",
       "      <td>6217807653094995999</td>\n",
       "      <td>1564055323</td>\n",
       "      <td>248</td>\n",
       "      <td>2019-07-25 11:48:43</td>\n",
       "      <td>2019-07-25</td>\n",
       "    </tr>\n",
       "    <tr>\n",
       "      <th>6</th>\n",
       "      <td>OffersScreenAppear</td>\n",
       "      <td>8351860793733343758</td>\n",
       "      <td>1564066242</td>\n",
       "      <td>246</td>\n",
       "      <td>2019-07-25 14:50:42</td>\n",
       "      <td>2019-07-25</td>\n",
       "    </tr>\n",
       "    <tr>\n",
       "      <th>7</th>\n",
       "      <td>MainScreenAppear</td>\n",
       "      <td>5682100281902512875</td>\n",
       "      <td>1564085677</td>\n",
       "      <td>246</td>\n",
       "      <td>2019-07-25 20:14:37</td>\n",
       "      <td>2019-07-25</td>\n",
       "    </tr>\n",
       "    <tr>\n",
       "      <th>8</th>\n",
       "      <td>MainScreenAppear</td>\n",
       "      <td>1850981295691852772</td>\n",
       "      <td>1564086702</td>\n",
       "      <td>247</td>\n",
       "      <td>2019-07-25 20:31:42</td>\n",
       "      <td>2019-07-25</td>\n",
       "    </tr>\n",
       "    <tr>\n",
       "      <th>9</th>\n",
       "      <td>MainScreenAppear</td>\n",
       "      <td>5407636962369102641</td>\n",
       "      <td>1564112112</td>\n",
       "      <td>246</td>\n",
       "      <td>2019-07-26 03:35:12</td>\n",
       "      <td>2019-07-26</td>\n",
       "    </tr>\n",
       "  </tbody>\n",
       "</table>\n",
       "</div>"
      ],
      "text/plain": [
       "                event_name              user_id  event_timestamp  group  \\\n",
       "0         MainScreenAppear  4575588528974610257       1564029816    246   \n",
       "1         MainScreenAppear  7416695313311560658       1564053102    246   \n",
       "2  PaymentScreenSuccessful  3518123091307005509       1564054127    248   \n",
       "3         CartScreenAppear  3518123091307005509       1564054127    248   \n",
       "4  PaymentScreenSuccessful  6217807653094995999       1564055322    248   \n",
       "5         CartScreenAppear  6217807653094995999       1564055323    248   \n",
       "6       OffersScreenAppear  8351860793733343758       1564066242    246   \n",
       "7         MainScreenAppear  5682100281902512875       1564085677    246   \n",
       "8         MainScreenAppear  1850981295691852772       1564086702    247   \n",
       "9         MainScreenAppear  5407636962369102641       1564112112    246   \n",
       "\n",
       "            date_time       date  \n",
       "0 2019-07-25 04:43:36 2019-07-25  \n",
       "1 2019-07-25 11:11:42 2019-07-25  \n",
       "2 2019-07-25 11:28:47 2019-07-25  \n",
       "3 2019-07-25 11:28:47 2019-07-25  \n",
       "4 2019-07-25 11:48:42 2019-07-25  \n",
       "5 2019-07-25 11:48:43 2019-07-25  \n",
       "6 2019-07-25 14:50:42 2019-07-25  \n",
       "7 2019-07-25 20:14:37 2019-07-25  \n",
       "8 2019-07-25 20:31:42 2019-07-25  \n",
       "9 2019-07-26 03:35:12 2019-07-26  "
      ]
     },
     "execution_count": 15,
     "metadata": {},
     "output_type": "execute_result"
    }
   ],
   "source": [
    "data.head(10)"
   ]
  },
  {
   "cell_type": "code",
   "execution_count": 16,
   "metadata": {},
   "outputs": [
    {
     "data": {
      "text/plain": [
       "date\n",
       "2019-07-25       7\n",
       "2019-07-26      22\n",
       "2019-07-27      39\n",
       "2019-07-28      69\n",
       "2019-07-29     135\n",
       "2019-07-30     296\n",
       "2019-07-31     924\n",
       "2019-08-01    3703\n",
       "2019-08-02    3647\n",
       "2019-08-03    3482\n",
       "2019-08-04    3527\n",
       "2019-08-05    3802\n",
       "2019-08-06    3922\n",
       "2019-08-07    3651\n",
       "Name: user_id, dtype: int64"
      ]
     },
     "execution_count": 16,
     "metadata": {},
     "output_type": "execute_result"
    }
   ],
   "source": [
    "# Let's check for which days we have data in the table\n",
    "data.groupby('date')['user_id'].nunique()"
   ]
  },
  {
   "cell_type": "markdown",
   "metadata": {},
   "source": [
    "**Conclusion: the table shows data from July 25, 2019 to August 7, 2019**"
   ]
  },
  {
   "cell_type": "markdown",
   "metadata": {},
   "source": [
    "#### Conclusion: at this stage, we have studied the general information about the source data, checked for gaps in the tables, checked the data for duplicates. 413 explicit duplicates were detected and removed. No implicit duplicates or omissions were found."
   ]
  },
  {
   "cell_type": "markdown",
   "metadata": {},
   "source": [
    "## Step 3. Examine and verify the data"
   ]
  },
  {
   "cell_type": "markdown",
   "metadata": {},
   "source": [
    "##### Let's count how many events there are in the log"
   ]
  },
  {
   "cell_type": "code",
   "execution_count": 17,
   "metadata": {},
   "outputs": [
    {
     "data": {
      "text/plain": [
       "243713"
      ]
     },
     "execution_count": 17,
     "metadata": {},
     "output_type": "execute_result"
    }
   ],
   "source": [
    "data['event_name'].count()"
   ]
  },
  {
   "cell_type": "markdown",
   "metadata": {},
   "source": [
    "**The table shows 243,713 logs.** "
   ]
  },
  {
   "cell_type": "markdown",
   "metadata": {},
   "source": [
    "##### Let's calculate how many unique users there are in the log"
   ]
  },
  {
   "cell_type": "code",
   "execution_count": 18,
   "metadata": {},
   "outputs": [
    {
     "data": {
      "text/plain": [
       "7551"
      ]
     },
     "execution_count": 18,
     "metadata": {},
     "output_type": "execute_result"
    }
   ],
   "source": [
    "data['user_id'].nunique()"
   ]
  },
  {
   "cell_type": "markdown",
   "metadata": {},
   "source": [
    "**The table shows 7,551 unique users.** "
   ]
  },
  {
   "cell_type": "markdown",
   "metadata": {},
   "source": [
    "##### Let's calculate the average number of events per user"
   ]
  },
  {
   "cell_type": "code",
   "execution_count": 19,
   "metadata": {},
   "outputs": [
    {
     "data": {
      "text/plain": [
       "32.28"
      ]
     },
     "execution_count": 19,
     "metadata": {},
     "output_type": "execute_result"
    }
   ],
   "source": [
    "round(data['event_name'].count() / data['user_id'].nunique(), 2)"
   ]
  },
  {
   "cell_type": "markdown",
   "metadata": {},
   "source": [
    "**On average, there are 32 events per user.** "
   ]
  },
  {
   "cell_type": "code",
   "execution_count": 20,
   "metadata": {},
   "outputs": [
    {
     "data": {
      "text/html": [
       "<div>\n",
       "<style scoped>\n",
       "    .dataframe tbody tr th:only-of-type {\n",
       "        vertical-align: middle;\n",
       "    }\n",
       "\n",
       "    .dataframe tbody tr th {\n",
       "        vertical-align: top;\n",
       "    }\n",
       "\n",
       "    .dataframe thead th {\n",
       "        text-align: right;\n",
       "    }\n",
       "</style>\n",
       "<table border=\"1\" class=\"dataframe\">\n",
       "  <thead>\n",
       "    <tr style=\"text-align: right;\">\n",
       "      <th></th>\n",
       "      <th>event_name</th>\n",
       "      <th>user_id</th>\n",
       "      <th>event_timestamp</th>\n",
       "      <th>group</th>\n",
       "      <th>date_time</th>\n",
       "      <th>date</th>\n",
       "    </tr>\n",
       "  </thead>\n",
       "  <tbody>\n",
       "    <tr>\n",
       "      <th>0</th>\n",
       "      <td>MainScreenAppear</td>\n",
       "      <td>4575588528974610257</td>\n",
       "      <td>1564029816</td>\n",
       "      <td>246</td>\n",
       "      <td>2019-07-25 04:43:36</td>\n",
       "      <td>2019-07-25</td>\n",
       "    </tr>\n",
       "    <tr>\n",
       "      <th>1</th>\n",
       "      <td>MainScreenAppear</td>\n",
       "      <td>7416695313311560658</td>\n",
       "      <td>1564053102</td>\n",
       "      <td>246</td>\n",
       "      <td>2019-07-25 11:11:42</td>\n",
       "      <td>2019-07-25</td>\n",
       "    </tr>\n",
       "    <tr>\n",
       "      <th>2</th>\n",
       "      <td>PaymentScreenSuccessful</td>\n",
       "      <td>3518123091307005509</td>\n",
       "      <td>1564054127</td>\n",
       "      <td>248</td>\n",
       "      <td>2019-07-25 11:28:47</td>\n",
       "      <td>2019-07-25</td>\n",
       "    </tr>\n",
       "    <tr>\n",
       "      <th>3</th>\n",
       "      <td>CartScreenAppear</td>\n",
       "      <td>3518123091307005509</td>\n",
       "      <td>1564054127</td>\n",
       "      <td>248</td>\n",
       "      <td>2019-07-25 11:28:47</td>\n",
       "      <td>2019-07-25</td>\n",
       "    </tr>\n",
       "    <tr>\n",
       "      <th>4</th>\n",
       "      <td>PaymentScreenSuccessful</td>\n",
       "      <td>6217807653094995999</td>\n",
       "      <td>1564055322</td>\n",
       "      <td>248</td>\n",
       "      <td>2019-07-25 11:48:42</td>\n",
       "      <td>2019-07-25</td>\n",
       "    </tr>\n",
       "  </tbody>\n",
       "</table>\n",
       "</div>"
      ],
      "text/plain": [
       "                event_name              user_id  event_timestamp  group  \\\n",
       "0         MainScreenAppear  4575588528974610257       1564029816    246   \n",
       "1         MainScreenAppear  7416695313311560658       1564053102    246   \n",
       "2  PaymentScreenSuccessful  3518123091307005509       1564054127    248   \n",
       "3         CartScreenAppear  3518123091307005509       1564054127    248   \n",
       "4  PaymentScreenSuccessful  6217807653094995999       1564055322    248   \n",
       "\n",
       "            date_time       date  \n",
       "0 2019-07-25 04:43:36 2019-07-25  \n",
       "1 2019-07-25 11:11:42 2019-07-25  \n",
       "2 2019-07-25 11:28:47 2019-07-25  \n",
       "3 2019-07-25 11:28:47 2019-07-25  \n",
       "4 2019-07-25 11:48:42 2019-07-25  "
      ]
     },
     "execution_count": 20,
     "metadata": {},
     "output_type": "execute_result"
    }
   ],
   "source": [
    "data.head()"
   ]
  },
  {
   "cell_type": "code",
   "execution_count": 21,
   "metadata": {},
   "outputs": [
    {
     "data": {
      "image/png": "[encoded data removed]",
      "text/plain": [
       "<Figure size 1000x500 with 1 Axes>"
      ]
     },
     "metadata": {},
     "output_type": "display_data"
    }
   ],
   "source": [
    "# Let's build how many total users (non-unique) committed each event\n",
    "data.pivot_table(index='event_name', values='user_id', aggfunc=['count']).\\\n",
    "plot(grid=False, \n",
    "figsize=(10, 5), kind='bar', \n",
    "title='Graph of the number of users who committed each event', rot=45, legend = None, color='green')\n",
    "plt.xlabel(\"Event name\")\n",
    "plt.ylabel(\"Number of users\")\n",
    "plt.show();"
   ]
  },
  {
   "cell_type": "markdown",
   "metadata": {},
   "source": [
    "##### Let's determine the data for what period we have"
   ]
  },
  {
   "cell_type": "code",
   "execution_count": 22,
   "metadata": {},
   "outputs": [
    {
     "data": {
      "text/plain": [
       "Timestamp('2019-07-25 00:00:00')"
      ]
     },
     "metadata": {},
     "output_type": "display_data"
    },
    {
     "data": {
      "text/plain": [
       "Timestamp('2019-08-07 00:00:00')"
      ]
     },
     "execution_count": 22,
     "metadata": {},
     "output_type": "execute_result"
    }
   ],
   "source": [
    "# Find the maximum and minimum dates\n",
    "display(data['date'].min())\n",
    "data['date'].max()"
   ]
  },
  {
   "cell_type": "markdown",
   "metadata": {},
   "source": [
    "**Conclusion: the table shows data from July 25, 2019 to August 7, 2019.**"
   ]
  },
  {
   "cell_type": "code",
   "execution_count": 23,
   "metadata": {},
   "outputs": [],
   "source": [
    "data['date'] = pd.to_datetime(data['date'], format='%Y-%m-%d')"
   ]
  },
  {
   "cell_type": "code",
   "execution_count": 24,
   "metadata": {},
   "outputs": [
    {
     "data": {
      "text/html": [
       "<div>\n",
       "<style scoped>\n",
       "    .dataframe tbody tr th:only-of-type {\n",
       "        vertical-align: middle;\n",
       "    }\n",
       "\n",
       "    .dataframe tbody tr th {\n",
       "        vertical-align: top;\n",
       "    }\n",
       "\n",
       "    .dataframe thead th {\n",
       "        text-align: right;\n",
       "    }\n",
       "</style>\n",
       "<table border=\"1\" class=\"dataframe\">\n",
       "  <thead>\n",
       "    <tr style=\"text-align: right;\">\n",
       "      <th></th>\n",
       "      <th>event_name</th>\n",
       "      <th>user_id</th>\n",
       "      <th>event_timestamp</th>\n",
       "      <th>group</th>\n",
       "      <th>date_time</th>\n",
       "      <th>date</th>\n",
       "    </tr>\n",
       "  </thead>\n",
       "  <tbody>\n",
       "    <tr>\n",
       "      <th>0</th>\n",
       "      <td>MainScreenAppear</td>\n",
       "      <td>4575588528974610257</td>\n",
       "      <td>1564029816</td>\n",
       "      <td>246</td>\n",
       "      <td>2019-07-25 04:43:36</td>\n",
       "      <td>2019-07-25</td>\n",
       "    </tr>\n",
       "    <tr>\n",
       "      <th>1</th>\n",
       "      <td>MainScreenAppear</td>\n",
       "      <td>7416695313311560658</td>\n",
       "      <td>1564053102</td>\n",
       "      <td>246</td>\n",
       "      <td>2019-07-25 11:11:42</td>\n",
       "      <td>2019-07-25</td>\n",
       "    </tr>\n",
       "    <tr>\n",
       "      <th>2</th>\n",
       "      <td>PaymentScreenSuccessful</td>\n",
       "      <td>3518123091307005509</td>\n",
       "      <td>1564054127</td>\n",
       "      <td>248</td>\n",
       "      <td>2019-07-25 11:28:47</td>\n",
       "      <td>2019-07-25</td>\n",
       "    </tr>\n",
       "    <tr>\n",
       "      <th>3</th>\n",
       "      <td>CartScreenAppear</td>\n",
       "      <td>3518123091307005509</td>\n",
       "      <td>1564054127</td>\n",
       "      <td>248</td>\n",
       "      <td>2019-07-25 11:28:47</td>\n",
       "      <td>2019-07-25</td>\n",
       "    </tr>\n",
       "    <tr>\n",
       "      <th>4</th>\n",
       "      <td>PaymentScreenSuccessful</td>\n",
       "      <td>6217807653094995999</td>\n",
       "      <td>1564055322</td>\n",
       "      <td>248</td>\n",
       "      <td>2019-07-25 11:48:42</td>\n",
       "      <td>2019-07-25</td>\n",
       "    </tr>\n",
       "  </tbody>\n",
       "</table>\n",
       "</div>"
      ],
      "text/plain": [
       "                event_name              user_id  event_timestamp  group  \\\n",
       "0         MainScreenAppear  4575588528974610257       1564029816    246   \n",
       "1         MainScreenAppear  7416695313311560658       1564053102    246   \n",
       "2  PaymentScreenSuccessful  3518123091307005509       1564054127    248   \n",
       "3         CartScreenAppear  3518123091307005509       1564054127    248   \n",
       "4  PaymentScreenSuccessful  6217807653094995999       1564055322    248   \n",
       "\n",
       "            date_time       date  \n",
       "0 2019-07-25 04:43:36 2019-07-25  \n",
       "1 2019-07-25 11:11:42 2019-07-25  \n",
       "2 2019-07-25 11:28:47 2019-07-25  \n",
       "3 2019-07-25 11:28:47 2019-07-25  \n",
       "4 2019-07-25 11:48:42 2019-07-25  "
      ]
     },
     "execution_count": 24,
     "metadata": {},
     "output_type": "execute_result"
    }
   ],
   "source": [
    "data.head()"
   ]
  },
  {
   "cell_type": "code",
   "execution_count": 62,
   "metadata": {},
   "outputs": [
    {
     "data": {
      "image/png": "[encoded data removed]",
      "text/plain": [
       "<Figure size 800x800 with 1 Axes>"
      ]
     },
     "metadata": {},
     "output_type": "display_data"
    }
   ],
   "source": [
    "# For better clarity, let's build a bar chart\n",
    "\n",
    "fig, ax = plt.subplots(figsize=(8, 8))\n",
    "\n",
    "ax = sb.countplot(x = \"date\", data = data, palette = \"Blues\")\n",
    "ax.set_xticklabels([t.get_text().split(\"T\")[0] for t in ax.get_xticklabels()])\n",
    "fig.autofmt_xdate()\n",
    "plt.xlabel('Testing date')\n",
    "plt.ylabel('Number of observations')\n",
    "plt.title('Bar chart of the distribution of the number of observations by day')\n",
    "plt.show();"
   ]
  },
  {
   "cell_type": "markdown",
   "metadata": {},
   "source": [
    "**We see that the amount of data is increasing dramatically starting from August 1, 2019.** "
   ]
  },
  {
   "cell_type": "code",
   "execution_count": 26,
   "metadata": {},
   "outputs": [
    {
     "data": {
      "text/plain": [
       "date\n",
       "2019-07-25        9\n",
       "2019-07-26       31\n",
       "2019-07-27       55\n",
       "2019-07-28      105\n",
       "2019-07-29      184\n",
       "2019-07-30      412\n",
       "2019-07-31     2030\n",
       "2019-08-01    36141\n",
       "2019-08-02    35554\n",
       "2019-08-03    33282\n",
       "2019-08-04    32968\n",
       "2019-08-05    36058\n",
       "2019-08-06    35788\n",
       "2019-08-07    31096\n",
       "Name: event_name, dtype: int64"
      ]
     },
     "execution_count": 26,
     "metadata": {},
     "output_type": "execute_result"
    }
   ],
   "source": [
    "# Let's count the number of events for each date\n",
    "data.groupby('date')['event_name'].count()"
   ]
  },
  {
   "cell_type": "markdown",
   "metadata": {},
   "source": [
    "**In my opinion, until August 1, 2019, the data is incomplete and they need to be discarded.** "
   ]
  },
  {
   "cell_type": "code",
   "execution_count": 27,
   "metadata": {},
   "outputs": [],
   "source": [
    "data_new = data.query('date >= \"2019-08-01\"')"
   ]
  },
  {
   "cell_type": "markdown",
   "metadata": {},
   "source": [
    "##### Let's determine how many events and users we have lost"
   ]
  },
  {
   "cell_type": "code",
   "execution_count": 28,
   "metadata": {},
   "outputs": [
    {
     "data": {
      "text/plain": [
       "1.16"
      ]
     },
     "execution_count": 28,
     "metadata": {},
     "output_type": "execute_result"
    }
   ],
   "source": [
    "round(100 * (1 - data_new['event_name'].count() / data['event_name'].count()), 2)"
   ]
  },
  {
   "cell_type": "code",
   "execution_count": 29,
   "metadata": {},
   "outputs": [
    {
     "data": {
      "text/plain": [
       "0.23"
      ]
     },
     "execution_count": 29,
     "metadata": {},
     "output_type": "execute_result"
    }
   ],
   "source": [
    "round(100 * (1 - data_new['user_id'].nunique() / data['user_id'].nunique()), 2)"
   ]
  },
  {
   "cell_type": "markdown",
   "metadata": {},
   "source": [
    "**Conclusion: we lost 1% of events and less than 1% of users.**"
   ]
  },
  {
   "cell_type": "markdown",
   "metadata": {},
   "source": [
    "##### Let's check that we have users from all three experimental groups."
   ]
  },
  {
   "cell_type": "code",
   "execution_count": 30,
   "metadata": {},
   "outputs": [
    {
     "data": {
      "text/html": [
       "<div>\n",
       "<style scoped>\n",
       "    .dataframe tbody tr th:only-of-type {\n",
       "        vertical-align: middle;\n",
       "    }\n",
       "\n",
       "    .dataframe tbody tr th {\n",
       "        vertical-align: top;\n",
       "    }\n",
       "\n",
       "    .dataframe thead tr th {\n",
       "        text-align: left;\n",
       "    }\n",
       "</style>\n",
       "<table border=\"1\" class=\"dataframe\">\n",
       "  <thead>\n",
       "    <tr>\n",
       "      <th></th>\n",
       "      <th>group</th>\n",
       "      <th>nunique</th>\n",
       "    </tr>\n",
       "    <tr>\n",
       "      <th></th>\n",
       "      <th></th>\n",
       "      <th>user_id</th>\n",
       "    </tr>\n",
       "  </thead>\n",
       "  <tbody>\n",
       "    <tr>\n",
       "      <th>0</th>\n",
       "      <td>246</td>\n",
       "      <td>2484</td>\n",
       "    </tr>\n",
       "    <tr>\n",
       "      <th>1</th>\n",
       "      <td>247</td>\n",
       "      <td>2513</td>\n",
       "    </tr>\n",
       "    <tr>\n",
       "      <th>2</th>\n",
       "      <td>248</td>\n",
       "      <td>2537</td>\n",
       "    </tr>\n",
       "  </tbody>\n",
       "</table>\n",
       "</div>"
      ],
      "text/plain": [
       "  group nunique\n",
       "        user_id\n",
       "0   246    2484\n",
       "1   247    2513\n",
       "2   248    2537"
      ]
     },
     "execution_count": 30,
     "metadata": {},
     "output_type": "execute_result"
    }
   ],
   "source": [
    "data_new.pivot_table(index='group', values=['user_id'], aggfunc=['nunique']).reset_index()"
   ]
  },
  {
   "cell_type": "markdown",
   "metadata": {},
   "source": [
    "#### Conclusion: we have studied the data. We were able to establish the following:\n",
    "1. The table shows 243,713 logs and 7,551 unique users.\n",
    "2. It was determined that on average there are 32 events per user.\n",
    "3. It was determined that the data were incomplete before August 1, 2019 and it was decided to exclude them from further consideration."
   ]
  },
  {
   "cell_type": "markdown",
   "metadata": {},
   "source": [
    "## Step 4. Let's study the funnel of events"
   ]
  },
  {
   "cell_type": "markdown",
   "metadata": {},
   "source": [
    "##### Let's check what events are in the logs, how often they occur"
   ]
  },
  {
   "cell_type": "code",
   "execution_count": 31,
   "metadata": {},
   "outputs": [
    {
     "data": {
      "text/plain": [
       "MainScreenAppear           117328\n",
       "OffersScreenAppear          46333\n",
       "CartScreenAppear            42303\n",
       "PaymentScreenSuccessful     33918\n",
       "Tutorial                     1005\n",
       "Name: event_name, dtype: int64"
      ]
     },
     "execution_count": 31,
     "metadata": {},
     "output_type": "execute_result"
    }
   ],
   "source": [
    "data_new['event_name'].value_counts()"
   ]
  },
  {
   "cell_type": "markdown",
   "metadata": {},
   "source": [
    "##### Let's count how many users committed each of these events"
   ]
  },
  {
   "cell_type": "code",
   "execution_count": 32,
   "metadata": {},
   "outputs": [
    {
     "data": {
      "text/html": [
       "<div>\n",
       "<style scoped>\n",
       "    .dataframe tbody tr th:only-of-type {\n",
       "        vertical-align: middle;\n",
       "    }\n",
       "\n",
       "    .dataframe tbody tr th {\n",
       "        vertical-align: top;\n",
       "    }\n",
       "\n",
       "    .dataframe thead th {\n",
       "        text-align: right;\n",
       "    }\n",
       "</style>\n",
       "<table border=\"1\" class=\"dataframe\">\n",
       "  <thead>\n",
       "    <tr style=\"text-align: right;\">\n",
       "      <th></th>\n",
       "      <th>user_id</th>\n",
       "    </tr>\n",
       "    <tr>\n",
       "      <th>event_name</th>\n",
       "      <th></th>\n",
       "    </tr>\n",
       "  </thead>\n",
       "  <tbody>\n",
       "    <tr>\n",
       "      <th>MainScreenAppear</th>\n",
       "      <td>7419</td>\n",
       "    </tr>\n",
       "    <tr>\n",
       "      <th>OffersScreenAppear</th>\n",
       "      <td>4593</td>\n",
       "    </tr>\n",
       "    <tr>\n",
       "      <th>CartScreenAppear</th>\n",
       "      <td>3734</td>\n",
       "    </tr>\n",
       "    <tr>\n",
       "      <th>PaymentScreenSuccessful</th>\n",
       "      <td>3539</td>\n",
       "    </tr>\n",
       "    <tr>\n",
       "      <th>Tutorial</th>\n",
       "      <td>840</td>\n",
       "    </tr>\n",
       "  </tbody>\n",
       "</table>\n",
       "</div>"
      ],
      "text/plain": [
       "                         user_id\n",
       "event_name                      \n",
       "MainScreenAppear            7419\n",
       "OffersScreenAppear          4593\n",
       "CartScreenAppear            3734\n",
       "PaymentScreenSuccessful     3539\n",
       "Tutorial                     840"
      ]
     },
     "execution_count": 32,
     "metadata": {},
     "output_type": "execute_result"
    }
   ],
   "source": [
    "users_with_actions = data_new.pivot_table(\n",
    "            index='event_name', values='user_id', aggfunc='nunique'\n",
    "        )\n",
    "users_with_actions.sort_values(by='user_id', ascending=False)"
   ]
  },
  {
   "cell_type": "code",
   "execution_count": 33,
   "metadata": {},
   "outputs": [
    {
     "data": {
      "text/html": [
       "<div>\n",
       "<style scoped>\n",
       "    .dataframe tbody tr th:only-of-type {\n",
       "        vertical-align: middle;\n",
       "    }\n",
       "\n",
       "    .dataframe tbody tr th {\n",
       "        vertical-align: top;\n",
       "    }\n",
       "\n",
       "    .dataframe thead th {\n",
       "        text-align: right;\n",
       "    }\n",
       "</style>\n",
       "<table border=\"1\" class=\"dataframe\">\n",
       "  <thead>\n",
       "    <tr style=\"text-align: right;\">\n",
       "      <th></th>\n",
       "      <th>user_id</th>\n",
       "      <th>percentage</th>\n",
       "    </tr>\n",
       "    <tr>\n",
       "      <th>event_name</th>\n",
       "      <th></th>\n",
       "      <th></th>\n",
       "    </tr>\n",
       "  </thead>\n",
       "  <tbody>\n",
       "    <tr>\n",
       "      <th>MainScreenAppear</th>\n",
       "      <td>7419</td>\n",
       "      <td>98.47</td>\n",
       "    </tr>\n",
       "    <tr>\n",
       "      <th>OffersScreenAppear</th>\n",
       "      <td>4593</td>\n",
       "      <td>60.96</td>\n",
       "    </tr>\n",
       "    <tr>\n",
       "      <th>CartScreenAppear</th>\n",
       "      <td>3734</td>\n",
       "      <td>49.56</td>\n",
       "    </tr>\n",
       "    <tr>\n",
       "      <th>PaymentScreenSuccessful</th>\n",
       "      <td>3539</td>\n",
       "      <td>46.97</td>\n",
       "    </tr>\n",
       "    <tr>\n",
       "      <th>Tutorial</th>\n",
       "      <td>840</td>\n",
       "      <td>11.15</td>\n",
       "    </tr>\n",
       "  </tbody>\n",
       "</table>\n",
       "</div>"
      ],
      "text/plain": [
       "                         user_id  percentage\n",
       "event_name                                  \n",
       "MainScreenAppear            7419       98.47\n",
       "OffersScreenAppear          4593       60.96\n",
       "CartScreenAppear            3734       49.56\n",
       "PaymentScreenSuccessful     3539       46.97\n",
       "Tutorial                     840       11.15"
      ]
     },
     "execution_count": 33,
     "metadata": {},
     "output_type": "execute_result"
    }
   ],
   "source": [
    "# Let's calculate the proportion of users who have ever committed an event\n",
    "users_with_actions['percentage'] = round(100 * (users_with_actions['user_id'] / data_new['user_id'].nunique()), 2)\n",
    "users_with_actions.sort_values(by='percentage', ascending=False)"
   ]
  },
  {
   "cell_type": "markdown",
   "metadata": {},
   "source": [
    "##### Apparently, the Tutorial event is not a mandatory event for users, so we will exclude it when calculating the funnel."
   ]
  },
  {
   "cell_type": "code",
   "execution_count": 34,
   "metadata": {},
   "outputs": [],
   "source": [
    "sales_funnel = users_with_actions.query('event_name != \"Tutorial\"').sort_values(by='user_id', ascending=False)"
   ]
  },
  {
   "cell_type": "code",
   "execution_count": 35,
   "metadata": {},
   "outputs": [
    {
     "data": {
      "text/html": [
       "<div>\n",
       "<style scoped>\n",
       "    .dataframe tbody tr th:only-of-type {\n",
       "        vertical-align: middle;\n",
       "    }\n",
       "\n",
       "    .dataframe tbody tr th {\n",
       "        vertical-align: top;\n",
       "    }\n",
       "\n",
       "    .dataframe thead th {\n",
       "        text-align: right;\n",
       "    }\n",
       "</style>\n",
       "<table border=\"1\" class=\"dataframe\">\n",
       "  <thead>\n",
       "    <tr style=\"text-align: right;\">\n",
       "      <th></th>\n",
       "      <th>user_id</th>\n",
       "      <th>percentage</th>\n",
       "    </tr>\n",
       "    <tr>\n",
       "      <th>event_name</th>\n",
       "      <th></th>\n",
       "      <th></th>\n",
       "    </tr>\n",
       "  </thead>\n",
       "  <tbody>\n",
       "    <tr>\n",
       "      <th>MainScreenAppear</th>\n",
       "      <td>7419</td>\n",
       "      <td>98.47</td>\n",
       "    </tr>\n",
       "    <tr>\n",
       "      <th>OffersScreenAppear</th>\n",
       "      <td>4593</td>\n",
       "      <td>60.96</td>\n",
       "    </tr>\n",
       "    <tr>\n",
       "      <th>CartScreenAppear</th>\n",
       "      <td>3734</td>\n",
       "      <td>49.56</td>\n",
       "    </tr>\n",
       "    <tr>\n",
       "      <th>PaymentScreenSuccessful</th>\n",
       "      <td>3539</td>\n",
       "      <td>46.97</td>\n",
       "    </tr>\n",
       "  </tbody>\n",
       "</table>\n",
       "</div>"
      ],
      "text/plain": [
       "                         user_id  percentage\n",
       "event_name                                  \n",
       "MainScreenAppear            7419       98.47\n",
       "OffersScreenAppear          4593       60.96\n",
       "CartScreenAppear            3734       49.56\n",
       "PaymentScreenSuccessful     3539       46.97"
      ]
     },
     "execution_count": 35,
     "metadata": {},
     "output_type": "execute_result"
    }
   ],
   "source": [
    "sales_funnel "
   ]
  },
  {
   "cell_type": "markdown",
   "metadata": {},
   "source": [
    "##### Using the funnel of events, we will calculate what proportion of users passes to the next step of the funnel"
   ]
  },
  {
   "cell_type": "code",
   "execution_count": 36,
   "metadata": {},
   "outputs": [
    {
     "data": {
      "text/html": [
       "<div>\n",
       "<style scoped>\n",
       "    .dataframe tbody tr th:only-of-type {\n",
       "        vertical-align: middle;\n",
       "    }\n",
       "\n",
       "    .dataframe tbody tr th {\n",
       "        vertical-align: top;\n",
       "    }\n",
       "\n",
       "    .dataframe thead th {\n",
       "        text-align: right;\n",
       "    }\n",
       "</style>\n",
       "<table border=\"1\" class=\"dataframe\">\n",
       "  <thead>\n",
       "    <tr style=\"text-align: right;\">\n",
       "      <th></th>\n",
       "      <th>user_id</th>\n",
       "      <th>percentage</th>\n",
       "      <th>сonversion_per_step</th>\n",
       "    </tr>\n",
       "    <tr>\n",
       "      <th>event_name</th>\n",
       "      <th></th>\n",
       "      <th></th>\n",
       "      <th></th>\n",
       "    </tr>\n",
       "  </thead>\n",
       "  <tbody>\n",
       "    <tr>\n",
       "      <th>MainScreenAppear</th>\n",
       "      <td>7419</td>\n",
       "      <td>98.47</td>\n",
       "      <td>100.0</td>\n",
       "    </tr>\n",
       "    <tr>\n",
       "      <th>OffersScreenAppear</th>\n",
       "      <td>4593</td>\n",
       "      <td>60.96</td>\n",
       "      <td>62.0</td>\n",
       "    </tr>\n",
       "    <tr>\n",
       "      <th>CartScreenAppear</th>\n",
       "      <td>3734</td>\n",
       "      <td>49.56</td>\n",
       "      <td>81.0</td>\n",
       "    </tr>\n",
       "    <tr>\n",
       "      <th>PaymentScreenSuccessful</th>\n",
       "      <td>3539</td>\n",
       "      <td>46.97</td>\n",
       "      <td>95.0</td>\n",
       "    </tr>\n",
       "  </tbody>\n",
       "</table>\n",
       "</div>"
      ],
      "text/plain": [
       "                         user_id  percentage  сonversion_per_step\n",
       "event_name                                                       \n",
       "MainScreenAppear            7419       98.47                100.0\n",
       "OffersScreenAppear          4593       60.96                 62.0\n",
       "CartScreenAppear            3734       49.56                 81.0\n",
       "PaymentScreenSuccessful     3539       46.97                 95.0"
      ]
     },
     "execution_count": 36,
     "metadata": {},
     "output_type": "execute_result"
    }
   ],
   "source": [
    "sales_funnel['сonversion_per_step'] = round(100 * (sales_funnel['user_id'].div(sales_funnel['user_id'].shift()).fillna(1.0)), 0)\n",
    "sales_funnel"
   ]
  },
  {
   "cell_type": "code",
   "execution_count": 37,
   "metadata": {},
   "outputs": [],
   "source": [
    "sales_funnel = sales_funnel.reset_index()"
   ]
  },
  {
   "cell_type": "code",
   "execution_count": 63,
   "metadata": {},
   "outputs": [
    {
     "data": {
      "application/vnd.plotly.v1+json": {
       "config": {
        "plotlyServerURL": "https://plot.ly"
       },
       "data": [
        {
         "connector": {
          "line": {
           "color": "royalblue",
           "dash": "dot",
           "width": 3
          }
         },
         "marker": {
          "color": [
           "deepskyblue",
           "lightsalmon",
           "tan",
           "teal",
           "silver"
          ],
          "line": {
           "color": [
            "wheat",
            "wheat",
            "blue",
            "wheat",
            "wheat"
           ],
           "width": [
            4,
            2,
            2,
            3,
            1,
            1
           ]
          }
         },
         "opacity": 0.65,
         "textinfo": "value+percent initial",
         "textposition": "inside",
         "type": "funnel",
         "x": [
          7419,
          4593,
          3734,
          3539
         ],
         "y": [
          "MainScreenAppear",
          "OffersScreenAppear",
          "CartScreenAppear",
          "PaymentScreenSuccessful"
         ]
        }
       ],
       "layout": {
        "template": {
         "data": {
          "bar": [
           {
            "error_x": {
             "color": "#2a3f5f"
            },
            "error_y": {
             "color": "#2a3f5f"
            },
            "marker": {
             "line": {
              "color": "#E5ECF6",
              "width": 0.5
             },
             "pattern": {
              "fillmode": "overlay",
              "size": 10,
              "solidity": 0.2
             }
            },
            "type": "bar"
           }
          ],
          "barpolar": [
           {
            "marker": {
             "line": {
              "color": "#E5ECF6",
              "width": 0.5
             },
             "pattern": {
              "fillmode": "overlay",
              "size": 10,
              "solidity": 0.2
             }
            },
            "type": "barpolar"
           }
          ],
          "carpet": [
           {
            "aaxis": {
             "endlinecolor": "#2a3f5f",
             "gridcolor": "white",
             "linecolor": "white",
             "minorgridcolor": "white",
             "startlinecolor": "#2a3f5f"
            },
            "baxis": {
             "endlinecolor": "#2a3f5f",
             "gridcolor": "white",
             "linecolor": "white",
             "minorgridcolor": "white",
             "startlinecolor": "#2a3f5f"
            },
            "type": "carpet"
           }
          ],
          "choropleth": [
           {
            "colorbar": {
             "outlinewidth": 0,
             "ticks": ""
            },
            "type": "choropleth"
           }
          ],
          "contour": [
           {
            "colorbar": {
             "outlinewidth": 0,
             "ticks": ""
            },
            "colorscale": [
             [
              0,
              "#0d0887"
             ],
             [
              0.1111111111111111,
              "#46039f"
             ],
             [
              0.2222222222222222,
              "#7201a8"
             ],
             [
              0.3333333333333333,
              "#9c179e"
             ],
             [
              0.4444444444444444,
              "#bd3786"
             ],
             [
              0.5555555555555556,
              "#d8576b"
             ],
             [
              0.6666666666666666,
              "#ed7953"
             ],
             [
              0.7777777777777778,
              "#fb9f3a"
             ],
             [
              0.8888888888888888,
              "#fdca26"
             ],
             [
              1,
              "#f0f921"
             ]
            ],
            "type": "contour"
           }
          ],
          "contourcarpet": [
           {
            "colorbar": {
             "outlinewidth": 0,
             "ticks": ""
            },
            "type": "contourcarpet"
           }
          ],
          "heatmap": [
           {
            "colorbar": {
             "outlinewidth": 0,
             "ticks": ""
            },
            "colorscale": [
             [
              0,
              "#0d0887"
             ],
             [
              0.1111111111111111,
              "#46039f"
             ],
             [
              0.2222222222222222,
              "#7201a8"
             ],
             [
              0.3333333333333333,
              "#9c179e"
             ],
             [
              0.4444444444444444,
              "#bd3786"
             ],
             [
              0.5555555555555556,
              "#d8576b"
             ],
             [
              0.6666666666666666,
              "#ed7953"
             ],
             [
              0.7777777777777778,
              "#fb9f3a"
             ],
             [
              0.8888888888888888,
              "#fdca26"
             ],
             [
              1,
              "#f0f921"
             ]
            ],
            "type": "heatmap"
           }
          ],
          "heatmapgl": [
           {
            "colorbar": {
             "outlinewidth": 0,
             "ticks": ""
            },
            "colorscale": [
             [
              0,
              "#0d0887"
             ],
             [
              0.1111111111111111,
              "#46039f"
             ],
             [
              0.2222222222222222,
              "#7201a8"
             ],
             [
              0.3333333333333333,
              "#9c179e"
             ],
             [
              0.4444444444444444,
              "#bd3786"
             ],
             [
              0.5555555555555556,
              "#d8576b"
             ],
             [
              0.6666666666666666,
              "#ed7953"
             ],
             [
              0.7777777777777778,
              "#fb9f3a"
             ],
             [
              0.8888888888888888,
              "#fdca26"
             ],
             [
              1,
              "#f0f921"
             ]
            ],
            "type": "heatmapgl"
           }
          ],
          "histogram": [
           {
            "marker": {
             "pattern": {
              "fillmode": "overlay",
              "size": 10,
              "solidity": 0.2
             }
            },
            "type": "histogram"
           }
          ],
          "histogram2d": [
           {
            "colorbar": {
             "outlinewidth": 0,
             "ticks": ""
            },
            "colorscale": [
             [
              0,
              "#0d0887"
             ],
             [
              0.1111111111111111,
              "#46039f"
             ],
             [
              0.2222222222222222,
              "#7201a8"
             ],
             [
              0.3333333333333333,
              "#9c179e"
             ],
             [
              0.4444444444444444,
              "#bd3786"
             ],
             [
              0.5555555555555556,
              "#d8576b"
             ],
             [
              0.6666666666666666,
              "#ed7953"
             ],
             [
              0.7777777777777778,
              "#fb9f3a"
             ],
             [
              0.8888888888888888,
              "#fdca26"
             ],
             [
              1,
              "#f0f921"
             ]
            ],
            "type": "histogram2d"
           }
          ],
          "histogram2dcontour": [
           {
            "colorbar": {
             "outlinewidth": 0,
             "ticks": ""
            },
            "colorscale": [
             [
              0,
              "#0d0887"
             ],
             [
              0.1111111111111111,
              "#46039f"
             ],
             [
              0.2222222222222222,
              "#7201a8"
             ],
             [
              0.3333333333333333,
              "#9c179e"
             ],
             [
              0.4444444444444444,
              "#bd3786"
             ],
             [
              0.5555555555555556,
              "#d8576b"
             ],
             [
              0.6666666666666666,
              "#ed7953"
             ],
             [
              0.7777777777777778,
              "#fb9f3a"
             ],
             [
              0.8888888888888888,
              "#fdca26"
             ],
             [
              1,
              "#f0f921"
             ]
            ],
            "type": "histogram2dcontour"
           }
          ],
          "mesh3d": [
           {
            "colorbar": {
             "outlinewidth": 0,
             "ticks": ""
            },
            "type": "mesh3d"
           }
          ],
          "parcoords": [
           {
            "line": {
             "colorbar": {
              "outlinewidth": 0,
              "ticks": ""
             }
            },
            "type": "parcoords"
           }
          ],
          "pie": [
           {
            "automargin": true,
            "type": "pie"
           }
          ],
          "scatter": [
           {
            "marker": {
             "colorbar": {
              "outlinewidth": 0,
              "ticks": ""
             }
            },
            "type": "scatter"
           }
          ],
          "scatter3d": [
           {
            "line": {
             "colorbar": {
              "outlinewidth": 0,
              "ticks": ""
             }
            },
            "marker": {
             "colorbar": {
              "outlinewidth": 0,
              "ticks": ""
             }
            },
            "type": "scatter3d"
           }
          ],
          "scattercarpet": [
           {
            "marker": {
             "colorbar": {
              "outlinewidth": 0,
              "ticks": ""
             }
            },
            "type": "scattercarpet"
           }
          ],
          "scattergeo": [
           {
            "marker": {
             "colorbar": {
              "outlinewidth": 0,
              "ticks": ""
             }
            },
            "type": "scattergeo"
           }
          ],
          "scattergl": [
           {
            "marker": {
             "colorbar": {
              "outlinewidth": 0,
              "ticks": ""
             }
            },
            "type": "scattergl"
           }
          ],
          "scattermapbox": [
           {
            "marker": {
             "colorbar": {
              "outlinewidth": 0,
              "ticks": ""
             }
            },
            "type": "scattermapbox"
           }
          ],
          "scatterpolar": [
           {
            "marker": {
             "colorbar": {
              "outlinewidth": 0,
              "ticks": ""
             }
            },
            "type": "scatterpolar"
           }
          ],
          "scatterpolargl": [
           {
            "marker": {
             "colorbar": {
              "outlinewidth": 0,
              "ticks": ""
             }
            },
            "type": "scatterpolargl"
           }
          ],
          "scatterternary": [
           {
            "marker": {
             "colorbar": {
              "outlinewidth": 0,
              "ticks": ""
             }
            },
            "type": "scatterternary"
           }
          ],
          "surface": [
           {
            "colorbar": {
             "outlinewidth": 0,
             "ticks": ""
            },
            "colorscale": [
             [
              0,
              "#0d0887"
             ],
             [
              0.1111111111111111,
              "#46039f"
             ],
             [
              0.2222222222222222,
              "#7201a8"
             ],
             [
              0.3333333333333333,
              "#9c179e"
             ],
             [
              0.4444444444444444,
              "#bd3786"
             ],
             [
              0.5555555555555556,
              "#d8576b"
             ],
             [
              0.6666666666666666,
              "#ed7953"
             ],
             [
              0.7777777777777778,
              "#fb9f3a"
             ],
             [
              0.8888888888888888,
              "#fdca26"
             ],
             [
              1,
              "#f0f921"
             ]
            ],
            "type": "surface"
           }
          ],
          "table": [
           {
            "cells": {
             "fill": {
              "color": "#EBF0F8"
             },
             "line": {
              "color": "white"
             }
            },
            "header": {
             "fill": {
              "color": "#C8D4E3"
             },
             "line": {
              "color": "white"
             }
            },
            "type": "table"
           }
          ]
         },
         "layout": {
          "annotationdefaults": {
           "arrowcolor": "#2a3f5f",
           "arrowhead": 0,
           "arrowwidth": 1
          },
          "autotypenumbers": "strict",
          "coloraxis": {
           "colorbar": {
            "outlinewidth": 0,
            "ticks": ""
           }
          },
          "colorscale": {
           "diverging": [
            [
             0,
             "#8e0152"
            ],
            [
             0.1,
             "#c51b7d"
            ],
            [
             0.2,
             "#de77ae"
            ],
            [
             0.3,
             "#f1b6da"
            ],
            [
             0.4,
             "#fde0ef"
            ],
            [
             0.5,
             "#f7f7f7"
            ],
            [
             0.6,
             "#e6f5d0"
            ],
            [
             0.7,
             "#b8e186"
            ],
            [
             0.8,
             "#7fbc41"
            ],
            [
             0.9,
             "#4d9221"
            ],
            [
             1,
             "#276419"
            ]
           ],
           "sequential": [
            [
             0,
             "#0d0887"
            ],
            [
             0.1111111111111111,
             "#46039f"
            ],
            [
             0.2222222222222222,
             "#7201a8"
            ],
            [
             0.3333333333333333,
             "#9c179e"
            ],
            [
             0.4444444444444444,
             "#bd3786"
            ],
            [
             0.5555555555555556,
             "#d8576b"
            ],
            [
             0.6666666666666666,
             "#ed7953"
            ],
            [
             0.7777777777777778,
             "#fb9f3a"
            ],
            [
             0.8888888888888888,
             "#fdca26"
            ],
            [
             1,
             "#f0f921"
            ]
           ],
           "sequentialminus": [
            [
             0,
             "#0d0887"
            ],
            [
             0.1111111111111111,
             "#46039f"
            ],
            [
             0.2222222222222222,
             "#7201a8"
            ],
            [
             0.3333333333333333,
             "#9c179e"
            ],
            [
             0.4444444444444444,
             "#bd3786"
            ],
            [
             0.5555555555555556,
             "#d8576b"
            ],
            [
             0.6666666666666666,
             "#ed7953"
            ],
            [
             0.7777777777777778,
             "#fb9f3a"
            ],
            [
             0.8888888888888888,
             "#fdca26"
            ],
            [
             1,
             "#f0f921"
            ]
           ]
          },
          "colorway": [
           "#636efa",
           "#EF553B",
           "#00cc96",
           "#ab63fa",
           "#FFA15A",
           "#19d3f3",
           "#FF6692",
           "#B6E880",
           "#FF97FF",
           "#FECB52"
          ],
          "font": {
           "color": "#2a3f5f"
          },
          "geo": {
           "bgcolor": "white",
           "lakecolor": "white",
           "landcolor": "#E5ECF6",
           "showlakes": true,
           "showland": true,
           "subunitcolor": "white"
          },
          "hoverlabel": {
           "align": "left"
          },
          "hovermode": "closest",
          "mapbox": {
           "style": "light"
          },
          "paper_bgcolor": "white",
          "plot_bgcolor": "#E5ECF6",
          "polar": {
           "angularaxis": {
            "gridcolor": "white",
            "linecolor": "white",
            "ticks": ""
           },
           "bgcolor": "#E5ECF6",
           "radialaxis": {
            "gridcolor": "white",
            "linecolor": "white",
            "ticks": ""
           }
          },
          "scene": {
           "xaxis": {
            "backgroundcolor": "#E5ECF6",
            "gridcolor": "white",
            "gridwidth": 2,
            "linecolor": "white",
            "showbackground": true,
            "ticks": "",
            "zerolinecolor": "white"
           },
           "yaxis": {
            "backgroundcolor": "#E5ECF6",
            "gridcolor": "white",
            "gridwidth": 2,
            "linecolor": "white",
            "showbackground": true,
            "ticks": "",
            "zerolinecolor": "white"
           },
           "zaxis": {
            "backgroundcolor": "#E5ECF6",
            "gridcolor": "white",
            "gridwidth": 2,
            "linecolor": "white",
            "showbackground": true,
            "ticks": "",
            "zerolinecolor": "white"
           }
          },
          "shapedefaults": {
           "line": {
            "color": "#2a3f5f"
           }
          },
          "ternary": {
           "aaxis": {
            "gridcolor": "white",
            "linecolor": "white",
            "ticks": ""
           },
           "baxis": {
            "gridcolor": "white",
            "linecolor": "white",
            "ticks": ""
           },
           "bgcolor": "#E5ECF6",
           "caxis": {
            "gridcolor": "white",
            "linecolor": "white",
            "ticks": ""
           }
          },
          "title": {
           "x": 0.05
          },
          "xaxis": {
           "automargin": true,
           "gridcolor": "white",
           "linecolor": "white",
           "ticks": "",
           "title": {
            "standoff": 15
           },
           "zerolinecolor": "white",
           "zerolinewidth": 2
          },
          "yaxis": {
           "automargin": true,
           "gridcolor": "white",
           "linecolor": "white",
           "ticks": "",
           "title": {
            "standoff": 15
           },
           "zerolinecolor": "white",
           "zerolinewidth": 2
          }
         }
        },
        "title": {
         "text": "Funnel of events"
        }
       }
      },
      "text/html": [
       "<div>                            <div id=\"0f613fa1-b131-4d01-85aa-64f77669852c\" class=\"plotly-graph-div\" style=\"height:525px; width:100%;\"></div>            <script type=\"text/javascript\">                require([\"plotly\"], function(Plotly) {                    window.PLOTLYENV=window.PLOTLYENV || {};                                    if (document.getElementById(\"0f613fa1-b131-4d01-85aa-64f77669852c\")) {                    Plotly.newPlot(                        \"0f613fa1-b131-4d01-85aa-64f77669852c\",                        [{\"connector\":{\"line\":{\"color\":\"royalblue\",\"dash\":\"dot\",\"width\":3}},\"marker\":{\"color\":[\"deepskyblue\",\"lightsalmon\",\"tan\",\"teal\",\"silver\"],\"line\":{\"color\":[\"wheat\",\"wheat\",\"blue\",\"wheat\",\"wheat\"],\"width\":[4,2,2,3,1,1]}},\"opacity\":0.65,\"textinfo\":\"value+percent initial\",\"textposition\":\"inside\",\"x\":[7419,4593,3734,3539],\"y\":[\"MainScreenAppear\",\"OffersScreenAppear\",\"CartScreenAppear\",\"PaymentScreenSuccessful\"],\"type\":\"funnel\"}],                        {\"template\":{\"data\":{\"bar\":[{\"error_x\":{\"color\":\"#2a3f5f\"},\"error_y\":{\"color\":\"#2a3f5f\"},\"marker\":{\"line\":{\"color\":\"#E5ECF6\",\"width\":0.5},\"pattern\":{\"fillmode\":\"overlay\",\"size\":10,\"solidity\":0.2}},\"type\":\"bar\"}],\"barpolar\":[{\"marker\":{\"line\":{\"color\":\"#E5ECF6\",\"width\":0.5},\"pattern\":{\"fillmode\":\"overlay\",\"size\":10,\"solidity\":0.2}},\"type\":\"barpolar\"}],\"carpet\":[{\"aaxis\":{\"endlinecolor\":\"#2a3f5f\",\"gridcolor\":\"white\",\"linecolor\":\"white\",\"minorgridcolor\":\"white\",\"startlinecolor\":\"#2a3f5f\"},\"baxis\":{\"endlinecolor\":\"#2a3f5f\",\"gridcolor\":\"white\",\"linecolor\":\"white\",\"minorgridcolor\":\"white\",\"startlinecolor\":\"#2a3f5f\"},\"type\":\"carpet\"}],\"choropleth\":[{\"colorbar\":{\"outlinewidth\":0,\"ticks\":\"\"},\"type\":\"choropleth\"}],\"contour\":[{\"colorbar\":{\"outlinewidth\":0,\"ticks\":\"\"},\"colorscale\":[[0.0,\"#0d0887\"],[0.1111111111111111,\"#46039f\"],[0.2222222222222222,\"#7201a8\"],[0.3333333333333333,\"#9c179e\"],[0.4444444444444444,\"#bd3786\"],[0.5555555555555556,\"#d8576b\"],[0.6666666666666666,\"#ed7953\"],[0.7777777777777778,\"#fb9f3a\"],[0.8888888888888888,\"#fdca26\"],[1.0,\"#f0f921\"]],\"type\":\"contour\"}],\"contourcarpet\":[{\"colorbar\":{\"outlinewidth\":0,\"ticks\":\"\"},\"type\":\"contourcarpet\"}],\"heatmap\":[{\"colorbar\":{\"outlinewidth\":0,\"ticks\":\"\"},\"colorscale\":[[0.0,\"#0d0887\"],[0.1111111111111111,\"#46039f\"],[0.2222222222222222,\"#7201a8\"],[0.3333333333333333,\"#9c179e\"],[0.4444444444444444,\"#bd3786\"],[0.5555555555555556,\"#d8576b\"],[0.6666666666666666,\"#ed7953\"],[0.7777777777777778,\"#fb9f3a\"],[0.8888888888888888,\"#fdca26\"],[1.0,\"#f0f921\"]],\"type\":\"heatmap\"}],\"heatmapgl\":[{\"colorbar\":{\"outlinewidth\":0,\"ticks\":\"\"},\"colorscale\":[[0.0,\"#0d0887\"],[0.1111111111111111,\"#46039f\"],[0.2222222222222222,\"#7201a8\"],[0.3333333333333333,\"#9c179e\"],[0.4444444444444444,\"#bd3786\"],[0.5555555555555556,\"#d8576b\"],[0.6666666666666666,\"#ed7953\"],[0.7777777777777778,\"#fb9f3a\"],[0.8888888888888888,\"#fdca26\"],[1.0,\"#f0f921\"]],\"type\":\"heatmapgl\"}],\"histogram\":[{\"marker\":{\"pattern\":{\"fillmode\":\"overlay\",\"size\":10,\"solidity\":0.2}},\"type\":\"histogram\"}],\"histogram2d\":[{\"colorbar\":{\"outlinewidth\":0,\"ticks\":\"\"},\"colorscale\":[[0.0,\"#0d0887\"],[0.1111111111111111,\"#46039f\"],[0.2222222222222222,\"#7201a8\"],[0.3333333333333333,\"#9c179e\"],[0.4444444444444444,\"#bd3786\"],[0.5555555555555556,\"#d8576b\"],[0.6666666666666666,\"#ed7953\"],[0.7777777777777778,\"#fb9f3a\"],[0.8888888888888888,\"#fdca26\"],[1.0,\"#f0f921\"]],\"type\":\"histogram2d\"}],\"histogram2dcontour\":[{\"colorbar\":{\"outlinewidth\":0,\"ticks\":\"\"},\"colorscale\":[[0.0,\"#0d0887\"],[0.1111111111111111,\"#46039f\"],[0.2222222222222222,\"#7201a8\"],[0.3333333333333333,\"#9c179e\"],[0.4444444444444444,\"#bd3786\"],[0.5555555555555556,\"#d8576b\"],[0.6666666666666666,\"#ed7953\"],[0.7777777777777778,\"#fb9f3a\"],[0.8888888888888888,\"#fdca26\"],[1.0,\"#f0f921\"]],\"type\":\"histogram2dcontour\"}],\"mesh3d\":[{\"colorbar\":{\"outlinewidth\":0,\"ticks\":\"\"},\"type\":\"mesh3d\"}],\"parcoords\":[{\"line\":{\"colorbar\":{\"outlinewidth\":0,\"ticks\":\"\"}},\"type\":\"parcoords\"}],\"pie\":[{\"automargin\":true,\"type\":\"pie\"}],\"scatter\":[{\"marker\":{\"colorbar\":{\"outlinewidth\":0,\"ticks\":\"\"}},\"type\":\"scatter\"}],\"scatter3d\":[{\"line\":{\"colorbar\":{\"outlinewidth\":0,\"ticks\":\"\"}},\"marker\":{\"colorbar\":{\"outlinewidth\":0,\"ticks\":\"\"}},\"type\":\"scatter3d\"}],\"scattercarpet\":[{\"marker\":{\"colorbar\":{\"outlinewidth\":0,\"ticks\":\"\"}},\"type\":\"scattercarpet\"}],\"scattergeo\":[{\"marker\":{\"colorbar\":{\"outlinewidth\":0,\"ticks\":\"\"}},\"type\":\"scattergeo\"}],\"scattergl\":[{\"marker\":{\"colorbar\":{\"outlinewidth\":0,\"ticks\":\"\"}},\"type\":\"scattergl\"}],\"scattermapbox\":[{\"marker\":{\"colorbar\":{\"outlinewidth\":0,\"ticks\":\"\"}},\"type\":\"scattermapbox\"}],\"scatterpolar\":[{\"marker\":{\"colorbar\":{\"outlinewidth\":0,\"ticks\":\"\"}},\"type\":\"scatterpolar\"}],\"scatterpolargl\":[{\"marker\":{\"colorbar\":{\"outlinewidth\":0,\"ticks\":\"\"}},\"type\":\"scatterpolargl\"}],\"scatterternary\":[{\"marker\":{\"colorbar\":{\"outlinewidth\":0,\"ticks\":\"\"}},\"type\":\"scatterternary\"}],\"surface\":[{\"colorbar\":{\"outlinewidth\":0,\"ticks\":\"\"},\"colorscale\":[[0.0,\"#0d0887\"],[0.1111111111111111,\"#46039f\"],[0.2222222222222222,\"#7201a8\"],[0.3333333333333333,\"#9c179e\"],[0.4444444444444444,\"#bd3786\"],[0.5555555555555556,\"#d8576b\"],[0.6666666666666666,\"#ed7953\"],[0.7777777777777778,\"#fb9f3a\"],[0.8888888888888888,\"#fdca26\"],[1.0,\"#f0f921\"]],\"type\":\"surface\"}],\"table\":[{\"cells\":{\"fill\":{\"color\":\"#EBF0F8\"},\"line\":{\"color\":\"white\"}},\"header\":{\"fill\":{\"color\":\"#C8D4E3\"},\"line\":{\"color\":\"white\"}},\"type\":\"table\"}]},\"layout\":{\"annotationdefaults\":{\"arrowcolor\":\"#2a3f5f\",\"arrowhead\":0,\"arrowwidth\":1},\"autotypenumbers\":\"strict\",\"coloraxis\":{\"colorbar\":{\"outlinewidth\":0,\"ticks\":\"\"}},\"colorscale\":{\"diverging\":[[0,\"#8e0152\"],[0.1,\"#c51b7d\"],[0.2,\"#de77ae\"],[0.3,\"#f1b6da\"],[0.4,\"#fde0ef\"],[0.5,\"#f7f7f7\"],[0.6,\"#e6f5d0\"],[0.7,\"#b8e186\"],[0.8,\"#7fbc41\"],[0.9,\"#4d9221\"],[1,\"#276419\"]],\"sequential\":[[0.0,\"#0d0887\"],[0.1111111111111111,\"#46039f\"],[0.2222222222222222,\"#7201a8\"],[0.3333333333333333,\"#9c179e\"],[0.4444444444444444,\"#bd3786\"],[0.5555555555555556,\"#d8576b\"],[0.6666666666666666,\"#ed7953\"],[0.7777777777777778,\"#fb9f3a\"],[0.8888888888888888,\"#fdca26\"],[1.0,\"#f0f921\"]],\"sequentialminus\":[[0.0,\"#0d0887\"],[0.1111111111111111,\"#46039f\"],[0.2222222222222222,\"#7201a8\"],[0.3333333333333333,\"#9c179e\"],[0.4444444444444444,\"#bd3786\"],[0.5555555555555556,\"#d8576b\"],[0.6666666666666666,\"#ed7953\"],[0.7777777777777778,\"#fb9f3a\"],[0.8888888888888888,\"#fdca26\"],[1.0,\"#f0f921\"]]},\"colorway\":[\"#636efa\",\"#EF553B\",\"#00cc96\",\"#ab63fa\",\"#FFA15A\",\"#19d3f3\",\"#FF6692\",\"#B6E880\",\"#FF97FF\",\"#FECB52\"],\"font\":{\"color\":\"#2a3f5f\"},\"geo\":{\"bgcolor\":\"white\",\"lakecolor\":\"white\",\"landcolor\":\"#E5ECF6\",\"showlakes\":true,\"showland\":true,\"subunitcolor\":\"white\"},\"hoverlabel\":{\"align\":\"left\"},\"hovermode\":\"closest\",\"mapbox\":{\"style\":\"light\"},\"paper_bgcolor\":\"white\",\"plot_bgcolor\":\"#E5ECF6\",\"polar\":{\"angularaxis\":{\"gridcolor\":\"white\",\"linecolor\":\"white\",\"ticks\":\"\"},\"bgcolor\":\"#E5ECF6\",\"radialaxis\":{\"gridcolor\":\"white\",\"linecolor\":\"white\",\"ticks\":\"\"}},\"scene\":{\"xaxis\":{\"backgroundcolor\":\"#E5ECF6\",\"gridcolor\":\"white\",\"gridwidth\":2,\"linecolor\":\"white\",\"showbackground\":true,\"ticks\":\"\",\"zerolinecolor\":\"white\"},\"yaxis\":{\"backgroundcolor\":\"#E5ECF6\",\"gridcolor\":\"white\",\"gridwidth\":2,\"linecolor\":\"white\",\"showbackground\":true,\"ticks\":\"\",\"zerolinecolor\":\"white\"},\"zaxis\":{\"backgroundcolor\":\"#E5ECF6\",\"gridcolor\":\"white\",\"gridwidth\":2,\"linecolor\":\"white\",\"showbackground\":true,\"ticks\":\"\",\"zerolinecolor\":\"white\"}},\"shapedefaults\":{\"line\":{\"color\":\"#2a3f5f\"}},\"ternary\":{\"aaxis\":{\"gridcolor\":\"white\",\"linecolor\":\"white\",\"ticks\":\"\"},\"baxis\":{\"gridcolor\":\"white\",\"linecolor\":\"white\",\"ticks\":\"\"},\"bgcolor\":\"#E5ECF6\",\"caxis\":{\"gridcolor\":\"white\",\"linecolor\":\"white\",\"ticks\":\"\"}},\"title\":{\"x\":0.05},\"xaxis\":{\"automargin\":true,\"gridcolor\":\"white\",\"linecolor\":\"white\",\"ticks\":\"\",\"title\":{\"standoff\":15},\"zerolinecolor\":\"white\",\"zerolinewidth\":2},\"yaxis\":{\"automargin\":true,\"gridcolor\":\"white\",\"linecolor\":\"white\",\"ticks\":\"\",\"title\":{\"standoff\":15},\"zerolinecolor\":\"white\",\"zerolinewidth\":2}}},\"title\":{\"text\":\"Funnel of events\"}},                        {\"responsive\": true}                    ).then(function(){\n",
       "                            \n",
       "var gd = document.getElementById('0f613fa1-b131-4d01-85aa-64f77669852c');\n",
       "var x = new MutationObserver(function (mutations, observer) {{\n",
       "        var display = window.getComputedStyle(gd).display;\n",
       "        if (!display || display === 'none') {{\n",
       "            console.log([gd, 'removed!']);\n",
       "            Plotly.purge(gd);\n",
       "            observer.disconnect();\n",
       "        }}\n",
       "}});\n",
       "\n",
       "// Listen for the removal of the full notebook cells\n",
       "var notebookContainer = gd.closest('#notebook-container');\n",
       "if (notebookContainer) {{\n",
       "    x.observe(notebookContainer, {childList: true});\n",
       "}}\n",
       "\n",
       "// Listen for the clearing of the current output cell\n",
       "var outputEl = gd.closest('.output');\n",
       "if (outputEl) {{\n",
       "    x.observe(outputEl, {childList: true});\n",
       "}}\n",
       "\n",
       "                        })                };                });            </script>        </div>"
      ]
     },
     "metadata": {},
     "output_type": "display_data"
    }
   ],
   "source": [
    "fig = go.Figure(go.Funnel(\n",
    "    y = sales_funnel['event_name'],\n",
    "    x = sales_funnel['user_id'],\n",
    "    textposition = \"inside\",\n",
    "    textinfo = \"value+percent initial\",\n",
    "    opacity = 0.65, marker = {\"color\": [\"deepskyblue\", \"lightsalmon\", \"tan\", \"teal\", \"silver\"],\n",
    "    \"line\": {\"width\": [4, 2, 2, 3, 1, 1], \"color\": [\"wheat\", \"wheat\", \"blue\", \"wheat\", \"wheat\"]}},\n",
    "    connector = {\"line\": {\"color\": \"royalblue\", \"dash\": \"dot\", \"width\": 3}})\n",
    "    )\n",
    "fig.update_layout(title={'text': \"Funnel of events\"})\n",
    "fig.show()"
   ]
  },
  {
   "cell_type": "markdown",
   "metadata": {},
   "source": [
    "##### We see that most of the users are lost at the OffersScreenAppear step"
   ]
  },
  {
   "cell_type": "markdown",
   "metadata": {},
   "source": [
    "##### Let's calculate what percentage of users reaches from the first event to the payment"
   ]
  },
  {
   "cell_type": "code",
   "execution_count": 39,
   "metadata": {},
   "outputs": [
    {
     "data": {
      "text/html": [
       "<div>\n",
       "<style scoped>\n",
       "    .dataframe tbody tr th:only-of-type {\n",
       "        vertical-align: middle;\n",
       "    }\n",
       "\n",
       "    .dataframe tbody tr th {\n",
       "        vertical-align: top;\n",
       "    }\n",
       "\n",
       "    .dataframe thead th {\n",
       "        text-align: right;\n",
       "    }\n",
       "</style>\n",
       "<table border=\"1\" class=\"dataframe\">\n",
       "  <thead>\n",
       "    <tr style=\"text-align: right;\">\n",
       "      <th></th>\n",
       "      <th>event_name</th>\n",
       "      <th>user_id</th>\n",
       "      <th>percentage</th>\n",
       "      <th>сonversion_per_step</th>\n",
       "    </tr>\n",
       "  </thead>\n",
       "  <tbody>\n",
       "    <tr>\n",
       "      <th>0</th>\n",
       "      <td>MainScreenAppear</td>\n",
       "      <td>7419</td>\n",
       "      <td>98.47</td>\n",
       "      <td>100.0</td>\n",
       "    </tr>\n",
       "    <tr>\n",
       "      <th>1</th>\n",
       "      <td>OffersScreenAppear</td>\n",
       "      <td>4593</td>\n",
       "      <td>60.96</td>\n",
       "      <td>62.0</td>\n",
       "    </tr>\n",
       "    <tr>\n",
       "      <th>2</th>\n",
       "      <td>CartScreenAppear</td>\n",
       "      <td>3734</td>\n",
       "      <td>49.56</td>\n",
       "      <td>81.0</td>\n",
       "    </tr>\n",
       "    <tr>\n",
       "      <th>3</th>\n",
       "      <td>PaymentScreenSuccessful</td>\n",
       "      <td>3539</td>\n",
       "      <td>46.97</td>\n",
       "      <td>95.0</td>\n",
       "    </tr>\n",
       "  </tbody>\n",
       "</table>\n",
       "</div>"
      ],
      "text/plain": [
       "                event_name  user_id  percentage  сonversion_per_step\n",
       "0         MainScreenAppear     7419       98.47                100.0\n",
       "1       OffersScreenAppear     4593       60.96                 62.0\n",
       "2         CartScreenAppear     3734       49.56                 81.0\n",
       "3  PaymentScreenSuccessful     3539       46.97                 95.0"
      ]
     },
     "execution_count": 39,
     "metadata": {},
     "output_type": "execute_result"
    }
   ],
   "source": [
    "sales_funnel"
   ]
  },
  {
   "cell_type": "code",
   "execution_count": 40,
   "metadata": {},
   "outputs": [
    {
     "data": {
      "text/plain": [
       "0.48"
      ]
     },
     "execution_count": 40,
     "metadata": {},
     "output_type": "execute_result"
    }
   ],
   "source": [
    "round(sales_funnel['user_id'].values[3] / sales_funnel['user_id'].values[0], 2)"
   ]
  },
  {
   "cell_type": "markdown",
   "metadata": {},
   "source": [
    "**From the first event, 48% of users reach the payment.** "
   ]
  },
  {
   "cell_type": "markdown",
   "metadata": {},
   "source": [
    "#### Conclusion: we have studied the funnel of events. We were able to establish the following:\n",
    "1. There are 5 events in the logs: MainScreenAppear, MainScreenAppear, MainScreenAppear, MainScreenAppear, Tutorial. The most common event is MainScreenAppear.\n",
    "2. When analyzing the number of users who completed each event, it was concluded that the Tutorial event is not a mandatory event for users, so it was excluded when calculating the funnel.\n",
    "3. It was calculated what proportion of users passes to the next step of the funnel. We found out that most of the users are lost at the OffersScreenAppear step.\n",
    "4. It was estimated that 48% of users reach the payment from the first event."
   ]
  },
  {
   "cell_type": "markdown",
   "metadata": {},
   "source": [
    "## Step 5. Let's study the results of the experiment"
   ]
  },
  {
   "cell_type": "markdown",
   "metadata": {},
   "source": [
    "##### Let's check the correctness of splitting users into groups"
   ]
  },
  {
   "cell_type": "code",
   "execution_count": 41,
   "metadata": {},
   "outputs": [],
   "source": [
    "# Divide the orders table into tables by groups A and B\n",
    "users_246 = data_new.query('group == 246')\n",
    "users_247 = data_new.query('group == 247')\n",
    "users_248 = data_new.query('group == 248')"
   ]
  },
  {
   "cell_type": "code",
   "execution_count": 42,
   "metadata": {},
   "outputs": [],
   "source": [
    "# We get the user IDs that occur in all three tables\n",
    "first_in_second = users_246.loc[users_246['user_id'].isin(users_247['user_id'])]['user_id']\n",
    "first_in_third = users_246.loc[users_246['user_id'].isin(users_248['user_id'])]['user_id']\n",
    "second_in_third = users_247.loc[users_247['user_id'].isin(users_248['user_id'])]['user_id']"
   ]
  },
  {
   "cell_type": "code",
   "execution_count": 43,
   "metadata": {},
   "outputs": [],
   "source": [
    "# Combine users and remove duplicate values\n",
    "repeating_users = pd.concat([first_in_second, first_in_third, second_in_third], axis=0).drop_duplicates()"
   ]
  },
  {
   "cell_type": "code",
   "execution_count": 44,
   "metadata": {},
   "outputs": [
    {
     "data": {
      "text/plain": [
       "0"
      ]
     },
     "execution_count": 44,
     "metadata": {},
     "output_type": "execute_result"
    }
   ],
   "source": [
    "# Let's count the number of users in both groups\n",
    "repeating_users.shape[0]"
   ]
  },
  {
   "cell_type": "markdown",
   "metadata": {},
   "source": [
    "**Conclusion: the division of users into groups is performed correctly.**"
   ]
  },
  {
   "cell_type": "markdown",
   "metadata": {},
   "source": [
    "#### Let's check how many users are in each experimental group"
   ]
  },
  {
   "cell_type": "code",
   "execution_count": 45,
   "metadata": {},
   "outputs": [
    {
     "data": {
      "text/plain": [
       "2484"
      ]
     },
     "metadata": {},
     "output_type": "display_data"
    },
    {
     "data": {
      "text/plain": [
       "2513"
      ]
     },
     "metadata": {},
     "output_type": "display_data"
    },
    {
     "data": {
      "text/plain": [
       "2537"
      ]
     },
     "execution_count": 45,
     "metadata": {},
     "output_type": "execute_result"
    }
   ],
   "source": [
    "display(users_246['user_id'].nunique())\n",
    "display(users_247['user_id'].nunique())\n",
    "users_248['user_id'].nunique()"
   ]
  },
  {
   "cell_type": "markdown",
   "metadata": {},
   "source": [
    "**Conclusion: in group 246 - 2,484 users, in group 247 - 2,513, in group 248 - 2,537.**"
   ]
  },
  {
   "cell_type": "markdown",
   "metadata": {},
   "source": [
    "#### There are 2 control groups for an A/A experiment to check the correctness of all mechanisms and calculations. Let's check whether the statistical criteria find the difference between samples 246 and 247."
   ]
  },
  {
   "cell_type": "code",
   "execution_count": 46,
   "metadata": {},
   "outputs": [
    {
     "data": {
      "text/html": [
       "<div>\n",
       "<style scoped>\n",
       "    .dataframe tbody tr th:only-of-type {\n",
       "        vertical-align: middle;\n",
       "    }\n",
       "\n",
       "    .dataframe tbody tr th {\n",
       "        vertical-align: top;\n",
       "    }\n",
       "\n",
       "    .dataframe thead th {\n",
       "        text-align: right;\n",
       "    }\n",
       "</style>\n",
       "<table border=\"1\" class=\"dataframe\">\n",
       "  <thead>\n",
       "    <tr style=\"text-align: right;\">\n",
       "      <th></th>\n",
       "      <th>event_name</th>\n",
       "      <th>user_id</th>\n",
       "      <th>event_timestamp</th>\n",
       "      <th>group</th>\n",
       "      <th>date_time</th>\n",
       "      <th>date</th>\n",
       "    </tr>\n",
       "  </thead>\n",
       "  <tbody>\n",
       "    <tr>\n",
       "      <th>2826</th>\n",
       "      <td>Tutorial</td>\n",
       "      <td>3737462046622621720</td>\n",
       "      <td>1564618048</td>\n",
       "      <td>246</td>\n",
       "      <td>2019-08-01 00:07:28</td>\n",
       "      <td>2019-08-01</td>\n",
       "    </tr>\n",
       "    <tr>\n",
       "      <th>2827</th>\n",
       "      <td>MainScreenAppear</td>\n",
       "      <td>3737462046622621720</td>\n",
       "      <td>1564618080</td>\n",
       "      <td>246</td>\n",
       "      <td>2019-08-01 00:08:00</td>\n",
       "      <td>2019-08-01</td>\n",
       "    </tr>\n",
       "    <tr>\n",
       "      <th>2828</th>\n",
       "      <td>MainScreenAppear</td>\n",
       "      <td>3737462046622621720</td>\n",
       "      <td>1564618135</td>\n",
       "      <td>246</td>\n",
       "      <td>2019-08-01 00:08:55</td>\n",
       "      <td>2019-08-01</td>\n",
       "    </tr>\n",
       "    <tr>\n",
       "      <th>2829</th>\n",
       "      <td>OffersScreenAppear</td>\n",
       "      <td>3737462046622621720</td>\n",
       "      <td>1564618138</td>\n",
       "      <td>246</td>\n",
       "      <td>2019-08-01 00:08:58</td>\n",
       "      <td>2019-08-01</td>\n",
       "    </tr>\n",
       "    <tr>\n",
       "      <th>2830</th>\n",
       "      <td>MainScreenAppear</td>\n",
       "      <td>1433840883824088890</td>\n",
       "      <td>1564618139</td>\n",
       "      <td>247</td>\n",
       "      <td>2019-08-01 00:08:59</td>\n",
       "      <td>2019-08-01</td>\n",
       "    </tr>\n",
       "  </tbody>\n",
       "</table>\n",
       "</div>"
      ],
      "text/plain": [
       "              event_name              user_id  event_timestamp  group  \\\n",
       "2826            Tutorial  3737462046622621720       1564618048    246   \n",
       "2827    MainScreenAppear  3737462046622621720       1564618080    246   \n",
       "2828    MainScreenAppear  3737462046622621720       1564618135    246   \n",
       "2829  OffersScreenAppear  3737462046622621720       1564618138    246   \n",
       "2830    MainScreenAppear  1433840883824088890       1564618139    247   \n",
       "\n",
       "               date_time       date  \n",
       "2826 2019-08-01 00:07:28 2019-08-01  \n",
       "2827 2019-08-01 00:08:00 2019-08-01  \n",
       "2828 2019-08-01 00:08:55 2019-08-01  \n",
       "2829 2019-08-01 00:08:58 2019-08-01  \n",
       "2830 2019-08-01 00:08:59 2019-08-01  "
      ]
     },
     "execution_count": 46,
     "metadata": {},
     "output_type": "execute_result"
    }
   ],
   "source": [
    "data_new.head()"
   ]
  },
  {
   "cell_type": "code",
   "execution_count": 47,
   "metadata": {},
   "outputs": [
    {
     "data": {
      "text/plain": [
       "2450"
      ]
     },
     "metadata": {},
     "output_type": "display_data"
    },
    {
     "data": {
      "text/plain": [
       "2476"
      ]
     },
     "execution_count": 47,
     "metadata": {},
     "output_type": "execute_result"
    }
   ],
   "source": [
    "# Let's choose the most popular event and count the number of users who committed this event in each of the control groups\n",
    "success_1 = data_new.query('event_name == \"MainScreenAppear\" and group == 246')['user_id'].nunique()\n",
    "success_2 = data_new.query('event_name == \"MainScreenAppear\" and group == 247')['user_id'].nunique()\n",
    "display(success_1)\n",
    "success_2"
   ]
  },
  {
   "cell_type": "code",
   "execution_count": 48,
   "metadata": {},
   "outputs": [
    {
     "data": {
      "text/plain": [
       "2484"
      ]
     },
     "metadata": {},
     "output_type": "display_data"
    },
    {
     "data": {
      "text/plain": [
       "2513"
      ]
     },
     "execution_count": 48,
     "metadata": {},
     "output_type": "execute_result"
    }
   ],
   "source": [
    "# Let's calculate the total number of users in each of the control groups\n",
    "trials_1 = data_new.query('group == 246')['user_id'].nunique()\n",
    "trials_2 = data_new.query('group == 247')['user_id'].nunique()\n",
    "display(trials_1)\n",
    "trials_2"
   ]
  },
  {
   "cell_type": "code",
   "execution_count": 49,
   "metadata": {},
   "outputs": [
    {
     "data": {
      "text/plain": [
       "0.9863123993558777"
      ]
     },
     "metadata": {},
     "output_type": "display_data"
    },
    {
     "data": {
      "text/plain": [
       "0.9852765618782332"
      ]
     },
     "execution_count": 49,
     "metadata": {},
     "output_type": "execute_result"
    }
   ],
   "source": [
    "# Let's calculate the proportion of users who committed this event in each of the control groups\n",
    "percentage_1 = success_1 / trials_1\n",
    "percentage_2 = success_2 / trials_2\n",
    "display(percentage_1)\n",
    "percentage_2"
   ]
  },
  {
   "cell_type": "markdown",
   "metadata": {},
   "source": [
    "##### Let's check if there are differences in the groups by comparing their shares"
   ]
  },
  {
   "cell_type": "markdown",
   "metadata": {},
   "source": [
    "**This task is the task of comparing the proportions of two general aggregates by samples from them.**\n",
    "\n",
    "**Define null and alternative hypotheses. H0 - there is no statistically significant difference between the shares, H1 - there is a statistically significant difference between the shares.**\n",
    "\n",
    "**We will proceed as follows: first we calculate z_value - the difference between the proportions observed in the samples, according to the central limit theorem z_value is also normally distributed with an average of zero and and a standard deviation of one.**\n",
    "\n",
    "**If the proportions were equal, the difference between them would be zero. Therefore, next we will count how far z_value has gone from zero. \n",
    "We will look for the probability to get the difference z_value from 0. Ie, since we have a two-sided hypothesis, then the desired probability is the right and left areas under the distribution graph. \n",
    "We can find the right area under the graph using the formula 1 - distr.cdf(abs(z_value)).\n",
    "Accordingly, the final p-value will be equal to (1 - distr.cdf(abs(z_value))) * 2.**"
   ]
  },
  {
   "cell_type": "markdown",
   "metadata": {},
   "source": [
    "##### Let's start calculating the difference in shares between groups of users who committed the MainScreenAppear event."
   ]
  },
  {
   "cell_type": "code",
   "execution_count": 64,
   "metadata": {},
   "outputs": [
    {
     "name": "stdout",
     "output_type": "stream",
     "text": [
      "p_value:  0.7570597232046099\n",
      "It was not possible to reject the null hypothesis, there is no reason to consider the shares different\n"
     ]
    }
   ],
   "source": [
    "alpha = .05 # level of statistical significance\n",
    "\n",
    "# We determine the number of users who have committed an event in each group and the total number of users in each group\n",
    "successes = np.array([success_1, success_2])\n",
    "trials = np.array([trials_1, trials_2])\n",
    "\n",
    "# the proportion of success in the first group:\n",
    "p1 = percentage_1\n",
    "\n",
    "# the proportion of success in the second group:\n",
    "p2 = percentage_2\n",
    "\n",
    "# the proportion of success in the combined dataset:\n",
    "p_combined = (successes[0] + successes[1]) / (trials[0] + trials[1])\n",
    "\n",
    "# the difference in proportions in datasets\n",
    "difference = p1 - p2\n",
    "\n",
    "# counting z_value\n",
    "z_value = difference / mth.sqrt(p_combined * (1 - p_combined) * (1/trials[0] + 1/trials[1]))\n",
    "\n",
    "# setting the standard normal distribution (mean 0, standard deviation 1)\n",
    "distr = st.norm(0, 1)\n",
    "\n",
    "# counting p_value\n",
    "p_value = (1 - distr.cdf(abs(z_value))) * 2\n",
    "\n",
    "print('p_value: ', p_value)\n",
    "\n",
    "if p_value < alpha:\n",
    "    print('We reject the null hypothesis: there is a significant difference between the shares')\n",
    "else:\n",
    "    print('It was not possible to reject the null hypothesis, there is no reason to consider the shares different') \n"
   ]
  },
  {
   "cell_type": "markdown",
   "metadata": {},
   "source": [
    "**Conclusion: there is no statistically significant difference between the control groups of users who committed the MainScreenAppear event.**"
   ]
  },
  {
   "cell_type": "markdown",
   "metadata": {},
   "source": [
    "**Let's check the differences between the control groups in the context of other events. To do this, we will put the calculation algorithm in the function.** "
   ]
  },
  {
   "cell_type": "code",
   "execution_count": 65,
   "metadata": {},
   "outputs": [],
   "source": [
    "def a_a_test(table, first_group, second_group, name_of_event):\n",
    "    success_1 = table[np.logical_and(table['event_name'] == name_of_event, table['group'] == first_group)]['user_id'].nunique()\n",
    "    success_2 = table[np.logical_and(table['event_name'] == name_of_event, table['group'] == second_group)]['user_id'].nunique()\n",
    "    \n",
    "    trial_1 = table[table['group'] == first_group]['user_id'].nunique()\n",
    "    trial_2 = table[table['group'] == second_group]['user_id'].nunique()\n",
    "    \n",
    "    percentage_1 = success_1 / trial_1\n",
    "    percentage_2 = success_2 / trial_2\n",
    "    \n",
    "    alpha = .05\n",
    "    \n",
    "    successes = np.array([success_1, success_2])\n",
    "    trials = np.array([trial_1, trial_2])\n",
    "    \n",
    "    p1 = percentage_1\n",
    "    p2 = percentage_2\n",
    "    p_combined = (successes[0] + successes[1]) / (trials[0] + trials[1])\n",
    "    difference = p1 - p2\n",
    "    \n",
    "    z_value = difference / mth.sqrt(p_combined * (1 - p_combined) * (1/trials[0] + 1/trials[1]))\n",
    "    \n",
    "    distr = st.norm(0, 1)\n",
    "    \n",
    "    p_value = (1 - distr.cdf(abs(z_value))) * 2\n",
    "    \n",
    "    print('p_value: ', p_value)\n",
    "    \n",
    "    if p_value < alpha:\n",
    "        print('We reject the null hypothesis: there is a significant difference between the shares')\n",
    "    else:\n",
    "        print('It was not possible to reject the null hypothesis, there is no reason to consider the shares different')\n",
    "        \n",
    "    print('Event name: ', name_of_event)\n",
    "    print('The percentage of users in the control group of 246 who committed the event: ', round(percentage_1, 4))\n",
    "    print('The percentage of users in the control group of 247 who committed the event ', round(percentage_2, 4))"
   ]
  },
  {
   "cell_type": "code",
   "execution_count": 66,
   "metadata": {},
   "outputs": [
    {
     "name": "stdout",
     "output_type": "stream",
     "text": [
      "p_value:  0.7570597232046099\n",
      "It was not possible to reject the null hypothesis, there is no reason to consider the shares different\n",
      "Event name:  MainScreenAppear\n",
      "The percentage of users in the control group of 246 who committed the event:  0.9863\n",
      "The percentage of users in the control group of 247 who committed the event  0.9853\n"
     ]
    }
   ],
   "source": [
    "# Let's check that the function is working correctly\n",
    "a_a_test(table=data_new, first_group=246, second_group=247, name_of_event='MainScreenAppear')"
   ]
  },
  {
   "cell_type": "markdown",
   "metadata": {},
   "source": [
    "##### Let's check the differences between the control groups in the context of the Tutorial event."
   ]
  },
  {
   "cell_type": "code",
   "execution_count": 67,
   "metadata": {},
   "outputs": [
    {
     "name": "stdout",
     "output_type": "stream",
     "text": [
      "p_value:  0.9376996189257114\n",
      "It was not possible to reject the null hypothesis, there is no reason to consider the shares different\n",
      "Event name:  Tutorial\n",
      "The percentage of users in the control group of 246 who committed the event:  0.1119\n",
      "The percentage of users in the control group of 247 who committed the event  0.1126\n"
     ]
    }
   ],
   "source": [
    "a_a_test(table=data_new, first_group=246, second_group=247, name_of_event='Tutorial')"
   ]
  },
  {
   "cell_type": "markdown",
   "metadata": {},
   "source": [
    "**Conclusion: there is no statistically significant difference between the control groups of users who committed the Tutorial event.**"
   ]
  },
  {
   "cell_type": "markdown",
   "metadata": {},
   "source": [
    "##### Let's check the differences between the control groups in the context of the OffersScreenAppear event."
   ]
  },
  {
   "cell_type": "code",
   "execution_count": 68,
   "metadata": {},
   "outputs": [
    {
     "name": "stdout",
     "output_type": "stream",
     "text": [
      "p_value:  0.2480954578522181\n",
      "It was not possible to reject the null hypothesis, there is no reason to consider the shares different\n",
      "Event name:  OffersScreenAppear\n",
      "The percentage of users in the control group of 246 who committed the event:  0.6208\n",
      "The percentage of users in the control group of 247 who committed the event  0.6049\n"
     ]
    }
   ],
   "source": [
    "a_a_test(table=data_new, first_group=246, second_group=247, name_of_event='OffersScreenAppear')"
   ]
  },
  {
   "cell_type": "markdown",
   "metadata": {},
   "source": [
    "**Conclusion: there is no statistically significant difference between the control groups of users who committed the OffersScreenAppear event.**"
   ]
  },
  {
   "cell_type": "markdown",
   "metadata": {},
   "source": [
    "##### Let's check the differences between the control groups in the context of the CartScreenAppear event."
   ]
  },
  {
   "cell_type": "code",
   "execution_count": 69,
   "metadata": {},
   "outputs": [
    {
     "name": "stdout",
     "output_type": "stream",
     "text": [
      "p_value:  0.22883372237997213\n",
      "It was not possible to reject the null hypothesis, there is no reason to consider the shares different\n",
      "Event name:  CartScreenAppear\n",
      "The percentage of users in the control group of 246 who committed the event:  0.5097\n",
      "The percentage of users in the control group of 247 who committed the event  0.4926\n"
     ]
    }
   ],
   "source": [
    "a_a_test(table=data_new, first_group=246, second_group=247, name_of_event='CartScreenAppear')"
   ]
  },
  {
   "cell_type": "markdown",
   "metadata": {},
   "source": [
    "**Conclusion: there is no statistically significant difference between the control groups of users who committed the CartScreenAppear event.**"
   ]
  },
  {
   "cell_type": "markdown",
   "metadata": {},
   "source": [
    "##### Let's check the differences between the control groups in the context of the PaymentScreenSuccessful event."
   ]
  },
  {
   "cell_type": "code",
   "execution_count": 70,
   "metadata": {},
   "outputs": [
    {
     "name": "stdout",
     "output_type": "stream",
     "text": [
      "p_value:  0.11456679313141849\n",
      "It was not possible to reject the null hypothesis, there is no reason to consider the shares different\n",
      "Event name:  PaymentScreenSuccessful\n",
      "The percentage of users in the control group of 246 who committed the event:  0.4831\n",
      "The percentage of users in the control group of 247 who committed the event  0.4608\n"
     ]
    }
   ],
   "source": [
    "a_a_test(table=data_new, first_group=246, second_group=247, name_of_event='PaymentScreenSuccessful')"
   ]
  },
  {
   "cell_type": "markdown",
   "metadata": {},
   "source": [
    "**Conclusion: there is no statistically significant difference between the control groups of users who committed the PaymentScreenSuccessful event.**"
   ]
  },
  {
   "cell_type": "markdown",
   "metadata": {},
   "source": [
    "#### Conclusion: the division into groups works correctly."
   ]
  },
  {
   "cell_type": "markdown",
   "metadata": {},
   "source": [
    "#### Проверим, находят ли статистические критерии разницу между контрольной группой 246 и эксперементальной группой 248 "
   ]
  },
  {
   "cell_type": "code",
   "execution_count": 71,
   "metadata": {},
   "outputs": [],
   "source": [
    "# First, we will slightly adjust the function\n",
    "def a_b_test(table, first_group, second_group, name_of_event):\n",
    "    success_1 = table[np.logical_and(table['event_name'] == name_of_event, table['group'] == first_group)]['user_id'].nunique()\n",
    "    success_2 = table[np.logical_and(table['event_name'] == name_of_event, table['group'] == second_group)]['user_id'].nunique()\n",
    "    \n",
    "    trial_1 = table[table['group'] == first_group]['user_id'].nunique()\n",
    "    trial_2 = table[table['group'] == second_group]['user_id'].nunique()\n",
    "    \n",
    "    percentage_1 = success_1 / trial_1\n",
    "    percentage_2 = success_2 / trial_2\n",
    "    \n",
    "    alpha = .05\n",
    "    \n",
    "    successes = np.array([success_1, success_2])\n",
    "    trials = np.array([trial_1, trial_2])\n",
    "    \n",
    "    p1 = percentage_1\n",
    "    p2 = percentage_2\n",
    "    p_combined = (successes[0] + successes[1]) / (trials[0] + trials[1])\n",
    "    difference = p1 - p2\n",
    "    \n",
    "    z_value = difference / mth.sqrt(p_combined * (1 - p_combined) * (1/trials[0] + 1/trials[1]))\n",
    "    \n",
    "    distr = st.norm(0, 1)\n",
    "    \n",
    "    p_value = (1 - distr.cdf(abs(z_value))) * 2\n",
    "    \n",
    "    print('p_value: ', p_value)\n",
    "    \n",
    "    if p_value < alpha:\n",
    "        print('We reject the null hypothesis: there is a significant difference between the shares')\n",
    "    else:\n",
    "        print('It was not possible to reject the null hypothesis, there is no reason to consider the shares different')\n",
    "        \n",
    "    print('Event name: ', name_of_event)\n",
    "    print(f'Percentage of users in the control group {first_group}, who committed the event: {round(percentage_1, 4)}')\n",
    "    print(f'Percentage of users in the experimental group {second_group}, who committed the event: {round(percentage_2, 4)}')\n",
    "    print('-------------------------------------------------------------------')"
   ]
  },
  {
   "cell_type": "markdown",
   "metadata": {},
   "source": [
    "##### Let's check the differences between the groups in the context of all events."
   ]
  },
  {
   "cell_type": "code",
   "execution_count": 72,
   "metadata": {},
   "outputs": [
    {
     "name": "stdout",
     "output_type": "stream",
     "text": [
      "p_value:  0.8264294010087645\n",
      "It was not possible to reject the null hypothesis, there is no reason to consider the shares different\n",
      "Event name:  Tutorial\n",
      "Percentage of users in the control group 246, who committed the event: 0.1119\n",
      "Percentage of users in the experimental group 248, who committed the event: 0.11\n",
      "-------------------------------------------------------------------\n",
      "p_value:  0.2949721933554552\n",
      "It was not possible to reject the null hypothesis, there is no reason to consider the shares different\n",
      "Event name:  MainScreenAppear\n",
      "Percentage of users in the control group 246, who committed the event: 0.9863\n",
      "Percentage of users in the experimental group 248, who committed the event: 0.9827\n",
      "-------------------------------------------------------------------\n",
      "p_value:  0.20836205402738917\n",
      "It was not possible to reject the null hypothesis, there is no reason to consider the shares different\n",
      "Event name:  OffersScreenAppear\n",
      "Percentage of users in the control group 246, who committed the event: 0.6208\n",
      "Percentage of users in the experimental group 248, who committed the event: 0.6035\n",
      "-------------------------------------------------------------------\n",
      "p_value:  0.07842923237520116\n",
      "It was not possible to reject the null hypothesis, there is no reason to consider the shares different\n",
      "Event name:  CartScreenAppear\n",
      "Percentage of users in the control group 246, who committed the event: 0.5097\n",
      "Percentage of users in the experimental group 248, who committed the event: 0.4848\n",
      "-------------------------------------------------------------------\n",
      "p_value:  0.2122553275697796\n",
      "It was not possible to reject the null hypothesis, there is no reason to consider the shares different\n",
      "Event name:  PaymentScreenSuccessful\n",
      "Percentage of users in the control group 246, who committed the event: 0.4831\n",
      "Percentage of users in the experimental group 248, who committed the event: 0.4655\n",
      "-------------------------------------------------------------------\n"
     ]
    }
   ],
   "source": [
    "for j in data_new['event_name'].unique():\n",
    "    a_b_test(table=data_new, first_group=246, second_group=248, name_of_event=j)"
   ]
  },
  {
   "cell_type": "markdown",
   "metadata": {},
   "source": [
    "#### Conclusion: there is no statistically significant difference between the control group 246 and the experimental group 248."
   ]
  },
  {
   "cell_type": "markdown",
   "metadata": {},
   "source": [
    "#### Let's check whether the statistical criteria find the difference between the control group 247 and the experimental group 248."
   ]
  },
  {
   "cell_type": "markdown",
   "metadata": {},
   "source": [
    "##### Let's check the differences between the groups in the context of all events."
   ]
  },
  {
   "cell_type": "code",
   "execution_count": 73,
   "metadata": {},
   "outputs": [
    {
     "name": "stdout",
     "output_type": "stream",
     "text": [
      "p_value:  0.765323922474501\n",
      "It was not possible to reject the null hypothesis, there is no reason to consider the shares different\n",
      "Event name:  Tutorial\n",
      "Percentage of users in the control group 247, who committed the event: 0.1126\n",
      "Percentage of users in the experimental group 248, who committed the event: 0.11\n",
      "-------------------------------------------------------------------\n",
      "p_value:  0.4587053616621515\n",
      "It was not possible to reject the null hypothesis, there is no reason to consider the shares different\n",
      "Event name:  MainScreenAppear\n",
      "Percentage of users in the control group 247, who committed the event: 0.9853\n",
      "Percentage of users in the experimental group 248, who committed the event: 0.9827\n",
      "-------------------------------------------------------------------\n",
      "p_value:  0.9197817830592261\n",
      "It was not possible to reject the null hypothesis, there is no reason to consider the shares different\n",
      "Event name:  OffersScreenAppear\n",
      "Percentage of users in the control group 247, who committed the event: 0.6049\n",
      "Percentage of users in the experimental group 248, who committed the event: 0.6035\n",
      "-------------------------------------------------------------------\n",
      "p_value:  0.5786197879539783\n",
      "It was not possible to reject the null hypothesis, there is no reason to consider the shares different\n",
      "Event name:  CartScreenAppear\n",
      "Percentage of users in the control group 247, who committed the event: 0.4926\n",
      "Percentage of users in the experimental group 248, who committed the event: 0.4848\n",
      "-------------------------------------------------------------------\n",
      "p_value:  0.7373415053803964\n",
      "It was not possible to reject the null hypothesis, there is no reason to consider the shares different\n",
      "Event name:  PaymentScreenSuccessful\n",
      "Percentage of users in the control group 247, who committed the event: 0.4608\n",
      "Percentage of users in the experimental group 248, who committed the event: 0.4655\n",
      "-------------------------------------------------------------------\n"
     ]
    }
   ],
   "source": [
    "for j in data_new['event_name'].unique():\n",
    "    a_b_test(table=data_new, first_group=247, second_group=248, name_of_event=j)"
   ]
  },
  {
   "cell_type": "markdown",
   "metadata": {},
   "source": [
    "#### Conclusion: there is no statistically significant difference between the control group 247 and the experimental group 248."
   ]
  },
  {
   "cell_type": "markdown",
   "metadata": {},
   "source": [
    "#### Let's check whether the statistical criteria find the difference between the combined control group (246 and 247) and the experimental group 248."
   ]
  },
  {
   "cell_type": "code",
   "execution_count": 75,
   "metadata": {},
   "outputs": [],
   "source": [
    "# First, we will slightly adjust the function\n",
    "def a_full_b_test(table, group_number, name_of_event):\n",
    "    success_1 = table[np.logical_and(table['event_name'] == name_of_event, table['group'] != group_number)]['user_id'].nunique()\n",
    "    success_2 = table[np.logical_and(table['event_name'] == name_of_event, table['group'] == group_number)]['user_id'].nunique()\n",
    "    \n",
    "    trial_1 = table[table['group'] != group_number]['user_id'].nunique()\n",
    "    trial_2 = table[table['group'] == group_number]['user_id'].nunique()\n",
    "    \n",
    "    percentage_1 = success_1 / trial_1\n",
    "    percentage_2 = success_2 / trial_2\n",
    "    \n",
    "    alpha = .05\n",
    "    \n",
    "    successes = np.array([success_1, success_2])\n",
    "    trials = np.array([trial_1, trial_2])\n",
    "    \n",
    "    p1 = percentage_1\n",
    "    p2 = percentage_2\n",
    "    p_combined = (successes[0] + successes[1]) / (trials[0] + trials[1])\n",
    "    difference = p1 - p2\n",
    "    \n",
    "    z_value = difference / mth.sqrt(p_combined * (1 - p_combined) * (1/trials[0] + 1/trials[1]))\n",
    "    \n",
    "    distr = st.norm(0, 1)\n",
    "    \n",
    "    p_value = (1 - distr.cdf(abs(z_value))) * 2\n",
    "    \n",
    "    print('p_value: ', p_value)\n",
    "    \n",
    "    if p_value < alpha:\n",
    "        print('We reject the null hypothesis: there is a significant difference between the shares')\n",
    "    else:\n",
    "        print('It was not possible to reject the null hypothesis, there is no reason to consider the shares different')\n",
    "        \n",
    "    print('Event name: ', name_of_event)\n",
    "    print(f'The percentage of users in the combined control group who committed the event: {round(percentage_1, 4)}')\n",
    "    print(f'The percentage of users in the experimental group who completed the event: {round(percentage_2, 4)}')\n",
    "    print('-------------------------------------------------------------------')"
   ]
  },
  {
   "cell_type": "code",
   "execution_count": 76,
   "metadata": {
    "scrolled": false
   },
   "outputs": [
    {
     "name": "stdout",
     "output_type": "stream",
     "text": [
      "p_value:  0.764862472531507\n",
      "It was not possible to reject the null hypothesis, there is no reason to consider the shares different\n",
      "Event name:  Tutorial\n",
      "The percentage of users in the combined control group who committed the event: 0.1123\n",
      "The percentage of users in the experimental group who completed the event: 0.11\n",
      "-------------------------------------------------------------------\n",
      "p_value:  0.29424526837179577\n",
      "It was not possible to reject the null hypothesis, there is no reason to consider the shares different\n",
      "Event name:  MainScreenAppear\n",
      "The percentage of users in the combined control group who committed the event: 0.9858\n",
      "The percentage of users in the experimental group who completed the event: 0.9827\n",
      "-------------------------------------------------------------------\n",
      "p_value:  0.43425549655188256\n",
      "It was not possible to reject the null hypothesis, there is no reason to consider the shares different\n",
      "Event name:  OffersScreenAppear\n",
      "The percentage of users in the combined control group who committed the event: 0.6128\n",
      "The percentage of users in the experimental group who completed the event: 0.6035\n",
      "-------------------------------------------------------------------\n",
      "p_value:  0.18175875284404386\n",
      "It was not possible to reject the null hypothesis, there is no reason to consider the shares different\n",
      "Event name:  CartScreenAppear\n",
      "The percentage of users in the combined control group who committed the event: 0.5011\n",
      "The percentage of users in the experimental group who completed the event: 0.4848\n",
      "-------------------------------------------------------------------\n",
      "p_value:  0.6004294282308704\n",
      "It was not possible to reject the null hypothesis, there is no reason to consider the shares different\n",
      "Event name:  PaymentScreenSuccessful\n",
      "The percentage of users in the combined control group who committed the event: 0.4719\n",
      "The percentage of users in the experimental group who completed the event: 0.4655\n",
      "-------------------------------------------------------------------\n"
     ]
    }
   ],
   "source": [
    "for j in data_new['event_name'].unique():\n",
    "    a_full_b_test(table=data_new, group_number=248, name_of_event=j)"
   ]
  },
  {
   "cell_type": "markdown",
   "metadata": {},
   "source": [
    "#### Conclusion: there is no statistically significant difference between the combined control group (246 and 247) and the experimental group 248."
   ]
  },
  {
   "cell_type": "markdown",
   "metadata": {},
   "source": [
    "### The general conclusion of the experiment:\n",
    "First, we made sure that there were no duplicate users in the groups who could influence the results of the experiment. Next, we conducted an experiment to make sure that the splitting of users into groups was performed correctly.\n",
    "After that, we started the A/B experiment. \n",
    "\n",
    "During it, we found out that there was no statistically significant difference between the combined control group (246 and 247) and the experimental group 248. This means that the new font did not affect user behavior in any way, and therefore the experiment should be considered unsuccessful and there is no point in changing fonts throughout the application.\n",
    "\n",
    "When testing statistical hypotheses, we used a significance level equal to 0.05. This means that every twentieth test can give a false result. In total, during the execution of the project, we conducted 21 statistical tests (taking into account the verification of the correctness of the a_a_test function, if without it, then 20 statistical tests). Accordingly, there was a chance that one of the tests would show an incorrect result, but since all the tests showed the same result, in my opinion this suggests that there is no error. Accordingly, I believe that the significance level was chosen correctly."
   ]
  },
  {
   "cell_type": "markdown",
   "metadata": {},
   "source": [
    "# The general conclusion of the project:\n",
    "In this project, we analyzed the data of a startup that sells food. We needed to figure out how the users of our mobile application behave. \n",
    "\n",
    "The project is divided into several parts: in the first part we studied the general information about the data presented.\n",
    "\n",
    "In the second part, we preprocessed the data, checked for omissions, checked for explicit and implicit duplicates. 413 explicit duplicates were detected and removed. No implicit duplicates or omissions were found.\n",
    "\n",
    "In the third part, we were engaged in research data analysis. We were able to establish the following:\n",
    "1. The table shows 243,713 logs and 7,551 unique users.\n",
    "2. It was determined that on average there are 32 events per user.\n",
    "3. It was determined that the data were incomplete before 1.08.2019 and it was decided to exclude them from further consideration.\n",
    "\n",
    "In the fourth part, we studied the funnel of events. We were able to establish the following:\n",
    "1. There are 5 events in the logs: MainScreenAppear, MainScreenAppear, MainScreenAppear, MainScreenAppear, Tutorial. The most common event is MainScreenAppear.\n",
    "2. When analyzing the number of users who completed each event, it was concluded that the Tutorial event is not a mandatory event for users, so it was excluded when calculating the funnel.\n",
    "3. It was calculated what proportion of users passes to the next step of the funnel. We found out that most of the users are lost at the OffersScreenAppear step.\n",
    "4. It was calculated that 48% of users reach the payment from the first event.\n",
    "\n",
    "In the fifth part, we studied the results of the experiment. First, we made sure that there were no duplicate users in the groups that could influence the results of the experiment. Next, we conducted an experiment to make sure that the splitting of users into groups was performed correctly.\n",
    "After that, we started the A/B experiment. \n",
    "During it, we found out that the new font did not affect user behavior in any way, and therefore the experiment should be recognized as unsuccessful and there is no point in changing fonts throughout the application."
   ]
  }
 ],
 "metadata": {
  "ExecuteTimeLog": [
   {
    "duration": 1447,
    "start_time": "2023-07-13T04:15:29.682Z"
   },
   {
    "duration": 990,
    "start_time": "2023-07-13T04:15:31.131Z"
   },
   {
    "duration": 15,
    "start_time": "2023-07-13T04:15:32.123Z"
   },
   {
    "duration": 44,
    "start_time": "2023-07-13T04:15:32.140Z"
   },
   {
    "duration": 14,
    "start_time": "2023-07-13T04:15:32.188Z"
   },
   {
    "duration": 45,
    "start_time": "2023-07-13T04:15:32.204Z"
   },
   {
    "duration": 95,
    "start_time": "2023-07-13T04:15:32.251Z"
   },
   {
    "duration": 73,
    "start_time": "2023-07-13T04:15:32.348Z"
   },
   {
    "duration": 90,
    "start_time": "2023-07-13T04:15:32.423Z"
   },
   {
    "duration": 62,
    "start_time": "2023-07-13T04:15:32.515Z"
   },
   {
    "duration": 34,
    "start_time": "2023-07-13T04:15:32.579Z"
   },
   {
    "duration": 12,
    "start_time": "2023-07-13T04:15:32.614Z"
   },
   {
    "duration": 38,
    "start_time": "2023-07-13T04:15:32.628Z"
   },
   {
    "duration": 79,
    "start_time": "2023-07-13T04:15:32.669Z"
   },
   {
    "duration": 24,
    "start_time": "2023-07-13T04:15:32.750Z"
   },
   {
    "duration": 79,
    "start_time": "2023-07-13T04:15:32.776Z"
   },
   {
    "duration": 19,
    "start_time": "2023-07-13T04:15:32.857Z"
   },
   {
    "duration": 40,
    "start_time": "2023-07-13T04:15:32.878Z"
   },
   {
    "duration": 24,
    "start_time": "2023-07-13T04:15:32.920Z"
   },
   {
    "duration": 33,
    "start_time": "2023-07-13T04:15:32.946Z"
   },
   {
    "duration": 323,
    "start_time": "2023-07-13T04:15:32.981Z"
   },
   {
    "duration": 17,
    "start_time": "2023-07-13T04:15:33.308Z"
   },
   {
    "duration": 19,
    "start_time": "2023-07-13T04:15:33.327Z"
   },
   {
    "duration": 20,
    "start_time": "2023-07-13T04:15:33.348Z"
   },
   {
    "duration": 50,
    "start_time": "2023-07-13T04:15:33.370Z"
   },
   {
    "duration": 65,
    "start_time": "2023-07-13T04:15:33.422Z"
   },
   {
    "duration": 38,
    "start_time": "2023-07-13T04:15:33.489Z"
   },
   {
    "duration": 89,
    "start_time": "2023-07-13T04:15:33.529Z"
   },
   {
    "duration": 11,
    "start_time": "2023-07-13T04:15:33.620Z"
   },
   {
    "duration": 34,
    "start_time": "2023-07-13T04:15:33.632Z"
   },
   {
    "duration": 35,
    "start_time": "2023-07-13T04:15:33.667Z"
   },
   {
    "duration": 20,
    "start_time": "2023-07-13T04:15:33.704Z"
   },
   {
    "duration": 35,
    "start_time": "2023-07-13T04:15:33.726Z"
   },
   {
    "duration": 214,
    "start_time": "2023-07-13T04:15:33.763Z"
   },
   {
    "duration": 10,
    "start_time": "2023-07-13T04:15:33.980Z"
   },
   {
    "duration": 31,
    "start_time": "2023-07-13T04:15:33.992Z"
   },
   {
    "duration": 42,
    "start_time": "2023-07-13T04:15:34.025Z"
   },
   {
    "duration": 12,
    "start_time": "2023-07-13T04:15:34.069Z"
   },
   {
    "duration": 72,
    "start_time": "2023-07-13T04:15:34.083Z"
   },
   {
    "duration": 60,
    "start_time": "2023-07-13T04:15:34.157Z"
   },
   {
    "duration": 42,
    "start_time": "2023-07-13T04:15:34.221Z"
   },
   {
    "duration": 35,
    "start_time": "2023-07-13T04:15:34.264Z"
   },
   {
    "duration": 45,
    "start_time": "2023-07-13T04:15:34.301Z"
   },
   {
    "duration": 24,
    "start_time": "2023-07-13T04:15:34.348Z"
   },
   {
    "duration": 14,
    "start_time": "2023-07-13T04:15:34.374Z"
   },
   {
    "duration": 24,
    "start_time": "2023-07-13T04:15:34.389Z"
   },
   {
    "duration": 31,
    "start_time": "2023-07-13T04:15:34.415Z"
   },
   {
    "duration": 125,
    "start_time": "2023-07-13T04:15:34.448Z"
   },
   {
    "duration": 53,
    "start_time": "2023-07-13T04:15:34.574Z"
   },
   {
    "duration": 54,
    "start_time": "2023-07-13T04:15:34.629Z"
   },
   {
    "duration": 71,
    "start_time": "2023-07-13T04:15:34.685Z"
   },
   {
    "duration": 76,
    "start_time": "2023-07-13T04:15:34.758Z"
   },
   {
    "duration": 9,
    "start_time": "2023-07-13T04:15:34.837Z"
   },
   {
    "duration": 298,
    "start_time": "2023-07-13T04:15:34.848Z"
   },
   {
    "duration": 276,
    "start_time": "2023-07-13T04:15:35.148Z"
   },
   {
    "duration": 7,
    "start_time": "2023-07-13T04:15:35.427Z"
   },
   {
    "duration": 360,
    "start_time": "2023-07-13T04:15:35.437Z"
   },
   {
    "duration": 48,
    "start_time": "2023-07-13T06:58:24.293Z"
   },
   {
    "duration": 1398,
    "start_time": "2023-07-13T06:58:29.493Z"
   },
   {
    "duration": 510,
    "start_time": "2023-07-13T06:58:30.893Z"
   },
   {
    "duration": 16,
    "start_time": "2023-07-13T06:58:31.405Z"
   },
   {
    "duration": 52,
    "start_time": "2023-07-13T06:58:31.423Z"
   },
   {
    "duration": 37,
    "start_time": "2023-07-13T06:58:31.478Z"
   },
   {
    "duration": 45,
    "start_time": "2023-07-13T06:58:31.517Z"
   },
   {
    "duration": 97,
    "start_time": "2023-07-13T06:58:31.564Z"
   },
   {
    "duration": 61,
    "start_time": "2023-07-13T06:58:31.663Z"
   },
   {
    "duration": 60,
    "start_time": "2023-07-13T06:58:31.727Z"
   },
   {
    "duration": 69,
    "start_time": "2023-07-13T06:58:31.789Z"
   },
   {
    "duration": 20,
    "start_time": "2023-07-13T06:58:31.859Z"
   },
   {
    "duration": 26,
    "start_time": "2023-07-13T06:58:31.881Z"
   },
   {
    "duration": 25,
    "start_time": "2023-07-13T06:58:31.912Z"
   },
   {
    "duration": 44,
    "start_time": "2023-07-13T06:58:31.940Z"
   },
   {
    "duration": 48,
    "start_time": "2023-07-13T06:58:31.986Z"
   },
   {
    "duration": 91,
    "start_time": "2023-07-13T06:58:32.036Z"
   },
   {
    "duration": 15,
    "start_time": "2023-07-13T06:58:32.129Z"
   },
   {
    "duration": 51,
    "start_time": "2023-07-13T06:58:32.146Z"
   },
   {
    "duration": 23,
    "start_time": "2023-07-13T06:58:32.199Z"
   },
   {
    "duration": 43,
    "start_time": "2023-07-13T06:58:32.223Z"
   },
   {
    "duration": 399,
    "start_time": "2023-07-13T06:58:32.269Z"
   },
   {
    "duration": 17,
    "start_time": "2023-07-13T06:58:32.670Z"
   },
   {
    "duration": 37,
    "start_time": "2023-07-13T06:58:32.689Z"
   },
   {
    "duration": 26,
    "start_time": "2023-07-13T06:58:32.728Z"
   },
   {
    "duration": 50,
    "start_time": "2023-07-13T06:58:32.756Z"
   },
   {
    "duration": 75,
    "start_time": "2023-07-13T06:58:32.808Z"
   },
   {
    "duration": 24,
    "start_time": "2023-07-13T06:58:32.885Z"
   },
   {
    "duration": 129,
    "start_time": "2023-07-13T06:58:32.910Z"
   },
   {
    "duration": 10,
    "start_time": "2023-07-13T06:58:33.041Z"
   },
   {
    "duration": 44,
    "start_time": "2023-07-13T06:58:33.054Z"
   },
   {
    "duration": 57,
    "start_time": "2023-07-13T06:58:33.101Z"
   },
   {
    "duration": 45,
    "start_time": "2023-07-13T06:58:33.160Z"
   },
   {
    "duration": 21,
    "start_time": "2023-07-13T06:58:33.207Z"
   },
   {
    "duration": 177,
    "start_time": "2023-07-13T06:58:33.230Z"
   },
   {
    "duration": 9,
    "start_time": "2023-07-13T06:58:33.409Z"
   },
   {
    "duration": 56,
    "start_time": "2023-07-13T06:58:33.419Z"
   },
   {
    "duration": 32,
    "start_time": "2023-07-13T06:58:33.477Z"
   },
   {
    "duration": 10,
    "start_time": "2023-07-13T06:58:33.511Z"
   },
   {
    "duration": 12,
    "start_time": "2023-07-13T06:58:33.522Z"
   },
   {
    "duration": 24,
    "start_time": "2023-07-13T06:58:33.536Z"
   },
   {
    "duration": 34,
    "start_time": "2023-07-13T06:58:33.563Z"
   },
   {
    "duration": 32,
    "start_time": "2023-07-13T06:58:33.599Z"
   },
   {
    "duration": 52,
    "start_time": "2023-07-13T06:58:33.633Z"
   },
   {
    "duration": 25,
    "start_time": "2023-07-13T06:58:33.687Z"
   },
   {
    "duration": 5,
    "start_time": "2023-07-13T06:58:33.714Z"
   },
   {
    "duration": 21,
    "start_time": "2023-07-13T06:58:33.721Z"
   },
   {
    "duration": 14,
    "start_time": "2023-07-13T06:58:33.743Z"
   },
   {
    "duration": 118,
    "start_time": "2023-07-13T06:58:33.759Z"
   },
   {
    "duration": 49,
    "start_time": "2023-07-13T06:58:33.879Z"
   },
   {
    "duration": 53,
    "start_time": "2023-07-13T06:58:33.931Z"
   },
   {
    "duration": 63,
    "start_time": "2023-07-13T06:58:33.986Z"
   },
   {
    "duration": 45,
    "start_time": "2023-07-13T06:58:34.051Z"
   },
   {
    "duration": 19,
    "start_time": "2023-07-13T06:58:34.098Z"
   },
   {
    "duration": 248,
    "start_time": "2023-07-13T06:58:34.120Z"
   },
   {
    "duration": 245,
    "start_time": "2023-07-13T06:58:34.370Z"
   },
   {
    "duration": 7,
    "start_time": "2023-07-13T06:58:34.616Z"
   },
   {
    "duration": 264,
    "start_time": "2023-07-13T06:58:34.624Z"
   },
   {
    "duration": 19,
    "start_time": "2023-07-13T06:58:39.454Z"
   },
   {
    "duration": 1192,
    "start_time": "2023-07-13T07:35:01.494Z"
   },
   {
    "duration": 632,
    "start_time": "2023-07-13T07:35:02.688Z"
   },
   {
    "duration": 11,
    "start_time": "2023-07-13T07:35:03.322Z"
   },
   {
    "duration": 42,
    "start_time": "2023-07-13T07:35:03.335Z"
   },
   {
    "duration": 17,
    "start_time": "2023-07-13T07:35:03.380Z"
   },
   {
    "duration": 27,
    "start_time": "2023-07-13T07:35:03.399Z"
   },
   {
    "duration": 102,
    "start_time": "2023-07-13T07:35:03.428Z"
   },
   {
    "duration": 49,
    "start_time": "2023-07-13T07:35:03.532Z"
   },
   {
    "duration": 66,
    "start_time": "2023-07-13T07:35:03.583Z"
   },
   {
    "duration": 64,
    "start_time": "2023-07-13T07:35:03.651Z"
   },
   {
    "duration": 18,
    "start_time": "2023-07-13T07:35:03.717Z"
   },
   {
    "duration": 27,
    "start_time": "2023-07-13T07:35:03.737Z"
   },
   {
    "duration": 9,
    "start_time": "2023-07-13T07:35:03.766Z"
   },
   {
    "duration": 24,
    "start_time": "2023-07-13T07:35:03.778Z"
   },
   {
    "duration": 21,
    "start_time": "2023-07-13T07:35:03.804Z"
   },
   {
    "duration": 48,
    "start_time": "2023-07-13T07:35:03.827Z"
   },
   {
    "duration": 13,
    "start_time": "2023-07-13T07:35:03.878Z"
   },
   {
    "duration": 39,
    "start_time": "2023-07-13T07:35:03.892Z"
   },
   {
    "duration": 32,
    "start_time": "2023-07-13T07:35:03.933Z"
   },
   {
    "duration": 28,
    "start_time": "2023-07-13T07:35:03.967Z"
   },
   {
    "duration": 293,
    "start_time": "2023-07-13T07:35:03.996Z"
   },
   {
    "duration": 31,
    "start_time": "2023-07-13T07:35:04.291Z"
   },
   {
    "duration": 18,
    "start_time": "2023-07-13T07:35:04.324Z"
   },
   {
    "duration": 21,
    "start_time": "2023-07-13T07:35:04.343Z"
   },
   {
    "duration": 19,
    "start_time": "2023-07-13T07:35:04.366Z"
   },
   {
    "duration": 47,
    "start_time": "2023-07-13T07:35:04.413Z"
   },
   {
    "duration": 23,
    "start_time": "2023-07-13T07:35:04.461Z"
   },
   {
    "duration": 78,
    "start_time": "2023-07-13T07:35:04.486Z"
   },
   {
    "duration": 9,
    "start_time": "2023-07-13T07:35:04.566Z"
   },
   {
    "duration": 11,
    "start_time": "2023-07-13T07:35:04.577Z"
   },
   {
    "duration": 11,
    "start_time": "2023-07-13T07:35:04.590Z"
   },
   {
    "duration": 11,
    "start_time": "2023-07-13T07:35:04.614Z"
   },
   {
    "duration": 6,
    "start_time": "2023-07-13T07:35:04.627Z"
   },
   {
    "duration": 163,
    "start_time": "2023-07-13T07:35:04.635Z"
   },
   {
    "duration": 16,
    "start_time": "2023-07-13T07:35:04.801Z"
   },
   {
    "duration": 10,
    "start_time": "2023-07-13T07:35:04.819Z"
   },
   {
    "duration": 35,
    "start_time": "2023-07-13T07:35:04.831Z"
   },
   {
    "duration": 10,
    "start_time": "2023-07-13T07:35:04.868Z"
   },
   {
    "duration": 15,
    "start_time": "2023-07-13T07:35:04.879Z"
   },
   {
    "duration": 10,
    "start_time": "2023-07-13T07:35:04.896Z"
   },
   {
    "duration": 13,
    "start_time": "2023-07-13T07:35:04.914Z"
   },
   {
    "duration": 22,
    "start_time": "2023-07-13T07:35:04.929Z"
   },
   {
    "duration": 44,
    "start_time": "2023-07-13T07:35:04.953Z"
   },
   {
    "duration": 25,
    "start_time": "2023-07-13T07:35:05.000Z"
   },
   {
    "duration": 6,
    "start_time": "2023-07-13T07:35:05.027Z"
   },
   {
    "duration": 21,
    "start_time": "2023-07-13T07:35:05.035Z"
   },
   {
    "duration": 35,
    "start_time": "2023-07-13T07:35:05.058Z"
   },
   {
    "duration": 76,
    "start_time": "2023-07-13T07:35:05.095Z"
   },
   {
    "duration": 40,
    "start_time": "2023-07-13T07:35:05.173Z"
   },
   {
    "duration": 59,
    "start_time": "2023-07-13T07:35:05.215Z"
   },
   {
    "duration": 45,
    "start_time": "2023-07-13T07:35:05.276Z"
   },
   {
    "duration": 43,
    "start_time": "2023-07-13T07:35:05.323Z"
   },
   {
    "duration": 7,
    "start_time": "2023-07-13T07:35:05.367Z"
   },
   {
    "duration": 261,
    "start_time": "2023-07-13T07:35:05.375Z"
   },
   {
    "duration": 243,
    "start_time": "2023-07-13T07:35:05.638Z"
   },
   {
    "duration": 7,
    "start_time": "2023-07-13T07:35:05.883Z"
   },
   {
    "duration": 261,
    "start_time": "2023-07-13T07:35:05.892Z"
   },
   {
    "duration": 1168,
    "start_time": "2023-07-15T08:06:33.610Z"
   },
   {
    "duration": 508,
    "start_time": "2023-07-15T08:06:34.781Z"
   },
   {
    "duration": 10,
    "start_time": "2023-07-15T08:06:35.291Z"
   },
   {
    "duration": 35,
    "start_time": "2023-07-15T08:06:35.302Z"
   },
   {
    "duration": 24,
    "start_time": "2023-07-15T08:06:35.339Z"
   },
   {
    "duration": 33,
    "start_time": "2023-07-15T08:06:35.364Z"
   },
   {
    "duration": 70,
    "start_time": "2023-07-15T08:06:35.399Z"
   },
   {
    "duration": 54,
    "start_time": "2023-07-15T08:06:35.470Z"
   },
   {
    "duration": 55,
    "start_time": "2023-07-15T08:06:35.526Z"
   },
   {
    "duration": 62,
    "start_time": "2023-07-15T08:06:35.583Z"
   },
   {
    "duration": 17,
    "start_time": "2023-07-15T08:06:35.646Z"
   },
   {
    "duration": 19,
    "start_time": "2023-07-15T08:06:35.664Z"
   },
   {
    "duration": 43,
    "start_time": "2023-07-15T08:06:35.685Z"
   },
   {
    "duration": 29,
    "start_time": "2023-07-15T08:06:35.730Z"
   },
   {
    "duration": 30,
    "start_time": "2023-07-15T08:06:35.761Z"
   },
   {
    "duration": 79,
    "start_time": "2023-07-15T08:06:35.793Z"
   },
   {
    "duration": 15,
    "start_time": "2023-07-15T08:06:35.874Z"
   },
   {
    "duration": 20,
    "start_time": "2023-07-15T08:06:35.890Z"
   },
   {
    "duration": 28,
    "start_time": "2023-07-15T08:06:35.912Z"
   },
   {
    "duration": 52,
    "start_time": "2023-07-15T08:06:35.942Z"
   },
   {
    "duration": 295,
    "start_time": "2023-07-15T08:06:35.995Z"
   },
   {
    "duration": 14,
    "start_time": "2023-07-15T08:06:36.291Z"
   },
   {
    "duration": 235,
    "start_time": "2023-07-15T08:06:36.306Z"
   },
   {
    "duration": 235,
    "start_time": "2023-07-15T08:06:36.542Z"
   },
   {
    "duration": 2,
    "start_time": "2023-07-15T08:06:36.779Z"
   },
   {
    "duration": 22,
    "start_time": "2023-07-15T08:06:36.783Z"
   },
   {
    "duration": 30,
    "start_time": "2023-07-15T08:06:36.807Z"
   },
   {
    "duration": 21,
    "start_time": "2023-07-15T08:06:36.838Z"
   },
   {
    "duration": 13,
    "start_time": "2023-07-15T08:06:36.860Z"
   },
   {
    "duration": 61,
    "start_time": "2023-07-15T08:06:36.875Z"
   },
   {
    "duration": 21,
    "start_time": "2023-07-15T08:06:36.938Z"
   },
   {
    "duration": 68,
    "start_time": "2023-07-15T08:06:36.961Z"
   },
   {
    "duration": 10,
    "start_time": "2023-07-15T08:06:37.031Z"
   },
   {
    "duration": 5,
    "start_time": "2023-07-15T08:06:37.042Z"
   },
   {
    "duration": 13,
    "start_time": "2023-07-15T08:06:37.048Z"
   },
   {
    "duration": 15,
    "start_time": "2023-07-15T08:06:37.063Z"
   },
   {
    "duration": 6,
    "start_time": "2023-07-15T08:06:37.079Z"
   },
   {
    "duration": 140,
    "start_time": "2023-07-15T08:06:37.087Z"
   },
   {
    "duration": 312,
    "start_time": "2023-07-15T08:06:37.229Z"
   },
   {
    "duration": 8,
    "start_time": "2023-07-15T08:06:37.542Z"
   },
   {
    "duration": 6,
    "start_time": "2023-07-15T08:06:37.553Z"
   },
   {
    "duration": 21,
    "start_time": "2023-07-15T08:06:37.560Z"
   },
   {
    "duration": 43,
    "start_time": "2023-07-15T08:06:37.583Z"
   },
   {
    "duration": 4,
    "start_time": "2023-07-15T08:06:37.628Z"
   },
   {
    "duration": 11,
    "start_time": "2023-07-15T08:06:37.633Z"
   },
   {
    "duration": 19,
    "start_time": "2023-07-15T08:06:37.645Z"
   },
   {
    "duration": 8,
    "start_time": "2023-07-15T08:06:37.665Z"
   },
   {
    "duration": 70,
    "start_time": "2023-07-15T08:06:37.675Z"
   },
   {
    "duration": 26,
    "start_time": "2023-07-15T08:06:37.746Z"
   },
   {
    "duration": 4,
    "start_time": "2023-07-15T08:06:37.774Z"
   },
   {
    "duration": 7,
    "start_time": "2023-07-15T08:06:37.780Z"
   },
   {
    "duration": 10,
    "start_time": "2023-07-15T08:06:37.788Z"
   },
   {
    "duration": 61,
    "start_time": "2023-07-15T08:06:37.800Z"
   },
   {
    "duration": 36,
    "start_time": "2023-07-15T08:06:37.863Z"
   },
   {
    "duration": 55,
    "start_time": "2023-07-15T08:06:37.901Z"
   },
   {
    "duration": 42,
    "start_time": "2023-07-15T08:06:37.958Z"
   },
   {
    "duration": 55,
    "start_time": "2023-07-15T08:06:38.001Z"
   },
   {
    "duration": 6,
    "start_time": "2023-07-15T08:06:38.058Z"
   },
   {
    "duration": 222,
    "start_time": "2023-07-15T08:06:38.065Z"
   },
   {
    "duration": 210,
    "start_time": "2023-07-15T08:06:38.289Z"
   },
   {
    "duration": 6,
    "start_time": "2023-07-15T08:06:38.501Z"
   },
   {
    "duration": 238,
    "start_time": "2023-07-15T08:06:38.520Z"
   },
   {
    "duration": 9,
    "start_time": "2023-07-15T09:38:39.842Z"
   },
   {
    "duration": 255,
    "start_time": "2023-07-15T09:42:21.426Z"
   },
   {
    "duration": 237,
    "start_time": "2023-07-15T09:42:27.105Z"
   },
   {
    "duration": 899,
    "start_time": "2023-07-15T09:42:41.828Z"
   },
   {
    "duration": 303,
    "start_time": "2023-07-15T09:43:34.202Z"
   },
   {
    "duration": 223,
    "start_time": "2023-07-15T09:44:18.562Z"
   },
   {
    "duration": 44231,
    "start_time": "2023-07-15T09:45:37.545Z"
   },
   {
    "duration": 24983,
    "start_time": "2023-07-15T09:46:45.194Z"
   },
   {
    "duration": 1438,
    "start_time": "2023-07-15T10:08:00.316Z"
   },
   {
    "duration": 636,
    "start_time": "2023-07-15T10:08:01.756Z"
   },
   {
    "duration": 13,
    "start_time": "2023-07-15T10:08:02.394Z"
   },
   {
    "duration": 43,
    "start_time": "2023-07-15T10:08:02.409Z"
   },
   {
    "duration": 9,
    "start_time": "2023-07-15T10:08:02.454Z"
   },
   {
    "duration": 36,
    "start_time": "2023-07-15T10:08:02.465Z"
   },
   {
    "duration": 95,
    "start_time": "2023-07-15T10:08:02.503Z"
   },
   {
    "duration": 48,
    "start_time": "2023-07-15T10:08:02.600Z"
   },
   {
    "duration": 75,
    "start_time": "2023-07-15T10:08:02.650Z"
   },
   {
    "duration": 46,
    "start_time": "2023-07-15T10:08:02.727Z"
   },
   {
    "duration": 22,
    "start_time": "2023-07-15T10:08:02.775Z"
   },
   {
    "duration": 27,
    "start_time": "2023-07-15T10:08:02.798Z"
   },
   {
    "duration": 25,
    "start_time": "2023-07-15T10:08:02.827Z"
   },
   {
    "duration": 27,
    "start_time": "2023-07-15T10:08:02.854Z"
   },
   {
    "duration": 21,
    "start_time": "2023-07-15T10:08:02.883Z"
   },
   {
    "duration": 53,
    "start_time": "2023-07-15T10:08:02.905Z"
   },
   {
    "duration": 13,
    "start_time": "2023-07-15T10:08:02.960Z"
   },
   {
    "duration": 24,
    "start_time": "2023-07-15T10:08:02.974Z"
   },
   {
    "duration": 19,
    "start_time": "2023-07-15T10:08:02.999Z"
   },
   {
    "duration": 19,
    "start_time": "2023-07-15T10:08:03.019Z"
   },
   {
    "duration": 325,
    "start_time": "2023-07-15T10:08:03.039Z"
   },
   {
    "duration": 15,
    "start_time": "2023-07-15T10:08:03.366Z"
   },
   {
    "duration": 20,
    "start_time": "2023-07-15T10:08:03.383Z"
   },
   {
    "duration": 255,
    "start_time": "2023-07-15T10:08:03.404Z"
   },
   {
    "duration": 264,
    "start_time": "2023-07-15T10:08:03.661Z"
   },
   {
    "duration": 2,
    "start_time": "2023-07-15T10:08:03.927Z"
   },
   {
    "duration": 36,
    "start_time": "2023-07-15T10:08:03.931Z"
   },
   {
    "duration": 20,
    "start_time": "2023-07-15T10:08:03.970Z"
   },
   {
    "duration": 34,
    "start_time": "2023-07-15T10:08:03.992Z"
   },
   {
    "duration": 34,
    "start_time": "2023-07-15T10:08:04.028Z"
   },
   {
    "duration": 57,
    "start_time": "2023-07-15T10:08:04.063Z"
   },
   {
    "duration": 22,
    "start_time": "2023-07-15T10:08:04.122Z"
   },
   {
    "duration": 102,
    "start_time": "2023-07-15T10:08:04.145Z"
   },
   {
    "duration": 14,
    "start_time": "2023-07-15T10:08:04.248Z"
   },
   {
    "duration": 12,
    "start_time": "2023-07-15T10:08:04.263Z"
   },
   {
    "duration": 26,
    "start_time": "2023-07-15T10:08:04.277Z"
   },
   {
    "duration": 19,
    "start_time": "2023-07-15T10:08:04.304Z"
   },
   {
    "duration": 48,
    "start_time": "2023-07-15T10:08:04.325Z"
   },
   {
    "duration": 160,
    "start_time": "2023-07-15T10:08:04.375Z"
   },
   {
    "duration": 334,
    "start_time": "2023-07-15T10:08:04.537Z"
   },
   {
    "duration": 10,
    "start_time": "2023-07-15T10:08:04.873Z"
   },
   {
    "duration": 67,
    "start_time": "2023-07-15T10:08:04.885Z"
   },
   {
    "duration": 40,
    "start_time": "2023-07-15T10:08:04.954Z"
   },
   {
    "duration": 32,
    "start_time": "2023-07-15T10:08:04.996Z"
   },
   {
    "duration": 10,
    "start_time": "2023-07-15T10:08:05.030Z"
   },
   {
    "duration": 27,
    "start_time": "2023-07-15T10:08:05.042Z"
   },
   {
    "duration": 75,
    "start_time": "2023-07-15T10:08:05.071Z"
   },
   {
    "duration": 24,
    "start_time": "2023-07-15T10:08:05.147Z"
   },
   {
    "duration": 53,
    "start_time": "2023-07-15T10:08:05.173Z"
   },
   {
    "duration": 19,
    "start_time": "2023-07-15T10:08:05.227Z"
   },
   {
    "duration": 11,
    "start_time": "2023-07-15T10:08:05.248Z"
   },
   {
    "duration": 15,
    "start_time": "2023-07-15T10:08:05.261Z"
   },
   {
    "duration": 21,
    "start_time": "2023-07-15T10:08:05.277Z"
   },
   {
    "duration": 76,
    "start_time": "2023-07-15T10:08:05.300Z"
   },
   {
    "duration": 45,
    "start_time": "2023-07-15T10:08:05.377Z"
   },
   {
    "duration": 45,
    "start_time": "2023-07-15T10:08:05.423Z"
   },
   {
    "duration": 65,
    "start_time": "2023-07-15T10:08:05.470Z"
   },
   {
    "duration": 44,
    "start_time": "2023-07-15T10:08:05.537Z"
   },
   {
    "duration": 7,
    "start_time": "2023-07-15T10:08:05.583Z"
   },
   {
    "duration": 277,
    "start_time": "2023-07-15T10:08:05.591Z"
   },
   {
    "duration": 258,
    "start_time": "2023-07-15T10:08:05.870Z"
   },
   {
    "duration": 6,
    "start_time": "2023-07-15T10:08:06.129Z"
   },
   {
    "duration": 289,
    "start_time": "2023-07-15T10:08:06.137Z"
   },
   {
    "duration": 1621,
    "start_time": "2023-07-15T10:09:44.911Z"
   },
   {
    "duration": 381,
    "start_time": "2023-07-15T10:09:46.534Z"
   },
   {
    "duration": 10,
    "start_time": "2023-07-15T10:09:46.917Z"
   },
   {
    "duration": 29,
    "start_time": "2023-07-15T10:09:46.929Z"
   },
   {
    "duration": 8,
    "start_time": "2023-07-15T10:09:46.960Z"
   },
   {
    "duration": 24,
    "start_time": "2023-07-15T10:09:46.969Z"
   },
   {
    "duration": 59,
    "start_time": "2023-07-15T10:09:46.995Z"
   },
   {
    "duration": 44,
    "start_time": "2023-07-15T10:09:47.057Z"
   },
   {
    "duration": 62,
    "start_time": "2023-07-15T10:09:47.102Z"
   },
   {
    "duration": 42,
    "start_time": "2023-07-15T10:09:47.165Z"
   },
   {
    "duration": 16,
    "start_time": "2023-07-15T10:09:47.221Z"
   },
   {
    "duration": 26,
    "start_time": "2023-07-15T10:09:47.239Z"
   },
   {
    "duration": 63,
    "start_time": "2023-07-15T10:09:47.266Z"
   },
   {
    "duration": 44,
    "start_time": "2023-07-15T10:09:47.331Z"
   },
   {
    "duration": 21,
    "start_time": "2023-07-15T10:09:47.376Z"
   },
   {
    "duration": 37,
    "start_time": "2023-07-15T10:09:47.399Z"
   },
   {
    "duration": 11,
    "start_time": "2023-07-15T10:09:47.437Z"
   },
   {
    "duration": 20,
    "start_time": "2023-07-15T10:09:47.449Z"
   },
   {
    "duration": 20,
    "start_time": "2023-07-15T10:09:47.470Z"
   },
   {
    "duration": 18,
    "start_time": "2023-07-15T10:09:47.492Z"
   },
   {
    "duration": 303,
    "start_time": "2023-07-15T10:09:47.511Z"
   },
   {
    "duration": 13,
    "start_time": "2023-07-15T10:09:47.816Z"
   },
   {
    "duration": 8,
    "start_time": "2023-07-15T10:09:47.831Z"
   },
   {
    "duration": 244,
    "start_time": "2023-07-15T10:09:47.840Z"
   },
   {
    "duration": 239,
    "start_time": "2023-07-15T10:09:48.086Z"
   },
   {
    "duration": 2,
    "start_time": "2023-07-15T10:09:48.327Z"
   },
   {
    "duration": 82,
    "start_time": "2023-07-15T10:09:48.330Z"
   },
   {
    "duration": 17,
    "start_time": "2023-07-15T10:09:48.414Z"
   },
   {
    "duration": 20,
    "start_time": "2023-07-15T10:09:48.432Z"
   },
   {
    "duration": 11,
    "start_time": "2023-07-15T10:09:48.454Z"
   },
   {
    "duration": 63,
    "start_time": "2023-07-15T10:09:48.466Z"
   },
   {
    "duration": 20,
    "start_time": "2023-07-15T10:09:48.531Z"
   },
   {
    "duration": 56,
    "start_time": "2023-07-15T10:09:48.553Z"
   },
   {
    "duration": 12,
    "start_time": "2023-07-15T10:09:48.621Z"
   },
   {
    "duration": 4,
    "start_time": "2023-07-15T10:09:48.635Z"
   },
   {
    "duration": 13,
    "start_time": "2023-07-15T10:09:48.641Z"
   },
   {
    "duration": 11,
    "start_time": "2023-07-15T10:09:48.655Z"
   },
   {
    "duration": 7,
    "start_time": "2023-07-15T10:09:48.667Z"
   },
   {
    "duration": 156,
    "start_time": "2023-07-15T10:09:48.675Z"
   },
   {
    "duration": 360,
    "start_time": "2023-07-15T10:09:48.832Z"
   },
   {
    "duration": 8,
    "start_time": "2023-07-15T10:09:49.196Z"
   },
   {
    "duration": 8,
    "start_time": "2023-07-15T10:09:49.206Z"
   },
   {
    "duration": 28,
    "start_time": "2023-07-15T10:09:49.216Z"
   },
   {
    "duration": 8,
    "start_time": "2023-07-15T10:09:49.246Z"
   },
   {
    "duration": 4,
    "start_time": "2023-07-15T10:09:49.255Z"
   },
   {
    "duration": 11,
    "start_time": "2023-07-15T10:09:49.260Z"
   },
   {
    "duration": 54,
    "start_time": "2023-07-15T10:09:49.273Z"
   },
   {
    "duration": 9,
    "start_time": "2023-07-15T10:09:49.328Z"
   },
   {
    "duration": 37,
    "start_time": "2023-07-15T10:09:49.339Z"
   },
   {
    "duration": 19,
    "start_time": "2023-07-15T10:09:49.378Z"
   },
   {
    "duration": 25,
    "start_time": "2023-07-15T10:09:49.399Z"
   },
   {
    "duration": 18,
    "start_time": "2023-07-15T10:09:49.426Z"
   },
   {
    "duration": 10,
    "start_time": "2023-07-15T10:09:49.446Z"
   },
   {
    "duration": 53,
    "start_time": "2023-07-15T10:09:49.457Z"
   },
   {
    "duration": 43,
    "start_time": "2023-07-15T10:09:49.512Z"
   },
   {
    "duration": 42,
    "start_time": "2023-07-15T10:09:49.556Z"
   },
   {
    "duration": 72,
    "start_time": "2023-07-15T10:09:49.600Z"
   },
   {
    "duration": 56,
    "start_time": "2023-07-15T10:09:49.674Z"
   },
   {
    "duration": 6,
    "start_time": "2023-07-15T10:09:49.732Z"
   },
   {
    "duration": 229,
    "start_time": "2023-07-15T10:09:49.739Z"
   },
   {
    "duration": 223,
    "start_time": "2023-07-15T10:09:49.969Z"
   },
   {
    "duration": 6,
    "start_time": "2023-07-15T10:09:50.194Z"
   },
   {
    "duration": 251,
    "start_time": "2023-07-15T10:09:50.201Z"
   }
  ],
  "kernelspec": {
   "display_name": "Python 3 (ipykernel)",
   "language": "python",
   "name": "python3"
  },
  "language_info": {
   "codemirror_mode": {
    "name": "ipython",
    "version": 3
   },
   "file_extension": ".py",
   "mimetype": "text/x-python",
   "name": "python",
   "nbconvert_exporter": "python",
   "pygments_lexer": "ipython3",
   "version": "3.9.16"
  },
  "toc": {
   "base_numbering": 1,
   "nav_menu": {},
   "number_sections": true,
   "sideBar": true,
   "skip_h1_title": true,
   "title_cell": "Table of Contents",
   "title_sidebar": "Contents",
   "toc_cell": false,
   "toc_position": {},
   "toc_section_display": true,
   "toc_window_display": false
  }
 },
 "nbformat": 4,
 "nbformat_minor": 2
}
